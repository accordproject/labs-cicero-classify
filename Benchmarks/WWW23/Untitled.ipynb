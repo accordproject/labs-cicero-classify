{
 "cells": [
  {
   "cell_type": "code",
   "execution_count": 10,
   "id": "e7fc014a",
   "metadata": {
    "ExecuteTime": {
     "end_time": "2023-02-20T07:15:42.106802Z",
     "start_time": "2023-02-20T07:15:42.104463Z"
    }
   },
   "outputs": [],
   "source": [
    "import requests\n",
    "import json"
   ]
  },
  {
   "cell_type": "code",
   "execution_count": 11,
   "id": "cc5b1485",
   "metadata": {
    "ExecuteTime": {
     "end_time": "2023-02-20T07:15:42.263302Z",
     "start_time": "2023-02-20T07:15:42.260772Z"
    }
   },
   "outputs": [],
   "source": [
    "data = \"\"\"After execution of this Agreement at 50 Bidborough Street, London, \"Dan\" shall pay the full purchase price to \"Jerome\" in the amount of 3.14 EUR upon demand by \"Jerome\".\"\"\""
   ]
  },
  {
   "cell_type": "code",
   "execution_count": 12,
   "id": "67217086",
   "metadata": {
    "ExecuteTime": {
     "end_time": "2023-02-20T07:15:43.000115Z",
     "start_time": "2023-02-20T07:15:42.450264Z"
    }
   },
   "outputs": [],
   "source": [
    "res = requests.post(\"https://gsoc.api.eason.tw/api/v1/models/NER/labelText\", data = json.dumps({\n",
    "  \"return_top_n\": 3,\n",
    "  \"return_higher_than\": 0,\n",
    "  \"wanted_labels\": [\n",
    "    \"*\"\n",
    "  ],\n",
    "  \"specify_model_version\": {},\n",
    "  \"text\": data\n",
    "}))"
   ]
  },
  {
   "cell_type": "code",
   "execution_count": 15,
   "id": "20ec4c43",
   "metadata": {
    "ExecuteTime": {
     "end_time": "2023-02-20T07:21:21.333426Z",
     "start_time": "2023-02-20T07:21:21.325180Z"
    }
   },
   "outputs": [],
   "source": [
    "data = res.json()"
   ]
  },
  {
   "cell_type": "code",
   "execution_count": 23,
   "id": "6393622b",
   "metadata": {
    "ExecuteTime": {
     "end_time": "2023-02-20T07:22:30.915033Z",
     "start_time": "2023-02-20T07:22:30.911575Z"
    }
   },
   "outputs": [
    {
     "data": {
      "text/plain": [
       "42"
      ]
     },
     "execution_count": 23,
     "metadata": {},
     "output_type": "execute_result"
    }
   ],
   "source": [
    "len(data['prediction'])"
   ]
  },
  {
   "cell_type": "code",
   "execution_count": null,
   "id": "fcbc05ac",
   "metadata": {},
   "outputs": [],
   "source": []
  },
  {
   "cell_type": "code",
   "execution_count": null,
   "id": "f6a0350a",
   "metadata": {},
   "outputs": [],
   "source": []
  },
  {
   "cell_type": "code",
   "execution_count": 19,
   "id": "e578e1e8",
   "metadata": {
    "ExecuteTime": {
     "end_time": "2023-02-20T07:21:38.264188Z",
     "start_time": "2023-02-20T07:21:38.257334Z"
    }
   },
   "outputs": [
    {
     "name": "stdout",
     "output_type": "stream",
     "text": [
      "After\n",
      "Ġexecution\n",
      "Ġof\n",
      "Ġthis\n",
      "ĠAgreement\n",
      "Ġat\n",
      "Ġ50\n",
      "ĠBid\n",
      "borough\n",
      "ĠStreet\n",
      ",\n",
      "ĠLondon\n",
      ",\n",
      "Ġ\"\n",
      "Dan\n",
      "\"\n",
      "Ġshall\n",
      "Ġpay\n",
      "Ġthe\n",
      "Ġfull\n",
      "Ġpurchase\n",
      "Ġprice\n",
      "Ġto\n",
      "Ġ\"\n",
      "Jer\n",
      "ome\n",
      "\"\n",
      "Ġin\n",
      "Ġthe\n",
      "Ġamount\n",
      "Ġof\n",
      "Ġ3\n",
      ".\n",
      "14\n",
      "ĠEUR\n",
      "Ġupon\n",
      "Ġdemand\n",
      "Ġby\n",
      "Ġ\"\n",
      "Jer\n",
      "ome\n",
      "\".\n"
     ]
    }
   ],
   "source": [
    "for i in data['prediction']:\n",
    "    print(i['token'])"
   ]
  },
  {
   "cell_type": "code",
   "execution_count": 18,
   "id": "03390bf8",
   "metadata": {
    "ExecuteTime": {
     "end_time": "2023-02-20T07:21:31.024308Z",
     "start_time": "2023-02-20T07:21:31.020764Z"
    }
   },
   "outputs": [
    {
     "data": {
      "text/plain": [
       "{'token': '\".',\n",
       " 'predictions': [{'type': 'O', 'confidence': 0.72606360912323},\n",
       "  {'type': 'String', 'confidence': 0.4081948697566986},\n",
       "  {'type': 'Party', 'confidence': 0.38571491837501526}]}"
      ]
     },
     "execution_count": 18,
     "metadata": {},
     "output_type": "execute_result"
    }
   ],
   "source": [
    "i"
   ]
  },
  {
   "cell_type": "code",
   "execution_count": null,
   "id": "dac4c349",
   "metadata": {},
   "outputs": [],
   "source": []
  }
 ],
 "metadata": {
  "kernelspec": {
   "display_name": "Python 3",
   "language": "python",
   "name": "python3"
  },
  "language_info": {
   "codemirror_mode": {
    "name": "ipython",
    "version": 3
   },
   "file_extension": ".py",
   "mimetype": "text/x-python",
   "name": "python",
   "nbconvert_exporter": "python",
   "pygments_lexer": "ipython3",
   "version": "3.8.3"
  }
 },
 "nbformat": 4,
 "nbformat_minor": 5
}
