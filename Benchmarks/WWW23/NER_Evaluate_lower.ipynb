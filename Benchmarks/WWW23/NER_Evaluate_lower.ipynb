{
 "cells": [
  {
   "cell_type": "code",
   "execution_count": 1,
   "id": "7af0fe64",
   "metadata": {
    "ExecuteTime": {
     "end_time": "2023-02-16T14:34:13.532172Z",
     "start_time": "2023-02-16T14:34:13.217889Z"
    }
   },
   "outputs": [],
   "source": [
    "import pandas as pd\n",
    "import numpy as np"
   ]
  },
  {
   "cell_type": "code",
   "execution_count": 12,
   "id": "fc7ae25a",
   "metadata": {
    "ExecuteTime": {
     "end_time": "2023-02-16T14:35:53.890780Z",
     "start_time": "2023-02-16T14:35:53.612709Z"
    }
   },
   "outputs": [],
   "source": [
    "import json\n",
    "with open(\"./Accord_all_contract_NER_lower.json\", \"r\") as f:\n",
    "    templates = json.load(f)"
   ]
  },
  {
   "cell_type": "code",
   "execution_count": 13,
   "id": "f509c2c7",
   "metadata": {
    "ExecuteTime": {
     "end_time": "2023-02-16T14:35:53.895524Z",
     "start_time": "2023-02-16T14:35:53.892069Z"
    }
   },
   "outputs": [
    {
     "data": {
      "text/plain": [
       "dict_keys(['helloworld', 'signature-block-title-name-date', 'latedeliveryandpenalty-currency-conversion', 'payment-upon-delivery', 'supply-agreement-loc', 'latedeliveryandpenalty', 'promissory-note', 'latedeliveryandpenalty-optional-this', 'rental-deposit-with', 'certificate-of-incorporation', 'empty', 'car-rental-tr', 'fragile-goods', 'supplyagreement', 'promissory-note-md', 'lateinvoicewithpayment', 'bill-of-lading', 'volumediscount', 'perishable-goods', 'servicelevelagreement', 'supplyagreement-perishable-goods', 'docusign-po-failure', 'fixed-interests-static', 'company-information', 'volumediscountolist', 'contact-information', 'acceptance-of-delivery', 'installment-sale', 'hellomodule', 'copyright-license', 'saft', 'minilatedeliveryandpenalty-capped', 'payment-upon-iot', 'volumediscountulist', 'latedeliveryandpenalty-optional', 'safte', 'interest-rate-swap', 'docusign-connect', 'demandforecast', 'rental-deposit', 'sales-contract-ru', 'empty-contract', 'one-time-payment-tr', 'simplelatedeliveryandpenalty', 'ip-payment', 'minilatedeliveryandpenalty', 'online-payment-contract-tr', 'full-payment-upon-demand', 'project-information', 'helloworldstate', 'latedeliveryandpenalty-else', 'fixed-interests', 'full-payment-upon-signature', 'eat-apples', 'minilatedeliveryandpenalty-payment', 'payment-upon-signature'])"
      ]
     },
     "execution_count": 13,
     "metadata": {},
     "output_type": "execute_result"
    }
   ],
   "source": [
    "templates.keys()"
   ]
  },
  {
   "cell_type": "code",
   "execution_count": 14,
   "id": "6b264cb3",
   "metadata": {
    "ExecuteTime": {
     "end_time": "2023-02-16T14:35:57.996807Z",
     "start_time": "2023-02-16T14:35:53.991748Z"
    }
   },
   "outputs": [
    {
     "name": "stderr",
     "output_type": "stream",
     "text": [
      "  0%|                                   | 0/56 [00:00<?, ?it/s]/home/eason/anaconda3/envs/py37/lib/python3.7/site-packages/ipykernel_launcher.py:47: DeprecationWarning: elementwise comparison failed; this will raise an error in the future.\n",
      "Token indices sequence length is longer than the specified maximum sequence length for this model (3306 > 512). Running this sequence through the model will result in indexing errors\n",
      "100%|█████████████████████████| 56/56 [00:00<00:00, 116.17it/s]\n"
     ]
    }
   ],
   "source": [
    "results = {}\n",
    "\n",
    "import tqdm\n",
    "from transformers import AutoTokenizer\n",
    "# b) Load model & tokenizer\n",
    "model_name = \"roberta-base\"\n",
    "\n",
    "tokenizer = AutoTokenizer.from_pretrained(model_name)\n",
    "\n",
    "for name, template in tqdm.tqdm(templates.items()):\n",
    "\n",
    "\n",
    "    import difflib\n",
    "\n",
    "    d = difflib.Differ()\n",
    "\n",
    "\n",
    "    predict_y = []\n",
    "    for i, token in enumerate(template['NER']['prediction']):\n",
    "        try:\n",
    "            if token['prediction'][0]['type'] == \"O\":\n",
    "                predict_y.append(0)\n",
    "            else:\n",
    "                predict_y.append(1)\n",
    "        except:\n",
    "            if token['predictions'][0]['type'] == \"O\":\n",
    "                predict_y.append(0)\n",
    "            else:\n",
    "                predict_y.append(1)\n",
    "\n",
    "\n",
    "    sample = tokenizer.tokenize(\"\".join(template['/text/sample.md']))\n",
    "    grammar = tokenizer.tokenize(\"\".join(template['/text/grammar.tem.md']))\n",
    "\n",
    "    diff = d.compare(sample, grammar)\n",
    "    diff = list(diff)\n",
    "\n",
    "    sample_with_mark = list(filter(lambda x: x[0] in [\"-\", \" \"], diff))\n",
    "\n",
    "    true_y = []\n",
    "    for token in sample_with_mark:\n",
    "        if token[0] == \"-\" and token not in ['- Ġ\"', '- \"', '\".'] and '\"' not in token and \"'\" not in token:\n",
    "            true_y.append(1)\n",
    "        else:\n",
    "            true_y.append(0)\n",
    "\n",
    "    np.array(true_y) == np.array(predict_y)\n",
    "    results[name] = {\"true_y\": np.array(true_y), \"predict_y\": np.array(predict_y)}"
   ]
  },
  {
   "cell_type": "code",
   "execution_count": 15,
   "id": "258d8d35",
   "metadata": {
    "ExecuteTime": {
     "end_time": "2023-02-16T14:35:58.001834Z",
     "start_time": "2023-02-16T14:35:57.998031Z"
    }
   },
   "outputs": [
    {
     "data": {
      "text/plain": [
       "56"
      ]
     },
     "execution_count": 15,
     "metadata": {},
     "output_type": "execute_result"
    }
   ],
   "source": [
    "len(results)"
   ]
  },
  {
   "cell_type": "code",
   "execution_count": 23,
   "id": "25d935da",
   "metadata": {
    "ExecuteTime": {
     "end_time": "2023-02-16T14:36:49.557983Z",
     "start_time": "2023-02-16T14:36:49.554512Z"
    }
   },
   "outputs": [
    {
     "name": "stderr",
     "output_type": "stream",
     "text": [
      "/home/eason/anaconda3/envs/py37/lib/python3.7/site-packages/ipykernel_launcher.py:1: DeprecationWarning: elementwise comparison failed; this will raise an error in the future.\n",
      "  \"\"\"Entry point for launching an IPython kernel.\n"
     ]
    },
    {
     "data": {
      "text/plain": [
       "False"
      ]
     },
     "execution_count": 23,
     "metadata": {},
     "output_type": "execute_result"
    }
   ],
   "source": [
    "result['true_y'] == result['predict_y']"
   ]
  },
  {
   "cell_type": "code",
   "execution_count": 21,
   "id": "52362484",
   "metadata": {
    "ExecuteTime": {
     "end_time": "2023-02-16T14:36:37.759669Z",
     "start_time": "2023-02-16T14:36:37.756031Z"
    }
   },
   "outputs": [
    {
     "data": {
      "text/plain": [
       "array([0, 0, 0, 0, 0, 0, 0, 0, 0, 0, 0, 0, 0, 0, 0])"
      ]
     },
     "execution_count": 21,
     "metadata": {},
     "output_type": "execute_result"
    }
   ],
   "source": [
    "result['predict_y']"
   ]
  },
  {
   "cell_type": "code",
   "execution_count": 17,
   "id": "1a81b226",
   "metadata": {
    "ExecuteTime": {
     "end_time": "2023-02-16T14:36:20.960324Z",
     "start_time": "2023-02-16T14:36:20.956305Z"
    }
   },
   "outputs": [
    {
     "name": "stderr",
     "output_type": "stream",
     "text": [
      "/home/eason/anaconda3/envs/py37/lib/python3.7/site-packages/ipykernel_launcher.py:1: DeprecationWarning: elementwise comparison failed; this will raise an error in the future.\n",
      "  \"\"\"Entry point for launching an IPython kernel.\n"
     ]
    },
    {
     "data": {
      "text/plain": [
       "False"
      ]
     },
     "execution_count": 17,
     "metadata": {},
     "output_type": "execute_result"
    }
   ],
   "source": [
    "(result['true_y'] == result['predict_y'])"
   ]
  },
  {
   "cell_type": "code",
   "execution_count": 16,
   "id": "afd5bc68",
   "metadata": {
    "ExecuteTime": {
     "end_time": "2023-02-16T14:35:58.311170Z",
     "start_time": "2023-02-16T14:35:58.003148Z"
    }
   },
   "outputs": [
    {
     "name": "stderr",
     "output_type": "stream",
     "text": [
      "/home/eason/anaconda3/envs/py37/lib/python3.7/site-packages/ipykernel_launcher.py:5: DeprecationWarning: elementwise comparison failed; this will raise an error in the future.\n",
      "  \"\"\"\n"
     ]
    },
    {
     "ename": "AttributeError",
     "evalue": "'bool' object has no attribute 'astype'",
     "output_type": "error",
     "traceback": [
      "\u001b[0;31m---------------------------------------------------------------------------\u001b[0m",
      "\u001b[0;31mAttributeError\u001b[0m                            Traceback (most recent call last)",
      "\u001b[0;32m/tmp/ipykernel_3352/3153068339.py\u001b[0m in \u001b[0;36m<module>\u001b[0;34m\u001b[0m\n\u001b[1;32m      3\u001b[0m \u001b[0mtotal_pred_y\u001b[0m \u001b[0;34m=\u001b[0m \u001b[0mnp\u001b[0m\u001b[0;34m.\u001b[0m\u001b[0marray\u001b[0m\u001b[0;34m(\u001b[0m\u001b[0;34m[\u001b[0m\u001b[0;34m]\u001b[0m\u001b[0;34m)\u001b[0m\u001b[0;34m\u001b[0m\u001b[0;34m\u001b[0m\u001b[0m\n\u001b[1;32m      4\u001b[0m \u001b[0;32mfor\u001b[0m \u001b[0mname\u001b[0m\u001b[0;34m,\u001b[0m \u001b[0mresult\u001b[0m \u001b[0;32min\u001b[0m \u001b[0mresults\u001b[0m\u001b[0;34m.\u001b[0m\u001b[0mitems\u001b[0m\u001b[0;34m(\u001b[0m\u001b[0;34m)\u001b[0m\u001b[0;34m:\u001b[0m\u001b[0;34m\u001b[0m\u001b[0;34m\u001b[0m\u001b[0m\n\u001b[0;32m----> 5\u001b[0;31m     \u001b[0mtotal\u001b[0m \u001b[0;34m=\u001b[0m \u001b[0mnp\u001b[0m\u001b[0;34m.\u001b[0m\u001b[0mappend\u001b[0m\u001b[0;34m(\u001b[0m\u001b[0mtotal\u001b[0m\u001b[0;34m,\u001b[0m \u001b[0;34m[\u001b[0m\u001b[0;34m(\u001b[0m\u001b[0mresult\u001b[0m\u001b[0;34m[\u001b[0m\u001b[0;34m'true_y'\u001b[0m\u001b[0;34m]\u001b[0m \u001b[0;34m==\u001b[0m \u001b[0mresult\u001b[0m\u001b[0;34m[\u001b[0m\u001b[0;34m'predict_y'\u001b[0m\u001b[0;34m]\u001b[0m\u001b[0;34m)\u001b[0m\u001b[0;34m.\u001b[0m\u001b[0mastype\u001b[0m\u001b[0;34m(\u001b[0m\u001b[0mint\u001b[0m\u001b[0;34m)\u001b[0m\u001b[0;34m]\u001b[0m\u001b[0;34m)\u001b[0m\u001b[0;34m\u001b[0m\u001b[0;34m\u001b[0m\u001b[0m\n\u001b[0m\u001b[1;32m      6\u001b[0m     \u001b[0mtotal_true_y\u001b[0m \u001b[0;34m=\u001b[0m \u001b[0mnp\u001b[0m\u001b[0;34m.\u001b[0m\u001b[0mappend\u001b[0m\u001b[0;34m(\u001b[0m\u001b[0mtotal_true_y\u001b[0m\u001b[0;34m,\u001b[0m \u001b[0;34m[\u001b[0m\u001b[0;34m(\u001b[0m\u001b[0mresult\u001b[0m\u001b[0;34m[\u001b[0m\u001b[0;34m'true_y'\u001b[0m\u001b[0;34m]\u001b[0m\u001b[0;34m)\u001b[0m\u001b[0;34m.\u001b[0m\u001b[0mastype\u001b[0m\u001b[0;34m(\u001b[0m\u001b[0mint\u001b[0m\u001b[0;34m)\u001b[0m\u001b[0;34m]\u001b[0m\u001b[0;34m)\u001b[0m\u001b[0;34m\u001b[0m\u001b[0;34m\u001b[0m\u001b[0m\n\u001b[1;32m      7\u001b[0m     \u001b[0mtotal_pred_y\u001b[0m \u001b[0;34m=\u001b[0m \u001b[0mnp\u001b[0m\u001b[0;34m.\u001b[0m\u001b[0mappend\u001b[0m\u001b[0;34m(\u001b[0m\u001b[0mtotal_pred_y\u001b[0m\u001b[0;34m,\u001b[0m \u001b[0;34m[\u001b[0m\u001b[0;34m(\u001b[0m\u001b[0mresult\u001b[0m\u001b[0;34m[\u001b[0m\u001b[0;34m'predict_y'\u001b[0m\u001b[0;34m]\u001b[0m\u001b[0;34m)\u001b[0m\u001b[0;34m.\u001b[0m\u001b[0mastype\u001b[0m\u001b[0;34m(\u001b[0m\u001b[0mint\u001b[0m\u001b[0;34m)\u001b[0m\u001b[0;34m]\u001b[0m\u001b[0;34m)\u001b[0m\u001b[0;34m\u001b[0m\u001b[0;34m\u001b[0m\u001b[0m\n",
      "\u001b[0;31mAttributeError\u001b[0m: 'bool' object has no attribute 'astype'"
     ]
    }
   ],
   "source": [
    "total = np.array([])\n",
    "total_true_y = np.array([])\n",
    "total_pred_y = np.array([])\n",
    "for name, result in results.items():\n",
    "    total = np.append(total, [(result['true_y'] == result['predict_y']).astype(int)])\n",
    "    total_true_y = np.append(total_true_y, [(result['true_y']).astype(int)])\n",
    "    total_pred_y = np.append(total_pred_y, [(result['predict_y']).astype(int)])"
   ]
  },
  {
   "cell_type": "code",
   "execution_count": null,
   "id": "e64e6e34",
   "metadata": {},
   "outputs": [],
   "source": []
  },
  {
   "cell_type": "code",
   "execution_count": null,
   "id": "bd804204",
   "metadata": {
    "ExecuteTime": {
     "end_time": "2023-02-16T14:35:58.312878Z",
     "start_time": "2023-02-16T14:35:58.312867Z"
    }
   },
   "outputs": [],
   "source": [
    "total.mean()"
   ]
  },
  {
   "cell_type": "code",
   "execution_count": null,
   "id": "f148f507",
   "metadata": {
    "ExecuteTime": {
     "end_time": "2023-02-16T14:35:58.314266Z",
     "start_time": "2023-02-16T14:35:58.314254Z"
    },
    "code_folding": [
     0
    ]
   },
   "outputs": [],
   "source": [
    "def perf_measure(y_actual, y_pred):\n",
    "    TP = 0\n",
    "    FP = 0\n",
    "    TN = 0\n",
    "    FN = 0\n",
    "\n",
    "    for i in range(len(y_pred)): \n",
    "        if y_actual[i]==y_pred[i]==1:\n",
    "            TP += 1\n",
    "        if y_pred[i]==1 and y_actual[i]!=y_pred[i]:\n",
    "            FP += 1\n",
    "        if y_actual[i]==y_pred[i]==0:\n",
    "            TN += 1\n",
    "        if y_pred[i]==0 and y_actual[i]!=y_pred[i]:\n",
    "            FN += 1\n",
    "\n",
    "    return(TP, FP, TN, FN)"
   ]
  },
  {
   "cell_type": "code",
   "execution_count": null,
   "id": "00bc82d9",
   "metadata": {
    "ExecuteTime": {
     "end_time": "2023-02-16T14:35:58.314985Z",
     "start_time": "2023-02-16T14:35:58.314974Z"
    }
   },
   "outputs": [],
   "source": [
    "TP, FP, TN, FN = perf_measure(total_true_y, total_pred_y)"
   ]
  },
  {
   "cell_type": "code",
   "execution_count": null,
   "id": "05feda9e",
   "metadata": {
    "ExecuteTime": {
     "end_time": "2023-02-16T14:35:58.315918Z",
     "start_time": "2023-02-16T14:35:58.315907Z"
    }
   },
   "outputs": [],
   "source": [
    "from sklearn.metrics import confusion_matrix, f1_score"
   ]
  },
  {
   "cell_type": "code",
   "execution_count": null,
   "id": "0a925553",
   "metadata": {
    "ExecuteTime": {
     "end_time": "2023-02-16T14:35:58.316732Z",
     "start_time": "2023-02-16T14:35:58.316722Z"
    }
   },
   "outputs": [],
   "source": [
    "confusion_matrix(total_true_y, total_pred_y, labels=[0, 1])"
   ]
  },
  {
   "cell_type": "code",
   "execution_count": 73,
   "id": "eee68be0",
   "metadata": {
    "ExecuteTime": {
     "end_time": "2023-02-16T13:26:22.922787Z",
     "start_time": "2023-02-16T13:26:22.898612Z"
    }
   },
   "outputs": [
    {
     "data": {
      "text/plain": [
       "0.311721332316298"
      ]
     },
     "execution_count": 73,
     "metadata": {},
     "output_type": "execute_result"
    }
   ],
   "source": [
    "f1_score(total_true_y, total_pred_y, labels=[0, 1])"
   ]
  },
  {
   "cell_type": "code",
   "execution_count": null,
   "id": "cd7d94da",
   "metadata": {},
   "outputs": [],
   "source": []
  },
  {
   "cell_type": "code",
   "execution_count": 67,
   "id": "ca3f99fc",
   "metadata": {
    "ExecuteTime": {
     "end_time": "2023-02-16T13:23:38.084761Z",
     "start_time": "2023-02-16T13:23:38.081985Z"
    }
   },
   "outputs": [
    {
     "data": {
      "text/plain": [
       "1839"
      ]
     },
     "execution_count": 67,
     "metadata": {},
     "output_type": "execute_result"
    }
   ],
   "source": [
    "TP"
   ]
  },
  {
   "cell_type": "code",
   "execution_count": 47,
   "id": "b05e06c9",
   "metadata": {
    "ExecuteTime": {
     "end_time": "2023-02-16T13:21:35.385525Z",
     "start_time": "2023-02-16T13:21:35.381834Z"
    }
   },
   "outputs": [
    {
     "data": {
      "text/plain": [
       "1"
      ]
     },
     "execution_count": 47,
     "metadata": {},
     "output_type": "execute_result"
    }
   ],
   "source": [
    "FP"
   ]
  },
  {
   "cell_type": "code",
   "execution_count": 48,
   "id": "18ceb612",
   "metadata": {
    "ExecuteTime": {
     "end_time": "2023-02-16T13:21:39.339161Z",
     "start_time": "2023-02-16T13:21:39.335147Z"
    }
   },
   "outputs": [
    {
     "data": {
      "text/plain": [
       "8134"
      ]
     },
     "execution_count": 48,
     "metadata": {},
     "output_type": "execute_result"
    }
   ],
   "source": [
    "TN"
   ]
  },
  {
   "cell_type": "code",
   "execution_count": 49,
   "id": "a7610f0d",
   "metadata": {
    "ExecuteTime": {
     "end_time": "2023-02-16T13:21:40.871565Z",
     "start_time": "2023-02-16T13:21:40.868213Z"
    }
   },
   "outputs": [
    {
     "data": {
      "text/plain": [
       "0"
      ]
     },
     "execution_count": 49,
     "metadata": {},
     "output_type": "execute_result"
    }
   ],
   "source": [
    "FN"
   ]
  },
  {
   "cell_type": "code",
   "execution_count": null,
   "id": "ac3b3fa9",
   "metadata": {},
   "outputs": [],
   "source": []
  },
  {
   "cell_type": "code",
   "execution_count": null,
   "id": "6cda6264",
   "metadata": {},
   "outputs": [],
   "source": []
  },
  {
   "cell_type": "code",
   "execution_count": null,
   "id": "ba477a97",
   "metadata": {},
   "outputs": [],
   "source": []
  },
  {
   "cell_type": "code",
   "execution_count": 29,
   "id": "20b0ff68",
   "metadata": {
    "ExecuteTime": {
     "end_time": "2023-02-16T13:06:33.780404Z",
     "start_time": "2023-02-16T13:06:33.775798Z"
    }
   },
   "outputs": [
    {
     "data": {
      "text/plain": [
       "array([1, 2, 3, 4, 5, 6, 7, 8, 9])"
      ]
     },
     "execution_count": 29,
     "metadata": {},
     "output_type": "execute_result"
    }
   ],
   "source": [
    "np.append([1, 2, 3], [[4, 5, 6], [7, 8, 9]])"
   ]
  },
  {
   "cell_type": "code",
   "execution_count": 20,
   "id": "2355339e",
   "metadata": {
    "ExecuteTime": {
     "end_time": "2023-02-16T13:05:12.726093Z",
     "start_time": "2023-02-16T13:05:12.722268Z"
    }
   },
   "outputs": [
    {
     "data": {
      "text/plain": [
       "array([0, 0, 0, 0, 0, 1, 0, 0, 1, 0, 0, 0, 1, 1, 0, 0, 1, 0])"
      ]
     },
     "execution_count": 20,
     "metadata": {},
     "output_type": "execute_result"
    }
   ],
   "source": []
  },
  {
   "cell_type": "code",
   "execution_count": null,
   "id": "b510c6e9",
   "metadata": {},
   "outputs": [],
   "source": []
  },
  {
   "cell_type": "code",
   "execution_count": 105,
   "id": "cee50363",
   "metadata": {
    "ExecuteTime": {
     "end_time": "2023-02-16T12:53:16.380821Z",
     "start_time": "2023-02-16T12:53:16.376719Z"
    }
   },
   "outputs": [
    {
     "data": {
      "text/plain": [
       "[{'type': 'O', 'confidence': 0.9404129981994629},\n",
       " {'type': 'B-org', 'confidence': 0.24135534465312958},\n",
       " {'type': 'Organization', 'confidence': 0.2282179296016693}]"
      ]
     },
     "execution_count": 105,
     "metadata": {},
     "output_type": "execute_result"
    }
   ],
   "source": []
  },
  {
   "cell_type": "code",
   "execution_count": 98,
   "id": "ef25eaed",
   "metadata": {
    "ExecuteTime": {
     "end_time": "2023-02-16T12:51:49.022228Z",
     "start_time": "2023-02-16T12:51:49.007168Z"
    }
   },
   "outputs": [
    {
     "data": {
      "text/plain": [
       "'helloworld'"
      ]
     },
     "execution_count": 98,
     "metadata": {},
     "output_type": "execute_result"
    }
   ],
   "source": [
    "name"
   ]
  },
  {
   "cell_type": "code",
   "execution_count": 100,
   "id": "09697562",
   "metadata": {
    "ExecuteTime": {
     "end_time": "2023-02-16T12:51:56.290360Z",
     "start_time": "2023-02-16T12:51:56.277568Z"
    }
   },
   "outputs": [
    {
     "data": {
      "text/plain": [
       "[0, 0, 0, 0, 0, 0, 0, 0, 1, 1, 1, 0, 1, 0, 0, 0]"
      ]
     },
     "execution_count": 100,
     "metadata": {},
     "output_type": "execute_result"
    }
   ],
   "source": [
    "predict_y"
   ]
  },
  {
   "cell_type": "code",
   "execution_count": 99,
   "id": "6c130c56",
   "metadata": {
    "ExecuteTime": {
     "end_time": "2023-02-16T12:51:52.176437Z",
     "start_time": "2023-02-16T12:51:52.163628Z"
    }
   },
   "outputs": [
    {
     "data": {
      "text/plain": [
       "[0, 0, 0, 0, 0, 0, 0, 0, 1, 1, 1, 0, 0, 0, 0, 0]"
      ]
     },
     "execution_count": 99,
     "metadata": {},
     "output_type": "execute_result"
    }
   ],
   "source": [
    "true_y"
   ]
  },
  {
   "cell_type": "code",
   "execution_count": null,
   "id": "62666ed5",
   "metadata": {},
   "outputs": [],
   "source": []
  },
  {
   "cell_type": "code",
   "execution_count": 28,
   "id": "a6c95a12",
   "metadata": {
    "ExecuteTime": {
     "end_time": "2023-02-16T11:47:08.119943Z",
     "start_time": "2023-02-16T11:47:08.108595Z"
    }
   },
   "outputs": [
    {
     "data": {
      "text/plain": [
       "'Upon the signing of this Agreement, {{buyer}} shall pay {{amount}} to {{seller}}.'"
      ]
     },
     "execution_count": 28,
     "metadata": {},
     "output_type": "execute_result"
    }
   ],
   "source": [
    "\"\".join(template['/text/grammar.tem.md'])"
   ]
  },
  {
   "cell_type": "code",
   "execution_count": 29,
   "id": "e08eb28f",
   "metadata": {
    "ExecuteTime": {
     "end_time": "2023-02-16T11:47:09.252490Z",
     "start_time": "2023-02-16T11:47:09.249451Z"
    }
   },
   "outputs": [
    {
     "data": {
      "text/plain": [
       "'Upon the signing of this Agreement, \"Dave\" shall pay 50 USD to \"Dan\".'"
      ]
     },
     "execution_count": 29,
     "metadata": {},
     "output_type": "execute_result"
    }
   ],
   "source": [
    "\"\".join(template['/text/sample.md'])"
   ]
  },
  {
   "cell_type": "code",
   "execution_count": 42,
   "id": "7f7a0b1a",
   "metadata": {
    "ExecuteTime": {
     "end_time": "2023-02-16T11:57:45.737756Z",
     "start_time": "2023-02-16T11:57:42.226504Z"
    }
   },
   "outputs": [],
   "source": []
  },
  {
   "cell_type": "code",
   "execution_count": null,
   "id": "b4c0205d",
   "metadata": {
    "ExecuteTime": {
     "end_time": "2023-02-16T12:32:54.309111Z",
     "start_time": "2023-02-16T12:32:54.304829Z"
    }
   },
   "outputs": [],
   "source": []
  },
  {
   "cell_type": "code",
   "execution_count": 82,
   "id": "5b0b1ed8",
   "metadata": {
    "ExecuteTime": {
     "end_time": "2023-02-16T12:32:25.207235Z",
     "start_time": "2023-02-16T12:32:25.202512Z"
    }
   },
   "outputs": [],
   "source": [
    "ans = pd.DataFrame({\"true_y\": true_y, \"predict_y\": predict_y})"
   ]
  },
  {
   "cell_type": "code",
   "execution_count": 83,
   "id": "55e4887e",
   "metadata": {
    "ExecuteTime": {
     "end_time": "2023-02-16T12:32:26.246437Z",
     "start_time": "2023-02-16T12:32:26.232368Z"
    }
   },
   "outputs": [
    {
     "data": {
      "text/html": [
       "<div>\n",
       "<style scoped>\n",
       "    .dataframe tbody tr th:only-of-type {\n",
       "        vertical-align: middle;\n",
       "    }\n",
       "\n",
       "    .dataframe tbody tr th {\n",
       "        vertical-align: top;\n",
       "    }\n",
       "\n",
       "    .dataframe thead th {\n",
       "        text-align: right;\n",
       "    }\n",
       "</style>\n",
       "<table border=\"1\" class=\"dataframe\">\n",
       "  <thead>\n",
       "    <tr style=\"text-align: right;\">\n",
       "      <th></th>\n",
       "      <th>true_y</th>\n",
       "      <th>predict_y</th>\n",
       "    </tr>\n",
       "  </thead>\n",
       "  <tbody>\n",
       "    <tr>\n",
       "      <th>0</th>\n",
       "      <td>0</td>\n",
       "      <td>0</td>\n",
       "    </tr>\n",
       "    <tr>\n",
       "      <th>1</th>\n",
       "      <td>0</td>\n",
       "      <td>0</td>\n",
       "    </tr>\n",
       "    <tr>\n",
       "      <th>2</th>\n",
       "      <td>0</td>\n",
       "      <td>0</td>\n",
       "    </tr>\n",
       "    <tr>\n",
       "      <th>3</th>\n",
       "      <td>0</td>\n",
       "      <td>0</td>\n",
       "    </tr>\n",
       "    <tr>\n",
       "      <th>4</th>\n",
       "      <td>0</td>\n",
       "      <td>0</td>\n",
       "    </tr>\n",
       "    <tr>\n",
       "      <th>5</th>\n",
       "      <td>0</td>\n",
       "      <td>1</td>\n",
       "    </tr>\n",
       "    <tr>\n",
       "      <th>6</th>\n",
       "      <td>0</td>\n",
       "      <td>0</td>\n",
       "    </tr>\n",
       "    <tr>\n",
       "      <th>7</th>\n",
       "      <td>0</td>\n",
       "      <td>0</td>\n",
       "    </tr>\n",
       "    <tr>\n",
       "      <th>8</th>\n",
       "      <td>1</td>\n",
       "      <td>1</td>\n",
       "    </tr>\n",
       "    <tr>\n",
       "      <th>9</th>\n",
       "      <td>0</td>\n",
       "      <td>0</td>\n",
       "    </tr>\n",
       "    <tr>\n",
       "      <th>10</th>\n",
       "      <td>0</td>\n",
       "      <td>0</td>\n",
       "    </tr>\n",
       "    <tr>\n",
       "      <th>11</th>\n",
       "      <td>0</td>\n",
       "      <td>0</td>\n",
       "    </tr>\n",
       "    <tr>\n",
       "      <th>12</th>\n",
       "      <td>1</td>\n",
       "      <td>1</td>\n",
       "    </tr>\n",
       "    <tr>\n",
       "      <th>13</th>\n",
       "      <td>1</td>\n",
       "      <td>1</td>\n",
       "    </tr>\n",
       "    <tr>\n",
       "      <th>14</th>\n",
       "      <td>0</td>\n",
       "      <td>0</td>\n",
       "    </tr>\n",
       "    <tr>\n",
       "      <th>15</th>\n",
       "      <td>0</td>\n",
       "      <td>0</td>\n",
       "    </tr>\n",
       "    <tr>\n",
       "      <th>16</th>\n",
       "      <td>1</td>\n",
       "      <td>1</td>\n",
       "    </tr>\n",
       "    <tr>\n",
       "      <th>17</th>\n",
       "      <td>1</td>\n",
       "      <td>0</td>\n",
       "    </tr>\n",
       "  </tbody>\n",
       "</table>\n",
       "</div>"
      ],
      "text/plain": [
       "    true_y  predict_y\n",
       "0        0          0\n",
       "1        0          0\n",
       "2        0          0\n",
       "3        0          0\n",
       "4        0          0\n",
       "5        0          1\n",
       "6        0          0\n",
       "7        0          0\n",
       "8        1          1\n",
       "9        0          0\n",
       "10       0          0\n",
       "11       0          0\n",
       "12       1          1\n",
       "13       1          1\n",
       "14       0          0\n",
       "15       0          0\n",
       "16       1          1\n",
       "17       1          0"
      ]
     },
     "execution_count": 83,
     "metadata": {},
     "output_type": "execute_result"
    }
   ],
   "source": [
    "ans"
   ]
  },
  {
   "cell_type": "code",
   "execution_count": null,
   "id": "c6e4b1b3",
   "metadata": {},
   "outputs": [],
   "source": []
  },
  {
   "cell_type": "code",
   "execution_count": 69,
   "id": "68ac64ad",
   "metadata": {
    "ExecuteTime": {
     "end_time": "2023-02-16T12:19:47.892492Z",
     "start_time": "2023-02-16T12:19:47.881871Z"
    }
   },
   "outputs": [
    {
     "data": {
      "text/plain": [
       "['  Upon',\n",
       " '  Ġthe',\n",
       " '  Ġsigning',\n",
       " '  Ġof',\n",
       " '  Ġthis',\n",
       " '  ĠAgreement',\n",
       " '  ,',\n",
       " '- Ġ\"',\n",
       " '- Dave',\n",
       " '- \"',\n",
       " '  Ġshall',\n",
       " '  Ġpay',\n",
       " '- Ġ50',\n",
       " '- ĠUSD',\n",
       " '  Ġto',\n",
       " '- Ġ\"',\n",
       " '- Dan',\n",
       " '- \".']"
      ]
     },
     "execution_count": 69,
     "metadata": {},
     "output_type": "execute_result"
    }
   ],
   "source": [
    "sample_with_mark"
   ]
  },
  {
   "cell_type": "code",
   "execution_count": 50,
   "id": "70dd712d",
   "metadata": {
    "ExecuteTime": {
     "end_time": "2023-02-16T12:01:45.921641Z",
     "start_time": "2023-02-16T12:01:45.917518Z"
    }
   },
   "outputs": [
    {
     "data": {
      "text/plain": [
       "['  Upon',\n",
       " '  Ġthe',\n",
       " '  Ġsigning',\n",
       " '  Ġof',\n",
       " '  Ġthis',\n",
       " '  ĠAgreement',\n",
       " '  ,',\n",
       " '- Ġ\"',\n",
       " '- Dave',\n",
       " '- \"',\n",
       " '+ Ġ{{',\n",
       " '+ buy',\n",
       " '+ er',\n",
       " '+ }}',\n",
       " '  Ġshall',\n",
       " '  Ġpay',\n",
       " '- Ġ50',\n",
       " '- ĠUSD',\n",
       " '+ Ġ{{',\n",
       " '+ amount',\n",
       " '+ }}',\n",
       " '  Ġto',\n",
       " '- Ġ\"',\n",
       " '- Dan',\n",
       " '- \".',\n",
       " '+ Ġ{{',\n",
       " '+ seller',\n",
       " '+ }}',\n",
       " '+ .']"
      ]
     },
     "execution_count": 50,
     "metadata": {},
     "output_type": "execute_result"
    }
   ],
   "source": []
  },
  {
   "cell_type": "code",
   "execution_count": null,
   "id": "6c438ff6",
   "metadata": {},
   "outputs": [],
   "source": []
  },
  {
   "cell_type": "code",
   "execution_count": 20,
   "id": "e31eff73",
   "metadata": {
    "ExecuteTime": {
     "end_time": "2023-02-09T03:49:08.613581Z",
     "start_time": "2023-02-09T03:49:03.685329Z"
    }
   },
   "outputs": [
    {
     "name": "stderr",
     "output_type": "stream",
     "text": [
      "2023-02-09 11:49:04.071346: I tensorflow/stream_executor/platform/default/dso_loader.cc:53] Successfully opened dynamic library libcudart.so.11.0\n"
     ]
    }
   ],
   "source": []
  },
  {
   "cell_type": "code",
   "execution_count": 24,
   "id": "76f9962c",
   "metadata": {
    "ExecuteTime": {
     "end_time": "2023-02-09T03:49:37.134803Z",
     "start_time": "2023-02-09T03:49:37.125735Z"
    }
   },
   "outputs": [
    {
     "data": {
      "text/plain": [
       "['  Upon',\n",
       " '  Ġthe',\n",
       " '  Ġsigning',\n",
       " '  Ġof',\n",
       " '  Ġthis',\n",
       " '  ĠAgreement',\n",
       " '  ,',\n",
       " '- Ġ\"',\n",
       " '- Dave',\n",
       " '- \"',\n",
       " '+ Ġ{{',\n",
       " '+ buy',\n",
       " '+ er',\n",
       " '+ }}',\n",
       " '  Ġshall',\n",
       " '  Ġpay',\n",
       " '- Ġ50',\n",
       " '- ĠUSD',\n",
       " '+ Ġ{{',\n",
       " '+ amount',\n",
       " '+ }}',\n",
       " '  Ġto',\n",
       " '- Ġ\"',\n",
       " '- Dan',\n",
       " '- \".',\n",
       " '+ Ġ{{',\n",
       " '+ seller',\n",
       " '+ }}',\n",
       " '+ .']"
      ]
     },
     "execution_count": 24,
     "metadata": {},
     "output_type": "execute_result"
    }
   ],
   "source": [
    "list(diff)"
   ]
  },
  {
   "cell_type": "code",
   "execution_count": 12,
   "id": "b047e9fd",
   "metadata": {
    "ExecuteTime": {
     "end_time": "2023-02-09T03:46:28.447138Z",
     "start_time": "2023-02-09T03:46:28.437477Z"
    }
   },
   "outputs": [
    {
     "name": "stdout",
     "output_type": "stream",
     "text": [
      "The Difference Between Two Strings: \n",
      "{'50', '{{seller}}.', '{{buyer}}', '\"Dave\"', 'USD', '\"Dan\".', '{{amount}}'}\n",
      "The programs runs successfully.\n"
     ]
    }
   ],
   "source": [
    "difference(\"\".join(template['/text/sample.md']), \"\".join(template['/text/grammar.tem.md']))\n"
   ]
  },
  {
   "cell_type": "code",
   "execution_count": 10,
   "id": "09bad5c6",
   "metadata": {
    "ExecuteTime": {
     "end_time": "2023-02-09T03:46:00.397921Z",
     "start_time": "2023-02-09T03:46:00.385481Z"
    }
   },
   "outputs": [
    {
     "name": "stdout",
     "output_type": "stream",
     "text": [
      "The Difference Between Two Strings: \n",
      "{'good', 'bad'}\n",
      "The programs runs successfully.\n"
     ]
    }
   ],
   "source": [
    "def difference(string1, string2):\n",
    "      # Split both strings into list items\n",
    "  string1 = string1.split()\n",
    "  string2 = string2.split()\n",
    "\n",
    "  A = set(string1) # Store all string1 list items in set A\n",
    "  B = set(string2) # Store all string2 list items in set B\n",
    " \n",
    "  str_diff = A.symmetric_difference(B)\n",
    "  isEmpty = (len(str_diff) == 0)\n",
    " \n",
    "  if isEmpty:\n",
    "    print(\"No Difference. Both Strings Are Same\")\n",
    "  else:\n",
    "    print(\"The Difference Between Two Strings: \")\n",
    "    print(str_diff)\n",
    "  \n",
    "  print('The programs runs successfully.')\n",
    "\n",
    "# Driver code to call a function\n",
    "usr_str1 = 'Educative is good'\n",
    "usr_str2 = 'Educative is bad'\n",
    "output = difference(usr_str1, usr_str2)\n"
   ]
  },
  {
   "cell_type": "code",
   "execution_count": null,
   "id": "02bfbbaa",
   "metadata": {},
   "outputs": [],
   "source": []
  },
  {
   "cell_type": "code",
   "execution_count": null,
   "id": "877642ec",
   "metadata": {},
   "outputs": [],
   "source": []
  },
  {
   "cell_type": "code",
   "execution_count": 7,
   "id": "9eb57139",
   "metadata": {
    "ExecuteTime": {
     "end_time": "2023-02-09T03:44:24.171584Z",
     "start_time": "2023-02-09T03:44:24.159743Z"
    }
   },
   "outputs": [
    {
     "data": {
      "text/plain": [
       "{'/request.json': {'$class': 'org.accordproject.payment.PaymentReceived'},\n",
       " '/.cucumber.js': [\"require('@accordproject/cicero-test').Steps;\"],\n",
       " '/logic/logic.ergo': ['/*\\n',\n",
       "  ' * Licensed under the Apache License, Version 2.0 (the \"License\");\\n',\n",
       "  ' * you may not use this file except in compliance with the License.\\n',\n",
       "  ' * You may obtain a copy of the License at\\n',\n",
       "  ' *\\n',\n",
       "  ' * http://www.apache.org/licenses/LICENSE-2.0\\n',\n",
       "  ' *\\n',\n",
       "  ' * Unless required by applicable law or agreed to in writing, software\\n',\n",
       "  ' * distributed under the License is distributed on an \"AS IS\" BASIS,\\n',\n",
       "  ' * WITHOUT WARRANTIES OR CONDITIONS OF ANY KIND, either express or implied.\\n',\n",
       "  ' * See the License for the specific language governing permissions and\\n',\n",
       "  ' * limitations under the License.\\n',\n",
       "  ' */\\n',\n",
       "  '\\n',\n",
       "  'namespace org.accordproject.payment.uponsignature\\n',\n",
       "  '\\n',\n",
       "  'import org.accordproject.runtime.*\\n',\n",
       "  'import org.accordproject.obligation.*\\n',\n",
       "  'import org.accordproject.signature.ContractSigned\\n',\n",
       "  'import org.accordproject.payment.PaymentReceived\\n',\n",
       "  '\\n',\n",
       "  '/**\\n',\n",
       "  ' * This smart clause emits a payment obligation when the contract is signed\\n',\n",
       "  ' */\\n',\n",
       "  'contract PaymentUponSignature over PaymentUponSignatureContract state PaymentUponSignatureState {\\n',\n",
       "  '  \\n',\n",
       "  '  /**\\n',\n",
       "  '   * Sets the initial state for the clause\\n',\n",
       "  '   */\\n',\n",
       "  '  clause init(request : Request) : Response {   \\n',\n",
       "  '    set state PaymentUponSignatureState {\\n',\n",
       "  '      status: INITIALIZED\\n',\n",
       "  '    };\\n',\n",
       "  '    return Response{}\\n',\n",
       "  '  }\\n',\n",
       "  '\\n',\n",
       "  '  /**\\n',\n",
       "  '   * When the contract is signed a payment obligation is emitted\\n',\n",
       "  '   */\\n',\n",
       "  '  clause contractSigned(request : ContractSigned) : Response emits PaymentObligation {\\n',\n",
       "  '    enforce (state.status = INITIALIZED) \\n',\n",
       "  '      else throw Error{ message: `Contract state is invalid {{% state.status %}}` };\\n',\n",
       "  '    \\n',\n",
       "  '    emit PaymentObligation{\\n',\n",
       "  '      contract: contract,\\n',\n",
       "  '      promisor: some(contract.buyer),\\n',\n",
       "  '      promisee: some(contract.seller),\\n',\n",
       "  '      deadline: none,\\n',\n",
       "  '      amount: contract.amount,\\n',\n",
       "  '      description: toString(contract.buyer) ++ \" should pay contract amount to \" ++ toString(contract.seller)\\n',\n",
       "  '    };\\n',\n",
       "  '    set state.status = OBLIGATION_EMITTED;\\n',\n",
       "  '    return Response{}\\n',\n",
       "  '  }\\n',\n",
       "  '\\n',\n",
       "  '  /**\\n',\n",
       "  '   * Complete the contract when payment is received.\\n',\n",
       "  '   */\\n',\n",
       "  '  clause paymentReceived(request : PaymentReceived): Response {\\n',\n",
       "  '    enforce (state.status = OBLIGATION_EMITTED) \\n',\n",
       "  '    else throw Error{ message: \"Either a payment obligation hasn\\'t yet been emitted by the contract or payment notification has already been received\" };\\n',\n",
       "  '    set state.status = COMPLETED;\\n',\n",
       "  '    return Response{}\\n',\n",
       "  '  }\\n',\n",
       "  '}\\n'],\n",
       " '/README.md': ['# Payment Upon Signature\\n',\n",
       "  '\\n',\n",
       "  'This is a generic payment clause applicable to any type of contract that requires some payment at the time of signature.\\n',\n",
       "  '\\n'],\n",
       " '/package.json': {'name': 'payment-upon-signature',\n",
       "  'displayName': 'Payment Upon Signature',\n",
       "  'version': '0.10.0',\n",
       "  'description': 'This is a generic payment clause applicable to any type of contract that requires some payment at the time of signature.',\n",
       "  'author': 'Accord Project',\n",
       "  'license': 'Apache-2.0',\n",
       "  'accordproject': {'template': 'contract', 'cicero': '^0.22.0'},\n",
       "  'devDependencies': {'cucumber': '^5.1.0'},\n",
       "  'scripts': {'test': 'cucumber-js test -r .cucumber.js'},\n",
       "  'keywords': ['payment',\n",
       "   'pay',\n",
       "   'upon',\n",
       "   'signature',\n",
       "   'sign',\n",
       "   'signing',\n",
       "   'agreement',\n",
       "   'clause',\n",
       "   'time']},\n",
       " '/model/model.cto': ['namespace org.accordproject.payment.uponsignature\\n',\n",
       "  '\\n',\n",
       "  'import org.accordproject.contract.* from https://models.accordproject.org/accordproject/contract.cto\\n',\n",
       "  'import org.accordproject.party.* from https://models.accordproject.org/accordproject/party.cto\\n',\n",
       "  'import org.accordproject.runtime.* from https://models.accordproject.org/accordproject/runtime.cto\\n',\n",
       "  'import org.accordproject.obligation.* from https://models.accordproject.org/accordproject/obligation.cto\\n',\n",
       "  'import org.accordproject.money.MonetaryAmount from https://models.accordproject.org/money@0.2.0.cto\\n',\n",
       "  'import org.accordproject.signature.ContractSigned from https://models.accordproject.org/signature/signature@0.2.0.cto\\n',\n",
       "  'import org.accordproject.payment.PaymentReceived from https://models.accordproject.org/payment/payment@0.2.0.cto\\n',\n",
       "  '\\n',\n",
       "  'asset PaymentUponSignatureState extends State {\\n',\n",
       "  '  o ContractLifecycleStatus status\\n',\n",
       "  '}\\n',\n",
       "  '\\n',\n",
       "  'enum ContractLifecycleStatus {\\n',\n",
       "  '  o INITIALIZED\\n',\n",
       "  '  o OBLIGATION_EMITTED\\n',\n",
       "  '  o COMPLETED\\n',\n",
       "  '}\\n',\n",
       "  '\\n',\n",
       "  '/**\\n',\n",
       "  ' * The template model\\n',\n",
       "  ' */\\n',\n",
       "  'asset PaymentUponSignatureContract extends Contract {\\n',\n",
       "  '  --> Party buyer\\n',\n",
       "  '  --> Party seller\\n',\n",
       "  '  o MonetaryAmount amount\\n',\n",
       "  '}\\n'],\n",
       " '/text/sample.md': ['Upon the signing of this Agreement, \"Dave\" shall pay 50 USD to \"Dan\".'],\n",
       " '/text/grammar.tem.md': ['Upon the signing of this Agreement, {{buyer}} shall pay {{amount}} to {{seller}}.'],\n",
       " '/request-sign.json': {'$class': 'org.accordproject.signature.ContractSigned',\n",
       "  'contract': 'MY_CONTRACT'},\n",
       " 'NER': {'prediction': [{'token': 'Upon',\n",
       "    'predictions': [{'type': 'O', 'confidence': 0.9465506076812744},\n",
       "     {'type': 'String', 'confidence': 0.2503378987312317},\n",
       "     {'type': 'Person', 'confidence': 0.13618318736553192}]},\n",
       "   {'token': 'Ġthe',\n",
       "    'predictions': [{'type': 'O', 'confidence': 0.9957129955291748},\n",
       "     {'type': 'B-org', 'confidence': 0.048760656267404556},\n",
       "     {'type': 'Person', 'confidence': 0.044754862785339355}]},\n",
       "   {'token': 'Ġsigning',\n",
       "    'predictions': [{'type': 'O', 'confidence': 0.7746427655220032},\n",
       "     {'type': 'TemporalUnit', 'confidence': 0.1522894948720932},\n",
       "     {'type': 'Party87', 'confidence': 0.10787118971347809}]},\n",
       "   {'token': 'Ġof',\n",
       "    'predictions': [{'type': 'O', 'confidence': 0.9156043529510498},\n",
       "     {'type': 'TemporalUnit', 'confidence': 0.2166566252708435},\n",
       "     {'type': 'Party87', 'confidence': 0.1489492952823639}]},\n",
       "   {'token': 'Ġthis',\n",
       "    'predictions': [{'type': 'O', 'confidence': 0.8999553322792053},\n",
       "     {'type': 'B-org', 'confidence': 0.21784694492816925},\n",
       "     {'type': 'Party87', 'confidence': 0.19514445960521698}]},\n",
       "   {'token': 'ĠAgreement',\n",
       "    'predictions': [{'type': 'Party', 'confidence': 0.6479926109313965},\n",
       "     {'type': 'String', 'confidence': 0.5550543069839478},\n",
       "     {'type': 'B-org', 'confidence': 0.4012811779975891}]},\n",
       "   {'token': ',',\n",
       "    'predictions': [{'type': 'O', 'confidence': 0.9279784560203552},\n",
       "     {'type': 'Party87', 'confidence': 0.10851234942674637},\n",
       "     {'type': 'B-org', 'confidence': 0.07943621277809143}]},\n",
       "   {'token': 'Ġ\"',\n",
       "    'predictions': [{'type': 'O', 'confidence': 0.5985324382781982},\n",
       "     {'type': 'Party', 'confidence': 0.3996054232120514},\n",
       "     {'type': 'Party87', 'confidence': 0.31569111347198486}]},\n",
       "   {'token': 'Dave',\n",
       "    'predictions': [{'type': 'String', 'confidence': 0.7141955494880676},\n",
       "     {'type': 'Party', 'confidence': 0.6634715795516968},\n",
       "     {'type': 'Party87', 'confidence': 0.5820321440696716}]},\n",
       "   {'token': '\"',\n",
       "    'predictions': [{'type': 'O', 'confidence': 0.7443751692771912},\n",
       "     {'type': 'Party', 'confidence': 0.49219000339508057},\n",
       "     {'type': 'Party87', 'confidence': 0.436458021402359}]},\n",
       "   {'token': 'Ġshall',\n",
       "    'predictions': [{'type': 'O', 'confidence': 0.8392053842544556},\n",
       "     {'type': 'String', 'confidence': 0.40371832251548767},\n",
       "     {'type': 'B-org', 'confidence': 0.2156655490398407}]},\n",
       "   {'token': 'Ġpay',\n",
       "    'predictions': [{'type': 'O', 'confidence': 0.8480480313301086},\n",
       "     {'type': 'Party87', 'confidence': 0.1732647567987442},\n",
       "     {'type': 'Party', 'confidence': 0.10419870913028717}]},\n",
       "   {'token': 'Ġ50',\n",
       "    'predictions': [{'type': 'Integer', 'confidence': 0.722781240940094},\n",
       "     {'type': 'Party', 'confidence': 0.2063666135072708},\n",
       "     {'type': 'Party87', 'confidence': 0.15474775433540344}]},\n",
       "   {'token': 'ĠUSD',\n",
       "    'predictions': [{'type': 'Party', 'confidence': 0.6796419620513916},\n",
       "     {'type': 'String', 'confidence': 0.6445955038070679},\n",
       "     {'type': 'Party87', 'confidence': 0.49765831232070923}]},\n",
       "   {'token': 'Ġto',\n",
       "    'predictions': [{'type': 'O', 'confidence': 0.7176685333251953},\n",
       "     {'type': 'Party87', 'confidence': 0.17555184662342072},\n",
       "     {'type': 'Party', 'confidence': 0.13625924289226532}]},\n",
       "   {'token': 'Ġ\"',\n",
       "    'predictions': [{'type': 'O', 'confidence': 0.5558497309684753},\n",
       "     {'type': 'Party', 'confidence': 0.3618706166744232},\n",
       "     {'type': 'Party87', 'confidence': 0.23377111554145813}]},\n",
       "   {'token': 'Dan',\n",
       "    'predictions': [{'type': 'Party', 'confidence': 0.6514667868614197},\n",
       "     {'type': 'String', 'confidence': 0.638133704662323},\n",
       "     {'type': 'Party87', 'confidence': 0.5413485169410706}]},\n",
       "   {'token': '\".',\n",
       "    'predictions': [{'type': 'O', 'confidence': 0.848987340927124},\n",
       "     {'type': 'B-org', 'confidence': 0.314912348985672},\n",
       "     {'type': 'String', 'confidence': 0.29333725571632385}]}]}}"
      ]
     },
     "execution_count": 7,
     "metadata": {},
     "output_type": "execute_result"
    }
   ],
   "source": [
    "template"
   ]
  },
  {
   "cell_type": "code",
   "execution_count": null,
   "id": "efdfb833",
   "metadata": {},
   "outputs": [],
   "source": []
  }
 ],
 "metadata": {
  "kernelspec": {
   "display_name": "py37",
   "language": "python",
   "name": "py37"
  },
  "language_info": {
   "codemirror_mode": {
    "name": "ipython",
    "version": 3
   },
   "file_extension": ".py",
   "mimetype": "text/x-python",
   "name": "python",
   "nbconvert_exporter": "python",
   "pygments_lexer": "ipython3",
   "version": "3.7.10"
  }
 },
 "nbformat": 4,
 "nbformat_minor": 5
}
