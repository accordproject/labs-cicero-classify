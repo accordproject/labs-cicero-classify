{
 "cells": [
  {
   "cell_type": "code",
   "execution_count": 1,
   "id": "e5289c34",
   "metadata": {
    "ExecuteTime": {
     "end_time": "2023-02-20T07:08:49.049719Z",
     "start_time": "2023-02-20T07:08:48.728473Z"
    }
   },
   "outputs": [],
   "source": [
    "import pandas as pd\n",
    "import numpy as np"
   ]
  },
  {
   "cell_type": "code",
   "execution_count": 2,
   "id": "2f036060",
   "metadata": {
    "ExecuteTime": {
     "end_time": "2023-02-20T07:08:50.000496Z",
     "start_time": "2023-02-20T07:08:49.769272Z"
    }
   },
   "outputs": [],
   "source": [
    "import json\n",
    "with open(\"./Accord_all_contract_NER.json\", \"r\") as f:\n",
    "    templates = json.load(f)"
   ]
  },
  {
   "cell_type": "code",
   "execution_count": 3,
   "id": "fe0b614e",
   "metadata": {
    "ExecuteTime": {
     "end_time": "2023-02-20T07:08:50.009607Z",
     "start_time": "2023-02-20T07:08:50.002125Z"
    }
   },
   "outputs": [
    {
     "data": {
      "text/plain": [
       "dict_keys(['helloworld', 'signature-block-title-name-date', 'latedeliveryandpenalty-currency-conversion', 'payment-upon-delivery', 'supply-agreement-loc', 'latedeliveryandpenalty', 'promissory-note', 'latedeliveryandpenalty-optional-this', 'rental-deposit-with', 'certificate-of-incorporation', 'empty', 'car-rental-tr', 'fragile-goods', 'supplyagreement', 'promissory-note-md', 'lateinvoicewithpayment', 'bill-of-lading', 'volumediscount', 'perishable-goods', 'servicelevelagreement', 'supplyagreement-perishable-goods', 'docusign-po-failure', 'fixed-interests-static', 'company-information', 'volumediscountolist', 'contact-information', 'acceptance-of-delivery', 'installment-sale', 'hellomodule', 'copyright-license', 'saft', 'minilatedeliveryandpenalty-capped', 'payment-upon-iot', 'volumediscountulist', 'latedeliveryandpenalty-optional', 'safte', 'interest-rate-swap', 'docusign-connect', 'demandforecast', 'rental-deposit', 'sales-contract-ru', 'empty-contract', 'one-time-payment-tr', 'simplelatedeliveryandpenalty', 'ip-payment', 'minilatedeliveryandpenalty', 'online-payment-contract-tr', 'full-payment-upon-demand', 'project-information', 'helloworldstate', 'latedeliveryandpenalty-else', 'fixed-interests', 'full-payment-upon-signature', 'eat-apples', 'minilatedeliveryandpenalty-payment', 'payment-upon-signature'])"
      ]
     },
     "execution_count": 3,
     "metadata": {},
     "output_type": "execute_result"
    }
   ],
   "source": [
    "templates.keys()"
   ]
  },
  {
   "cell_type": "code",
   "execution_count": 4,
   "id": "4defb962",
   "metadata": {
    "ExecuteTime": {
     "end_time": "2023-02-20T07:08:56.105659Z",
     "start_time": "2023-02-20T07:08:50.220532Z"
    }
   },
   "outputs": [
    {
     "name": "stderr",
     "output_type": "stream",
     "text": [
      "2023-02-20 15:08:50.467064: I tensorflow/stream_executor/platform/default/dso_loader.cc:53] Successfully opened dynamic library libcudart.so.11.0\n",
      "  0%|                                   | 0/56 [00:00<?, ?it/s]Token indices sequence length is longer than the specified maximum sequence length for this model (3306 > 512). Running this sequence through the model will result in indexing errors\n",
      "100%|█████████████████████████| 56/56 [00:00<00:00, 131.61it/s]\n"
     ]
    }
   ],
   "source": [
    "results = {}\n",
    "\n",
    "import tqdm\n",
    "from transformers import AutoTokenizer\n",
    "# b) Load model & tokenizer\n",
    "model_name = \"roberta-base\"\n",
    "\n",
    "tokenizer = AutoTokenizer.from_pretrained(model_name)\n",
    "\n",
    "for name, template in tqdm.tqdm(templates.items()):\n",
    "\n",
    "\n",
    "    import difflib\n",
    "\n",
    "    d = difflib.Differ()\n",
    "\n",
    "\n",
    "    predict_y = []\n",
    "    for i, token in enumerate(template['NER']['prediction']):\n",
    "        try:\n",
    "            if token['prediction'][0]['type'] == \"O\":\n",
    "                predict_y.append(0)\n",
    "            else:\n",
    "                predict_y.append(1)\n",
    "        except:\n",
    "            token['prediction'] = token['predictions']\n",
    "            if token['predictions'][0]['type'] == \"O\":\n",
    "                predict_y.append(0)\n",
    "            else:\n",
    "                predict_y.append(1)\n",
    "\n",
    "\n",
    "    sample = tokenizer.tokenize(\"\".join(template['/text/sample.md']))\n",
    "    grammar = tokenizer.tokenize(\"\".join(template['/text/grammar.tem.md']))\n",
    "\n",
    "    diff = d.compare(sample, grammar)\n",
    "    diff = list(diff)\n",
    "\n",
    "    sample_with_mark = list(filter(lambda x: x[0] in [\"-\", \" \"], diff))\n",
    "\n",
    "    true_y = []\n",
    "    for i, token in enumerate(sample_with_mark):\n",
    "        if token in ['- Ġ\"', '- \"', '\".', \"Ċ\"] or 'Ċ' in token:\n",
    "            true_y.append(0)\n",
    "            predict_y[i] = 0\n",
    "        elif token[0] == \"-\" and token not in ['- Ġ\"', '- \"', '\".', \"Ċ\"] and '\"' not in token and \"'\" not in token:\n",
    "            true_y.append(1)\n",
    "        else:\n",
    "            true_y.append(0)\n",
    "\n",
    "    np.array(true_y) == np.array(predict_y)\n",
    "    results[name] = {\"true_y\": np.array(true_y), \"predict_y\": np.array(predict_y)}"
   ]
  },
  {
   "cell_type": "code",
   "execution_count": 5,
   "id": "d8b87335",
   "metadata": {
    "ExecuteTime": {
     "end_time": "2023-02-20T07:08:56.372809Z",
     "start_time": "2023-02-20T07:08:56.107079Z"
    }
   },
   "outputs": [],
   "source": [
    "from sklearn.metrics import confusion_matrix, f1_score"
   ]
  },
  {
   "cell_type": "code",
   "execution_count": null,
   "id": "373e90c0",
   "metadata": {},
   "outputs": [],
   "source": []
  },
  {
   "cell_type": "code",
   "execution_count": 6,
   "id": "68c2734b",
   "metadata": {
    "ExecuteTime": {
     "end_time": "2023-02-20T07:08:56.444552Z",
     "start_time": "2023-02-20T07:08:56.374522Z"
    }
   },
   "outputs": [
    {
     "name": "stderr",
     "output_type": "stream",
     "text": [
      "/home/eason/anaconda3/envs/py37/lib/python3.7/site-packages/sklearn/metrics/_classification.py:1496: UndefinedMetricWarning: F-score is ill-defined and being set to 0.0 due to no true nor predicted samples. Use `zero_division` parameter to control this behavior.\n",
      "  average, \"true nor predicted\", 'F-score is', len(true_sum)\n",
      "/home/eason/anaconda3/envs/py37/lib/python3.7/site-packages/sklearn/metrics/_classification.py:1496: UndefinedMetricWarning: F-score is ill-defined and being set to 0.0 due to no true nor predicted samples. Use `zero_division` parameter to control this behavior.\n",
      "  average, \"true nor predicted\", 'F-score is', len(true_sum)\n"
     ]
    }
   ],
   "source": [
    "f1s = []\n",
    "total = np.array([])\n",
    "total_true_y = np.array([])\n",
    "total_pred_y = np.array([])\n",
    "for name, result in results.items():\n",
    "    total = np.append(total, [(result['true_y'] == result['predict_y']).astype(int)])\n",
    "    total_true_y = np.append(total_true_y, [(result['true_y']).astype(int)])\n",
    "    total_pred_y = np.append(total_pred_y, [(result['predict_y']).astype(int)])\n",
    "    f1s.append({'name':name, 'f1': f1_score(result['true_y'], result['predict_y'])})"
   ]
  },
  {
   "cell_type": "code",
   "execution_count": 7,
   "id": "a4a9c35c",
   "metadata": {
    "ExecuteTime": {
     "end_time": "2023-02-20T07:08:56.454251Z",
     "start_time": "2023-02-20T07:08:56.447186Z"
    }
   },
   "outputs": [
    {
     "data": {
      "text/plain": [
       "{'true_y': array([0, 0, 0, 0, 0, 0, 0, 0, 1, 1, 1, 0, 0, 0, 0, 0]),\n",
       " 'predict_y': array([0, 0, 0, 0, 0, 0, 0, 0, 1, 1, 1, 0, 0, 0, 0, 0])}"
      ]
     },
     "execution_count": 7,
     "metadata": {},
     "output_type": "execute_result"
    }
   ],
   "source": [
    "results['helloworld']"
   ]
  },
  {
   "cell_type": "code",
   "execution_count": 8,
   "id": "20b0114b",
   "metadata": {
    "ExecuteTime": {
     "end_time": "2023-02-20T07:08:56.488932Z",
     "start_time": "2023-02-20T07:08:56.455939Z"
    }
   },
   "outputs": [
    {
     "data": {
      "text/plain": [
       "0.3195759840125119"
      ]
     },
     "execution_count": 8,
     "metadata": {},
     "output_type": "execute_result"
    }
   ],
   "source": [
    "f1_score(total_true_y, total_pred_y)"
   ]
  },
  {
   "cell_type": "code",
   "execution_count": null,
   "id": "7b814dc5",
   "metadata": {},
   "outputs": [],
   "source": []
  },
  {
   "cell_type": "code",
   "execution_count": 9,
   "id": "8633e9ff",
   "metadata": {
    "ExecuteTime": {
     "end_time": "2023-02-20T07:08:56.493977Z",
     "start_time": "2023-02-20T07:08:56.490854Z"
    }
   },
   "outputs": [],
   "source": [
    "names = list(templates.keys())"
   ]
  },
  {
   "cell_type": "code",
   "execution_count": 10,
   "id": "68e96e82",
   "metadata": {
    "ExecuteTime": {
     "end_time": "2023-02-20T07:08:56.498577Z",
     "start_time": "2023-02-20T07:08:56.495762Z"
    }
   },
   "outputs": [],
   "source": [
    "from ipywidgets import interact, interactive, fixed, interact_manual\n",
    "import ipywidgets as widgets"
   ]
  },
  {
   "cell_type": "code",
   "execution_count": 11,
   "id": "78076197",
   "metadata": {
    "ExecuteTime": {
     "end_time": "2023-02-20T07:08:56.503940Z",
     "start_time": "2023-02-20T07:08:56.499917Z"
    }
   },
   "outputs": [],
   "source": [
    "f1 = f1_score(results[name]['true_y'], results[name]['predict_y'])"
   ]
  },
  {
   "cell_type": "code",
   "execution_count": 12,
   "id": "74ed2b8e",
   "metadata": {
    "ExecuteTime": {
     "end_time": "2023-02-20T07:08:56.508952Z",
     "start_time": "2023-02-20T07:08:56.505757Z"
    }
   },
   "outputs": [
    {
     "name": "stdout",
     "output_type": "stream",
     "text": [
      "\n"
     ]
    }
   ],
   "source": [
    "print(f\"\")"
   ]
  },
  {
   "cell_type": "code",
   "execution_count": null,
   "id": "0daf1295",
   "metadata": {
    "ExecuteTime": {
     "start_time": "2023-02-20T07:23:59.027Z"
    }
   },
   "outputs": [],
   "source": [
    "f1_score(np.array([1]*42), np.array([1]*40 + [0] * 2))"
   ]
  },
  {
   "cell_type": "code",
   "execution_count": 13,
   "id": "1467f803",
   "metadata": {
    "ExecuteTime": {
     "end_time": "2023-02-20T07:08:56.538953Z",
     "start_time": "2023-02-20T07:08:56.511688Z"
    }
   },
   "outputs": [
    {
     "data": {
      "application/vnd.jupyter.widget-view+json": {
       "model_id": "77ce713ccf4049dfae7fb62faf0b932e",
       "version_major": 2,
       "version_minor": 0
      },
      "text/plain": [
       "interactive(children=(IntSlider(value=28, description='i', max=56), Output()), _dom_classes=('widget-interact'…"
      ]
     },
     "metadata": {},
     "output_type": "display_data"
    }
   ],
   "source": [
    "def f(i):\n",
    "    name = names[i]\n",
    "    print(name)\n",
    "    tokens = tokenizer.tokenize(\"\".join(templates[name]['/text/sample.md']))\n",
    "    texts = \"\"\n",
    "    wrongs = []\n",
    "    for i, token in enumerate(tokens):\n",
    "\n",
    "        if results[name]['true_y'][i] != results[name]['predict_y'][i]:\n",
    "            texts += (\"!ERR!\")\n",
    "            wrongs.append(f'{token}: {templates[name][\"NER\"][\"prediction\"][i][\"prediction\"][0][\"type\"]}')\n",
    "        texts += (token)\n",
    "    f1 = f1_score(results[name]['true_y'], results[name]['predict_y'])\n",
    "    print(f\"{f1:.2f}: \", texts.replace(\"Ġ\", \" \"))\n",
    "    print(wrongs)\n",
    "interact(f, i=(0,len(names)));"
   ]
  },
  {
   "cell_type": "code",
   "execution_count": 14,
   "id": "8dcd5022",
   "metadata": {
    "ExecuteTime": {
     "end_time": "2023-02-20T07:08:56.548300Z",
     "start_time": "2023-02-20T07:08:56.540748Z"
    }
   },
   "outputs": [],
   "source": [
    "df = pd.DataFrame(f1s).sort_values(\"f1\", ascending=False).reset_index(drop=True)\n",
    "df.to_csv(\"NER_f1s.csv\")"
   ]
  },
  {
   "cell_type": "code",
   "execution_count": 15,
   "id": "12b89435",
   "metadata": {
    "ExecuteTime": {
     "end_time": "2023-02-20T07:08:56.552070Z",
     "start_time": "2023-02-20T07:08:56.549642Z"
    }
   },
   "outputs": [],
   "source": [
    "from sklearn.preprocessing import KBinsDiscretizer"
   ]
  },
  {
   "cell_type": "code",
   "execution_count": 16,
   "id": "08349e3c",
   "metadata": {
    "ExecuteTime": {
     "end_time": "2023-02-20T07:08:56.556213Z",
     "start_time": "2023-02-20T07:08:56.553389Z"
    }
   },
   "outputs": [],
   "source": [
    "kb = KBinsDiscretizer(n_bins=20, encode='ordinal', strategy='uniform')"
   ]
  },
  {
   "cell_type": "code",
   "execution_count": 17,
   "id": "f21bc7d9",
   "metadata": {
    "ExecuteTime": {
     "end_time": "2023-02-20T07:08:56.562254Z",
     "start_time": "2023-02-20T07:08:56.558078Z"
    }
   },
   "outputs": [],
   "source": [
    "df['10_bin'] = kb.fit_transform(np.array(df.f1).reshape(-1, 1)).reshape(-1)"
   ]
  },
  {
   "cell_type": "code",
   "execution_count": 18,
   "id": "02358ac9",
   "metadata": {
    "ExecuteTime": {
     "end_time": "2023-02-20T07:08:56.566317Z",
     "start_time": "2023-02-20T07:08:56.563616Z"
    }
   },
   "outputs": [],
   "source": [
    "df['num'] = 1"
   ]
  },
  {
   "cell_type": "code",
   "execution_count": 19,
   "id": "3e1095ff",
   "metadata": {
    "ExecuteTime": {
     "end_time": "2023-02-20T07:08:56.570971Z",
     "start_time": "2023-02-20T07:08:56.567582Z"
    }
   },
   "outputs": [],
   "source": [
    "df.to_csv(\"NER_f1s.csv\")"
   ]
  },
  {
   "cell_type": "code",
   "execution_count": null,
   "id": "6f0ff0ac",
   "metadata": {},
   "outputs": [],
   "source": []
  },
  {
   "cell_type": "code",
   "execution_count": 20,
   "id": "dcb25dc4",
   "metadata": {
    "ExecuteTime": {
     "end_time": "2023-02-20T07:08:56.749537Z",
     "start_time": "2023-02-20T07:08:56.572309Z"
    }
   },
   "outputs": [],
   "source": [
    "from matplotlib import pyplot as plt"
   ]
  },
  {
   "cell_type": "code",
   "execution_count": 21,
   "id": "af066132",
   "metadata": {
    "ExecuteTime": {
     "end_time": "2023-02-20T07:08:56.755526Z",
     "start_time": "2023-02-20T07:08:56.751249Z"
    }
   },
   "outputs": [],
   "source": [
    "\n",
    "kb = KBinsDiscretizer(n_bins=20, encode='ordinal', strategy='uniform')\n",
    "\n",
    "res = kb.fit_transform(np.array(df.f1).reshape(-1, 1)).reshape(-1)"
   ]
  },
  {
   "cell_type": "code",
   "execution_count": 22,
   "id": "79c00a9f",
   "metadata": {
    "ExecuteTime": {
     "end_time": "2023-02-20T07:08:56.760310Z",
     "start_time": "2023-02-20T07:08:56.757158Z"
    }
   },
   "outputs": [],
   "source": [
    "types, count = np.unique(res, return_counts=True)"
   ]
  },
  {
   "cell_type": "code",
   "execution_count": 23,
   "id": "174efef7",
   "metadata": {
    "ExecuteTime": {
     "end_time": "2023-02-20T07:08:56.766450Z",
     "start_time": "2023-02-20T07:08:56.761836Z"
    }
   },
   "outputs": [],
   "source": [
    "x = []\n",
    "y = []\n",
    "for i in range(20):\n",
    "    x.append(i)\n",
    "    if count[i == types]:\n",
    "        y.append(float(count[i == types] / len(res)))\n",
    "    else:\n",
    "        y.append(0)"
   ]
  },
  {
   "cell_type": "code",
   "execution_count": 24,
   "id": "f446f88e",
   "metadata": {
    "ExecuteTime": {
     "end_time": "2023-02-20T07:08:56.771416Z",
     "start_time": "2023-02-20T07:08:56.768183Z"
    }
   },
   "outputs": [],
   "source": [
    "total = 0\n",
    "cul_y = []\n",
    "for i in y:\n",
    "    total += i\n",
    "    cul_y.append(float(total))"
   ]
  },
  {
   "cell_type": "code",
   "execution_count": null,
   "id": "cf6833f7",
   "metadata": {
    "ExecuteTime": {
     "end_time": "2023-02-19T00:27:46.303515Z",
     "start_time": "2023-02-19T00:27:46.219176Z"
    }
   },
   "outputs": [],
   "source": []
  },
  {
   "cell_type": "code",
   "execution_count": 25,
   "id": "28545797",
   "metadata": {
    "ExecuteTime": {
     "end_time": "2023-02-19T02:46:33.869585Z",
     "start_time": "2023-02-19T02:46:33.866160Z"
    }
   },
   "outputs": [
    {
     "data": {
      "text/plain": [
       "[0.07142857142857142,\n",
       " 0.017857142857142856,\n",
       " 0.017857142857142856,\n",
       " 0.07142857142857142,\n",
       " 0.017857142857142856,\n",
       " 0.03571428571428571,\n",
       " 0.017857142857142856,\n",
       " 0.03571428571428571,\n",
       " 0.017857142857142856,\n",
       " 0.05357142857142857,\n",
       " 0.05357142857142857,\n",
       " 0.05357142857142857,\n",
       " 0.05357142857142857,\n",
       " 0.07142857142857142,\n",
       " 0.10714285714285714,\n",
       " 0.05357142857142857,\n",
       " 0.08928571428571429,\n",
       " 0.05357142857142857,\n",
       " 0.03571428571428571,\n",
       " 0.07142857142857142]"
      ]
     },
     "execution_count": 25,
     "metadata": {},
     "output_type": "execute_result"
    }
   ],
   "source": [
    "y"
   ]
  },
  {
   "cell_type": "code",
   "execution_count": null,
   "id": "b104a784",
   "metadata": {
    "ExecuteTime": {
     "end_time": "2023-02-19T00:30:05.041291Z",
     "start_time": "2023-02-19T00:30:04.903274Z"
    }
   },
   "outputs": [],
   "source": []
  },
  {
   "cell_type": "code",
   "execution_count": null,
   "id": "0a4a7b0a",
   "metadata": {
    "ExecuteTime": {
     "end_time": "2023-02-19T00:30:44.719767Z",
     "start_time": "2023-02-19T00:30:44.714675Z"
    }
   },
   "outputs": [],
   "source": []
  },
  {
   "cell_type": "code",
   "execution_count": 26,
   "id": "c4d86282",
   "metadata": {
    "ExecuteTime": {
     "end_time": "2023-02-19T02:46:34.748500Z",
     "start_time": "2023-02-19T02:46:34.743484Z"
    }
   },
   "outputs": [],
   "source": [
    "def hist(data, bins, title, labels, range = None):\n",
    "    fig = plt.figure(figsize=(15, 8))\n",
    "    ax = plt.axes()\n",
    "    plt.ylabel(\"Proportion\")\n",
    "    values, base, _ = plt.hist( data  , bins = bins, density=True, alpha = 0.5, color = \"green\", range = range, label = \"Histogram\")\n",
    "    ax_bis = ax.twinx()\n",
    "    values = np.append(values,0)\n",
    "    ax_bis.plot( base, np.cumsum(values)/ np.cumsum(values)[-1], color='darkorange', marker='o', linestyle='-', markersize = 1, label = \"Cumulative Histogram\" )\n",
    "    plt.xlabel(labels)\n",
    "    plt.ylabel(\"Proportion\")\n",
    "    plt.title(title)\n",
    "    ax_bis.legend();\n",
    "    ax.legend();\n",
    "    plt.show()\n",
    "    return"
   ]
  },
  {
   "cell_type": "code",
   "execution_count": 27,
   "id": "0151179f",
   "metadata": {
    "ExecuteTime": {
     "end_time": "2023-02-19T02:46:35.121078Z",
     "start_time": "2023-02-19T02:46:35.118591Z"
    }
   },
   "outputs": [],
   "source": [
    "from matplotlib import rc\n",
    "import matplotlib\n",
    "#rc('font',**{'family':'sans-serif','sans-serif':['Helvetica']})\n",
    "rc('font',**{'family':'cursive','serif':['Times']})\n",
    "matplotlib.rcParams['font.family'] = ['Source Han Sans TW', 'sans-serif']\n",
    "# rc('text', usetex=True)"
   ]
  },
  {
   "cell_type": "code",
   "execution_count": 28,
   "id": "92a4cdc3",
   "metadata": {
    "ExecuteTime": {
     "end_time": "2023-02-19T02:46:35.489026Z",
     "start_time": "2023-02-19T02:46:35.425976Z"
    }
   },
   "outputs": [
    {
     "name": "stdout",
     "output_type": "stream",
     "text": [
      "huggingface/tokenizers: The current process just got forked, after parallelism has already been used. Disabling parallelism to avoid deadlocks...\n",
      "To disable this warning, you can either:\n",
      "\t- Avoid using `tokenizers` before the fork if possible\n",
      "\t- Explicitly set the environment variable TOKENIZERS_PARALLELISM=(true | false)\n",
      "huggingface/tokenizers: The current process just got forked, after parallelism has already been used. Disabling parallelism to avoid deadlocks...\n",
      "To disable this warning, you can either:\n",
      "\t- Avoid using `tokenizers` before the fork if possible\n",
      "\t- Explicitly set the environment variable TOKENIZERS_PARALLELISM=(true | false)\n"
     ]
    }
   ],
   "source": [
    "from matplotlib import font_manager\n",
    "\n",
    "import matplotlib.font_manager\n",
    "matplotlib.font_manager.findSystemFonts(fontpaths=None, fontext='ttf')\n",
    "\n",
    "font_manager.fontManager.addfont(\"/home/eason/Python/Downloads/NotoSans-Regular.ttf\")\n",
    "\n",
    "# set font\n",
    "plt.rcParams['font.family'] = 'Noto Sans CJK JP'"
   ]
  },
  {
   "cell_type": "code",
   "execution_count": 29,
   "id": "a84e5ea4",
   "metadata": {
    "ExecuteTime": {
     "end_time": "2023-02-19T02:46:35.888986Z",
     "start_time": "2023-02-19T02:46:35.884497Z"
    }
   },
   "outputs": [],
   "source": [
    "from matplotlib import pyplot as plt\n",
    "from matplotlib.font_manager import FontProperties as font\n",
    "font_ = font(\"/home/eason/Python/Downloads/NotoSansRegular.ttf\")"
   ]
  },
  {
   "cell_type": "code",
   "execution_count": 30,
   "id": "6a8e0ecc",
   "metadata": {
    "ExecuteTime": {
     "end_time": "2023-02-19T02:46:36.745049Z",
     "start_time": "2023-02-19T02:46:36.741325Z"
    }
   },
   "outputs": [
    {
     "data": {
      "text/plain": [
       "'/home/eason/anaconda3/envs/py37/lib/python3.7/site-packages/matplotlib/__init__.py'"
      ]
     },
     "execution_count": 30,
     "metadata": {},
     "output_type": "execute_result"
    }
   ],
   "source": [
    "import matplotlib\n",
    "matplotlib.__file__"
   ]
  },
  {
   "cell_type": "code",
   "execution_count": 40,
   "id": "8053a04b",
   "metadata": {
    "ExecuteTime": {
     "end_time": "2023-02-19T02:50:54.806993Z",
     "start_time": "2023-02-19T02:50:52.540899Z"
    }
   },
   "outputs": [
    {
     "name": "stdout",
     "output_type": "stream",
     "text": [
      "huggingface/tokenizers: The current process just got forked, after parallelism has already been used. Disabling parallelism to avoid deadlocks...\n",
      "To disable this warning, you can either:\n",
      "\t- Avoid using `tokenizers` before the fork if possible\n",
      "\t- Explicitly set the environment variable TOKENIZERS_PARALLELISM=(true | false)\n",
      "********** 可用的字体 **********\n",
      "Noto Sans CJK JP\n",
      "Noto Serif CJK JP\n",
      "Droid Sans Fallback\n"
     ]
    }
   ],
   "source": [
    "__author__ = 'Katherine'\n",
    "from matplotlib.font_manager import FontManager\n",
    "import subprocess\n",
    "\n",
    "fm = FontManager()\n",
    "mat_fonts = set(f.name for f in fm.ttflist)\n",
    "\n",
    "output = subprocess.check_output(\n",
    "    'fc-list :lang=zh -f \"%{family}\\n\"', shell=True)\n",
    "output = output.decode('utf-8')\n",
    "# print '*' * 10, '系统可用的中文字体', '*' * 10\n",
    "# print output\n",
    "zh_fonts = set(f.split(',', 1)[0] for f in output.split('\\n'))\n",
    "available = mat_fonts & zh_fonts\n",
    "\n",
    "print('*' * 10, '可用的字体', '*' * 10)\n",
    "for f in available:\n",
    "    print(f)"
   ]
  },
  {
   "cell_type": "code",
   "execution_count": 31,
   "id": "4028db95",
   "metadata": {
    "ExecuteTime": {
     "end_time": "2023-02-19T02:46:37.383059Z",
     "start_time": "2023-02-19T02:46:37.249209Z"
    }
   },
   "outputs": [
    {
     "name": "stderr",
     "output_type": "stream",
     "text": [
      "findfont: Font family ['/home/eason/Python/Downloads/NotoSansRegular.ttf'] not found. Falling back to DejaVu Sans.\n",
      "/home/eason/anaconda3/envs/py37/lib/python3.7/site-packages/matplotlib/backends/backend_agg.py:240: RuntimeWarning: Glyph 36889 missing from current font.\n",
      "  font.set_text(s, 0.0, flags=flags)\n",
      "/home/eason/anaconda3/envs/py37/lib/python3.7/site-packages/matplotlib/backends/backend_agg.py:240: RuntimeWarning: Glyph 26159 missing from current font.\n",
      "  font.set_text(s, 0.0, flags=flags)\n",
      "/home/eason/anaconda3/envs/py37/lib/python3.7/site-packages/matplotlib/backends/backend_agg.py:240: RuntimeWarning: Glyph 22294 missing from current font.\n",
      "  font.set_text(s, 0.0, flags=flags)\n",
      "/home/eason/anaconda3/envs/py37/lib/python3.7/site-packages/matplotlib/backends/backend_agg.py:240: RuntimeWarning: Glyph 34920 missing from current font.\n",
      "  font.set_text(s, 0.0, flags=flags)\n",
      "findfont: Font family ['NotoSans Regular'] not found. Falling back to DejaVu Sans.\n",
      "/home/eason/anaconda3/envs/py37/lib/python3.7/site-packages/matplotlib/backends/backend_agg.py:203: RuntimeWarning: Glyph 36889 missing from current font.\n",
      "  font.set_text(s, 0, flags=flags)\n",
      "/home/eason/anaconda3/envs/py37/lib/python3.7/site-packages/matplotlib/backends/backend_agg.py:203: RuntimeWarning: Glyph 26159 missing from current font.\n",
      "  font.set_text(s, 0, flags=flags)\n",
      "/home/eason/anaconda3/envs/py37/lib/python3.7/site-packages/matplotlib/backends/backend_agg.py:203: RuntimeWarning: Glyph 22294 missing from current font.\n",
      "  font.set_text(s, 0, flags=flags)\n",
      "/home/eason/anaconda3/envs/py37/lib/python3.7/site-packages/matplotlib/backends/backend_agg.py:203: RuntimeWarning: Glyph 34920 missing from current font.\n",
      "  font.set_text(s, 0, flags=flags)\n"
     ]
    },
    {
     "data": {
      "image/png": "[encoded data removed]",
      "text/plain": [
       "<Figure size 432x288 with 1 Axes>"
      ]
     },
     "metadata": {
      "needs_background": "light"
     },
     "output_type": "display_data"
    }
   ],
   "source": [
    "\n",
    "x = [1,2,3,4,5]\n",
    "fig = plt.figure()\n",
    "plt.plot(x)\n",
    "# 設定 fontproperties 參數，指定字型\n",
    "plt.title('這是圖表', fontproperties=font_, fontsize=20)\n",
    "plt.show()"
   ]
  },
  {
   "cell_type": "code",
   "execution_count": 38,
   "id": "f507369b",
   "metadata": {
    "ExecuteTime": {
     "end_time": "2023-02-19T02:49:25.838504Z",
     "start_time": "2023-02-19T02:49:25.834868Z"
    }
   },
   "outputs": [
    {
     "data": {
      "text/plain": [
       "[(180, 183, 198)]"
      ]
     },
     "execution_count": 38,
     "metadata": {},
     "output_type": "execute_result"
    }
   ],
   "source": [
    "[(180,183,198)]"
   ]
  },
  {
   "cell_type": "code",
   "execution_count": 46,
   "id": "7be08c7f",
   "metadata": {
    "ExecuteTime": {
     "end_time": "2023-02-19T02:52:02.193698Z",
     "start_time": "2023-02-19T02:52:02.191394Z"
    }
   },
   "outputs": [],
   "source": [
    "plt.rcParams['font.family'] = 'Noto Serif CJK JP'"
   ]
  },
  {
   "cell_type": "code",
   "execution_count": 68,
   "id": "8754f37d",
   "metadata": {
    "ExecuteTime": {
     "end_time": "2023-02-19T03:01:54.468506Z",
     "start_time": "2023-02-19T03:01:54.465031Z"
    }
   },
   "outputs": [],
   "source": [
    "font = {'family' : 'normal',\n",
    "        'weight' : 'normal',\n",
    "        'size'   : 18}\n",
    "\n",
    "matplotlib.rc('font', **font)"
   ]
  },
  {
   "cell_type": "code",
   "execution_count": 69,
   "id": "65bed3a2",
   "metadata": {
    "ExecuteTime": {
     "end_time": "2023-02-19T03:01:54.612064Z",
     "start_time": "2023-02-19T03:01:54.608873Z"
    }
   },
   "outputs": [],
   "source": [
    "import matplotlib \n",
    "matplotlib.rc('xtick', labelsize=18) \n",
    "matplotlib.rc('ytick', labelsize=18) "
   ]
  },
  {
   "cell_type": "code",
   "execution_count": 74,
   "id": "ff56bd2b",
   "metadata": {
    "ExecuteTime": {
     "end_time": "2023-02-19T03:03:06.762001Z",
     "start_time": "2023-02-19T03:03:06.506279Z"
    },
    "scrolled": true
   },
   "outputs": [
    {
     "name": "stderr",
     "output_type": "stream",
     "text": [
      "/home/eason/anaconda3/envs/py37/lib/python3.7/site-packages/matplotlib/text.py:1215: FutureWarning: elementwise comparison failed; returning scalar instead, but in the future will perform elementwise comparison\n",
      "  if s != self._text:\n"
     ]
    },
    {
     "data": {
      "image/png": "[encoded data removed]",
      "text/plain": [
       "<Figure size 1080x576 with 2 Axes>"
      ]
     },
     "metadata": {
      "needs_background": "light"
     },
     "output_type": "display_data"
    }
   ],
   "source": [
    "data, bins, title, labels = (np.array(df.f1), 20, \"\", (np.array(x)/20))\n",
    "\n",
    "fig = plt.figure(figsize=(15, 8))\n",
    "ax = plt.axes()\n",
    "y_label_1 = \"Template Count on F1 Score\"\n",
    "y_label_2 = \"Cumulative Template Count on F1 Score\"\n",
    "plt.ylabel(y_label_1,)\n",
    "plt.xlabel(\"F1 Score\")\n",
    "\n",
    "values, base, _ = plt.hist( data  , bins = bins, alpha = 1, color = [(180/255,183/255,198/255)],  label = y_label_1)\n",
    "# ax.set_ylim([0,5])\n",
    "ax_bis = ax.twinx()\n",
    "ax_bis.set_ylim([0,1.1])\n",
    "values = np.append(values,0)\n",
    "\n",
    "data2 = np.append(\n",
    "(np.cumsum(values[::-1])/ np.cumsum(values[::-1])[-1])[1:], [1])[::-1]\n",
    "ax_bis.plot( base, data2, color='darkorange', marker='o', linestyle='-', markersize = 1, label = \"Cumulative \\nTemplate Count\\non F1 Score\")\n",
    "plt.xlabel(labels)\n",
    "plt.ylabel(y_label_2)\n",
    "plt.title(title)\n",
    "ax_bis.legend(loc = \"upper left\");\n",
    "ax.legend(loc = \"upper right\");\n",
    "plt.gca().invert_xaxis()\n",
    "plt.show()"
   ]
  },
  {
   "cell_type": "code",
   "execution_count": null,
   "id": "6d5563a9",
   "metadata": {},
   "outputs": [],
   "source": []
  },
  {
   "cell_type": "code",
   "execution_count": 364,
   "id": "18962b3c",
   "metadata": {
    "ExecuteTime": {
     "end_time": "2023-02-19T00:31:03.540135Z",
     "start_time": "2023-02-19T00:31:03.413025Z"
    }
   },
   "outputs": [
    {
     "data": {
      "text/plain": [
       "<BarContainer object of 20 artists>"
      ]
     },
     "execution_count": 364,
     "metadata": {},
     "output_type": "execute_result"
    },
    {
     "data": {
      "image/png": "[encoded data removed]",
      "text/plain": [
       "<Figure size 432x288 with 1 Axes>"
      ]
     },
     "metadata": {
      "needs_background": "light"
     },
     "output_type": "display_data"
    }
   ],
   "source": [
    "plt.bar((np.array(x)/20)[::-1], y)"
   ]
  },
  {
   "cell_type": "code",
   "execution_count": 377,
   "id": "33d3a59c",
   "metadata": {
    "ExecuteTime": {
     "end_time": "2023-02-19T00:39:28.506951Z",
     "start_time": "2023-02-19T00:39:28.265771Z"
    }
   },
   "outputs": [
    {
     "name": "stderr",
     "output_type": "stream",
     "text": [
      "/home/eason/anaconda3/envs/py37/lib/python3.7/site-packages/matplotlib/text.py:1215: FutureWarning: elementwise comparison failed; returning scalar instead, but in the future will perform elementwise comparison\n",
      "  if s != self._text:\n"
     ]
    },
    {
     "data": {
      "image/png": "[encoded data removed]",
      "text/plain": [
       "<Figure size 1080x576 with 2 Axes>"
      ]
     },
     "metadata": {
      "needs_background": "light"
     },
     "output_type": "display_data"
    }
   ],
   "source": [
    "hist(np.array(df.f1), 20, \"AAA\", (np.array(x)/20))"
   ]
  },
  {
   "cell_type": "code",
   "execution_count": 355,
   "id": "1a3c4d82",
   "metadata": {
    "ExecuteTime": {
     "end_time": "2023-02-19T00:30:12.744518Z",
     "start_time": "2023-02-19T00:30:12.563971Z"
    },
    "scrolled": true
   },
   "outputs": [
    {
     "data": {
      "text/plain": [
       "[<matplotlib.lines.Line2D at 0x7f81f72de750>]"
      ]
     },
     "execution_count": 355,
     "metadata": {},
     "output_type": "execute_result"
    },
    {
     "data": {
      "image/png": "[encoded data removed]",
      "text/plain": [
       "<Figure size 432x288 with 1 Axes>"
      ]
     },
     "metadata": {
      "needs_background": "light"
     },
     "output_type": "display_data"
    }
   ],
   "source": [
    "\n",
    "plt.plot(np.array(x)/20, cul_y)"
   ]
  },
  {
   "cell_type": "code",
   "execution_count": 281,
   "id": "1c0f4f16",
   "metadata": {
    "ExecuteTime": {
     "end_time": "2023-02-19T00:02:17.642097Z",
     "start_time": "2023-02-19T00:02:17.635921Z"
    }
   },
   "outputs": [
    {
     "data": {
      "text/plain": [
       "array([19., 19., 19., 19., 18., 18., 17., 17., 17., 16., 16., 16., 16.,\n",
       "       16., 15., 15., 15., 14., 14., 14., 14., 14., 14., 13., 13., 13.,\n",
       "       13., 12., 12., 12., 11., 11., 11., 10., 10., 10.,  9.,  9.,  9.,\n",
       "        8.,  7.,  7.,  6.,  5.,  5.,  4.,  3.,  3.,  3.,  3.,  2.,  1.,\n",
       "        0.,  0.,  0.,  0.])"
      ]
     },
     "execution_count": 281,
     "metadata": {},
     "output_type": "execute_result"
    }
   ],
   "source": [
    "kb.fit_transform(np.array(df.f1).reshape(-1, 1)).reshape(-1)"
   ]
  },
  {
   "cell_type": "code",
   "execution_count": 264,
   "id": "7fc07729",
   "metadata": {
    "ExecuteTime": {
     "end_time": "2023-02-18T23:58:03.100377Z",
     "start_time": "2023-02-18T23:58:03.087397Z"
    }
   },
   "outputs": [
    {
     "data": {
      "text/html": [
       "<div>\n",
       "<style scoped>\n",
       "    .dataframe tbody tr th:only-of-type {\n",
       "        vertical-align: middle;\n",
       "    }\n",
       "\n",
       "    .dataframe tbody tr th {\n",
       "        vertical-align: top;\n",
       "    }\n",
       "\n",
       "    .dataframe thead th {\n",
       "        text-align: right;\n",
       "    }\n",
       "</style>\n",
       "<table border=\"1\" class=\"dataframe\">\n",
       "  <thead>\n",
       "    <tr style=\"text-align: right;\">\n",
       "      <th></th>\n",
       "      <th>name</th>\n",
       "      <th>f1</th>\n",
       "    </tr>\n",
       "  </thead>\n",
       "  <tbody>\n",
       "    <tr>\n",
       "      <th>0</th>\n",
       "      <td>helloworld</td>\n",
       "      <td>1.000000</td>\n",
       "    </tr>\n",
       "    <tr>\n",
       "      <th>3</th>\n",
       "      <td>payment-upon-delivery</td>\n",
       "      <td>1.000000</td>\n",
       "    </tr>\n",
       "    <tr>\n",
       "      <th>49</th>\n",
       "      <td>helloworldstate</td>\n",
       "      <td>1.000000</td>\n",
       "    </tr>\n",
       "    <tr>\n",
       "      <th>28</th>\n",
       "      <td>hellomodule</td>\n",
       "      <td>1.000000</td>\n",
       "    </tr>\n",
       "    <tr>\n",
       "      <th>47</th>\n",
       "      <td>full-payment-upon-demand</td>\n",
       "      <td>0.947368</td>\n",
       "    </tr>\n",
       "    <tr>\n",
       "      <th>18</th>\n",
       "      <td>perishable-goods</td>\n",
       "      <td>0.921348</td>\n",
       "    </tr>\n",
       "    <tr>\n",
       "      <th>55</th>\n",
       "      <td>payment-upon-signature</td>\n",
       "      <td>0.888889</td>\n",
       "    </tr>\n",
       "    <tr>\n",
       "      <th>54</th>\n",
       "      <td>minilatedeliveryandpenalty-payment</td>\n",
       "      <td>0.866667</td>\n",
       "    </tr>\n",
       "    <tr>\n",
       "      <th>31</th>\n",
       "      <td>minilatedeliveryandpenalty-capped</td>\n",
       "      <td>0.866667</td>\n",
       "    </tr>\n",
       "    <tr>\n",
       "      <th>15</th>\n",
       "      <td>lateinvoicewithpayment</td>\n",
       "      <td>0.842105</td>\n",
       "    </tr>\n",
       "    <tr>\n",
       "      <th>45</th>\n",
       "      <td>minilatedeliveryandpenalty</td>\n",
       "      <td>0.827586</td>\n",
       "    </tr>\n",
       "    <tr>\n",
       "      <th>21</th>\n",
       "      <td>docusign-po-failure</td>\n",
       "      <td>0.800000</td>\n",
       "    </tr>\n",
       "    <tr>\n",
       "      <th>43</th>\n",
       "      <td>simplelatedeliveryandpenalty</td>\n",
       "      <td>0.800000</td>\n",
       "    </tr>\n",
       "    <tr>\n",
       "      <th>23</th>\n",
       "      <td>company-information</td>\n",
       "      <td>0.800000</td>\n",
       "    </tr>\n",
       "    <tr>\n",
       "      <th>27</th>\n",
       "      <td>installment-sale</td>\n",
       "      <td>0.781250</td>\n",
       "    </tr>\n",
       "    <tr>\n",
       "      <th>52</th>\n",
       "      <td>full-payment-upon-signature</td>\n",
       "      <td>0.769231</td>\n",
       "    </tr>\n",
       "    <tr>\n",
       "      <th>22</th>\n",
       "      <td>fixed-interests-static</td>\n",
       "      <td>0.758621</td>\n",
       "    </tr>\n",
       "    <tr>\n",
       "      <th>34</th>\n",
       "      <td>latedeliveryandpenalty-optional</td>\n",
       "      <td>0.742857</td>\n",
       "    </tr>\n",
       "    <tr>\n",
       "      <th>7</th>\n",
       "      <td>latedeliveryandpenalty-optional-this</td>\n",
       "      <td>0.742857</td>\n",
       "    </tr>\n",
       "    <tr>\n",
       "      <th>5</th>\n",
       "      <td>latedeliveryandpenalty</td>\n",
       "      <td>0.727273</td>\n",
       "    </tr>\n",
       "    <tr>\n",
       "      <th>50</th>\n",
       "      <td>latedeliveryandpenalty-else</td>\n",
       "      <td>0.727273</td>\n",
       "    </tr>\n",
       "    <tr>\n",
       "      <th>25</th>\n",
       "      <td>contact-information</td>\n",
       "      <td>0.717949</td>\n",
       "    </tr>\n",
       "    <tr>\n",
       "      <th>12</th>\n",
       "      <td>fragile-goods</td>\n",
       "      <td>0.709677</td>\n",
       "    </tr>\n",
       "    <tr>\n",
       "      <th>24</th>\n",
       "      <td>volumediscountolist</td>\n",
       "      <td>0.699552</td>\n",
       "    </tr>\n",
       "    <tr>\n",
       "      <th>16</th>\n",
       "      <td>bill-of-lading</td>\n",
       "      <td>0.696970</td>\n",
       "    </tr>\n",
       "    <tr>\n",
       "      <th>33</th>\n",
       "      <td>volumediscountulist</td>\n",
       "      <td>0.666667</td>\n",
       "    </tr>\n",
       "    <tr>\n",
       "      <th>32</th>\n",
       "      <td>payment-upon-iot</td>\n",
       "      <td>0.666667</td>\n",
       "    </tr>\n",
       "    <tr>\n",
       "      <th>2</th>\n",
       "      <td>latedeliveryandpenalty-currency-conversion</td>\n",
       "      <td>0.641509</td>\n",
       "    </tr>\n",
       "    <tr>\n",
       "      <th>53</th>\n",
       "      <td>eat-apples</td>\n",
       "      <td>0.631579</td>\n",
       "    </tr>\n",
       "    <tr>\n",
       "      <th>36</th>\n",
       "      <td>interest-rate-swap</td>\n",
       "      <td>0.610837</td>\n",
       "    </tr>\n",
       "    <tr>\n",
       "      <th>48</th>\n",
       "      <td>project-information</td>\n",
       "      <td>0.592593</td>\n",
       "    </tr>\n",
       "    <tr>\n",
       "      <th>4</th>\n",
       "      <td>supply-agreement-loc</td>\n",
       "      <td>0.555085</td>\n",
       "    </tr>\n",
       "    <tr>\n",
       "      <th>51</th>\n",
       "      <td>fixed-interests</td>\n",
       "      <td>0.551724</td>\n",
       "    </tr>\n",
       "    <tr>\n",
       "      <th>13</th>\n",
       "      <td>supplyagreement</td>\n",
       "      <td>0.509466</td>\n",
       "    </tr>\n",
       "    <tr>\n",
       "      <th>17</th>\n",
       "      <td>volumediscount</td>\n",
       "      <td>0.507463</td>\n",
       "    </tr>\n",
       "    <tr>\n",
       "      <th>38</th>\n",
       "      <td>demandforecast</td>\n",
       "      <td>0.500000</td>\n",
       "    </tr>\n",
       "    <tr>\n",
       "      <th>6</th>\n",
       "      <td>promissory-note</td>\n",
       "      <td>0.497409</td>\n",
       "    </tr>\n",
       "    <tr>\n",
       "      <th>14</th>\n",
       "      <td>promissory-note-md</td>\n",
       "      <td>0.486772</td>\n",
       "    </tr>\n",
       "    <tr>\n",
       "      <th>26</th>\n",
       "      <td>acceptance-of-delivery</td>\n",
       "      <td>0.482759</td>\n",
       "    </tr>\n",
       "    <tr>\n",
       "      <th>11</th>\n",
       "      <td>car-rental-tr</td>\n",
       "      <td>0.438861</td>\n",
       "    </tr>\n",
       "    <tr>\n",
       "      <th>29</th>\n",
       "      <td>copyright-license</td>\n",
       "      <td>0.391753</td>\n",
       "    </tr>\n",
       "    <tr>\n",
       "      <th>9</th>\n",
       "      <td>certificate-of-incorporation</td>\n",
       "      <td>0.368932</td>\n",
       "    </tr>\n",
       "    <tr>\n",
       "      <th>8</th>\n",
       "      <td>rental-deposit-with</td>\n",
       "      <td>0.301676</td>\n",
       "    </tr>\n",
       "    <tr>\n",
       "      <th>39</th>\n",
       "      <td>rental-deposit</td>\n",
       "      <td>0.297619</td>\n",
       "    </tr>\n",
       "    <tr>\n",
       "      <th>20</th>\n",
       "      <td>supplyagreement-perishable-goods</td>\n",
       "      <td>0.265683</td>\n",
       "    </tr>\n",
       "    <tr>\n",
       "      <th>1</th>\n",
       "      <td>signature-block-title-name-date</td>\n",
       "      <td>0.235294</td>\n",
       "    </tr>\n",
       "    <tr>\n",
       "      <th>19</th>\n",
       "      <td>servicelevelagreement</td>\n",
       "      <td>0.190955</td>\n",
       "    </tr>\n",
       "    <tr>\n",
       "      <th>44</th>\n",
       "      <td>ip-payment</td>\n",
       "      <td>0.190476</td>\n",
       "    </tr>\n",
       "    <tr>\n",
       "      <th>30</th>\n",
       "      <td>saft</td>\n",
       "      <td>0.172662</td>\n",
       "    </tr>\n",
       "    <tr>\n",
       "      <th>35</th>\n",
       "      <td>safte</td>\n",
       "      <td>0.154667</td>\n",
       "    </tr>\n",
       "    <tr>\n",
       "      <th>42</th>\n",
       "      <td>one-time-payment-tr</td>\n",
       "      <td>0.134328</td>\n",
       "    </tr>\n",
       "    <tr>\n",
       "      <th>46</th>\n",
       "      <td>online-payment-contract-tr</td>\n",
       "      <td>0.098004</td>\n",
       "    </tr>\n",
       "    <tr>\n",
       "      <th>40</th>\n",
       "      <td>sales-contract-ru</td>\n",
       "      <td>0.036850</td>\n",
       "    </tr>\n",
       "    <tr>\n",
       "      <th>10</th>\n",
       "      <td>empty</td>\n",
       "      <td>0.000000</td>\n",
       "    </tr>\n",
       "    <tr>\n",
       "      <th>41</th>\n",
       "      <td>empty-contract</td>\n",
       "      <td>0.000000</td>\n",
       "    </tr>\n",
       "    <tr>\n",
       "      <th>37</th>\n",
       "      <td>docusign-connect</td>\n",
       "      <td>0.000000</td>\n",
       "    </tr>\n",
       "  </tbody>\n",
       "</table>\n",
       "</div>"
      ],
      "text/plain": [
       "                                          name        f1\n",
       "0                                   helloworld  1.000000\n",
       "3                        payment-upon-delivery  1.000000\n",
       "49                             helloworldstate  1.000000\n",
       "28                                 hellomodule  1.000000\n",
       "47                    full-payment-upon-demand  0.947368\n",
       "18                            perishable-goods  0.921348\n",
       "55                      payment-upon-signature  0.888889\n",
       "54          minilatedeliveryandpenalty-payment  0.866667\n",
       "31           minilatedeliveryandpenalty-capped  0.866667\n",
       "15                      lateinvoicewithpayment  0.842105\n",
       "45                  minilatedeliveryandpenalty  0.827586\n",
       "21                         docusign-po-failure  0.800000\n",
       "43                simplelatedeliveryandpenalty  0.800000\n",
       "23                         company-information  0.800000\n",
       "27                            installment-sale  0.781250\n",
       "52                 full-payment-upon-signature  0.769231\n",
       "22                      fixed-interests-static  0.758621\n",
       "34             latedeliveryandpenalty-optional  0.742857\n",
       "7         latedeliveryandpenalty-optional-this  0.742857\n",
       "5                       latedeliveryandpenalty  0.727273\n",
       "50                 latedeliveryandpenalty-else  0.727273\n",
       "25                         contact-information  0.717949\n",
       "12                               fragile-goods  0.709677\n",
       "24                         volumediscountolist  0.699552\n",
       "16                              bill-of-lading  0.696970\n",
       "33                         volumediscountulist  0.666667\n",
       "32                            payment-upon-iot  0.666667\n",
       "2   latedeliveryandpenalty-currency-conversion  0.641509\n",
       "53                                  eat-apples  0.631579\n",
       "36                          interest-rate-swap  0.610837\n",
       "48                         project-information  0.592593\n",
       "4                         supply-agreement-loc  0.555085\n",
       "51                             fixed-interests  0.551724\n",
       "13                             supplyagreement  0.509466\n",
       "17                              volumediscount  0.507463\n",
       "38                              demandforecast  0.500000\n",
       "6                              promissory-note  0.497409\n",
       "14                          promissory-note-md  0.486772\n",
       "26                      acceptance-of-delivery  0.482759\n",
       "11                               car-rental-tr  0.438861\n",
       "29                           copyright-license  0.391753\n",
       "9                 certificate-of-incorporation  0.368932\n",
       "8                          rental-deposit-with  0.301676\n",
       "39                              rental-deposit  0.297619\n",
       "20            supplyagreement-perishable-goods  0.265683\n",
       "1              signature-block-title-name-date  0.235294\n",
       "19                       servicelevelagreement  0.190955\n",
       "44                                  ip-payment  0.190476\n",
       "30                                        saft  0.172662\n",
       "35                                       safte  0.154667\n",
       "42                         one-time-payment-tr  0.134328\n",
       "46                  online-payment-contract-tr  0.098004\n",
       "40                           sales-contract-ru  0.036850\n",
       "10                                       empty  0.000000\n",
       "41                              empty-contract  0.000000\n",
       "37                            docusign-connect  0.000000"
      ]
     },
     "execution_count": 264,
     "metadata": {},
     "output_type": "execute_result"
    }
   ],
   "source": [
    "pd.DataFrame(f1s).sort_values(\"f1\", ascending=False)"
   ]
  },
  {
   "cell_type": "code",
   "execution_count": 123,
   "id": "0614997b",
   "metadata": {
    "ExecuteTime": {
     "end_time": "2023-02-16T14:49:02.974888Z",
     "start_time": "2023-02-16T14:49:02.971620Z"
    }
   },
   "outputs": [
    {
     "data": {
      "text/plain": [
       "0.8082338646272604"
      ]
     },
     "execution_count": 123,
     "metadata": {},
     "output_type": "execute_result"
    }
   ],
   "source": [
    "total.mean()"
   ]
  },
  {
   "cell_type": "code",
   "execution_count": 124,
   "id": "03c5c15f",
   "metadata": {
    "ExecuteTime": {
     "end_time": "2023-02-16T14:49:06.089489Z",
     "start_time": "2023-02-16T14:49:06.082713Z"
    },
    "code_folding": [
     0
    ]
   },
   "outputs": [],
   "source": [
    "def perf_measure(y_actual, y_pred):\n",
    "    TP = 0\n",
    "    FP = 0\n",
    "    TN = 0\n",
    "    FN = 0\n",
    "\n",
    "    for i in range(len(y_pred)): \n",
    "        if y_actual[i]==y_pred[i]==1:\n",
    "            TP += 1\n",
    "        if y_pred[i]==1 and y_actual[i]!=y_pred[i]:\n",
    "            FP += 1\n",
    "        if y_actual[i]==y_pred[i]==0:\n",
    "            TN += 1\n",
    "        if y_pred[i]==0 and y_actual[i]!=y_pred[i]:\n",
    "            FN += 1\n",
    "\n",
    "    return(TP, FP, TN, FN)"
   ]
  },
  {
   "cell_type": "code",
   "execution_count": 125,
   "id": "e11777c2",
   "metadata": {
    "ExecuteTime": {
     "end_time": "2023-02-16T14:49:06.332179Z",
     "start_time": "2023-02-16T14:49:06.277733Z"
    }
   },
   "outputs": [],
   "source": [
    "TP, FP, TN, FN = perf_measure(total_true_y, total_pred_y)"
   ]
  },
  {
   "cell_type": "code",
   "execution_count": 127,
   "id": "76125a44",
   "metadata": {
    "ExecuteTime": {
     "end_time": "2023-02-16T14:49:08.954364Z",
     "start_time": "2023-02-16T14:49:08.800087Z"
    }
   },
   "outputs": [
    {
     "data": {
      "text/plain": [
       "array([[32085,  7410],\n",
       "       [  639,  1839]])"
      ]
     },
     "execution_count": 127,
     "metadata": {},
     "output_type": "execute_result"
    }
   ],
   "source": [
    "confusion_matrix(total_true_y, total_pred_y, labels=[0, 1])"
   ]
  },
  {
   "cell_type": "code",
   "execution_count": 347,
   "id": "2987e030",
   "metadata": {
    "ExecuteTime": {
     "end_time": "2023-02-19T00:29:31.082647Z",
     "start_time": "2023-02-19T00:29:31.079140Z"
    }
   },
   "outputs": [
    {
     "data": {
      "text/plain": [
       "array([19., 19., 19., 19., 18., 18., 17., 17., 17., 16., 16., 16., 16.,\n",
       "       16., 15., 15., 15., 14., 14., 14., 14., 14., 14., 13., 13., 13.,\n",
       "       13., 12., 12., 12., 11., 11., 11., 10., 10., 10.,  9.,  9.,  9.,\n",
       "        8.,  7.,  7.,  6.,  5.,  5.,  4.,  3.,  3.,  3.,  3.,  2.,  1.,\n",
       "        0.,  0.,  0.,  0.])"
      ]
     },
     "execution_count": 347,
     "metadata": {},
     "output_type": "execute_result"
    }
   ],
   "source": [
    "res"
   ]
  },
  {
   "cell_type": "code",
   "execution_count": 71,
   "id": "9c059454",
   "metadata": {
    "ExecuteTime": {
     "end_time": "2023-02-16T13:24:55.385013Z",
     "start_time": "2023-02-16T13:24:55.252357Z"
    }
   },
   "outputs": [
    {
     "data": {
      "text/plain": [
       "array([[32013,  7482],\n",
       "       [  639,  1839]])"
      ]
     },
     "execution_count": 71,
     "metadata": {},
     "output_type": "execute_result"
    }
   ],
   "source": [
    "confusion_matrix(total_true_y, total_pred_y, labels=[0, 1])"
   ]
  },
  {
   "cell_type": "code",
   "execution_count": 254,
   "id": "48a0c378",
   "metadata": {
    "ExecuteTime": {
     "end_time": "2023-02-17T11:46:58.349226Z",
     "start_time": "2023-02-17T11:46:58.345587Z"
    }
   },
   "outputs": [
    {
     "data": {
      "text/plain": [
       "41973"
      ]
     },
     "execution_count": 254,
     "metadata": {},
     "output_type": "execute_result"
    }
   ],
   "source": [
    "len(total_true_y)"
   ]
  },
  {
   "cell_type": "code",
   "execution_count": 73,
   "id": "59b9419f",
   "metadata": {
    "ExecuteTime": {
     "end_time": "2023-02-16T13:26:22.922787Z",
     "start_time": "2023-02-16T13:26:22.898612Z"
    }
   },
   "outputs": [
    {
     "data": {
      "text/plain": [
       "0.311721332316298"
      ]
     },
     "execution_count": 73,
     "metadata": {},
     "output_type": "execute_result"
    }
   ],
   "source": []
  },
  {
   "cell_type": "code",
   "execution_count": null,
   "id": "76b1fa3b",
   "metadata": {},
   "outputs": [],
   "source": []
  },
  {
   "cell_type": "code",
   "execution_count": 67,
   "id": "3d6ac6e2",
   "metadata": {
    "ExecuteTime": {
     "end_time": "2023-02-16T13:23:38.084761Z",
     "start_time": "2023-02-16T13:23:38.081985Z"
    }
   },
   "outputs": [
    {
     "data": {
      "text/plain": [
       "1839"
      ]
     },
     "execution_count": 67,
     "metadata": {},
     "output_type": "execute_result"
    }
   ],
   "source": [
    "TP"
   ]
  },
  {
   "cell_type": "code",
   "execution_count": 47,
   "id": "d9ff9bf3",
   "metadata": {
    "ExecuteTime": {
     "end_time": "2023-02-16T13:21:35.385525Z",
     "start_time": "2023-02-16T13:21:35.381834Z"
    }
   },
   "outputs": [
    {
     "data": {
      "text/plain": [
       "1"
      ]
     },
     "execution_count": 47,
     "metadata": {},
     "output_type": "execute_result"
    }
   ],
   "source": [
    "FP"
   ]
  },
  {
   "cell_type": "code",
   "execution_count": 48,
   "id": "87db008a",
   "metadata": {
    "ExecuteTime": {
     "end_time": "2023-02-16T13:21:39.339161Z",
     "start_time": "2023-02-16T13:21:39.335147Z"
    }
   },
   "outputs": [
    {
     "data": {
      "text/plain": [
       "8134"
      ]
     },
     "execution_count": 48,
     "metadata": {},
     "output_type": "execute_result"
    }
   ],
   "source": [
    "TN"
   ]
  },
  {
   "cell_type": "code",
   "execution_count": 49,
   "id": "d6e8b06e",
   "metadata": {
    "ExecuteTime": {
     "end_time": "2023-02-16T13:21:40.871565Z",
     "start_time": "2023-02-16T13:21:40.868213Z"
    }
   },
   "outputs": [
    {
     "data": {
      "text/plain": [
       "0"
      ]
     },
     "execution_count": 49,
     "metadata": {},
     "output_type": "execute_result"
    }
   ],
   "source": [
    "FN"
   ]
  },
  {
   "cell_type": "code",
   "execution_count": null,
   "id": "d297ba5b",
   "metadata": {},
   "outputs": [],
   "source": []
  },
  {
   "cell_type": "code",
   "execution_count": null,
   "id": "1c02f5a7",
   "metadata": {},
   "outputs": [],
   "source": []
  },
  {
   "cell_type": "code",
   "execution_count": null,
   "id": "76c5a5e2",
   "metadata": {},
   "outputs": [],
   "source": []
  },
  {
   "cell_type": "code",
   "execution_count": 29,
   "id": "f4bf5198",
   "metadata": {
    "ExecuteTime": {
     "end_time": "2023-02-16T13:06:33.780404Z",
     "start_time": "2023-02-16T13:06:33.775798Z"
    }
   },
   "outputs": [
    {
     "data": {
      "text/plain": [
       "array([1, 2, 3, 4, 5, 6, 7, 8, 9])"
      ]
     },
     "execution_count": 29,
     "metadata": {},
     "output_type": "execute_result"
    }
   ],
   "source": [
    "np.append([1, 2, 3], [[4, 5, 6], [7, 8, 9]])"
   ]
  },
  {
   "cell_type": "code",
   "execution_count": 20,
   "id": "b128b5e1",
   "metadata": {
    "ExecuteTime": {
     "end_time": "2023-02-16T13:05:12.726093Z",
     "start_time": "2023-02-16T13:05:12.722268Z"
    }
   },
   "outputs": [
    {
     "data": {
      "text/plain": [
       "array([0, 0, 0, 0, 0, 1, 0, 0, 1, 0, 0, 0, 1, 1, 0, 0, 1, 0])"
      ]
     },
     "execution_count": 20,
     "metadata": {},
     "output_type": "execute_result"
    }
   ],
   "source": []
  },
  {
   "cell_type": "code",
   "execution_count": null,
   "id": "5d403d9d",
   "metadata": {},
   "outputs": [],
   "source": []
  },
  {
   "cell_type": "code",
   "execution_count": 105,
   "id": "2b4436a8",
   "metadata": {
    "ExecuteTime": {
     "end_time": "2023-02-16T12:53:16.380821Z",
     "start_time": "2023-02-16T12:53:16.376719Z"
    }
   },
   "outputs": [
    {
     "data": {
      "text/plain": [
       "[{'type': 'O', 'confidence': 0.9404129981994629},\n",
       " {'type': 'B-org', 'confidence': 0.24135534465312958},\n",
       " {'type': 'Organization', 'confidence': 0.2282179296016693}]"
      ]
     },
     "execution_count": 105,
     "metadata": {},
     "output_type": "execute_result"
    }
   ],
   "source": []
  },
  {
   "cell_type": "code",
   "execution_count": 98,
   "id": "36c27976",
   "metadata": {
    "ExecuteTime": {
     "end_time": "2023-02-16T12:51:49.022228Z",
     "start_time": "2023-02-16T12:51:49.007168Z"
    }
   },
   "outputs": [
    {
     "data": {
      "text/plain": [
       "'helloworld'"
      ]
     },
     "execution_count": 98,
     "metadata": {},
     "output_type": "execute_result"
    }
   ],
   "source": [
    "name"
   ]
  },
  {
   "cell_type": "code",
   "execution_count": 100,
   "id": "8d0370aa",
   "metadata": {
    "ExecuteTime": {
     "end_time": "2023-02-16T12:51:56.290360Z",
     "start_time": "2023-02-16T12:51:56.277568Z"
    }
   },
   "outputs": [
    {
     "data": {
      "text/plain": [
       "[0, 0, 0, 0, 0, 0, 0, 0, 1, 1, 1, 0, 1, 0, 0, 0]"
      ]
     },
     "execution_count": 100,
     "metadata": {},
     "output_type": "execute_result"
    }
   ],
   "source": [
    "predict_y"
   ]
  },
  {
   "cell_type": "code",
   "execution_count": 99,
   "id": "7094e898",
   "metadata": {
    "ExecuteTime": {
     "end_time": "2023-02-16T12:51:52.176437Z",
     "start_time": "2023-02-16T12:51:52.163628Z"
    }
   },
   "outputs": [
    {
     "data": {
      "text/plain": [
       "[0, 0, 0, 0, 0, 0, 0, 0, 1, 1, 1, 0, 0, 0, 0, 0]"
      ]
     },
     "execution_count": 99,
     "metadata": {},
     "output_type": "execute_result"
    }
   ],
   "source": [
    "true_y"
   ]
  },
  {
   "cell_type": "code",
   "execution_count": null,
   "id": "2666fd4d",
   "metadata": {},
   "outputs": [],
   "source": []
  },
  {
   "cell_type": "code",
   "execution_count": 28,
   "id": "9d946055",
   "metadata": {
    "ExecuteTime": {
     "end_time": "2023-02-16T11:47:08.119943Z",
     "start_time": "2023-02-16T11:47:08.108595Z"
    }
   },
   "outputs": [
    {
     "data": {
      "text/plain": [
       "'Upon the signing of this Agreement, {{buyer}} shall pay {{amount}} to {{seller}}.'"
      ]
     },
     "execution_count": 28,
     "metadata": {},
     "output_type": "execute_result"
    }
   ],
   "source": [
    "\"\".join(template['/text/grammar.tem.md'])"
   ]
  },
  {
   "cell_type": "code",
   "execution_count": 29,
   "id": "b4b595ca",
   "metadata": {
    "ExecuteTime": {
     "end_time": "2023-02-16T11:47:09.252490Z",
     "start_time": "2023-02-16T11:47:09.249451Z"
    }
   },
   "outputs": [
    {
     "data": {
      "text/plain": [
       "'Upon the signing of this Agreement, \"Dave\" shall pay 50 USD to \"Dan\".'"
      ]
     },
     "execution_count": 29,
     "metadata": {},
     "output_type": "execute_result"
    }
   ],
   "source": [
    "\"\".join(template['/text/sample.md'])"
   ]
  },
  {
   "cell_type": "code",
   "execution_count": 42,
   "id": "fd93c93d",
   "metadata": {
    "ExecuteTime": {
     "end_time": "2023-02-16T11:57:45.737756Z",
     "start_time": "2023-02-16T11:57:42.226504Z"
    }
   },
   "outputs": [],
   "source": []
  },
  {
   "cell_type": "code",
   "execution_count": null,
   "id": "bf5cf5c6",
   "metadata": {
    "ExecuteTime": {
     "end_time": "2023-02-16T12:32:54.309111Z",
     "start_time": "2023-02-16T12:32:54.304829Z"
    }
   },
   "outputs": [],
   "source": []
  },
  {
   "cell_type": "code",
   "execution_count": 82,
   "id": "764b26bc",
   "metadata": {
    "ExecuteTime": {
     "end_time": "2023-02-16T12:32:25.207235Z",
     "start_time": "2023-02-16T12:32:25.202512Z"
    }
   },
   "outputs": [],
   "source": [
    "ans = pd.DataFrame({\"true_y\": true_y, \"predict_y\": predict_y})"
   ]
  },
  {
   "cell_type": "code",
   "execution_count": 83,
   "id": "37eb5e56",
   "metadata": {
    "ExecuteTime": {
     "end_time": "2023-02-16T12:32:26.246437Z",
     "start_time": "2023-02-16T12:32:26.232368Z"
    }
   },
   "outputs": [
    {
     "data": {
      "text/html": [
       "<div>\n",
       "<style scoped>\n",
       "    .dataframe tbody tr th:only-of-type {\n",
       "        vertical-align: middle;\n",
       "    }\n",
       "\n",
       "    .dataframe tbody tr th {\n",
       "        vertical-align: top;\n",
       "    }\n",
       "\n",
       "    .dataframe thead th {\n",
       "        text-align: right;\n",
       "    }\n",
       "</style>\n",
       "<table border=\"1\" class=\"dataframe\">\n",
       "  <thead>\n",
       "    <tr style=\"text-align: right;\">\n",
       "      <th></th>\n",
       "      <th>true_y</th>\n",
       "      <th>predict_y</th>\n",
       "    </tr>\n",
       "  </thead>\n",
       "  <tbody>\n",
       "    <tr>\n",
       "      <th>0</th>\n",
       "      <td>0</td>\n",
       "      <td>0</td>\n",
       "    </tr>\n",
       "    <tr>\n",
       "      <th>1</th>\n",
       "      <td>0</td>\n",
       "      <td>0</td>\n",
       "    </tr>\n",
       "    <tr>\n",
       "      <th>2</th>\n",
       "      <td>0</td>\n",
       "      <td>0</td>\n",
       "    </tr>\n",
       "    <tr>\n",
       "      <th>3</th>\n",
       "      <td>0</td>\n",
       "      <td>0</td>\n",
       "    </tr>\n",
       "    <tr>\n",
       "      <th>4</th>\n",
       "      <td>0</td>\n",
       "      <td>0</td>\n",
       "    </tr>\n",
       "    <tr>\n",
       "      <th>5</th>\n",
       "      <td>0</td>\n",
       "      <td>1</td>\n",
       "    </tr>\n",
       "    <tr>\n",
       "      <th>6</th>\n",
       "      <td>0</td>\n",
       "      <td>0</td>\n",
       "    </tr>\n",
       "    <tr>\n",
       "      <th>7</th>\n",
       "      <td>0</td>\n",
       "      <td>0</td>\n",
       "    </tr>\n",
       "    <tr>\n",
       "      <th>8</th>\n",
       "      <td>1</td>\n",
       "      <td>1</td>\n",
       "    </tr>\n",
       "    <tr>\n",
       "      <th>9</th>\n",
       "      <td>0</td>\n",
       "      <td>0</td>\n",
       "    </tr>\n",
       "    <tr>\n",
       "      <th>10</th>\n",
       "      <td>0</td>\n",
       "      <td>0</td>\n",
       "    </tr>\n",
       "    <tr>\n",
       "      <th>11</th>\n",
       "      <td>0</td>\n",
       "      <td>0</td>\n",
       "    </tr>\n",
       "    <tr>\n",
       "      <th>12</th>\n",
       "      <td>1</td>\n",
       "      <td>1</td>\n",
       "    </tr>\n",
       "    <tr>\n",
       "      <th>13</th>\n",
       "      <td>1</td>\n",
       "      <td>1</td>\n",
       "    </tr>\n",
       "    <tr>\n",
       "      <th>14</th>\n",
       "      <td>0</td>\n",
       "      <td>0</td>\n",
       "    </tr>\n",
       "    <tr>\n",
       "      <th>15</th>\n",
       "      <td>0</td>\n",
       "      <td>0</td>\n",
       "    </tr>\n",
       "    <tr>\n",
       "      <th>16</th>\n",
       "      <td>1</td>\n",
       "      <td>1</td>\n",
       "    </tr>\n",
       "    <tr>\n",
       "      <th>17</th>\n",
       "      <td>1</td>\n",
       "      <td>0</td>\n",
       "    </tr>\n",
       "  </tbody>\n",
       "</table>\n",
       "</div>"
      ],
      "text/plain": [
       "    true_y  predict_y\n",
       "0        0          0\n",
       "1        0          0\n",
       "2        0          0\n",
       "3        0          0\n",
       "4        0          0\n",
       "5        0          1\n",
       "6        0          0\n",
       "7        0          0\n",
       "8        1          1\n",
       "9        0          0\n",
       "10       0          0\n",
       "11       0          0\n",
       "12       1          1\n",
       "13       1          1\n",
       "14       0          0\n",
       "15       0          0\n",
       "16       1          1\n",
       "17       1          0"
      ]
     },
     "execution_count": 83,
     "metadata": {},
     "output_type": "execute_result"
    }
   ],
   "source": [
    "ans"
   ]
  },
  {
   "cell_type": "code",
   "execution_count": null,
   "id": "8a21c788",
   "metadata": {},
   "outputs": [],
   "source": []
  },
  {
   "cell_type": "code",
   "execution_count": 69,
   "id": "73938020",
   "metadata": {
    "ExecuteTime": {
     "end_time": "2023-02-16T12:19:47.892492Z",
     "start_time": "2023-02-16T12:19:47.881871Z"
    }
   },
   "outputs": [
    {
     "data": {
      "text/plain": [
       "['  Upon',\n",
       " '  Ġthe',\n",
       " '  Ġsigning',\n",
       " '  Ġof',\n",
       " '  Ġthis',\n",
       " '  ĠAgreement',\n",
       " '  ,',\n",
       " '- Ġ\"',\n",
       " '- Dave',\n",
       " '- \"',\n",
       " '  Ġshall',\n",
       " '  Ġpay',\n",
       " '- Ġ50',\n",
       " '- ĠUSD',\n",
       " '  Ġto',\n",
       " '- Ġ\"',\n",
       " '- Dan',\n",
       " '- \".']"
      ]
     },
     "execution_count": 69,
     "metadata": {},
     "output_type": "execute_result"
    }
   ],
   "source": [
    "sample_with_mark"
   ]
  },
  {
   "cell_type": "code",
   "execution_count": 50,
   "id": "1693af21",
   "metadata": {
    "ExecuteTime": {
     "end_time": "2023-02-16T12:01:45.921641Z",
     "start_time": "2023-02-16T12:01:45.917518Z"
    }
   },
   "outputs": [
    {
     "data": {
      "text/plain": [
       "['  Upon',\n",
       " '  Ġthe',\n",
       " '  Ġsigning',\n",
       " '  Ġof',\n",
       " '  Ġthis',\n",
       " '  ĠAgreement',\n",
       " '  ,',\n",
       " '- Ġ\"',\n",
       " '- Dave',\n",
       " '- \"',\n",
       " '+ Ġ{{',\n",
       " '+ buy',\n",
       " '+ er',\n",
       " '+ }}',\n",
       " '  Ġshall',\n",
       " '  Ġpay',\n",
       " '- Ġ50',\n",
       " '- ĠUSD',\n",
       " '+ Ġ{{',\n",
       " '+ amount',\n",
       " '+ }}',\n",
       " '  Ġto',\n",
       " '- Ġ\"',\n",
       " '- Dan',\n",
       " '- \".',\n",
       " '+ Ġ{{',\n",
       " '+ seller',\n",
       " '+ }}',\n",
       " '+ .']"
      ]
     },
     "execution_count": 50,
     "metadata": {},
     "output_type": "execute_result"
    }
   ],
   "source": []
  },
  {
   "cell_type": "code",
   "execution_count": null,
   "id": "a095f145",
   "metadata": {},
   "outputs": [],
   "source": []
  },
  {
   "cell_type": "code",
   "execution_count": 20,
   "id": "6b6e8ba2",
   "metadata": {
    "ExecuteTime": {
     "end_time": "2023-02-09T03:49:08.613581Z",
     "start_time": "2023-02-09T03:49:03.685329Z"
    }
   },
   "outputs": [
    {
     "name": "stderr",
     "output_type": "stream",
     "text": [
      "2023-02-09 11:49:04.071346: I tensorflow/stream_executor/platform/default/dso_loader.cc:53] Successfully opened dynamic library libcudart.so.11.0\n"
     ]
    }
   ],
   "source": []
  },
  {
   "cell_type": "code",
   "execution_count": 24,
   "id": "d08658c9",
   "metadata": {
    "ExecuteTime": {
     "end_time": "2023-02-09T03:49:37.134803Z",
     "start_time": "2023-02-09T03:49:37.125735Z"
    }
   },
   "outputs": [
    {
     "data": {
      "text/plain": [
       "['  Upon',\n",
       " '  Ġthe',\n",
       " '  Ġsigning',\n",
       " '  Ġof',\n",
       " '  Ġthis',\n",
       " '  ĠAgreement',\n",
       " '  ,',\n",
       " '- Ġ\"',\n",
       " '- Dave',\n",
       " '- \"',\n",
       " '+ Ġ{{',\n",
       " '+ buy',\n",
       " '+ er',\n",
       " '+ }}',\n",
       " '  Ġshall',\n",
       " '  Ġpay',\n",
       " '- Ġ50',\n",
       " '- ĠUSD',\n",
       " '+ Ġ{{',\n",
       " '+ amount',\n",
       " '+ }}',\n",
       " '  Ġto',\n",
       " '- Ġ\"',\n",
       " '- Dan',\n",
       " '- \".',\n",
       " '+ Ġ{{',\n",
       " '+ seller',\n",
       " '+ }}',\n",
       " '+ .']"
      ]
     },
     "execution_count": 24,
     "metadata": {},
     "output_type": "execute_result"
    }
   ],
   "source": [
    "list(diff)"
   ]
  },
  {
   "cell_type": "code",
   "execution_count": 12,
   "id": "d1d69700",
   "metadata": {
    "ExecuteTime": {
     "end_time": "2023-02-09T03:46:28.447138Z",
     "start_time": "2023-02-09T03:46:28.437477Z"
    }
   },
   "outputs": [
    {
     "name": "stdout",
     "output_type": "stream",
     "text": [
      "The Difference Between Two Strings: \n",
      "{'50', '{{seller}}.', '{{buyer}}', '\"Dave\"', 'USD', '\"Dan\".', '{{amount}}'}\n",
      "The programs runs successfully.\n"
     ]
    }
   ],
   "source": [
    "difference(\"\".join(template['/text/sample.md']), \"\".join(template['/text/grammar.tem.md']))\n"
   ]
  },
  {
   "cell_type": "code",
   "execution_count": 10,
   "id": "9db4d391",
   "metadata": {
    "ExecuteTime": {
     "end_time": "2023-02-09T03:46:00.397921Z",
     "start_time": "2023-02-09T03:46:00.385481Z"
    }
   },
   "outputs": [
    {
     "name": "stdout",
     "output_type": "stream",
     "text": [
      "The Difference Between Two Strings: \n",
      "{'good', 'bad'}\n",
      "The programs runs successfully.\n"
     ]
    }
   ],
   "source": [
    "def difference(string1, string2):\n",
    "      # Split both strings into list items\n",
    "  string1 = string1.split()\n",
    "  string2 = string2.split()\n",
    "\n",
    "  A = set(string1) # Store all string1 list items in set A\n",
    "  B = set(string2) # Store all string2 list items in set B\n",
    " \n",
    "  str_diff = A.symmetric_difference(B)\n",
    "  isEmpty = (len(str_diff) == 0)\n",
    " \n",
    "  if isEmpty:\n",
    "    print(\"No Difference. Both Strings Are Same\")\n",
    "  else:\n",
    "    print(\"The Difference Between Two Strings: \")\n",
    "    print(str_diff)\n",
    "  \n",
    "  print('The programs runs successfully.')\n",
    "\n",
    "# Driver code to call a function\n",
    "usr_str1 = 'Educative is good'\n",
    "usr_str2 = 'Educative is bad'\n",
    "output = difference(usr_str1, usr_str2)\n"
   ]
  },
  {
   "cell_type": "code",
   "execution_count": null,
   "id": "3375a9e3",
   "metadata": {},
   "outputs": [],
   "source": []
  },
  {
   "cell_type": "code",
   "execution_count": null,
   "id": "463e6bf6",
   "metadata": {},
   "outputs": [],
   "source": []
  },
  {
   "cell_type": "code",
   "execution_count": 7,
   "id": "7d7a60bf",
   "metadata": {
    "ExecuteTime": {
     "end_time": "2023-02-09T03:44:24.171584Z",
     "start_time": "2023-02-09T03:44:24.159743Z"
    }
   },
   "outputs": [
    {
     "data": {
      "text/plain": [
       "{'/request.json': {'$class': 'org.accordproject.payment.PaymentReceived'},\n",
       " '/.cucumber.js': [\"require('@accordproject/cicero-test').Steps;\"],\n",
       " '/logic/logic.ergo': ['/*\\n',\n",
       "  ' * Licensed under the Apache License, Version 2.0 (the \"License\");\\n',\n",
       "  ' * you may not use this file except in compliance with the License.\\n',\n",
       "  ' * You may obtain a copy of the License at\\n',\n",
       "  ' *\\n',\n",
       "  ' * http://www.apache.org/licenses/LICENSE-2.0\\n',\n",
       "  ' *\\n',\n",
       "  ' * Unless required by applicable law or agreed to in writing, software\\n',\n",
       "  ' * distributed under the License is distributed on an \"AS IS\" BASIS,\\n',\n",
       "  ' * WITHOUT WARRANTIES OR CONDITIONS OF ANY KIND, either express or implied.\\n',\n",
       "  ' * See the License for the specific language governing permissions and\\n',\n",
       "  ' * limitations under the License.\\n',\n",
       "  ' */\\n',\n",
       "  '\\n',\n",
       "  'namespace org.accordproject.payment.uponsignature\\n',\n",
       "  '\\n',\n",
       "  'import org.accordproject.runtime.*\\n',\n",
       "  'import org.accordproject.obligation.*\\n',\n",
       "  'import org.accordproject.signature.ContractSigned\\n',\n",
       "  'import org.accordproject.payment.PaymentReceived\\n',\n",
       "  '\\n',\n",
       "  '/**\\n',\n",
       "  ' * This smart clause emits a payment obligation when the contract is signed\\n',\n",
       "  ' */\\n',\n",
       "  'contract PaymentUponSignature over PaymentUponSignatureContract state PaymentUponSignatureState {\\n',\n",
       "  '  \\n',\n",
       "  '  /**\\n',\n",
       "  '   * Sets the initial state for the clause\\n',\n",
       "  '   */\\n',\n",
       "  '  clause init(request : Request) : Response {   \\n',\n",
       "  '    set state PaymentUponSignatureState {\\n',\n",
       "  '      status: INITIALIZED\\n',\n",
       "  '    };\\n',\n",
       "  '    return Response{}\\n',\n",
       "  '  }\\n',\n",
       "  '\\n',\n",
       "  '  /**\\n',\n",
       "  '   * When the contract is signed a payment obligation is emitted\\n',\n",
       "  '   */\\n',\n",
       "  '  clause contractSigned(request : ContractSigned) : Response emits PaymentObligation {\\n',\n",
       "  '    enforce (state.status = INITIALIZED) \\n',\n",
       "  '      else throw Error{ message: `Contract state is invalid {{% state.status %}}` };\\n',\n",
       "  '    \\n',\n",
       "  '    emit PaymentObligation{\\n',\n",
       "  '      contract: contract,\\n',\n",
       "  '      promisor: some(contract.buyer),\\n',\n",
       "  '      promisee: some(contract.seller),\\n',\n",
       "  '      deadline: none,\\n',\n",
       "  '      amount: contract.amount,\\n',\n",
       "  '      description: toString(contract.buyer) ++ \" should pay contract amount to \" ++ toString(contract.seller)\\n',\n",
       "  '    };\\n',\n",
       "  '    set state.status = OBLIGATION_EMITTED;\\n',\n",
       "  '    return Response{}\\n',\n",
       "  '  }\\n',\n",
       "  '\\n',\n",
       "  '  /**\\n',\n",
       "  '   * Complete the contract when payment is received.\\n',\n",
       "  '   */\\n',\n",
       "  '  clause paymentReceived(request : PaymentReceived): Response {\\n',\n",
       "  '    enforce (state.status = OBLIGATION_EMITTED) \\n',\n",
       "  '    else throw Error{ message: \"Either a payment obligation hasn\\'t yet been emitted by the contract or payment notification has already been received\" };\\n',\n",
       "  '    set state.status = COMPLETED;\\n',\n",
       "  '    return Response{}\\n',\n",
       "  '  }\\n',\n",
       "  '}\\n'],\n",
       " '/README.md': ['# Payment Upon Signature\\n',\n",
       "  '\\n',\n",
       "  'This is a generic payment clause applicable to any type of contract that requires some payment at the time of signature.\\n',\n",
       "  '\\n'],\n",
       " '/package.json': {'name': 'payment-upon-signature',\n",
       "  'displayName': 'Payment Upon Signature',\n",
       "  'version': '0.10.0',\n",
       "  'description': 'This is a generic payment clause applicable to any type of contract that requires some payment at the time of signature.',\n",
       "  'author': 'Accord Project',\n",
       "  'license': 'Apache-2.0',\n",
       "  'accordproject': {'template': 'contract', 'cicero': '^0.22.0'},\n",
       "  'devDependencies': {'cucumber': '^5.1.0'},\n",
       "  'scripts': {'test': 'cucumber-js test -r .cucumber.js'},\n",
       "  'keywords': ['payment',\n",
       "   'pay',\n",
       "   'upon',\n",
       "   'signature',\n",
       "   'sign',\n",
       "   'signing',\n",
       "   'agreement',\n",
       "   'clause',\n",
       "   'time']},\n",
       " '/model/model.cto': ['namespace org.accordproject.payment.uponsignature\\n',\n",
       "  '\\n',\n",
       "  'import org.accordproject.contract.* from https://models.accordproject.org/accordproject/contract.cto\\n',\n",
       "  'import org.accordproject.party.* from https://models.accordproject.org/accordproject/party.cto\\n',\n",
       "  'import org.accordproject.runtime.* from https://models.accordproject.org/accordproject/runtime.cto\\n',\n",
       "  'import org.accordproject.obligation.* from https://models.accordproject.org/accordproject/obligation.cto\\n',\n",
       "  'import org.accordproject.money.MonetaryAmount from https://models.accordproject.org/money@0.2.0.cto\\n',\n",
       "  'import org.accordproject.signature.ContractSigned from https://models.accordproject.org/signature/signature@0.2.0.cto\\n',\n",
       "  'import org.accordproject.payment.PaymentReceived from https://models.accordproject.org/payment/payment@0.2.0.cto\\n',\n",
       "  '\\n',\n",
       "  'asset PaymentUponSignatureState extends State {\\n',\n",
       "  '  o ContractLifecycleStatus status\\n',\n",
       "  '}\\n',\n",
       "  '\\n',\n",
       "  'enum ContractLifecycleStatus {\\n',\n",
       "  '  o INITIALIZED\\n',\n",
       "  '  o OBLIGATION_EMITTED\\n',\n",
       "  '  o COMPLETED\\n',\n",
       "  '}\\n',\n",
       "  '\\n',\n",
       "  '/**\\n',\n",
       "  ' * The template model\\n',\n",
       "  ' */\\n',\n",
       "  'asset PaymentUponSignatureContract extends Contract {\\n',\n",
       "  '  --> Party buyer\\n',\n",
       "  '  --> Party seller\\n',\n",
       "  '  o MonetaryAmount amount\\n',\n",
       "  '}\\n'],\n",
       " '/text/sample.md': ['Upon the signing of this Agreement, \"Dave\" shall pay 50 USD to \"Dan\".'],\n",
       " '/text/grammar.tem.md': ['Upon the signing of this Agreement, {{buyer}} shall pay {{amount}} to {{seller}}.'],\n",
       " '/request-sign.json': {'$class': 'org.accordproject.signature.ContractSigned',\n",
       "  'contract': 'MY_CONTRACT'},\n",
       " 'NER': {'prediction': [{'token': 'Upon',\n",
       "    'predictions': [{'type': 'O', 'confidence': 0.9465506076812744},\n",
       "     {'type': 'String', 'confidence': 0.2503378987312317},\n",
       "     {'type': 'Person', 'confidence': 0.13618318736553192}]},\n",
       "   {'token': 'Ġthe',\n",
       "    'predictions': [{'type': 'O', 'confidence': 0.9957129955291748},\n",
       "     {'type': 'B-org', 'confidence': 0.048760656267404556},\n",
       "     {'type': 'Person', 'confidence': 0.044754862785339355}]},\n",
       "   {'token': 'Ġsigning',\n",
       "    'predictions': [{'type': 'O', 'confidence': 0.7746427655220032},\n",
       "     {'type': 'TemporalUnit', 'confidence': 0.1522894948720932},\n",
       "     {'type': 'Party87', 'confidence': 0.10787118971347809}]},\n",
       "   {'token': 'Ġof',\n",
       "    'predictions': [{'type': 'O', 'confidence': 0.9156043529510498},\n",
       "     {'type': 'TemporalUnit', 'confidence': 0.2166566252708435},\n",
       "     {'type': 'Party87', 'confidence': 0.1489492952823639}]},\n",
       "   {'token': 'Ġthis',\n",
       "    'predictions': [{'type': 'O', 'confidence': 0.8999553322792053},\n",
       "     {'type': 'B-org', 'confidence': 0.21784694492816925},\n",
       "     {'type': 'Party87', 'confidence': 0.19514445960521698}]},\n",
       "   {'token': 'ĠAgreement',\n",
       "    'predictions': [{'type': 'Party', 'confidence': 0.6479926109313965},\n",
       "     {'type': 'String', 'confidence': 0.5550543069839478},\n",
       "     {'type': 'B-org', 'confidence': 0.4012811779975891}]},\n",
       "   {'token': ',',\n",
       "    'predictions': [{'type': 'O', 'confidence': 0.9279784560203552},\n",
       "     {'type': 'Party87', 'confidence': 0.10851234942674637},\n",
       "     {'type': 'B-org', 'confidence': 0.07943621277809143}]},\n",
       "   {'token': 'Ġ\"',\n",
       "    'predictions': [{'type': 'O', 'confidence': 0.5985324382781982},\n",
       "     {'type': 'Party', 'confidence': 0.3996054232120514},\n",
       "     {'type': 'Party87', 'confidence': 0.31569111347198486}]},\n",
       "   {'token': 'Dave',\n",
       "    'predictions': [{'type': 'String', 'confidence': 0.7141955494880676},\n",
       "     {'type': 'Party', 'confidence': 0.6634715795516968},\n",
       "     {'type': 'Party87', 'confidence': 0.5820321440696716}]},\n",
       "   {'token': '\"',\n",
       "    'predictions': [{'type': 'O', 'confidence': 0.7443751692771912},\n",
       "     {'type': 'Party', 'confidence': 0.49219000339508057},\n",
       "     {'type': 'Party87', 'confidence': 0.436458021402359}]},\n",
       "   {'token': 'Ġshall',\n",
       "    'predictions': [{'type': 'O', 'confidence': 0.8392053842544556},\n",
       "     {'type': 'String', 'confidence': 0.40371832251548767},\n",
       "     {'type': 'B-org', 'confidence': 0.2156655490398407}]},\n",
       "   {'token': 'Ġpay',\n",
       "    'predictions': [{'type': 'O', 'confidence': 0.8480480313301086},\n",
       "     {'type': 'Party87', 'confidence': 0.1732647567987442},\n",
       "     {'type': 'Party', 'confidence': 0.10419870913028717}]},\n",
       "   {'token': 'Ġ50',\n",
       "    'predictions': [{'type': 'Integer', 'confidence': 0.722781240940094},\n",
       "     {'type': 'Party', 'confidence': 0.2063666135072708},\n",
       "     {'type': 'Party87', 'confidence': 0.15474775433540344}]},\n",
       "   {'token': 'ĠUSD',\n",
       "    'predictions': [{'type': 'Party', 'confidence': 0.6796419620513916},\n",
       "     {'type': 'String', 'confidence': 0.6445955038070679},\n",
       "     {'type': 'Party87', 'confidence': 0.49765831232070923}]},\n",
       "   {'token': 'Ġto',\n",
       "    'predictions': [{'type': 'O', 'confidence': 0.7176685333251953},\n",
       "     {'type': 'Party87', 'confidence': 0.17555184662342072},\n",
       "     {'type': 'Party', 'confidence': 0.13625924289226532}]},\n",
       "   {'token': 'Ġ\"',\n",
       "    'predictions': [{'type': 'O', 'confidence': 0.5558497309684753},\n",
       "     {'type': 'Party', 'confidence': 0.3618706166744232},\n",
       "     {'type': 'Party87', 'confidence': 0.23377111554145813}]},\n",
       "   {'token': 'Dan',\n",
       "    'predictions': [{'type': 'Party', 'confidence': 0.6514667868614197},\n",
       "     {'type': 'String', 'confidence': 0.638133704662323},\n",
       "     {'type': 'Party87', 'confidence': 0.5413485169410706}]},\n",
       "   {'token': '\".',\n",
       "    'predictions': [{'type': 'O', 'confidence': 0.848987340927124},\n",
       "     {'type': 'B-org', 'confidence': 0.314912348985672},\n",
       "     {'type': 'String', 'confidence': 0.29333725571632385}]}]}}"
      ]
     },
     "execution_count": 7,
     "metadata": {},
     "output_type": "execute_result"
    }
   ],
   "source": [
    "template"
   ]
  },
  {
   "cell_type": "code",
   "execution_count": null,
   "id": "c59d6364",
   "metadata": {},
   "outputs": [],
   "source": []
  }
 ],
 "metadata": {
  "kernelspec": {
   "display_name": "py37",
   "language": "python",
   "name": "py37"
  },
  "language_info": {
   "codemirror_mode": {
    "name": "ipython",
    "version": 3
   },
   "file_extension": ".py",
   "mimetype": "text/x-python",
   "name": "python",
   "nbconvert_exporter": "python",
   "pygments_lexer": "ipython3",
   "version": "3.7.10"
  }
 },
 "nbformat": 4,
 "nbformat_minor": 5
}
