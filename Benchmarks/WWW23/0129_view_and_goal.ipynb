{
 "cells": [
  {
   "cell_type": "code",
   "execution_count": 1,
   "metadata": {
    "ExecuteTime": {
     "end_time": "2023-01-29T12:41:11.589298Z",
     "start_time": "2023-01-29T12:41:11.586951Z"
    }
   },
   "outputs": [],
   "source": [
    "import json\n",
    "\n",
    "with open(\"/Users/eason/Downloads/Accord_all_contract.json\", \"r\") as f:\n",
    "    data = json.load(f)"
   ]
  },
  {
   "cell_type": "code",
   "execution_count": 6,
   "metadata": {
    "ExecuteTime": {
     "end_time": "2023-01-29T12:41:57.454891Z",
     "start_time": "2023-01-29T12:41:57.451890Z"
    }
   },
   "outputs": [
    {
     "data": {
      "text/plain": [
       "56"
      ]
     },
     "execution_count": 6,
     "metadata": {},
     "output_type": "execute_result"
    }
   ],
   "source": [
    "len(data.keys())"
   ]
  },
  {
   "cell_type": "code",
   "execution_count": 9,
   "metadata": {
    "ExecuteTime": {
     "end_time": "2023-01-29T12:42:24.853613Z",
     "start_time": "2023-01-29T12:42:24.849638Z"
    }
   },
   "outputs": [
    {
     "data": {
      "text/plain": [
       "dict_keys(['/request.json', '/state.json', '/.cucumber.js', '/logic/logic.ergo', '/README.md', '/package.json', '/model/clause.cto', '/text/sample.md', '/text/grammar.tem.md', '/text/sample-noforcemajeure.md', '/request-forcemajeure.json'])"
      ]
     },
     "execution_count": 9,
     "metadata": {},
     "output_type": "execute_result"
    }
   ],
   "source": [
    "data['latedeliveryandpenalty'].keys()"
   ]
  },
  {
   "cell_type": "code",
   "execution_count": 18,
   "metadata": {
    "ExecuteTime": {
     "end_time": "2023-01-29T12:44:55.566206Z",
     "start_time": "2023-01-29T12:44:55.562967Z"
    }
   },
   "outputs": [
    {
     "data": {
      "text/plain": [
       "{'$class': 'org.accordproject.latedeliveryandpenalty.LateDeliveryAndPenaltyRequest',\n",
       " 'forceMajeure': False,\n",
       " 'agreedDelivery': '2017-12-17T03:24:00-05:00',\n",
       " 'deliveredAt': None,\n",
       " 'goodsValue': 200.0}"
      ]
     },
     "execution_count": 18,
     "metadata": {},
     "output_type": "execute_result"
    }
   ],
   "source": [
    "data['latedeliveryandpenalty']['/request.json']"
   ]
  },
  {
   "cell_type": "markdown",
   "metadata": {},
   "source": [
    "https://templates.accordproject.org/latedeliveryandpenalty@0.15.0.html"
   ]
  },
  {
   "cell_type": "code",
   "execution_count": 13,
   "metadata": {
    "ExecuteTime": {
     "end_time": "2023-01-29T12:43:04.910197Z",
     "start_time": "2023-01-29T12:43:04.907087Z"
    }
   },
   "outputs": [
    {
     "data": {
      "text/plain": [
       "['## Late Delivery and Penalty.\\n',\n",
       " '\\n',\n",
       " 'In case of delayed delivery except for Force Majeure cases,\\n',\n",
       " '\"Dan\" (the Seller) shall pay to \"Steve\" (the Buyer) for every 2 days\\n',\n",
       " 'of delay penalty amounting to 10.5% of the total value of the Equipment\\n',\n",
       " 'whose delivery has been delayed. Any fractional part of a days is to be\\n',\n",
       " 'considered a full days. The total amount of penalty shall not however,\\n',\n",
       " 'exceed 55% of the total value of the Equipment involved in late delivery.\\n',\n",
       " 'If the delay is more than 15 days, the Buyer is entitled to terminate this Contract.']"
      ]
     },
     "execution_count": 13,
     "metadata": {},
     "output_type": "execute_result"
    }
   ],
   "source": [
    "data['latedeliveryandpenalty']['/text/sample.md']"
   ]
  },
  {
   "cell_type": "code",
   "execution_count": 11,
   "metadata": {
    "ExecuteTime": {
     "end_time": "2023-01-29T12:42:51.044219Z",
     "start_time": "2023-01-29T12:42:51.040962Z"
    }
   },
   "outputs": [
    {
     "data": {
      "text/plain": [
       "['## Late Delivery and Penalty.\\n',\n",
       " '\\n',\n",
       " 'In case of delayed delivery{{#if forceMajeure}} except for Force Majeure cases,{{/if}}\\n',\n",
       " '{{seller}} (the Seller) shall pay to {{buyer}} (the Buyer) for every {{penaltyDuration}}\\n',\n",
       " 'of delay penalty amounting to {{penaltyPercentage}}% of the total value of the Equipment\\n',\n",
       " 'whose delivery has been delayed. Any fractional part of a {{fractionalPart}} is to be\\n',\n",
       " 'considered a full {{fractionalPart}}. The total amount of penalty shall not however,\\n',\n",
       " 'exceed {{capPercentage}}% of the total value of the Equipment involved in late delivery.\\n',\n",
       " 'If the delay is more than {{termination}}, the Buyer is entitled to terminate this Contract.']"
      ]
     },
     "execution_count": 11,
     "metadata": {},
     "output_type": "execute_result"
    }
   ],
   "source": [
    "data['latedeliveryandpenalty']['/text/grammar.tem.md']"
   ]
  },
  {
   "cell_type": "markdown",
   "metadata": {
    "ExecuteTime": {
     "end_time": "2023-01-29T12:51:33.940233Z",
     "start_time": "2023-01-29T12:51:33.935415Z"
    }
   },
   "source": [
    "首先，透過這樣就可以驗證 QA 的準確度。\n",
    "\n",
    "至於 NER，要驗證的就是\n",
    "1. 他抓出 {{}} 區域的比例。\n",
    "2. 抓出的內容，在 '/model/clause.cto' 符合的比例，比方 o Double capPercentage\\n',那 capPercentage 在 NER 應該要被標記為 Double 或至少是 Number"
   ]
  },
  {
   "cell_type": "code",
   "execution_count": 22,
   "metadata": {
    "ExecuteTime": {
     "end_time": "2023-01-29T12:51:49.000039Z",
     "start_time": "2023-01-29T12:51:48.996078Z"
    }
   },
   "outputs": [
    {
     "data": {
      "text/plain": [
       "['namespace org.accordproject.latedeliveryandpenalty\\n',\n",
       " '\\n',\n",
       " 'import org.accordproject.contract.* from https://models.accordproject.org/accordproject/contract.cto\\n',\n",
       " 'import org.accordproject.party.* from https://models.accordproject.org/accordproject/party.cto\\n',\n",
       " 'import org.accordproject.runtime.* from https://models.accordproject.org/accordproject/runtime.cto\\n',\n",
       " 'import org.accordproject.obligation.* from https://models.accordproject.org/accordproject/obligation.cto\\n',\n",
       " 'import org.accordproject.time.* from https://models.accordproject.org/time@0.2.0.cto\\n',\n",
       " '\\n',\n",
       " '/**\\n',\n",
       " ' * Defines the data model for the LateDeliveryAndPenalty template.\\n',\n",
       " ' * This defines the structure of the abstract syntax tree that the parser for the template\\n',\n",
       " ' * must generate from input source text.\\n',\n",
       " ' */\\n',\n",
       " 'asset LateDeliveryAndPenaltyContract extends Contract {\\n',\n",
       " '  /**\\n',\n",
       " '   * The buyer\\n',\n",
       " '   */\\n',\n",
       " '  --> Party buyer\\n',\n",
       " '\\n',\n",
       " '  /**\\n',\n",
       " '   * The seller\\n',\n",
       " '   */\\n',\n",
       " '  --> Party seller\\n',\n",
       " '\\n',\n",
       " '  /**\\n',\n",
       " '   * Does the clause include a force majeure provision?\\n',\n",
       " '   */\\n',\n",
       " '  o Boolean forceMajeure\\n',\n",
       " '\\n',\n",
       " '  /**\\n',\n",
       " '   * For every penaltyDuration that the goods are late\\n',\n",
       " '   */\\n',\n",
       " '  o Duration penaltyDuration\\n',\n",
       " '\\n',\n",
       " '  /**\\n',\n",
       " '   * Seller pays the buyer penaltyPercentage % of the value of the goods\\n',\n",
       " '   */\\n',\n",
       " '  o Double penaltyPercentage\\n',\n",
       " '\\n',\n",
       " '  /**\\n',\n",
       " '   * Up to capPercentage % of the value of the goods\\n',\n",
       " '   */\\n',\n",
       " '  o Double capPercentage\\n',\n",
       " '\\n',\n",
       " '  /**\\n',\n",
       " '   * If the goods are >= termination late then the buyer may terminate the contract\\n',\n",
       " '   */\\n',\n",
       " '  o Duration termination\\n',\n",
       " '\\n',\n",
       " '  /**\\n',\n",
       " '   * Fractional part of a ... is considered a whole ...\\n',\n",
       " '   */\\n',\n",
       " '  o TemporalUnit fractionalPart\\n',\n",
       " '}\\n',\n",
       " '\\n',\n",
       " '/**\\n',\n",
       " ' * Defines the input data required by the template\\n',\n",
       " ' */\\n',\n",
       " 'transaction LateDeliveryAndPenaltyRequest extends Request {\\n',\n",
       " '\\n',\n",
       " '  /**\\n',\n",
       " '   * Are we in a force majeure situation? \\n',\n",
       " '   */\\n',\n",
       " '  o Boolean forceMajeure\\n',\n",
       " '\\n',\n",
       " '  /**\\n',\n",
       " '   * What was the agreed delivery date for the goods?\\n',\n",
       " '   */\\n',\n",
       " '  o DateTime agreedDelivery\\n',\n",
       " '\\n',\n",
       " '  /**\\n',\n",
       " '   * If the goods have been delivered, when where they delivered?\\n',\n",
       " '   */\\n',\n",
       " '  o DateTime deliveredAt optional\\n',\n",
       " '\\n',\n",
       " '  /**\\n',\n",
       " '   * What is the value of the goods?\\n',\n",
       " '   */\\n',\n",
       " '  o Double goodsValue\\n',\n",
       " '}\\n',\n",
       " '\\n',\n",
       " '/**\\n',\n",
       " ' * Defines the output data for the template\\n',\n",
       " ' */\\n',\n",
       " 'transaction LateDeliveryAndPenaltyResponse extends Response {\\n',\n",
       " '  /**\\n',\n",
       " '   * The penalty to be paid by the seller\\n',\n",
       " '   */\\n',\n",
       " '  o Double penalty\\n',\n",
       " '\\n',\n",
       " '  /**\\n',\n",
       " '   * Whether the buyer may terminate the contract \\n',\n",
       " '   */\\n',\n",
       " '  o Boolean buyerMayTerminate\\n',\n",
       " '}']"
      ]
     },
     "execution_count": 22,
     "metadata": {},
     "output_type": "execute_result"
    }
   ],
   "source": [
    "data['latedeliveryandpenalty']['/model/clause.cto']"
   ]
  },
  {
   "cell_type": "code",
   "execution_count": null,
   "metadata": {},
   "outputs": [],
   "source": []
  }
 ],
 "metadata": {
  "kernelspec": {
   "display_name": "Python 3",
   "language": "python",
   "name": "python3"
  },
  "language_info": {
   "codemirror_mode": {
    "name": "ipython",
    "version": 3
   },
   "file_extension": ".py",
   "mimetype": "text/x-python",
   "name": "python",
   "nbconvert_exporter": "python",
   "pygments_lexer": "ipython3",
   "version": "3.8.3"
  },
  "varInspector": {
   "cols": {
    "lenName": 16,
    "lenType": 16,
    "lenVar": 40
   },
   "kernels_config": {
    "python": {
     "delete_cmd_postfix": "",
     "delete_cmd_prefix": "del ",
     "library": "var_list.py",
     "varRefreshCmd": "print(var_dic_list())"
    },
    "r": {
     "delete_cmd_postfix": ") ",
     "delete_cmd_prefix": "rm(",
     "library": "var_list.r",
     "varRefreshCmd": "cat(var_dic_list()) "
    }
   },
   "types_to_exclude": [
    "module",
    "function",
    "builtin_function_or_method",
    "instance",
    "_Feature"
   ],
   "window_display": false
  }
 },
 "nbformat": 4,
 "nbformat_minor": 2
}
