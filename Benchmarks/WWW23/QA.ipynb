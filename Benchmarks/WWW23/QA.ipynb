{
 "cells": [
  {
   "cell_type": "code",
   "execution_count": 2,
   "id": "bf90990c",
   "metadata": {
    "ExecuteTime": {
     "end_time": "2023-02-20T02:19:42.905457Z",
     "start_time": "2023-02-20T02:19:42.893102Z"
    }
   },
   "outputs": [],
   "source": [
    "import json\n",
    "import re\n",
    "from tqdm import tqdm\n",
    "with open(\"./Accord_all_contract.json\", \"r\") as f:\n",
    "    templates = json.load(f)"
   ]
  },
  {
   "cell_type": "code",
   "execution_count": 3,
   "id": "a3015e1d",
   "metadata": {
    "ExecuteTime": {
     "end_time": "2023-02-20T02:19:56.621984Z",
     "start_time": "2023-02-20T02:19:43.396569Z"
    }
   },
   "outputs": [
    {
     "name": "stderr",
     "output_type": "stream",
     "text": [
      "2023-02-20 10:19:43.803818: I tensorflow/stream_executor/platform/default/dso_loader.cc:53] Successfully opened dynamic library libcudart.so.11.0\n"
     ]
    }
   ],
   "source": [
    "from transformers import AutoModelForQuestionAnswering, AutoTokenizer, pipeline\n",
    "\n",
    "model_name = \"deepset/roberta-base-squad2\"\n",
    "\n",
    "# a) Get predictions\n",
    "nlp = pipeline('question-answering',\n",
    "               model=model_name,\n",
    "               tokenizer=model_name,\n",
    "                  device=0,)\n",
    "QA_input = {\n",
    "    'question': 'Why is model conversion important?',\n",
    "    'context': 'The option to convert models between FARM and transformers gives freedom to the user and let people easily switch between frameworks.'\n",
    "}\n",
    "res = nlp(QA_input)\n",
    "\n",
    "# b) Load model & tokenizer\n",
    "model = AutoModelForQuestionAnswering.from_pretrained(model_name)\n",
    "tokenizer = AutoTokenizer.from_pretrained(model_name)"
   ]
  },
  {
   "cell_type": "code",
   "execution_count": 4,
   "id": "8c9ad99f",
   "metadata": {
    "ExecuteTime": {
     "end_time": "2023-02-20T02:19:56.626995Z",
     "start_time": "2023-02-20T02:19:56.623798Z"
    }
   },
   "outputs": [],
   "source": [
    "with open(\"./templates_data.json\", 'r') as f:\n",
    "    templates_data = json.load(f)"
   ]
  },
  {
   "cell_type": "code",
   "execution_count": 5,
   "id": "0a42bf6f",
   "metadata": {
    "ExecuteTime": {
     "end_time": "2023-02-20T02:19:56.641612Z",
     "start_time": "2023-02-20T02:19:56.628296Z"
    }
   },
   "outputs": [],
   "source": [
    "data = {}\n",
    "from urllib.parse import unquote\n",
    "for k in set(templates.keys()).intersection(templates_data.keys()):\n",
    "    data[k] = {\n",
    "        \"input_text\": \"\".join(templates[k]['/text/sample.md']),\n",
    "        \"cicero\": \"\".join(templates[k]['/text/grammar.tem.md']),\n",
    "        \"ciceroMarks\": re.findall(\"(?<=\\{{).+?(?=\\}})\", \n",
    "                         \"\".join(templates[k]['/text/grammar.tem.md'])),\n",
    "        \"QAs\": [],\n",
    "    }\n",
    "    for variable_name, variable_value in templates_data[k].items():\n",
    "        origin_value = variable_value\n",
    "        if \"$\" == variable_name[0] or variable_name in ['clauseId', 'contractId']:\n",
    "            continue\n",
    "        try:\n",
    "            try:\n",
    "                variable_value = json.loads(variable_value.replace(\"'\", '\"'))\n",
    "            except Exception as e:\n",
    "#                 print(variable_value, e)\n",
    "                pass\n",
    "            if '.PostalAddress' in variable_value['$class']:\n",
    "                continue\n",
    "            for key in variable_value.keys():\n",
    "                if 'text' in key.lower():\n",
    "                    variable_value = variable_value['key']\n",
    "                elif key in ['amount']:\n",
    "                    if 'unit' in variable_value.keys():\n",
    "                        variable_value = f\"{variable_value[key]} {variable_value['unit']}\"\n",
    "                    else:\n",
    "                        print(\"QQQQQQ\", key , variable_value)\n",
    "                    break\n",
    "                elif 'value' in key.lower():\n",
    "                    variable_value = f\"{variable_value[key]} {variable_value['currencyCode']}\"\n",
    "                    break\n",
    "                \n",
    "            ans = variable_value\n",
    "        except Exception as e:\n",
    "            if variable_name == \"termination\":\n",
    "                print(e)\n",
    "            variable_value = str(variable_value)\n",
    "            ans = unquote(variable_value.split(\".\")[-1].split(\"#\")[-1])\n",
    "        if type(ans) == dict:\n",
    "            continue\n",
    "        data[k][\"QAs\"].append({\n",
    "            \"variable_name\": variable_name,\n",
    "            \"ans\": ans,\n",
    "            'variable_value': origin_value\n",
    "        })"
   ]
  },
  {
   "cell_type": "code",
   "execution_count": null,
   "id": "a030b44f",
   "metadata": {
    "ExecuteTime": {
     "end_time": "2023-02-07T01:21:00.260306Z",
     "start_time": "2023-02-07T01:21:00.257605Z"
    }
   },
   "outputs": [],
   "source": []
  },
  {
   "cell_type": "code",
   "execution_count": 6,
   "id": "79ffe505",
   "metadata": {
    "ExecuteTime": {
     "end_time": "2023-02-20T02:20:22.045215Z",
     "start_time": "2023-02-20T02:19:56.643258Z"
    }
   },
   "outputs": [
    {
     "name": "stderr",
     "output_type": "stream",
     "text": [
      "  0%|                                   | 0/53 [00:00<?, ?it/s]/home/eason/anaconda3/envs/py37/lib/python3.7/site-packages/transformers/pipelines/base.py:1046: UserWarning: You seem to be using the pipelines sequentially on GPU. In order to maximize efficiency please use a dataset\n",
      "  UserWarning,\n",
      "100%|██████████████████████████| 53/53 [00:25<00:00,  2.09it/s]\n"
     ]
    }
   ],
   "source": [
    "outputs = []\n",
    "for k, v in tqdm(data.items()):\n",
    "    for questions in v['QAs']:\n",
    "        QA_input = {\n",
    "            'context': v['input_text'],\n",
    "            'question': f\"What is the {questions['variable_name']}?\",\n",
    "\n",
    "        }\n",
    "        res = nlp(QA_input)\n",
    "        outputs.append({\n",
    "            'score': res['score'],\n",
    "            'model_output': res['answer']\\\n",
    "                            .replace(\".00\", \"\")\\\n",
    "                            .replace(\"\\n\", \"\"),\n",
    "            'true_ans': questions['ans'],\n",
    "            \"k\": k,\n",
    "        })\n",
    "#     break"
   ]
  },
  {
   "cell_type": "code",
   "execution_count": 7,
   "id": "585a6503",
   "metadata": {
    "ExecuteTime": {
     "end_time": "2023-02-20T02:20:22.049614Z",
     "start_time": "2023-02-20T02:20:22.046503Z"
    }
   },
   "outputs": [],
   "source": [
    "from utils import compute_exact_match, compute_f1"
   ]
  },
  {
   "cell_type": "code",
   "execution_count": 8,
   "id": "1fecb51b",
   "metadata": {
    "ExecuteTime": {
     "end_time": "2023-02-20T02:20:22.067535Z",
     "start_time": "2023-02-20T02:20:22.050942Z"
    }
   },
   "outputs": [],
   "source": [
    "import numpy as np\n",
    "all_f1 = []\n",
    "all_em = []\n",
    "for output in outputs:\n",
    "    f1 = compute_f1(output['model_output'], output['true_ans'])\n",
    "    em = compute_exact_match(output['model_output'], output['true_ans'])\n",
    "    output['f1'] = f1\n",
    "    output['em'] = em\n",
    "    all_f1.append(f1)\n",
    "    all_em.append(em)\n",
    "all_f1 = np.array(all_f1)\n",
    "all_em = np.array(all_em)"
   ]
  },
  {
   "cell_type": "code",
   "execution_count": 9,
   "id": "d0667cce",
   "metadata": {
    "ExecuteTime": {
     "end_time": "2023-02-20T02:20:22.077896Z",
     "start_time": "2023-02-20T02:20:22.069905Z"
    }
   },
   "outputs": [
    {
     "data": {
      "text/plain": [
       "0.3248259860788863"
      ]
     },
     "execution_count": 9,
     "metadata": {},
     "output_type": "execute_result"
    }
   ],
   "source": [
    "all_em.mean()"
   ]
  },
  {
   "cell_type": "code",
   "execution_count": 10,
   "id": "8db0e04a",
   "metadata": {
    "ExecuteTime": {
     "end_time": "2023-02-20T02:20:22.082963Z",
     "start_time": "2023-02-20T02:20:22.079328Z"
    }
   },
   "outputs": [
    {
     "data": {
      "text/plain": [
       "0.3950662476901047"
      ]
     },
     "execution_count": 10,
     "metadata": {},
     "output_type": "execute_result"
    }
   ],
   "source": [
    "all_f1.mean()"
   ]
  },
  {
   "cell_type": "code",
   "execution_count": 11,
   "id": "457f4340",
   "metadata": {
    "ExecuteTime": {
     "end_time": "2023-02-20T02:20:22.325240Z",
     "start_time": "2023-02-20T02:20:22.084585Z"
    }
   },
   "outputs": [],
   "source": [
    "import pandas as pd\n",
    "df = pd.DataFrame(outputs)"
   ]
  },
  {
   "cell_type": "code",
   "execution_count": 12,
   "id": "0c03d521",
   "metadata": {
    "ExecuteTime": {
     "end_time": "2023-02-20T02:20:22.330381Z",
     "start_time": "2023-02-20T02:20:22.327012Z"
    }
   },
   "outputs": [],
   "source": [
    "df = df.sort_values('score', ascending=False)"
   ]
  },
  {
   "cell_type": "code",
   "execution_count": 13,
   "id": "975a1041",
   "metadata": {
    "ExecuteTime": {
     "end_time": "2023-02-20T02:20:22.334579Z",
     "start_time": "2023-02-20T02:20:22.331698Z"
    }
   },
   "outputs": [],
   "source": [
    "df = df.reset_index(drop=True)"
   ]
  },
  {
   "cell_type": "code",
   "execution_count": 14,
   "id": "da98892d",
   "metadata": {
    "ExecuteTime": {
     "end_time": "2023-02-20T02:20:22.340790Z",
     "start_time": "2023-02-20T02:20:22.336039Z"
    }
   },
   "outputs": [
    {
     "data": {
      "text/plain": [
       "0.6043956043956044"
      ]
     },
     "execution_count": 14,
     "metadata": {},
     "output_type": "execute_result"
    }
   ],
   "source": [
    "df[df.score > 0.3].em.mean()"
   ]
  },
  {
   "cell_type": "code",
   "execution_count": 79,
   "id": "9f2827a9",
   "metadata": {
    "ExecuteTime": {
     "end_time": "2023-02-20T07:36:08.252791Z",
     "start_time": "2023-02-20T07:36:08.193647Z"
    }
   },
   "outputs": [],
   "source": [
    "import math\n",
    "from matplotlib import pyplot as plt\n",
    "scores = {\n",
    "    \n",
    "}\n",
    "for i in range(100):\n",
    "    scores[i/100] = df[df.score > i/100].em.mean()\n",
    "    if math.isnan(scores[i/100]) or scores[i/100] == 0:\n",
    "        del scores[i/100]"
   ]
  },
  {
   "cell_type": "code",
   "execution_count": 80,
   "id": "84acd2fa",
   "metadata": {
    "ExecuteTime": {
     "end_time": "2023-02-20T07:36:08.791066Z",
     "start_time": "2023-02-20T07:36:08.692388Z"
    }
   },
   "outputs": [
    {
     "data": {
      "text/plain": [
       "([<matplotlib.axis.YTick at 0x7fa3f418aa90>,\n",
       "  <matplotlib.axis.YTick at 0x7fa3f41edc90>,\n",
       "  <matplotlib.axis.YTick at 0x7fa3f41e7d50>,\n",
       "  <matplotlib.axis.YTick at 0x7fa3f4146dd0>,\n",
       "  <matplotlib.axis.YTick at 0x7fa3f41bdc10>,\n",
       "  <matplotlib.axis.YTick at 0x7fa3f4158690>,\n",
       "  <matplotlib.axis.YTick at 0x7fa3f4158790>,\n",
       "  <matplotlib.axis.YTick at 0x7fa3f4164510>,\n",
       "  <matplotlib.axis.YTick at 0x7fa3f4164610>,\n",
       "  <matplotlib.axis.YTick at 0x7fa3f416e210>],\n",
       " [Text(0, 0, ''),\n",
       "  Text(0, 0, ''),\n",
       "  Text(0, 0, ''),\n",
       "  Text(0, 0, ''),\n",
       "  Text(0, 0, ''),\n",
       "  Text(0, 0, ''),\n",
       "  Text(0, 0, ''),\n",
       "  Text(0, 0, ''),\n",
       "  Text(0, 0, ''),\n",
       "  Text(0, 0, '')])"
      ]
     },
     "execution_count": 80,
     "metadata": {},
     "output_type": "execute_result"
    },
    {
     "data": {
      "image/png": "[encoded data removed]",
      "text/plain": [
       "<Figure size 432x288 with 1 Axes>"
      ]
     },
     "metadata": {
      "needs_background": "light"
     },
     "output_type": "display_data"
    }
   ],
   "source": [
    "x = np.arange(0, 10, 1)\n",
    "y =np.arange(0, 10, 1)\n",
    "plt.margins(x=0, y=0)\n",
    "plt.plot(x, y)\n",
    "plt.xticks(x)\n",
    "plt.yticks(y)"
   ]
  },
  {
   "cell_type": "code",
   "execution_count": 81,
   "id": "6a7136b5",
   "metadata": {
    "ExecuteTime": {
     "end_time": "2023-02-20T07:36:09.607864Z",
     "start_time": "2023-02-20T07:36:09.298627Z"
    }
   },
   "outputs": [
    {
     "data": {
      "image/png": "[encoded data removed]",
      "text/plain": [
       "<Figure size 2240x840 with 1 Axes>"
      ]
     },
     "metadata": {
      "needs_background": "light"
     },
     "output_type": "display_data"
    }
   ],
   "source": [
    "import matplotlib\n",
    "font = {'family' : 'normal',\n",
    "        'weight' : 'normal',\n",
    "        'size'   : 12}\n",
    "\n",
    "matplotlib.rc('font', **font)\n",
    "from matplotlib.pyplot import figure\n",
    "\n",
    "figure(figsize=(8, 3), dpi=280)\n",
    "\n",
    "x = np.arange(0, 11, 1)/10\n",
    "y = np.arange(0, 11, 1)/10\n",
    "plt.xticks(x)\n",
    "plt.yticks(y)\n",
    "plt.plot(scores.keys(), scores.values(), label = 'EM rate if ignore confidnece score lower than the criteria')\n",
    "plt.plot(0, 0, label = 'EM rate is 0.6 if confidence criteria is 0.3')\n",
    "# plt.scatter([0.3], scores[0.3], 5, color = 'red')\n",
    "# plt.plot(scores.keys(), scores.keys(), label = 'Ignore confidnece score criteria')\n",
    "plt.xlabel('Ignore confidnece score criteria')\n",
    "plt.ylabel('EM rate')\n",
    "plt.legend()\n",
    "plt.show()"
   ]
  },
  {
   "cell_type": "code",
   "execution_count": 30,
   "id": "3d23551f",
   "metadata": {
    "ExecuteTime": {
     "end_time": "2023-02-20T02:41:22.454097Z",
     "start_time": "2023-02-20T02:41:22.450626Z"
    }
   },
   "outputs": [
    {
     "data": {
      "text/plain": [
       "False"
      ]
     },
     "execution_count": 30,
     "metadata": {},
     "output_type": "execute_result"
    }
   ],
   "source": [
    "float(scores[0.99]) == float(\"nan\")"
   ]
  },
  {
   "cell_type": "code",
   "execution_count": null,
   "id": "2786ddf1",
   "metadata": {},
   "outputs": [],
   "source": []
  },
  {
   "cell_type": "code",
   "execution_count": null,
   "id": "f31f3332",
   "metadata": {},
   "outputs": [],
   "source": []
  },
  {
   "cell_type": "code",
   "execution_count": 15,
   "id": "ca0d0fdb",
   "metadata": {
    "ExecuteTime": {
     "end_time": "2023-02-20T02:39:32.768724Z",
     "start_time": "2023-02-20T02:39:32.763932Z"
    }
   },
   "outputs": [
    {
     "data": {
      "text/plain": [
       "0.6043956043956044"
      ]
     },
     "execution_count": 15,
     "metadata": {},
     "output_type": "execute_result"
    }
   ],
   "source": []
  },
  {
   "cell_type": "code",
   "execution_count": 6,
   "id": "b3aafa5d",
   "metadata": {
    "ExecuteTime": {
     "end_time": "2023-02-07T00:54:06.406930Z",
     "start_time": "2023-02-07T00:54:06.398870Z"
    }
   },
   "outputs": [
    {
     "data": {
      "text/plain": [
       "{'score': 0.31971532106399536,\n",
       " 'start': 2454,\n",
       " 'end': 2465,\n",
       " 'answer': '1922.99 TRY'}"
      ]
     },
     "execution_count": 6,
     "metadata": {},
     "output_type": "execute_result"
    }
   ],
   "source": [
    "res"
   ]
  },
  {
   "cell_type": "code",
   "execution_count": 35,
   "id": "d8d72873",
   "metadata": {
    "ExecuteTime": {
     "end_time": "2023-02-07T00:50:11.441235Z",
     "start_time": "2023-02-07T00:50:11.436828Z"
    }
   },
   "outputs": [
    {
     "data": {
      "text/plain": [
       "{'variable_name': 'paymentPeriodWithPermission',\n",
       " 'ans': '7 days',\n",
       " 'variable_value': {'$class': 'org.accordproject.time.Duration',\n",
       "  'amount': 7,\n",
       "  'unit': 'days'}}"
      ]
     },
     "execution_count": 35,
     "metadata": {},
     "output_type": "execute_result"
    }
   ],
   "source": [
    "questions"
   ]
  },
  {
   "cell_type": "code",
   "execution_count": 28,
   "id": "0aef331d",
   "metadata": {
    "ExecuteTime": {
     "end_time": "2023-02-07T00:45:36.842088Z",
     "start_time": "2023-02-07T00:45:36.837962Z"
    }
   },
   "outputs": [
    {
     "data": {
      "text/plain": [
       "{'score': 0.000850165612064302,\n",
       " 'start': 1244,\n",
       " 'end': 1329,\n",
       " 'answer': 'Licensee shall request permission from the governmental authority to make the payment'}"
      ]
     },
     "execution_count": 28,
     "metadata": {},
     "output_type": "execute_result"
    }
   ],
   "source": [
    "res"
   ]
  },
  {
   "cell_type": "code",
   "execution_count": 23,
   "id": "437f0227",
   "metadata": {
    "ExecuteTime": {
     "end_time": "2023-02-07T00:45:09.392826Z",
     "start_time": "2023-02-07T00:45:09.389605Z"
    }
   },
   "outputs": [
    {
     "data": {
      "text/plain": [
       "{'variable_name': 'paymentPeriodWithPermission',\n",
       " 'ans': '7 days',\n",
       " 'variable_value': {'$class': 'org.accordproject.time.Duration',\n",
       "  'amount': 7,\n",
       "  'unit': 'days'}}"
      ]
     },
     "execution_count": 23,
     "metadata": {},
     "output_type": "execute_result"
    }
   ],
   "source": [
    "questions"
   ]
  },
  {
   "cell_type": "code",
   "execution_count": 204,
   "id": "ef763e13",
   "metadata": {
    "ExecuteTime": {
     "end_time": "2023-02-07T00:41:25.823307Z",
     "start_time": "2023-02-07T00:41:25.818144Z"
    }
   },
   "outputs": [
    {
     "data": {
      "text/plain": [
       "'supplier'"
      ]
     },
     "execution_count": 204,
     "metadata": {},
     "output_type": "execute_result"
    }
   ],
   "source": []
  },
  {
   "cell_type": "code",
   "execution_count": 186,
   "id": "bea428a4",
   "metadata": {
    "ExecuteTime": {
     "end_time": "2023-02-07T00:34:15.252951Z",
     "start_time": "2023-02-07T00:34:15.249135Z"
    }
   },
   "outputs": [
    {
     "data": {
      "text/plain": [
       "[{'variable_name': 'maximumDelay',\n",
       "  'ans': '180 days',\n",
       "  'variable_value': {'$class': 'org.accordproject.time.Duration',\n",
       "   'amount': 180,\n",
       "   'unit': 'days'}},\n",
       " {'variable_name': 'purchaser',\n",
       "  'ans': 'Betty Buyer',\n",
       "  'variable_value': 'resource:org.accordproject.party.Party#Betty%20Buyer'},\n",
       " {'variable_name': 'supplier',\n",
       "  'ans': 'Steve Seller',\n",
       "  'variable_value': 'resource:org.accordproject.party.Party#Steve%20Seller'}]"
      ]
     },
     "execution_count": 186,
     "metadata": {},
     "output_type": "execute_result"
    }
   ],
   "source": []
  },
  {
   "cell_type": "code",
   "execution_count": 179,
   "id": "7254424f",
   "metadata": {
    "ExecuteTime": {
     "end_time": "2023-02-07T00:33:16.873184Z",
     "start_time": "2023-02-07T00:33:16.868875Z"
    }
   },
   "outputs": [],
   "source": [
    "variable_value = QAs['latedeliveryandpenalty'][\"Qs\"][-2]['variable_value']"
   ]
  },
  {
   "cell_type": "code",
   "execution_count": 180,
   "id": "7fdecd85",
   "metadata": {
    "ExecuteTime": {
     "end_time": "2023-02-07T00:33:17.052137Z",
     "start_time": "2023-02-07T00:33:17.044580Z"
    }
   },
   "outputs": [
    {
     "data": {
      "text/plain": [
       "{'variable_name': 'termination', 'ans': '15 days', 'variable_value': '15 days'}"
      ]
     },
     "execution_count": 180,
     "metadata": {},
     "output_type": "execute_result"
    }
   ],
   "source": [
    "QAs['latedeliveryandpenalty'][\"Qs\"][-2]"
   ]
  },
  {
   "cell_type": "code",
   "execution_count": 171,
   "id": "1b95d24b",
   "metadata": {
    "ExecuteTime": {
     "end_time": "2023-02-07T00:31:51.715837Z",
     "start_time": "2023-02-07T00:31:51.681580Z"
    }
   },
   "outputs": [
    {
     "ename": "AttributeError",
     "evalue": "'dict' object has no attribute 'replace'",
     "output_type": "error",
     "traceback": [
      "\u001b[0;31m---------------------------------------------------------------------------\u001b[0m",
      "\u001b[0;31mAttributeError\u001b[0m                            Traceback (most recent call last)",
      "\u001b[0;32m/tmp/ipykernel_4062/1455817103.py\u001b[0m in \u001b[0;36m<module>\u001b[0;34m\u001b[0m\n\u001b[0;32m----> 1\u001b[0;31m \u001b[0mvariable_value\u001b[0m \u001b[0;34m=\u001b[0m \u001b[0mjson\u001b[0m\u001b[0;34m.\u001b[0m\u001b[0mloads\u001b[0m\u001b[0;34m(\u001b[0m\u001b[0mvariable_value\u001b[0m\u001b[0;34m.\u001b[0m\u001b[0mreplace\u001b[0m\u001b[0;34m(\u001b[0m\u001b[0;34m\"'\"\u001b[0m\u001b[0;34m,\u001b[0m \u001b[0;34m'\"'\u001b[0m\u001b[0;34m)\u001b[0m\u001b[0;34m)\u001b[0m\u001b[0;34m\u001b[0m\u001b[0;34m\u001b[0m\u001b[0m\n\u001b[0m\u001b[1;32m      2\u001b[0m \u001b[0;32mfor\u001b[0m \u001b[0mkey\u001b[0m \u001b[0;32min\u001b[0m \u001b[0mvariable_value\u001b[0m\u001b[0;34m.\u001b[0m\u001b[0mkeys\u001b[0m\u001b[0;34m(\u001b[0m\u001b[0;34m)\u001b[0m\u001b[0;34m:\u001b[0m\u001b[0;34m\u001b[0m\u001b[0;34m\u001b[0m\u001b[0m\n\u001b[1;32m      3\u001b[0m     \u001b[0;32mif\u001b[0m \u001b[0mkey\u001b[0m \u001b[0;32min\u001b[0m \u001b[0;34m[\u001b[0m\u001b[0;34m'amount'\u001b[0m\u001b[0;34m]\u001b[0m\u001b[0;34m:\u001b[0m\u001b[0;34m\u001b[0m\u001b[0;34m\u001b[0m\u001b[0m\n\u001b[1;32m      4\u001b[0m         \u001b[0mans\u001b[0m \u001b[0;34m=\u001b[0m \u001b[0;34mf\"{variable_value[key]} {variable_value['unit']}\"\u001b[0m\u001b[0;34m\u001b[0m\u001b[0;34m\u001b[0m\u001b[0m\n\u001b[1;32m      5\u001b[0m         \u001b[0;32mbreak\u001b[0m\u001b[0;34m\u001b[0m\u001b[0;34m\u001b[0m\u001b[0m\n",
      "\u001b[0;31mAttributeError\u001b[0m: 'dict' object has no attribute 'replace'"
     ]
    }
   ],
   "source": [
    "variable_value = json.loads(variable_value.replace(\"'\", '\"'))\n",
    "for key in variable_value.keys():\n",
    "    if key in ['amount']:\n",
    "        ans = f\"{variable_value[key]} {variable_value['unit']}\"\n",
    "        break\n",
    "    elif 'value' in key.lower():\n",
    "        pass"
   ]
  },
  {
   "cell_type": "code",
   "execution_count": 170,
   "id": "ff10b3d2",
   "metadata": {
    "ExecuteTime": {
     "end_time": "2023-02-07T00:31:18.208334Z",
     "start_time": "2023-02-07T00:31:18.204408Z"
    }
   },
   "outputs": [
    {
     "data": {
      "text/plain": [
       "'15 days'"
      ]
     },
     "execution_count": 170,
     "metadata": {},
     "output_type": "execute_result"
    }
   ],
   "source": [
    "ans"
   ]
  },
  {
   "cell_type": "code",
   "execution_count": 134,
   "id": "207ef968",
   "metadata": {
    "ExecuteTime": {
     "end_time": "2023-02-07T00:27:08.373620Z",
     "start_time": "2023-02-07T00:27:08.369926Z"
    },
    "scrolled": true
   },
   "outputs": [
    {
     "data": {
      "text/plain": [
       "dict_keys(['saft', 'payment-upon-signature', 'sales-contract-ru', 'certificate-of-incorporation', 'promissory-note', 'empty', 'payment-upon-delivery', 'acceptance-of-delivery', 'safte', 'empty-contract', 'latedeliveryandpenalty-currency-conversion', 'fragile-goods', 'minilatedeliveryandpenalty-capped', 'minilatedeliveryandpenalty-payment', 'promissory-note-md', 'latedeliveryandpenalty', 'servicelevelagreement', 'latedeliveryandpenalty-optional', 'supplyagreement-perishable-goods', 'full-payment-upon-demand', 'helloworldstate', 'one-time-payment-tr', 'car-rental-tr', 'perishable-goods', 'fixed-interests-static', 'simplelatedeliveryandpenalty', 'minilatedeliveryandpenalty', 'copyright-license', 'installment-sale', 'hellomodule', 'online-payment-contract-tr', 'payment-upon-iot', 'signature-block-title-name-date', 'demandforecast', 'fixed-interests', 'full-payment-upon-signature', 'contact-information', 'volumediscount', 'volumediscountulist', 'company-information', 'eat-apples', 'latedeliveryandpenalty-optional-this', 'bill-of-lading', 'supply-agreement-loc', 'latedeliveryandpenalty-else', 'helloworld', 'ip-payment', 'project-information', 'rental-deposit', 'supplyagreement', 'interest-rate-swap', 'volumediscountolist', 'lateinvoicewithpayment'])"
      ]
     },
     "execution_count": 134,
     "metadata": {},
     "output_type": "execute_result"
    }
   ],
   "source": [
    "QAs.keys()"
   ]
  },
  {
   "cell_type": "code",
   "execution_count": 109,
   "id": "10a62d54",
   "metadata": {
    "ExecuteTime": {
     "end_time": "2023-02-07T00:18:24.715987Z",
     "start_time": "2023-02-07T00:18:24.712401Z"
    }
   },
   "outputs": [
    {
     "data": {
      "text/plain": [
       "'16ddc768-3847-4fc6-a7e4-9b7d94c020dd'"
      ]
     },
     "execution_count": 109,
     "metadata": {},
     "output_type": "execute_result"
    }
   ],
   "source": [
    "variable_value"
   ]
  },
  {
   "cell_type": "code",
   "execution_count": 101,
   "id": "9737c46f",
   "metadata": {
    "ExecuteTime": {
     "end_time": "2023-02-07T00:14:46.470106Z",
     "start_time": "2023-02-07T00:14:46.463821Z"
    }
   },
   "outputs": [
    {
     "data": {
      "text/plain": [
       "'## Acceptance of Delivery.\\n\\n{{shipper}} will be deemed to have completed its delivery obligations\\nif in {{receiver}}\\'s opinion, the {{deliverable}} satisfies the\\nAcceptance Criteria, and {{receiver}} notifies {{shipper}} in writing\\nthat it is accepting the {{deliverable}}.\\n\\n## Inspection and Notice.\\n\\n{{receiver}} will have {{businessDays}} Business Days to inspect and\\nevaluate the {{deliverable}} on the delivery date before notifying\\n{{shipper}} that it is either accepting or rejecting the\\n{{deliverable}}.\\n\\n## Acceptance Criteria.\\n\\nThe \"Acceptance Criteria\" are the specifications the {{deliverable}}\\nmust meet for {{shipper}} to comply with its requirements and\\nobligations under this agreement, detailed in {{attachment}}, attached\\nto this agreement.'"
      ]
     },
     "execution_count": 101,
     "metadata": {},
     "output_type": "execute_result"
    }
   ],
   "source": []
  },
  {
   "cell_type": "code",
   "execution_count": null,
   "id": "6558dc6e",
   "metadata": {},
   "outputs": [],
   "source": []
  },
  {
   "cell_type": "code",
   "execution_count": 93,
   "id": "5e962c99",
   "metadata": {
    "ExecuteTime": {
     "end_time": "2023-02-07T00:12:44.878258Z",
     "start_time": "2023-02-07T00:12:44.872200Z"
    }
   },
   "outputs": [
    {
     "data": {
      "text/plain": [
       "'16ddc768-3847-4fc6-a7e4-9b7d94c020dd'"
      ]
     },
     "execution_count": 93,
     "metadata": {},
     "output_type": "execute_result"
    }
   ],
   "source": [
    "variable_value"
   ]
  },
  {
   "cell_type": "code",
   "execution_count": 73,
   "id": "b632f4a2",
   "metadata": {
    "ExecuteTime": {
     "end_time": "2023-02-07T00:09:09.534663Z",
     "start_time": "2023-02-07T00:09:09.531035Z"
    }
   },
   "outputs": [
    {
     "data": {
      "text/plain": [
       "('shipper', 'resource:org.accordproject.organization.Organization#Party%20A')"
      ]
     },
     "execution_count": 73,
     "metadata": {},
     "output_type": "execute_result"
    }
   ],
   "source": [
    "variable_name, question"
   ]
  },
  {
   "cell_type": "code",
   "execution_count": 78,
   "id": "b06cdedf",
   "metadata": {
    "ExecuteTime": {
     "end_time": "2023-02-07T00:10:48.561758Z",
     "start_time": "2023-02-07T00:10:48.554504Z"
    }
   },
   "outputs": [
    {
     "data": {
      "text/plain": [
       "{'$class': 'org.accordproject.acceptanceofdelivery.AcceptanceOfDeliveryClause',\n",
       " 'shipper': 'resource:org.accordproject.organization.Organization#Party%20A',\n",
       " 'receiver': 'resource:org.accordproject.organization.Organization#Party%20B',\n",
       " 'deliverable': 'Widgets',\n",
       " 'businessDays': 10,\n",
       " 'attachment': 'Attachment X',\n",
       " 'clauseId': '16ddc768-3847-4fc6-a7e4-9b7d94c020dd',\n",
       " '$identifier': '16ddc768-3847-4fc6-a7e4-9b7d94c020dd'}"
      ]
     },
     "execution_count": 78,
     "metadata": {},
     "output_type": "execute_result"
    }
   ],
   "source": [
    "v"
   ]
  },
  {
   "cell_type": "code",
   "execution_count": 74,
   "id": "4cf4478b",
   "metadata": {
    "ExecuteTime": {
     "end_time": "2023-02-07T00:09:14.403180Z",
     "start_time": "2023-02-07T00:09:14.396304Z"
    }
   },
   "outputs": [
    {
     "data": {
      "text/plain": [
       "'resource:org.accordproject.organization.Organization#Party A'"
      ]
     },
     "execution_count": 74,
     "metadata": {},
     "output_type": "execute_result"
    }
   ],
   "source": []
  },
  {
   "cell_type": "code",
   "execution_count": 69,
   "id": "f9b3949b",
   "metadata": {
    "ExecuteTime": {
     "end_time": "2023-02-07T00:08:25.464023Z",
     "start_time": "2023-02-07T00:08:25.457370Z"
    }
   },
   "outputs": [
    {
     "data": {
      "text/plain": [
       "'Party%20A'"
      ]
     },
     "execution_count": 69,
     "metadata": {},
     "output_type": "execute_result"
    }
   ],
   "source": [
    "question.split(\"#\")[1]"
   ]
  },
  {
   "cell_type": "code",
   "execution_count": null,
   "id": "af38de07",
   "metadata": {},
   "outputs": [],
   "source": []
  },
  {
   "cell_type": "code",
   "execution_count": 62,
   "id": "26c68a21",
   "metadata": {
    "ExecuteTime": {
     "end_time": "2023-02-07T00:07:30.068556Z",
     "start_time": "2023-02-07T00:07:30.061742Z"
    }
   },
   "outputs": [
    {
     "data": {
      "text/plain": [
       "'acceptance-of-delivery'"
      ]
     },
     "execution_count": 62,
     "metadata": {},
     "output_type": "execute_result"
    }
   ],
   "source": [
    "k"
   ]
  },
  {
   "cell_type": "code",
   "execution_count": null,
   "id": "52291dea",
   "metadata": {},
   "outputs": [],
   "source": []
  },
  {
   "cell_type": "code",
   "execution_count": 8,
   "id": "facbdbbf",
   "metadata": {
    "ExecuteTime": {
     "end_time": "2023-02-06T01:27:06.087995Z",
     "start_time": "2023-02-06T01:27:06.083867Z"
    }
   },
   "outputs": [
    {
     "data": {
      "text/plain": [
       "['## Late Delivery and Penalty.\\n',\n",
       " '\\n',\n",
       " 'In case of delayed delivery except for Force Majeure cases,\\n',\n",
       " '\"Dan\" (the Seller) shall pay to \"Steve\" (the Buyer) for every 2 days\\n',\n",
       " 'of delay penalty amounting to 10.5% of the total value of the Equipment\\n',\n",
       " 'whose delivery has been delayed. Any fractional part of a days is to be\\n',\n",
       " 'considered a full days. The total amount of penalty shall not however,\\n',\n",
       " 'exceed 55% of the total value of the Equipment involved in late delivery.\\n',\n",
       " 'If the delay is more than 15 days, the Buyer is entitled to terminate this Contract.']"
      ]
     },
     "execution_count": 8,
     "metadata": {},
     "output_type": "execute_result"
    }
   ],
   "source": [
    "data['latedeliveryandpenalty']['/text/sample.md']"
   ]
  },
  {
   "cell_type": "code",
   "execution_count": 12,
   "id": "e46ac392",
   "metadata": {
    "ExecuteTime": {
     "end_time": "2023-02-06T01:37:26.989189Z",
     "start_time": "2023-02-06T01:37:26.986526Z"
    }
   },
   "outputs": [],
   "source": [
    "import re"
   ]
  },
  {
   "cell_type": "code",
   "execution_count": 38,
   "id": "34f1848c",
   "metadata": {
    "ExecuteTime": {
     "end_time": "2023-02-06T01:46:22.460236Z",
     "start_time": "2023-02-06T01:46:22.457325Z"
    }
   },
   "outputs": [],
   "source": [
    "res = re.findall(\"(?<=\\{{).+?(?=\\}})\", \n",
    "                 \"\".join(data['latedeliveryandpenalty']['/text/grammar.tem.md']))\n",
    "\n",
    "res"
   ]
  },
  {
   "cell_type": "code",
   "execution_count": null,
   "id": "5e3a5a73",
   "metadata": {},
   "outputs": [],
   "source": []
  },
  {
   "cell_type": "markdown",
   "id": "7bf44526",
   "metadata": {},
   "source": [
    "https://templates.accordproject.org/latedeliveryandpenalty@0.15.0.html"
   ]
  },
  {
   "cell_type": "code",
   "execution_count": 41,
   "id": "759d3f5a",
   "metadata": {
    "ExecuteTime": {
     "end_time": "2023-02-06T05:03:46.409169Z",
     "start_time": "2023-02-06T05:03:46.404922Z"
    }
   },
   "outputs": [
    {
     "data": {
      "text/plain": [
       "'## Late Delivery and Penalty.\\n\\nIn case of delayed delivery except for Force Majeure cases,\\n\"Dan\" (the Seller) shall pay to \"Steve\" (the Buyer) for every 2 days\\nof delay penalty amounting to 10.5% of the total value of the Equipment\\nwhose delivery has been delayed. Any fractional part of a days is to be\\nconsidered a full days. The total amount of penalty shall not however,\\nexceed 55% of the total value of the Equipment involved in late delivery.\\nIf the delay is more than 15 days, the Buyer is entitled to terminate this Contract.'"
      ]
     },
     "execution_count": 41,
     "metadata": {},
     "output_type": "execute_result"
    }
   ],
   "source": [
    "\"\".join(data['latedeliveryandpenalty']['/text/sample.md'])"
   ]
  },
  {
   "cell_type": "code",
   "execution_count": 40,
   "id": "926d3a62",
   "metadata": {
    "ExecuteTime": {
     "end_time": "2023-02-06T01:46:33.146839Z",
     "start_time": "2023-02-06T01:46:33.141726Z"
    }
   },
   "outputs": [
    {
     "data": {
      "text/plain": [
       "'## Late Delivery and Penalty.\\n\\nIn case of delayed delivery{{#if forceMajeure}} except for Force Majeure cases,{{/if}}\\n{{seller}} (the Seller) shall pay to {{buyer}} (the Buyer) for every {{penaltyDuration}}\\nof delay penalty amounting to {{penaltyPercentage}}% of the total value of the Equipment\\nwhose delivery has been delayed. Any fractional part of a {{fractionalPart}} is to be\\nconsidered a full {{fractionalPart}}. The total amount of penalty shall not however,\\nexceed {{capPercentage}}% of the total value of the Equipment involved in late delivery.\\nIf the delay is more than {{termination}}, the Buyer is entitled to terminate this Contract.'"
      ]
     },
     "execution_count": 40,
     "metadata": {},
     "output_type": "execute_result"
    }
   ],
   "source": [
    "\"\".join(data['latedeliveryandpenalty']['/text/grammar.tem.md'])"
   ]
  },
  {
   "cell_type": "code",
   "execution_count": null,
   "id": "e8db21ac",
   "metadata": {},
   "outputs": [],
   "source": []
  }
 ],
 "metadata": {
  "kernelspec": {
   "display_name": "py37",
   "language": "python",
   "name": "py37"
  },
  "language_info": {
   "codemirror_mode": {
    "name": "ipython",
    "version": 3
   },
   "file_extension": ".py",
   "mimetype": "text/x-python",
   "name": "python",
   "nbconvert_exporter": "python",
   "pygments_lexer": "ipython3",
   "version": "3.7.10"
  }
 },
 "nbformat": 4,
 "nbformat_minor": 5
}
