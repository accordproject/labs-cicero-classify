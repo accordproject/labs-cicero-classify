{
 "cells": [
  {
   "cell_type": "code",
   "execution_count": 1,
   "id": "f7db3ef0",
   "metadata": {
    "ExecuteTime": {
     "end_time": "2023-02-20T01:45:06.160267Z",
     "start_time": "2023-02-20T01:45:06.141659Z"
    }
   },
   "outputs": [],
   "source": [
    "import json\n",
    "import re\n",
    "from tqdm import tqdm\n",
    "with open(\"./Accord_all_contract.json\", \"r\") as f:\n",
    "    templates = json.load(f)"
   ]
  },
  {
   "cell_type": "code",
   "execution_count": 2,
   "id": "e0b9a0f2",
   "metadata": {
    "ExecuteTime": {
     "end_time": "2023-02-20T01:46:43.593487Z",
     "start_time": "2023-02-20T01:45:06.315494Z"
    }
   },
   "outputs": [
    {
     "name": "stderr",
     "output_type": "stream",
     "text": [
      "2023-02-20 09:45:06.682385: I tensorflow/stream_executor/platform/default/dso_loader.cc:53] Successfully opened dynamic library libcudart.so.11.0\n"
     ]
    },
    {
     "data": {
      "application/vnd.jupyter.widget-view+json": {
       "model_id": "072a3174b38849b3af3253cbaa2a12a4",
       "version_major": 2,
       "version_minor": 0
      },
      "text/plain": [
       "Downloading:   0%|          | 0.00/841 [00:00<?, ?B/s]"
      ]
     },
     "metadata": {},
     "output_type": "display_data"
    },
    {
     "data": {
      "application/vnd.jupyter.widget-view+json": {
       "model_id": "46c68786418c4013a3722363581ea3f4",
       "version_major": 2,
       "version_minor": 0
      },
      "text/plain": [
       "Downloading:   0%|          | 0.00/709M [00:00<?, ?B/s]"
      ]
     },
     "metadata": {},
     "output_type": "display_data"
    },
    {
     "data": {
      "application/vnd.jupyter.widget-view+json": {
       "model_id": "c12ba74e519b4774bc3b8efba2add72b",
       "version_major": 2,
       "version_minor": 0
      },
      "text/plain": [
       "Downloading:   0%|          | 0.00/333 [00:00<?, ?B/s]"
      ]
     },
     "metadata": {},
     "output_type": "display_data"
    },
    {
     "data": {
      "application/vnd.jupyter.widget-view+json": {
       "model_id": "8df06cfbb4e24fa5a247210241dd9a1f",
       "version_major": 2,
       "version_minor": 0
      },
      "text/plain": [
       "Downloading:   0%|          | 0.00/996k [00:00<?, ?B/s]"
      ]
     },
     "metadata": {},
     "output_type": "display_data"
    },
    {
     "data": {
      "application/vnd.jupyter.widget-view+json": {
       "model_id": "c8c54aaa138f4a3c900869bdfb00239c",
       "version_major": 2,
       "version_minor": 0
      },
      "text/plain": [
       "Downloading:   0%|          | 0.00/1.96M [00:00<?, ?B/s]"
      ]
     },
     "metadata": {},
     "output_type": "display_data"
    },
    {
     "data": {
      "application/vnd.jupyter.widget-view+json": {
       "model_id": "6ed9703f8ef047dbb7b962b0f341ede1",
       "version_major": 2,
       "version_minor": 0
      },
      "text/plain": [
       "Downloading:   0%|          | 0.00/112 [00:00<?, ?B/s]"
      ]
     },
     "metadata": {},
     "output_type": "display_data"
    }
   ],
   "source": [
    "from transformers import AutoModelForQuestionAnswering, AutoTokenizer, pipeline\n",
    "\n",
    "model_name = \"krinal214/zero_shot\"\n",
    "\n",
    "# a) Get predictions\n",
    "nlp = pipeline('question-answering',\n",
    "               model=model_name,\n",
    "               tokenizer=model_name,\n",
    "                  device=0,)\n",
    "QA_input = {\n",
    "    'question': 'Why is model conversion important?',\n",
    "    'context': 'The option to convert models between FARM and transformers gives freedom to the user and let people easily switch between frameworks.'\n",
    "}\n",
    "res = nlp(QA_input)\n",
    "\n",
    "# b) Load model & tokenizer\n",
    "model = AutoModelForQuestionAnswering.from_pretrained(model_name)\n",
    "tokenizer = AutoTokenizer.from_pretrained(model_name)"
   ]
  },
  {
   "cell_type": "code",
   "execution_count": 3,
   "id": "7c11f2e6",
   "metadata": {
    "ExecuteTime": {
     "end_time": "2023-02-20T01:46:43.599032Z",
     "start_time": "2023-02-20T01:46:43.595222Z"
    }
   },
   "outputs": [],
   "source": [
    "with open(\"./templates_data.json\", 'r') as f:\n",
    "    templates_data = json.load(f)"
   ]
  },
  {
   "cell_type": "code",
   "execution_count": 4,
   "id": "11fe42ee",
   "metadata": {
    "ExecuteTime": {
     "end_time": "2023-02-20T01:46:43.613760Z",
     "start_time": "2023-02-20T01:46:43.600567Z"
    }
   },
   "outputs": [],
   "source": [
    "data = {}\n",
    "from urllib.parse import unquote\n",
    "for k in set(templates.keys()).intersection(templates_data.keys()):\n",
    "    data[k] = {\n",
    "        \"input_text\": \"\".join(templates[k]['/text/sample.md']),\n",
    "        \"cicero\": \"\".join(templates[k]['/text/grammar.tem.md']),\n",
    "        \"ciceroMarks\": re.findall(\"(?<=\\{{).+?(?=\\}})\", \n",
    "                         \"\".join(templates[k]['/text/grammar.tem.md'])),\n",
    "        \"QAs\": [],\n",
    "    }\n",
    "    for variable_name, variable_value in templates_data[k].items():\n",
    "        origin_value = variable_value\n",
    "        if \"$\" == variable_name[0] or variable_name in ['clauseId', 'contractId']:\n",
    "            continue\n",
    "        try:\n",
    "            try:\n",
    "                variable_value = json.loads(variable_value.replace(\"'\", '\"'))\n",
    "            except Exception as e:\n",
    "#                 print(variable_value, e)\n",
    "                pass\n",
    "            if '.PostalAddress' in variable_value['$class']:\n",
    "                continue\n",
    "            for key in variable_value.keys():\n",
    "                if 'text' in key.lower():\n",
    "                    variable_value = variable_value['key']\n",
    "                elif key in ['amount']:\n",
    "                    if 'unit' in variable_value.keys():\n",
    "                        variable_value = f\"{variable_value[key]} {variable_value['unit']}\"\n",
    "                    else:\n",
    "                        print(\"QQQQQQ\", key , variable_value)\n",
    "                    break\n",
    "                elif 'value' in key.lower():\n",
    "                    variable_value = f\"{variable_value[key]} {variable_value['currencyCode']}\"\n",
    "                    break\n",
    "                \n",
    "            ans = variable_value\n",
    "        except Exception as e:\n",
    "            if variable_name == \"termination\":\n",
    "                print(e)\n",
    "            variable_value = str(variable_value)\n",
    "            ans = unquote(variable_value.split(\".\")[-1].split(\"#\")[-1])\n",
    "        if type(ans) == dict:\n",
    "            continue\n",
    "        data[k][\"QAs\"].append({\n",
    "            \"variable_name\": variable_name,\n",
    "            \"ans\": ans,\n",
    "            'variable_value': origin_value\n",
    "        })"
   ]
  },
  {
   "cell_type": "code",
   "execution_count": null,
   "id": "82bfc9ba",
   "metadata": {
    "ExecuteTime": {
     "end_time": "2023-02-07T01:21:00.260306Z",
     "start_time": "2023-02-07T01:21:00.257605Z"
    }
   },
   "outputs": [],
   "source": []
  },
  {
   "cell_type": "code",
   "execution_count": 5,
   "id": "a275ad73",
   "metadata": {
    "ExecuteTime": {
     "end_time": "2023-02-20T01:47:07.710392Z",
     "start_time": "2023-02-20T01:46:43.615370Z"
    }
   },
   "outputs": [
    {
     "name": "stderr",
     "output_type": "stream",
     "text": [
      "  0%|                                   | 0/53 [00:00<?, ?it/s]/home/eason/anaconda3/envs/py37/lib/python3.7/site-packages/transformers/pipelines/base.py:1046: UserWarning: You seem to be using the pipelines sequentially on GPU. In order to maximize efficiency please use a dataset\n",
      "  UserWarning,\n",
      "100%|██████████████████████████| 53/53 [00:24<00:00,  2.20it/s]\n"
     ]
    }
   ],
   "source": [
    "outputs = []\n",
    "for k, v in tqdm(data.items()):\n",
    "    for questions in v['QAs']:\n",
    "        QA_input = {\n",
    "            'context': v['input_text'],\n",
    "            'question': f\"What is the {questions['variable_name']}?\",\n",
    "\n",
    "        }\n",
    "        res = nlp(QA_input)\n",
    "        outputs.append({\n",
    "            'score': res['score'],\n",
    "            'model_output': res['answer']\\\n",
    "                            .replace(\".00\", \"\")\\\n",
    "                            .replace(\"\\n\", \"\"),\n",
    "            'true_ans': questions['ans'],\n",
    "            \"k\": k,\n",
    "        })\n",
    "#     break"
   ]
  },
  {
   "cell_type": "code",
   "execution_count": 6,
   "id": "af6d7ed4",
   "metadata": {
    "ExecuteTime": {
     "end_time": "2023-02-20T01:47:07.715760Z",
     "start_time": "2023-02-20T01:47:07.711909Z"
    }
   },
   "outputs": [],
   "source": [
    "from utils import compute_exact_match, compute_f1"
   ]
  },
  {
   "cell_type": "code",
   "execution_count": 7,
   "id": "eb9833f1",
   "metadata": {
    "ExecuteTime": {
     "end_time": "2023-02-20T01:47:07.734519Z",
     "start_time": "2023-02-20T01:47:07.717287Z"
    }
   },
   "outputs": [],
   "source": [
    "import numpy as np\n",
    "all_f1 = []\n",
    "all_em = []\n",
    "for output in outputs:\n",
    "    f1 = compute_f1(output['model_output'], output['true_ans'])\n",
    "    em = compute_exact_match(output['model_output'], output['true_ans'])\n",
    "    output['f1'] = f1\n",
    "    output['em'] = em\n",
    "    all_f1.append(f1)\n",
    "    all_em.append(em)\n",
    "all_f1 = np.array(all_f1)\n",
    "all_em = np.array(all_em)"
   ]
  },
  {
   "cell_type": "code",
   "execution_count": 8,
   "id": "e797091e",
   "metadata": {
    "ExecuteTime": {
     "end_time": "2023-02-20T01:47:07.743384Z",
     "start_time": "2023-02-20T01:47:07.735845Z"
    }
   },
   "outputs": [
    {
     "data": {
      "text/plain": [
       "0.17633410672853828"
      ]
     },
     "execution_count": 8,
     "metadata": {},
     "output_type": "execute_result"
    }
   ],
   "source": [
    "all_em.mean()"
   ]
  },
  {
   "cell_type": "code",
   "execution_count": 9,
   "id": "9a9662b6",
   "metadata": {
    "ExecuteTime": {
     "end_time": "2023-02-20T01:47:07.747481Z",
     "start_time": "2023-02-20T01:47:07.744408Z"
    }
   },
   "outputs": [
    {
     "data": {
      "text/plain": [
       "0.22005967307591437"
      ]
     },
     "execution_count": 9,
     "metadata": {},
     "output_type": "execute_result"
    }
   ],
   "source": [
    "all_f1.mean()"
   ]
  },
  {
   "cell_type": "code",
   "execution_count": 48,
   "id": "9779dffb",
   "metadata": {
    "ExecuteTime": {
     "end_time": "2023-02-18T13:35:11.717773Z",
     "start_time": "2023-02-18T13:35:11.714633Z"
    },
    "scrolled": true
   },
   "outputs": [
    {
     "data": {
      "text/plain": [
       "0.6666666666666666"
      ]
     },
     "execution_count": 48,
     "metadata": {},
     "output_type": "execute_result"
    }
   ],
   "source": [
    "compute_f1(\"500\", \"500 USD\")"
   ]
  },
  {
   "cell_type": "code",
   "execution_count": 15,
   "id": "c9b2e7b5",
   "metadata": {
    "ExecuteTime": {
     "end_time": "2023-02-18T13:16:42.312662Z",
     "start_time": "2023-02-18T13:16:41.921857Z"
    }
   },
   "outputs": [],
   "source": [
    "import pandas as pd\n",
    "df = pd.DataFrame(outputs)"
   ]
  },
  {
   "cell_type": "code",
   "execution_count": 19,
   "id": "6483179b",
   "metadata": {
    "ExecuteTime": {
     "end_time": "2023-02-18T13:17:03.933936Z",
     "start_time": "2023-02-18T13:17:03.930758Z"
    }
   },
   "outputs": [],
   "source": [
    "df = df.sort_values('score', ascending=False)"
   ]
  },
  {
   "cell_type": "code",
   "execution_count": 22,
   "id": "001a5aeb",
   "metadata": {
    "ExecuteTime": {
     "end_time": "2023-02-18T13:17:45.377322Z",
     "start_time": "2023-02-18T13:17:45.374806Z"
    }
   },
   "outputs": [],
   "source": [
    "df = df.reset_index(drop=True)"
   ]
  },
  {
   "cell_type": "code",
   "execution_count": 38,
   "id": "4c753ffd",
   "metadata": {
    "ExecuteTime": {
     "end_time": "2023-02-18T13:18:43.400717Z",
     "start_time": "2023-02-18T13:18:43.396739Z"
    }
   },
   "outputs": [
    {
     "data": {
      "text/plain": [
       "0.6043956043956044"
      ]
     },
     "execution_count": 38,
     "metadata": {},
     "output_type": "execute_result"
    }
   ],
   "source": [
    "df[df.score > 0.3].em.mean()"
   ]
  },
  {
   "cell_type": "code",
   "execution_count": null,
   "id": "605d41ba",
   "metadata": {},
   "outputs": [],
   "source": []
  },
  {
   "cell_type": "code",
   "execution_count": 33,
   "id": "c52eccae",
   "metadata": {
    "ExecuteTime": {
     "end_time": "2023-02-18T13:18:24.647652Z",
     "start_time": "2023-02-18T13:18:24.614031Z"
    }
   },
   "outputs": [
    {
     "data": {
      "text/html": [
       "<div>\n",
       "<style scoped>\n",
       "    .dataframe tbody tr th:only-of-type {\n",
       "        vertical-align: middle;\n",
       "    }\n",
       "\n",
       "    .dataframe tbody tr th {\n",
       "        vertical-align: top;\n",
       "    }\n",
       "\n",
       "    .dataframe thead th {\n",
       "        text-align: right;\n",
       "    }\n",
       "</style>\n",
       "<table border=\"1\" class=\"dataframe\">\n",
       "  <thead>\n",
       "    <tr style=\"text-align: right;\">\n",
       "      <th></th>\n",
       "      <th>score</th>\n",
       "      <th>model_output</th>\n",
       "      <th>true_ans</th>\n",
       "      <th>k</th>\n",
       "      <th>f1</th>\n",
       "      <th>em</th>\n",
       "    </tr>\n",
       "  </thead>\n",
       "  <tbody>\n",
       "    <tr>\n",
       "      <th>0</th>\n",
       "      <td>0.977315</td>\n",
       "      <td>3.41%</td>\n",
       "      <td>41</td>\n",
       "      <td>interest-rate-swap</td>\n",
       "      <td>0.000000</td>\n",
       "      <td>0</td>\n",
       "    </tr>\n",
       "    <tr>\n",
       "      <th>1</th>\n",
       "      <td>0.928604</td>\n",
       "      <td>$25</td>\n",
       "      <td>25</td>\n",
       "      <td>safte</td>\n",
       "      <td>1.000000</td>\n",
       "      <td>1</td>\n",
       "    </tr>\n",
       "    <tr>\n",
       "      <th>2</th>\n",
       "      <td>0.899312</td>\n",
       "      <td>04/20/2018</td>\n",
       "      <td>000-04:00</td>\n",
       "      <td>saft</td>\n",
       "      <td>0.000000</td>\n",
       "      <td>0</td>\n",
       "    </tr>\n",
       "    <tr>\n",
       "      <th>3</th>\n",
       "      <td>0.874361</td>\n",
       "      <td>25 USD</td>\n",
       "      <td>25 USD</td>\n",
       "      <td>saft</td>\n",
       "      <td>1.000000</td>\n",
       "      <td>1</td>\n",
       "    </tr>\n",
       "    <tr>\n",
       "      <th>4</th>\n",
       "      <td>0.871709</td>\n",
       "      <td>Healthcare</td>\n",
       "      <td>Healthcare</td>\n",
       "      <td>company-information</td>\n",
       "      <td>1.000000</td>\n",
       "      <td>1</td>\n",
       "    </tr>\n",
       "    <tr>\n",
       "      <th>...</th>\n",
       "      <td>...</td>\n",
       "      <td>...</td>\n",
       "      <td>...</td>\n",
       "      <td>...</td>\n",
       "      <td>...</td>\n",
       "      <td>...</td>\n",
       "    </tr>\n",
       "    <tr>\n",
       "      <th>86</th>\n",
       "      <td>0.317571</td>\n",
       "      <td>If the delay is more than 15 days</td>\n",
       "      <td>15 days</td>\n",
       "      <td>latedeliveryandpenalty-optional</td>\n",
       "      <td>0.444444</td>\n",
       "      <td>0</td>\n",
       "    </tr>\n",
       "    <tr>\n",
       "      <th>87</th>\n",
       "      <td>0.317571</td>\n",
       "      <td>If the delay is more than 15 days</td>\n",
       "      <td>15 days</td>\n",
       "      <td>latedeliveryandpenalty-optional-this</td>\n",
       "      <td>0.444444</td>\n",
       "      <td>0</td>\n",
       "    </tr>\n",
       "    <tr>\n",
       "      <th>88</th>\n",
       "      <td>0.312846</td>\n",
       "      <td>NY</td>\n",
       "      <td>NY</td>\n",
       "      <td>safte</td>\n",
       "      <td>1.000000</td>\n",
       "      <td>1</td>\n",
       "    </tr>\n",
       "    <tr>\n",
       "      <th>89</th>\n",
       "      <td>0.302389</td>\n",
       "      <td>Zutano Mexican Avocados</td>\n",
       "      <td>Grade I, Size 4, Zutano Mexican Avocados</td>\n",
       "      <td>supplyagreement-perishable-goods</td>\n",
       "      <td>0.600000</td>\n",
       "      <td>0</td>\n",
       "    </tr>\n",
       "    <tr>\n",
       "      <th>90</th>\n",
       "      <td>0.301528</td>\n",
       "      <td>30\" \"360\"</td>\n",
       "      <td>DayCountFraction', 'value': '30', 'dayCountFra...</td>\n",
       "      <td>interest-rate-swap</td>\n",
       "      <td>0.571429</td>\n",
       "      <td>0</td>\n",
       "    </tr>\n",
       "  </tbody>\n",
       "</table>\n",
       "<p>91 rows × 6 columns</p>\n",
       "</div>"
      ],
      "text/plain": [
       "       score                       model_output  \\\n",
       "0   0.977315                              3.41%   \n",
       "1   0.928604                                $25   \n",
       "2   0.899312                         04/20/2018   \n",
       "3   0.874361                             25 USD   \n",
       "4   0.871709                         Healthcare   \n",
       "..       ...                                ...   \n",
       "86  0.317571  If the delay is more than 15 days   \n",
       "87  0.317571  If the delay is more than 15 days   \n",
       "88  0.312846                                 NY   \n",
       "89  0.302389            Zutano Mexican Avocados   \n",
       "90  0.301528                          30\" \"360\"   \n",
       "\n",
       "                                             true_ans  \\\n",
       "0                                                  41   \n",
       "1                                                  25   \n",
       "2                                           000-04:00   \n",
       "3                                              25 USD   \n",
       "4                                          Healthcare   \n",
       "..                                                ...   \n",
       "86                                            15 days   \n",
       "87                                            15 days   \n",
       "88                                                 NY   \n",
       "89           Grade I, Size 4, Zutano Mexican Avocados   \n",
       "90  DayCountFraction', 'value': '30', 'dayCountFra...   \n",
       "\n",
       "                                       k        f1  em  \n",
       "0                     interest-rate-swap  0.000000   0  \n",
       "1                                  safte  1.000000   1  \n",
       "2                                   saft  0.000000   0  \n",
       "3                                   saft  1.000000   1  \n",
       "4                    company-information  1.000000   1  \n",
       "..                                   ...       ...  ..  \n",
       "86       latedeliveryandpenalty-optional  0.444444   0  \n",
       "87  latedeliveryandpenalty-optional-this  0.444444   0  \n",
       "88                                 safte  1.000000   1  \n",
       "89      supplyagreement-perishable-goods  0.600000   0  \n",
       "90                    interest-rate-swap  0.571429   0  \n",
       "\n",
       "[91 rows x 6 columns]"
      ]
     },
     "execution_count": 33,
     "metadata": {},
     "output_type": "execute_result"
    }
   ],
   "source": [
    "df[df.score > 0.3]"
   ]
  },
  {
   "cell_type": "code",
   "execution_count": 6,
   "id": "9246d251",
   "metadata": {
    "ExecuteTime": {
     "end_time": "2023-02-07T00:54:06.406930Z",
     "start_time": "2023-02-07T00:54:06.398870Z"
    }
   },
   "outputs": [
    {
     "data": {
      "text/plain": [
       "{'score': 0.31971532106399536,\n",
       " 'start': 2454,\n",
       " 'end': 2465,\n",
       " 'answer': '1922.99 TRY'}"
      ]
     },
     "execution_count": 6,
     "metadata": {},
     "output_type": "execute_result"
    }
   ],
   "source": [
    "res"
   ]
  },
  {
   "cell_type": "code",
   "execution_count": 35,
   "id": "9480ffed",
   "metadata": {
    "ExecuteTime": {
     "end_time": "2023-02-07T00:50:11.441235Z",
     "start_time": "2023-02-07T00:50:11.436828Z"
    }
   },
   "outputs": [
    {
     "data": {
      "text/plain": [
       "{'variable_name': 'paymentPeriodWithPermission',\n",
       " 'ans': '7 days',\n",
       " 'variable_value': {'$class': 'org.accordproject.time.Duration',\n",
       "  'amount': 7,\n",
       "  'unit': 'days'}}"
      ]
     },
     "execution_count": 35,
     "metadata": {},
     "output_type": "execute_result"
    }
   ],
   "source": [
    "questions"
   ]
  },
  {
   "cell_type": "code",
   "execution_count": 28,
   "id": "382b44a3",
   "metadata": {
    "ExecuteTime": {
     "end_time": "2023-02-07T00:45:36.842088Z",
     "start_time": "2023-02-07T00:45:36.837962Z"
    }
   },
   "outputs": [
    {
     "data": {
      "text/plain": [
       "{'score': 0.000850165612064302,\n",
       " 'start': 1244,\n",
       " 'end': 1329,\n",
       " 'answer': 'Licensee shall request permission from the governmental authority to make the payment'}"
      ]
     },
     "execution_count": 28,
     "metadata": {},
     "output_type": "execute_result"
    }
   ],
   "source": [
    "res"
   ]
  },
  {
   "cell_type": "code",
   "execution_count": 23,
   "id": "c0be3d3f",
   "metadata": {
    "ExecuteTime": {
     "end_time": "2023-02-07T00:45:09.392826Z",
     "start_time": "2023-02-07T00:45:09.389605Z"
    }
   },
   "outputs": [
    {
     "data": {
      "text/plain": [
       "{'variable_name': 'paymentPeriodWithPermission',\n",
       " 'ans': '7 days',\n",
       " 'variable_value': {'$class': 'org.accordproject.time.Duration',\n",
       "  'amount': 7,\n",
       "  'unit': 'days'}}"
      ]
     },
     "execution_count": 23,
     "metadata": {},
     "output_type": "execute_result"
    }
   ],
   "source": [
    "questions"
   ]
  },
  {
   "cell_type": "code",
   "execution_count": 204,
   "id": "8e36c035",
   "metadata": {
    "ExecuteTime": {
     "end_time": "2023-02-07T00:41:25.823307Z",
     "start_time": "2023-02-07T00:41:25.818144Z"
    }
   },
   "outputs": [
    {
     "data": {
      "text/plain": [
       "'supplier'"
      ]
     },
     "execution_count": 204,
     "metadata": {},
     "output_type": "execute_result"
    }
   ],
   "source": []
  },
  {
   "cell_type": "code",
   "execution_count": 186,
   "id": "2d374d01",
   "metadata": {
    "ExecuteTime": {
     "end_time": "2023-02-07T00:34:15.252951Z",
     "start_time": "2023-02-07T00:34:15.249135Z"
    }
   },
   "outputs": [
    {
     "data": {
      "text/plain": [
       "[{'variable_name': 'maximumDelay',\n",
       "  'ans': '180 days',\n",
       "  'variable_value': {'$class': 'org.accordproject.time.Duration',\n",
       "   'amount': 180,\n",
       "   'unit': 'days'}},\n",
       " {'variable_name': 'purchaser',\n",
       "  'ans': 'Betty Buyer',\n",
       "  'variable_value': 'resource:org.accordproject.party.Party#Betty%20Buyer'},\n",
       " {'variable_name': 'supplier',\n",
       "  'ans': 'Steve Seller',\n",
       "  'variable_value': 'resource:org.accordproject.party.Party#Steve%20Seller'}]"
      ]
     },
     "execution_count": 186,
     "metadata": {},
     "output_type": "execute_result"
    }
   ],
   "source": []
  },
  {
   "cell_type": "code",
   "execution_count": 179,
   "id": "6b554b7d",
   "metadata": {
    "ExecuteTime": {
     "end_time": "2023-02-07T00:33:16.873184Z",
     "start_time": "2023-02-07T00:33:16.868875Z"
    }
   },
   "outputs": [],
   "source": [
    "variable_value = QAs['latedeliveryandpenalty'][\"Qs\"][-2]['variable_value']"
   ]
  },
  {
   "cell_type": "code",
   "execution_count": 180,
   "id": "df25b95f",
   "metadata": {
    "ExecuteTime": {
     "end_time": "2023-02-07T00:33:17.052137Z",
     "start_time": "2023-02-07T00:33:17.044580Z"
    }
   },
   "outputs": [
    {
     "data": {
      "text/plain": [
       "{'variable_name': 'termination', 'ans': '15 days', 'variable_value': '15 days'}"
      ]
     },
     "execution_count": 180,
     "metadata": {},
     "output_type": "execute_result"
    }
   ],
   "source": [
    "QAs['latedeliveryandpenalty'][\"Qs\"][-2]"
   ]
  },
  {
   "cell_type": "code",
   "execution_count": 171,
   "id": "c44ce0cd",
   "metadata": {
    "ExecuteTime": {
     "end_time": "2023-02-07T00:31:51.715837Z",
     "start_time": "2023-02-07T00:31:51.681580Z"
    }
   },
   "outputs": [
    {
     "ename": "AttributeError",
     "evalue": "'dict' object has no attribute 'replace'",
     "output_type": "error",
     "traceback": [
      "\u001b[0;31m---------------------------------------------------------------------------\u001b[0m",
      "\u001b[0;31mAttributeError\u001b[0m                            Traceback (most recent call last)",
      "\u001b[0;32m/tmp/ipykernel_4062/1455817103.py\u001b[0m in \u001b[0;36m<module>\u001b[0;34m\u001b[0m\n\u001b[0;32m----> 1\u001b[0;31m \u001b[0mvariable_value\u001b[0m \u001b[0;34m=\u001b[0m \u001b[0mjson\u001b[0m\u001b[0;34m.\u001b[0m\u001b[0mloads\u001b[0m\u001b[0;34m(\u001b[0m\u001b[0mvariable_value\u001b[0m\u001b[0;34m.\u001b[0m\u001b[0mreplace\u001b[0m\u001b[0;34m(\u001b[0m\u001b[0;34m\"'\"\u001b[0m\u001b[0;34m,\u001b[0m \u001b[0;34m'\"'\u001b[0m\u001b[0;34m)\u001b[0m\u001b[0;34m)\u001b[0m\u001b[0;34m\u001b[0m\u001b[0;34m\u001b[0m\u001b[0m\n\u001b[0m\u001b[1;32m      2\u001b[0m \u001b[0;32mfor\u001b[0m \u001b[0mkey\u001b[0m \u001b[0;32min\u001b[0m \u001b[0mvariable_value\u001b[0m\u001b[0;34m.\u001b[0m\u001b[0mkeys\u001b[0m\u001b[0;34m(\u001b[0m\u001b[0;34m)\u001b[0m\u001b[0;34m:\u001b[0m\u001b[0;34m\u001b[0m\u001b[0;34m\u001b[0m\u001b[0m\n\u001b[1;32m      3\u001b[0m     \u001b[0;32mif\u001b[0m \u001b[0mkey\u001b[0m \u001b[0;32min\u001b[0m \u001b[0;34m[\u001b[0m\u001b[0;34m'amount'\u001b[0m\u001b[0;34m]\u001b[0m\u001b[0;34m:\u001b[0m\u001b[0;34m\u001b[0m\u001b[0;34m\u001b[0m\u001b[0m\n\u001b[1;32m      4\u001b[0m         \u001b[0mans\u001b[0m \u001b[0;34m=\u001b[0m \u001b[0;34mf\"{variable_value[key]} {variable_value['unit']}\"\u001b[0m\u001b[0;34m\u001b[0m\u001b[0;34m\u001b[0m\u001b[0m\n\u001b[1;32m      5\u001b[0m         \u001b[0;32mbreak\u001b[0m\u001b[0;34m\u001b[0m\u001b[0;34m\u001b[0m\u001b[0m\n",
      "\u001b[0;31mAttributeError\u001b[0m: 'dict' object has no attribute 'replace'"
     ]
    }
   ],
   "source": [
    "variable_value = json.loads(variable_value.replace(\"'\", '\"'))\n",
    "for key in variable_value.keys():\n",
    "    if key in ['amount']:\n",
    "        ans = f\"{variable_value[key]} {variable_value['unit']}\"\n",
    "        break\n",
    "    elif 'value' in key.lower():\n",
    "        pass"
   ]
  },
  {
   "cell_type": "code",
   "execution_count": 170,
   "id": "3d761fbb",
   "metadata": {
    "ExecuteTime": {
     "end_time": "2023-02-07T00:31:18.208334Z",
     "start_time": "2023-02-07T00:31:18.204408Z"
    }
   },
   "outputs": [
    {
     "data": {
      "text/plain": [
       "'15 days'"
      ]
     },
     "execution_count": 170,
     "metadata": {},
     "output_type": "execute_result"
    }
   ],
   "source": [
    "ans"
   ]
  },
  {
   "cell_type": "code",
   "execution_count": 134,
   "id": "245d77b3",
   "metadata": {
    "ExecuteTime": {
     "end_time": "2023-02-07T00:27:08.373620Z",
     "start_time": "2023-02-07T00:27:08.369926Z"
    },
    "scrolled": true
   },
   "outputs": [
    {
     "data": {
      "text/plain": [
       "dict_keys(['saft', 'payment-upon-signature', 'sales-contract-ru', 'certificate-of-incorporation', 'promissory-note', 'empty', 'payment-upon-delivery', 'acceptance-of-delivery', 'safte', 'empty-contract', 'latedeliveryandpenalty-currency-conversion', 'fragile-goods', 'minilatedeliveryandpenalty-capped', 'minilatedeliveryandpenalty-payment', 'promissory-note-md', 'latedeliveryandpenalty', 'servicelevelagreement', 'latedeliveryandpenalty-optional', 'supplyagreement-perishable-goods', 'full-payment-upon-demand', 'helloworldstate', 'one-time-payment-tr', 'car-rental-tr', 'perishable-goods', 'fixed-interests-static', 'simplelatedeliveryandpenalty', 'minilatedeliveryandpenalty', 'copyright-license', 'installment-sale', 'hellomodule', 'online-payment-contract-tr', 'payment-upon-iot', 'signature-block-title-name-date', 'demandforecast', 'fixed-interests', 'full-payment-upon-signature', 'contact-information', 'volumediscount', 'volumediscountulist', 'company-information', 'eat-apples', 'latedeliveryandpenalty-optional-this', 'bill-of-lading', 'supply-agreement-loc', 'latedeliveryandpenalty-else', 'helloworld', 'ip-payment', 'project-information', 'rental-deposit', 'supplyagreement', 'interest-rate-swap', 'volumediscountolist', 'lateinvoicewithpayment'])"
      ]
     },
     "execution_count": 134,
     "metadata": {},
     "output_type": "execute_result"
    }
   ],
   "source": [
    "QAs.keys()"
   ]
  },
  {
   "cell_type": "code",
   "execution_count": 109,
   "id": "03cc6ec3",
   "metadata": {
    "ExecuteTime": {
     "end_time": "2023-02-07T00:18:24.715987Z",
     "start_time": "2023-02-07T00:18:24.712401Z"
    }
   },
   "outputs": [
    {
     "data": {
      "text/plain": [
       "'16ddc768-3847-4fc6-a7e4-9b7d94c020dd'"
      ]
     },
     "execution_count": 109,
     "metadata": {},
     "output_type": "execute_result"
    }
   ],
   "source": [
    "variable_value"
   ]
  },
  {
   "cell_type": "code",
   "execution_count": 101,
   "id": "78ccf2ba",
   "metadata": {
    "ExecuteTime": {
     "end_time": "2023-02-07T00:14:46.470106Z",
     "start_time": "2023-02-07T00:14:46.463821Z"
    }
   },
   "outputs": [
    {
     "data": {
      "text/plain": [
       "'## Acceptance of Delivery.\\n\\n{{shipper}} will be deemed to have completed its delivery obligations\\nif in {{receiver}}\\'s opinion, the {{deliverable}} satisfies the\\nAcceptance Criteria, and {{receiver}} notifies {{shipper}} in writing\\nthat it is accepting the {{deliverable}}.\\n\\n## Inspection and Notice.\\n\\n{{receiver}} will have {{businessDays}} Business Days to inspect and\\nevaluate the {{deliverable}} on the delivery date before notifying\\n{{shipper}} that it is either accepting or rejecting the\\n{{deliverable}}.\\n\\n## Acceptance Criteria.\\n\\nThe \"Acceptance Criteria\" are the specifications the {{deliverable}}\\nmust meet for {{shipper}} to comply with its requirements and\\nobligations under this agreement, detailed in {{attachment}}, attached\\nto this agreement.'"
      ]
     },
     "execution_count": 101,
     "metadata": {},
     "output_type": "execute_result"
    }
   ],
   "source": []
  },
  {
   "cell_type": "code",
   "execution_count": null,
   "id": "65634e43",
   "metadata": {},
   "outputs": [],
   "source": []
  },
  {
   "cell_type": "code",
   "execution_count": 93,
   "id": "65e38887",
   "metadata": {
    "ExecuteTime": {
     "end_time": "2023-02-07T00:12:44.878258Z",
     "start_time": "2023-02-07T00:12:44.872200Z"
    }
   },
   "outputs": [
    {
     "data": {
      "text/plain": [
       "'16ddc768-3847-4fc6-a7e4-9b7d94c020dd'"
      ]
     },
     "execution_count": 93,
     "metadata": {},
     "output_type": "execute_result"
    }
   ],
   "source": [
    "variable_value"
   ]
  },
  {
   "cell_type": "code",
   "execution_count": 73,
   "id": "25592539",
   "metadata": {
    "ExecuteTime": {
     "end_time": "2023-02-07T00:09:09.534663Z",
     "start_time": "2023-02-07T00:09:09.531035Z"
    }
   },
   "outputs": [
    {
     "data": {
      "text/plain": [
       "('shipper', 'resource:org.accordproject.organization.Organization#Party%20A')"
      ]
     },
     "execution_count": 73,
     "metadata": {},
     "output_type": "execute_result"
    }
   ],
   "source": [
    "variable_name, question"
   ]
  },
  {
   "cell_type": "code",
   "execution_count": 78,
   "id": "17b61281",
   "metadata": {
    "ExecuteTime": {
     "end_time": "2023-02-07T00:10:48.561758Z",
     "start_time": "2023-02-07T00:10:48.554504Z"
    }
   },
   "outputs": [
    {
     "data": {
      "text/plain": [
       "{'$class': 'org.accordproject.acceptanceofdelivery.AcceptanceOfDeliveryClause',\n",
       " 'shipper': 'resource:org.accordproject.organization.Organization#Party%20A',\n",
       " 'receiver': 'resource:org.accordproject.organization.Organization#Party%20B',\n",
       " 'deliverable': 'Widgets',\n",
       " 'businessDays': 10,\n",
       " 'attachment': 'Attachment X',\n",
       " 'clauseId': '16ddc768-3847-4fc6-a7e4-9b7d94c020dd',\n",
       " '$identifier': '16ddc768-3847-4fc6-a7e4-9b7d94c020dd'}"
      ]
     },
     "execution_count": 78,
     "metadata": {},
     "output_type": "execute_result"
    }
   ],
   "source": [
    "v"
   ]
  },
  {
   "cell_type": "code",
   "execution_count": 74,
   "id": "de0526f0",
   "metadata": {
    "ExecuteTime": {
     "end_time": "2023-02-07T00:09:14.403180Z",
     "start_time": "2023-02-07T00:09:14.396304Z"
    }
   },
   "outputs": [
    {
     "data": {
      "text/plain": [
       "'resource:org.accordproject.organization.Organization#Party A'"
      ]
     },
     "execution_count": 74,
     "metadata": {},
     "output_type": "execute_result"
    }
   ],
   "source": []
  },
  {
   "cell_type": "code",
   "execution_count": 69,
   "id": "27525788",
   "metadata": {
    "ExecuteTime": {
     "end_time": "2023-02-07T00:08:25.464023Z",
     "start_time": "2023-02-07T00:08:25.457370Z"
    }
   },
   "outputs": [
    {
     "data": {
      "text/plain": [
       "'Party%20A'"
      ]
     },
     "execution_count": 69,
     "metadata": {},
     "output_type": "execute_result"
    }
   ],
   "source": [
    "question.split(\"#\")[1]"
   ]
  },
  {
   "cell_type": "code",
   "execution_count": null,
   "id": "ed0eb0c9",
   "metadata": {},
   "outputs": [],
   "source": []
  },
  {
   "cell_type": "code",
   "execution_count": 62,
   "id": "bda82eb0",
   "metadata": {
    "ExecuteTime": {
     "end_time": "2023-02-07T00:07:30.068556Z",
     "start_time": "2023-02-07T00:07:30.061742Z"
    }
   },
   "outputs": [
    {
     "data": {
      "text/plain": [
       "'acceptance-of-delivery'"
      ]
     },
     "execution_count": 62,
     "metadata": {},
     "output_type": "execute_result"
    }
   ],
   "source": [
    "k"
   ]
  },
  {
   "cell_type": "code",
   "execution_count": null,
   "id": "ee633c52",
   "metadata": {},
   "outputs": [],
   "source": []
  },
  {
   "cell_type": "code",
   "execution_count": 8,
   "id": "16b9800e",
   "metadata": {
    "ExecuteTime": {
     "end_time": "2023-02-06T01:27:06.087995Z",
     "start_time": "2023-02-06T01:27:06.083867Z"
    }
   },
   "outputs": [
    {
     "data": {
      "text/plain": [
       "['## Late Delivery and Penalty.\\n',\n",
       " '\\n',\n",
       " 'In case of delayed delivery except for Force Majeure cases,\\n',\n",
       " '\"Dan\" (the Seller) shall pay to \"Steve\" (the Buyer) for every 2 days\\n',\n",
       " 'of delay penalty amounting to 10.5% of the total value of the Equipment\\n',\n",
       " 'whose delivery has been delayed. Any fractional part of a days is to be\\n',\n",
       " 'considered a full days. The total amount of penalty shall not however,\\n',\n",
       " 'exceed 55% of the total value of the Equipment involved in late delivery.\\n',\n",
       " 'If the delay is more than 15 days, the Buyer is entitled to terminate this Contract.']"
      ]
     },
     "execution_count": 8,
     "metadata": {},
     "output_type": "execute_result"
    }
   ],
   "source": [
    "data['latedeliveryandpenalty']['/text/sample.md']"
   ]
  },
  {
   "cell_type": "code",
   "execution_count": 12,
   "id": "27c90f3a",
   "metadata": {
    "ExecuteTime": {
     "end_time": "2023-02-06T01:37:26.989189Z",
     "start_time": "2023-02-06T01:37:26.986526Z"
    }
   },
   "outputs": [],
   "source": [
    "import re"
   ]
  },
  {
   "cell_type": "code",
   "execution_count": 38,
   "id": "95563771",
   "metadata": {
    "ExecuteTime": {
     "end_time": "2023-02-06T01:46:22.460236Z",
     "start_time": "2023-02-06T01:46:22.457325Z"
    }
   },
   "outputs": [],
   "source": [
    "res = re.findall(\"(?<=\\{{).+?(?=\\}})\", \n",
    "                 \"\".join(data['latedeliveryandpenalty']['/text/grammar.tem.md']))\n",
    "\n",
    "res"
   ]
  },
  {
   "cell_type": "code",
   "execution_count": null,
   "id": "000817ba",
   "metadata": {},
   "outputs": [],
   "source": []
  },
  {
   "cell_type": "markdown",
   "id": "727dcbb1",
   "metadata": {},
   "source": [
    "https://templates.accordproject.org/latedeliveryandpenalty@0.15.0.html"
   ]
  },
  {
   "cell_type": "code",
   "execution_count": 41,
   "id": "0714e802",
   "metadata": {
    "ExecuteTime": {
     "end_time": "2023-02-06T05:03:46.409169Z",
     "start_time": "2023-02-06T05:03:46.404922Z"
    }
   },
   "outputs": [
    {
     "data": {
      "text/plain": [
       "'## Late Delivery and Penalty.\\n\\nIn case of delayed delivery except for Force Majeure cases,\\n\"Dan\" (the Seller) shall pay to \"Steve\" (the Buyer) for every 2 days\\nof delay penalty amounting to 10.5% of the total value of the Equipment\\nwhose delivery has been delayed. Any fractional part of a days is to be\\nconsidered a full days. The total amount of penalty shall not however,\\nexceed 55% of the total value of the Equipment involved in late delivery.\\nIf the delay is more than 15 days, the Buyer is entitled to terminate this Contract.'"
      ]
     },
     "execution_count": 41,
     "metadata": {},
     "output_type": "execute_result"
    }
   ],
   "source": [
    "\"\".join(data['latedeliveryandpenalty']['/text/sample.md'])"
   ]
  },
  {
   "cell_type": "code",
   "execution_count": 40,
   "id": "6e3ec73d",
   "metadata": {
    "ExecuteTime": {
     "end_time": "2023-02-06T01:46:33.146839Z",
     "start_time": "2023-02-06T01:46:33.141726Z"
    }
   },
   "outputs": [
    {
     "data": {
      "text/plain": [
       "'## Late Delivery and Penalty.\\n\\nIn case of delayed delivery{{#if forceMajeure}} except for Force Majeure cases,{{/if}}\\n{{seller}} (the Seller) shall pay to {{buyer}} (the Buyer) for every {{penaltyDuration}}\\nof delay penalty amounting to {{penaltyPercentage}}% of the total value of the Equipment\\nwhose delivery has been delayed. Any fractional part of a {{fractionalPart}} is to be\\nconsidered a full {{fractionalPart}}. The total amount of penalty shall not however,\\nexceed {{capPercentage}}% of the total value of the Equipment involved in late delivery.\\nIf the delay is more than {{termination}}, the Buyer is entitled to terminate this Contract.'"
      ]
     },
     "execution_count": 40,
     "metadata": {},
     "output_type": "execute_result"
    }
   ],
   "source": [
    "\"\".join(data['latedeliveryandpenalty']['/text/grammar.tem.md'])"
   ]
  },
  {
   "cell_type": "code",
   "execution_count": null,
   "id": "a4c1cc06",
   "metadata": {},
   "outputs": [],
   "source": []
  }
 ],
 "metadata": {
  "kernelspec": {
   "display_name": "py37",
   "language": "python",
   "name": "py37"
  },
  "language_info": {
   "codemirror_mode": {
    "name": "ipython",
    "version": 3
   },
   "file_extension": ".py",
   "mimetype": "text/x-python",
   "name": "python",
   "nbconvert_exporter": "python",
   "pygments_lexer": "ipython3",
   "version": "3.7.10"
  }
 },
 "nbformat": 4,
 "nbformat_minor": 5
}
