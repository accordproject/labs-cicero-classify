{
 "cells": [
  {
   "cell_type": "code",
   "execution_count": 312,
   "id": "a8248c15",
   "metadata": {
    "ExecuteTime": {
     "end_time": "2023-02-16T13:27:19.166381Z",
     "start_time": "2023-02-16T13:27:19.155058Z"
    }
   },
   "outputs": [],
   "source": [
    "import json\n",
    "import re\n",
    "from tqdm import tqdm\n",
    "import requests\n",
    "import json\n",
    "with open(\"./Accord_all_contract.json\", \"r\") as f:\n",
    "    templates = json.load(f)\n",
    "    "
   ]
  },
  {
   "cell_type": "code",
   "execution_count": 313,
   "id": "db4729fa",
   "metadata": {
    "ExecuteTime": {
     "end_time": "2023-02-16T13:27:19.322220Z",
     "start_time": "2023-02-16T13:27:19.318173Z"
    }
   },
   "outputs": [],
   "source": [
    "with open(\"./templates_data.json\", 'r') as f:\n",
    "    templates_data = json.load(f)"
   ]
  },
  {
   "cell_type": "code",
   "execution_count": 314,
   "id": "62ea5a57",
   "metadata": {
    "ExecuteTime": {
     "end_time": "2023-02-16T13:27:23.192649Z",
     "start_time": "2023-02-16T13:27:19.526274Z"
    }
   },
   "outputs": [],
   "source": [
    "from transformers import AutoTokenizer\n",
    "# b) Load model & tokenizer\n",
    "model_name = \"roberta-base\"\n",
    "\n",
    "tokenizer = AutoTokenizer.from_pretrained(model_name)"
   ]
  },
  {
   "cell_type": "code",
   "execution_count": 316,
   "id": "bda2fbae",
   "metadata": {
    "ExecuteTime": {
     "end_time": "2023-02-16T13:27:37.041333Z",
     "start_time": "2023-02-16T13:27:37.037445Z"
    }
   },
   "outputs": [
    {
     "data": {
      "text/plain": [
       "'upon the signing of this agreement, \"dave\" shall pay 50 usd to \"dan\".'"
      ]
     },
     "execution_count": 316,
     "metadata": {},
     "output_type": "execute_result"
    }
   ],
   "source": []
  },
  {
   "cell_type": "code",
   "execution_count": 317,
   "id": "06be18c2",
   "metadata": {
    "ExecuteTime": {
     "end_time": "2023-02-16T13:30:07.139054Z",
     "start_time": "2023-02-16T13:27:44.925005Z"
    }
   },
   "outputs": [
    {
     "name": "stderr",
     "output_type": "stream",
     "text": [
      "100%|██████████████████████████| 56/56 [02:22<00:00,  2.54s/it]\n"
     ]
    }
   ],
   "source": [
    "problems = []\n",
    "outputs = {}\n",
    "for name, template in tqdm(templates.items()):\n",
    "    try:\n",
    "        res = requests.post('https://gsoc.api.eason.tw/api/v1/models/NER/labelText', \n",
    "                           data = json.dumps({\n",
    "          \"return_top_n\": 3,\n",
    "          \"return_higher_than\": 0,\n",
    "          \"wanted_labels\": [\n",
    "            \"*\"\n",
    "          ],\n",
    "          \"specify_model_version\": {},\n",
    "          \"text\": (\"\".join(template['/text/sample.md'])).lower()\n",
    "        }))\n",
    "        template[\"NER\"] = res.json()\n",
    "        outputs[name] = template\n",
    "    except:\n",
    "        problems.append(name)"
   ]
  },
  {
   "cell_type": "code",
   "execution_count": 323,
   "id": "e9ac8a5e",
   "metadata": {
    "ExecuteTime": {
     "end_time": "2023-02-16T14:34:53.482970Z",
     "start_time": "2023-02-16T14:34:53.170193Z"
    }
   },
   "outputs": [
    {
     "data": {
      "text/plain": [
       "<Response [200]>"
      ]
     },
     "execution_count": 323,
     "metadata": {},
     "output_type": "execute_result"
    }
   ],
   "source": [
    "res = requests.post('https://gsoc.api.eason.tw/api/v1/models/NER/labelText', \n",
    "                           data = json.dumps({\n",
    "          \"return_top_n\": 3,\n",
    "          \"return_higher_than\": 0,\n",
    "          \"wanted_labels\": [\n",
    "            \"*\"\n",
    "          ],\n",
    "          \"specify_model_version\": {},\n",
    "          \"text\": (\"\".join(template['/text/sample.md']))\n",
    "        }))\n",
    "res"
   ]
  },
  {
   "cell_type": "code",
   "execution_count": 324,
   "id": "ec53256a",
   "metadata": {
    "ExecuteTime": {
     "end_time": "2023-02-16T14:34:56.795791Z",
     "start_time": "2023-02-16T14:34:56.777463Z"
    }
   },
   "outputs": [
    {
     "data": {
      "text/plain": [
       "{'prediction': [{'token': 'Upon',\n",
       "   'predictions': [{'type': 'O', 'confidence': 0.9465506076812744},\n",
       "    {'type': 'String', 'confidence': 0.2503378987312317},\n",
       "    {'type': 'Person', 'confidence': 0.13618318736553192}]},\n",
       "  {'token': 'Ġthe',\n",
       "   'predictions': [{'type': 'O', 'confidence': 0.9957129955291748},\n",
       "    {'type': 'B-org', 'confidence': 0.048760656267404556},\n",
       "    {'type': 'Person', 'confidence': 0.044754862785339355}]},\n",
       "  {'token': 'Ġsigning',\n",
       "   'predictions': [{'type': 'O', 'confidence': 0.7746427655220032},\n",
       "    {'type': 'TemporalUnit', 'confidence': 0.1522894948720932},\n",
       "    {'type': 'Party87', 'confidence': 0.10787118971347809}]},\n",
       "  {'token': 'Ġof',\n",
       "   'predictions': [{'type': 'O', 'confidence': 0.9156043529510498},\n",
       "    {'type': 'TemporalUnit', 'confidence': 0.2166566252708435},\n",
       "    {'type': 'Party87', 'confidence': 0.1489492952823639}]},\n",
       "  {'token': 'Ġthis',\n",
       "   'predictions': [{'type': 'O', 'confidence': 0.8999553322792053},\n",
       "    {'type': 'B-org', 'confidence': 0.21784694492816925},\n",
       "    {'type': 'Party87', 'confidence': 0.19514445960521698}]},\n",
       "  {'token': 'ĠAgreement',\n",
       "   'predictions': [{'type': 'Party', 'confidence': 0.6479926109313965},\n",
       "    {'type': 'String', 'confidence': 0.5550543069839478},\n",
       "    {'type': 'B-org', 'confidence': 0.4012811779975891}]},\n",
       "  {'token': ',',\n",
       "   'predictions': [{'type': 'O', 'confidence': 0.9279784560203552},\n",
       "    {'type': 'Party87', 'confidence': 0.10851234942674637},\n",
       "    {'type': 'B-org', 'confidence': 0.07943621277809143}]},\n",
       "  {'token': 'Ġ\"',\n",
       "   'predictions': [{'type': 'O', 'confidence': 0.5985324382781982},\n",
       "    {'type': 'Party', 'confidence': 0.3996054232120514},\n",
       "    {'type': 'Party87', 'confidence': 0.31569111347198486}]},\n",
       "  {'token': 'Dave',\n",
       "   'predictions': [{'type': 'String', 'confidence': 0.7141955494880676},\n",
       "    {'type': 'Party', 'confidence': 0.6634715795516968},\n",
       "    {'type': 'Party87', 'confidence': 0.5820321440696716}]},\n",
       "  {'token': '\"',\n",
       "   'predictions': [{'type': 'O', 'confidence': 0.7443751692771912},\n",
       "    {'type': 'Party', 'confidence': 0.49219000339508057},\n",
       "    {'type': 'Party87', 'confidence': 0.436458021402359}]},\n",
       "  {'token': 'Ġshall',\n",
       "   'predictions': [{'type': 'O', 'confidence': 0.8392053842544556},\n",
       "    {'type': 'String', 'confidence': 0.40371832251548767},\n",
       "    {'type': 'B-org', 'confidence': 0.2156655490398407}]},\n",
       "  {'token': 'Ġpay',\n",
       "   'predictions': [{'type': 'O', 'confidence': 0.8480480313301086},\n",
       "    {'type': 'Party87', 'confidence': 0.1732647567987442},\n",
       "    {'type': 'Party', 'confidence': 0.10419870913028717}]},\n",
       "  {'token': 'Ġ50',\n",
       "   'predictions': [{'type': 'Integer', 'confidence': 0.722781240940094},\n",
       "    {'type': 'Party', 'confidence': 0.2063666135072708},\n",
       "    {'type': 'Party87', 'confidence': 0.15474775433540344}]},\n",
       "  {'token': 'ĠUSD',\n",
       "   'predictions': [{'type': 'Party', 'confidence': 0.6796419620513916},\n",
       "    {'type': 'String', 'confidence': 0.6445955038070679},\n",
       "    {'type': 'Party87', 'confidence': 0.49765831232070923}]},\n",
       "  {'token': 'Ġto',\n",
       "   'predictions': [{'type': 'O', 'confidence': 0.7176685333251953},\n",
       "    {'type': 'Party87', 'confidence': 0.17555184662342072},\n",
       "    {'type': 'Party', 'confidence': 0.13625924289226532}]},\n",
       "  {'token': 'Ġ\"',\n",
       "   'predictions': [{'type': 'O', 'confidence': 0.5558497309684753},\n",
       "    {'type': 'Party', 'confidence': 0.3618706166744232},\n",
       "    {'type': 'Party87', 'confidence': 0.23377111554145813}]},\n",
       "  {'token': 'Dan',\n",
       "   'predictions': [{'type': 'Party', 'confidence': 0.6514667868614197},\n",
       "    {'type': 'String', 'confidence': 0.638133704662323},\n",
       "    {'type': 'Party87', 'confidence': 0.5413485169410706}]},\n",
       "  {'token': '\".',\n",
       "   'predictions': [{'type': 'O', 'confidence': 0.848987340927124},\n",
       "    {'type': 'B-org', 'confidence': 0.314912348985672},\n",
       "    {'type': 'String', 'confidence': 0.29333725571632385}]}]}"
      ]
     },
     "execution_count": 324,
     "metadata": {},
     "output_type": "execute_result"
    }
   ],
   "source": [
    "res.json()"
   ]
  },
  {
   "cell_type": "code",
   "execution_count": 322,
   "id": "9ccb0631",
   "metadata": {
    "ExecuteTime": {
     "end_time": "2023-02-16T14:34:50.813731Z",
     "start_time": "2023-02-16T14:34:50.806098Z"
    }
   },
   "outputs": [
    {
     "data": {
      "text/plain": [
       "{'prediction': [{'token': 'upon',\n",
       "   'predictions': [{'type': 'O', 'confidence': 0.9656015038490295},\n",
       "    {'type': 'String', 'confidence': 0.11960957199335098},\n",
       "    {'type': 'B-org', 'confidence': 0.1118793711066246}]},\n",
       "  {'token': 'Ġthe',\n",
       "   'predictions': [{'type': 'O', 'confidence': 0.9951894283294678},\n",
       "    {'type': 'B-org', 'confidence': 0.046503908932209015},\n",
       "    {'type': 'Person', 'confidence': 0.034344736486673355}]},\n",
       "  {'token': 'Ġsigning',\n",
       "   'predictions': [{'type': 'O', 'confidence': 0.7419508099555969},\n",
       "    {'type': 'TemporalUnit', 'confidence': 0.16494987905025482},\n",
       "    {'type': 'B-org', 'confidence': 0.09058406203985214}]},\n",
       "  {'token': 'Ġof',\n",
       "   'predictions': [{'type': 'O', 'confidence': 0.9096471071243286},\n",
       "    {'type': 'TemporalUnit', 'confidence': 0.21022672951221466},\n",
       "    {'type': 'Party87', 'confidence': 0.1195978969335556}]},\n",
       "  {'token': 'Ġthis',\n",
       "   'predictions': [{'type': 'O', 'confidence': 0.9781920313835144},\n",
       "    {'type': 'B-org', 'confidence': 0.17750248312950134},\n",
       "    {'type': 'String', 'confidence': 0.08584380894899368}]},\n",
       "  {'token': 'Ġagreement',\n",
       "   'predictions': [{'type': 'O', 'confidence': 0.9643723368644714},\n",
       "    {'type': 'TemporalUnit', 'confidence': 0.13776032626628876},\n",
       "    {'type': 'B-org', 'confidence': 0.08049488067626953}]},\n",
       "  {'token': ',',\n",
       "   'predictions': [{'type': 'O', 'confidence': 0.965352475643158},\n",
       "    {'type': 'B-org', 'confidence': 0.04505525529384613},\n",
       "    {'type': 'Party87', 'confidence': 0.032923489809036255}]},\n",
       "  {'token': 'Ġ\"',\n",
       "   'predictions': [{'type': 'O', 'confidence': 0.9818753600120544},\n",
       "    {'type': 'Party87', 'confidence': 0.05507686361670494},\n",
       "    {'type': 'Party', 'confidence': 0.031211230903863907}]},\n",
       "  {'token': 'd',\n",
       "   'predictions': [{'type': 'O', 'confidence': 0.7823118567466736},\n",
       "    {'type': 'String', 'confidence': 0.2595973610877991},\n",
       "    {'type': 'B-org', 'confidence': 0.229200541973114}]},\n",
       "  {'token': 'ave',\n",
       "   'predictions': [{'type': 'O', 'confidence': 0.4305588901042938},\n",
       "    {'type': 'Party', 'confidence': 0.34004101157188416},\n",
       "    {'type': 'String', 'confidence': 0.33869805932044983}]},\n",
       "  {'token': '\"',\n",
       "   'predictions': [{'type': 'O', 'confidence': 0.8906238675117493},\n",
       "    {'type': 'Party', 'confidence': 0.3311392366886139},\n",
       "    {'type': 'Party87', 'confidence': 0.24171951413154602}]},\n",
       "  {'token': 'Ġshall',\n",
       "   'predictions': [{'type': 'O', 'confidence': 0.9397916197776794},\n",
       "    {'type': 'String', 'confidence': 0.2953469753265381},\n",
       "    {'type': 'B-org', 'confidence': 0.14605236053466797}]},\n",
       "  {'token': 'Ġpay',\n",
       "   'predictions': [{'type': 'O', 'confidence': 0.9270749688148499},\n",
       "    {'type': 'Party87', 'confidence': 0.08656022697687149},\n",
       "    {'type': 'B-org', 'confidence': 0.06587029248476028}]},\n",
       "  {'token': 'Ġ50',\n",
       "   'predictions': [{'type': 'Integer', 'confidence': 0.6352742314338684},\n",
       "    {'type': 'O', 'confidence': 0.1422494351863861},\n",
       "    {'type': 'Person', 'confidence': 0.1347382366657257}]},\n",
       "  {'token': 'Ġus',\n",
       "   'predictions': [{'type': 'O', 'confidence': 0.7511162757873535},\n",
       "    {'type': 'Party87', 'confidence': 0.10465873032808304},\n",
       "    {'type': 'Organization', 'confidence': 0.08089277148246765}]},\n",
       "  {'token': 'd',\n",
       "   'predictions': [{'type': 'O', 'confidence': 0.5936900973320007},\n",
       "    {'type': 'String', 'confidence': 0.5441057085990906},\n",
       "    {'type': 'Party', 'confidence': 0.34366244077682495}]},\n",
       "  {'token': 'Ġto',\n",
       "   'predictions': [{'type': 'O', 'confidence': 0.8446324467658997},\n",
       "    {'type': 'B-org', 'confidence': 0.08204110711812973},\n",
       "    {'type': 'Party87', 'confidence': 0.07339083403348923}]},\n",
       "  {'token': 'Ġ\"',\n",
       "   'predictions': [{'type': 'O', 'confidence': 0.9802999496459961},\n",
       "    {'type': 'B-org', 'confidence': 0.024209901690483093},\n",
       "    {'type': 'Party87', 'confidence': 0.022984523326158524}]},\n",
       "  {'token': 'dan',\n",
       "   'predictions': [{'type': 'O', 'confidence': 0.7844362854957581},\n",
       "    {'type': 'Party', 'confidence': 0.35614117980003357},\n",
       "    {'type': 'String', 'confidence': 0.27649185061454773}]},\n",
       "  {'token': '\".',\n",
       "   'predictions': [{'type': 'O', 'confidence': 0.9374676942825317},\n",
       "    {'type': 'B-org', 'confidence': 0.2489156275987625},\n",
       "    {'type': 'String', 'confidence': 0.14305180311203003}]}]}"
      ]
     },
     "execution_count": 322,
     "metadata": {},
     "output_type": "execute_result"
    }
   ],
   "source": [
    "res.json()"
   ]
  },
  {
   "cell_type": "code",
   "execution_count": 320,
   "id": "b3e18f48",
   "metadata": {
    "ExecuteTime": {
     "end_time": "2023-02-16T14:34:36.954100Z",
     "start_time": "2023-02-16T14:34:36.949881Z"
    }
   },
   "outputs": [
    {
     "data": {
      "text/plain": [
       "'upon the signing of this agreement, \"dave\" shall pay 50 usd to \"dan\".'"
      ]
     },
     "execution_count": 320,
     "metadata": {},
     "output_type": "execute_result"
    }
   ],
   "source": [
    "(\"\".join(template['/text/sample.md'])).lower()"
   ]
  },
  {
   "cell_type": "code",
   "execution_count": 318,
   "id": "e11baf37",
   "metadata": {
    "ExecuteTime": {
     "end_time": "2023-02-16T13:30:07.144156Z",
     "start_time": "2023-02-16T13:30:07.140596Z"
    }
   },
   "outputs": [
    {
     "data": {
      "text/plain": [
       "0"
      ]
     },
     "execution_count": 318,
     "metadata": {},
     "output_type": "execute_result"
    }
   ],
   "source": [
    "len(problems)"
   ]
  },
  {
   "cell_type": "code",
   "execution_count": null,
   "id": "137034d2",
   "metadata": {},
   "outputs": [],
   "source": []
  },
  {
   "cell_type": "code",
   "execution_count": 319,
   "id": "e00d6feb",
   "metadata": {
    "ExecuteTime": {
     "end_time": "2023-02-16T13:30:08.159221Z",
     "start_time": "2023-02-16T13:30:07.145310Z"
    }
   },
   "outputs": [],
   "source": [
    "with open(\"./Accord_all_contract_NER_lower.json\", \"w\") as f:\n",
    "    json.dump(outputs, f)"
   ]
  },
  {
   "cell_type": "code",
   "execution_count": 310,
   "id": "d6946fe0",
   "metadata": {
    "ExecuteTime": {
     "end_time": "2023-02-09T03:42:49.420679Z",
     "start_time": "2023-02-09T03:42:49.410762Z"
    }
   },
   "outputs": [
    {
     "data": {
      "text/plain": [
       "56"
      ]
     },
     "execution_count": 310,
     "metadata": {},
     "output_type": "execute_result"
    }
   ],
   "source": [
    "len(outputs)"
   ]
  },
  {
   "cell_type": "code",
   "execution_count": 311,
   "id": "b16a9f68",
   "metadata": {
    "ExecuteTime": {
     "end_time": "2023-02-09T03:42:52.372183Z",
     "start_time": "2023-02-09T03:42:52.361304Z"
    }
   },
   "outputs": [
    {
     "data": {
      "text/plain": [
       "dict"
      ]
     },
     "execution_count": 311,
     "metadata": {},
     "output_type": "execute_result"
    }
   ],
   "source": [
    "type(outputs)"
   ]
  },
  {
   "cell_type": "code",
   "execution_count": null,
   "id": "49d18f94",
   "metadata": {},
   "outputs": [],
   "source": []
  },
  {
   "cell_type": "code",
   "execution_count": null,
   "id": "ed535b2f",
   "metadata": {},
   "outputs": [],
   "source": []
  },
  {
   "cell_type": "code",
   "execution_count": null,
   "id": "6df9750a",
   "metadata": {},
   "outputs": [],
   "source": []
  },
  {
   "cell_type": "code",
   "execution_count": null,
   "id": "53d3bad1",
   "metadata": {},
   "outputs": [],
   "source": []
  },
  {
   "cell_type": "code",
   "execution_count": 64,
   "id": "e8b7b490",
   "metadata": {
    "ExecuteTime": {
     "end_time": "2023-02-08T13:25:38.184199Z",
     "start_time": "2023-02-08T13:25:38.179375Z"
    }
   },
   "outputs": [
    {
     "name": "stdout",
     "output_type": "stream",
     "text": [
      "12385\n",
      "6176\n",
      "2712\n",
      "3974\n",
      "1885\n",
      "10980\n",
      "6168\n",
      "2465\n",
      "4213\n",
      "12091\n",
      "2560\n",
      "4744\n",
      "15283\n",
      "2541\n",
      "15861\n",
      "4475\n",
      "2608\n",
      "7187\n",
      "2466\n",
      "4617\n"
     ]
    }
   ],
   "source": [
    "for p in problems:\n",
    "    print(len(\"\".join(templates[p]['/text/sample.md'])))"
   ]
  },
  {
   "cell_type": "code",
   "execution_count": 66,
   "id": "a39bfec1",
   "metadata": {
    "ExecuteTime": {
     "end_time": "2023-02-08T13:26:06.561397Z",
     "start_time": "2023-02-08T13:26:06.558897Z"
    }
   },
   "outputs": [],
   "source": [
    "#TODO: 拆分大合約為多個小合約送進去預測"
   ]
  },
  {
   "cell_type": "code",
   "execution_count": null,
   "id": "86ecd596",
   "metadata": {},
   "outputs": [],
   "source": []
  },
  {
   "cell_type": "code",
   "execution_count": null,
   "id": "ac66460f",
   "metadata": {},
   "outputs": [],
   "source": []
  },
  {
   "cell_type": "code",
   "execution_count": null,
   "id": "8cc0f059",
   "metadata": {},
   "outputs": [],
   "source": []
  },
  {
   "cell_type": "code",
   "execution_count": 26,
   "id": "69f41666",
   "metadata": {
    "ExecuteTime": {
     "end_time": "2023-02-08T13:00:20.431821Z",
     "start_time": "2023-02-08T13:00:20.428379Z"
    }
   },
   "outputs": [
    {
     "data": {
      "text/plain": [
       "'Upon the signing of this Agreement, {{buyer}} shall pay {{amount}} to {{seller}}.'"
      ]
     },
     "execution_count": 26,
     "metadata": {},
     "output_type": "execute_result"
    }
   ],
   "source": [
    "\"\".join(template['/text/grammar.tem.md'])"
   ]
  },
  {
   "cell_type": "code",
   "execution_count": 43,
   "id": "340f148b",
   "metadata": {
    "ExecuteTime": {
     "end_time": "2023-02-08T13:03:46.597047Z",
     "start_time": "2023-02-08T13:03:46.593113Z"
    }
   },
   "outputs": [
    {
     "data": {
      "text/plain": [
       "'Upon the signing of this Agreement, {{buyer}} shall pay {{amount}} to {{seller}}.'"
      ]
     },
     "execution_count": 43,
     "metadata": {},
     "output_type": "execute_result"
    }
   ],
   "source": [
    "\"\".join(template['/text/grammar.tem.md'])"
   ]
  },
  {
   "cell_type": "code",
   "execution_count": 27,
   "id": "6b596556",
   "metadata": {
    "ExecuteTime": {
     "end_time": "2023-02-08T13:00:23.854566Z",
     "start_time": "2023-02-08T13:00:23.848435Z"
    }
   },
   "outputs": [
    {
     "data": {
      "text/plain": [
       "'Upon the signing of this Agreement, \"Dave\" shall pay 50 USD to \"Dan\".'"
      ]
     },
     "execution_count": 27,
     "metadata": {},
     "output_type": "execute_result"
    }
   ],
   "source": []
  },
  {
   "cell_type": "code",
   "execution_count": 36,
   "id": "8fd7cd21",
   "metadata": {
    "ExecuteTime": {
     "end_time": "2023-02-08T13:02:21.478861Z",
     "start_time": "2023-02-08T13:02:21.473041Z"
    }
   },
   "outputs": [],
   "source": []
  },
  {
   "cell_type": "code",
   "execution_count": 41,
   "id": "437e6967",
   "metadata": {
    "ExecuteTime": {
     "end_time": "2023-02-08T13:03:15.544686Z",
     "start_time": "2023-02-08T13:03:14.575109Z"
    }
   },
   "outputs": [],
   "source": []
  },
  {
   "cell_type": "code",
   "execution_count": 42,
   "id": "a3922c8e",
   "metadata": {
    "ExecuteTime": {
     "end_time": "2023-02-08T13:03:15.559443Z",
     "start_time": "2023-02-08T13:03:15.546827Z"
    }
   },
   "outputs": [
    {
     "data": {
      "text/plain": [
       "{'prediction': [{'token': 'Upon',\n",
       "   'predictions': [{'type': 'O', 'confidence': 0.9465006589889526},\n",
       "    {'type': 'String', 'confidence': 0.25047609210014343},\n",
       "    {'type': 'Person', 'confidence': 0.13639117777347565}]},\n",
       "  {'token': 'Ġthe',\n",
       "   'predictions': [{'type': 'O', 'confidence': 0.9957157969474792},\n",
       "    {'type': 'B-org', 'confidence': 0.04873662069439888},\n",
       "    {'type': 'Person', 'confidence': 0.044839899986982346}]},\n",
       "  {'token': 'Ġsigning',\n",
       "   'predictions': [{'type': 'O', 'confidence': 0.7745304703712463},\n",
       "    {'type': 'TemporalUnit', 'confidence': 0.152243971824646},\n",
       "    {'type': 'Party87', 'confidence': 0.10776928067207336}]},\n",
       "  {'token': 'Ġof',\n",
       "   'predictions': [{'type': 'O', 'confidence': 0.9156258702278137},\n",
       "    {'type': 'TemporalUnit', 'confidence': 0.21646253764629364},\n",
       "    {'type': 'Party87', 'confidence': 0.1486707627773285}]},\n",
       "  {'token': 'Ġthis',\n",
       "   'predictions': [{'type': 'O', 'confidence': 0.900016188621521},\n",
       "    {'type': 'B-org', 'confidence': 0.217860609292984},\n",
       "    {'type': 'Party87', 'confidence': 0.19487743079662323}]},\n",
       "  {'token': 'ĠAgreement',\n",
       "   'predictions': [{'type': 'Party', 'confidence': 0.6478726863861084},\n",
       "    {'type': 'String', 'confidence': 0.5551156997680664},\n",
       "    {'type': 'B-org', 'confidence': 0.40131860971450806}]},\n",
       "  {'token': ',',\n",
       "   'predictions': [{'type': 'O', 'confidence': 0.9281823635101318},\n",
       "    {'type': 'Party87', 'confidence': 0.10803024470806122},\n",
       "    {'type': 'B-org', 'confidence': 0.07946358621120453}]},\n",
       "  {'token': 'Ġ\"',\n",
       "   'predictions': [{'type': 'O', 'confidence': 0.5989460945129395},\n",
       "    {'type': 'Party', 'confidence': 0.3996645212173462},\n",
       "    {'type': 'Party87', 'confidence': 0.31560519337654114}]},\n",
       "  {'token': 'Dave',\n",
       "   'predictions': [{'type': 'String', 'confidence': 0.7143877148628235},\n",
       "    {'type': 'Party', 'confidence': 0.6633462905883789},\n",
       "    {'type': 'Party87', 'confidence': 0.5821004509925842}]},\n",
       "  {'token': '\"',\n",
       "   'predictions': [{'type': 'O', 'confidence': 0.7445329427719116},\n",
       "    {'type': 'Party', 'confidence': 0.49195989966392517},\n",
       "    {'type': 'Party87', 'confidence': 0.4364551305770874}]},\n",
       "  {'token': 'Ġshall',\n",
       "   'predictions': [{'type': 'O', 'confidence': 0.8391589522361755},\n",
       "    {'type': 'String', 'confidence': 0.40371763706207275},\n",
       "    {'type': 'B-org', 'confidence': 0.21571168303489685}]},\n",
       "  {'token': 'Ġpay',\n",
       "   'predictions': [{'type': 'O', 'confidence': 0.8479155898094177},\n",
       "    {'type': 'Party87', 'confidence': 0.17294630408287048},\n",
       "    {'type': 'Party', 'confidence': 0.10431043058633804}]},\n",
       "  {'token': 'Ġ50',\n",
       "   'predictions': [{'type': 'Integer', 'confidence': 0.7228301167488098},\n",
       "    {'type': 'Party', 'confidence': 0.2058112919330597},\n",
       "    {'type': 'Party87', 'confidence': 0.15474531054496765}]},\n",
       "  {'token': 'ĠUSD',\n",
       "   'predictions': [{'type': 'Party', 'confidence': 0.6794392466545105},\n",
       "    {'type': 'String', 'confidence': 0.6446809768676758},\n",
       "    {'type': 'Party87', 'confidence': 0.4975299537181854}]},\n",
       "  {'token': 'Ġto',\n",
       "   'predictions': [{'type': 'O', 'confidence': 0.7175200581550598},\n",
       "    {'type': 'Party87', 'confidence': 0.17527085542678833},\n",
       "    {'type': 'Party', 'confidence': 0.1362506002187729}]},\n",
       "  {'token': 'Ġ\"',\n",
       "   'predictions': [{'type': 'O', 'confidence': 0.5561676621437073},\n",
       "    {'type': 'Party', 'confidence': 0.36193031072616577},\n",
       "    {'type': 'Party87', 'confidence': 0.233488529920578}]},\n",
       "  {'token': 'Dan',\n",
       "   'predictions': [{'type': 'Party', 'confidence': 0.6513451933860779},\n",
       "    {'type': 'String', 'confidence': 0.638309121131897},\n",
       "    {'type': 'Party87', 'confidence': 0.5413046479225159}]},\n",
       "  {'token': '\".',\n",
       "   'predictions': [{'type': 'O', 'confidence': 0.8490238785743713},\n",
       "    {'type': 'B-org', 'confidence': 0.31492677330970764},\n",
       "    {'type': 'String', 'confidence': 0.2930960953235626}]}]}"
      ]
     },
     "execution_count": 42,
     "metadata": {},
     "output_type": "execute_result"
    }
   ],
   "source": [
    "res.json()"
   ]
  },
  {
   "cell_type": "code",
   "execution_count": 45,
   "id": "15cf866a",
   "metadata": {
    "ExecuteTime": {
     "end_time": "2023-02-08T13:05:00.716008Z",
     "start_time": "2023-02-08T13:05:00.710682Z"
    }
   },
   "outputs": [
    {
     "data": {
      "text/plain": [
       "'Upon the signing of this Agreement, {{buyer}} shall pay {{amount}} to {{seller}}.'"
      ]
     },
     "execution_count": 45,
     "metadata": {},
     "output_type": "execute_result"
    }
   ],
   "source": [
    "\"\".join(template['/text/grammar.tem.md'])"
   ]
  },
  {
   "cell_type": "code",
   "execution_count": 47,
   "id": "564bb2aa",
   "metadata": {
    "ExecuteTime": {
     "end_time": "2023-02-08T13:05:03.588567Z",
     "start_time": "2023-02-08T13:05:03.583003Z"
    }
   },
   "outputs": [
    {
     "data": {
      "text/plain": [
       "'Upon the signing of this Agreement, \"Dave\" shall pay 50 USD to \"Dan\".'"
      ]
     },
     "execution_count": 47,
     "metadata": {},
     "output_type": "execute_result"
    }
   ],
   "source": [
    "\"\".join(template['/text/sample.md'])"
   ]
  },
  {
   "cell_type": "code",
   "execution_count": null,
   "id": "fb15defb",
   "metadata": {},
   "outputs": [],
   "source": []
  },
  {
   "cell_type": "code",
   "execution_count": null,
   "id": "a13a00c0",
   "metadata": {},
   "outputs": [],
   "source": []
  },
  {
   "cell_type": "code",
   "execution_count": 10,
   "id": "745b7cfa",
   "metadata": {
    "ExecuteTime": {
     "end_time": "2023-02-08T12:50:31.203151Z",
     "start_time": "2023-02-08T12:50:31.181025Z"
    }
   },
   "outputs": [],
   "source": [
    "data = {}\n",
    "skipped_data = []\n",
    "from urllib.parse import unquote\n",
    "for k in set(templates.keys()).intersection(templates_data.keys()):\n",
    "    data[k] = {\n",
    "        \"input_text\": \"\".join(templates[k]['/text/sample.md']),\n",
    "        \"cicero\": \"\".join(templates[k]['/text/grammar.tem.md']),\n",
    "        \"ciceroMarks\": re.findall(\"(?<=\\{{).+?(?=\\}})\", \n",
    "                         \"\".join(templates[k]['/text/grammar.tem.md'])),\n",
    "        \"QAs\": [],\n",
    "    }\n",
    "    for variable_name, variable_value in templates_data[k].items():\n",
    "        origin_value = variable_value\n",
    "        if \"$\" == variable_name[0] or variable_name in ['clauseId', 'contractId']:\n",
    "            continue\n",
    "        try:\n",
    "            try:\n",
    "                variable_value = json.loads(variable_value.replace(\"'\", '\"'))\n",
    "            except Exception as e:\n",
    "#                 print(variable_value, e)\n",
    "                pass\n",
    "            if '.PostalAddress' in variable_value['$class']:\n",
    "                skipped_data.append(variable_value)\n",
    "                continue\n",
    "                \n",
    "            for key in variable_value.keys():\n",
    "                if 'text' in key.lower():\n",
    "                    variable_value = variable_value['key']\n",
    "                elif key in ['amount']:\n",
    "                    if 'unit' in variable_value.keys():\n",
    "                        variable_value = f\"{variable_value[key]} {variable_value['unit']}\"\n",
    "                    else:\n",
    "                        print(\"QQQQQQ\", key , variable_value)\n",
    "                    break\n",
    "                elif 'value' in key.lower():\n",
    "                    variable_value = f\"{variable_value[key]} {variable_value['currencyCode']}\"\n",
    "                    break\n",
    "                \n",
    "            ans = variable_value\n",
    "        except Exception as e:\n",
    "            if variable_name == \"termination\":\n",
    "                print(e)\n",
    "            variable_value = str(variable_value)\n",
    "            ans = unquote(variable_value.split(\".\")[-1].split(\"#\")[-1])\n",
    "            skipped_data.append(variable_value)\n",
    "        if type(ans) == dict:\n",
    "            continue\n",
    "        data[k][\"QAs\"].append({\n",
    "            \"variable_name\": variable_name,\n",
    "            \"ans\": ans,\n",
    "            'variable_value': origin_value\n",
    "        })"
   ]
  },
  {
   "cell_type": "code",
   "execution_count": null,
   "id": "6f2ad463",
   "metadata": {},
   "outputs": [],
   "source": []
  },
  {
   "cell_type": "code",
   "execution_count": null,
   "id": "f7ccb889",
   "metadata": {},
   "outputs": [],
   "source": []
  },
  {
   "cell_type": "code",
   "execution_count": 11,
   "id": "bc8976c6",
   "metadata": {
    "ExecuteTime": {
     "end_time": "2023-02-08T12:50:32.466310Z",
     "start_time": "2023-02-08T12:50:32.454661Z"
    }
   },
   "outputs": [
    {
     "data": {
      "text/plain": [
       "'## Late Delivery and Penalty.\\n\\nIn case of delayed delivery except for Force Majeure cases,\\n\"Dan\" (the Seller) shall pay to \"Steve\" (the Buyer) for every 2 days\\nof delay penalty amounting to 10.5% of the total value of the Equipment\\nwhose delivery has been delayed. Any fractional part of a days is to be\\nconsidered a full days. The total amount of penalty shall not however,\\nexceed 55% of the total value of the Equipment involved in late delivery.\\nIf the delay is more than 15 days, the Buyer is entitled to terminate this Contract.'"
      ]
     },
     "execution_count": 11,
     "metadata": {},
     "output_type": "execute_result"
    }
   ],
   "source": [
    "\"\".join(templates['latedeliveryandpenalty']['/text/sample.md'])"
   ]
  },
  {
   "cell_type": "code",
   "execution_count": 12,
   "id": "e92dde8a",
   "metadata": {
    "ExecuteTime": {
     "end_time": "2023-02-08T12:50:32.936381Z",
     "start_time": "2023-02-08T12:50:32.932046Z"
    }
   },
   "outputs": [
    {
     "data": {
      "text/plain": [
       "'## Late Delivery and Penalty.\\n\\nIn case of delayed delivery{{#if forceMajeure}} except for Force Majeure cases,{{/if}}\\n{{seller}} (the Seller) shall pay to {{buyer}} (the Buyer) for every {{penaltyDuration}}\\nof delay penalty amounting to {{penaltyPercentage}}% of the total value of the Equipment\\nwhose delivery has been delayed. Any fractional part of a {{fractionalPart}} is to be\\nconsidered a full {{fractionalPart}}. The total amount of penalty shall not however,\\nexceed {{capPercentage}}% of the total value of the Equipment involved in late delivery.\\nIf the delay is more than {{termination}}, the Buyer is entitled to terminate this Contract.'"
      ]
     },
     "execution_count": 12,
     "metadata": {},
     "output_type": "execute_result"
    }
   ],
   "source": [
    "\"\".join(templates['latedeliveryandpenalty']['/text/grammar.tem.md'])"
   ]
  },
  {
   "cell_type": "code",
   "execution_count": null,
   "id": "f9bcf640",
   "metadata": {},
   "outputs": [],
   "source": []
  }
 ],
 "metadata": {
  "kernelspec": {
   "display_name": "py37",
   "language": "python",
   "name": "py37"
  },
  "language_info": {
   "codemirror_mode": {
    "name": "ipython",
    "version": 3
   },
   "file_extension": ".py",
   "mimetype": "text/x-python",
   "name": "python",
   "nbconvert_exporter": "python",
   "pygments_lexer": "ipython3",
   "version": "3.7.10"
  }
 },
 "nbformat": 4,
 "nbformat_minor": 5
}
