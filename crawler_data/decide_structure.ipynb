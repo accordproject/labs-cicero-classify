{
 "cells": [
  {
   "cell_type": "code",
   "execution_count": 3,
   "metadata": {},
   "outputs": [],
   "source": [
    "data = \"\"\"291 String\n",
    "69 Double\n",
    "53 Party\n",
    "31 Integer\n",
    "29 Duration\n",
    "28 MonetaryAmount\n",
    "26 DateTime\n",
    "24 Organization\n",
    "12 TemporalUnit\n",
    "9 Period\n",
    "7 OrderItem[]\n",
    "6 State\n",
    "4 USState\n",
    "4 Shipment\n",
    "4 forceMajeure\n",
    "4 Long\n",
    "4 CurrencyCode\"\"\""
   ]
  },
  {
   "cell_type": "code",
   "execution_count": 4,
   "metadata": {},
   "outputs": [],
   "source": [
    "data = data.split(\"\\n\")"
   ]
  },
  {
   "cell_type": "code",
   "execution_count": 8,
   "metadata": {},
   "outputs": [
    {
     "name": "stdout",
     "output_type": "stream",
     "text": [
      "String\n",
      "Double\n",
      "Party\n",
      "Integer\n",
      "Duration\n",
      "MonetaryAmount\n",
      "DateTime\n",
      "Organization\n",
      "TemporalUnit\n",
      "Period\n",
      "OrderItem[]\n",
      "State\n",
      "USState\n",
      "Shipment\n",
      "forceMajeure\n",
      "Long\n",
      "CurrencyCode\n"
     ]
    }
   ],
   "source": [
    "for d in data:\n",
    "    print(d.split(\" \")[1])"
   ]
  },
  {
   "cell_type": "code",
   "execution_count": 7,
   "metadata": {},
   "outputs": [
    {
     "data": {
      "text/plain": [
       "'CurrencyCode'"
      ]
     },
     "execution_count": 7,
     "metadata": {},
     "output_type": "execute_result"
    }
   ],
   "source": []
  },
  {
   "cell_type": "code",
   "execution_count": null,
   "metadata": {},
   "outputs": [],
   "source": []
  }
 ],
 "metadata": {
  "kernelspec": {
   "display_name": "Python 3",
   "language": "python",
   "name": "python3"
  },
  "language_info": {
   "codemirror_mode": {
    "name": "ipython",
    "version": 3
   },
   "file_extension": ".py",
   "mimetype": "text/x-python",
   "name": "python",
   "nbconvert_exporter": "python",
   "pygments_lexer": "ipython3",
   "version": "3.8.3"
  }
 },
 "nbformat": 4,
 "nbformat_minor": 4
}
