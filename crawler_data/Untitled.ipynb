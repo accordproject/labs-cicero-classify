{
 "cells": [
  {
   "cell_type": "code",
   "execution_count": 9,
   "metadata": {
    "ExecuteTime": {
     "end_time": "2021-08-23T06:25:30.409567Z",
     "start_time": "2021-08-23T06:25:30.403162Z"
    }
   },
   "outputs": [],
   "source": [
    "import json\n",
    "import random"
   ]
  },
  {
   "cell_type": "code",
   "execution_count": 4,
   "metadata": {
    "ExecuteTime": {
     "end_time": "2021-08-23T06:22:39.067085Z",
     "start_time": "2021-08-23T06:22:39.057482Z"
    }
   },
   "outputs": [],
   "source": [
    "with open(\"./all_contract.json\", \"r\") as f:\n",
    "    data = json.load(f)"
   ]
  },
  {
   "cell_type": "code",
   "execution_count": 6,
   "metadata": {
    "ExecuteTime": {
     "end_time": "2021-08-23T06:22:44.399754Z",
     "start_time": "2021-08-23T06:22:44.388676Z"
    }
   },
   "outputs": [
    {
     "data": {
      "text/plain": [
       "dict_keys(['helloworld', 'signature-block-title-name-date', 'latedeliveryandpenalty-currency-conversion', 'payment-upon-delivery', 'supply-agreement-loc', 'latedeliveryandpenalty', 'promissory-note', 'latedeliveryandpenalty-optional-this', 'rental-deposit-with', 'certificate-of-incorporation', 'empty', 'car-rental-tr', 'fragile-goods', 'supplyagreement', 'promissory-note-md', 'lateinvoicewithpayment', 'bill-of-lading', 'volumediscount', 'perishable-goods', 'servicelevelagreement', 'supplyagreement-perishable-goods', 'docusign-po-failure', 'fixed-interests-static', 'company-information', 'volumediscountolist', 'contact-information', 'acceptance-of-delivery', 'installment-sale', 'hellomodule', 'copyright-license', 'saft', 'minilatedeliveryandpenalty-capped', 'payment-upon-iot', 'volumediscountulist', 'latedeliveryandpenalty-optional', 'safte', 'interest-rate-swap', 'docusign-connect', 'demandforecast', 'rental-deposit', 'sales-contract-ru', 'empty-contract', 'one-time-payment-tr', 'simplelatedeliveryandpenalty', 'ip-payment', 'minilatedeliveryandpenalty', 'online-payment-contract-tr', 'full-payment-upon-demand', 'project-information', 'helloworldstate', 'latedeliveryandpenalty-else', 'fixed-interests', 'full-payment-upon-signature', 'eat-apples', 'minilatedeliveryandpenalty-payment', 'payment-upon-signature'])"
      ]
     },
     "execution_count": 6,
     "metadata": {},
     "output_type": "execute_result"
    }
   ],
   "source": [
    "data.keys()"
   ]
  },
  {
   "cell_type": "code",
   "execution_count": 19,
   "metadata": {
    "ExecuteTime": {
     "end_time": "2021-08-23T06:27:13.733504Z",
     "start_time": "2021-08-23T06:27:13.730179Z"
    }
   },
   "outputs": [
    {
     "data": {
      "text/plain": [
       "0.4535812085918256"
      ]
     },
     "execution_count": 19,
     "metadata": {},
     "output_type": "execute_result"
    }
   ],
   "source": []
  },
  {
   "cell_type": "code",
   "execution_count": 7,
   "metadata": {
    "ExecuteTime": {
     "end_time": "2021-08-23T06:24:51.538154Z",
     "start_time": "2021-08-23T06:24:51.525164Z"
    }
   },
   "outputs": [
    {
     "name": "stdout",
     "output_type": "stream",
     "text": [
      "helloworld\n",
      "signature-block-title-name-date\n",
      "latedeliveryandpenalty-currency-conversion\n",
      "payment-upon-delivery\n",
      "supply-agreement-loc\n",
      "latedeliveryandpenalty\n",
      "promissory-note\n",
      "latedeliveryandpenalty-optional-this\n",
      "rental-deposit-with\n",
      "certificate-of-incorporation\n",
      "empty\n",
      "car-rental-tr\n",
      "fragile-goods\n",
      "supplyagreement\n",
      "promissory-note-md\n",
      "lateinvoicewithpayment\n",
      "bill-of-lading\n",
      "volumediscount\n",
      "perishable-goods\n",
      "servicelevelagreement\n",
      "supplyagreement-perishable-goods\n",
      "docusign-po-failure\n",
      "fixed-interests-static\n",
      "company-information\n",
      "volumediscountolist\n",
      "contact-information\n",
      "acceptance-of-delivery\n",
      "installment-sale\n",
      "hellomodule\n",
      "copyright-license\n",
      "saft\n",
      "minilatedeliveryandpenalty-capped\n",
      "payment-upon-iot\n",
      "volumediscountulist\n",
      "latedeliveryandpenalty-optional\n",
      "safte\n",
      "interest-rate-swap\n",
      "docusign-connect\n",
      "demandforecast\n",
      "rental-deposit\n",
      "sales-contract-ru\n",
      "empty-contract\n",
      "one-time-payment-tr\n",
      "simplelatedeliveryandpenalty\n",
      "ip-payment\n",
      "minilatedeliveryandpenalty\n",
      "online-payment-contract-tr\n",
      "full-payment-upon-demand\n",
      "project-information\n",
      "helloworldstate\n",
      "latedeliveryandpenalty-else\n",
      "fixed-interests\n",
      "full-payment-upon-signature\n",
      "eat-apples\n",
      "minilatedeliveryandpenalty-payment\n",
      "payment-upon-signature\n"
     ]
    }
   ],
   "source": [
    "\n",
    "predictions = []\n",
    "for key in data.keys():\n",
    "    result = {\n",
    "        \"name\": key,\n",
    "        \"confidence\": random.random()}\n",
    "    predictions.append(result)"
   ]
  },
  {
   "cell_type": "code",
   "execution_count": null,
   "metadata": {},
   "outputs": [],
   "source": []
  }
 ],
 "metadata": {
  "kernelspec": {
   "display_name": "adapter",
   "language": "python",
   "name": "adapter"
  },
  "language_info": {
   "codemirror_mode": {
    "name": "ipython",
    "version": 3
   },
   "file_extension": ".py",
   "mimetype": "text/x-python",
   "name": "python",
   "nbconvert_exporter": "python",
   "pygments_lexer": "ipython3",
   "version": "3.7.10"
  }
 },
 "nbformat": 4,
 "nbformat_minor": 4
}
