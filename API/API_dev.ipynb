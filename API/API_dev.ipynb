{
 "cells": [
  {
   "cell_type": "code",
   "execution_count": 2,
   "metadata": {
    "ExecuteTime": {
     "end_time": "2021-08-16T23:43:06.056219Z",
     "start_time": "2021-08-16T23:43:05.939847Z"
    }
   },
   "outputs": [],
   "source": [
    "\n",
    "from fastapi import FastAPI, Depends, status\n",
    "from starlette.exceptions import HTTPException\n",
    "from fastapi.middleware.cors import CORSMiddleware\n",
    "from starlette.status import HTTP_422_UNPROCESSABLE_ENTITY\n",
    "\n",
    "\n",
    "from core.config import ALLOWED_HOSTS, PROJECT_NAME, PROJECT_VERSION, API_PORT\n",
    "from core.config import DATABASE_NAME, Feedback_Label_Collection, Feedback_Template_Collection, Feedback_Suggestion_Collection, LABEL_COLLECTION\n",
    "from core.errors import http_422_error_handler, http_error_handler\n",
    "from db.mongodb_connect import close_mongo_connection, connect_to_mongo\n",
    "from db.mongodb import AsyncIOMotorClient, get_database\n",
    "import asyncio\n",
    "\n",
    "from datetime import datetime"
   ]
  },
  {
   "cell_type": "code",
   "execution_count": 3,
   "metadata": {
    "ExecuteTime": {
     "end_time": "2021-08-16T23:43:06.156422Z",
     "start_time": "2021-08-16T23:43:06.134367Z"
    }
   },
   "outputs": [],
   "source": [
    "app = FastAPI(title=PROJECT_NAME, version = PROJECT_VERSION)\n",
    "\n",
    "if not ALLOWED_HOSTS:\n",
    "    ALLOWED_HOSTS = [\"*\"]\n",
    "\n",
    "app.add_middleware(\n",
    "    CORSMiddleware,\n",
    "    allow_origins=ALLOWED_HOSTS,\n",
    "    allow_credentials=True,\n",
    "    allow_methods=[\"*\"],\n",
    "    allow_headers=[\"*\"],\n",
    ")\n",
    "\n",
    "\n",
    "app.add_event_handler(\"startup\", connect_to_mongo)\n",
    "app.add_event_handler(\"shutdown\", close_mongo_connection)\n",
    "\n",
    "\n",
    "app.add_exception_handler(HTTPException, http_error_handler)\n",
    "app.add_exception_handler(HTTP_422_UNPROCESSABLE_ENTITY, http_422_error_handler)"
   ]
  },
  {
   "cell_type": "code",
   "execution_count": 4,
   "metadata": {
    "ExecuteTime": {
     "end_time": "2021-08-16T23:43:06.626301Z",
     "start_time": "2021-08-16T23:43:06.616172Z"
    }
   },
   "outputs": [],
   "source": [
    "from typing import Optional\n",
    "\n",
    "from pydantic import BaseModel\n",
    "\n",
    "from typing import Any, Dict, AnyStr, List, Union\n",
    "\n",
    "JSONObject = Dict[AnyStr, Any]\n",
    "JSONArray = List[Any]\n",
    "JSONStructure = Union[JSONArray, JSONObject]"
   ]
  },
  {
   "cell_type": "code",
   "execution_count": 39,
   "metadata": {
    "ExecuteTime": {
     "end_time": "2021-08-16T23:57:41.810584Z",
     "start_time": "2021-08-16T23:57:41.801824Z"
    }
   },
   "outputs": [],
   "source": [
    "from db.utils import change_mongo_id"
   ]
  },
  {
   "cell_type": "code",
   "execution_count": 5,
   "metadata": {
    "ExecuteTime": {
     "end_time": "2021-08-16T23:43:07.066185Z",
     "start_time": "2021-08-16T23:43:07.048531Z"
    }
   },
   "outputs": [],
   "source": [
    "await connect_to_mongo()"
   ]
  },
  {
   "cell_type": "code",
   "execution_count": 25,
   "metadata": {
    "ExecuteTime": {
     "end_time": "2021-08-16T23:54:40.255262Z",
     "start_time": "2021-08-16T23:54:40.252491Z"
    }
   },
   "outputs": [],
   "source": [
    "label_name = \"Party\""
   ]
  },
  {
   "cell_type": "code",
   "execution_count": 32,
   "metadata": {
    "ExecuteTime": {
     "end_time": "2021-08-16T23:55:40.774990Z",
     "start_time": "2021-08-16T23:55:40.765290Z"
    }
   },
   "outputs": [],
   "source": []
  },
  {
   "cell_type": "code",
   "execution_count": 72,
   "metadata": {
    "ExecuteTime": {
     "end_time": "2021-08-17T00:06:40.116651Z",
     "start_time": "2021-08-17T00:06:40.112876Z"
    }
   },
   "outputs": [
    {
     "data": {
      "text/plain": [
       "{'user': 'example@gmail.com',\n",
       " 'label_name': 'Party',\n",
       " 'inherit': ['B-per', 'I-per', 'B-org', 'I-org'],\n",
       " 'alias_as': ['String'],\n",
       " 'label_description': 'Label \\'Party\\' is to label out Party in concerto contract. Party also all the [\"B-per\", \"I-per\", \"B-org\", \"I-org\"] in current and future dataset, and when training, Party will also be label as String.',\n",
       " 'TimeStamp': datetime.datetime(2021, 8, 16, 7, 43, 46, 619000),\n",
       " 'id': '6119a6b28e965d4252c57ac3',\n",
       " 'data_count': 6,\n",
       " 'description(auto_generated)': 'Label \"Party\" is to label out Party in concerto contract. Party also all the [\\'B-per\\', \\'I-per\\', \\'B-org\\', \\'I-org\\'] labels in current and future dataset, and when training [\\'String\\'], text which labeled as Party will also be labeled positively. Currently, we have 6 datas contain this label in training dataset.'}"
      ]
     },
     "execution_count": 72,
     "metadata": {},
     "output_type": "execute_result"
    }
   ],
   "source": [
    "label"
   ]
  },
  {
   "cell_type": "code",
   "execution_count": null,
   "metadata": {},
   "outputs": [],
   "source": []
  },
  {
   "cell_type": "code",
   "execution_count": null,
   "metadata": {},
   "outputs": [],
   "source": []
  },
  {
   "cell_type": "code",
   "execution_count": 31,
   "metadata": {
    "ExecuteTime": {
     "end_time": "2021-08-16T02:31:21.097910Z",
     "start_time": "2021-08-16T02:31:21.092997Z"
    }
   },
   "outputs": [],
   "source": [
    "from motor.motor_asyncio import AsyncIOMotorCollection"
   ]
  },
  {
   "cell_type": "code",
   "execution_count": null,
   "metadata": {},
   "outputs": [],
   "source": [
    "from motor.motor_asyncio import AsyncIOMotorCollection\n",
    "from motor.motor_asyncio import AsyncIOMotorClient\n",
    "mongo_client: MotorClient = await get_database()\n",
    "col: AsyncIOMotorCollection = mongo_client[DATABASE_NAME][Feedback_Label_Collection]\n",
    "\n",
    "\n",
    "result = await col.insert_one(dataToStore)"
   ]
  },
  {
   "cell_type": "code",
   "execution_count": null,
   "metadata": {},
   "outputs": [],
   "source": [
    "AsyncIOMotorCollection.insert_one"
   ]
  },
  {
   "cell_type": "code",
   "execution_count": 30,
   "metadata": {
    "ExecuteTime": {
     "end_time": "2021-08-16T02:30:44.042473Z",
     "start_time": "2021-08-16T02:30:44.035713Z"
    }
   },
   "outputs": [
    {
     "data": {
      "text/plain": [
       "AsyncIOMotorCollection(Collection(Database(MongoClient(host=['localhost:27017'], document_class=dict, tz_aware=False, connect=False, maxpoolsize=10, minpoolsize=10, driver=DriverInfo(name='Motor', version='2.5.0', platform='asyncio')), 'Accord_Project'), 'label_data_feedback'))"
      ]
     },
     "execution_count": 30,
     "metadata": {},
     "output_type": "execute_result"
    }
   ],
   "source": [
    "col"
   ]
  },
  {
   "cell_type": "code",
   "execution_count": 27,
   "metadata": {
    "ExecuteTime": {
     "end_time": "2021-08-16T02:30:30.292052Z",
     "start_time": "2021-08-16T02:30:30.286088Z"
    }
   },
   "outputs": [
    {
     "data": {
      "text/plain": [
       "AsyncIOMotorClient(MongoClient(host=['localhost:27017'], document_class=dict, tz_aware=False, connect=False, maxpoolsize=10, minpoolsize=10, driver=DriverInfo(name='Motor', version='2.5.0', platform='asyncio')))"
      ]
     },
     "execution_count": 27,
     "metadata": {},
     "output_type": "execute_result"
    }
   ],
   "source": [
    "mongo_client"
   ]
  },
  {
   "cell_type": "code",
   "execution_count": 20,
   "metadata": {
    "ExecuteTime": {
     "end_time": "2021-08-16T02:29:35.485744Z",
     "start_time": "2021-08-16T02:29:35.478405Z"
    }
   },
   "outputs": [],
   "source": [
    "AAA = []"
   ]
  },
  {
   "cell_type": "code",
   "execution_count": null,
   "metadata": {},
   "outputs": [],
   "source": []
  },
  {
   "cell_type": "code",
   "execution_count": null,
   "metadata": {},
   "outputs": [],
   "source": []
  },
  {
   "cell_type": "code",
   "execution_count": null,
   "metadata": {},
   "outputs": [],
   "source": []
  },
  {
   "cell_type": "code",
   "execution_count": null,
   "metadata": {
    "ExecuteTime": {
     "start_time": "2021-08-15T23:57:02.059Z"
    },
    "scrolled": true
   },
   "outputs": [
    {
     "name": "stderr",
     "output_type": "stream",
     "text": [
      "INFO:     Started server process [23644]\n",
      "INFO:     Waiting for application startup.\n",
      "INFO:     Application startup complete.\n",
      "INFO:uvicorn.error:Application startup complete.\n",
      "INFO:     Uvicorn running on http://0.0.0.0:13538 (Press CTRL+C to quit)\n",
      "INFO:uvicorn.error:Uvicorn running on http://0.0.0.0:13538 (Press CTRL+C to quit)\n"
     ]
    }
   ],
   "source": [
    "if __name__ == \"__main__\":\n",
    "    import nest_asyncio\n",
    "    nest_asyncio.apply()\n",
    "    import uvicorn\n",
    "    uvicorn.run(app, host=\"0.0.0.0\", port=13538)\n",
    "    \n",
    "    "
   ]
  },
  {
   "cell_type": "code",
   "execution_count": null,
   "metadata": {
    "ExecuteTime": {
     "start_time": "2021-08-15T23:57:02.060Z"
    }
   },
   "outputs": [],
   "source": [
    "result = AAA[0]"
   ]
  },
  {
   "cell_type": "code",
   "execution_count": null,
   "metadata": {
    "ExecuteTime": {
     "start_time": "2021-08-15T23:57:02.062Z"
    }
   },
   "outputs": [],
   "source": [
    "str(result.inserted_id)"
   ]
  },
  {
   "cell_type": "code",
   "execution_count": null,
   "metadata": {},
   "outputs": [],
   "source": []
  }
 ],
 "metadata": {
  "hide_input": false,
  "kernelspec": {
   "display_name": "adapter",
   "language": "python",
   "name": "adapter"
  },
  "language_info": {
   "codemirror_mode": {
    "name": "ipython",
    "version": 3
   },
   "file_extension": ".py",
   "mimetype": "text/x-python",
   "name": "python",
   "nbconvert_exporter": "python",
   "pygments_lexer": "ipython3",
   "version": "3.7.10"
  },
  "varInspector": {
   "cols": {
    "lenName": 16,
    "lenType": 16,
    "lenVar": 40
   },
   "kernels_config": {
    "python": {
     "delete_cmd_postfix": "",
     "delete_cmd_prefix": "del ",
     "library": "var_list.py",
     "varRefreshCmd": "print(var_dic_list())"
    },
    "r": {
     "delete_cmd_postfix": ") ",
     "delete_cmd_prefix": "rm(",
     "library": "var_list.r",
     "varRefreshCmd": "cat(var_dic_list()) "
    }
   },
   "types_to_exclude": [
    "module",
    "function",
    "builtin_function_or_method",
    "instance",
    "_Feature"
   ],
   "window_display": false
  }
 },
 "nbformat": 4,
 "nbformat_minor": 4
}
