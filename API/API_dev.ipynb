{
 "cells": [
  {
   "cell_type": "code",
   "execution_count": 11,
   "metadata": {
    "ExecuteTime": {
     "end_time": "2021-08-22T08:27:13.575389Z",
     "start_time": "2021-08-22T08:27:13.570473Z"
    }
   },
   "outputs": [],
   "source": [
    "\n",
    "from fastapi import FastAPI, Depends, status\n",
    "from starlette.exceptions import HTTPException\n",
    "from fastapi.middleware.cors import CORSMiddleware\n",
    "from starlette.status import HTTP_422_UNPROCESSABLE_ENTITY\n",
    "\n",
    "\n",
    "from core.config import ALLOWED_HOSTS, PROJECT_NAME, PROJECT_VERSION, API_PORT\n",
    "from core.config import DATABASE_NAME, NER_LABEL_COLLECTION, Feedback_Template_Collection, Feedback_Suggestion_Collection, LABEL_COLLECTION, LABEL_RETRAIN_QUEUE_COLLECTION\n",
    "from core.errors import http_422_error_handler, http_error_handler\n",
    "from db.mongodb_connect import close_mongo_connection, connect_to_mongo\n",
    "from db.mongodb import AsyncIOMotorClient, get_database\n",
    "import asyncio\n",
    "\n",
    "from datetime import datetime"
   ]
  },
  {
   "cell_type": "code",
   "execution_count": 12,
   "metadata": {
    "ExecuteTime": {
     "end_time": "2021-08-22T08:27:14.080330Z",
     "start_time": "2021-08-22T08:27:14.075850Z"
    }
   },
   "outputs": [],
   "source": [
    "app = FastAPI(title=PROJECT_NAME, version = PROJECT_VERSION)\n",
    "\n",
    "if not ALLOWED_HOSTS:\n",
    "    ALLOWED_HOSTS = [\"*\"]\n",
    "\n",
    "app.add_middleware(\n",
    "    CORSMiddleware,\n",
    "    allow_origins=ALLOWED_HOSTS,\n",
    "    allow_credentials=True,\n",
    "    allow_methods=[\"*\"],\n",
    "    allow_headers=[\"*\"],\n",
    ")\n",
    "\n",
    "\n",
    "app.add_event_handler(\"startup\", connect_to_mongo)\n",
    "app.add_event_handler(\"shutdown\", close_mongo_connection)\n",
    "\n",
    "\n",
    "app.add_exception_handler(HTTPException, http_error_handler)\n",
    "app.add_exception_handler(HTTP_422_UNPROCESSABLE_ENTITY, http_422_error_handler)"
   ]
  },
  {
   "cell_type": "code",
   "execution_count": 13,
   "metadata": {
    "ExecuteTime": {
     "end_time": "2021-08-22T08:27:14.473919Z",
     "start_time": "2021-08-22T08:27:14.470506Z"
    }
   },
   "outputs": [],
   "source": [
    "from typing import Optional\n",
    "\n",
    "from pydantic import BaseModel\n",
    "\n",
    "from typing import Any, Dict, AnyStr, List, Union\n",
    "\n",
    "JSONObject = Dict[AnyStr, Any]\n",
    "JSONArray = List[Any]\n",
    "JSONStructure = Union[JSONArray, JSONObject]"
   ]
  },
  {
   "cell_type": "code",
   "execution_count": 15,
   "metadata": {
    "ExecuteTime": {
     "end_time": "2021-08-22T08:27:22.376782Z",
     "start_time": "2021-08-22T08:27:22.374368Z"
    }
   },
   "outputs": [],
   "source": [
    "from db.utils import convert_mongo_id"
   ]
  },
  {
   "cell_type": "code",
   "execution_count": null,
   "metadata": {},
   "outputs": [],
   "source": []
  },
  {
   "cell_type": "code",
   "execution_count": null,
   "metadata": {},
   "outputs": [],
   "source": []
  },
  {
   "cell_type": "code",
   "execution_count": null,
   "metadata": {},
   "outputs": [],
   "source": []
  },
  {
   "cell_type": "code",
   "execution_count": null,
   "metadata": {},
   "outputs": [],
   "source": []
  },
  {
   "cell_type": "code",
   "execution_count": null,
   "metadata": {},
   "outputs": [],
   "source": []
  },
  {
   "cell_type": "code",
   "execution_count": null,
   "metadata": {},
   "outputs": [],
   "source": []
  },
  {
   "cell_type": "code",
   "execution_count": null,
   "metadata": {},
   "outputs": [],
   "source": []
  },
  {
   "cell_type": "code",
   "execution_count": null,
   "metadata": {},
   "outputs": [],
   "source": []
  },
  {
   "cell_type": "code",
   "execution_count": null,
   "metadata": {},
   "outputs": [],
   "source": []
  },
  {
   "cell_type": "code",
   "execution_count": 22,
   "metadata": {
    "ExecuteTime": {
     "end_time": "2021-08-22T08:29:34.063766Z",
     "start_time": "2021-08-22T08:29:34.060843Z"
    }
   },
   "outputs": [],
   "source": [
    "from core.config import DATABASE_NAME, CONFIG_COLLECTION\n",
    "from datetime import datetime"
   ]
  },
  {
   "cell_type": "code",
   "execution_count": 19,
   "metadata": {
    "ExecuteTime": {
     "end_time": "2021-08-22T08:27:39.849585Z",
     "start_time": "2021-08-22T08:27:39.846012Z"
    }
   },
   "outputs": [],
   "source": [
    "await connect_to_mongo()"
   ]
  },
  {
   "cell_type": "code",
   "execution_count": 21,
   "metadata": {
    "ExecuteTime": {
     "end_time": "2021-08-22T08:28:16.873786Z",
     "start_time": "2021-08-22T08:28:16.871616Z"
    }
   },
   "outputs": [],
   "source": [
    "collection_name = \"labeled_dataset\""
   ]
  },
  {
   "cell_type": "code",
   "execution_count": 30,
   "metadata": {
    "ExecuteTime": {
     "end_time": "2021-08-22T08:30:35.734244Z",
     "start_time": "2021-08-22T08:30:35.727300Z"
    }
   },
   "outputs": [],
   "source": []
  },
  {
   "cell_type": "code",
   "execution_count": null,
   "metadata": {},
   "outputs": [],
   "source": []
  },
  {
   "cell_type": "code",
   "execution_count": null,
   "metadata": {},
   "outputs": [],
   "source": []
  },
  {
   "cell_type": "code",
   "execution_count": 25,
   "metadata": {
    "ExecuteTime": {
     "end_time": "2021-08-16T23:54:40.255262Z",
     "start_time": "2021-08-16T23:54:40.252491Z"
    }
   },
   "outputs": [],
   "source": [
    "label_name = \"Party\""
   ]
  },
  {
   "cell_type": "code",
   "execution_count": null,
   "metadata": {},
   "outputs": [],
   "source": []
  },
  {
   "cell_type": "code",
   "execution_count": null,
   "metadata": {},
   "outputs": [],
   "source": []
  },
  {
   "cell_type": "code",
   "execution_count": 31,
   "metadata": {
    "ExecuteTime": {
     "end_time": "2021-08-16T02:31:21.097910Z",
     "start_time": "2021-08-16T02:31:21.092997Z"
    }
   },
   "outputs": [],
   "source": [
    "from motor.motor_asyncio import AsyncIOMotorCollection"
   ]
  },
  {
   "cell_type": "code",
   "execution_count": null,
   "metadata": {},
   "outputs": [],
   "source": [
    "from motor.motor_asyncio import AsyncIOMotorCollection\n",
    "from motor.motor_asyncio import AsyncIOMotorClient\n",
    "mongo_client: MotorClient = await get_database()\n",
    "col: AsyncIOMotorCollection = mongo_client[DATABASE_NAME][NER_LABEL_COLLECTION]\n",
    "\n",
    "\n",
    "result = await col.insert_one(dataToStore)"
   ]
  },
  {
   "cell_type": "code",
   "execution_count": null,
   "metadata": {},
   "outputs": [],
   "source": [
    "AsyncIOMotorCollection.insert_one"
   ]
  },
  {
   "cell_type": "code",
   "execution_count": 30,
   "metadata": {
    "ExecuteTime": {
     "end_time": "2021-08-16T02:30:44.042473Z",
     "start_time": "2021-08-16T02:30:44.035713Z"
    }
   },
   "outputs": [
    {
     "data": {
      "text/plain": [
       "AsyncIOMotorCollection(Collection(Database(MongoClient(host=['localhost:27017'], document_class=dict, tz_aware=False, connect=False, maxpoolsize=10, minpoolsize=10, driver=DriverInfo(name='Motor', version='2.5.0', platform='asyncio')), 'Accord_Project'), 'label_data_feedback'))"
      ]
     },
     "execution_count": 30,
     "metadata": {},
     "output_type": "execute_result"
    }
   ],
   "source": [
    "col"
   ]
  },
  {
   "cell_type": "code",
   "execution_count": 27,
   "metadata": {
    "ExecuteTime": {
     "end_time": "2021-08-16T02:30:30.292052Z",
     "start_time": "2021-08-16T02:30:30.286088Z"
    }
   },
   "outputs": [
    {
     "data": {
      "text/plain": [
       "AsyncIOMotorClient(MongoClient(host=['localhost:27017'], document_class=dict, tz_aware=False, connect=False, maxpoolsize=10, minpoolsize=10, driver=DriverInfo(name='Motor', version='2.5.0', platform='asyncio')))"
      ]
     },
     "execution_count": 27,
     "metadata": {},
     "output_type": "execute_result"
    }
   ],
   "source": [
    "mongo_client"
   ]
  },
  {
   "cell_type": "code",
   "execution_count": 20,
   "metadata": {
    "ExecuteTime": {
     "end_time": "2021-08-16T02:29:35.485744Z",
     "start_time": "2021-08-16T02:29:35.478405Z"
    }
   },
   "outputs": [],
   "source": [
    "AAA = []"
   ]
  },
  {
   "cell_type": "code",
   "execution_count": 44,
   "metadata": {
    "ExecuteTime": {
     "end_time": "2021-08-21T07:02:34.981953Z",
     "start_time": "2021-08-21T07:02:34.979780Z"
    }
   },
   "outputs": [],
   "source": [
    "from bson.objectid import ObjectId"
   ]
  },
  {
   "cell_type": "code",
   "execution_count": 50,
   "metadata": {
    "ExecuteTime": {
     "end_time": "2021-08-21T07:04:01.226143Z",
     "start_time": "2021-08-21T07:04:01.219698Z"
    }
   },
   "outputs": [],
   "source": [
    "trace_id = \"61209e519f893726cf34f4f4\""
   ]
  },
  {
   "cell_type": "code",
   "execution_count": 51,
   "metadata": {
    "ExecuteTime": {
     "end_time": "2021-08-21T07:04:07.020466Z",
     "start_time": "2021-08-21T07:04:07.009200Z"
    }
   },
   "outputs": [],
   "source": [
    "mongo_client = await get_database()\n",
    "label_queue_col = mongo_client[DATABASE_NAME][LABEL_RETRAIN_QUEUE_COLLECTION]\n",
    "\n",
    "trace_id = ObjectId(trace_id)\n",
    "\n",
    "result = await label_queue_col.delete_one({\"_id\": trace_id})\n",
    "\n",
    "if result.deleted_count == 1:\n",
    "    pass\n",
    "else:\n",
    "    pass"
   ]
  },
  {
   "cell_type": "code",
   "execution_count": null,
   "metadata": {},
   "outputs": [],
   "source": []
  },
  {
   "cell_type": "code",
   "execution_count": null,
   "metadata": {},
   "outputs": [],
   "source": []
  },
  {
   "cell_type": "code",
   "execution_count": null,
   "metadata": {},
   "outputs": [],
   "source": []
  },
  {
   "cell_type": "code",
   "execution_count": 40,
   "metadata": {
    "ExecuteTime": {
     "end_time": "2021-08-21T07:00:40.596221Z",
     "start_time": "2021-08-21T07:00:40.589319Z"
    }
   },
   "outputs": [],
   "source": [
    "a = all_train_status[0]"
   ]
  },
  {
   "cell_type": "code",
   "execution_count": 41,
   "metadata": {
    "ExecuteTime": {
     "end_time": "2021-08-21T07:00:40.768826Z",
     "start_time": "2021-08-21T07:00:40.765542Z"
    }
   },
   "outputs": [
    {
     "data": {
      "text/plain": [
       "{'label_name': 'O',\n",
       " 'status': 'waiting',\n",
       " 'epochs': 3,\n",
       " 'train_data_filter': {},\n",
       " 'store_path': '',\n",
       " 'train_data_count': -1,\n",
       " 'log': [],\n",
       " 'TimeStamp': datetime.datetime(2021, 8, 21, 14, 33, 53, 325000),\n",
       " 'trace_id': '61209e519f893726cf34f4f4'}"
      ]
     },
     "execution_count": 41,
     "metadata": {},
     "output_type": "execute_result"
    }
   ],
   "source": []
  },
  {
   "cell_type": "code",
   "execution_count": null,
   "metadata": {},
   "outputs": [],
   "source": []
  },
  {
   "cell_type": "code",
   "execution_count": null,
   "metadata": {
    "ExecuteTime": {
     "start_time": "2021-08-15T23:57:02.059Z"
    },
    "scrolled": true
   },
   "outputs": [
    {
     "name": "stderr",
     "output_type": "stream",
     "text": [
      "INFO:     Started server process [23644]\n",
      "INFO:     Waiting for application startup.\n",
      "INFO:     Application startup complete.\n",
      "INFO:uvicorn.error:Application startup complete.\n",
      "INFO:     Uvicorn running on http://0.0.0.0:13538 (Press CTRL+C to quit)\n",
      "INFO:uvicorn.error:Uvicorn running on http://0.0.0.0:13538 (Press CTRL+C to quit)\n"
     ]
    }
   ],
   "source": [
    "if __name__ == \"__main__\":\n",
    "    import nest_asyncio\n",
    "    nest_asyncio.apply()\n",
    "    import uvicorn\n",
    "    uvicorn.run(app, host=\"0.0.0.0\", port=13538)\n",
    "    \n",
    "    "
   ]
  },
  {
   "cell_type": "code",
   "execution_count": null,
   "metadata": {
    "ExecuteTime": {
     "start_time": "2021-08-15T23:57:02.060Z"
    }
   },
   "outputs": [],
   "source": [
    "result = AAA[0]"
   ]
  },
  {
   "cell_type": "code",
   "execution_count": null,
   "metadata": {
    "ExecuteTime": {
     "start_time": "2021-08-15T23:57:02.062Z"
    }
   },
   "outputs": [],
   "source": [
    "str(result.inserted_id)"
   ]
  },
  {
   "cell_type": "code",
   "execution_count": null,
   "metadata": {},
   "outputs": [],
   "source": []
  }
 ],
 "metadata": {
  "hide_input": false,
  "kernelspec": {
   "display_name": "adapter",
   "language": "python",
   "name": "adapter"
  },
  "language_info": {
   "codemirror_mode": {
    "name": "ipython",
    "version": 3
   },
   "file_extension": ".py",
   "mimetype": "text/x-python",
   "name": "python",
   "nbconvert_exporter": "python",
   "pygments_lexer": "ipython3",
   "version": "3.7.10"
  },
  "varInspector": {
   "cols": {
    "lenName": 16,
    "lenType": 16,
    "lenVar": 40
   },
   "kernels_config": {
    "python": {
     "delete_cmd_postfix": "",
     "delete_cmd_prefix": "del ",
     "library": "var_list.py",
     "varRefreshCmd": "print(var_dic_list())"
    },
    "r": {
     "delete_cmd_postfix": ") ",
     "delete_cmd_prefix": "rm(",
     "library": "var_list.r",
     "varRefreshCmd": "cat(var_dic_list()) "
    }
   },
   "types_to_exclude": [
    "module",
    "function",
    "builtin_function_or_method",
    "instance",
    "_Feature"
   ],
   "window_display": false
  }
 },
 "nbformat": 4,
 "nbformat_minor": 4
}
