{
 "cells": [
  {
   "cell_type": "code",
   "execution_count": 3,
   "metadata": {
    "ExecuteTime": {
     "end_time": "2021-08-16T12:08:15.384409Z",
     "start_time": "2021-08-16T12:08:15.274237Z"
    }
   },
   "outputs": [],
   "source": [
    "\n",
    "from fastapi import FastAPI, Depends, status\n",
    "from starlette.exceptions import HTTPException\n",
    "from fastapi.middleware.cors import CORSMiddleware\n",
    "from starlette.status import HTTP_422_UNPROCESSABLE_ENTITY\n",
    "\n",
    "\n",
    "from core.config import ALLOWED_HOSTS, PROJECT_NAME, PROJECT_VERSION, API_PORT\n",
    "from core.config import DATABASE_NAME, Feedback_Label_Collection, Feedback_Template_Collection, Feedback_Suggestion_Collection, LABEL_COLLECTION\n",
    "from core.errors import http_422_error_handler, http_error_handler\n",
    "from db.mongodb_connect import close_mongo_connection, connect_to_mongo\n",
    "from db.mongodb import AsyncIOMotorClient, get_database\n",
    "import asyncio\n",
    "\n",
    "from datetime import datetime"
   ]
  },
  {
   "cell_type": "code",
   "execution_count": 4,
   "metadata": {
    "ExecuteTime": {
     "end_time": "2021-08-16T12:08:15.434989Z",
     "start_time": "2021-08-16T12:08:15.420644Z"
    }
   },
   "outputs": [],
   "source": [
    "app = FastAPI(title=PROJECT_NAME, version = PROJECT_VERSION)\n",
    "\n",
    "if not ALLOWED_HOSTS:\n",
    "    ALLOWED_HOSTS = [\"*\"]\n",
    "\n",
    "app.add_middleware(\n",
    "    CORSMiddleware,\n",
    "    allow_origins=ALLOWED_HOSTS,\n",
    "    allow_credentials=True,\n",
    "    allow_methods=[\"*\"],\n",
    "    allow_headers=[\"*\"],\n",
    ")\n",
    "\n",
    "\n",
    "app.add_event_handler(\"startup\", connect_to_mongo)\n",
    "app.add_event_handler(\"shutdown\", close_mongo_connection)\n",
    "\n",
    "\n",
    "app.add_exception_handler(HTTPException, http_error_handler)\n",
    "app.add_exception_handler(HTTP_422_UNPROCESSABLE_ENTITY, http_422_error_handler)"
   ]
  },
  {
   "cell_type": "code",
   "execution_count": 5,
   "metadata": {
    "ExecuteTime": {
     "end_time": "2021-08-16T12:08:15.613318Z",
     "start_time": "2021-08-16T12:08:15.602981Z"
    }
   },
   "outputs": [],
   "source": [
    "from typing import Optional\n",
    "\n",
    "from pydantic import BaseModel\n",
    "\n",
    "from typing import Any, Dict, AnyStr, List, Union\n",
    "\n",
    "JSONObject = Dict[AnyStr, Any]\n",
    "JSONArray = List[Any]\n",
    "JSONStructure = Union[JSONArray, JSONObject]"
   ]
  },
  {
   "cell_type": "code",
   "execution_count": 8,
   "metadata": {
    "ExecuteTime": {
     "end_time": "2021-08-16T12:08:22.165544Z",
     "start_time": "2021-08-16T12:08:22.143568Z"
    }
   },
   "outputs": [],
   "source": [
    "await connect_to_mongo()"
   ]
  },
  {
   "cell_type": "code",
   "execution_count": 9,
   "metadata": {
    "ExecuteTime": {
     "end_time": "2021-08-16T12:08:22.797154Z",
     "start_time": "2021-08-16T12:08:22.788181Z"
    }
   },
   "outputs": [],
   "source": [
    "\n",
    "mongo_client = await get_database()\n",
    "col = mongo_client[DATABASE_NAME][Feedback_Label_Collection]"
   ]
  },
  {
   "cell_type": "code",
   "execution_count": 13,
   "metadata": {
    "ExecuteTime": {
     "end_time": "2021-08-16T12:10:02.866964Z",
     "start_time": "2021-08-16T12:10:02.856242Z"
    }
   },
   "outputs": [],
   "source": [
    "label_name = \"Party\"\n",
    "detail = False\n",
    "result = col.find({\"text_and_labels.labels\": {\"$in\": [label_name]}},\n",
    "                      {\"text_and_labels\": detail})\n",
    "result = await result.to_list(None)"
   ]
  },
  {
   "cell_type": "code",
   "execution_count": 14,
   "metadata": {
    "ExecuteTime": {
     "end_time": "2021-08-16T12:10:04.519962Z",
     "start_time": "2021-08-16T12:10:04.507489Z"
    }
   },
   "outputs": [
    {
     "data": {
      "text/plain": [
       "[{'_id': ObjectId('6119bcd55e7150ab9d3bec26'),\n",
       "  'user': 'example@gmail.com',\n",
       "  'TimeStamp': datetime.datetime(2021, 8, 16, 9, 18, 13, 751000)},\n",
       " {'_id': ObjectId('6119bcd95e7150ab9d3bec27'),\n",
       "  'user': 'example@gmail.com',\n",
       "  'TimeStamp': datetime.datetime(2021, 8, 16, 9, 18, 17, 682000)},\n",
       " {'_id': ObjectId('6119bcda5e7150ab9d3bec28'),\n",
       "  'user': 'example@gmail.com',\n",
       "  'TimeStamp': datetime.datetime(2021, 8, 16, 9, 18, 18, 121000)},\n",
       " {'_id': ObjectId('6119bcda5e7150ab9d3bec29'),\n",
       "  'user': 'example@gmail.com',\n",
       "  'TimeStamp': datetime.datetime(2021, 8, 16, 9, 18, 18, 504000)},\n",
       " {'_id': ObjectId('6119bcda5e7150ab9d3bec2a'),\n",
       "  'user': 'example@gmail.com',\n",
       "  'TimeStamp': datetime.datetime(2021, 8, 16, 9, 18, 18, 791000)},\n",
       " {'_id': ObjectId('6119ebe5d8464c6f651606d1'),\n",
       "  'user': 'example@gmail.com',\n",
       "  'TimeStamp': datetime.datetime(2021, 8, 16, 12, 39, 1, 1000)}]"
      ]
     },
     "execution_count": 14,
     "metadata": {},
     "output_type": "execute_result"
    }
   ],
   "source": [
    "result"
   ]
  },
  {
   "cell_type": "code",
   "execution_count": null,
   "metadata": {},
   "outputs": [],
   "source": []
  },
  {
   "cell_type": "code",
   "execution_count": 11,
   "metadata": {
    "ExecuteTime": {
     "end_time": "2021-08-16T12:08:28.668458Z",
     "start_time": "2021-08-16T12:08:28.656268Z"
    }
   },
   "outputs": [
    {
     "data": {
      "text/plain": [
       "[{'_id': ObjectId('6119bcd55e7150ab9d3bec26'),\n",
       "  'user': 'example@gmail.com',\n",
       "  'text_and_labels': [{'text': 'Eason', 'labels': ['Party', 'String']},\n",
       "   {'text': 'will', 'labels': ['O']},\n",
       "   {'text': 'meet', 'labels': ['O']},\n",
       "   {'text': 'Dan', 'labels': ['Party', 'String']},\n",
       "   {'text': 'at', 'labels': ['O']},\n",
       "   {'text': '2021-08-04 18:00', 'labels': ['TemporalUnit']},\n",
       "   {'text': '.', 'labels': ['O']}],\n",
       "  'TimeStamp': datetime.datetime(2021, 8, 16, 9, 18, 13, 751000)},\n",
       " {'_id': ObjectId('6119bcd95e7150ab9d3bec27'),\n",
       "  'user': 'example@gmail.com',\n",
       "  'text_and_labels': [{'text': 'Eason', 'labels': ['Party', 'String']},\n",
       "   {'text': 'will', 'labels': ['O']},\n",
       "   {'text': 'meet', 'labels': ['O']},\n",
       "   {'text': 'Dan', 'labels': ['Party', 'String']},\n",
       "   {'text': 'at', 'labels': ['O']},\n",
       "   {'text': '2021-08-04 18:00', 'labels': ['TemporalUnit']},\n",
       "   {'text': '.', 'labels': ['O']}],\n",
       "  'TimeStamp': datetime.datetime(2021, 8, 16, 9, 18, 17, 682000)},\n",
       " {'_id': ObjectId('6119bcda5e7150ab9d3bec28'),\n",
       "  'user': 'example@gmail.com',\n",
       "  'text_and_labels': [{'text': 'Eason', 'labels': ['Party', 'String']},\n",
       "   {'text': 'will', 'labels': ['O']},\n",
       "   {'text': 'meet', 'labels': ['O']},\n",
       "   {'text': 'Dan', 'labels': ['Party', 'String']},\n",
       "   {'text': 'at', 'labels': ['O']},\n",
       "   {'text': '2021-08-04 18:00', 'labels': ['TemporalUnit']},\n",
       "   {'text': '.', 'labels': ['O']}],\n",
       "  'TimeStamp': datetime.datetime(2021, 8, 16, 9, 18, 18, 121000)},\n",
       " {'_id': ObjectId('6119bcda5e7150ab9d3bec29'),\n",
       "  'user': 'example@gmail.com',\n",
       "  'text_and_labels': [{'text': 'Eason', 'labels': ['Party', 'String']},\n",
       "   {'text': 'will', 'labels': ['O']},\n",
       "   {'text': 'meet', 'labels': ['O']},\n",
       "   {'text': 'Dan', 'labels': ['Party', 'String']},\n",
       "   {'text': 'at', 'labels': ['O']},\n",
       "   {'text': '2021-08-04 18:00', 'labels': ['TemporalUnit']},\n",
       "   {'text': '.', 'labels': ['O']}],\n",
       "  'TimeStamp': datetime.datetime(2021, 8, 16, 9, 18, 18, 504000)},\n",
       " {'_id': ObjectId('6119bcda5e7150ab9d3bec2a'),\n",
       "  'user': 'example@gmail.com',\n",
       "  'text_and_labels': [{'text': 'Eason', 'labels': ['Party', 'String']},\n",
       "   {'text': 'will', 'labels': ['O']},\n",
       "   {'text': 'meet', 'labels': ['O']},\n",
       "   {'text': 'Dan', 'labels': ['Party', 'String']},\n",
       "   {'text': 'at', 'labels': ['O']},\n",
       "   {'text': '2021-08-04 18:00', 'labels': ['TemporalUnit']},\n",
       "   {'text': '.', 'labels': ['O']}],\n",
       "  'TimeStamp': datetime.datetime(2021, 8, 16, 9, 18, 18, 791000)},\n",
       " {'_id': ObjectId('6119ebe5d8464c6f651606d1'),\n",
       "  'user': 'example@gmail.com',\n",
       "  'text_and_labels': [{'text': 'Eason', 'labels': ['Party', 'String']},\n",
       "   {'text': 'will', 'labels': ['O']},\n",
       "   {'text': 'meet', 'labels': ['O']},\n",
       "   {'text': 'Dan', 'labels': ['Party', 'String']},\n",
       "   {'text': 'at', 'labels': ['O']},\n",
       "   {'text': '2021-08-04 18:00', 'labels': ['TemporalUnit']},\n",
       "   {'text': '.', 'labels': ['O']}],\n",
       "  'TimeStamp': datetime.datetime(2021, 8, 16, 12, 39, 1, 1000)}]"
      ]
     },
     "execution_count": 11,
     "metadata": {},
     "output_type": "execute_result"
    }
   ],
   "source": [
    "result = col.find({\"text_and_labels.labels\": {\"$in\": [\"Party\"]}})\n",
    "await result.to_list(None)"
   ]
  },
  {
   "cell_type": "code",
   "execution_count": null,
   "metadata": {},
   "outputs": [],
   "source": []
  },
  {
   "cell_type": "code",
   "execution_count": 5,
   "metadata": {
    "ExecuteTime": {
     "end_time": "2021-08-15T23:58:15.877464Z",
     "start_time": "2021-08-15T23:58:15.875198Z"
    }
   },
   "outputs": [],
   "source": [
    "AAA = []"
   ]
  },
  {
   "cell_type": "code",
   "execution_count": 6,
   "metadata": {
    "ExecuteTime": {
     "end_time": "2021-08-16T01:16:30.166616Z",
     "start_time": "2021-08-15T23:58:15.878746Z"
    },
    "scrolled": true
   },
   "outputs": [
    {
     "name": "stderr",
     "output_type": "stream",
     "text": [
      "INFO:     Started server process [23644]\n",
      "INFO:     Waiting for application startup.\n",
      "INFO:     Application startup complete.\n",
      "INFO:uvicorn.error:Application startup complete.\n",
      "INFO:     Uvicorn running on http://0.0.0.0:13538 (Press CTRL+C to quit)\n",
      "INFO:uvicorn.error:Uvicorn running on http://0.0.0.0:13538 (Press CTRL+C to quit)\n",
      "INFO:     Shutting down\n",
      "INFO:uvicorn.error:Shutting down\n",
      "INFO:     Waiting for application shutdown.\n",
      "INFO:uvicorn.error:Waiting for application shutdown.\n",
      "INFO:     Application shutdown complete.\n",
      "INFO:uvicorn.error:Application shutdown complete.\n",
      "INFO:     Finished server process [23644]\n",
      "INFO:uvicorn.error:Finished server process [23644]\n"
     ]
    }
   ],
   "source": [
    "if __name__ == \"__main__\":\n",
    "    import nest_asyncio\n",
    "    nest_asyncio.apply()\n",
    "    import uvicorn\n",
    "    uvicorn.run(app, host=\"0.0.0.0\", port=13538)\n",
    "    \n",
    "    "
   ]
  },
  {
   "cell_type": "code",
   "execution_count": null,
   "metadata": {},
   "outputs": [],
   "source": []
  }
 ],
 "metadata": {
  "hide_input": false,
  "kernelspec": {
   "display_name": "adapter",
   "language": "python",
   "name": "adapter"
  },
  "language_info": {
   "codemirror_mode": {
    "name": "ipython",
    "version": 3
   },
   "file_extension": ".py",
   "mimetype": "text/x-python",
   "name": "python",
   "nbconvert_exporter": "python",
   "pygments_lexer": "ipython3",
   "version": "3.7.10"
  },
  "varInspector": {
   "cols": {
    "lenName": 16,
    "lenType": 16,
    "lenVar": 40
   },
   "kernels_config": {
    "python": {
     "delete_cmd_postfix": "",
     "delete_cmd_prefix": "del ",
     "library": "var_list.py",
     "varRefreshCmd": "print(var_dic_list())"
    },
    "r": {
     "delete_cmd_postfix": ") ",
     "delete_cmd_prefix": "rm(",
     "library": "var_list.r",
     "varRefreshCmd": "cat(var_dic_list()) "
    }
   },
   "types_to_exclude": [
    "module",
    "function",
    "builtin_function_or_method",
    "instance",
    "_Feature"
   ],
   "window_display": false
  }
 },
 "nbformat": 4,
 "nbformat_minor": 4
}
