{
 "cells": [
  {
   "cell_type": "code",
   "execution_count": 78,
   "metadata": {
    "ExecuteTime": {
     "end_time": "2021-08-21T12:01:48.492438Z",
     "start_time": "2021-08-21T12:01:48.490108Z"
    }
   },
   "outputs": [],
   "source": [
    "\n",
    "import requests\n",
    "import json\n"
   ]
  },
  {
   "cell_type": "code",
   "execution_count": 79,
   "metadata": {
    "ExecuteTime": {
     "end_time": "2021-08-21T12:01:56.355758Z",
     "start_time": "2021-08-21T12:01:54.310453Z"
    }
   },
   "outputs": [],
   "source": [
    "# If you want to put all defined label into training queue\n",
    "results = requests.get(\"https://gsoc.api.eason.tw/labels\")\n",
    "\n",
    "for result in results.json():\n",
    "    label_name = result[\"label_name\"]\n",
    "    data = {\n",
    "        \"epochs\": 3,\n",
    "        \"train_data_filter\": {}\n",
    "    }\n",
    "    result = requests.post(f\"https://gsoc.api.eason.tw/model/label:train:queue/{label_name}\", data = json.dumps(data))"
   ]
  },
  {
   "cell_type": "code",
   "execution_count": 85,
   "metadata": {
    "ExecuteTime": {
     "end_time": "2021-08-21T12:02:23.703022Z",
     "start_time": "2021-08-21T12:02:23.680412Z"
    }
   },
   "outputs": [
    {
     "name": "stdout",
     "output_type": "stream",
     "text": [
      "Training Queue now have 1 tasks\n"
     ]
    }
   ],
   "source": [
    "results = requests.get(\"https://gsoc.api.eason.tw/model/label:train:queue/training\")\n",
    "print(f\"Training Queue now have {len(results.json())} tasks\")"
   ]
  },
  {
   "cell_type": "code",
   "execution_count": 72,
   "metadata": {
    "ExecuteTime": {
     "end_time": "2021-08-21T10:45:24.122303Z",
     "start_time": "2021-08-21T10:45:18.792682Z"
    }
   },
   "outputs": [],
   "source": [
    "# If you want to clear all training Queue, run the following codes:\n",
    "\n",
    "results = requests.get(\"https://gsoc.api.eason.tw/model/label:train:queue/all\")\n",
    "results = results.json()\n",
    "for result in results:\n",
    "    out = requests.delete(f\"https://gsoc.api.eason.tw/model/label:train:queue/id/{result['trace_id']}\")\n",
    "\n",
    "#results = requests.get(\"https://gsoc.api.eason.tw/model/label:train:queue/all\")\n",
    "#results = results.json()\n",
    "#for result in results:\n",
    "#    out = requests.delete(f\"https://gsoc.api.eason.tw/model/label:train:queue/id/{result['trace_id']}\")"
   ]
  },
  {
   "cell_type": "code",
   "execution_count": null,
   "metadata": {},
   "outputs": [],
   "source": []
  },
  {
   "cell_type": "code",
   "execution_count": null,
   "metadata": {},
   "outputs": [],
   "source": []
  },
  {
   "cell_type": "code",
   "execution_count": null,
   "metadata": {},
   "outputs": [],
   "source": []
  },
  {
   "cell_type": "code",
   "execution_count": null,
   "metadata": {},
   "outputs": [],
   "source": []
  }
 ],
 "metadata": {
  "kernelspec": {
   "display_name": "Python 3",
   "language": "python",
   "name": "python3"
  },
  "language_info": {
   "codemirror_mode": {
    "name": "ipython",
    "version": 3
   },
   "file_extension": ".py",
   "mimetype": "text/x-python",
   "name": "python",
   "nbconvert_exporter": "python",
   "pygments_lexer": "ipython3",
   "version": "3.8.3"
  }
 },
 "nbformat": 4,
 "nbformat_minor": 4
}
