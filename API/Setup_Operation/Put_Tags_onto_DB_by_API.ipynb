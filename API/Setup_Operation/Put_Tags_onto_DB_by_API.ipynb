{
 "cells": [
  {
   "cell_type": "code",
   "execution_count": 1,
   "metadata": {
    "ExecuteTime": {
     "end_time": "2021-08-19T11:47:09.548821Z",
     "start_time": "2021-08-19T11:47:09.523073Z"
    }
   },
   "outputs": [],
   "source": [
    "all_tags = ['O','B-art','I-org','B-geo','Race','I-gpe','I-tim','Object','Integer','I-per','TemporalUnit','B-org','CountryCode','B-gpe','B-eve','Party','I-geo','I-art','CryptoCurrencyCode','I-nat','Event','B-tim','Time','SpecialTerm','CurrencyCode','I-eve','Float','Month','B-per','Location','Timezone','US_States','B-nat']"
   ]
  },
  {
   "cell_type": "code",
   "execution_count": 2,
   "metadata": {
    "ExecuteTime": {
     "end_time": "2021-08-19T11:47:09.561770Z",
     "start_time": "2021-08-19T11:47:09.553252Z"
    }
   },
   "outputs": [
    {
     "name": "stdout",
     "output_type": "stream",
     "text": [
      "not_default: Race\n",
      "not_default: Object\n",
      "not_default: Integer\n",
      "not_default: TemporalUnit\n",
      "not_default: CountryCode\n",
      "not_default: Party\n",
      "not_default: CryptoCurrencyCode\n",
      "not_default: Event\n",
      "not_default: Time\n",
      "not_default: SpecialTerm\n",
      "not_default: CurrencyCode\n",
      "not_default: Float\n",
      "not_default: Month\n",
      "not_default: Location\n",
      "not_default: Timezone\n",
      "not_default: US_States\n"
     ]
    }
   ],
   "source": [
    "default_tags = []\n",
    "for tag in all_tags:\n",
    "    if tag == \"O\" or tag[1] == \"-\":\n",
    "        default_tags.append(tag)\n",
    "    else:\n",
    "        print(f\"not_default: {tag}\")"
   ]
  },
  {
   "cell_type": "code",
   "execution_count": 3,
   "metadata": {
    "ExecuteTime": {
     "end_time": "2021-08-19T11:47:09.574691Z",
     "start_time": "2021-08-19T11:47:09.563900Z"
    }
   },
   "outputs": [
    {
     "data": {
      "text/plain": [
       "17"
      ]
     },
     "execution_count": 3,
     "metadata": {},
     "output_type": "execute_result"
    }
   ],
   "source": [
    "len(default_tags)"
   ]
  },
  {
   "cell_type": "code",
   "execution_count": 4,
   "metadata": {
    "ExecuteTime": {
     "end_time": "2021-08-19T11:47:09.580199Z",
     "start_time": "2021-08-19T11:47:09.576708Z"
    }
   },
   "outputs": [],
   "source": [
    "all_tags = ['O','B-art','I-org','B-geo','Race','I-gpe','I-tim','Object','Integer','I-per','TemporalUnit','B-org','CountryCode','B-gpe','B-eve','Party','I-geo','I-art','CryptoCurrencyCode','I-nat','Event','B-tim','Time','SpecialTerm','CurrencyCode','I-eve','Float','Month','B-per','Location','Timezone','US_States','B-nat']"
   ]
  },
  {
   "cell_type": "code",
   "execution_count": null,
   "metadata": {},
   "outputs": [],
   "source": []
  },
  {
   "cell_type": "code",
   "execution_count": null,
   "metadata": {},
   "outputs": [],
   "source": []
  },
  {
   "cell_type": "code",
   "execution_count": 5,
   "metadata": {
    "ExecuteTime": {
     "end_time": "2021-08-19T11:47:09.625844Z",
     "start_time": "2021-08-19T11:47:09.581538Z"
    }
   },
   "outputs": [],
   "source": [
    "import requests"
   ]
  },
  {
   "cell_type": "code",
   "execution_count": 6,
   "metadata": {
    "ExecuteTime": {
     "end_time": "2021-08-19T11:47:09.630987Z",
     "start_time": "2021-08-19T11:47:09.627551Z"
    }
   },
   "outputs": [],
   "source": [
    "default_tags = ['O','B-art','I-org','B-geo','I-gpe','I-tim','I-per','B-org','B-gpe','B-eve','I-geo','I-art','I-nat','B-tim','I-eve','B-per','B-nat']"
   ]
  },
  {
   "cell_type": "code",
   "execution_count": 7,
   "metadata": {
    "ExecuteTime": {
     "end_time": "2021-08-19T11:47:10.510769Z",
     "start_time": "2021-08-19T11:47:09.632570Z"
    }
   },
   "outputs": [],
   "source": [
    "for tag in default_tags:\n",
    "    data = {\n",
    "      \"user\": \"eason.tw.chen@gmail.com\",\n",
    "      \"label_name\": tag,\n",
    "      \"inherit\": [\n",
    "      ],\n",
    "      \"alias_as\": [\n",
    "      ],\n",
    "      \"comment\": \"This is the default label in CONLL dataset.\",\n",
    "      \"tags\": [\n",
    "          \"default\"\n",
    "      ]\n",
    "    }\n",
    "    import json\n",
    "\n",
    "    headers = {\n",
    "        'accept': 'application/json',\n",
    "        'Content-Type': 'application/json'\n",
    "    }\n",
    "    response = requests.post(\"https://gsoc.api.eason.tw/labels\", data = json.dumps(data))"
   ]
  },
  {
   "cell_type": "code",
   "execution_count": 8,
   "metadata": {
    "ExecuteTime": {
     "end_time": "2021-08-19T11:47:10.525690Z",
     "start_time": "2021-08-19T11:47:10.516351Z"
    }
   },
   "outputs": [
    {
     "data": {
      "text/plain": [
       "{'message': 'Success, new label B-nat added.'}"
      ]
     },
     "execution_count": 8,
     "metadata": {},
     "output_type": "execute_result"
    }
   ],
   "source": [
    "response.json()"
   ]
  },
  {
   "cell_type": "code",
   "execution_count": 9,
   "metadata": {
    "ExecuteTime": {
     "end_time": "2021-08-19T11:47:10.534744Z",
     "start_time": "2021-08-19T11:47:10.528327Z"
    }
   },
   "outputs": [],
   "source": [
    "transform_tag_mapping = {\n",
    "    'B-art': ['Object'],\n",
    "    'B-eve': ['Event'],\n",
    "    'B-geo': ['Location', 'Party'],\n",
    "    'B-gpe': ['Race', \"Party\"],\n",
    "    'B-nat': ['SpecialTerm'],\n",
    "    'B-org': ['Party', \"Organization\"],\n",
    "    'B-per': ['Party', \"Person\"],\n",
    "    'B-tim': ['TemporalUnit', \"Time\"],\n",
    "    'I-art': ['Object'],\n",
    "    'I-eve': ['Event'],\n",
    "    'I-geo': ['Location', 'Party'],\n",
    "    'I-gpe': ['Race', \"Party\"],\n",
    "    'I-nat': ['SpecialTerm'],\n",
    "    'I-org': ['Party', \"Organization\"],\n",
    "    'I-per': ['Party', \"Person\"],\n",
    "    'I-tim': ['TemporalUnit', \"Time\"],\n",
    "    'O': [],\n",
    "}"
   ]
  },
  {
   "cell_type": "code",
   "execution_count": 10,
   "metadata": {
    "ExecuteTime": {
     "end_time": "2021-08-19T11:47:10.631119Z",
     "start_time": "2021-08-19T11:47:10.537747Z"
    }
   },
   "outputs": [],
   "source": [
    "import numpy as np\n",
    "tags = list(transform_tag_mapping.values())"
   ]
  },
  {
   "cell_type": "code",
   "execution_count": 11,
   "metadata": {
    "ExecuteTime": {
     "end_time": "2021-08-19T11:47:10.634665Z",
     "start_time": "2021-08-19T11:47:10.632141Z"
    }
   },
   "outputs": [],
   "source": [
    "all_extended_tags = []"
   ]
  },
  {
   "cell_type": "code",
   "execution_count": 12,
   "metadata": {
    "ExecuteTime": {
     "end_time": "2021-08-19T11:47:10.638902Z",
     "start_time": "2021-08-19T11:47:10.636120Z"
    }
   },
   "outputs": [],
   "source": [
    "for t in tags:\n",
    "    all_extended_tags += t"
   ]
  },
  {
   "cell_type": "code",
   "execution_count": 13,
   "metadata": {
    "ExecuteTime": {
     "end_time": "2021-08-19T11:47:10.643463Z",
     "start_time": "2021-08-19T11:47:10.640102Z"
    }
   },
   "outputs": [
    {
     "data": {
      "text/plain": [
       "26"
      ]
     },
     "execution_count": 13,
     "metadata": {},
     "output_type": "execute_result"
    }
   ],
   "source": [
    "len(all_extended_tags)"
   ]
  },
  {
   "cell_type": "code",
   "execution_count": 14,
   "metadata": {
    "ExecuteTime": {
     "end_time": "2021-08-19T11:47:10.648353Z",
     "start_time": "2021-08-19T11:47:10.644547Z"
    }
   },
   "outputs": [
    {
     "data": {
      "text/plain": [
       "['Object',\n",
       " 'Event',\n",
       " 'Location',\n",
       " 'Party',\n",
       " 'Race',\n",
       " 'Party',\n",
       " 'SpecialTerm',\n",
       " 'Party',\n",
       " 'Organization',\n",
       " 'Party',\n",
       " 'Person',\n",
       " 'TemporalUnit',\n",
       " 'Time',\n",
       " 'Object',\n",
       " 'Event',\n",
       " 'Location',\n",
       " 'Party',\n",
       " 'Race',\n",
       " 'Party',\n",
       " 'SpecialTerm',\n",
       " 'Party',\n",
       " 'Organization',\n",
       " 'Party',\n",
       " 'Person',\n",
       " 'TemporalUnit',\n",
       " 'Time']"
      ]
     },
     "execution_count": 14,
     "metadata": {},
     "output_type": "execute_result"
    }
   ],
   "source": [
    "all_extended_tags"
   ]
  },
  {
   "cell_type": "code",
   "execution_count": 15,
   "metadata": {
    "ExecuteTime": {
     "end_time": "2021-08-19T11:47:10.652538Z",
     "start_time": "2021-08-19T11:47:10.649422Z"
    }
   },
   "outputs": [],
   "source": [
    "all_extended_tags_dict = {}\n",
    "for key in all_extended_tags:\n",
    "    all_extended_tags_dict[key] = []\n",
    "for key, items in transform_tag_mapping.items():\n",
    "    for item in items:\n",
    "        all_extended_tags_dict[item].append(key)"
   ]
  },
  {
   "cell_type": "code",
   "execution_count": null,
   "metadata": {
    "ExecuteTime": {
     "end_time": "2021-08-19T11:30:58.993200Z",
     "start_time": "2021-08-19T11:30:58.981493Z"
    }
   },
   "outputs": [],
   "source": []
  },
  {
   "cell_type": "code",
   "execution_count": 16,
   "metadata": {
    "ExecuteTime": {
     "end_time": "2021-08-19T11:47:11.104880Z",
     "start_time": "2021-08-19T11:47:10.653751Z"
    }
   },
   "outputs": [],
   "source": [
    "for tag in all_extended_tags:\n",
    "    data = {\n",
    "      \"user\": \"eason.tw.chen@gmail.com\",\n",
    "      \"label_name\": tag,\n",
    "      \"inherit\": all_extended_tags_dict[tag],\n",
    "      \"alias_as\": [\n",
    "      ],\n",
    "      \"comment\": \"This is the extend label by tags in CONLL dataset.\",\n",
    "      \"tags\": [\n",
    "          \"default\", \"default-extend\"\n",
    "      ]\n",
    "    }\n",
    "    import json\n",
    "\n",
    "    headers = {\n",
    "        'accept': 'application/json',\n",
    "        'Content-Type': 'application/json'\n",
    "    }\n",
    "    response = requests.post(\"https://gsoc.api.eason.tw/labels\", data = json.dumps(data))"
   ]
  },
  {
   "cell_type": "code",
   "execution_count": null,
   "metadata": {},
   "outputs": [],
   "source": []
  },
  {
   "cell_type": "code",
   "execution_count": 17,
   "metadata": {
    "ExecuteTime": {
     "end_time": "2021-08-19T11:47:11.111010Z",
     "start_time": "2021-08-19T11:47:11.107186Z"
    }
   },
   "outputs": [],
   "source": [
    "other_basic_tags = ['Float', 'Integer', 'CountryCode', 'CryptoCurrencyCode', 'CurrencyCode', 'TemporalUnit', 'Timezone', 'US_States', 'TemporalUnit', 'Month']"
   ]
  },
  {
   "cell_type": "code",
   "execution_count": 18,
   "metadata": {
    "ExecuteTime": {
     "end_time": "2021-08-19T11:47:11.585468Z",
     "start_time": "2021-08-19T11:47:11.113568Z"
    }
   },
   "outputs": [],
   "source": [
    "for tag in other_basic_tags:\n",
    "    data = {\n",
    "      \"user\": \"eason.tw.chen@gmail.com\",\n",
    "      \"label_name\": tag,\n",
    "      \"inherit\": [\n",
    "      ],\n",
    "      \"alias_as\": [\n",
    "      ],\n",
    "      \"comment\": \"This is the label create by label function\",\n",
    "      \"tags\": [\n",
    "          \"default\", \"basic_tags\", \"have_label_function\"\n",
    "      ]\n",
    "    }\n",
    "    import json\n",
    "\n",
    "    headers = {\n",
    "        'accept': 'application/json',\n",
    "        'Content-Type': 'application/json'\n",
    "    }\n",
    "    response = requests.post(\"https://gsoc.api.eason.tw/labels\", data = json.dumps(data))"
   ]
  },
  {
   "cell_type": "code",
   "execution_count": 19,
   "metadata": {
    "ExecuteTime": {
     "end_time": "2021-08-19T11:47:11.620625Z",
     "start_time": "2021-08-19T11:47:11.587555Z"
    }
   },
   "outputs": [],
   "source": [
    "data = {\n",
    "  \"user\": \"eason.tw.chen@gmail.com\",\n",
    "  \"label_name\": \"String\",\n",
    "  \"inherit\": all_extended_tags + default_tags,\n",
    "  \"alias_as\": [\n",
    "  ],\n",
    "  \"comment\": \"This is the default label in Shows all different in CONLL dataset.\",\n",
    "  \"tags\": [\n",
    "      \"default\", \"String\"\n",
    "  ]\n",
    "}\n",
    "\n",
    "headers = {\n",
    "    'accept': 'application/json',\n",
    "    'Content-Type': 'application/json'\n",
    "}\n",
    "response = requests.post(\"https://gsoc.api.eason.tw/labels\", data = json.dumps(data))"
   ]
  },
  {
   "cell_type": "code",
   "execution_count": 23,
   "metadata": {
    "ExecuteTime": {
     "end_time": "2021-08-19T11:47:20.005030Z",
     "start_time": "2021-08-19T11:47:19.999248Z"
    }
   },
   "outputs": [],
   "source": [
    "origin_all_tags = ['O','B-art','I-org','B-geo','Race','I-gpe','I-tim','Object','Integer','I-per','TemporalUnit','B-org','CountryCode','B-gpe','B-eve','Party','I-geo','I-art','CryptoCurrencyCode','I-nat','Event','B-tim','Time','SpecialTerm','CurrencyCode','I-eve','Float','Month','B-per','Location','Timezone','US_States','B-nat']"
   ]
  },
  {
   "cell_type": "code",
   "execution_count": 43,
   "metadata": {
    "ExecuteTime": {
     "end_time": "2021-08-19T11:54:43.759188Z",
     "start_time": "2021-08-19T11:54:43.753011Z"
    }
   },
   "outputs": [
    {
     "data": {
      "text/plain": [
       "{'Organization', 'Person', 'String'}"
      ]
     },
     "execution_count": 43,
     "metadata": {},
     "output_type": "execute_result"
    }
   ],
   "source": [
    "all_tags_added_to_db = set(all_extended_tags + default_tags + other_basic_tags + [\"String\"])\n",
    "all_tags_added_to_db - set(origin_all_tags)"
   ]
  },
  {
   "cell_type": "code",
   "execution_count": 28,
   "metadata": {
    "ExecuteTime": {
     "end_time": "2021-08-19T11:48:26.947886Z",
     "start_time": "2021-08-19T11:48:26.941909Z"
    }
   },
   "outputs": [],
   "source": [
    "# I create Org, Person, and String just now, to test the effect of inherit do work or not."
   ]
  },
  {
   "cell_type": "code",
   "execution_count": null,
   "metadata": {},
   "outputs": [],
   "source": []
  },
  {
   "cell_type": "code",
   "execution_count": 29,
   "metadata": {
    "ExecuteTime": {
     "end_time": "2021-08-19T11:52:42.183073Z",
     "start_time": "2021-08-19T11:52:42.084108Z"
    }
   },
   "outputs": [],
   "source": [
    "result = requests.get(\"https://gsoc.api.eason.tw/labels\")"
   ]
  },
  {
   "cell_type": "code",
   "execution_count": 31,
   "metadata": {
    "ExecuteTime": {
     "end_time": "2021-08-19T11:52:50.882133Z",
     "start_time": "2021-08-19T11:52:50.874495Z"
    }
   },
   "outputs": [],
   "source": [
    "result = result.json()"
   ]
  },
  {
   "cell_type": "code",
   "execution_count": 39,
   "metadata": {
    "ExecuteTime": {
     "end_time": "2021-08-19T11:53:56.733062Z",
     "start_time": "2021-08-19T11:53:56.725465Z"
    }
   },
   "outputs": [],
   "source": [
    "all_label_name_in_db = []\n",
    "for label in result:\n",
    "    all_label_name_in_db.append(label[\"label_name\"])"
   ]
  },
  {
   "cell_type": "code",
   "execution_count": 45,
   "metadata": {
    "ExecuteTime": {
     "end_time": "2021-08-19T11:54:51.578601Z",
     "start_time": "2021-08-19T11:54:51.567901Z"
    }
   },
   "outputs": [
    {
     "data": {
      "text/plain": [
       "set()"
      ]
     },
     "execution_count": 45,
     "metadata": {},
     "output_type": "execute_result"
    }
   ],
   "source": [
    "set(all_label_name_in_db) - set(all_tags_added_to_db)"
   ]
  },
  {
   "cell_type": "code",
   "execution_count": null,
   "metadata": {},
   "outputs": [],
   "source": []
  }
 ],
 "metadata": {
  "kernelspec": {
   "display_name": "adapter",
   "language": "python",
   "name": "adapter"
  },
  "language_info": {
   "codemirror_mode": {
    "name": "ipython",
    "version": 3
   },
   "file_extension": ".py",
   "mimetype": "text/x-python",
   "name": "python",
   "nbconvert_exporter": "python",
   "pygments_lexer": "ipython3",
   "version": "3.7.10"
  }
 },
 "nbformat": 4,
 "nbformat_minor": 4
}
