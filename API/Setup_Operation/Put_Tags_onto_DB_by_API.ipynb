{
 "cells": [
  {
   "cell_type": "code",
   "execution_count": 46,
   "metadata": {
    "ExecuteTime": {
     "end_time": "2021-08-21T10:41:58.414926Z",
     "start_time": "2021-08-21T10:41:58.408408Z"
    }
   },
   "outputs": [],
   "source": [
    "# This is the setup for the service, after start the API, please define these tags via API"
   ]
  },
  {
   "cell_type": "code",
   "execution_count": 47,
   "metadata": {
    "ExecuteTime": {
     "end_time": "2021-08-21T10:41:59.104000Z",
     "start_time": "2021-08-21T10:41:59.093916Z"
    }
   },
   "outputs": [],
   "source": [
    "all_tags = ['O','B-art','I-org','B-geo','Race','I-gpe','I-tim','Object','Integer','I-per','TemporalUnit','B-org','CountryCode','B-gpe','B-eve','Party','I-geo','I-art','CryptoCurrencyCode','I-nat','Event','B-tim','Time','SpecialTerm','CurrencyCode','I-eve','Float','Month','B-per','Location','Timezone','US_States','B-nat']"
   ]
  },
  {
   "cell_type": "code",
   "execution_count": 48,
   "metadata": {
    "ExecuteTime": {
     "end_time": "2021-08-21T10:41:59.500461Z",
     "start_time": "2021-08-21T10:41:59.486586Z"
    }
   },
   "outputs": [
    {
     "name": "stdout",
     "output_type": "stream",
     "text": [
      "not_default: Race\n",
      "not_default: Object\n",
      "not_default: Integer\n",
      "not_default: TemporalUnit\n",
      "not_default: CountryCode\n",
      "not_default: Party\n",
      "not_default: CryptoCurrencyCode\n",
      "not_default: Event\n",
      "not_default: Time\n",
      "not_default: SpecialTerm\n",
      "not_default: CurrencyCode\n",
      "not_default: Float\n",
      "not_default: Month\n",
      "not_default: Location\n",
      "not_default: Timezone\n",
      "not_default: US_States\n"
     ]
    }
   ],
   "source": [
    "default_tags = []\n",
    "for tag in all_tags:\n",
    "    if tag == \"O\" or tag[1] == \"-\":\n",
    "        default_tags.append(tag)\n",
    "    else:\n",
    "        print(f\"not_default: {tag}\")"
   ]
  },
  {
   "cell_type": "code",
   "execution_count": 49,
   "metadata": {
    "ExecuteTime": {
     "end_time": "2021-08-21T10:42:00.701972Z",
     "start_time": "2021-08-21T10:42:00.689174Z"
    }
   },
   "outputs": [
    {
     "data": {
      "text/plain": [
       "17"
      ]
     },
     "execution_count": 49,
     "metadata": {},
     "output_type": "execute_result"
    }
   ],
   "source": [
    "len(default_tags)"
   ]
  },
  {
   "cell_type": "code",
   "execution_count": 50,
   "metadata": {
    "ExecuteTime": {
     "end_time": "2021-08-21T10:42:01.206391Z",
     "start_time": "2021-08-21T10:42:01.195495Z"
    }
   },
   "outputs": [],
   "source": [
    "all_tags = ['O','B-art','I-org','B-geo','Race','I-gpe','I-tim','Object','Integer','I-per','TemporalUnit','B-org','CountryCode','B-gpe','B-eve','Party','I-geo','I-art','CryptoCurrencyCode','I-nat','Event','B-tim','Time','SpecialTerm','CurrencyCode','I-eve','Float','Month','B-per','Location','Timezone','US_States','B-nat']"
   ]
  },
  {
   "cell_type": "code",
   "execution_count": null,
   "metadata": {},
   "outputs": [],
   "source": []
  },
  {
   "cell_type": "code",
   "execution_count": null,
   "metadata": {},
   "outputs": [],
   "source": []
  },
  {
   "cell_type": "code",
   "execution_count": 51,
   "metadata": {
    "ExecuteTime": {
     "end_time": "2021-08-21T10:42:02.581010Z",
     "start_time": "2021-08-21T10:42:02.574939Z"
    }
   },
   "outputs": [],
   "source": [
    "import requests"
   ]
  },
  {
   "cell_type": "code",
   "execution_count": 52,
   "metadata": {
    "ExecuteTime": {
     "end_time": "2021-08-21T10:42:02.955723Z",
     "start_time": "2021-08-21T10:42:02.950458Z"
    }
   },
   "outputs": [],
   "source": [
    "default_tags = ['O','B-art','I-org','B-geo','I-gpe','I-tim','I-per','B-org','B-gpe','B-eve','I-geo','I-art','I-nat','B-tim','I-eve','B-per','B-nat']"
   ]
  },
  {
   "cell_type": "code",
   "execution_count": 53,
   "metadata": {
    "ExecuteTime": {
     "end_time": "2021-08-21T10:42:04.278052Z",
     "start_time": "2021-08-21T10:42:03.324278Z"
    }
   },
   "outputs": [],
   "source": [
    "for tag in default_tags:\n",
    "    data = {\n",
    "      \"user\": \"eason.tw.chen@gmail.com\",\n",
    "      \"label_name\": tag,\n",
    "      \"inherit\": [\n",
    "      ],\n",
    "      \"alias_as\": [\n",
    "      ],\n",
    "      \"comment\": \"This is the default label in CONLL dataset.\",\n",
    "      \"tags\": [\n",
    "          \"default\"\n",
    "      ]\n",
    "    }\n",
    "    import json\n",
    "\n",
    "    headers = {\n",
    "        'accept': 'application/json',\n",
    "        'Content-Type': 'application/json'\n",
    "    }\n",
    "    response = requests.post(\"https://gsoc.api.eason.tw/labels\", data = json.dumps(data))"
   ]
  },
  {
   "cell_type": "code",
   "execution_count": 54,
   "metadata": {
    "ExecuteTime": {
     "end_time": "2021-08-21T10:42:11.401695Z",
     "start_time": "2021-08-21T10:42:11.395310Z"
    }
   },
   "outputs": [
    {
     "data": {
      "text/plain": [
       "{'message': 'Success, new label B-nat added.'}"
      ]
     },
     "execution_count": 54,
     "metadata": {},
     "output_type": "execute_result"
    }
   ],
   "source": [
    "response.json()"
   ]
  },
  {
   "cell_type": "code",
   "execution_count": 55,
   "metadata": {
    "ExecuteTime": {
     "end_time": "2021-08-21T10:42:12.442462Z",
     "start_time": "2021-08-21T10:42:12.430392Z"
    }
   },
   "outputs": [],
   "source": [
    "transform_tag_mapping = {\n",
    "    'B-art': ['Object'],\n",
    "    'B-eve': ['Event'],\n",
    "    'B-geo': ['Location', 'Party'],\n",
    "    'B-gpe': ['Race', \"Party\"],\n",
    "    'B-nat': ['SpecialTerm'],\n",
    "    'B-org': ['Party', \"Organization\"],\n",
    "    'B-per': ['Party', \"Person\"],\n",
    "    'B-tim': ['TemporalUnit', \"Time\"],\n",
    "    'I-art': ['Object'],\n",
    "    'I-eve': ['Event'],\n",
    "    'I-geo': ['Location', 'Party'],\n",
    "    'I-gpe': ['Race', \"Party\"],\n",
    "    'I-nat': ['SpecialTerm'],\n",
    "    'I-org': ['Party', \"Organization\"],\n",
    "    'I-per': ['Party', \"Person\"],\n",
    "    'I-tim': ['TemporalUnit', \"Time\"],\n",
    "    'O': [],\n",
    "}"
   ]
  },
  {
   "cell_type": "code",
   "execution_count": 56,
   "metadata": {
    "ExecuteTime": {
     "end_time": "2021-08-21T10:42:13.352340Z",
     "start_time": "2021-08-21T10:42:13.345596Z"
    }
   },
   "outputs": [],
   "source": [
    "import numpy as np\n",
    "tags = list(transform_tag_mapping.values())"
   ]
  },
  {
   "cell_type": "code",
   "execution_count": 57,
   "metadata": {
    "ExecuteTime": {
     "end_time": "2021-08-21T10:42:13.651649Z",
     "start_time": "2021-08-21T10:42:13.644870Z"
    }
   },
   "outputs": [],
   "source": [
    "all_extended_tags = []"
   ]
  },
  {
   "cell_type": "code",
   "execution_count": 58,
   "metadata": {
    "ExecuteTime": {
     "end_time": "2021-08-21T10:42:13.866924Z",
     "start_time": "2021-08-21T10:42:13.860009Z"
    }
   },
   "outputs": [],
   "source": [
    "for t in tags:\n",
    "    all_extended_tags += t"
   ]
  },
  {
   "cell_type": "code",
   "execution_count": 59,
   "metadata": {
    "ExecuteTime": {
     "end_time": "2021-08-21T10:42:14.016929Z",
     "start_time": "2021-08-21T10:42:14.006871Z"
    }
   },
   "outputs": [
    {
     "data": {
      "text/plain": [
       "26"
      ]
     },
     "execution_count": 59,
     "metadata": {},
     "output_type": "execute_result"
    }
   ],
   "source": [
    "len(all_extended_tags)"
   ]
  },
  {
   "cell_type": "code",
   "execution_count": 60,
   "metadata": {
    "ExecuteTime": {
     "end_time": "2021-08-21T10:42:14.196778Z",
     "start_time": "2021-08-21T10:42:14.184694Z"
    }
   },
   "outputs": [
    {
     "data": {
      "text/plain": [
       "['Object',\n",
       " 'Event',\n",
       " 'Location',\n",
       " 'Party',\n",
       " 'Race',\n",
       " 'Party',\n",
       " 'SpecialTerm',\n",
       " 'Party',\n",
       " 'Organization',\n",
       " 'Party',\n",
       " 'Person',\n",
       " 'TemporalUnit',\n",
       " 'Time',\n",
       " 'Object',\n",
       " 'Event',\n",
       " 'Location',\n",
       " 'Party',\n",
       " 'Race',\n",
       " 'Party',\n",
       " 'SpecialTerm',\n",
       " 'Party',\n",
       " 'Organization',\n",
       " 'Party',\n",
       " 'Person',\n",
       " 'TemporalUnit',\n",
       " 'Time']"
      ]
     },
     "execution_count": 60,
     "metadata": {},
     "output_type": "execute_result"
    }
   ],
   "source": [
    "all_extended_tags"
   ]
  },
  {
   "cell_type": "code",
   "execution_count": 61,
   "metadata": {
    "ExecuteTime": {
     "end_time": "2021-08-21T10:42:16.502900Z",
     "start_time": "2021-08-21T10:42:16.497146Z"
    }
   },
   "outputs": [],
   "source": [
    "all_extended_tags_dict = {}\n",
    "for key in all_extended_tags:\n",
    "    all_extended_tags_dict[key] = []\n",
    "for key, items in transform_tag_mapping.items():\n",
    "    for item in items:\n",
    "        all_extended_tags_dict[item].append(key)"
   ]
  },
  {
   "cell_type": "code",
   "execution_count": null,
   "metadata": {
    "ExecuteTime": {
     "end_time": "2021-08-19T11:30:58.993200Z",
     "start_time": "2021-08-19T11:30:58.981493Z"
    }
   },
   "outputs": [],
   "source": []
  },
  {
   "cell_type": "code",
   "execution_count": 62,
   "metadata": {
    "ExecuteTime": {
     "end_time": "2021-08-21T10:42:20.911053Z",
     "start_time": "2021-08-21T10:42:16.991740Z"
    }
   },
   "outputs": [],
   "source": [
    "for tag in all_extended_tags:\n",
    "    data = {\n",
    "      \"user\": \"eason.tw.chen@gmail.com\",\n",
    "      \"label_name\": tag,\n",
    "      \"inherit\": all_extended_tags_dict[tag],\n",
    "      \"alias_as\": [\n",
    "      ],\n",
    "      \"comment\": \"This is the extend label by tags in CONLL dataset.\",\n",
    "      \"tags\": [\n",
    "          \"default\", \"default-extend\"\n",
    "      ]\n",
    "    }\n",
    "    import json\n",
    "\n",
    "    headers = {\n",
    "        'accept': 'application/json',\n",
    "        'Content-Type': 'application/json'\n",
    "    }\n",
    "    response = requests.post(\"https://gsoc.api.eason.tw/labels\", data = json.dumps(data))"
   ]
  },
  {
   "cell_type": "code",
   "execution_count": null,
   "metadata": {},
   "outputs": [],
   "source": []
  },
  {
   "cell_type": "code",
   "execution_count": 63,
   "metadata": {
    "ExecuteTime": {
     "end_time": "2021-08-21T10:42:20.920530Z",
     "start_time": "2021-08-21T10:42:20.915135Z"
    }
   },
   "outputs": [],
   "source": [
    "other_basic_tags = ['Float', 'Integer', 'CountryCode', 'CryptoCurrencyCode', 'CurrencyCode', 'TemporalUnit', 'Timezone', 'US_States', 'TemporalUnit', 'Month']"
   ]
  },
  {
   "cell_type": "code",
   "execution_count": 64,
   "metadata": {
    "ExecuteTime": {
     "end_time": "2021-08-21T10:42:21.513412Z",
     "start_time": "2021-08-21T10:42:20.923676Z"
    }
   },
   "outputs": [],
   "source": [
    "for tag in other_basic_tags:\n",
    "    data = {\n",
    "      \"user\": \"eason.tw.chen@gmail.com\",\n",
    "      \"label_name\": tag,\n",
    "      \"inherit\": [\n",
    "      ],\n",
    "      \"alias_as\": [\n",
    "      ],\n",
    "      \"comment\": \"This is the label create by label function\",\n",
    "      \"tags\": [\n",
    "          \"default\", \"basic_tags\", \"have_label_function\"\n",
    "      ]\n",
    "    }\n",
    "    import json\n",
    "\n",
    "    headers = {\n",
    "        'accept': 'application/json',\n",
    "        'Content-Type': 'application/json'\n",
    "    }\n",
    "    response = requests.post(\"https://gsoc.api.eason.tw/labels\", data = json.dumps(data))"
   ]
  },
  {
   "cell_type": "code",
   "execution_count": 65,
   "metadata": {
    "ExecuteTime": {
     "end_time": "2021-08-21T10:42:21.563875Z",
     "start_time": "2021-08-21T10:42:21.516262Z"
    }
   },
   "outputs": [],
   "source": [
    "data = {\n",
    "  \"user\": \"eason.tw.chen@gmail.com\",\n",
    "  \"label_name\": \"String\",\n",
    "  \"inherit\": all_extended_tags + default_tags,\n",
    "  \"alias_as\": [\n",
    "  ],\n",
    "  \"comment\": \"This is the default label in Shows all different in CONLL dataset.\",\n",
    "  \"tags\": [\n",
    "      \"default\", \"String\"\n",
    "  ]\n",
    "}\n",
    "\n",
    "headers = {\n",
    "    'accept': 'application/json',\n",
    "    'Content-Type': 'application/json'\n",
    "}\n",
    "response = requests.post(\"https://gsoc.api.eason.tw/labels\", data = json.dumps(data))"
   ]
  },
  {
   "cell_type": "code",
   "execution_count": 66,
   "metadata": {
    "ExecuteTime": {
     "end_time": "2021-08-21T10:42:21.572804Z",
     "start_time": "2021-08-21T10:42:21.567156Z"
    }
   },
   "outputs": [],
   "source": [
    "origin_all_tags = ['O','B-art','I-org','B-geo','Race','I-gpe','I-tim','Object','Integer','I-per','TemporalUnit','B-org','CountryCode','B-gpe','B-eve','Party','I-geo','I-art','CryptoCurrencyCode','I-nat','Event','B-tim','Time','SpecialTerm','CurrencyCode','I-eve','Float','Month','B-per','Location','Timezone','US_States','B-nat']"
   ]
  },
  {
   "cell_type": "code",
   "execution_count": 67,
   "metadata": {
    "ExecuteTime": {
     "end_time": "2021-08-21T10:42:21.580676Z",
     "start_time": "2021-08-21T10:42:21.575393Z"
    }
   },
   "outputs": [
    {
     "data": {
      "text/plain": [
       "{'Organization', 'Person', 'String'}"
      ]
     },
     "execution_count": 67,
     "metadata": {},
     "output_type": "execute_result"
    }
   ],
   "source": [
    "all_tags_added_to_db = set(all_extended_tags + default_tags + other_basic_tags + [\"String\"])\n",
    "all_tags_added_to_db - set(origin_all_tags)"
   ]
  },
  {
   "cell_type": "code",
   "execution_count": 68,
   "metadata": {
    "ExecuteTime": {
     "end_time": "2021-08-21T10:42:21.585001Z",
     "start_time": "2021-08-21T10:42:21.582442Z"
    }
   },
   "outputs": [],
   "source": [
    "# I create Org, Person, and String just now, to test the effect of inherit do work or not."
   ]
  },
  {
   "cell_type": "code",
   "execution_count": null,
   "metadata": {},
   "outputs": [],
   "source": []
  },
  {
   "cell_type": "code",
   "execution_count": 69,
   "metadata": {
    "ExecuteTime": {
     "end_time": "2021-08-21T10:42:21.855042Z",
     "start_time": "2021-08-21T10:42:21.792883Z"
    }
   },
   "outputs": [],
   "source": [
    "result = requests.get(\"https://gsoc.api.eason.tw/labels\")"
   ]
  },
  {
   "cell_type": "code",
   "execution_count": 70,
   "metadata": {
    "ExecuteTime": {
     "end_time": "2021-08-21T10:42:22.337284Z",
     "start_time": "2021-08-21T10:42:22.329884Z"
    }
   },
   "outputs": [],
   "source": [
    "result = result.json()"
   ]
  },
  {
   "cell_type": "code",
   "execution_count": 71,
   "metadata": {
    "ExecuteTime": {
     "end_time": "2021-08-21T10:42:22.532147Z",
     "start_time": "2021-08-21T10:42:22.524575Z"
    }
   },
   "outputs": [],
   "source": [
    "all_label_name_in_db = []\n",
    "for label in result:\n",
    "    all_label_name_in_db.append(label[\"label_name\"])"
   ]
  },
  {
   "cell_type": "code",
   "execution_count": 73,
   "metadata": {
    "ExecuteTime": {
     "end_time": "2021-08-21T10:42:48.718681Z",
     "start_time": "2021-08-21T10:42:48.714875Z"
    }
   },
   "outputs": [
    {
     "data": {
      "text/plain": [
       "set()"
      ]
     },
     "execution_count": 73,
     "metadata": {},
     "output_type": "execute_result"
    }
   ],
   "source": [
    "# All tags in DB now :D\n",
    "set(all_label_name_in_db) - set(all_tags_added_to_db)"
   ]
  },
  {
   "cell_type": "code",
   "execution_count": 74,
   "metadata": {
    "ExecuteTime": {
     "end_time": "2021-08-21T10:43:27.198305Z",
     "start_time": "2021-08-21T10:43:27.192334Z"
    }
   },
   "outputs": [],
   "source": [
    "# Next thing is put_all_labels_into_training_queue"
   ]
  },
  {
   "cell_type": "code",
   "execution_count": null,
   "metadata": {},
   "outputs": [],
   "source": []
  }
 ],
 "metadata": {
  "kernelspec": {
   "display_name": "adapter",
   "language": "python",
   "name": "adapter"
  },
  "language_info": {
   "codemirror_mode": {
    "name": "ipython",
    "version": 3
   },
   "file_extension": ".py",
   "mimetype": "text/x-python",
   "name": "python",
   "nbconvert_exporter": "python",
   "pygments_lexer": "ipython3",
   "version": "3.7.10"
  }
 },
 "nbformat": 4,
 "nbformat_minor": 4
}
