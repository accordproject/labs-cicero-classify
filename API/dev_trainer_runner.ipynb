{
 "cells": [
  {
   "cell_type": "code",
   "execution_count": 1,
   "metadata": {
    "ExecuteTime": {
     "end_time": "2021-08-21T10:17:21.110626Z",
     "start_time": "2021-08-21T10:17:19.856146Z"
    }
   },
   "outputs": [
    {
     "name": "stdout",
     "output_type": "stream",
     "text": [
      "KeyboardInterrupt, stop program\n",
      "Stop trainer because KeyboardInterrupt\n"
     ]
    },
    {
     "name": "stderr",
     "output_type": "stream",
     "text": [
      "Traceback (most recent call last):\n",
      "  File \"/home/eason/Python/GSoC_Accord/API/trainer.py\", line 4, in <module>\n",
      "    import torch\n",
      "  File \"/home/eason/anaconda3/envs/adapter/lib/python3.7/site-packages/torch/__init__.py\", line 196, in <module>\n",
      "    from torch._C import *\n",
      "RuntimeError: KeyboardInterrupt: \n"
     ]
    }
   ],
   "source": [
    "import pymongo\n",
    "import datetime\n",
    "import os\n",
    "import subprocess\n",
    "import signal\n",
    "import time\n",
    "from core.config import MONGODB_URL, DATABASE_NAME, CONFIG_COLLECTION, LABEL_RETRAIN_QUEUE_COLLECTION, API_PORT, API_HOST, API_WORKER, SLEEP_INTERVAL_SECOND, ANACONDA_ENV_NAME, PATH\n",
    "\n",
    "client = pymongo.MongoClient(MONGODB_URL)\n",
    "\n",
    "from utils.logs import config_log, change_service_status\n",
    "\n",
    "config_col = client[DATABASE_NAME][CONFIG_COLLECTION]\n",
    "trainer = config_col.find_one({\"name\": \"trainer\"})\n",
    "trainer_obj = {\n",
    "        \"name\": \"trainer\",\n",
    "        \"status\": \"down\",\n",
    "        \"logs\": [],\n",
    "    }\n",
    "if not trainer:\n",
    "    config_col.insert_one(trainer_obj)\n",
    "\n",
    "def run_trainer():\n",
    "    return_status = \"Finish.\"\n",
    "    command = f\"\"\"eval \"$(conda shell.bash hook)\";\n",
    "        conda activate {ANACONDA_ENV_NAME};\n",
    "        python {PATH}/trainer.py;\"\"\"\n",
    "    config_log(\"trainer\", \"Start Trainer\")\n",
    "    change_service_status(\"trainer\", \"up\")\n",
    "    process = subprocess.Popen(command, shell=True)\n",
    "    while True:\n",
    "        try:\n",
    "            try:\n",
    "                poll = process.poll()\n",
    "                int(poll)\n",
    "                if poll == 0:\n",
    "                    return_status = f\"Finish with code {poll}\"\n",
    "                if poll == 4:\n",
    "                    return_status = f\"Error with code {poll}, CUDA out of memory!\"\n",
    "                    time.sleep(600) #if out of memory, don't keep try it...\n",
    "                else:\n",
    "                    return_status = f\"Error with code {poll}\"\n",
    "                #print(f\"Process Stop Running, return code {poll}\")\n",
    "                break\n",
    "            except TypeError:\n",
    "                #print(\"Process Still Running\")\n",
    "                time.sleep(3)\n",
    "                print(\"AA\")\n",
    "                continue\n",
    "            \n",
    "        except KeyboardInterrupt:\n",
    "            print(\"KeyboardInterrupt, stop program\")\n",
    "            return_status = \"KeyboardInterrupt\"\n",
    "            break\n",
    "\n",
    "    config_log(\"trainer\", f\"Stop trainer because {return_status}\")\n",
    "    change_service_status(\"trainer\", \"down\")\n",
    "    process.send_signal(signal.SIGINT)\n",
    "    process.wait()\n",
    "    print(f\"Stop trainer because {return_status}\")\n",
    "    return return_status\n",
    "\n",
    "training_queue_col = client[DATABASE_NAME][LABEL_RETRAIN_QUEUE_COLLECTION]\n",
    "while True:\n",
    "\n",
    "    import re\n",
    "    result = training_queue_col.find({\n",
    "        \"status\":  re.compile(\"(training|waiting)\")\n",
    "    })\n",
    "\n",
    "    result = list(result)\n",
    "\n",
    "    if result:\n",
    "        return_status = run_trainer()\n",
    "        if return_status == \"KeyboardInterrupt\":\n",
    "            break\n",
    "        else:\n",
    "            continue\n",
    "    time.sleep(SLEEP_INTERVAL_SECOND)"
   ]
  },
  {
   "cell_type": "code",
   "execution_count": null,
   "metadata": {},
   "outputs": [],
   "source": []
  },
  {
   "cell_type": "code",
   "execution_count": null,
   "metadata": {},
   "outputs": [],
   "source": []
  },
  {
   "cell_type": "code",
   "execution_count": null,
   "metadata": {},
   "outputs": [],
   "source": []
  },
  {
   "cell_type": "code",
   "execution_count": null,
   "metadata": {},
   "outputs": [],
   "source": []
  },
  {
   "cell_type": "code",
   "execution_count": 2,
   "metadata": {
    "ExecuteTime": {
     "end_time": "2021-08-21T10:17:21.115251Z",
     "start_time": "2021-08-21T10:17:21.112182Z"
    }
   },
   "outputs": [
    {
     "ename": "SyntaxError",
     "evalue": "invalid syntax (1936283382.py, line 2)",
     "output_type": "error",
     "traceback": [
      "\u001b[0;36m  File \u001b[0;32m\"/tmp/ipykernel_28365/1936283382.py\"\u001b[0;36m, line \u001b[0;32m2\u001b[0m\n\u001b[0;31m    cwd =\u001b[0m\n\u001b[0m          ^\u001b[0m\n\u001b[0;31mSyntaxError\u001b[0m\u001b[0;31m:\u001b[0m invalid syntax\n"
     ]
    }
   ],
   "source": [
    "import os\n",
    "cwd = os.getcwd()"
   ]
  },
  {
   "cell_type": "code",
   "execution_count": null,
   "metadata": {
    "ExecuteTime": {
     "end_time": "2021-08-21T10:17:21.116889Z",
     "start_time": "2021-08-21T10:17:21.116879Z"
    }
   },
   "outputs": [],
   "source": [
    "cwd"
   ]
  },
  {
   "cell_type": "code",
   "execution_count": null,
   "metadata": {},
   "outputs": [],
   "source": []
  },
  {
   "cell_type": "code",
   "execution_count": null,
   "metadata": {},
   "outputs": [],
   "source": []
  },
  {
   "cell_type": "code",
   "execution_count": null,
   "metadata": {},
   "outputs": [],
   "source": []
  },
  {
   "cell_type": "code",
   "execution_count": null,
   "metadata": {},
   "outputs": [],
   "source": []
  },
  {
   "cell_type": "code",
   "execution_count": null,
   "metadata": {
    "ExecuteTime": {
     "end_time": "2021-08-21T10:17:21.117925Z",
     "start_time": "2021-08-21T10:17:21.117915Z"
    }
   },
   "outputs": [],
   "source": [
    "import pymongo\n",
    "client = pymongo.MongoClient(MONGODB_URL)\n",
    "training_queue_col = client[DATABASE_NAME][LABEL_RETRAIN_QUEUE_COLLECTION]\n",
    "\n",
    "training_queue = training_queue_col.find({\n",
    "    \"status\":  re.compile(\"(training|waiting)\")\n",
    "})\n",
    "training_queue = list(training_queue)\n",
    "\n",
    "while True:\n",
    "    if True or len(training_queue) == 0:\n",
    "        break\n",
    "\n",
    "# Old Train First\n",
    "training_queue.sort(key = lambda x: x[\"add_time\"], reverse= False)\n",
    "\n",
    "now_is_training = training_queue[0]\n",
    "\n",
    "# Update parameter On Each Iter\n",
    "train_data_search_filter = now_is_training[\"train_data_filter\"]\n",
    "label_name = now_is_training[\"label_name\"]\n",
    "Epoch_Times = now_is_training[\"epochs\"]"
   ]
  },
  {
   "cell_type": "code",
   "execution_count": null,
   "metadata": {
    "ExecuteTime": {
     "end_time": "2021-08-21T09:16:24.614093Z",
     "start_time": "2021-08-21T09:16:24.610832Z"
    }
   },
   "outputs": [],
   "source": []
  },
  {
   "cell_type": "code",
   "execution_count": null,
   "metadata": {
    "ExecuteTime": {
     "end_time": "2021-08-21T10:17:21.118719Z",
     "start_time": "2021-08-21T10:17:21.118709Z"
    }
   },
   "outputs": [],
   "source": [
    "from utils.logs import trainer_log, queue_task_log"
   ]
  },
  {
   "cell_type": "code",
   "execution_count": null,
   "metadata": {
    "ExecuteTime": {
     "end_time": "2021-08-21T09:17:05.310756Z",
     "start_time": "2021-08-21T09:17:05.307867Z"
    }
   },
   "outputs": [],
   "source": []
  },
  {
   "cell_type": "code",
   "execution_count": null,
   "metadata": {},
   "outputs": [],
   "source": []
  },
  {
   "cell_type": "code",
   "execution_count": null,
   "metadata": {},
   "outputs": [],
   "source": []
  },
  {
   "cell_type": "code",
   "execution_count": null,
   "metadata": {
    "ExecuteTime": {
     "end_time": "2021-08-21T10:17:21.119694Z",
     "start_time": "2021-08-21T10:17:21.119683Z"
    }
   },
   "outputs": [],
   "source": [
    "training_queue_col = client[DATABASE_NAME][LABEL_RETRAIN_QUEUE_COLLECTION]\n",
    "import re\n",
    "result = training_queue_col.find({\n",
    "    \"status\": {\n",
    "        \"$not\": re.compile(\"done\")}\n",
    "})\n",
    "result = list(result)"
   ]
  },
  {
   "cell_type": "code",
   "execution_count": null,
   "metadata": {
    "ExecuteTime": {
     "end_time": "2021-08-21T10:17:21.120967Z",
     "start_time": "2021-08-21T10:17:21.120956Z"
    }
   },
   "outputs": [],
   "source": [
    "type(result[0][\"_id\"])"
   ]
  },
  {
   "cell_type": "code",
   "execution_count": null,
   "metadata": {
    "ExecuteTime": {
     "end_time": "2021-08-21T06:28:44.902450Z",
     "start_time": "2021-08-21T06:28:44.865332Z"
    }
   },
   "outputs": [],
   "source": []
  },
  {
   "cell_type": "code",
   "execution_count": null,
   "metadata": {},
   "outputs": [],
   "source": []
  },
  {
   "cell_type": "code",
   "execution_count": null,
   "metadata": {},
   "outputs": [],
   "source": []
  },
  {
   "cell_type": "code",
   "execution_count": null,
   "metadata": {
    "ExecuteTime": {
     "end_time": "2021-08-21T10:17:21.122088Z",
     "start_time": "2021-08-21T10:17:21.122070Z"
    }
   },
   "outputs": [],
   "source": [
    "import os\n",
    "import subprocess\n",
    "import signal\n",
    "import time"
   ]
  },
  {
   "cell_type": "code",
   "execution_count": null,
   "metadata": {
    "ExecuteTime": {
     "end_time": "2021-08-21T10:17:21.123240Z",
     "start_time": "2021-08-21T10:17:21.123222Z"
    }
   },
   "outputs": [],
   "source": [
    "command = \"python trainer.py\"\n",
    "process = subprocess.Popen(command, shell=True, stdout=subprocess.DEVNULL, stderr=subprocess.STDOUT)"
   ]
  },
  {
   "cell_type": "code",
   "execution_count": null,
   "metadata": {
    "ExecuteTime": {
     "end_time": "2021-08-21T10:17:21.124500Z",
     "start_time": "2021-08-21T10:17:21.124481Z"
    }
   },
   "outputs": [],
   "source": [
    "process.poll()"
   ]
  },
  {
   "cell_type": "code",
   "execution_count": null,
   "metadata": {
    "ExecuteTime": {
     "end_time": "2021-08-21T10:17:21.125777Z",
     "start_time": "2021-08-21T10:17:21.125759Z"
    }
   },
   "outputs": [],
   "source": [
    "# stop process\n",
    "process.send_signal(signal.SIGINT)"
   ]
  },
  {
   "cell_type": "code",
   "execution_count": null,
   "metadata": {
    "ExecuteTime": {
     "end_time": "2021-08-21T10:17:21.127098Z",
     "start_time": "2021-08-21T10:17:21.127080Z"
    }
   },
   "outputs": [],
   "source": [
    "process.kill()"
   ]
  },
  {
   "cell_type": "code",
   "execution_count": null,
   "metadata": {
    "ExecuteTime": {
     "end_time": "2021-08-21T10:17:21.128268Z",
     "start_time": "2021-08-21T10:17:21.128250Z"
    }
   },
   "outputs": [],
   "source": [
    "type(process)"
   ]
  },
  {
   "cell_type": "code",
   "execution_count": null,
   "metadata": {
    "ExecuteTime": {
     "end_time": "2021-08-20T02:28:11.510951Z",
     "start_time": "2021-08-20T02:28:06.106281Z"
    }
   },
   "outputs": [],
   "source": []
  },
  {
   "cell_type": "code",
   "execution_count": null,
   "metadata": {
    "ExecuteTime": {
     "end_time": "2021-08-21T10:17:21.129400Z",
     "start_time": "2021-08-21T10:17:21.129382Z"
    },
    "scrolled": true
   },
   "outputs": [],
   "source": [
    "process.pid"
   ]
  },
  {
   "cell_type": "code",
   "execution_count": null,
   "metadata": {
    "ExecuteTime": {
     "end_time": "2021-08-21T10:17:21.130553Z",
     "start_time": "2021-08-21T10:17:21.130534Z"
    }
   },
   "outputs": [],
   "source": [
    "while True:\n",
    "    time.sleep(1)"
   ]
  },
  {
   "cell_type": "code",
   "execution_count": null,
   "metadata": {
    "ExecuteTime": {
     "end_time": "2021-08-21T10:17:21.131664Z",
     "start_time": "2021-08-21T10:17:21.131645Z"
    }
   },
   "outputs": [],
   "source": [
    "process"
   ]
  },
  {
   "cell_type": "code",
   "execution_count": null,
   "metadata": {},
   "outputs": [],
   "source": []
  }
 ],
 "metadata": {
  "kernelspec": {
   "display_name": "adapter",
   "language": "python",
   "name": "adapter"
  },
  "language_info": {
   "codemirror_mode": {
    "name": "ipython",
    "version": 3
   },
   "file_extension": ".py",
   "mimetype": "text/x-python",
   "name": "python",
   "nbconvert_exporter": "python",
   "pygments_lexer": "ipython3",
   "version": "3.7.10"
  }
 },
 "nbformat": 4,
 "nbformat_minor": 4
}
