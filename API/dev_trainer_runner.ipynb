{
 "cells": [
  {
   "cell_type": "code",
   "execution_count": 1,
   "metadata": {
    "ExecuteTime": {
     "end_time": "2021-08-22T10:38:30.472928Z",
     "start_time": "2021-08-22T10:38:29.242626Z"
    }
   },
   "outputs": [
    {
     "name": "stdout",
     "output_type": "stream",
     "text": [
      "NER Trainer Runner Start!\n",
      "QQQ\n",
      "False\n",
      "KeyboardInterrupt, stop program\n",
      "process.pid\n",
      "Stop NER_adapter_trainer because KeyboardInterrupt\n"
     ]
    },
    {
     "name": "stderr",
     "output_type": "stream",
     "text": [
      "Traceback (most recent call last):\n",
      "  File \"/home/eason/Python/GSoC_Accord/API/NER_trainer.py\", line 8, in <module>\n",
      "    import torch\n",
      "  File \"/home/eason/anaconda3/envs/adapter/lib/python3.7/site-packages/torch/__init__.py\", line 196, in <module>\n",
      "    from torch._C import *\n",
      "RuntimeError: KeyboardInterrupt: \n"
     ]
    }
   ],
   "source": [
    "print(\"NER Trainer Runner Start!\")\n",
    "import pymongo\n",
    "import datetime\n",
    "import os\n",
    "import subprocess\n",
    "import signal\n",
    "import time\n",
    "from core.config import MONGODB_URL, DATABASE_NAME, CONFIG_COLLECTION, LABEL_RETRAIN_QUEUE_COLLECTION, API_PORT, API_HOST, API_WORKER, SLEEP_INTERVAL_SECOND, ANACONDA_ENV_NAME, PATH, NER_ADAPTERS_TRAINER_NAME\n",
    "\n",
    "client = pymongo.MongoClient(MONGODB_URL)\n",
    "\n",
    "from utils.logs import config_log, change_service_status\n",
    "\n",
    "config_col = client[DATABASE_NAME][CONFIG_COLLECTION]\n",
    "\n",
    "trainer = config_col.find_one({\"name\": NER_ADAPTERS_TRAINER_NAME})\n",
    "\n",
    "if not trainer:\n",
    "    trainer_obj = {\n",
    "        \"name\": NER_ADAPTERS_TRAINER_NAME,\n",
    "        \"status\": \"down\",\n",
    "        \"restart_required\": False,\n",
    "        \"last_data_cache_timestamp\": datetime.datetime.strptime(\"1999\", \"%Y\"),\n",
    "        \"logs\": [],\n",
    "    }\n",
    "    config_col.insert_one(trainer_obj)\n",
    "\n",
    "def run_trainer():\n",
    "    return_status = \"Finish.\"\n",
    "    command = f\"\"\"eval \"$(conda shell.bash hook)\";\n",
    "        conda activate {ANACONDA_ENV_NAME};\n",
    "        python {PATH}/NER_trainer.py;\"\"\"\n",
    "    config_log(NER_ADAPTERS_TRAINER_NAME, \"Start {NER_ADAPTERS_TRAINER_NAME} from runner\")\n",
    "    change_service_status(NER_ADAPTERS_TRAINER_NAME, \"up\")\n",
    "    process = subprocess.Popen(command, shell=True)\n",
    "    while True:\n",
    "        try:\n",
    "            trainer = config_col.find_one({\n",
    "                \"name\": NER_ADAPTERS_TRAINER_NAME\n",
    "            }, {\"restart_required\": True})\n",
    "            print(trainer[\"restart_required\"])\n",
    "            if trainer[\"restart_required\"]:\n",
    "                config_col.update_one({\n",
    "                    \"name\": NER_ADAPTERS_TRAINER_NAME\n",
    "                },{\n",
    "                    \"$set\": {\"restart_required\": False}\n",
    "                })\n",
    "                raise Exception(\"Restart Required\") \n",
    "            try:\n",
    "                poll = process.poll()\n",
    "                int(poll)\n",
    "                if poll == 0:\n",
    "                    return_status = f\"Finish with code {poll}\"\n",
    "                if poll == 4:\n",
    "                    return_status = f\"Error with code {poll}, CUDA out of memory!\"\n",
    "                    time.sleep(600) #if out of memory, don't keep try it...\n",
    "                else:\n",
    "                    return_status = f\"Error with code {poll}\"\n",
    "                #print(f\"Process Stop Running, return code {poll}\")\n",
    "                break\n",
    "            except TypeError:\n",
    "                #print(\"Process Still Running\")\n",
    "                #time.sleep(SLEEP_INTERVAL_SECOND)\n",
    "                time.sleep(3)\n",
    "                continue\n",
    "            \n",
    "        except KeyboardInterrupt:\n",
    "            print(\"KeyboardInterrupt, stop program\")\n",
    "            return_status = \"KeyboardInterrupt\"\n",
    "            break\n",
    "        except Exception as e:\n",
    "            return_status = \"Trainer Restart Required.\"\n",
    "            print(return_status)\n",
    "            break\n",
    "\n",
    "    config_log(\"trainer\", f\"Stop {NER_ADAPTERS_TRAINER_NAME} because {return_status}\")\n",
    "    change_service_status(NER_ADAPTERS_TRAINER_NAME, \"down\")\n",
    "    #process.send_signal(signal.SIGINT)\n",
    "    print(\"process.pid\")\n",
    "    os.kill(process.pid, signal.SIGINT)\n",
    "    os.kill(process.pid, signal.SIGINT)\n",
    "    os.kill(process.pid, signal.SIGINT)\n",
    "    os.kill(process.pid, signal.SIGINT)\n",
    "    os.kill(process.pid, signal.SIGINT)\n",
    "    process.wait()\n",
    "    print(f\"Stop {NER_ADAPTERS_TRAINER_NAME} because {return_status}\")\n",
    "    return return_status\n",
    "\n",
    "training_queue_col = client[DATABASE_NAME][LABEL_RETRAIN_QUEUE_COLLECTION]\n",
    "while True:\n",
    "    print(\"QQQ\")\n",
    "    import re\n",
    "    result = training_queue_col.find({\n",
    "        \"status\":  re.compile(\"(training|waiting)\")\n",
    "    })\n",
    "\n",
    "    result = list(result)\n",
    "\n",
    "    if result:\n",
    "        return_status = run_trainer()\n",
    "        if return_status == \"KeyboardInterrupt\":\n",
    "            break\n",
    "        else:\n",
    "            continue\n",
    "    time.sleep(SLEEP_INTERVAL_SECOND)"
   ]
  },
  {
   "cell_type": "code",
   "execution_count": null,
   "metadata": {},
   "outputs": [],
   "source": []
  },
  {
   "cell_type": "code",
   "execution_count": null,
   "metadata": {},
   "outputs": [],
   "source": []
  },
  {
   "cell_type": "code",
   "execution_count": null,
   "metadata": {},
   "outputs": [],
   "source": []
  },
  {
   "cell_type": "code",
   "execution_count": null,
   "metadata": {},
   "outputs": [],
   "source": []
  },
  {
   "cell_type": "code",
   "execution_count": 36,
   "metadata": {
    "ExecuteTime": {
     "end_time": "2021-08-22T10:43:51.380931Z",
     "start_time": "2021-08-22T10:43:51.378333Z"
    }
   },
   "outputs": [
    {
     "name": "stderr",
     "output_type": "stream",
     "text": [
      " 33%|███▎      | 15808/47960 [02:48<10:46, 49.76it/s]"
     ]
    }
   ],
   "source": [
    "import os\n",
    "cwd = os.getcwd()"
   ]
  },
  {
   "cell_type": "code",
   "execution_count": 37,
   "metadata": {
    "ExecuteTime": {
     "end_time": "2021-08-22T10:43:51.679887Z",
     "start_time": "2021-08-22T10:43:51.675758Z"
    }
   },
   "outputs": [
    {
     "name": "stderr",
     "output_type": "stream",
     "text": [
      "\r",
      " 33%|███▎      | 15814/47960 [02:48<10:42, 50.00it/s]"
     ]
    },
    {
     "data": {
      "text/plain": [
       "'/home/eason/Python/GSoC_Accord/API'"
      ]
     },
     "execution_count": 37,
     "metadata": {},
     "output_type": "execute_result"
    },
    {
     "name": "stderr",
     "output_type": "stream",
     "text": [
      " 33%|███▎      | 15964/47960 [02:51<10:42, 49.82it/s]"
     ]
    }
   ],
   "source": [
    "cwd"
   ]
  },
  {
   "cell_type": "code",
   "execution_count": 39,
   "metadata": {
    "ExecuteTime": {
     "end_time": "2021-08-22T10:44:02.062313Z",
     "start_time": "2021-08-22T10:44:02.058650Z"
    }
   },
   "outputs": [
    {
     "name": "stderr",
     "output_type": "stream",
     "text": [
      "\r",
      " 34%|███▍      | 16327/47960 [02:59<10:51, 48.54it/s]"
     ]
    },
    {
     "data": {
      "text/plain": [
       "22623"
      ]
     },
     "execution_count": 39,
     "metadata": {},
     "output_type": "execute_result"
    },
    {
     "name": "stderr",
     "output_type": "stream",
     "text": [
      " 35%|███▍      | 16577/47960 [03:04<10:52, 48.12it/s]"
     ]
    }
   ],
   "source": [
    "os.getpid()"
   ]
  },
  {
   "cell_type": "code",
   "execution_count": null,
   "metadata": {},
   "outputs": [],
   "source": []
  },
  {
   "cell_type": "code",
   "execution_count": null,
   "metadata": {},
   "outputs": [],
   "source": []
  },
  {
   "cell_type": "code",
   "execution_count": 24,
   "metadata": {
    "ExecuteTime": {
     "end_time": "2021-08-22T10:41:01.313100Z",
     "start_time": "2021-08-22T10:41:01.305085Z"
    }
   },
   "outputs": [
    {
     "name": "stdout",
     "output_type": "stream",
     "text": [
      "Reading Data from MongoDB...\n"
     ]
    },
    {
     "name": "stderr",
     "output_type": "stream",
     "text": [
      "  2%|▏         | 1146/47960 [00:02<01:22, 570.52it/s]"
     ]
    }
   ],
   "source": [
    "command = f\"\"\"eval \"$(conda shell.bash hook)\";\n",
    "    conda activate {ANACONDA_ENV_NAME};\n",
    "    python {PATH}/NER_trainer.py;\"\"\"\n",
    "config_log(NER_ADAPTERS_TRAINER_NAME, \"Start {NER_ADAPTERS_TRAINER_NAME} from runner\")\n",
    "change_service_status(NER_ADAPTERS_TRAINER_NAME, \"up\")\n",
    "process = subprocess.Popen(command, shell=True)"
   ]
  },
  {
   "cell_type": "code",
   "execution_count": 28,
   "metadata": {
    "ExecuteTime": {
     "end_time": "2021-08-22T10:42:16.429851Z",
     "start_time": "2021-08-22T10:42:16.426064Z"
    }
   },
   "outputs": [
    {
     "name": "stderr",
     "output_type": "stream",
     "text": [
      "\r",
      " 21%|██        | 10163/47960 [01:13<08:18, 75.86it/s]"
     ]
    },
    {
     "data": {
      "text/plain": [
       "25788"
      ]
     },
     "execution_count": 28,
     "metadata": {},
     "output_type": "execute_result"
    },
    {
     "name": "stderr",
     "output_type": "stream",
     "text": [
      " 22%|██▏       | 10379/47960 [01:16<08:28, 73.91it/s]"
     ]
    }
   ],
   "source": [
    "process.pid"
   ]
  },
  {
   "cell_type": "code",
   "execution_count": 35,
   "metadata": {
    "ExecuteTime": {
     "end_time": "2021-08-22T10:42:40.264282Z",
     "start_time": "2021-08-22T10:42:40.261021Z"
    }
   },
   "outputs": [
    {
     "name": "stderr",
     "output_type": "stream",
     "text": [
      " 33%|███▎      | 15791/47960 [02:48<10:42, 50.06it/s]"
     ]
    }
   ],
   "source": [
    "process.stdout"
   ]
  },
  {
   "cell_type": "code",
   "execution_count": 44,
   "metadata": {
    "ExecuteTime": {
     "end_time": "2021-08-22T11:52:56.085227Z",
     "start_time": "2021-08-22T11:52:56.073249Z"
    }
   },
   "outputs": [],
   "source": [
    "client = pymongo.MongoClient(MONGODB_URL)\n",
    "training_queue_col = client[DATABASE_NAME][LABEL_RETRAIN_QUEUE_COLLECTION]\n",
    "training_queue = training_queue_col.find({\n",
    "    \"status\":  re.compile(\"(training|waiting)\")\n",
    "})\n",
    "training_queue = list(training_queue)\n",
    "\n",
    "if len(training_queue) == 0:\n",
    "    sys.exit(0)\n",
    "\n",
    "# Old Train First\n",
    "training_queue.sort(key = lambda x: x[\"add_time\"], reverse= False)\n",
    "\n",
    "now_is_training = training_queue[0]"
   ]
  },
  {
   "cell_type": "code",
   "execution_count": null,
   "metadata": {},
   "outputs": [],
   "source": []
  },
  {
   "cell_type": "code",
   "execution_count": null,
   "metadata": {},
   "outputs": [],
   "source": []
  },
  {
   "cell_type": "code",
   "execution_count": null,
   "metadata": {},
   "outputs": [],
   "source": []
  },
  {
   "cell_type": "code",
   "execution_count": 19,
   "metadata": {
    "ExecuteTime": {
     "end_time": "2021-08-22T10:39:59.094856Z",
     "start_time": "2021-08-22T10:39:59.091671Z"
    }
   },
   "outputs": [
    {
     "name": "stderr",
     "output_type": "stream",
     "text": [
      " 22%|██▏       | 10767/47960 [01:21<08:40, 71.40it/s]"
     ]
    }
   ],
   "source": [
    "from subprocess import signal\n",
    "os.kill(process.pid, signal.SIGINT)"
   ]
  },
  {
   "cell_type": "code",
   "execution_count": null,
   "metadata": {},
   "outputs": [],
   "source": []
  },
  {
   "cell_type": "code",
   "execution_count": null,
   "metadata": {
    "ExecuteTime": {
     "end_time": "2021-08-21T10:17:21.117925Z",
     "start_time": "2021-08-21T10:17:21.117915Z"
    }
   },
   "outputs": [],
   "source": [
    "import pymongo\n",
    "client = pymongo.MongoClient(MONGODB_URL)\n",
    "training_queue_col = client[DATABASE_NAME][LABEL_RETRAIN_QUEUE_COLLECTION]\n",
    "\n",
    "training_queue = training_queue_col.find({\n",
    "    \"status\":  re.compile(\"(training|waiting)\")\n",
    "})\n",
    "training_queue = list(training_queue)\n",
    "\n",
    "while True:\n",
    "    if True or len(training_queue) == 0:\n",
    "        break\n",
    "\n",
    "# Old Train First\n",
    "training_queue.sort(key = lambda x: x[\"add_time\"], reverse= False)\n",
    "\n",
    "now_is_training = training_queue[0]\n",
    "\n",
    "# Update parameter On Each Iter\n",
    "train_data_search_filter = now_is_training[\"train_data_filter\"]\n",
    "label_name = now_is_training[\"label_name\"]\n",
    "Epoch_Times = now_is_training[\"epochs\"]"
   ]
  },
  {
   "cell_type": "code",
   "execution_count": null,
   "metadata": {
    "ExecuteTime": {
     "end_time": "2021-08-21T09:16:24.614093Z",
     "start_time": "2021-08-21T09:16:24.610832Z"
    }
   },
   "outputs": [],
   "source": []
  },
  {
   "cell_type": "code",
   "execution_count": null,
   "metadata": {
    "ExecuteTime": {
     "end_time": "2021-08-21T10:17:21.118719Z",
     "start_time": "2021-08-21T10:17:21.118709Z"
    }
   },
   "outputs": [],
   "source": [
    "from utils.logs import trainer_log, queue_task_log"
   ]
  },
  {
   "cell_type": "code",
   "execution_count": null,
   "metadata": {
    "ExecuteTime": {
     "end_time": "2021-08-21T09:17:05.310756Z",
     "start_time": "2021-08-21T09:17:05.307867Z"
    }
   },
   "outputs": [],
   "source": []
  },
  {
   "cell_type": "code",
   "execution_count": null,
   "metadata": {},
   "outputs": [],
   "source": []
  },
  {
   "cell_type": "code",
   "execution_count": null,
   "metadata": {},
   "outputs": [],
   "source": []
  },
  {
   "cell_type": "code",
   "execution_count": null,
   "metadata": {
    "ExecuteTime": {
     "end_time": "2021-08-21T10:17:21.119694Z",
     "start_time": "2021-08-21T10:17:21.119683Z"
    }
   },
   "outputs": [],
   "source": [
    "training_queue_col = client[DATABASE_NAME][LABEL_RETRAIN_QUEUE_COLLECTION]\n",
    "import re\n",
    "result = training_queue_col.find({\n",
    "    \"status\": {\n",
    "        \"$not\": re.compile(\"done\")}\n",
    "})\n",
    "result = list(result)"
   ]
  },
  {
   "cell_type": "code",
   "execution_count": null,
   "metadata": {
    "ExecuteTime": {
     "end_time": "2021-08-21T10:17:21.120967Z",
     "start_time": "2021-08-21T10:17:21.120956Z"
    }
   },
   "outputs": [],
   "source": [
    "type(result[0][\"_id\"])"
   ]
  },
  {
   "cell_type": "code",
   "execution_count": null,
   "metadata": {
    "ExecuteTime": {
     "end_time": "2021-08-21T06:28:44.902450Z",
     "start_time": "2021-08-21T06:28:44.865332Z"
    }
   },
   "outputs": [],
   "source": []
  },
  {
   "cell_type": "code",
   "execution_count": null,
   "metadata": {},
   "outputs": [],
   "source": []
  },
  {
   "cell_type": "code",
   "execution_count": null,
   "metadata": {},
   "outputs": [],
   "source": []
  },
  {
   "cell_type": "code",
   "execution_count": null,
   "metadata": {
    "ExecuteTime": {
     "end_time": "2021-08-21T10:17:21.122088Z",
     "start_time": "2021-08-21T10:17:21.122070Z"
    }
   },
   "outputs": [],
   "source": [
    "import os\n",
    "import subprocess\n",
    "import signal\n",
    "import time"
   ]
  },
  {
   "cell_type": "code",
   "execution_count": null,
   "metadata": {
    "ExecuteTime": {
     "end_time": "2021-08-21T10:17:21.123240Z",
     "start_time": "2021-08-21T10:17:21.123222Z"
    }
   },
   "outputs": [],
   "source": [
    "command = \"python trainer.py\"\n",
    "process = subprocess.Popen(command, shell=True, stdout=subprocess.DEVNULL, stderr=subprocess.STDOUT)"
   ]
  },
  {
   "cell_type": "code",
   "execution_count": null,
   "metadata": {
    "ExecuteTime": {
     "end_time": "2021-08-21T10:17:21.124500Z",
     "start_time": "2021-08-21T10:17:21.124481Z"
    }
   },
   "outputs": [],
   "source": [
    "process.poll()"
   ]
  },
  {
   "cell_type": "code",
   "execution_count": null,
   "metadata": {
    "ExecuteTime": {
     "end_time": "2021-08-21T10:17:21.125777Z",
     "start_time": "2021-08-21T10:17:21.125759Z"
    }
   },
   "outputs": [],
   "source": [
    "# stop process\n",
    "process.send_signal(signal.SIGINT)"
   ]
  },
  {
   "cell_type": "code",
   "execution_count": null,
   "metadata": {
    "ExecuteTime": {
     "end_time": "2021-08-21T10:17:21.127098Z",
     "start_time": "2021-08-21T10:17:21.127080Z"
    }
   },
   "outputs": [],
   "source": [
    "process.kill()"
   ]
  },
  {
   "cell_type": "code",
   "execution_count": null,
   "metadata": {
    "ExecuteTime": {
     "end_time": "2021-08-21T10:17:21.128268Z",
     "start_time": "2021-08-21T10:17:21.128250Z"
    }
   },
   "outputs": [],
   "source": [
    "type(process)"
   ]
  },
  {
   "cell_type": "code",
   "execution_count": null,
   "metadata": {
    "ExecuteTime": {
     "end_time": "2021-08-20T02:28:11.510951Z",
     "start_time": "2021-08-20T02:28:06.106281Z"
    }
   },
   "outputs": [],
   "source": []
  },
  {
   "cell_type": "code",
   "execution_count": null,
   "metadata": {
    "ExecuteTime": {
     "end_time": "2021-08-21T10:17:21.129400Z",
     "start_time": "2021-08-21T10:17:21.129382Z"
    },
    "scrolled": true
   },
   "outputs": [],
   "source": [
    "process.pid"
   ]
  },
  {
   "cell_type": "code",
   "execution_count": null,
   "metadata": {
    "ExecuteTime": {
     "end_time": "2021-08-21T10:17:21.130553Z",
     "start_time": "2021-08-21T10:17:21.130534Z"
    }
   },
   "outputs": [],
   "source": [
    "while True:\n",
    "    time.sleep(1)"
   ]
  },
  {
   "cell_type": "code",
   "execution_count": null,
   "metadata": {
    "ExecuteTime": {
     "end_time": "2021-08-21T10:17:21.131664Z",
     "start_time": "2021-08-21T10:17:21.131645Z"
    }
   },
   "outputs": [],
   "source": [
    "process"
   ]
  },
  {
   "cell_type": "code",
   "execution_count": null,
   "metadata": {},
   "outputs": [],
   "source": []
  }
 ],
 "metadata": {
  "kernelspec": {
   "display_name": "adapter",
   "language": "python",
   "name": "adapter"
  },
  "language_info": {
   "codemirror_mode": {
    "name": "ipython",
    "version": 3
   },
   "file_extension": ".py",
   "mimetype": "text/x-python",
   "name": "python",
   "nbconvert_exporter": "python",
   "pygments_lexer": "ipython3",
   "version": "3.7.10"
  }
 },
 "nbformat": 4,
 "nbformat_minor": 4
}
