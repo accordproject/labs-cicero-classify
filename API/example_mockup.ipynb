{
 "cells": [
  {
   "cell_type": "code",
   "execution_count": 1,
   "metadata": {
    "ExecuteTime": {
     "end_time": "2021-08-15T23:45:50.414147Z",
     "start_time": "2021-08-15T23:45:50.285744Z"
    }
   },
   "outputs": [],
   "source": [
    "from fastapi import FastAPI, Depends, status\n",
    "from starlette.exceptions import HTTPException\n",
    "from fastapi.middleware.cors import CORSMiddleware\n",
    "from starlette.status import HTTP_422_UNPROCESSABLE_ENTITY\n",
    "\n",
    "#from .api.api_v1.api import router as api_router\n",
    "from core.config import ALLOWED_HOSTS, PROJECT_NAME, PROJECT_VERSION, API_PORT\n",
    "from core.errors import http_422_error_handler, http_error_handler\n",
    "from db.mongodb_connect import close_mongo_connection, connect_to_mongo\n",
    "from db.mongodb import AsyncIOMotorClient, get_database\n",
    "import asyncio"
   ]
  },
  {
   "cell_type": "code",
   "execution_count": 2,
   "metadata": {
    "ExecuteTime": {
     "end_time": "2021-08-15T23:45:50.508610Z",
     "start_time": "2021-08-15T23:45:50.491917Z"
    }
   },
   "outputs": [],
   "source": [
    "app = FastAPI(title=PROJECT_NAME, version = PROJECT_VERSION)\n",
    "\n",
    "if not ALLOWED_HOSTS:\n",
    "    ALLOWED_HOSTS = [\"*\"]\n",
    "\n",
    "app.add_middleware(\n",
    "    CORSMiddleware,\n",
    "    allow_origins=ALLOWED_HOSTS,\n",
    "    allow_credentials=True,\n",
    "    allow_methods=[\"*\"],\n",
    "    allow_headers=[\"*\"],\n",
    ")\n",
    "\n",
    "\n",
    "app.add_event_handler(\"startup\", connect_to_mongo)\n",
    "app.add_event_handler(\"shutdown\", close_mongo_connection)\n",
    "\n",
    "\n",
    "app.add_exception_handler(HTTPException, http_error_handler)\n",
    "app.add_exception_handler(HTTP_422_UNPROCESSABLE_ENTITY, http_422_error_handler)"
   ]
  },
  {
   "cell_type": "code",
   "execution_count": 3,
   "metadata": {
    "ExecuteTime": {
     "end_time": "2021-08-15T23:45:50.968913Z",
     "start_time": "2021-08-15T23:45:50.958696Z"
    }
   },
   "outputs": [],
   "source": [
    "from typing import Optional\n",
    "\n",
    "from pydantic import BaseModel\n",
    "\n",
    "from typing import Any, Dict, AnyStr, List, Union\n",
    "\n",
    "JSONObject = Dict[AnyStr, Any]\n",
    "JSONArray = List[Any]\n",
    "JSONStructure = Union[JSONArray, JSONObject]"
   ]
  },
  {
   "cell_type": "code",
   "execution_count": 4,
   "metadata": {
    "ExecuteTime": {
     "end_time": "2021-08-15T23:45:51.390202Z",
     "start_time": "2021-08-15T23:45:51.383969Z"
    }
   },
   "outputs": [],
   "source": [
    "#import adapter_model"
   ]
  },
  {
   "cell_type": "code",
   "execution_count": 5,
   "metadata": {
    "ExecuteTime": {
     "end_time": "2021-08-15T23:45:54.068177Z",
     "start_time": "2021-08-15T23:45:54.038103Z"
    }
   },
   "outputs": [
    {
     "data": {
      "text/plain": [
       "<coroutine object connect_to_mongo at 0x7fb40ddd29e0>"
      ]
     },
     "execution_count": 5,
     "metadata": {},
     "output_type": "execute_result"
    }
   ],
   "source": [
    "connect_to_mongo()"
   ]
  },
  {
   "cell_type": "code",
   "execution_count": null,
   "metadata": {},
   "outputs": [],
   "source": []
  },
  {
   "cell_type": "code",
   "execution_count": 5,
   "metadata": {
    "ExecuteTime": {
     "end_time": "2021-08-14T22:13:56.262887Z",
     "start_time": "2021-08-14T22:13:56.260257Z"
    }
   },
   "outputs": [],
   "source": [
    "example_text = \"Dan Will be deemed to have completed its delivery obligations before 2021-7-5 if in Niall's opinion, the Jeep Car satisfies the Acceptance Criteria, and Niall notifies Dan in writing that it is accepting the Jeep Car.\""
   ]
  },
  {
   "cell_type": "code",
   "execution_count": null,
   "metadata": {
    "ExecuteTime": {
     "end_time": "2021-08-14T22:11:34.744962Z",
     "start_time": "2021-08-14T22:11:34.741114Z"
    }
   },
   "outputs": [],
   "source": [
    "@app.get(\"/model/label\", tags = [\"Status\"], status_code=status.HTTP_200_OK)\n",
    "def get_model_status():\n",
    "    return {\n",
    "        \"message\": \"get success\",\n",
    "        \"status\": \"re-training\",\n",
    "        \"step\": {\n",
    "            \"current\": 30,\n",
    "            \"total\": 50,\n",
    "        },\n",
    "        \"train-data-amount\": 2500,\n",
    "        \"affect-labels\": ['Party', 'Race', 'SpecialTerm', 'TemporalUnit', 'Time', 'Timezone', 'US_States']\n",
    "    }"
   ]
  },
  {
   "cell_type": "code",
   "execution_count": null,
   "metadata": {
    "ExecuteTime": {
     "end_time": "2021-08-14T22:11:34.749493Z",
     "start_time": "2021-08-14T22:11:34.746266Z"
    }
   },
   "outputs": [],
   "source": [
    "@app.get(\"/model/template\", tags = [\"Status\"], status_code=status.HTTP_200_OK)\n",
    "def get_model_status():\n",
    "    return {\n",
    "        \"message\": \"get success\",\n",
    "        \"status\": \"re-training\",\n",
    "        \"step\": {\n",
    "            \"current\": 30,\n",
    "            \"total\": 50,\n",
    "        },\n",
    "        \"train-data-amount\": 2500,\n",
    "        \"affect-labels\": ['Party', 'Race', 'SpecialTerm', 'TemporalUnit', 'Time', 'Timezone', 'US_States']\n",
    "    }"
   ]
  },
  {
   "cell_type": "code",
   "execution_count": null,
   "metadata": {
    "ExecuteTime": {
     "end_time": "2021-08-14T22:11:34.753314Z",
     "start_time": "2021-08-14T22:11:34.750500Z"
    }
   },
   "outputs": [],
   "source": [
    "class text_label_body(BaseModel):\n",
    "    text: str = example_text"
   ]
  },
  {
   "cell_type": "code",
   "execution_count": null,
   "metadata": {
    "ExecuteTime": {
     "end_time": "2021-08-14T22:11:34.758621Z",
     "start_time": "2021-08-14T22:11:34.754468Z"
    }
   },
   "outputs": [],
   "source": [
    "@app.post(\"/model/label\", tags = [\"Predict\"], status_code=status.HTTP_200_OK)\n",
    "def text_label(data: text_label_body):\n",
    "    sen, pred, logits, logits_order = adapter_model.model_predict(adapter_model.model, data.text)\n",
    "    out_Tokens = []\n",
    "    for i, _ in enumerate(sen):\n",
    "        predictions = []\n",
    "        for j, _ in enumerate(logits_order):\n",
    "            predictions.append({\n",
    "                \"type\": logits_order[j],\n",
    "                \"confidence\": logits[i][j],\n",
    "            })\n",
    "        predictions.sort(key = lambda x: x[\"confidence\"], reverse=True)\n",
    "        out_Tokens.append({\n",
    "            \"token\": sen[i],\n",
    "            \"predictions\": predictions,\n",
    "        })\n",
    "    return out_Tokens"
   ]
  },
  {
   "cell_type": "code",
   "execution_count": null,
   "metadata": {
    "ExecuteTime": {
     "end_time": "2021-08-14T22:11:34.764738Z",
     "start_time": "2021-08-14T22:11:34.760816Z"
    }
   },
   "outputs": [],
   "source": [
    "@app.post(\"/model/template\", tags = [\"Predict\"], status_code=status.HTTP_200_OK)\n",
    "def recommand_template(data: text_label_body):\n",
    "    return {\n",
    "        \"predict\": [\n",
    "            {\n",
    "                \"name\": \"Full Payment Upon Demand\",\n",
    "                \"confidence\": 0.9\n",
    "            },\n",
    "            {\n",
    "                \"name\": \"Acceptance of Delivery\",\n",
    "                \"confidence\": 0.8\n",
    "            },\n",
    "            {\n",
    "                \"name\": \"Copyright License\",\n",
    "                \"confidence\": 0.7\n",
    "            },\n",
    "            {\n",
    "                \"name\": \"Demand Forecast\",\n",
    "                \"confidence\": 0.6\n",
    "            },\n",
    "            {\n",
    "                \"name\": \"Eat Apples\",\n",
    "                \"confidence\": 0.5\n",
    "            },\n",
    "        ]\n",
    "    }"
   ]
  },
  {
   "cell_type": "code",
   "execution_count": null,
   "metadata": {
    "ExecuteTime": {
     "end_time": "2021-08-14T22:11:34.768518Z",
     "start_time": "2021-08-14T22:11:34.765866Z"
    }
   },
   "outputs": [],
   "source": [
    "class suggest_best_practice_body(BaseModel):\n",
    "    text: str = example_text"
   ]
  },
  {
   "cell_type": "code",
   "execution_count": null,
   "metadata": {
    "ExecuteTime": {
     "end_time": "2021-08-14T22:11:34.772641Z",
     "start_time": "2021-08-14T22:11:34.769695Z"
    }
   },
   "outputs": [],
   "source": [
    "@app.post(\"/model/suggestion\", tags = [\"Predict\"], status_code=status.HTTP_200_OK)\n",
    "def suggest_best_practice(data: suggest_best_practice_body):\n",
    "    return {\n",
    "        \"predict\": \"Not Finish Yet.\"\n",
    "    }"
   ]
  },
  {
   "cell_type": "code",
   "execution_count": null,
   "metadata": {},
   "outputs": [],
   "source": []
  },
  {
   "cell_type": "code",
   "execution_count": 6,
   "metadata": {
    "ExecuteTime": {
     "end_time": "2021-08-14T22:13:56.268036Z",
     "start_time": "2021-08-14T22:13:56.264184Z"
    }
   },
   "outputs": [],
   "source": [
    "class update_data_body(BaseModel):\n",
    "    text: JSONArray = [\n",
    "        {\n",
    "            \"text\": \"Eason\",\n",
    "            \"label\": \"Party\"\n",
    "        },\n",
    "        {\n",
    "            \"text\": \"will\",\n",
    "            \"label\": \"O\"\n",
    "        },\n",
    "        {\n",
    "            \"text\": \"meet\",\n",
    "            \"label\": \"O\"\n",
    "        },\n",
    "        {\n",
    "            \"text\": \"Dan\",\n",
    "            \"label\": \"Party\"\n",
    "        },\n",
    "        {\n",
    "            \"text\": \"at\",\n",
    "            \"label\": \"O\"\n",
    "        },\n",
    "        {\n",
    "            \"text\": \"2021-08-04 18:00\",\n",
    "            \"label\": \"TemporalUnit\"\n",
    "        },\n",
    "        {\n",
    "            \"text\": \".\",\n",
    "            \"label\": \"O\"\n",
    "        },\n",
    "    ]"
   ]
  },
  {
   "cell_type": "code",
   "execution_count": 7,
   "metadata": {
    "ExecuteTime": {
     "end_time": "2021-08-14T22:13:56.272727Z",
     "start_time": "2021-08-14T22:13:56.269308Z"
    }
   },
   "outputs": [],
   "source": [
    "@app.post(\"/data/label\", tags = [\"Optimize Data\"], status_code=status.HTTP_200_OK)\n",
    "def update_data(data: update_data_body):\n",
    "    return \"OK\""
   ]
  },
  {
   "cell_type": "code",
   "execution_count": 8,
   "metadata": {
    "ExecuteTime": {
     "end_time": "2021-08-14T22:13:56.276525Z",
     "start_time": "2021-08-14T22:13:56.273686Z"
    }
   },
   "outputs": [],
   "source": [
    "class update_template_data_body(BaseModel):\n",
    "    text: str = example_text\n",
    "    template: str = \"IP Payment\""
   ]
  },
  {
   "cell_type": "code",
   "execution_count": 9,
   "metadata": {
    "ExecuteTime": {
     "end_time": "2021-08-14T22:13:56.280310Z",
     "start_time": "2021-08-14T22:13:56.277466Z"
    }
   },
   "outputs": [],
   "source": [
    "@app.post(\"/data/template\", tags = [\"Optimize Data\"], status_code=status.HTTP_200_OK)\n",
    "def update_template_data(data: update_template_data_body):\n",
    "    return \"OK\""
   ]
  },
  {
   "cell_type": "code",
   "execution_count": 10,
   "metadata": {
    "ExecuteTime": {
     "end_time": "2021-08-14T22:13:56.284816Z",
     "start_time": "2021-08-14T22:13:56.281980Z"
    }
   },
   "outputs": [],
   "source": [
    "class update_suggestion_data_body(BaseModel):\n",
    "    text: str = \"Not Finish Yet\""
   ]
  },
  {
   "cell_type": "code",
   "execution_count": 11,
   "metadata": {
    "ExecuteTime": {
     "end_time": "2021-08-14T22:13:56.289068Z",
     "start_time": "2021-08-14T22:13:56.286086Z"
    }
   },
   "outputs": [],
   "source": [
    "@app.post(\"/data/suggestion\", tags = [\"Optimize Data\"], status_code=status.HTTP_200_OK)\n",
    "def update_suggestion_data(data: update_suggestion_data_body):\n",
    "    return \"OK\""
   ]
  },
  {
   "cell_type": "code",
   "execution_count": 12,
   "metadata": {
    "ExecuteTime": {
     "end_time": "2021-08-14T22:13:56.293340Z",
     "start_time": "2021-08-14T22:13:56.290100Z"
    }
   },
   "outputs": [],
   "source": [
    "@app.post(\"/model/suggestion:retrain\", tags = [\"ReTrain\"], status_code=status.HTTP_200_OK)\n",
    "def retrain_suggestion_model():\n",
    "    return {\n",
    "        \"message\": \"success, start retrain.\",\n",
    "        \"train-data-amount\": 2500,\n",
    "    }"
   ]
  },
  {
   "cell_type": "code",
   "execution_count": 13,
   "metadata": {
    "ExecuteTime": {
     "end_time": "2021-08-14T22:13:56.297261Z",
     "start_time": "2021-08-14T22:13:56.294321Z"
    }
   },
   "outputs": [],
   "source": [
    "@app.post(\"/model/template:retrain\", tags = [\"ReTrain\"], status_code=status.HTTP_200_OK)\n",
    "def retrain_template_model():\n",
    "    return {\n",
    "        \"message\": \"success, start retrain.\",\n",
    "        \"train-data-amount\": 2500,\n",
    "    }"
   ]
  },
  {
   "cell_type": "code",
   "execution_count": 14,
   "metadata": {
    "ExecuteTime": {
     "end_time": "2021-08-14T22:13:56.301109Z",
     "start_time": "2021-08-14T22:13:56.298231Z"
    }
   },
   "outputs": [],
   "source": [
    "@app.post(\"/model/label:retrain\", tags = [\"ReTrain\"], status_code=status.HTTP_200_OK)\n",
    "def retrain_model():\n",
    "    return {\n",
    "        \"message\": \"success, start retrain.\",\n",
    "        \"train-data-amount\": 2500,\n",
    "        \"affect-labels\": ['Party', 'Race', 'SpecialTerm', 'TemporalUnit', 'Time', 'Timezone', 'US_States']\n",
    "    }"
   ]
  },
  {
   "cell_type": "code",
   "execution_count": null,
   "metadata": {
    "ExecuteTime": {
     "end_time": "2021-08-04T00:24:01.732666Z",
     "start_time": "2021-08-04T00:24:01.728615Z"
    }
   },
   "outputs": [],
   "source": []
  },
  {
   "cell_type": "code",
   "execution_count": null,
   "metadata": {},
   "outputs": [],
   "source": []
  },
  {
   "cell_type": "code",
   "execution_count": 15,
   "metadata": {
    "ExecuteTime": {
     "end_time": "2021-08-14T22:14:44.373639Z",
     "start_time": "2021-08-14T22:13:56.302077Z"
    },
    "scrolled": true
   },
   "outputs": [
    {
     "name": "stderr",
     "output_type": "stream",
     "text": [
      "INFO:     Started server process [10728]\n",
      "INFO:     Waiting for application startup.\n",
      "INFO:     Application startup complete.\n",
      "INFO:uvicorn.error:Application startup complete.\n",
      "INFO:     Uvicorn running on http://0.0.0.0:13537 (Press CTRL+C to quit)\n",
      "INFO:uvicorn.error:Uvicorn running on http://0.0.0.0:13537 (Press CTRL+C to quit)\n"
     ]
    },
    {
     "name": "stdout",
     "output_type": "stream",
     "text": [
      "INFO:     111.241.163.16:0 - \"POST /data/label HTTP/1.0\" 200 OK\n",
      "INFO:     111.241.163.16:0 - \"POST /data/label HTTP/1.0\" 200 OK\n",
      "INFO:     111.241.163.16:0 - \"POST /data/label HTTP/1.0\" 200 OK\n",
      "INFO:     111.241.163.16:0 - \"POST /data/label HTTP/1.0\" 200 OK\n",
      "INFO:     111.241.163.16:0 - \"POST /data/label HTTP/1.0\" 200 OK\n",
      "INFO:     111.241.163.16:0 - \"POST /data/label HTTP/1.0\" 200 OK\n",
      "INFO:     111.241.163.16:0 - \"POST /data/label HTTP/1.0\" 200 OK\n"
     ]
    },
    {
     "name": "stderr",
     "output_type": "stream",
     "text": [
      "INFO:     Shutting down\n",
      "INFO:uvicorn.error:Shutting down\n",
      "INFO:     Waiting for application shutdown.\n",
      "INFO:uvicorn.error:Waiting for application shutdown.\n",
      "INFO:     Application shutdown complete.\n",
      "INFO:uvicorn.error:Application shutdown complete.\n",
      "INFO:     Finished server process [10728]\n",
      "INFO:uvicorn.error:Finished server process [10728]\n"
     ]
    }
   ],
   "source": [
    "if __name__ == \"__main__\":\n",
    "    import nest_asyncio\n",
    "    nest_asyncio.apply()\n",
    "    import uvicorn\n",
    "    uvicorn.run(app, host=\"0.0.0.0\", port=13537)\n",
    "    \n",
    "    "
   ]
  },
  {
   "cell_type": "code",
   "execution_count": 16,
   "metadata": {
    "ExecuteTime": {
     "end_time": "2021-08-14T22:14:44.457472Z",
     "start_time": "2021-08-14T22:14:44.378288Z"
    }
   },
   "outputs": [
    {
     "ename": "NameError",
     "evalue": "name 'db' is not defined",
     "output_type": "error",
     "traceback": [
      "\u001b[0;31m---------------------------------------------------------------------------\u001b[0m",
      "\u001b[0;31mNameError\u001b[0m                                 Traceback (most recent call last)",
      "\u001b[0;32m/tmp/ipykernel_10728/731769881.py\u001b[0m in \u001b[0;36m<module>\u001b[0;34m\u001b[0m\n\u001b[0;32m----> 1\u001b[0;31m \u001b[0mdb\u001b[0m\u001b[0;34m\u001b[0m\u001b[0;34m\u001b[0m\u001b[0m\n\u001b[0m",
      "\u001b[0;31mNameError\u001b[0m: name 'db' is not defined"
     ]
    }
   ],
   "source": [
    "db"
   ]
  },
  {
   "cell_type": "code",
   "execution_count": null,
   "metadata": {},
   "outputs": [],
   "source": []
  }
 ],
 "metadata": {
  "hide_input": false,
  "kernelspec": {
   "display_name": "adapter",
   "language": "python",
   "name": "adapter"
  },
  "language_info": {
   "codemirror_mode": {
    "name": "ipython",
    "version": 3
   },
   "file_extension": ".py",
   "mimetype": "text/x-python",
   "name": "python",
   "nbconvert_exporter": "python",
   "pygments_lexer": "ipython3",
   "version": "3.7.10"
  },
  "varInspector": {
   "cols": {
    "lenName": 16,
    "lenType": 16,
    "lenVar": 40
   },
   "kernels_config": {
    "python": {
     "delete_cmd_postfix": "",
     "delete_cmd_prefix": "del ",
     "library": "var_list.py",
     "varRefreshCmd": "print(var_dic_list())"
    },
    "r": {
     "delete_cmd_postfix": ") ",
     "delete_cmd_prefix": "rm(",
     "library": "var_list.r",
     "varRefreshCmd": "cat(var_dic_list()) "
    }
   },
   "types_to_exclude": [
    "module",
    "function",
    "builtin_function_or_method",
    "instance",
    "_Feature"
   ],
   "window_display": false
  }
 },
 "nbformat": 4,
 "nbformat_minor": 4
}
