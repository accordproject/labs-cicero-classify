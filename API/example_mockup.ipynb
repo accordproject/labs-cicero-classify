{
 "cells": [
  {
   "cell_type": "code",
   "execution_count": 1,
   "metadata": {
    "ExecuteTime": {
     "end_time": "2021-08-07T06:53:28.829118Z",
     "start_time": "2021-08-07T06:53:28.742886Z"
    }
   },
   "outputs": [],
   "source": [
    "from fastapi import FastAPI, Depends, status\n",
    "from starlette.exceptions import HTTPException\n",
    "from fastapi.middleware.cors import CORSMiddleware\n",
    "from starlette.status import HTTP_422_UNPROCESSABLE_ENTITY\n",
    "\n",
    "import asyncio"
   ]
  },
  {
   "cell_type": "code",
   "execution_count": 2,
   "metadata": {
    "ExecuteTime": {
     "end_time": "2021-08-07T06:53:28.835157Z",
     "start_time": "2021-08-07T06:53:28.831119Z"
    }
   },
   "outputs": [],
   "source": [
    "from typing import Optional\n",
    "\n",
    "from pydantic import BaseModel\n",
    "\n",
    "from typing import Any, Dict, AnyStr, List, Union\n",
    "\n",
    "JSONObject = Dict[AnyStr, Any]\n",
    "JSONArray = List[Any]\n",
    "JSONStructure = Union[JSONArray, JSONObject]"
   ]
  },
  {
   "cell_type": "code",
   "execution_count": 3,
   "metadata": {
    "ExecuteTime": {
     "end_time": "2021-08-07T06:53:28.840979Z",
     "start_time": "2021-08-07T06:53:28.836634Z"
    }
   },
   "outputs": [],
   "source": [
    "from fastapi.security import APIKeyHeader\n",
    "#access_token = APIKeyHeader(name=\"X-API-KEY\")\n",
    "\n",
    "app = FastAPI(title=\"Eason_Model_API_Mockup\")\n",
    "\n",
    "\n",
    "app.add_middleware(\n",
    "    CORSMiddleware,\n",
    "    allow_origins=[\"*\"],\n",
    "    allow_credentials=True,\n",
    "    allow_methods=[\"*\"],\n",
    "    allow_headers=[\"*\"],\n",
    ")"
   ]
  },
  {
   "cell_type": "code",
   "execution_count": 4,
   "metadata": {
    "ExecuteTime": {
     "end_time": "2021-08-07T06:53:57.474068Z",
     "start_time": "2021-08-07T06:53:28.843181Z"
    }
   },
   "outputs": [
    {
     "name": "stdout",
     "output_type": "stream",
     "text": [
      "Torch Version: 1.8.1\n",
      "transformers (Adapter) Version: 2.0.1\n",
      "labels: ['B-art' 'B-eve' 'B-geo' 'B-gpe' 'B-nat' 'B-org' 'B-per' 'B-tim'\n",
      " 'CountryCode' 'CryptoCurrencyCode' 'CurrencyCode' 'Event' 'Float' 'I-art'\n",
      " 'I-eve' 'I-geo' 'I-gpe' 'I-nat' 'I-org' 'I-per' 'I-tim' 'Integer'\n",
      " 'Location' 'Month' 'O' 'Object' 'Party' 'Race' 'SpecialTerm'\n",
      " 'TemporalUnit' 'Time' 'Timezone' 'US_States']\n"
     ]
    },
    {
     "name": "stderr",
     "output_type": "stream",
     "text": [
      "Some weights of the model checkpoint at roberta-base were not used when initializing RobertaModelWithHeads: ['lm_head.bias', 'lm_head.dense.weight', 'lm_head.dense.bias', 'lm_head.layer_norm.weight', 'lm_head.layer_norm.bias', 'lm_head.decoder.weight']\n",
      "- This IS expected if you are initializing RobertaModelWithHeads from the checkpoint of a model trained on another task or with another architecture (e.g. initializing a BertForSequenceClassification model from a BertForPreTraining model).\n",
      "- This IS NOT expected if you are initializing RobertaModelWithHeads from the checkpoint of a model that you expect to be exactly identical (initializing a BertForSequenceClassification model from a BertForSequenceClassification model).\n",
      "Some weights of RobertaModelWithHeads were not initialized from the model checkpoint at roberta-base and are newly initialized: ['roberta.embeddings.position_ids']\n",
      "You should probably TRAIN this model on a down-stream task to be able to use it for predictions and inference.\n",
      "Overwriting existing head 'Float'\n",
      "Overwriting existing head 'CryptoCurrencyCode'\n",
      "Overwriting existing head 'I-org'\n",
      "Overwriting existing head 'B-geo'\n",
      "Overwriting existing head 'Object'\n",
      "Overwriting existing head 'B-tim'\n",
      "Overwriting existing head 'Month'\n",
      "Overwriting existing head 'Event'\n",
      "Overwriting existing head 'CurrencyCode'\n",
      "Overwriting existing head 'I-eve'\n",
      "Overwriting existing head 'B-nat'\n",
      "Overwriting existing head 'Location'\n",
      "Overwriting existing head 'Timezone'\n",
      "Overwriting existing head 'I-per'\n",
      "Overwriting existing head 'I-gpe'\n",
      "Overwriting existing head 'I-nat'\n",
      "Overwriting existing head 'Race'\n",
      "Overwriting existing head 'O'\n",
      "Overwriting existing head 'I-tim'\n",
      "Overwriting existing head 'B-gpe'\n",
      "Overwriting existing head 'Integer'\n",
      "Overwriting existing head 'B-per'\n",
      "Overwriting existing head 'B-art'\n",
      "Overwriting existing head 'CountryCode'\n",
      "Overwriting existing head 'Time'\n",
      "Overwriting existing head 'I-geo'\n",
      "Overwriting existing head 'B-eve'\n",
      "Overwriting existing head 'SpecialTerm'\n",
      "Overwriting existing head 'TemporalUnit'\n",
      "Overwriting existing head 'I-art'\n",
      "Overwriting existing head 'US_States'\n",
      "Overwriting existing head 'Party'\n",
      "Overwriting existing head 'B-org'\n"
     ]
    }
   ],
   "source": [
    "import adapter_model"
   ]
  },
  {
   "cell_type": "code",
   "execution_count": null,
   "metadata": {},
   "outputs": [],
   "source": []
  },
  {
   "cell_type": "code",
   "execution_count": 164,
   "metadata": {
    "ExecuteTime": {
     "end_time": "2021-08-07T12:07:11.004311Z",
     "start_time": "2021-08-07T12:07:10.992742Z"
    }
   },
   "outputs": [],
   "source": [
    "from fastapi.security import APIKeyHeader\n",
    "#access_token = APIKeyHeader(name=\"X-API-KEY\")\n",
    "\n",
    "app = FastAPI(title=\"Eason_Model_API_Mockup\", docs_url=None, redoc_url=None, openapi_url = None)\n",
    "\n",
    "\n",
    "app.add_middleware(\n",
    "    CORSMiddleware,\n",
    "    allow_origins=[\"*\"],\n",
    "    allow_credentials=True,\n",
    "    allow_methods=[\"*\"],\n",
    "    allow_headers=[\"*\"],\n",
    ")"
   ]
  },
  {
   "cell_type": "code",
   "execution_count": 165,
   "metadata": {
    "ExecuteTime": {
     "end_time": "2021-08-07T12:07:11.505537Z",
     "start_time": "2021-08-07T12:07:11.494465Z"
    }
   },
   "outputs": [],
   "source": [
    "# Will customize OpenAPI Afterward to change the document's order\n",
    "from fastapi.openapi.docs import get_swagger_ui_html\n",
    "from fastapi.openapi.utils import get_openapi\n",
    "@app.get(\"/docs\", include_in_schema=False)\n",
    "async def get_documentation():\n",
    "    return get_swagger_ui_html(openapi_url=\"/openapi.json\", title=\"docs\")\n",
    "\n",
    "\n",
    "@app.get(\"/openapi.json\", include_in_schema=False)\n",
    "async def openapi():\n",
    "    return get_openapi(title = \"FastAPI\", version=\"0.1.0\", routes=app.routes)\n",
    "\n",
    "\n",
    "openAPI = get_openapi(title = \"FastAPI\", version=\"0.1.0\", routes=app.routes)\n",
    "\n",
    "import collections\n",
    "\n",
    "paths = collections.OrderedDict()"
   ]
  },
  {
   "cell_type": "code",
   "execution_count": 166,
   "metadata": {
    "ExecuteTime": {
     "end_time": "2021-08-07T12:07:11.580300Z",
     "start_time": "2021-08-07T12:07:11.574833Z"
    }
   },
   "outputs": [],
   "source": [
    "example_text = \"Dan Will be deemed to have completed its delivery obligations before 2021-7-5 if in Niall's opinion, the Jeep Car satisfies the Acceptance Criteria, and Niall notifies Dan in writing that it is accepting the Jeep Car.\""
   ]
  },
  {
   "cell_type": "code",
   "execution_count": 167,
   "metadata": {
    "ExecuteTime": {
     "end_time": "2021-08-07T12:07:11.684685Z",
     "start_time": "2021-08-07T12:07:11.673442Z"
    }
   },
   "outputs": [],
   "source": [
    "@app.get(\"/model/label/status\", tags = [\"Status\"], status_code=status.HTTP_200_OK)\n",
    "def get_model_status():\n",
    "    return {\n",
    "        \"message\": \"get success\",\n",
    "        \"status\": \"re-training\",\n",
    "        \"step\": {\n",
    "            \"current\": 30,\n",
    "            \"total\": 50,\n",
    "        },\n",
    "        \"train-data-amount\": 2500,\n",
    "        \"affect-labels\": ['Party', 'Race', 'SpecialTerm', 'TemporalUnit', 'Time', 'Timezone', 'US_States']\n",
    "    }"
   ]
  },
  {
   "cell_type": "code",
   "execution_count": 168,
   "metadata": {
    "ExecuteTime": {
     "end_time": "2021-08-07T12:07:11.774845Z",
     "start_time": "2021-08-07T12:07:11.764705Z"
    }
   },
   "outputs": [],
   "source": [
    "@app.get(\"/model/template/status\", tags = [\"Status\"], status_code=status.HTTP_200_OK)\n",
    "def get_model_status():\n",
    "    return {\n",
    "        \"message\": \"get success\",\n",
    "        \"status\": \"re-training\",\n",
    "        \"step\": {\n",
    "            \"current\": 30,\n",
    "            \"total\": 50,\n",
    "        },\n",
    "        \"train-data-amount\": 2500,\n",
    "        \"affect-labels\": ['Party', 'Race', 'SpecialTerm', 'TemporalUnit', 'Time', 'Timezone', 'US_States']\n",
    "    }"
   ]
  },
  {
   "cell_type": "code",
   "execution_count": 169,
   "metadata": {
    "ExecuteTime": {
     "end_time": "2021-08-07T12:07:11.848745Z",
     "start_time": "2021-08-07T12:07:11.843144Z"
    }
   },
   "outputs": [],
   "source": [
    "class text_label_body(BaseModel):\n",
    "    text: str = example_text"
   ]
  },
  {
   "cell_type": "code",
   "execution_count": 170,
   "metadata": {
    "ExecuteTime": {
     "end_time": "2021-08-07T12:07:11.934057Z",
     "start_time": "2021-08-07T12:07:11.922628Z"
    }
   },
   "outputs": [],
   "source": [
    "@app.post(\"/model/label/\", tags = [\"Predict\"], status_code=status.HTTP_200_OK)\n",
    "def text_label(data: text_label_body):\n",
    "    sen, pred, logits, logits_order = adapter_model.model_predict(adapter_model.model, data.text)\n",
    "    out_Tokens = []\n",
    "    for i, _ in enumerate(sen):\n",
    "        predictions = []\n",
    "        for j, _ in enumerate(logits_order):\n",
    "            predictions.append({\n",
    "                \"type\": logits_order[j],\n",
    "                \"confidence\": logits[i][j],\n",
    "            })\n",
    "        predictions.sort(key = lambda x: x[\"confidence\"], reverse=True)\n",
    "        out_Tokens.append({\n",
    "            \"token\": sen[i],\n",
    "            \"predictions\": predictions,\n",
    "        })"
   ]
  },
  {
   "cell_type": "code",
   "execution_count": 171,
   "metadata": {
    "ExecuteTime": {
     "end_time": "2021-08-07T12:07:12.008623Z",
     "start_time": "2021-08-07T12:07:11.996727Z"
    }
   },
   "outputs": [],
   "source": [
    "@app.post(\"/model/template/\", tags = [\"Predict\"], status_code=status.HTTP_200_OK)\n",
    "def recommand_template(data: text_label_body):\n",
    "    return {\n",
    "        \"predict\": [\n",
    "            {\n",
    "                \"name\": \"Full Payment Upon Demand\",\n",
    "                \"confidence\": 0.9\n",
    "            },\n",
    "            {\n",
    "                \"name\": \"Acceptance of Delivery\",\n",
    "                \"confidence\": 0.8\n",
    "            },\n",
    "            {\n",
    "                \"name\": \"Copyright License\",\n",
    "                \"confidence\": 0.7\n",
    "            },\n",
    "            {\n",
    "                \"name\": \"Demand Forecast\",\n",
    "                \"confidence\": 0.6\n",
    "            },\n",
    "            {\n",
    "                \"name\": \"Eat Apples\",\n",
    "                \"confidence\": 0.5\n",
    "            },\n",
    "        ]\n",
    "    }"
   ]
  },
  {
   "cell_type": "code",
   "execution_count": 172,
   "metadata": {
    "ExecuteTime": {
     "end_time": "2021-08-07T12:07:12.086708Z",
     "start_time": "2021-08-07T12:07:12.079041Z"
    }
   },
   "outputs": [],
   "source": [
    "class suggest_best_practice_body(BaseModel):\n",
    "    text: str = example_text"
   ]
  },
  {
   "cell_type": "code",
   "execution_count": 173,
   "metadata": {
    "ExecuteTime": {
     "end_time": "2021-08-07T12:07:12.191793Z",
     "start_time": "2021-08-07T12:07:12.183803Z"
    }
   },
   "outputs": [],
   "source": [
    "@app.post(\"/model/suggestion/\", tags = [\"Predict\"], status_code=status.HTTP_200_OK)\n",
    "def suggest_best_practice(data: suggest_best_practice_body):\n",
    "    return {\n",
    "        \"predict\": \"Not Finish Yet.\"\n",
    "    }"
   ]
  },
  {
   "cell_type": "code",
   "execution_count": 174,
   "metadata": {
    "ExecuteTime": {
     "end_time": "2021-08-07T12:07:12.263412Z",
     "start_time": "2021-08-07T12:07:12.251783Z"
    }
   },
   "outputs": [],
   "source": [
    "class update_data_body(BaseModel):\n",
    "    text: JSONArray = [\n",
    "        {\n",
    "            \"text\": \"Eason\",\n",
    "            \"label\": \"Party\"\n",
    "        },\n",
    "        {\n",
    "            \"text\": \"will\",\n",
    "            \"label\": \"O\"\n",
    "        },\n",
    "        {\n",
    "            \"text\": \"meet\",\n",
    "            \"label\": \"O\"\n",
    "        },\n",
    "        {\n",
    "            \"text\": \"Dan\",\n",
    "            \"label\": \"Party\"\n",
    "        },\n",
    "        {\n",
    "            \"text\": \"at\",\n",
    "            \"label\": \"O\"\n",
    "        },\n",
    "        {\n",
    "            \"text\": \"2021-08-04 18:00\",\n",
    "            \"label\": \"TemporalUnit\"\n",
    "        },\n",
    "        {\n",
    "            \"text\": \".\",\n",
    "            \"label\": \"O\"\n",
    "        },\n",
    "    ]"
   ]
  },
  {
   "cell_type": "code",
   "execution_count": 175,
   "metadata": {
    "ExecuteTime": {
     "end_time": "2021-08-07T12:07:12.355107Z",
     "start_time": "2021-08-07T12:07:12.345139Z"
    }
   },
   "outputs": [
    {
     "data": {
      "text/plain": [
       "dict_keys([])"
      ]
     },
     "execution_count": 175,
     "metadata": {},
     "output_type": "execute_result"
    }
   ],
   "source": [
    "openAPI[\"paths\"].keys()"
   ]
  },
  {
   "cell_type": "code",
   "execution_count": 176,
   "metadata": {
    "ExecuteTime": {
     "end_time": "2021-08-07T12:07:12.423550Z",
     "start_time": "2021-08-07T12:07:12.416427Z"
    }
   },
   "outputs": [
    {
     "data": {
      "text/plain": [
       "{'openapi': '3.0.2',\n",
       " 'info': {'title': 'FastAPI', 'version': '0.1.0'},\n",
       " 'paths': {}}"
      ]
     },
     "execution_count": 176,
     "metadata": {},
     "output_type": "execute_result"
    }
   ],
   "source": [
    "openAPI"
   ]
  },
  {
   "cell_type": "code",
   "execution_count": 177,
   "metadata": {
    "ExecuteTime": {
     "end_time": "2021-08-07T12:07:12.962105Z",
     "start_time": "2021-08-07T12:07:12.956108Z"
    }
   },
   "outputs": [],
   "source": [
    "@app.put(\"/data/label\", tags = [\"Optimize Data\"], status_code=status.HTTP_200_OK)\n",
    "def update_data(data: update_data_body):\n",
    "    return \"OK\""
   ]
  },
  {
   "cell_type": "code",
   "execution_count": 178,
   "metadata": {
    "ExecuteTime": {
     "end_time": "2021-08-07T12:07:14.724814Z",
     "start_time": "2021-08-07T12:07:14.718339Z"
    }
   },
   "outputs": [],
   "source": [
    "class update_template_data_body(BaseModel):\n",
    "    text: str = example_text\n",
    "    template: str = \"IP Payment\""
   ]
  },
  {
   "cell_type": "code",
   "execution_count": 179,
   "metadata": {
    "ExecuteTime": {
     "end_time": "2021-08-07T12:07:14.970276Z",
     "start_time": "2021-08-07T12:07:14.964404Z"
    }
   },
   "outputs": [],
   "source": [
    "@app.put(\"/data/template\", tags = [\"Optimize Data\"], status_code=status.HTTP_200_OK)\n",
    "def update_template_data(data: update_template_data_body):\n",
    "    return \"OK\""
   ]
  },
  {
   "cell_type": "code",
   "execution_count": 180,
   "metadata": {
    "ExecuteTime": {
     "end_time": "2021-08-07T12:07:15.180071Z",
     "start_time": "2021-08-07T12:07:15.174742Z"
    }
   },
   "outputs": [],
   "source": [
    "class update_suggestion_data_body(BaseModel):\n",
    "    text: str = \"Not Finish Yet\""
   ]
  },
  {
   "cell_type": "code",
   "execution_count": 181,
   "metadata": {
    "ExecuteTime": {
     "end_time": "2021-08-07T12:07:15.346859Z",
     "start_time": "2021-08-07T12:07:15.339005Z"
    }
   },
   "outputs": [],
   "source": [
    "@app.put(\"/data/suggestion\", tags = [\"Optimize Data\"], status_code=status.HTTP_200_OK)\n",
    "def update_suggestion_data(data: update_suggestion_data_body):\n",
    "    return \"OK\""
   ]
  },
  {
   "cell_type": "code",
   "execution_count": 182,
   "metadata": {
    "ExecuteTime": {
     "end_time": "2021-08-07T12:07:15.651361Z",
     "start_time": "2021-08-07T12:07:15.646572Z"
    }
   },
   "outputs": [],
   "source": [
    "@app.put(\"/model/suggestion/\", tags = [\"ReTrain\"], status_code=status.HTTP_200_OK)\n",
    "def retrain_suggestion_model():\n",
    "    return {\n",
    "        \"message\": \"success, start retrain.\",\n",
    "        \"train-data-amount\": 2500,\n",
    "    }"
   ]
  },
  {
   "cell_type": "code",
   "execution_count": 183,
   "metadata": {
    "ExecuteTime": {
     "end_time": "2021-08-07T12:07:15.827046Z",
     "start_time": "2021-08-07T12:07:15.818896Z"
    }
   },
   "outputs": [],
   "source": [
    "@app.put(\"/model/template/\", tags = [\"ReTrain\"], status_code=status.HTTP_200_OK)\n",
    "def retrain_template_model():\n",
    "    return {\n",
    "        \"message\": \"success, start retrain.\",\n",
    "        \"train-data-amount\": 2500,\n",
    "    }"
   ]
  },
  {
   "cell_type": "code",
   "execution_count": 184,
   "metadata": {
    "ExecuteTime": {
     "end_time": "2021-08-07T12:07:15.981788Z",
     "start_time": "2021-08-07T12:07:15.975360Z"
    }
   },
   "outputs": [],
   "source": [
    "@app.put(\"/model/label/\", tags = [\"ReTrain\"], status_code=status.HTTP_200_OK)\n",
    "def retrain_model():\n",
    "    return {\n",
    "        \"message\": \"success, start retrain.\",\n",
    "        \"train-data-amount\": 2500,\n",
    "        \"affect-labels\": ['Party', 'Race', 'SpecialTerm', 'TemporalUnit', 'Time', 'Timezone', 'US_States']\n",
    "    }"
   ]
  },
  {
   "cell_type": "code",
   "execution_count": null,
   "metadata": {
    "ExecuteTime": {
     "end_time": "2021-08-04T00:24:01.732666Z",
     "start_time": "2021-08-04T00:24:01.728615Z"
    }
   },
   "outputs": [],
   "source": []
  },
  {
   "cell_type": "code",
   "execution_count": null,
   "metadata": {},
   "outputs": [],
   "source": []
  },
  {
   "cell_type": "code",
   "execution_count": null,
   "metadata": {
    "ExecuteTime": {
     "start_time": "2021-08-07T12:07:12.338Z"
    },
    "scrolled": true
   },
   "outputs": [
    {
     "name": "stderr",
     "output_type": "stream",
     "text": [
      "INFO:     Started server process [11494]\n",
      "INFO:     Waiting for application startup.\n",
      "INFO:     Application startup complete.\n",
      "INFO:     Uvicorn running on http://0.0.0.0:13537 (Press CTRL+C to quit)\n"
     ]
    },
    {
     "name": "stdout",
     "output_type": "stream",
     "text": [
      "INFO:     172.17.0.1:50234 - \"GET /docs HTTP/1.0\" 200 OK\n",
      "INFO:     172.17.0.1:50238 - \"GET /openapi.json HTTP/1.0\" 200 OK\n",
      "INFO:     172.17.0.1:50242 - \"GET /docs HTTP/1.0\" 200 OK\n"
     ]
    }
   ],
   "source": [
    "if __name__ == \"__main__\":\n",
    "    import nest_asyncio\n",
    "    nest_asyncio.apply()\n",
    "    import uvicorn\n",
    "    uvicorn.run(app, host=\"0.0.0.0\", port=13537)\n",
    "    \n",
    "    "
   ]
  },
  {
   "cell_type": "code",
   "execution_count": null,
   "metadata": {},
   "outputs": [],
   "source": []
  }
 ],
 "metadata": {
  "hide_input": false,
  "kernelspec": {
   "display_name": "adapter",
   "language": "python",
   "name": "adapter"
  },
  "language_info": {
   "codemirror_mode": {
    "name": "ipython",
    "version": 3
   },
   "file_extension": ".py",
   "mimetype": "text/x-python",
   "name": "python",
   "nbconvert_exporter": "python",
   "pygments_lexer": "ipython3",
   "version": "3.7.10"
  },
  "varInspector": {
   "cols": {
    "lenName": 16,
    "lenType": 16,
    "lenVar": 40
   },
   "kernels_config": {
    "python": {
     "delete_cmd_postfix": "",
     "delete_cmd_prefix": "del ",
     "library": "var_list.py",
     "varRefreshCmd": "print(var_dic_list())"
    },
    "r": {
     "delete_cmd_postfix": ") ",
     "delete_cmd_prefix": "rm(",
     "library": "var_list.r",
     "varRefreshCmd": "cat(var_dic_list()) "
    }
   },
   "types_to_exclude": [
    "module",
    "function",
    "builtin_function_or_method",
    "instance",
    "_Feature"
   ],
   "window_display": false
  }
 },
 "nbformat": 4,
 "nbformat_minor": 4
}
