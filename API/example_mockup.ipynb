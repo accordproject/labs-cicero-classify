{
 "cells": [
  {
   "cell_type": "code",
   "execution_count": 1,
   "metadata": {
    "ExecuteTime": {
     "end_time": "2021-08-14T05:46:42.100943Z",
     "start_time": "2021-08-14T05:46:42.015271Z"
    }
   },
   "outputs": [],
   "source": [
    "from fastapi import FastAPI, Depends, status\n",
    "from starlette.exceptions import HTTPException\n",
    "from fastapi.middleware.cors import CORSMiddleware\n",
    "from starlette.status import HTTP_422_UNPROCESSABLE_ENTITY\n",
    "\n",
    "import asyncio"
   ]
  },
  {
   "cell_type": "code",
   "execution_count": 2,
   "metadata": {
    "ExecuteTime": {
     "end_time": "2021-08-14T05:46:42.106988Z",
     "start_time": "2021-08-14T05:46:42.102654Z"
    }
   },
   "outputs": [],
   "source": [
    "from typing import Optional\n",
    "\n",
    "from pydantic import BaseModel\n",
    "\n",
    "from typing import Any, Dict, AnyStr, List, Union\n",
    "\n",
    "JSONObject = Dict[AnyStr, Any]\n",
    "JSONArray = List[Any]\n",
    "JSONStructure = Union[JSONArray, JSONObject]"
   ]
  },
  {
   "cell_type": "code",
   "execution_count": 3,
   "metadata": {
    "ExecuteTime": {
     "end_time": "2021-08-14T05:46:42.112231Z",
     "start_time": "2021-08-14T05:46:42.108526Z"
    }
   },
   "outputs": [],
   "source": [
    "from fastapi.security import APIKeyHeader\n",
    "#access_token = APIKeyHeader(name=\"X-API-KEY\")\n",
    "\n",
    "app = FastAPI(title=\"Eason_Model_API_Mockup\")\n",
    "\n",
    "\n",
    "app.add_middleware(\n",
    "    CORSMiddleware,\n",
    "    allow_origins=[\"*\"],\n",
    "    allow_credentials=True,\n",
    "    allow_methods=[\"*\"],\n",
    "    allow_headers=[\"*\"],\n",
    ")"
   ]
  },
  {
   "cell_type": "code",
   "execution_count": 4,
   "metadata": {
    "ExecuteTime": {
     "end_time": "2021-08-14T05:47:08.057712Z",
     "start_time": "2021-08-14T05:46:42.113981Z"
    }
   },
   "outputs": [
    {
     "name": "stdout",
     "output_type": "stream",
     "text": [
      "Torch Version: 1.8.1\n",
      "transformers (Adapter) Version: 2.0.1\n",
      "labels: ['B-art' 'B-eve' 'B-geo' 'B-gpe' 'B-nat' 'B-org' 'B-per' 'B-tim'\n",
      " 'CountryCode' 'CryptoCurrencyCode' 'CurrencyCode' 'Event' 'Float' 'I-art'\n",
      " 'I-eve' 'I-geo' 'I-gpe' 'I-nat' 'I-org' 'I-per' 'I-tim' 'Integer'\n",
      " 'Location' 'Month' 'O' 'Object' 'Party' 'Race' 'SpecialTerm'\n",
      " 'TemporalUnit' 'Time' 'Timezone' 'US_States']\n"
     ]
    },
    {
     "name": "stderr",
     "output_type": "stream",
     "text": [
      "Some weights of the model checkpoint at roberta-base were not used when initializing RobertaModelWithHeads: ['lm_head.bias', 'lm_head.dense.weight', 'lm_head.dense.bias', 'lm_head.layer_norm.weight', 'lm_head.layer_norm.bias', 'lm_head.decoder.weight']\n",
      "- This IS expected if you are initializing RobertaModelWithHeads from the checkpoint of a model trained on another task or with another architecture (e.g. initializing a BertForSequenceClassification model from a BertForPreTraining model).\n",
      "- This IS NOT expected if you are initializing RobertaModelWithHeads from the checkpoint of a model that you expect to be exactly identical (initializing a BertForSequenceClassification model from a BertForSequenceClassification model).\n",
      "Some weights of RobertaModelWithHeads were not initialized from the model checkpoint at roberta-base and are newly initialized: ['roberta.embeddings.position_ids']\n",
      "You should probably TRAIN this model on a down-stream task to be able to use it for predictions and inference.\n",
      "Overwriting existing head 'I-org'\n",
      "Overwriting existing head 'I-geo'\n",
      "Overwriting existing head 'Event'\n",
      "Overwriting existing head 'B-tim'\n",
      "Overwriting existing head 'I-art'\n",
      "Overwriting existing head 'CountryCode'\n",
      "Overwriting existing head 'Integer'\n",
      "Overwriting existing head 'B-org'\n",
      "Overwriting existing head 'Race'\n",
      "Overwriting existing head 'CryptoCurrencyCode'\n",
      "Overwriting existing head 'US_States'\n",
      "Overwriting existing head 'Location'\n",
      "Overwriting existing head 'B-eve'\n",
      "Overwriting existing head 'I-per'\n",
      "Overwriting existing head 'I-tim'\n",
      "Overwriting existing head 'B-gpe'\n",
      "Overwriting existing head 'Object'\n",
      "Overwriting existing head 'I-nat'\n",
      "Overwriting existing head 'Time'\n",
      "Overwriting existing head 'I-eve'\n",
      "Overwriting existing head 'B-art'\n",
      "Overwriting existing head 'Float'\n",
      "Overwriting existing head 'CurrencyCode'\n",
      "Overwriting existing head 'B-nat'\n",
      "Overwriting existing head 'Month'\n",
      "Overwriting existing head 'Party'\n",
      "Overwriting existing head 'O'\n",
      "Overwriting existing head 'B-per'\n",
      "Overwriting existing head 'I-gpe'\n",
      "Overwriting existing head 'TemporalUnit'\n",
      "Overwriting existing head 'B-geo'\n",
      "Overwriting existing head 'SpecialTerm'\n",
      "Overwriting existing head 'Timezone'\n"
     ]
    }
   ],
   "source": [
    "import adapter_model"
   ]
  },
  {
   "cell_type": "code",
   "execution_count": null,
   "metadata": {},
   "outputs": [],
   "source": []
  },
  {
   "cell_type": "code",
   "execution_count": 5,
   "metadata": {
    "ExecuteTime": {
     "end_time": "2021-08-14T05:47:08.063963Z",
     "start_time": "2021-08-14T05:47:08.059448Z"
    }
   },
   "outputs": [],
   "source": [
    "from fastapi.security import APIKeyHeader\n",
    "#access_token = APIKeyHeader(name=\"X-API-KEY\")\n",
    "\n",
    "app = FastAPI(title=\"Eason_Model_API_Mockup\", docs_url=None, redoc_url=None, openapi_url = None)\n",
    "\n",
    "\n",
    "app.add_middleware(\n",
    "    CORSMiddleware,\n",
    "    allow_origins=[\"*\"],\n",
    "    allow_credentials=True,\n",
    "    allow_methods=[\"*\"],\n",
    "    allow_headers=[\"*\"],\n",
    ")"
   ]
  },
  {
   "cell_type": "code",
   "execution_count": 6,
   "metadata": {
    "ExecuteTime": {
     "end_time": "2021-08-14T05:47:08.072808Z",
     "start_time": "2021-08-14T05:47:08.065704Z"
    }
   },
   "outputs": [],
   "source": [
    "# Will customize OpenAPI Afterward to change the document's order\n",
    "from fastapi.openapi.docs import get_swagger_ui_html\n",
    "from fastapi.openapi.utils import get_openapi\n",
    "@app.get(\"/docs\", include_in_schema=False)\n",
    "async def get_documentation():\n",
    "    return get_swagger_ui_html(openapi_url=\"/openapi.json\", title=\"docs\")\n",
    "\n",
    "\n",
    "@app.get(\"/openapi.json\", include_in_schema=False)\n",
    "async def openapi():\n",
    "    return get_openapi(title = \"FastAPI\", version=\"0.1.0\", routes=app.routes)\n",
    "\n",
    "\n",
    "openAPI = get_openapi(title = \"FastAPI\", version=\"0.1.0\", routes=app.routes)\n",
    "\n",
    "import collections\n",
    "\n",
    "paths = collections.OrderedDict()"
   ]
  },
  {
   "cell_type": "code",
   "execution_count": 7,
   "metadata": {
    "ExecuteTime": {
     "end_time": "2021-08-14T05:47:08.077457Z",
     "start_time": "2021-08-14T05:47:08.074792Z"
    }
   },
   "outputs": [],
   "source": [
    "example_text = \"Dan Will be deemed to have completed its delivery obligations before 2021-7-5 if in Niall's opinion, the Jeep Car satisfies the Acceptance Criteria, and Niall notifies Dan in writing that it is accepting the Jeep Car.\""
   ]
  },
  {
   "cell_type": "code",
   "execution_count": 8,
   "metadata": {
    "ExecuteTime": {
     "end_time": "2021-08-14T05:47:08.083700Z",
     "start_time": "2021-08-14T05:47:08.079353Z"
    }
   },
   "outputs": [],
   "source": [
    "@app.get(\"/model/label\", tags = [\"Status\"], status_code=status.HTTP_200_OK)\n",
    "def get_model_status():\n",
    "    return {\n",
    "        \"message\": \"get success\",\n",
    "        \"status\": \"re-training\",\n",
    "        \"step\": {\n",
    "            \"current\": 30,\n",
    "            \"total\": 50,\n",
    "        },\n",
    "        \"train-data-amount\": 2500,\n",
    "        \"affect-labels\": ['Party', 'Race', 'SpecialTerm', 'TemporalUnit', 'Time', 'Timezone', 'US_States']\n",
    "    }"
   ]
  },
  {
   "cell_type": "code",
   "execution_count": 9,
   "metadata": {
    "ExecuteTime": {
     "end_time": "2021-08-14T05:47:08.090084Z",
     "start_time": "2021-08-14T05:47:08.085576Z"
    }
   },
   "outputs": [],
   "source": [
    "@app.get(\"/model/template\", tags = [\"Status\"], status_code=status.HTTP_200_OK)\n",
    "def get_model_status():\n",
    "    return {\n",
    "        \"message\": \"get success\",\n",
    "        \"status\": \"re-training\",\n",
    "        \"step\": {\n",
    "            \"current\": 30,\n",
    "            \"total\": 50,\n",
    "        },\n",
    "        \"train-data-amount\": 2500,\n",
    "        \"affect-labels\": ['Party', 'Race', 'SpecialTerm', 'TemporalUnit', 'Time', 'Timezone', 'US_States']\n",
    "    }"
   ]
  },
  {
   "cell_type": "code",
   "execution_count": 10,
   "metadata": {
    "ExecuteTime": {
     "end_time": "2021-08-14T05:47:08.096819Z",
     "start_time": "2021-08-14T05:47:08.093275Z"
    }
   },
   "outputs": [],
   "source": [
    "class text_label_body(BaseModel):\n",
    "    text: str = example_text"
   ]
  },
  {
   "cell_type": "code",
   "execution_count": 11,
   "metadata": {
    "ExecuteTime": {
     "end_time": "2021-08-14T05:47:08.105332Z",
     "start_time": "2021-08-14T05:47:08.098658Z"
    }
   },
   "outputs": [],
   "source": [
    "@app.post(\"/model/label\", tags = [\"Predict\"], status_code=status.HTTP_200_OK)\n",
    "def text_label(data: text_label_body):\n",
    "    sen, pred, logits, logits_order = adapter_model.model_predict(adapter_model.model, data.text)\n",
    "    out_Tokens = []\n",
    "    for i, _ in enumerate(sen):\n",
    "        predictions = []\n",
    "        for j, _ in enumerate(logits_order):\n",
    "            predictions.append({\n",
    "                \"type\": logits_order[j],\n",
    "                \"confidence\": logits[i][j],\n",
    "            })\n",
    "        predictions.sort(key = lambda x: x[\"confidence\"], reverse=True)\n",
    "        out_Tokens.append({\n",
    "            \"token\": sen[i],\n",
    "            \"predictions\": predictions,\n",
    "        })\n",
    "    return out_Tokens"
   ]
  },
  {
   "cell_type": "code",
   "execution_count": 12,
   "metadata": {
    "ExecuteTime": {
     "end_time": "2021-08-14T05:47:08.112488Z",
     "start_time": "2021-08-14T05:47:08.107203Z"
    }
   },
   "outputs": [],
   "source": [
    "@app.post(\"/model/template\", tags = [\"Predict\"], status_code=status.HTTP_200_OK)\n",
    "def recommand_template(data: text_label_body):\n",
    "    return {\n",
    "        \"predict\": [\n",
    "            {\n",
    "                \"name\": \"Full Payment Upon Demand\",\n",
    "                \"confidence\": 0.9\n",
    "            },\n",
    "            {\n",
    "                \"name\": \"Acceptance of Delivery\",\n",
    "                \"confidence\": 0.8\n",
    "            },\n",
    "            {\n",
    "                \"name\": \"Copyright License\",\n",
    "                \"confidence\": 0.7\n",
    "            },\n",
    "            {\n",
    "                \"name\": \"Demand Forecast\",\n",
    "                \"confidence\": 0.6\n",
    "            },\n",
    "            {\n",
    "                \"name\": \"Eat Apples\",\n",
    "                \"confidence\": 0.5\n",
    "            },\n",
    "        ]\n",
    "    }"
   ]
  },
  {
   "cell_type": "code",
   "execution_count": 13,
   "metadata": {
    "ExecuteTime": {
     "end_time": "2021-08-14T05:47:08.117239Z",
     "start_time": "2021-08-14T05:47:08.114357Z"
    }
   },
   "outputs": [],
   "source": [
    "class suggest_best_practice_body(BaseModel):\n",
    "    text: str = example_text"
   ]
  },
  {
   "cell_type": "code",
   "execution_count": 14,
   "metadata": {
    "ExecuteTime": {
     "end_time": "2021-08-14T05:47:08.123071Z",
     "start_time": "2021-08-14T05:47:08.118898Z"
    }
   },
   "outputs": [],
   "source": [
    "@app.post(\"/model/suggestion\", tags = [\"Predict\"], status_code=status.HTTP_200_OK)\n",
    "def suggest_best_practice(data: suggest_best_practice_body):\n",
    "    return {\n",
    "        \"predict\": \"Not Finish Yet.\"\n",
    "    }"
   ]
  },
  {
   "cell_type": "code",
   "execution_count": 15,
   "metadata": {
    "ExecuteTime": {
     "end_time": "2021-08-14T05:47:08.130588Z",
     "start_time": "2021-08-14T05:47:08.124838Z"
    }
   },
   "outputs": [],
   "source": [
    "class update_data_body(BaseModel):\n",
    "    text: JSONArray = [\n",
    "        {\n",
    "            \"text\": \"Eason\",\n",
    "            \"label\": \"Party\"\n",
    "        },\n",
    "        {\n",
    "            \"text\": \"will\",\n",
    "            \"label\": \"O\"\n",
    "        },\n",
    "        {\n",
    "            \"text\": \"meet\",\n",
    "            \"label\": \"O\"\n",
    "        },\n",
    "        {\n",
    "            \"text\": \"Dan\",\n",
    "            \"label\": \"Party\"\n",
    "        },\n",
    "        {\n",
    "            \"text\": \"at\",\n",
    "            \"label\": \"O\"\n",
    "        },\n",
    "        {\n",
    "            \"text\": \"2021-08-04 18:00\",\n",
    "            \"label\": \"TemporalUnit\"\n",
    "        },\n",
    "        {\n",
    "            \"text\": \".\",\n",
    "            \"label\": \"O\"\n",
    "        },\n",
    "    ]"
   ]
  },
  {
   "cell_type": "code",
   "execution_count": 16,
   "metadata": {
    "ExecuteTime": {
     "end_time": "2021-08-14T05:47:08.147628Z",
     "start_time": "2021-08-14T05:47:08.133312Z"
    }
   },
   "outputs": [
    {
     "data": {
      "text/plain": [
       "dict_keys([])"
      ]
     },
     "execution_count": 16,
     "metadata": {},
     "output_type": "execute_result"
    }
   ],
   "source": [
    "openAPI[\"paths\"].keys()"
   ]
  },
  {
   "cell_type": "code",
   "execution_count": 17,
   "metadata": {
    "ExecuteTime": {
     "end_time": "2021-08-14T05:47:08.152891Z",
     "start_time": "2021-08-14T05:47:08.148906Z"
    }
   },
   "outputs": [
    {
     "data": {
      "text/plain": [
       "{'openapi': '3.0.2',\n",
       " 'info': {'title': 'FastAPI', 'version': '0.1.0'},\n",
       " 'paths': {}}"
      ]
     },
     "execution_count": 17,
     "metadata": {},
     "output_type": "execute_result"
    }
   ],
   "source": [
    "openAPI"
   ]
  },
  {
   "cell_type": "code",
   "execution_count": 18,
   "metadata": {
    "ExecuteTime": {
     "end_time": "2021-08-14T05:47:08.157657Z",
     "start_time": "2021-08-14T05:47:08.154183Z"
    }
   },
   "outputs": [],
   "source": [
    "@app.post(\"/data/label\", tags = [\"Optimize Data\"], status_code=status.HTTP_200_OK)\n",
    "def update_data(data: update_data_body):\n",
    "    return \"OK\""
   ]
  },
  {
   "cell_type": "code",
   "execution_count": 19,
   "metadata": {
    "ExecuteTime": {
     "end_time": "2021-08-14T05:47:08.162412Z",
     "start_time": "2021-08-14T05:47:08.159127Z"
    }
   },
   "outputs": [],
   "source": [
    "class update_template_data_body(BaseModel):\n",
    "    text: str = example_text\n",
    "    template: str = \"IP Payment\""
   ]
  },
  {
   "cell_type": "code",
   "execution_count": 20,
   "metadata": {
    "ExecuteTime": {
     "end_time": "2021-08-14T05:47:08.166922Z",
     "start_time": "2021-08-14T05:47:08.163663Z"
    }
   },
   "outputs": [],
   "source": [
    "@app.post(\"/data/template\", tags = [\"Optimize Data\"], status_code=status.HTTP_200_OK)\n",
    "def update_template_data(data: update_template_data_body):\n",
    "    return \"OK\""
   ]
  },
  {
   "cell_type": "code",
   "execution_count": 21,
   "metadata": {
    "ExecuteTime": {
     "end_time": "2021-08-14T05:47:08.170978Z",
     "start_time": "2021-08-14T05:47:08.168204Z"
    }
   },
   "outputs": [],
   "source": [
    "class update_suggestion_data_body(BaseModel):\n",
    "    text: str = \"Not Finish Yet\""
   ]
  },
  {
   "cell_type": "code",
   "execution_count": 22,
   "metadata": {
    "ExecuteTime": {
     "end_time": "2021-08-14T05:47:08.175754Z",
     "start_time": "2021-08-14T05:47:08.172294Z"
    }
   },
   "outputs": [],
   "source": [
    "@app.post(\"/data/suggestion\", tags = [\"Optimize Data\"], status_code=status.HTTP_200_OK)\n",
    "def update_suggestion_data(data: update_suggestion_data_body):\n",
    "    return \"OK\""
   ]
  },
  {
   "cell_type": "code",
   "execution_count": 23,
   "metadata": {
    "ExecuteTime": {
     "end_time": "2021-08-14T05:47:08.180155Z",
     "start_time": "2021-08-14T05:47:08.177088Z"
    }
   },
   "outputs": [],
   "source": [
    "@app.post(\"/model/suggestion:retrain\", tags = [\"ReTrain\"], status_code=status.HTTP_200_OK)\n",
    "def retrain_suggestion_model():\n",
    "    return {\n",
    "        \"message\": \"success, start retrain.\",\n",
    "        \"train-data-amount\": 2500,\n",
    "    }"
   ]
  },
  {
   "cell_type": "code",
   "execution_count": 24,
   "metadata": {
    "ExecuteTime": {
     "end_time": "2021-08-14T05:47:08.184798Z",
     "start_time": "2021-08-14T05:47:08.181518Z"
    }
   },
   "outputs": [],
   "source": [
    "@app.post(\"/model/template:retrain\", tags = [\"ReTrain\"], status_code=status.HTTP_200_OK)\n",
    "def retrain_template_model():\n",
    "    return {\n",
    "        \"message\": \"success, start retrain.\",\n",
    "        \"train-data-amount\": 2500,\n",
    "    }"
   ]
  },
  {
   "cell_type": "code",
   "execution_count": 25,
   "metadata": {
    "ExecuteTime": {
     "end_time": "2021-08-14T05:47:08.191050Z",
     "start_time": "2021-08-14T05:47:08.186569Z"
    }
   },
   "outputs": [],
   "source": [
    "@app.post(\"/model/label:retrain\", tags = [\"ReTrain\"], status_code=status.HTTP_200_OK)\n",
    "def retrain_model():\n",
    "    return {\n",
    "        \"message\": \"success, start retrain.\",\n",
    "        \"train-data-amount\": 2500,\n",
    "        \"affect-labels\": ['Party', 'Race', 'SpecialTerm', 'TemporalUnit', 'Time', 'Timezone', 'US_States']\n",
    "    }"
   ]
  },
  {
   "cell_type": "code",
   "execution_count": null,
   "metadata": {
    "ExecuteTime": {
     "end_time": "2021-08-04T00:24:01.732666Z",
     "start_time": "2021-08-04T00:24:01.728615Z"
    }
   },
   "outputs": [],
   "source": []
  },
  {
   "cell_type": "code",
   "execution_count": null,
   "metadata": {},
   "outputs": [],
   "source": []
  },
  {
   "cell_type": "code",
   "execution_count": null,
   "metadata": {
    "ExecuteTime": {
     "start_time": "2021-08-14T05:46:37.889Z"
    },
    "scrolled": true
   },
   "outputs": [
    {
     "name": "stderr",
     "output_type": "stream",
     "text": [
      "INFO:     Started server process [14479]\n",
      "INFO:     Waiting for application startup.\n",
      "INFO:     Application startup complete.\n",
      "INFO:     Uvicorn running on http://0.0.0.0:13537 (Press CTRL+C to quit)\n"
     ]
    },
    {
     "name": "stdout",
     "output_type": "stream",
     "text": [
      "INFO:     172.17.0.1:49952 - \"POST /model/label HTTP/1.0\" 200 OK\n",
      "INFO:     172.17.0.1:49964 - \"GET /docs HTTP/1.0\" 200 OK\n",
      "INFO:     172.17.0.1:49968 - \"GET /openapi.json HTTP/1.0\" 200 OK\n"
     ]
    }
   ],
   "source": [
    "if __name__ == \"__main__\":\n",
    "    import nest_asyncio\n",
    "    nest_asyncio.apply()\n",
    "    import uvicorn\n",
    "    uvicorn.run(app, host=\"0.0.0.0\", port=13537)\n",
    "    \n",
    "    "
   ]
  },
  {
   "cell_type": "code",
   "execution_count": null,
   "metadata": {},
   "outputs": [],
   "source": []
  }
 ],
 "metadata": {
  "hide_input": false,
  "kernelspec": {
   "display_name": "adapter",
   "language": "python",
   "name": "adapter"
  },
  "language_info": {
   "codemirror_mode": {
    "name": "ipython",
    "version": 3
   },
   "file_extension": ".py",
   "mimetype": "text/x-python",
   "name": "python",
   "nbconvert_exporter": "python",
   "pygments_lexer": "ipython3",
   "version": "3.7.10"
  },
  "varInspector": {
   "cols": {
    "lenName": 16,
    "lenType": 16,
    "lenVar": 40
   },
   "kernels_config": {
    "python": {
     "delete_cmd_postfix": "",
     "delete_cmd_prefix": "del ",
     "library": "var_list.py",
     "varRefreshCmd": "print(var_dic_list())"
    },
    "r": {
     "delete_cmd_postfix": ") ",
     "delete_cmd_prefix": "rm(",
     "library": "var_list.r",
     "varRefreshCmd": "cat(var_dic_list()) "
    }
   },
   "types_to_exclude": [
    "module",
    "function",
    "builtin_function_or_method",
    "instance",
    "_Feature"
   ],
   "window_display": false
  }
 },
 "nbformat": 4,
 "nbformat_minor": 4
}
