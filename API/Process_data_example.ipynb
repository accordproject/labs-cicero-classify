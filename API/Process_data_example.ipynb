{
 "cells": [
  {
   "cell_type": "code",
   "execution_count": 24,
   "metadata": {
    "ExecuteTime": {
     "end_time": "2021-08-23T00:52:06.454485Z",
     "start_time": "2021-08-23T00:52:05.756844Z"
    }
   },
   "outputs": [],
   "source": [
    "import pandas as pd\n",
    "\n",
    "df = pd.read_csv(\"./cache/NER_TRAINER_DATA_CATCH.csv\")"
   ]
  },
  {
   "cell_type": "code",
   "execution_count": 28,
   "metadata": {
    "ExecuteTime": {
     "end_time": "2021-08-23T00:52:26.305102Z",
     "start_time": "2021-08-23T00:52:26.201558Z"
    }
   },
   "outputs": [
    {
     "data": {
      "text/plain": [
       "['[', \"'\", 'O', \"'\", ']']"
      ]
     },
     "execution_count": 28,
     "metadata": {},
     "output_type": "execute_result"
    }
   ],
   "source": [
    "list(list(df.labels)[0])"
   ]
  },
  {
   "cell_type": "code",
   "execution_count": 1,
   "metadata": {
    "ExecuteTime": {
     "end_time": "2021-08-23T02:06:15.729007Z",
     "start_time": "2021-08-23T02:06:14.336548Z"
    }
   },
   "outputs": [],
   "source": [
    "from utils.trainer.NER import get_training_dataframe"
   ]
  },
  {
   "cell_type": "code",
   "execution_count": 4,
   "metadata": {
    "ExecuteTime": {
     "end_time": "2021-08-23T02:07:22.239120Z",
     "start_time": "2021-08-23T02:06:27.872403Z"
    }
   },
   "outputs": [
    {
     "name": "stdout",
     "output_type": "stream",
     "text": [
      "Reading Data from MongoDB...\n"
     ]
    },
    {
     "name": "stderr",
     "output_type": "stream",
     "text": [
      "100%|██████████████████████████████| 47960/47960 [00:51<00:00, 931.23it/s]\n"
     ]
    },
    {
     "name": "stdout",
     "output_type": "stream",
     "text": [
      "Loading Data to DataFrame\n"
     ]
    },
    {
     "name": "stderr",
     "output_type": "stream",
     "text": [
      "100%|█████████████████████████████████████| 20/20 [00:00<00:00, 30.05it/s]\n"
     ]
    },
    {
     "ename": "TypeError",
     "evalue": "unsupported operand type(s) for -: 'list' and 'list'",
     "output_type": "error",
     "traceback": [
      "\u001b[0;31m---------------------------------------------------------------------------\u001b[0m",
      "\u001b[0;31mTypeError\u001b[0m                                 Traceback (most recent call last)",
      "\u001b[0;32m/tmp/ipykernel_26147/2003195649.py\u001b[0m in \u001b[0;36m<module>\u001b[0;34m\u001b[0m\n\u001b[0;32m----> 1\u001b[0;31m \u001b[0mdf\u001b[0m \u001b[0;34m=\u001b[0m \u001b[0mget_training_dataframe\u001b[0m\u001b[0;34m(\u001b[0m\u001b[0;34m{\u001b[0m\u001b[0;34m}\u001b[0m\u001b[0;34m,\u001b[0m \u001b[0mcache\u001b[0m\u001b[0;34m=\u001b[0m\u001b[0;32mFalse\u001b[0m\u001b[0;34m)\u001b[0m\u001b[0;34m\u001b[0m\u001b[0;34m\u001b[0m\u001b[0m\n\u001b[0m",
      "\u001b[0;32m~/Python/GSoC_Accord/API/utils/trainer/NER.py\u001b[0m in \u001b[0;36mget_training_dataframe\u001b[0;34m(train_data_search_filter, cache)\u001b[0m\n\u001b[1;32m     73\u001b[0m     \u001b[0mfinal_df\u001b[0m\u001b[0;34m[\u001b[0m\u001b[0;34m\"cache_labels\"\u001b[0m\u001b[0;34m]\u001b[0m \u001b[0;34m=\u001b[0m \u001b[0mfinal_df\u001b[0m\u001b[0;34m[\u001b[0m\u001b[0;34m\"labels\"\u001b[0m\u001b[0;34m]\u001b[0m\u001b[0;34m.\u001b[0m\u001b[0mswifter\u001b[0m\u001b[0;34m.\u001b[0m\u001b[0mprogress_bar\u001b[0m\u001b[0;34m(\u001b[0m\u001b[0;32mFalse\u001b[0m\u001b[0;34m)\u001b[0m\u001b[0;34m.\u001b[0m\u001b[0mapply\u001b[0m\u001b[0;34m(\u001b[0m\u001b[0;32mlambda\u001b[0m \u001b[0mx\u001b[0m\u001b[0;34m:\u001b[0m \u001b[0;34m\"|\"\u001b[0m\u001b[0;34m.\u001b[0m\u001b[0mjoin\u001b[0m\u001b[0;34m(\u001b[0m\u001b[0mx\u001b[0m\u001b[0;34m)\u001b[0m\u001b[0;34m)\u001b[0m\u001b[0;34m\u001b[0m\u001b[0;34m\u001b[0m\u001b[0m\n\u001b[1;32m     74\u001b[0m     final_df.to_csv(NER_TRAINER_DATA_CATCH_FILE, index=False,\n\u001b[0;32m---> 75\u001b[0;31m                     columns = df_columns - [\"labels\"] + [\"cache_labels\"])\n\u001b[0m\u001b[1;32m     76\u001b[0m     \u001b[0;32mdel\u001b[0m \u001b[0mfinal_df\u001b[0m\u001b[0;34m[\u001b[0m\u001b[0;34m\"cache_labels\"\u001b[0m\u001b[0;34m]\u001b[0m\u001b[0;34m\u001b[0m\u001b[0;34m\u001b[0m\u001b[0m\n\u001b[1;32m     77\u001b[0m     config_col.update_one({\n",
      "\u001b[0;31mTypeError\u001b[0m: unsupported operand type(s) for -: 'list' and 'list'"
     ]
    }
   ],
   "source": [
    "df = get_training_dataframe({}, cache=False)"
   ]
  },
  {
   "cell_type": "code",
   "execution_count": null,
   "metadata": {},
   "outputs": [],
   "source": [
    "df"
   ]
  },
  {
   "cell_type": "code",
   "execution_count": 35,
   "metadata": {
    "ExecuteTime": {
     "end_time": "2021-08-23T02:33:57.892599Z",
     "start_time": "2021-08-23T02:33:57.890249Z"
    }
   },
   "outputs": [],
   "source": [
    "text = \"\"\"1 | E | [\"Party\"]\n",
    "1 | ason | [\"Party\"]\n",
    "1 | Ġis | [\"O\"]\n",
    "1 | ĠGood | [\"O\"]\n",
    "1 | . | [\"O\"]\"\"\""
   ]
  },
  {
   "cell_type": "code",
   "execution_count": 36,
   "metadata": {
    "ExecuteTime": {
     "end_time": "2021-08-23T02:33:57.954652Z",
     "start_time": "2021-08-23T02:33:57.948490Z"
    }
   },
   "outputs": [
    {
     "name": "stdout",
     "output_type": "stream",
     "text": [
      "'[\"Party\"]', '[\"Party\"]', '[\"O\"]', '[\"O\"]', '[\"O\"]', "
     ]
    }
   ],
   "source": [
    "for row in text.split(\"\\n\"):\n",
    "    print(f\"\"\"'{row.split(\" | \")[2]}'\"\"\", end = \", \")"
   ]
  },
  {
   "cell_type": "code",
   "execution_count": null,
   "metadata": {},
   "outputs": [],
   "source": []
  },
  {
   "cell_type": "code",
   "execution_count": 3,
   "metadata": {
    "ExecuteTime": {
     "end_time": "2021-08-23T02:06:26.284257Z",
     "start_time": "2021-08-23T02:06:26.266348Z"
    }
   },
   "outputs": [
    {
     "data": {
      "text/html": [
       "<div>\n",
       "<style scoped>\n",
       "    .dataframe tbody tr th:only-of-type {\n",
       "        vertical-align: middle;\n",
       "    }\n",
       "\n",
       "    .dataframe tbody tr th {\n",
       "        vertical-align: top;\n",
       "    }\n",
       "\n",
       "    .dataframe thead th {\n",
       "        text-align: right;\n",
       "    }\n",
       "</style>\n",
       "<table border=\"1\" class=\"dataframe\">\n",
       "  <thead>\n",
       "    <tr style=\"text-align: right;\">\n",
       "      <th></th>\n",
       "      <th>Sentence #</th>\n",
       "      <th>token</th>\n",
       "      <th>labels</th>\n",
       "    </tr>\n",
       "  </thead>\n",
       "  <tbody>\n",
       "    <tr>\n",
       "      <th>0</th>\n",
       "      <td>611c4180447a3d37c7285555</td>\n",
       "      <td>F</td>\n",
       "      <td>[O]</td>\n",
       "    </tr>\n",
       "    <tr>\n",
       "      <th>1</th>\n",
       "      <td>611c4180447a3d37c7285555</td>\n",
       "      <td>am</td>\n",
       "      <td>[O]</td>\n",
       "    </tr>\n",
       "    <tr>\n",
       "      <th>2</th>\n",
       "      <td>611c4180447a3d37c7285555</td>\n",
       "      <td>ilies</td>\n",
       "      <td>[O]</td>\n",
       "    </tr>\n",
       "    <tr>\n",
       "      <th>3</th>\n",
       "      <td>611c4180447a3d37c7285555</td>\n",
       "      <td>Ġof</td>\n",
       "      <td>[O]</td>\n",
       "    </tr>\n",
       "    <tr>\n",
       "      <th>4</th>\n",
       "      <td>611c4180447a3d37c7285555</td>\n",
       "      <td>Ġsoldiers</td>\n",
       "      <td>[O]</td>\n",
       "    </tr>\n",
       "    <tr>\n",
       "      <th>...</th>\n",
       "      <td>...</td>\n",
       "      <td>...</td>\n",
       "      <td>...</td>\n",
       "    </tr>\n",
       "    <tr>\n",
       "      <th>1181604</th>\n",
       "      <td>611cb621447a3d37c7288d6d</td>\n",
       "      <td>04</td>\n",
       "      <td>[TemporalUnit]</td>\n",
       "    </tr>\n",
       "    <tr>\n",
       "      <th>1181605</th>\n",
       "      <td>611cb621447a3d37c7288d6d</td>\n",
       "      <td>Ġ18</td>\n",
       "      <td>[TemporalUnit]</td>\n",
       "    </tr>\n",
       "    <tr>\n",
       "      <th>1181606</th>\n",
       "      <td>611cb621447a3d37c7288d6d</td>\n",
       "      <td>:</td>\n",
       "      <td>[TemporalUnit]</td>\n",
       "    </tr>\n",
       "    <tr>\n",
       "      <th>1181607</th>\n",
       "      <td>611cb621447a3d37c7288d6d</td>\n",
       "      <td>00</td>\n",
       "      <td>[TemporalUnit]</td>\n",
       "    </tr>\n",
       "    <tr>\n",
       "      <th>1181608</th>\n",
       "      <td>611cb621447a3d37c7288d6d</td>\n",
       "      <td>.</td>\n",
       "      <td>[O]</td>\n",
       "    </tr>\n",
       "  </tbody>\n",
       "</table>\n",
       "<p>1181609 rows × 3 columns</p>\n",
       "</div>"
      ],
      "text/plain": [
       "                       Sentence #      token          labels\n",
       "0        611c4180447a3d37c7285555          F             [O]\n",
       "1        611c4180447a3d37c7285555         am             [O]\n",
       "2        611c4180447a3d37c7285555      ilies             [O]\n",
       "3        611c4180447a3d37c7285555        Ġof             [O]\n",
       "4        611c4180447a3d37c7285555  Ġsoldiers             [O]\n",
       "...                           ...        ...             ...\n",
       "1181604  611cb621447a3d37c7288d6d         04  [TemporalUnit]\n",
       "1181605  611cb621447a3d37c7288d6d        Ġ18  [TemporalUnit]\n",
       "1181606  611cb621447a3d37c7288d6d          :  [TemporalUnit]\n",
       "1181607  611cb621447a3d37c7288d6d         00  [TemporalUnit]\n",
       "1181608  611cb621447a3d37c7288d6d          .             [O]\n",
       "\n",
       "[1181609 rows x 3 columns]"
      ]
     },
     "execution_count": 3,
     "metadata": {},
     "output_type": "execute_result"
    }
   ],
   "source": [
    "df"
   ]
  },
  {
   "cell_type": "code",
   "execution_count": 8,
   "metadata": {
    "ExecuteTime": {
     "end_time": "2021-08-23T01:38:10.656049Z",
     "start_time": "2021-08-23T01:38:10.653425Z"
    }
   },
   "outputs": [],
   "source": [
    "text = \"Eason will meet Dan at 2021-08-04 18:00.\""
   ]
  },
  {
   "cell_type": "code",
   "execution_count": null,
   "metadata": {},
   "outputs": [],
   "source": [
    "text"
   ]
  },
  {
   "cell_type": "code",
   "execution_count": 5,
   "metadata": {
    "ExecuteTime": {
     "end_time": "2021-08-23T01:33:55.552062Z",
     "start_time": "2021-08-23T01:33:55.541964Z"
    }
   },
   "outputs": [
    {
     "data": {
      "text/html": [
       "<div>\n",
       "<style scoped>\n",
       "    .dataframe tbody tr th:only-of-type {\n",
       "        vertical-align: middle;\n",
       "    }\n",
       "\n",
       "    .dataframe tbody tr th {\n",
       "        vertical-align: top;\n",
       "    }\n",
       "\n",
       "    .dataframe thead th {\n",
       "        text-align: right;\n",
       "    }\n",
       "</style>\n",
       "<table border=\"1\" class=\"dataframe\">\n",
       "  <thead>\n",
       "    <tr style=\"text-align: right;\">\n",
       "      <th></th>\n",
       "      <th>Sentence #</th>\n",
       "      <th>token</th>\n",
       "      <th>labels</th>\n",
       "    </tr>\n",
       "  </thead>\n",
       "  <tbody>\n",
       "    <tr>\n",
       "      <th>0</th>\n",
       "      <td>611c4180447a3d37c7285555</td>\n",
       "      <td>F</td>\n",
       "      <td>[O]</td>\n",
       "    </tr>\n",
       "    <tr>\n",
       "      <th>1</th>\n",
       "      <td>611c4180447a3d37c7285555</td>\n",
       "      <td>am</td>\n",
       "      <td>[O]</td>\n",
       "    </tr>\n",
       "    <tr>\n",
       "      <th>2</th>\n",
       "      <td>611c4180447a3d37c7285555</td>\n",
       "      <td>ilies</td>\n",
       "      <td>[O]</td>\n",
       "    </tr>\n",
       "    <tr>\n",
       "      <th>3</th>\n",
       "      <td>611c4180447a3d37c7285555</td>\n",
       "      <td>Ġof</td>\n",
       "      <td>[O]</td>\n",
       "    </tr>\n",
       "    <tr>\n",
       "      <th>4</th>\n",
       "      <td>611c4180447a3d37c7285555</td>\n",
       "      <td>Ġsoldiers</td>\n",
       "      <td>[O]</td>\n",
       "    </tr>\n",
       "    <tr>\n",
       "      <th>...</th>\n",
       "      <td>...</td>\n",
       "      <td>...</td>\n",
       "      <td>...</td>\n",
       "    </tr>\n",
       "    <tr>\n",
       "      <th>1181604</th>\n",
       "      <td>611cb621447a3d37c7288d6d</td>\n",
       "      <td>04</td>\n",
       "      <td>[TemporalUnit]</td>\n",
       "    </tr>\n",
       "    <tr>\n",
       "      <th>1181605</th>\n",
       "      <td>611cb621447a3d37c7288d6d</td>\n",
       "      <td>Ġ18</td>\n",
       "      <td>[TemporalUnit]</td>\n",
       "    </tr>\n",
       "    <tr>\n",
       "      <th>1181606</th>\n",
       "      <td>611cb621447a3d37c7288d6d</td>\n",
       "      <td>:</td>\n",
       "      <td>[TemporalUnit]</td>\n",
       "    </tr>\n",
       "    <tr>\n",
       "      <th>1181607</th>\n",
       "      <td>611cb621447a3d37c7288d6d</td>\n",
       "      <td>00</td>\n",
       "      <td>[TemporalUnit]</td>\n",
       "    </tr>\n",
       "    <tr>\n",
       "      <th>1181608</th>\n",
       "      <td>611cb621447a3d37c7288d6d</td>\n",
       "      <td>.</td>\n",
       "      <td>[O]</td>\n",
       "    </tr>\n",
       "  </tbody>\n",
       "</table>\n",
       "<p>1181609 rows × 3 columns</p>\n",
       "</div>"
      ],
      "text/plain": [
       "                       Sentence #      token          labels\n",
       "0        611c4180447a3d37c7285555          F             [O]\n",
       "1        611c4180447a3d37c7285555         am             [O]\n",
       "2        611c4180447a3d37c7285555      ilies             [O]\n",
       "3        611c4180447a3d37c7285555        Ġof             [O]\n",
       "4        611c4180447a3d37c7285555  Ġsoldiers             [O]\n",
       "...                           ...        ...             ...\n",
       "1181604  611cb621447a3d37c7288d6d         04  [TemporalUnit]\n",
       "1181605  611cb621447a3d37c7288d6d        Ġ18  [TemporalUnit]\n",
       "1181606  611cb621447a3d37c7288d6d          :  [TemporalUnit]\n",
       "1181607  611cb621447a3d37c7288d6d         00  [TemporalUnit]\n",
       "1181608  611cb621447a3d37c7288d6d          .             [O]\n",
       "\n",
       "[1181609 rows x 3 columns]"
      ]
     },
     "execution_count": 5,
     "metadata": {},
     "output_type": "execute_result"
    }
   ],
   "source": [
    "df"
   ]
  },
  {
   "cell_type": "code",
   "execution_count": 34,
   "metadata": {
    "ExecuteTime": {
     "end_time": "2021-08-23T01:29:26.953884Z",
     "start_time": "2021-08-23T01:29:26.951353Z"
    }
   },
   "outputs": [],
   "source": [
    "del df[\"cache_labels\"]"
   ]
  },
  {
   "cell_type": "code",
   "execution_count": 35,
   "metadata": {
    "ExecuteTime": {
     "end_time": "2021-08-23T01:29:27.740298Z",
     "start_time": "2021-08-23T01:29:27.702340Z"
    }
   },
   "outputs": [
    {
     "data": {
      "text/html": [
       "<div>\n",
       "<style scoped>\n",
       "    .dataframe tbody tr th:only-of-type {\n",
       "        vertical-align: middle;\n",
       "    }\n",
       "\n",
       "    .dataframe tbody tr th {\n",
       "        vertical-align: top;\n",
       "    }\n",
       "\n",
       "    .dataframe thead th {\n",
       "        text-align: right;\n",
       "    }\n",
       "</style>\n",
       "<table border=\"1\" class=\"dataframe\">\n",
       "  <thead>\n",
       "    <tr style=\"text-align: right;\">\n",
       "      <th></th>\n",
       "      <th>Sentence #</th>\n",
       "      <th>text</th>\n",
       "      <th>labels</th>\n",
       "    </tr>\n",
       "  </thead>\n",
       "  <tbody>\n",
       "    <tr>\n",
       "      <th>0</th>\n",
       "      <td>611c4180447a3d37c7285555</td>\n",
       "      <td>NaN</td>\n",
       "      <td>[O]</td>\n",
       "    </tr>\n",
       "    <tr>\n",
       "      <th>1</th>\n",
       "      <td>611c4180447a3d37c7285555</td>\n",
       "      <td>NaN</td>\n",
       "      <td>[O]</td>\n",
       "    </tr>\n",
       "    <tr>\n",
       "      <th>2</th>\n",
       "      <td>611c4180447a3d37c7285555</td>\n",
       "      <td>NaN</td>\n",
       "      <td>[O]</td>\n",
       "    </tr>\n",
       "    <tr>\n",
       "      <th>3</th>\n",
       "      <td>611c4180447a3d37c7285555</td>\n",
       "      <td>NaN</td>\n",
       "      <td>[O]</td>\n",
       "    </tr>\n",
       "    <tr>\n",
       "      <th>4</th>\n",
       "      <td>611c4180447a3d37c7285555</td>\n",
       "      <td>NaN</td>\n",
       "      <td>[O]</td>\n",
       "    </tr>\n",
       "    <tr>\n",
       "      <th>...</th>\n",
       "      <td>...</td>\n",
       "      <td>...</td>\n",
       "      <td>...</td>\n",
       "    </tr>\n",
       "    <tr>\n",
       "      <th>10</th>\n",
       "      <td>611cb621447a3d37c7288d6d</td>\n",
       "      <td>NaN</td>\n",
       "      <td>[TemporalUnit]</td>\n",
       "    </tr>\n",
       "    <tr>\n",
       "      <th>11</th>\n",
       "      <td>611cb621447a3d37c7288d6d</td>\n",
       "      <td>NaN</td>\n",
       "      <td>[TemporalUnit]</td>\n",
       "    </tr>\n",
       "    <tr>\n",
       "      <th>12</th>\n",
       "      <td>611cb621447a3d37c7288d6d</td>\n",
       "      <td>NaN</td>\n",
       "      <td>[TemporalUnit]</td>\n",
       "    </tr>\n",
       "    <tr>\n",
       "      <th>13</th>\n",
       "      <td>611cb621447a3d37c7288d6d</td>\n",
       "      <td>NaN</td>\n",
       "      <td>[TemporalUnit]</td>\n",
       "    </tr>\n",
       "    <tr>\n",
       "      <th>14</th>\n",
       "      <td>611cb621447a3d37c7288d6d</td>\n",
       "      <td>NaN</td>\n",
       "      <td>[O]</td>\n",
       "    </tr>\n",
       "  </tbody>\n",
       "</table>\n",
       "<p>1181609 rows × 3 columns</p>\n",
       "</div>"
      ],
      "text/plain": [
       "                  Sentence # text          labels\n",
       "0   611c4180447a3d37c7285555  NaN             [O]\n",
       "1   611c4180447a3d37c7285555  NaN             [O]\n",
       "2   611c4180447a3d37c7285555  NaN             [O]\n",
       "3   611c4180447a3d37c7285555  NaN             [O]\n",
       "4   611c4180447a3d37c7285555  NaN             [O]\n",
       "..                       ...  ...             ...\n",
       "10  611cb621447a3d37c7288d6d  NaN  [TemporalUnit]\n",
       "11  611cb621447a3d37c7288d6d  NaN  [TemporalUnit]\n",
       "12  611cb621447a3d37c7288d6d  NaN  [TemporalUnit]\n",
       "13  611cb621447a3d37c7288d6d  NaN  [TemporalUnit]\n",
       "14  611cb621447a3d37c7288d6d  NaN             [O]\n",
       "\n",
       "[1181609 rows x 3 columns]"
      ]
     },
     "execution_count": 35,
     "metadata": {},
     "output_type": "execute_result"
    }
   ],
   "source": [
    "df"
   ]
  },
  {
   "cell_type": "code",
   "execution_count": 26,
   "metadata": {
    "ExecuteTime": {
     "end_time": "2021-08-23T01:26:00.797126Z",
     "start_time": "2021-08-23T01:26:00.790802Z"
    }
   },
   "outputs": [],
   "source": [
    "df = dfs"
   ]
  },
  {
   "cell_type": "code",
   "execution_count": null,
   "metadata": {
    "ExecuteTime": {
     "end_time": "2021-08-23T01:24:54.252202Z",
     "start_time": "2021-08-23T01:24:54.209084Z"
    }
   },
   "outputs": [],
   "source": []
  },
  {
   "cell_type": "code",
   "execution_count": 29,
   "metadata": {
    "ExecuteTime": {
     "end_time": "2021-08-23T01:26:17.119671Z",
     "start_time": "2021-08-23T01:26:15.818869Z"
    },
    "scrolled": true
   },
   "outputs": [
    {
     "name": "stderr",
     "output_type": "stream",
     "text": [
      "/home/eason/anaconda3/envs/adapter/lib/python3.7/site-packages/swifter/swifter.py:37: UserWarning: This pandas object has duplicate indices, and swifter may not be able to improve performance. Consider resetting the indices with `df.reset_index(drop=True)`.\n",
      "  \"This pandas object has duplicate indices, and swifter may not be able to improve performance. Consider resetting the indices with `df.reset_index(drop=True)`.\"\n"
     ]
    }
   ],
   "source": []
  },
  {
   "cell_type": "code",
   "execution_count": 25,
   "metadata": {
    "ExecuteTime": {
     "end_time": "2021-08-23T01:25:41.745731Z",
     "start_time": "2021-08-23T01:25:41.721822Z"
    }
   },
   "outputs": [
    {
     "data": {
      "text/html": [
       "<div>\n",
       "<style scoped>\n",
       "    .dataframe tbody tr th:only-of-type {\n",
       "        vertical-align: middle;\n",
       "    }\n",
       "\n",
       "    .dataframe tbody tr th {\n",
       "        vertical-align: top;\n",
       "    }\n",
       "\n",
       "    .dataframe thead th {\n",
       "        text-align: right;\n",
       "    }\n",
       "</style>\n",
       "<table border=\"1\" class=\"dataframe\">\n",
       "  <thead>\n",
       "    <tr style=\"text-align: right;\">\n",
       "      <th></th>\n",
       "      <th>Sentence #</th>\n",
       "      <th>text</th>\n",
       "      <th>labels</th>\n",
       "    </tr>\n",
       "  </thead>\n",
       "  <tbody>\n",
       "    <tr>\n",
       "      <th>0</th>\n",
       "      <td>611c4180447a3d37c7285555</td>\n",
       "      <td>NaN</td>\n",
       "      <td>O</td>\n",
       "    </tr>\n",
       "    <tr>\n",
       "      <th>1</th>\n",
       "      <td>611c4180447a3d37c7285555</td>\n",
       "      <td>NaN</td>\n",
       "      <td>O</td>\n",
       "    </tr>\n",
       "    <tr>\n",
       "      <th>2</th>\n",
       "      <td>611c4180447a3d37c7285555</td>\n",
       "      <td>NaN</td>\n",
       "      <td>O</td>\n",
       "    </tr>\n",
       "    <tr>\n",
       "      <th>3</th>\n",
       "      <td>611c4180447a3d37c7285555</td>\n",
       "      <td>NaN</td>\n",
       "      <td>O</td>\n",
       "    </tr>\n",
       "    <tr>\n",
       "      <th>4</th>\n",
       "      <td>611c4180447a3d37c7285555</td>\n",
       "      <td>NaN</td>\n",
       "      <td>O</td>\n",
       "    </tr>\n",
       "    <tr>\n",
       "      <th>...</th>\n",
       "      <td>...</td>\n",
       "      <td>...</td>\n",
       "      <td>...</td>\n",
       "    </tr>\n",
       "    <tr>\n",
       "      <th>1181604</th>\n",
       "      <td>611cb621447a3d37c7288d6d</td>\n",
       "      <td>NaN</td>\n",
       "      <td>T|e|m|p|o|r|a|l|U|n|i|t</td>\n",
       "    </tr>\n",
       "    <tr>\n",
       "      <th>1181605</th>\n",
       "      <td>611cb621447a3d37c7288d6d</td>\n",
       "      <td>NaN</td>\n",
       "      <td>T|e|m|p|o|r|a|l|U|n|i|t</td>\n",
       "    </tr>\n",
       "    <tr>\n",
       "      <th>1181606</th>\n",
       "      <td>611cb621447a3d37c7288d6d</td>\n",
       "      <td>NaN</td>\n",
       "      <td>T|e|m|p|o|r|a|l|U|n|i|t</td>\n",
       "    </tr>\n",
       "    <tr>\n",
       "      <th>1181607</th>\n",
       "      <td>611cb621447a3d37c7288d6d</td>\n",
       "      <td>NaN</td>\n",
       "      <td>T|e|m|p|o|r|a|l|U|n|i|t</td>\n",
       "    </tr>\n",
       "    <tr>\n",
       "      <th>1181608</th>\n",
       "      <td>611cb621447a3d37c7288d6d</td>\n",
       "      <td>NaN</td>\n",
       "      <td>O</td>\n",
       "    </tr>\n",
       "  </tbody>\n",
       "</table>\n",
       "<p>1181609 rows × 3 columns</p>\n",
       "</div>"
      ],
      "text/plain": [
       "                       Sentence # text                   labels\n",
       "0        611c4180447a3d37c7285555  NaN                        O\n",
       "1        611c4180447a3d37c7285555  NaN                        O\n",
       "2        611c4180447a3d37c7285555  NaN                        O\n",
       "3        611c4180447a3d37c7285555  NaN                        O\n",
       "4        611c4180447a3d37c7285555  NaN                        O\n",
       "...                           ...  ...                      ...\n",
       "1181604  611cb621447a3d37c7288d6d  NaN  T|e|m|p|o|r|a|l|U|n|i|t\n",
       "1181605  611cb621447a3d37c7288d6d  NaN  T|e|m|p|o|r|a|l|U|n|i|t\n",
       "1181606  611cb621447a3d37c7288d6d  NaN  T|e|m|p|o|r|a|l|U|n|i|t\n",
       "1181607  611cb621447a3d37c7288d6d  NaN  T|e|m|p|o|r|a|l|U|n|i|t\n",
       "1181608  611cb621447a3d37c7288d6d  NaN                        O\n",
       "\n",
       "[1181609 rows x 3 columns]"
      ]
     },
     "execution_count": 25,
     "metadata": {},
     "output_type": "execute_result"
    }
   ],
   "source": [
    "df"
   ]
  },
  {
   "cell_type": "code",
   "execution_count": 16,
   "metadata": {
    "ExecuteTime": {
     "end_time": "2021-08-23T01:21:56.468636Z",
     "start_time": "2021-08-23T01:21:56.442232Z"
    }
   },
   "outputs": [
    {
     "data": {
      "text/html": [
       "<div>\n",
       "<style scoped>\n",
       "    .dataframe tbody tr th:only-of-type {\n",
       "        vertical-align: middle;\n",
       "    }\n",
       "\n",
       "    .dataframe tbody tr th {\n",
       "        vertical-align: top;\n",
       "    }\n",
       "\n",
       "    .dataframe thead th {\n",
       "        text-align: right;\n",
       "    }\n",
       "</style>\n",
       "<table border=\"1\" class=\"dataframe\">\n",
       "  <thead>\n",
       "    <tr style=\"text-align: right;\">\n",
       "      <th></th>\n",
       "      <th>Sentence #</th>\n",
       "      <th>text</th>\n",
       "      <th>labels</th>\n",
       "      <th>cache_labels</th>\n",
       "    </tr>\n",
       "  </thead>\n",
       "  <tbody>\n",
       "    <tr>\n",
       "      <th>16</th>\n",
       "      <td>611c4180447a3d37c7285554</td>\n",
       "      <td>NaN</td>\n",
       "      <td>[O]</td>\n",
       "      <td>O</td>\n",
       "    </tr>\n",
       "    <tr>\n",
       "      <th>17</th>\n",
       "      <td>611c4180447a3d37c7285554</td>\n",
       "      <td>NaN</td>\n",
       "      <td>[O]</td>\n",
       "      <td>O</td>\n",
       "    </tr>\n",
       "    <tr>\n",
       "      <th>18</th>\n",
       "      <td>611c4180447a3d37c7285554</td>\n",
       "      <td>NaN</td>\n",
       "      <td>[Race, B-gpe]</td>\n",
       "      <td>Race|B-gpe</td>\n",
       "    </tr>\n",
       "    <tr>\n",
       "      <th>19</th>\n",
       "      <td>611c4180447a3d37c7285554</td>\n",
       "      <td>NaN</td>\n",
       "      <td>[O]</td>\n",
       "      <td>O</td>\n",
       "    </tr>\n",
       "    <tr>\n",
       "      <th>20</th>\n",
       "      <td>611c4180447a3d37c7285554</td>\n",
       "      <td>NaN</td>\n",
       "      <td>[O]</td>\n",
       "      <td>O</td>\n",
       "    </tr>\n",
       "    <tr>\n",
       "      <th>21</th>\n",
       "      <td>611c4180447a3d37c7285554</td>\n",
       "      <td>NaN</td>\n",
       "      <td>[O]</td>\n",
       "      <td>O</td>\n",
       "    </tr>\n",
       "    <tr>\n",
       "      <th>22</th>\n",
       "      <td>611c4180447a3d37c7285554</td>\n",
       "      <td>NaN</td>\n",
       "      <td>[O]</td>\n",
       "      <td>O</td>\n",
       "    </tr>\n",
       "    <tr>\n",
       "      <th>23</th>\n",
       "      <td>611c4180447a3d37c7285554</td>\n",
       "      <td>NaN</td>\n",
       "      <td>[O]</td>\n",
       "      <td>O</td>\n",
       "    </tr>\n",
       "    <tr>\n",
       "      <th>0</th>\n",
       "      <td>611c4180ccdb1644916f5688</td>\n",
       "      <td>NaN</td>\n",
       "      <td>[O]</td>\n",
       "      <td>O</td>\n",
       "    </tr>\n",
       "    <tr>\n",
       "      <th>1</th>\n",
       "      <td>611c4180ccdb1644916f5688</td>\n",
       "      <td>NaN</td>\n",
       "      <td>[O]</td>\n",
       "      <td>O</td>\n",
       "    </tr>\n",
       "    <tr>\n",
       "      <th>2</th>\n",
       "      <td>611c4180ccdb1644916f5688</td>\n",
       "      <td>NaN</td>\n",
       "      <td>[O]</td>\n",
       "      <td>O</td>\n",
       "    </tr>\n",
       "    <tr>\n",
       "      <th>3</th>\n",
       "      <td>611c4180ccdb1644916f5688</td>\n",
       "      <td>NaN</td>\n",
       "      <td>[O]</td>\n",
       "      <td>O</td>\n",
       "    </tr>\n",
       "    <tr>\n",
       "      <th>4</th>\n",
       "      <td>611c4180ccdb1644916f5688</td>\n",
       "      <td>NaN</td>\n",
       "      <td>[O]</td>\n",
       "      <td>O</td>\n",
       "    </tr>\n",
       "    <tr>\n",
       "      <th>5</th>\n",
       "      <td>611c4180ccdb1644916f5688</td>\n",
       "      <td>NaN</td>\n",
       "      <td>[O]</td>\n",
       "      <td>O</td>\n",
       "    </tr>\n",
       "    <tr>\n",
       "      <th>6</th>\n",
       "      <td>611c4180ccdb1644916f5688</td>\n",
       "      <td>NaN</td>\n",
       "      <td>[O]</td>\n",
       "      <td>O</td>\n",
       "    </tr>\n",
       "    <tr>\n",
       "      <th>7</th>\n",
       "      <td>611c4180ccdb1644916f5688</td>\n",
       "      <td>NaN</td>\n",
       "      <td>[O]</td>\n",
       "      <td>O</td>\n",
       "    </tr>\n",
       "    <tr>\n",
       "      <th>8</th>\n",
       "      <td>611c4180ccdb1644916f5688</td>\n",
       "      <td>NaN</td>\n",
       "      <td>[O]</td>\n",
       "      <td>O</td>\n",
       "    </tr>\n",
       "    <tr>\n",
       "      <th>9</th>\n",
       "      <td>611c4180ccdb1644916f5688</td>\n",
       "      <td>NaN</td>\n",
       "      <td>[O]</td>\n",
       "      <td>O</td>\n",
       "    </tr>\n",
       "    <tr>\n",
       "      <th>10</th>\n",
       "      <td>611c4180ccdb1644916f5688</td>\n",
       "      <td>NaN</td>\n",
       "      <td>[O]</td>\n",
       "      <td>O</td>\n",
       "    </tr>\n",
       "    <tr>\n",
       "      <th>11</th>\n",
       "      <td>611c4180ccdb1644916f5688</td>\n",
       "      <td>NaN</td>\n",
       "      <td>[Location, Party, B-geo]</td>\n",
       "      <td>Location|Party|B-geo</td>\n",
       "    </tr>\n",
       "  </tbody>\n",
       "</table>\n",
       "</div>"
      ],
      "text/plain": [
       "                  Sentence # text                    labels  \\\n",
       "16  611c4180447a3d37c7285554  NaN                       [O]   \n",
       "17  611c4180447a3d37c7285554  NaN                       [O]   \n",
       "18  611c4180447a3d37c7285554  NaN             [Race, B-gpe]   \n",
       "19  611c4180447a3d37c7285554  NaN                       [O]   \n",
       "20  611c4180447a3d37c7285554  NaN                       [O]   \n",
       "21  611c4180447a3d37c7285554  NaN                       [O]   \n",
       "22  611c4180447a3d37c7285554  NaN                       [O]   \n",
       "23  611c4180447a3d37c7285554  NaN                       [O]   \n",
       "0   611c4180ccdb1644916f5688  NaN                       [O]   \n",
       "1   611c4180ccdb1644916f5688  NaN                       [O]   \n",
       "2   611c4180ccdb1644916f5688  NaN                       [O]   \n",
       "3   611c4180ccdb1644916f5688  NaN                       [O]   \n",
       "4   611c4180ccdb1644916f5688  NaN                       [O]   \n",
       "5   611c4180ccdb1644916f5688  NaN                       [O]   \n",
       "6   611c4180ccdb1644916f5688  NaN                       [O]   \n",
       "7   611c4180ccdb1644916f5688  NaN                       [O]   \n",
       "8   611c4180ccdb1644916f5688  NaN                       [O]   \n",
       "9   611c4180ccdb1644916f5688  NaN                       [O]   \n",
       "10  611c4180ccdb1644916f5688  NaN                       [O]   \n",
       "11  611c4180ccdb1644916f5688  NaN  [Location, Party, B-geo]   \n",
       "\n",
       "            cache_labels  \n",
       "16                     O  \n",
       "17                     O  \n",
       "18            Race|B-gpe  \n",
       "19                     O  \n",
       "20                     O  \n",
       "21                     O  \n",
       "22                     O  \n",
       "23                     O  \n",
       "0                      O  \n",
       "1                      O  \n",
       "2                      O  \n",
       "3                      O  \n",
       "4                      O  \n",
       "5                      O  \n",
       "6                      O  \n",
       "7                      O  \n",
       "8                      O  \n",
       "9                      O  \n",
       "10                     O  \n",
       "11  Location|Party|B-geo  "
      ]
     },
     "execution_count": 16,
     "metadata": {},
     "output_type": "execute_result"
    }
   ],
   "source": [
    "df[50:70]"
   ]
  },
  {
   "cell_type": "code",
   "execution_count": 10,
   "metadata": {
    "ExecuteTime": {
     "end_time": "2021-08-23T01:38:26.898292Z",
     "start_time": "2021-08-23T01:38:26.893334Z"
    }
   },
   "outputs": [],
   "source": [
    "from utils.tokenizer import tokenizer"
   ]
  },
  {
   "cell_type": "code",
   "execution_count": null,
   "metadata": {
    "ExecuteTime": {
     "end_time": "2021-08-23T01:38:25.635825Z",
     "start_time": "2021-08-23T01:38:25.635815Z"
    }
   },
   "outputs": [],
   "source": [
    "text = \"Eason will meet Dan at 2021-08-04 18:00.\""
   ]
  },
  {
   "cell_type": "code",
   "execution_count": 15,
   "metadata": {
    "ExecuteTime": {
     "end_time": "2021-08-23T01:39:36.938375Z",
     "start_time": "2021-08-23T01:39:36.928720Z"
    }
   },
   "outputs": [
    {
     "name": "stdout",
     "output_type": "stream",
     "text": [
      "'Eason', 'will', 'meet', 'Dan', 'at', '2021-08-04', '18:00.', "
     ]
    }
   ],
   "source": [
    "for i in text.split(\" \"):\n",
    "    print(f\"'{i}'\", end = \", \")"
   ]
  },
  {
   "cell_type": "code",
   "execution_count": null,
   "metadata": {},
   "outputs": [],
   "source": []
  },
  {
   "cell_type": "code",
   "execution_count": 33,
   "metadata": {
    "ExecuteTime": {
     "end_time": "2021-08-23T01:14:39.213067Z",
     "start_time": "2021-08-23T01:14:39.210132Z"
    }
   },
   "outputs": [],
   "source": [
    "dfs=origin_dfs\n",
    "origin_dfs = dfs"
   ]
  },
  {
   "cell_type": "code",
   "execution_count": 34,
   "metadata": {
    "ExecuteTime": {
     "end_time": "2021-08-23T01:14:39.392053Z",
     "start_time": "2021-08-23T01:14:39.388915Z"
    }
   },
   "outputs": [],
   "source": [
    "import pandas as pd\n",
    "from tqdm import tqdm\n",
    "df_columns = [\"Sentence #\", \"text\", \"labels\"]"
   ]
  },
  {
   "cell_type": "code",
   "execution_count": 35,
   "metadata": {
    "ExecuteTime": {
     "end_time": "2021-08-23T01:14:39.592450Z",
     "start_time": "2021-08-23T01:14:39.576087Z"
    }
   },
   "outputs": [],
   "source": [
    "new_dfs = []\n",
    "tmp_df = pd.DataFrame(columns = df_columns)\n"
   ]
  },
  {
   "cell_type": "code",
   "execution_count": 36,
   "metadata": {
    "ExecuteTime": {
     "end_time": "2021-08-23T01:14:39.757750Z",
     "start_time": "2021-08-23T01:14:39.733303Z"
    }
   },
   "outputs": [
    {
     "data": {
      "text/html": [
       "<div>\n",
       "<style scoped>\n",
       "    .dataframe tbody tr th:only-of-type {\n",
       "        vertical-align: middle;\n",
       "    }\n",
       "\n",
       "    .dataframe tbody tr th {\n",
       "        vertical-align: top;\n",
       "    }\n",
       "\n",
       "    .dataframe thead th {\n",
       "        text-align: right;\n",
       "    }\n",
       "</style>\n",
       "<table border=\"1\" class=\"dataframe\">\n",
       "  <thead>\n",
       "    <tr style=\"text-align: right;\">\n",
       "      <th></th>\n",
       "      <th>Sentence #</th>\n",
       "      <th>text</th>\n",
       "      <th>labels</th>\n",
       "    </tr>\n",
       "  </thead>\n",
       "  <tbody>\n",
       "  </tbody>\n",
       "</table>\n",
       "</div>"
      ],
      "text/plain": [
       "Empty DataFrame\n",
       "Columns: [Sentence #, text, labels]\n",
       "Index: []"
      ]
     },
     "execution_count": 36,
     "metadata": {},
     "output_type": "execute_result"
    }
   ],
   "source": [
    "tmp_df"
   ]
  },
  {
   "cell_type": "code",
   "execution_count": 40,
   "metadata": {
    "ExecuteTime": {
     "end_time": "2021-08-23T01:15:31.937101Z",
     "start_time": "2021-08-23T01:15:03.707129Z"
    }
   },
   "outputs": [
    {
     "name": "stderr",
     "output_type": "stream",
     "text": [
      "100%|███████████████████████████████████| 960/960 [00:28<00:00, 34.02it/s]\n"
     ]
    }
   ],
   "source": [
    "for i, df in enumerate(tqdm(dfs)):\n",
    "    if i%50 == 0:\n",
    "        if i != 0: new_dfs.append(tmp_df)\n",
    "        tmp_df = pd.DataFrame(columns = df_columns)\n",
    "    tmp_df = tmp_df.append(df)\n",
    "new_dfs.append(tmp_df)\n",
    "#dfs = new_dfs"
   ]
  },
  {
   "cell_type": "code",
   "execution_count": null,
   "metadata": {},
   "outputs": [],
   "source": []
  },
  {
   "cell_type": "code",
   "execution_count": 6,
   "metadata": {
    "ExecuteTime": {
     "end_time": "2021-08-23T02:18:19.038087Z",
     "start_time": "2021-08-23T02:18:19.035741Z"
    }
   },
   "outputs": [],
   "source": [
    "import pymongo"
   ]
  },
  {
   "cell_type": "code",
   "execution_count": 7,
   "metadata": {
    "ExecuteTime": {
     "end_time": "2021-08-23T02:18:19.165165Z",
     "start_time": "2021-08-23T02:18:19.161075Z"
    }
   },
   "outputs": [],
   "source": [
    "from core.config import MONGODB_URL, DATABASE_NAME, NER_LABEL_COLLECTION"
   ]
  },
  {
   "cell_type": "code",
   "execution_count": 8,
   "metadata": {
    "ExecuteTime": {
     "end_time": "2021-08-23T02:18:19.324589Z",
     "start_time": "2021-08-23T02:18:19.313070Z"
    }
   },
   "outputs": [],
   "source": [
    "col = pymongo.MongoClient(MONGODB_URL)[DATABASE_NAME][NER_LABEL_COLLECTION]"
   ]
  },
  {
   "cell_type": "code",
   "execution_count": 19,
   "metadata": {
    "ExecuteTime": {
     "end_time": "2021-08-23T02:27:25.279291Z",
     "start_time": "2021-08-23T02:27:25.238013Z"
    }
   },
   "outputs": [],
   "source": [
    "result = col.find_one({\"user\": \"example@gmail.com\"})"
   ]
  },
  {
   "cell_type": "code",
   "execution_count": 10,
   "metadata": {
    "ExecuteTime": {
     "end_time": "2021-08-23T02:18:19.768087Z",
     "start_time": "2021-08-23T02:18:19.747650Z"
    }
   },
   "outputs": [
    {
     "data": {
      "text/plain": [
       "[{'token': 'F', 'labels': ['O']},\n",
       " {'token': 'am', 'labels': ['O']},\n",
       " {'token': 'ilies', 'labels': ['O']},\n",
       " {'token': 'Ġof', 'labels': ['O']},\n",
       " {'token': 'Ġsoldiers', 'labels': ['O']},\n",
       " {'token': 'Ġkilled', 'labels': ['O']},\n",
       " {'token': 'Ġin', 'labels': ['O']},\n",
       " {'token': 'Ġthe', 'labels': ['O']},\n",
       " {'token': 'Ġconflict', 'labels': ['O']},\n",
       " {'token': 'Ġjoined', 'labels': ['O']},\n",
       " {'token': 'Ġthe', 'labels': ['O']},\n",
       " {'token': 'Ġprotesters', 'labels': ['O']},\n",
       " {'token': 'Ġwho', 'labels': ['O']},\n",
       " {'token': 'Ġcarried', 'labels': ['O']},\n",
       " {'token': 'Ġbanners', 'labels': ['O']},\n",
       " {'token': 'Ġwith', 'labels': ['O']},\n",
       " {'token': 'Ġsuch', 'labels': ['O']},\n",
       " {'token': 'Ġslogans', 'labels': ['O']},\n",
       " {'token': 'Ġas', 'labels': ['O']},\n",
       " {'token': 'Ġ\"', 'labels': ['O']},\n",
       " {'token': 'ĠBush', 'labels': ['Party', 'B-per']},\n",
       " {'token': 'ĠNumber', 'labels': ['O']},\n",
       " {'token': 'ĠOne', 'labels': ['O']},\n",
       " {'token': 'ĠTerror', 'labels': ['O']},\n",
       " {'token': 'ist', 'labels': ['O']},\n",
       " {'token': 'Ġ\"', 'labels': ['O']},\n",
       " {'token': 'Ġand', 'labels': ['O']},\n",
       " {'token': 'Ġ\"', 'labels': ['O']},\n",
       " {'token': 'ĠStop', 'labels': ['O']},\n",
       " {'token': 'Ġthe', 'labels': ['O']},\n",
       " {'token': 'ĠBomb', 'labels': ['O']},\n",
       " {'token': 'ings', 'labels': ['O']},\n",
       " {'token': 'Ġ.', 'labels': ['O']},\n",
       " {'token': '\"', 'labels': ['O']}]"
      ]
     },
     "execution_count": 10,
     "metadata": {},
     "output_type": "execute_result"
    }
   ],
   "source": [
    "result[\"token_and_labels\"]"
   ]
  },
  {
   "cell_type": "code",
   "execution_count": null,
   "metadata": {},
   "outputs": [],
   "source": []
  },
  {
   "cell_type": "code",
   "execution_count": 18,
   "metadata": {
    "ExecuteTime": {
     "end_time": "2021-08-23T02:24:29.090283Z",
     "start_time": "2021-08-23T02:24:29.083999Z"
    }
   },
   "outputs": [
    {
     "name": "stdout",
     "output_type": "stream",
     "text": [
      "1 | A | [\"O\"]\n",
      "1 | B | [\"O\"]\n",
      "1 | C | [\"O\"]\n"
     ]
    }
   ],
   "source": [
    "for i in range(3):\n",
    "    text = chr(ord(\"A\")+i)\n",
    "    print(f\"\"\"1 | {text} | [\"O\"]\"\"\")"
   ]
  },
  {
   "cell_type": "code",
   "execution_count": 22,
   "metadata": {
    "ExecuteTime": {
     "end_time": "2021-08-23T02:27:37.565890Z",
     "start_time": "2021-08-23T02:27:37.560695Z"
    }
   },
   "outputs": [
    {
     "name": "stdout",
     "output_type": "stream",
     "text": [
      "1 | E | Party|String\n",
      "1 | ason | Party|String\n",
      "1 | Ġwill | O\n",
      "1 | Ġmeet | O\n",
      "1 | ĠDan | Party|String\n",
      "1 | Ġat | O\n",
      "1 | Ġ2021 | TemporalUnit\n",
      "1 | - | TemporalUnit\n",
      "1 | 08 | TemporalUnit\n",
      "1 | - | TemporalUnit\n",
      "1 | 04 | TemporalUnit\n",
      "1 | Ġ18 | TemporalUnit\n",
      "1 | : | TemporalUnit\n",
      "1 | 00 | TemporalUnit\n",
      "1 | . | O\n"
     ]
    }
   ],
   "source": [
    "for row in result[\"token_and_labels\"]:\n",
    "    print(f\"\"\"{1} | {row[\"token\"]} | {\"|\".join(row[\"labels\"])}\"\"\")\n",
    "    #print(row)"
   ]
  },
  {
   "cell_type": "code",
   "execution_count": null,
   "metadata": {},
   "outputs": [],
   "source": []
  },
  {
   "cell_type": "code",
   "execution_count": null,
   "metadata": {},
   "outputs": [],
   "source": []
  }
 ],
 "metadata": {
  "kernelspec": {
   "display_name": "adapter",
   "language": "python",
   "name": "adapter"
  },
  "language_info": {
   "codemirror_mode": {
    "name": "ipython",
    "version": 3
   },
   "file_extension": ".py",
   "mimetype": "text/x-python",
   "name": "python",
   "nbconvert_exporter": "python",
   "pygments_lexer": "ipython3",
   "version": "3.7.10"
  }
 },
 "nbformat": 4,
 "nbformat_minor": 4
}
