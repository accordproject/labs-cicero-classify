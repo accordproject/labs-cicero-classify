{
 "cells": [
  {
   "cell_type": "code",
   "execution_count": 24,
   "metadata": {
    "ExecuteTime": {
     "end_time": "2021-08-23T00:52:06.454485Z",
     "start_time": "2021-08-23T00:52:05.756844Z"
    }
   },
   "outputs": [],
   "source": [
    "import pandas as pd\n",
    "\n",
    "df = pd.read_csv(\"./cache/NER_TRAINER_DATA_CATCH.csv\")"
   ]
  },
  {
   "cell_type": "code",
   "execution_count": 28,
   "metadata": {
    "ExecuteTime": {
     "end_time": "2021-08-23T00:52:26.305102Z",
     "start_time": "2021-08-23T00:52:26.201558Z"
    }
   },
   "outputs": [
    {
     "data": {
      "text/plain": [
       "['[', \"'\", 'O', \"'\", ']']"
      ]
     },
     "execution_count": 28,
     "metadata": {},
     "output_type": "execute_result"
    }
   ],
   "source": [
    "list(list(df.labels)[0])"
   ]
  },
  {
   "cell_type": "code",
   "execution_count": 1,
   "metadata": {
    "ExecuteTime": {
     "end_time": "2021-08-23T02:06:15.729007Z",
     "start_time": "2021-08-23T02:06:14.336548Z"
    }
   },
   "outputs": [],
   "source": [
    "from utils.trainer.NER import get_training_dataframe"
   ]
  },
  {
   "cell_type": "code",
   "execution_count": 4,
   "metadata": {
    "ExecuteTime": {
     "end_time": "2021-08-23T02:07:22.239120Z",
     "start_time": "2021-08-23T02:06:27.872403Z"
    }
   },
   "outputs": [
    {
     "name": "stdout",
     "output_type": "stream",
     "text": [
      "Reading Data from MongoDB...\n"
     ]
    },
    {
     "name": "stderr",
     "output_type": "stream",
     "text": [
      "100%|██████████████████████████████| 47960/47960 [00:51<00:00, 931.23it/s]\n"
     ]
    },
    {
     "name": "stdout",
     "output_type": "stream",
     "text": [
      "Loading Data to DataFrame\n"
     ]
    },
    {
     "name": "stderr",
     "output_type": "stream",
     "text": [
      "100%|█████████████████████████████████████| 20/20 [00:00<00:00, 30.05it/s]\n"
     ]
    },
    {
     "ename": "TypeError",
     "evalue": "unsupported operand type(s) for -: 'list' and 'list'",
     "output_type": "error",
     "traceback": [
      "\u001b[0;31m---------------------------------------------------------------------------\u001b[0m",
      "\u001b[0;31mTypeError\u001b[0m                                 Traceback (most recent call last)",
      "\u001b[0;32m/tmp/ipykernel_26147/2003195649.py\u001b[0m in \u001b[0;36m<module>\u001b[0;34m\u001b[0m\n\u001b[0;32m----> 1\u001b[0;31m \u001b[0mdf\u001b[0m \u001b[0;34m=\u001b[0m \u001b[0mget_training_dataframe\u001b[0m\u001b[0;34m(\u001b[0m\u001b[0;34m{\u001b[0m\u001b[0;34m}\u001b[0m\u001b[0;34m,\u001b[0m \u001b[0mcache\u001b[0m\u001b[0;34m=\u001b[0m\u001b[0;32mFalse\u001b[0m\u001b[0;34m)\u001b[0m\u001b[0;34m\u001b[0m\u001b[0;34m\u001b[0m\u001b[0m\n\u001b[0m",
      "\u001b[0;32m~/Python/GSoC_Accord/API/utils/trainer/NER.py\u001b[0m in \u001b[0;36mget_training_dataframe\u001b[0;34m(train_data_search_filter, cache)\u001b[0m\n\u001b[1;32m     73\u001b[0m     \u001b[0mfinal_df\u001b[0m\u001b[0;34m[\u001b[0m\u001b[0;34m\"cache_labels\"\u001b[0m\u001b[0;34m]\u001b[0m \u001b[0;34m=\u001b[0m \u001b[0mfinal_df\u001b[0m\u001b[0;34m[\u001b[0m\u001b[0;34m\"labels\"\u001b[0m\u001b[0;34m]\u001b[0m\u001b[0;34m.\u001b[0m\u001b[0mswifter\u001b[0m\u001b[0;34m.\u001b[0m\u001b[0mprogress_bar\u001b[0m\u001b[0;34m(\u001b[0m\u001b[0;32mFalse\u001b[0m\u001b[0;34m)\u001b[0m\u001b[0;34m.\u001b[0m\u001b[0mapply\u001b[0m\u001b[0;34m(\u001b[0m\u001b[0;32mlambda\u001b[0m \u001b[0mx\u001b[0m\u001b[0;34m:\u001b[0m \u001b[0;34m\"|\"\u001b[0m\u001b[0;34m.\u001b[0m\u001b[0mjoin\u001b[0m\u001b[0;34m(\u001b[0m\u001b[0mx\u001b[0m\u001b[0;34m)\u001b[0m\u001b[0;34m)\u001b[0m\u001b[0;34m\u001b[0m\u001b[0;34m\u001b[0m\u001b[0m\n\u001b[1;32m     74\u001b[0m     final_df.to_csv(NER_TRAINER_DATA_CATCH_FILE, index=False,\n\u001b[0;32m---> 75\u001b[0;31m                     columns = df_columns - [\"labels\"] + [\"cache_labels\"])\n\u001b[0m\u001b[1;32m     76\u001b[0m     \u001b[0;32mdel\u001b[0m \u001b[0mfinal_df\u001b[0m\u001b[0;34m[\u001b[0m\u001b[0;34m\"cache_labels\"\u001b[0m\u001b[0;34m]\u001b[0m\u001b[0;34m\u001b[0m\u001b[0;34m\u001b[0m\u001b[0m\n\u001b[1;32m     77\u001b[0m     config_col.update_one({\n",
      "\u001b[0;31mTypeError\u001b[0m: unsupported operand type(s) for -: 'list' and 'list'"
     ]
    }
   ],
   "source": [
    "df = get_training_dataframe({}, cache=False)"
   ]
  },
  {
   "cell_type": "code",
   "execution_count": null,
   "metadata": {},
   "outputs": [],
   "source": [
    "df"
   ]
  },
  {
   "cell_type": "code",
   "execution_count": 35,
   "metadata": {
    "ExecuteTime": {
     "end_time": "2021-08-23T02:33:57.892599Z",
     "start_time": "2021-08-23T02:33:57.890249Z"
    }
   },
   "outputs": [],
   "source": [
    "text = \"\"\"1 | E | [\"Party\"]\n",
    "1 | ason | [\"Party\"]\n",
    "1 | Ġis | [\"O\"]\n",
    "1 | ĠGood | [\"O\"]\n",
    "1 | . | [\"O\"]\"\"\""
   ]
  },
  {
   "cell_type": "code",
   "execution_count": 36,
   "metadata": {
    "ExecuteTime": {
     "end_time": "2021-08-23T02:33:57.954652Z",
     "start_time": "2021-08-23T02:33:57.948490Z"
    }
   },
   "outputs": [
    {
     "name": "stdout",
     "output_type": "stream",
     "text": [
      "'[\"Party\"]', '[\"Party\"]', '[\"O\"]', '[\"O\"]', '[\"O\"]', "
     ]
    }
   ],
   "source": [
    "for row in text.split(\"\\n\"):\n",
    "    print(f\"\"\"'{row.split(\" | \")[2]}'\"\"\", end = \", \")"
   ]
  },
  {
   "cell_type": "code",
   "execution_count": null,
   "metadata": {},
   "outputs": [],
   "source": []
  },
  {
   "cell_type": "code",
   "execution_count": 3,
   "metadata": {
    "ExecuteTime": {
     "end_time": "2021-08-23T02:06:26.284257Z",
     "start_time": "2021-08-23T02:06:26.266348Z"
    }
   },
   "outputs": [
    {
     "data": {
      "text/html": [
       "<div>\n",
       "<style scoped>\n",
       "    .dataframe tbody tr th:only-of-type {\n",
       "        vertical-align: middle;\n",
       "    }\n",
       "\n",
       "    .dataframe tbody tr th {\n",
       "        vertical-align: top;\n",
       "    }\n",
       "\n",
       "    .dataframe thead th {\n",
       "        text-align: right;\n",
       "    }\n",
       "</style>\n",
       "<table border=\"1\" class=\"dataframe\">\n",
       "  <thead>\n",
       "    <tr style=\"text-align: right;\">\n",
       "      <th></th>\n",
       "      <th>Sentence #</th>\n",
       "      <th>token</th>\n",
       "      <th>labels</th>\n",
       "    </tr>\n",
       "  </thead>\n",
       "  <tbody>\n",
       "    <tr>\n",
       "      <th>0</th>\n",
       "      <td>611c4180447a3d37c7285555</td>\n",
       "      <td>F</td>\n",
       "      <td>[O]</td>\n",
       "    </tr>\n",
       "    <tr>\n",
       "      <th>1</th>\n",
       "      <td>611c4180447a3d37c7285555</td>\n",
       "      <td>am</td>\n",
       "      <td>[O]</td>\n",
       "    </tr>\n",
       "    <tr>\n",
       "      <th>2</th>\n",
       "      <td>611c4180447a3d37c7285555</td>\n",
       "      <td>ilies</td>\n",
       "      <td>[O]</td>\n",
       "    </tr>\n",
       "    <tr>\n",
       "      <th>3</th>\n",
       "      <td>611c4180447a3d37c7285555</td>\n",
       "      <td>Ġof</td>\n",
       "      <td>[O]</td>\n",
       "    </tr>\n",
       "    <tr>\n",
       "      <th>4</th>\n",
       "      <td>611c4180447a3d37c7285555</td>\n",
       "      <td>Ġsoldiers</td>\n",
       "      <td>[O]</td>\n",
       "    </tr>\n",
       "    <tr>\n",
       "      <th>...</th>\n",
       "      <td>...</td>\n",
       "      <td>...</td>\n",
       "      <td>...</td>\n",
       "    </tr>\n",
       "    <tr>\n",
       "      <th>1181604</th>\n",
       "      <td>611cb621447a3d37c7288d6d</td>\n",
       "      <td>04</td>\n",
       "      <td>[TemporalUnit]</td>\n",
       "    </tr>\n",
       "    <tr>\n",
       "      <th>1181605</th>\n",
       "      <td>611cb621447a3d37c7288d6d</td>\n",
       "      <td>Ġ18</td>\n",
       "      <td>[TemporalUnit]</td>\n",
       "    </tr>\n",
       "    <tr>\n",
       "      <th>1181606</th>\n",
       "      <td>611cb621447a3d37c7288d6d</td>\n",
       "      <td>:</td>\n",
       "      <td>[TemporalUnit]</td>\n",
       "    </tr>\n",
       "    <tr>\n",
       "      <th>1181607</th>\n",
       "      <td>611cb621447a3d37c7288d6d</td>\n",
       "      <td>00</td>\n",
       "      <td>[TemporalUnit]</td>\n",
       "    </tr>\n",
       "    <tr>\n",
       "      <th>1181608</th>\n",
       "      <td>611cb621447a3d37c7288d6d</td>\n",
       "      <td>.</td>\n",
       "      <td>[O]</td>\n",
       "    </tr>\n",
       "  </tbody>\n",
       "</table>\n",
       "<p>1181609 rows × 3 columns</p>\n",
       "</div>"
      ],
      "text/plain": [
       "                       Sentence #      token          labels\n",
       "0        611c4180447a3d37c7285555          F             [O]\n",
       "1        611c4180447a3d37c7285555         am             [O]\n",
       "2        611c4180447a3d37c7285555      ilies             [O]\n",
       "3        611c4180447a3d37c7285555        Ġof             [O]\n",
       "4        611c4180447a3d37c7285555  Ġsoldiers             [O]\n",
       "...                           ...        ...             ...\n",
       "1181604  611cb621447a3d37c7288d6d         04  [TemporalUnit]\n",
       "1181605  611cb621447a3d37c7288d6d        Ġ18  [TemporalUnit]\n",
       "1181606  611cb621447a3d37c7288d6d          :  [TemporalUnit]\n",
       "1181607  611cb621447a3d37c7288d6d         00  [TemporalUnit]\n",
       "1181608  611cb621447a3d37c7288d6d          .             [O]\n",
       "\n",
       "[1181609 rows x 3 columns]"
      ]
     },
     "execution_count": 3,
     "metadata": {},
     "output_type": "execute_result"
    }
   ],
   "source": [
    "df"
   ]
  },
  {
   "cell_type": "code",
   "execution_count": 8,
   "metadata": {
    "ExecuteTime": {
     "end_time": "2021-08-23T01:38:10.656049Z",
     "start_time": "2021-08-23T01:38:10.653425Z"
    }
   },
   "outputs": [],
   "source": [
    "text = \"Eason will meet Dan at 2021-08-04 18:00.\""
   ]
  },
  {
   "cell_type": "code",
   "execution_count": null,
   "metadata": {},
   "outputs": [],
   "source": [
    "text"
   ]
  },
  {
   "cell_type": "code",
   "execution_count": 5,
   "metadata": {
    "ExecuteTime": {
     "end_time": "2021-08-23T01:33:55.552062Z",
     "start_time": "2021-08-23T01:33:55.541964Z"
    }
   },
   "outputs": [
    {
     "data": {
      "text/html": [
       "<div>\n",
       "<style scoped>\n",
       "    .dataframe tbody tr th:only-of-type {\n",
       "        vertical-align: middle;\n",
       "    }\n",
       "\n",
       "    .dataframe tbody tr th {\n",
       "        vertical-align: top;\n",
       "    }\n",
       "\n",
       "    .dataframe thead th {\n",
       "        text-align: right;\n",
       "    }\n",
       "</style>\n",
       "<table border=\"1\" class=\"dataframe\">\n",
       "  <thead>\n",
       "    <tr style=\"text-align: right;\">\n",
       "      <th></th>\n",
       "      <th>Sentence #</th>\n",
       "      <th>token</th>\n",
       "      <th>labels</th>\n",
       "    </tr>\n",
       "  </thead>\n",
       "  <tbody>\n",
       "    <tr>\n",
       "      <th>0</th>\n",
       "      <td>611c4180447a3d37c7285555</td>\n",
       "      <td>F</td>\n",
       "      <td>[O]</td>\n",
       "    </tr>\n",
       "    <tr>\n",
       "      <th>1</th>\n",
       "      <td>611c4180447a3d37c7285555</td>\n",
       "      <td>am</td>\n",
       "      <td>[O]</td>\n",
       "    </tr>\n",
       "    <tr>\n",
       "      <th>2</th>\n",
       "      <td>611c4180447a3d37c7285555</td>\n",
       "      <td>ilies</td>\n",
       "      <td>[O]</td>\n",
       "    </tr>\n",
       "    <tr>\n",
       "      <th>3</th>\n",
       "      <td>611c4180447a3d37c7285555</td>\n",
       "      <td>Ġof</td>\n",
       "      <td>[O]</td>\n",
       "    </tr>\n",
       "    <tr>\n",
       "      <th>4</th>\n",
       "      <td>611c4180447a3d37c7285555</td>\n",
       "      <td>Ġsoldiers</td>\n",
       "      <td>[O]</td>\n",
       "    </tr>\n",
       "    <tr>\n",
       "      <th>...</th>\n",
       "      <td>...</td>\n",
       "      <td>...</td>\n",
       "      <td>...</td>\n",
       "    </tr>\n",
       "    <tr>\n",
       "      <th>1181604</th>\n",
       "      <td>611cb621447a3d37c7288d6d</td>\n",
       "      <td>04</td>\n",
       "      <td>[TemporalUnit]</td>\n",
       "    </tr>\n",
       "    <tr>\n",
       "      <th>1181605</th>\n",
       "      <td>611cb621447a3d37c7288d6d</td>\n",
       "      <td>Ġ18</td>\n",
       "      <td>[TemporalUnit]</td>\n",
       "    </tr>\n",
       "    <tr>\n",
       "      <th>1181606</th>\n",
       "      <td>611cb621447a3d37c7288d6d</td>\n",
       "      <td>:</td>\n",
       "      <td>[TemporalUnit]</td>\n",
       "    </tr>\n",
       "    <tr>\n",
       "      <th>1181607</th>\n",
       "      <td>611cb621447a3d37c7288d6d</td>\n",
       "      <td>00</td>\n",
       "      <td>[TemporalUnit]</td>\n",
       "    </tr>\n",
       "    <tr>\n",
       "      <th>1181608</th>\n",
       "      <td>611cb621447a3d37c7288d6d</td>\n",
       "      <td>.</td>\n",
       "      <td>[O]</td>\n",
       "    </tr>\n",
       "  </tbody>\n",
       "</table>\n",
       "<p>1181609 rows × 3 columns</p>\n",
       "</div>"
      ],
      "text/plain": [
       "                       Sentence #      token          labels\n",
       "0        611c4180447a3d37c7285555          F             [O]\n",
       "1        611c4180447a3d37c7285555         am             [O]\n",
       "2        611c4180447a3d37c7285555      ilies             [O]\n",
       "3        611c4180447a3d37c7285555        Ġof             [O]\n",
       "4        611c4180447a3d37c7285555  Ġsoldiers             [O]\n",
       "...                           ...        ...             ...\n",
       "1181604  611cb621447a3d37c7288d6d         04  [TemporalUnit]\n",
       "1181605  611cb621447a3d37c7288d6d        Ġ18  [TemporalUnit]\n",
       "1181606  611cb621447a3d37c7288d6d          :  [TemporalUnit]\n",
       "1181607  611cb621447a3d37c7288d6d         00  [TemporalUnit]\n",
       "1181608  611cb621447a3d37c7288d6d          .             [O]\n",
       "\n",
       "[1181609 rows x 3 columns]"
      ]
     },
     "execution_count": 5,
     "metadata": {},
     "output_type": "execute_result"
    }
   ],
   "source": [
    "df"
   ]
  },
  {
   "cell_type": "code",
   "execution_count": 34,
   "metadata": {
    "ExecuteTime": {
     "end_time": "2021-08-23T01:29:26.953884Z",
     "start_time": "2021-08-23T01:29:26.951353Z"
    }
   },
   "outputs": [],
   "source": [
    "del df[\"cache_labels\"]"
   ]
  },
  {
   "cell_type": "code",
   "execution_count": 35,
   "metadata": {
    "ExecuteTime": {
     "end_time": "2021-08-23T01:29:27.740298Z",
     "start_time": "2021-08-23T01:29:27.702340Z"
    }
   },
   "outputs": [
    {
     "data": {
      "text/html": [
       "<div>\n",
       "<style scoped>\n",
       "    .dataframe tbody tr th:only-of-type {\n",
       "        vertical-align: middle;\n",
       "    }\n",
       "\n",
       "    .dataframe tbody tr th {\n",
       "        vertical-align: top;\n",
       "    }\n",
       "\n",
       "    .dataframe thead th {\n",
       "        text-align: right;\n",
       "    }\n",
       "</style>\n",
       "<table border=\"1\" class=\"dataframe\">\n",
       "  <thead>\n",
       "    <tr style=\"text-align: right;\">\n",
       "      <th></th>\n",
       "      <th>Sentence #</th>\n",
       "      <th>text</th>\n",
       "      <th>labels</th>\n",
       "    </tr>\n",
       "  </thead>\n",
       "  <tbody>\n",
       "    <tr>\n",
       "      <th>0</th>\n",
       "      <td>611c4180447a3d37c7285555</td>\n",
       "      <td>NaN</td>\n",
       "      <td>[O]</td>\n",
       "    </tr>\n",
       "    <tr>\n",
       "      <th>1</th>\n",
       "      <td>611c4180447a3d37c7285555</td>\n",
       "      <td>NaN</td>\n",
       "      <td>[O]</td>\n",
       "    </tr>\n",
       "    <tr>\n",
       "      <th>2</th>\n",
       "      <td>611c4180447a3d37c7285555</td>\n",
       "      <td>NaN</td>\n",
       "      <td>[O]</td>\n",
       "    </tr>\n",
       "    <tr>\n",
       "      <th>3</th>\n",
       "      <td>611c4180447a3d37c7285555</td>\n",
       "      <td>NaN</td>\n",
       "      <td>[O]</td>\n",
       "    </tr>\n",
       "    <tr>\n",
       "      <th>4</th>\n",
       "      <td>611c4180447a3d37c7285555</td>\n",
       "      <td>NaN</td>\n",
       "      <td>[O]</td>\n",
       "    </tr>\n",
       "    <tr>\n",
       "      <th>...</th>\n",
       "      <td>...</td>\n",
       "      <td>...</td>\n",
       "      <td>...</td>\n",
       "    </tr>\n",
       "    <tr>\n",
       "      <th>10</th>\n",
       "      <td>611cb621447a3d37c7288d6d</td>\n",
       "      <td>NaN</td>\n",
       "      <td>[TemporalUnit]</td>\n",
       "    </tr>\n",
       "    <tr>\n",
       "      <th>11</th>\n",
       "      <td>611cb621447a3d37c7288d6d</td>\n",
       "      <td>NaN</td>\n",
       "      <td>[TemporalUnit]</td>\n",
       "    </tr>\n",
       "    <tr>\n",
       "      <th>12</th>\n",
       "      <td>611cb621447a3d37c7288d6d</td>\n",
       "      <td>NaN</td>\n",
       "      <td>[TemporalUnit]</td>\n",
       "    </tr>\n",
       "    <tr>\n",
       "      <th>13</th>\n",
       "      <td>611cb621447a3d37c7288d6d</td>\n",
       "      <td>NaN</td>\n",
       "      <td>[TemporalUnit]</td>\n",
       "    </tr>\n",
       "    <tr>\n",
       "      <th>14</th>\n",
       "      <td>611cb621447a3d37c7288d6d</td>\n",
       "      <td>NaN</td>\n",
       "      <td>[O]</td>\n",
       "    </tr>\n",
       "  </tbody>\n",
       "</table>\n",
       "<p>1181609 rows × 3 columns</p>\n",
       "</div>"
      ],
      "text/plain": [
       "                  Sentence # text          labels\n",
       "0   611c4180447a3d37c7285555  NaN             [O]\n",
       "1   611c4180447a3d37c7285555  NaN             [O]\n",
       "2   611c4180447a3d37c7285555  NaN             [O]\n",
       "3   611c4180447a3d37c7285555  NaN             [O]\n",
       "4   611c4180447a3d37c7285555  NaN             [O]\n",
       "..                       ...  ...             ...\n",
       "10  611cb621447a3d37c7288d6d  NaN  [TemporalUnit]\n",
       "11  611cb621447a3d37c7288d6d  NaN  [TemporalUnit]\n",
       "12  611cb621447a3d37c7288d6d  NaN  [TemporalUnit]\n",
       "13  611cb621447a3d37c7288d6d  NaN  [TemporalUnit]\n",
       "14  611cb621447a3d37c7288d6d  NaN             [O]\n",
       "\n",
       "[1181609 rows x 3 columns]"
      ]
     },
     "execution_count": 35,
     "metadata": {},
     "output_type": "execute_result"
    }
   ],
   "source": [
    "df"
   ]
  },
  {
   "cell_type": "code",
   "execution_count": 26,
   "metadata": {
    "ExecuteTime": {
     "end_time": "2021-08-23T01:26:00.797126Z",
     "start_time": "2021-08-23T01:26:00.790802Z"
    }
   },
   "outputs": [],
   "source": [
    "df = dfs"
   ]
  },
  {
   "cell_type": "code",
   "execution_count": null,
   "metadata": {
    "ExecuteTime": {
     "end_time": "2021-08-23T01:24:54.252202Z",
     "start_time": "2021-08-23T01:24:54.209084Z"
    }
   },
   "outputs": [],
   "source": []
  },
  {
   "cell_type": "code",
   "execution_count": 29,
   "metadata": {
    "ExecuteTime": {
     "end_time": "2021-08-23T01:26:17.119671Z",
     "start_time": "2021-08-23T01:26:15.818869Z"
    },
    "scrolled": true
   },
   "outputs": [
    {
     "name": "stderr",
     "output_type": "stream",
     "text": [
      "/home/eason/anaconda3/envs/adapter/lib/python3.7/site-packages/swifter/swifter.py:37: UserWarning: This pandas object has duplicate indices, and swifter may not be able to improve performance. Consider resetting the indices with `df.reset_index(drop=True)`.\n",
      "  \"This pandas object has duplicate indices, and swifter may not be able to improve performance. Consider resetting the indices with `df.reset_index(drop=True)`.\"\n"
     ]
    }
   ],
   "source": []
  },
  {
   "cell_type": "code",
   "execution_count": 25,
   "metadata": {
    "ExecuteTime": {
     "end_time": "2021-08-23T01:25:41.745731Z",
     "start_time": "2021-08-23T01:25:41.721822Z"
    }
   },
   "outputs": [
    {
     "data": {
      "text/html": [
       "<div>\n",
       "<style scoped>\n",
       "    .dataframe tbody tr th:only-of-type {\n",
       "        vertical-align: middle;\n",
       "    }\n",
       "\n",
       "    .dataframe tbody tr th {\n",
       "        vertical-align: top;\n",
       "    }\n",
       "\n",
       "    .dataframe thead th {\n",
       "        text-align: right;\n",
       "    }\n",
       "</style>\n",
       "<table border=\"1\" class=\"dataframe\">\n",
       "  <thead>\n",
       "    <tr style=\"text-align: right;\">\n",
       "      <th></th>\n",
       "      <th>Sentence #</th>\n",
       "      <th>text</th>\n",
       "      <th>labels</th>\n",
       "    </tr>\n",
       "  </thead>\n",
       "  <tbody>\n",
       "    <tr>\n",
       "      <th>0</th>\n",
       "      <td>611c4180447a3d37c7285555</td>\n",
       "      <td>NaN</td>\n",
       "      <td>O</td>\n",
       "    </tr>\n",
       "    <tr>\n",
       "      <th>1</th>\n",
       "      <td>611c4180447a3d37c7285555</td>\n",
       "      <td>NaN</td>\n",
       "      <td>O</td>\n",
       "    </tr>\n",
       "    <tr>\n",
       "      <th>2</th>\n",
       "      <td>611c4180447a3d37c7285555</td>\n",
       "      <td>NaN</td>\n",
       "      <td>O</td>\n",
       "    </tr>\n",
       "    <tr>\n",
       "      <th>3</th>\n",
       "      <td>611c4180447a3d37c7285555</td>\n",
       "      <td>NaN</td>\n",
       "      <td>O</td>\n",
       "    </tr>\n",
       "    <tr>\n",
       "      <th>4</th>\n",
       "      <td>611c4180447a3d37c7285555</td>\n",
       "      <td>NaN</td>\n",
       "      <td>O</td>\n",
       "    </tr>\n",
       "    <tr>\n",
       "      <th>...</th>\n",
       "      <td>...</td>\n",
       "      <td>...</td>\n",
       "      <td>...</td>\n",
       "    </tr>\n",
       "    <tr>\n",
       "      <th>1181604</th>\n",
       "      <td>611cb621447a3d37c7288d6d</td>\n",
       "      <td>NaN</td>\n",
       "      <td>T|e|m|p|o|r|a|l|U|n|i|t</td>\n",
       "    </tr>\n",
       "    <tr>\n",
       "      <th>1181605</th>\n",
       "      <td>611cb621447a3d37c7288d6d</td>\n",
       "      <td>NaN</td>\n",
       "      <td>T|e|m|p|o|r|a|l|U|n|i|t</td>\n",
       "    </tr>\n",
       "    <tr>\n",
       "      <th>1181606</th>\n",
       "      <td>611cb621447a3d37c7288d6d</td>\n",
       "      <td>NaN</td>\n",
       "      <td>T|e|m|p|o|r|a|l|U|n|i|t</td>\n",
       "    </tr>\n",
       "    <tr>\n",
       "      <th>1181607</th>\n",
       "      <td>611cb621447a3d37c7288d6d</td>\n",
       "      <td>NaN</td>\n",
       "      <td>T|e|m|p|o|r|a|l|U|n|i|t</td>\n",
       "    </tr>\n",
       "    <tr>\n",
       "      <th>1181608</th>\n",
       "      <td>611cb621447a3d37c7288d6d</td>\n",
       "      <td>NaN</td>\n",
       "      <td>O</td>\n",
       "    </tr>\n",
       "  </tbody>\n",
       "</table>\n",
       "<p>1181609 rows × 3 columns</p>\n",
       "</div>"
      ],
      "text/plain": [
       "                       Sentence # text                   labels\n",
       "0        611c4180447a3d37c7285555  NaN                        O\n",
       "1        611c4180447a3d37c7285555  NaN                        O\n",
       "2        611c4180447a3d37c7285555  NaN                        O\n",
       "3        611c4180447a3d37c7285555  NaN                        O\n",
       "4        611c4180447a3d37c7285555  NaN                        O\n",
       "...                           ...  ...                      ...\n",
       "1181604  611cb621447a3d37c7288d6d  NaN  T|e|m|p|o|r|a|l|U|n|i|t\n",
       "1181605  611cb621447a3d37c7288d6d  NaN  T|e|m|p|o|r|a|l|U|n|i|t\n",
       "1181606  611cb621447a3d37c7288d6d  NaN  T|e|m|p|o|r|a|l|U|n|i|t\n",
       "1181607  611cb621447a3d37c7288d6d  NaN  T|e|m|p|o|r|a|l|U|n|i|t\n",
       "1181608  611cb621447a3d37c7288d6d  NaN                        O\n",
       "\n",
       "[1181609 rows x 3 columns]"
      ]
     },
     "execution_count": 25,
     "metadata": {},
     "output_type": "execute_result"
    }
   ],
   "source": [
    "df"
   ]
  },
  {
   "cell_type": "code",
   "execution_count": 16,
   "metadata": {
    "ExecuteTime": {
     "end_time": "2021-08-23T01:21:56.468636Z",
     "start_time": "2021-08-23T01:21:56.442232Z"
    }
   },
   "outputs": [
    {
     "data": {
      "text/html": [
       "<div>\n",
       "<style scoped>\n",
       "    .dataframe tbody tr th:only-of-type {\n",
       "        vertical-align: middle;\n",
       "    }\n",
       "\n",
       "    .dataframe tbody tr th {\n",
       "        vertical-align: top;\n",
       "    }\n",
       "\n",
       "    .dataframe thead th {\n",
       "        text-align: right;\n",
       "    }\n",
       "</style>\n",
       "<table border=\"1\" class=\"dataframe\">\n",
       "  <thead>\n",
       "    <tr style=\"text-align: right;\">\n",
       "      <th></th>\n",
       "      <th>Sentence #</th>\n",
       "      <th>text</th>\n",
       "      <th>labels</th>\n",
       "      <th>cache_labels</th>\n",
       "    </tr>\n",
       "  </thead>\n",
       "  <tbody>\n",
       "    <tr>\n",
       "      <th>16</th>\n",
       "      <td>611c4180447a3d37c7285554</td>\n",
       "      <td>NaN</td>\n",
       "      <td>[O]</td>\n",
       "      <td>O</td>\n",
       "    </tr>\n",
       "    <tr>\n",
       "      <th>17</th>\n",
       "      <td>611c4180447a3d37c7285554</td>\n",
       "      <td>NaN</td>\n",
       "      <td>[O]</td>\n",
       "      <td>O</td>\n",
       "    </tr>\n",
       "    <tr>\n",
       "      <th>18</th>\n",
       "      <td>611c4180447a3d37c7285554</td>\n",
       "      <td>NaN</td>\n",
       "      <td>[Race, B-gpe]</td>\n",
       "      <td>Race|B-gpe</td>\n",
       "    </tr>\n",
       "    <tr>\n",
       "      <th>19</th>\n",
       "      <td>611c4180447a3d37c7285554</td>\n",
       "      <td>NaN</td>\n",
       "      <td>[O]</td>\n",
       "      <td>O</td>\n",
       "    </tr>\n",
       "    <tr>\n",
       "      <th>20</th>\n",
       "      <td>611c4180447a3d37c7285554</td>\n",
       "      <td>NaN</td>\n",
       "      <td>[O]</td>\n",
       "      <td>O</td>\n",
       "    </tr>\n",
       "    <tr>\n",
       "      <th>21</th>\n",
       "      <td>611c4180447a3d37c7285554</td>\n",
       "      <td>NaN</td>\n",
       "      <td>[O]</td>\n",
       "      <td>O</td>\n",
       "    </tr>\n",
       "    <tr>\n",
       "      <th>22</th>\n",
       "      <td>611c4180447a3d37c7285554</td>\n",
       "      <td>NaN</td>\n",
       "      <td>[O]</td>\n",
       "      <td>O</td>\n",
       "    </tr>\n",
       "    <tr>\n",
       "      <th>23</th>\n",
       "      <td>611c4180447a3d37c7285554</td>\n",
       "      <td>NaN</td>\n",
       "      <td>[O]</td>\n",
       "      <td>O</td>\n",
       "    </tr>\n",
       "    <tr>\n",
       "      <th>0</th>\n",
       "      <td>611c4180ccdb1644916f5688</td>\n",
       "      <td>NaN</td>\n",
       "      <td>[O]</td>\n",
       "      <td>O</td>\n",
       "    </tr>\n",
       "    <tr>\n",
       "      <th>1</th>\n",
       "      <td>611c4180ccdb1644916f5688</td>\n",
       "      <td>NaN</td>\n",
       "      <td>[O]</td>\n",
       "      <td>O</td>\n",
       "    </tr>\n",
       "    <tr>\n",
       "      <th>2</th>\n",
       "      <td>611c4180ccdb1644916f5688</td>\n",
       "      <td>NaN</td>\n",
       "      <td>[O]</td>\n",
       "      <td>O</td>\n",
       "    </tr>\n",
       "    <tr>\n",
       "      <th>3</th>\n",
       "      <td>611c4180ccdb1644916f5688</td>\n",
       "      <td>NaN</td>\n",
       "      <td>[O]</td>\n",
       "      <td>O</td>\n",
       "    </tr>\n",
       "    <tr>\n",
       "      <th>4</th>\n",
       "      <td>611c4180ccdb1644916f5688</td>\n",
       "      <td>NaN</td>\n",
       "      <td>[O]</td>\n",
       "      <td>O</td>\n",
       "    </tr>\n",
       "    <tr>\n",
       "      <th>5</th>\n",
       "      <td>611c4180ccdb1644916f5688</td>\n",
       "      <td>NaN</td>\n",
       "      <td>[O]</td>\n",
       "      <td>O</td>\n",
       "    </tr>\n",
       "    <tr>\n",
       "      <th>6</th>\n",
       "      <td>611c4180ccdb1644916f5688</td>\n",
       "      <td>NaN</td>\n",
       "      <td>[O]</td>\n",
       "      <td>O</td>\n",
       "    </tr>\n",
       "    <tr>\n",
       "      <th>7</th>\n",
       "      <td>611c4180ccdb1644916f5688</td>\n",
       "      <td>NaN</td>\n",
       "      <td>[O]</td>\n",
       "      <td>O</td>\n",
       "    </tr>\n",
       "    <tr>\n",
       "      <th>8</th>\n",
       "      <td>611c4180ccdb1644916f5688</td>\n",
       "      <td>NaN</td>\n",
       "      <td>[O]</td>\n",
       "      <td>O</td>\n",
       "    </tr>\n",
       "    <tr>\n",
       "      <th>9</th>\n",
       "      <td>611c4180ccdb1644916f5688</td>\n",
       "      <td>NaN</td>\n",
       "      <td>[O]</td>\n",
       "      <td>O</td>\n",
       "    </tr>\n",
       "    <tr>\n",
       "      <th>10</th>\n",
       "      <td>611c4180ccdb1644916f5688</td>\n",
       "      <td>NaN</td>\n",
       "      <td>[O]</td>\n",
       "      <td>O</td>\n",
       "    </tr>\n",
       "    <tr>\n",
       "      <th>11</th>\n",
       "      <td>611c4180ccdb1644916f5688</td>\n",
       "      <td>NaN</td>\n",
       "      <td>[Location, Party, B-geo]</td>\n",
       "      <td>Location|Party|B-geo</td>\n",
       "    </tr>\n",
       "  </tbody>\n",
       "</table>\n",
       "</div>"
      ],
      "text/plain": [
       "                  Sentence # text                    labels  \\\n",
       "16  611c4180447a3d37c7285554  NaN                       [O]   \n",
       "17  611c4180447a3d37c7285554  NaN                       [O]   \n",
       "18  611c4180447a3d37c7285554  NaN             [Race, B-gpe]   \n",
       "19  611c4180447a3d37c7285554  NaN                       [O]   \n",
       "20  611c4180447a3d37c7285554  NaN                       [O]   \n",
       "21  611c4180447a3d37c7285554  NaN                       [O]   \n",
       "22  611c4180447a3d37c7285554  NaN                       [O]   \n",
       "23  611c4180447a3d37c7285554  NaN                       [O]   \n",
       "0   611c4180ccdb1644916f5688  NaN                       [O]   \n",
       "1   611c4180ccdb1644916f5688  NaN                       [O]   \n",
       "2   611c4180ccdb1644916f5688  NaN                       [O]   \n",
       "3   611c4180ccdb1644916f5688  NaN                       [O]   \n",
       "4   611c4180ccdb1644916f5688  NaN                       [O]   \n",
       "5   611c4180ccdb1644916f5688  NaN                       [O]   \n",
       "6   611c4180ccdb1644916f5688  NaN                       [O]   \n",
       "7   611c4180ccdb1644916f5688  NaN                       [O]   \n",
       "8   611c4180ccdb1644916f5688  NaN                       [O]   \n",
       "9   611c4180ccdb1644916f5688  NaN                       [O]   \n",
       "10  611c4180ccdb1644916f5688  NaN                       [O]   \n",
       "11  611c4180ccdb1644916f5688  NaN  [Location, Party, B-geo]   \n",
       "\n",
       "            cache_labels  \n",
       "16                     O  \n",
       "17                     O  \n",
       "18            Race|B-gpe  \n",
       "19                     O  \n",
       "20                     O  \n",
       "21                     O  \n",
       "22                     O  \n",
       "23                     O  \n",
       "0                      O  \n",
       "1                      O  \n",
       "2                      O  \n",
       "3                      O  \n",
       "4                      O  \n",
       "5                      O  \n",
       "6                      O  \n",
       "7                      O  \n",
       "8                      O  \n",
       "9                      O  \n",
       "10                     O  \n",
       "11  Location|Party|B-geo  "
      ]
     },
     "execution_count": 16,
     "metadata": {},
     "output_type": "execute_result"
    }
   ],
   "source": [
    "df[50:70]"
   ]
  },
  {
   "cell_type": "code",
   "execution_count": 10,
   "metadata": {
    "ExecuteTime": {
     "end_time": "2021-08-23T01:38:26.898292Z",
     "start_time": "2021-08-23T01:38:26.893334Z"
    }
   },
   "outputs": [],
   "source": [
    "from utils.tokenizer import tokenizer"
   ]
  },
  {
   "cell_type": "code",
   "execution_count": null,
   "metadata": {
    "ExecuteTime": {
     "end_time": "2021-08-23T01:38:25.635825Z",
     "start_time": "2021-08-23T01:38:25.635815Z"
    }
   },
   "outputs": [],
   "source": [
    "text = \"Eason will meet Dan at 2021-08-04 18:00.\""
   ]
  },
  {
   "cell_type": "code",
   "execution_count": 15,
   "metadata": {
    "ExecuteTime": {
     "end_time": "2021-08-23T01:39:36.938375Z",
     "start_time": "2021-08-23T01:39:36.928720Z"
    }
   },
   "outputs": [
    {
     "name": "stdout",
     "output_type": "stream",
     "text": [
      "'Eason', 'will', 'meet', 'Dan', 'at', '2021-08-04', '18:00.', "
     ]
    }
   ],
   "source": [
    "for i in text.split(\" \"):\n",
    "    print(f\"'{i}'\", end = \", \")"
   ]
  },
  {
   "cell_type": "code",
   "execution_count": null,
   "metadata": {},
   "outputs": [],
   "source": []
  },
  {
   "cell_type": "code",
   "execution_count": 33,
   "metadata": {
    "ExecuteTime": {
     "end_time": "2021-08-23T01:14:39.213067Z",
     "start_time": "2021-08-23T01:14:39.210132Z"
    }
   },
   "outputs": [],
   "source": [
    "dfs=origin_dfs\n",
    "origin_dfs = dfs"
   ]
  },
  {
   "cell_type": "code",
   "execution_count": 34,
   "metadata": {
    "ExecuteTime": {
     "end_time": "2021-08-23T01:14:39.392053Z",
     "start_time": "2021-08-23T01:14:39.388915Z"
    }
   },
   "outputs": [],
   "source": [
    "import pandas as pd\n",
    "from tqdm import tqdm\n",
    "df_columns = [\"Sentence #\", \"text\", \"labels\"]"
   ]
  },
  {
   "cell_type": "code",
   "execution_count": 35,
   "metadata": {
    "ExecuteTime": {
     "end_time": "2021-08-23T01:14:39.592450Z",
     "start_time": "2021-08-23T01:14:39.576087Z"
    }
   },
   "outputs": [],
   "source": [
    "new_dfs = []\n",
    "tmp_df = pd.DataFrame(columns = df_columns)\n"
   ]
  },
  {
   "cell_type": "code",
   "execution_count": 36,
   "metadata": {
    "ExecuteTime": {
     "end_time": "2021-08-23T01:14:39.757750Z",
     "start_time": "2021-08-23T01:14:39.733303Z"
    }
   },
   "outputs": [
    {
     "data": {
      "text/html": [
       "<div>\n",
       "<style scoped>\n",
       "    .dataframe tbody tr th:only-of-type {\n",
       "        vertical-align: middle;\n",
       "    }\n",
       "\n",
       "    .dataframe tbody tr th {\n",
       "        vertical-align: top;\n",
       "    }\n",
       "\n",
       "    .dataframe thead th {\n",
       "        text-align: right;\n",
       "    }\n",
       "</style>\n",
       "<table border=\"1\" class=\"dataframe\">\n",
       "  <thead>\n",
       "    <tr style=\"text-align: right;\">\n",
       "      <th></th>\n",
       "      <th>Sentence #</th>\n",
       "      <th>text</th>\n",
       "      <th>labels</th>\n",
       "    </tr>\n",
       "  </thead>\n",
       "  <tbody>\n",
       "  </tbody>\n",
       "</table>\n",
       "</div>"
      ],
      "text/plain": [
       "Empty DataFrame\n",
       "Columns: [Sentence #, text, labels]\n",
       "Index: []"
      ]
     },
     "execution_count": 36,
     "metadata": {},
     "output_type": "execute_result"
    }
   ],
   "source": [
    "tmp_df"
   ]
  },
  {
   "cell_type": "code",
   "execution_count": 40,
   "metadata": {
    "ExecuteTime": {
     "end_time": "2021-08-23T01:15:31.937101Z",
     "start_time": "2021-08-23T01:15:03.707129Z"
    }
   },
   "outputs": [
    {
     "name": "stderr",
     "output_type": "stream",
     "text": [
      "100%|███████████████████████████████████| 960/960 [00:28<00:00, 34.02it/s]\n"
     ]
    }
   ],
   "source": [
    "for i, df in enumerate(tqdm(dfs)):\n",
    "    if i%50 == 0:\n",
    "        if i != 0: new_dfs.append(tmp_df)\n",
    "        tmp_df = pd.DataFrame(columns = df_columns)\n",
    "    tmp_df = tmp_df.append(df)\n",
    "new_dfs.append(tmp_df)\n",
    "#dfs = new_dfs"
   ]
  },
  {
   "cell_type": "code",
   "execution_count": null,
   "metadata": {},
   "outputs": [],
   "source": []
  },
  {
   "cell_type": "code",
   "execution_count": 37,
   "metadata": {
    "ExecuteTime": {
     "end_time": "2021-08-24T01:09:56.263115Z",
     "start_time": "2021-08-24T01:09:56.254833Z"
    }
   },
   "outputs": [],
   "source": [
    "import pymongo"
   ]
  },
  {
   "cell_type": "code",
   "execution_count": 40,
   "metadata": {
    "ExecuteTime": {
     "end_time": "2021-08-24T01:10:32.072108Z",
     "start_time": "2021-08-24T01:10:32.065786Z"
    }
   },
   "outputs": [],
   "source": [
    "from core.config import MONGODB_URL, DATABASE_NAME, LABEL_COLLECTION"
   ]
  },
  {
   "cell_type": "code",
   "execution_count": 42,
   "metadata": {
    "ExecuteTime": {
     "end_time": "2021-08-24T01:10:35.496127Z",
     "start_time": "2021-08-24T01:10:35.491168Z"
    }
   },
   "outputs": [],
   "source": [
    "col = pymongo.MongoClient(MONGODB_URL)[DATABASE_NAME][LABEL_COLLECTION]"
   ]
  },
  {
   "cell_type": "code",
   "execution_count": 45,
   "metadata": {
    "ExecuteTime": {
     "end_time": "2021-08-24T01:11:21.770647Z",
     "start_time": "2021-08-24T01:11:21.766987Z"
    }
   },
   "outputs": [
    {
     "data": {
      "text/plain": [
       "'Labels'"
      ]
     },
     "execution_count": 45,
     "metadata": {},
     "output_type": "execute_result"
    }
   ],
   "source": [
    "LABEL_COLLECTION"
   ]
  },
  {
   "cell_type": "code",
   "execution_count": 74,
   "metadata": {
    "ExecuteTime": {
     "end_time": "2021-08-24T01:22:34.154492Z",
     "start_time": "2021-08-24T01:22:34.143774Z"
    }
   },
   "outputs": [],
   "source": [
    "#results = list(col.find())"
   ]
  },
  {
   "cell_type": "code",
   "execution_count": 78,
   "metadata": {
    "ExecuteTime": {
     "end_time": "2021-08-24T02:56:24.154141Z",
     "start_time": "2021-08-24T02:56:24.132524Z"
    }
   },
   "outputs": [
    {
     "data": {
      "text/plain": [
       "[{'_id': ObjectId('6120d87b559f576b78afdb1e'),\n",
       "  'user': 'eason.tw.chen@gmail.com',\n",
       "  'label_name': 'O',\n",
       "  'inherit': [],\n",
       "  'alias_as': [],\n",
       "  'comment': 'This is the default label in CONLL dataset.',\n",
       "  'tags': ['default'],\n",
       "  'adapter': {'current_adapter_filename': 'O_epoch_3_2021-08-22T19:50:48',\n",
       "   'training_status': 'done',\n",
       "   'history': [{'adapter_filename': 'O_epoch_3_2021-08-21T18:45:50',\n",
       "     'time': datetime.datetime(2021, 8, 21, 19, 0, 47, 610000)},\n",
       "    {'adapter_filename': 'O_epoch_1_2021-08-21T18:45:50',\n",
       "     'time': datetime.datetime(2021, 8, 21, 19, 20, 33, 940000)},\n",
       "    {'adapter_filename': 'O_epoch_3_2021-08-22T06:36:18',\n",
       "     'time': datetime.datetime(2021, 8, 22, 9, 41, 53, 703000)},\n",
       "    {'adapter_filename': 'O_epoch_1_2021-08-22T19:32:36',\n",
       "     'time': datetime.datetime(2021, 8, 22, 19, 33, 39, 30000)},\n",
       "    {'adapter_filename': 'O_epoch_1_2021-08-22T19:36:33',\n",
       "     'time': datetime.datetime(2021, 8, 22, 19, 37, 36, 701000)},\n",
       "    {'adapter_filename': 'O_epoch_1_2021-08-22T19:39:07',\n",
       "     'time': datetime.datetime(2021, 8, 22, 19, 40, 11, 587000)},\n",
       "    {'adapter_filename': 'O_epoch_1_2021-08-22T19:39:07',\n",
       "     'time': datetime.datetime(2021, 8, 22, 19, 40, 16, 477000)},\n",
       "    {'adapter_filename': 'O_epoch_1_2021-08-22T19:50:48',\n",
       "     'time': datetime.datetime(2021, 8, 22, 19, 56, 20, 990000)},\n",
       "    {'adapter_filename': 'O_epoch_3_2021-08-22T19:50:48',\n",
       "     'time': datetime.datetime(2021, 8, 22, 20, 12, 17, 541000)}],\n",
       "   'update_time': datetime.datetime(2021, 8, 22, 20, 12, 17, 541000)},\n",
       "  'TimeStamp': datetime.datetime(2021, 8, 21, 18, 42, 3, 396000)},\n",
       " {'_id': ObjectId('6120d87b559f576b78afdb1f'),\n",
       "  'user': 'eason.tw.chen@gmail.com',\n",
       "  'label_name': 'B-art',\n",
       "  'inherit': [],\n",
       "  'alias_as': [],\n",
       "  'comment': 'This is the default label in CONLL dataset.',\n",
       "  'tags': ['default'],\n",
       "  'adapter': {'current_adapter_filename': 'B-art_epoch_3_2021-08-22T19:50:48',\n",
       "   'training_status': 'done',\n",
       "   'history': [{'adapter_filename': 'B-art_epoch_3_2021-08-21T18:45:50',\n",
       "     'time': datetime.datetime(2021, 8, 21, 19, 15, 34, 221000)},\n",
       "    {'adapter_filename': 'B-art_epoch_1_2021-08-21T18:45:50',\n",
       "     'time': datetime.datetime(2021, 8, 21, 19, 25, 33, 678000)},\n",
       "    {'adapter_filename': 'B-art_epoch_3_2021-08-22T06:36:18',\n",
       "     'time': datetime.datetime(2021, 8, 22, 9, 57, 40, 894000)},\n",
       "    {'adapter_filename': 'B-art_epoch_3_2021-08-22T19:50:48',\n",
       "     'time': datetime.datetime(2021, 8, 22, 20, 28, 40, 266000)}],\n",
       "   'update_time': datetime.datetime(2021, 8, 22, 20, 28, 40, 266000)},\n",
       "  'TimeStamp': datetime.datetime(2021, 8, 21, 18, 42, 3, 452000)},\n",
       " {'_id': ObjectId('6120d87b559f576b78afdb20'),\n",
       "  'user': 'eason.tw.chen@gmail.com',\n",
       "  'label_name': 'I-org',\n",
       "  'inherit': [],\n",
       "  'alias_as': [],\n",
       "  'comment': 'This is the default label in CONLL dataset.',\n",
       "  'tags': ['default'],\n",
       "  'adapter': {'current_adapter_filename': 'I-org_epoch_3_2021-08-22T19:50:48',\n",
       "   'training_status': 'done',\n",
       "   'history': [{'adapter_filename': 'I-org_epoch_1_2021-08-21T18:45:50',\n",
       "     'time': datetime.datetime(2021, 8, 21, 19, 30, 35, 367000)},\n",
       "    {'adapter_filename': 'I-org_epoch_3_2021-08-22T06:36:18',\n",
       "     'time': datetime.datetime(2021, 8, 22, 10, 13, 25, 367000)},\n",
       "    {'adapter_filename': 'I-org_epoch_3_2021-08-22T19:50:48',\n",
       "     'time': datetime.datetime(2021, 8, 22, 20, 44, 48, 738000)}],\n",
       "   'update_time': datetime.datetime(2021, 8, 22, 20, 44, 48, 738000)},\n",
       "  'TimeStamp': datetime.datetime(2021, 8, 21, 18, 42, 3, 506000)},\n",
       " {'_id': ObjectId('6120d87b559f576b78afdb21'),\n",
       "  'user': 'eason.tw.chen@gmail.com',\n",
       "  'label_name': 'B-geo',\n",
       "  'inherit': [],\n",
       "  'alias_as': [],\n",
       "  'comment': 'This is the default label in CONLL dataset.',\n",
       "  'tags': ['default'],\n",
       "  'adapter': {'current_adapter_filename': 'B-geo_epoch_3_2021-08-22T19:50:48',\n",
       "   'training_status': 'done',\n",
       "   'history': [{'adapter_filename': 'B-geo_epoch_1_2021-08-21T18:45:50',\n",
       "     'time': datetime.datetime(2021, 8, 21, 19, 35, 36, 840000)},\n",
       "    {'adapter_filename': 'B-geo_epoch_3_2021-08-22T06:36:18',\n",
       "     'time': datetime.datetime(2021, 8, 22, 10, 29, 5, 942000)},\n",
       "    {'adapter_filename': 'B-geo_epoch_3_2021-08-22T19:50:48',\n",
       "     'time': datetime.datetime(2021, 8, 22, 21, 0, 55, 902000)}],\n",
       "   'update_time': datetime.datetime(2021, 8, 22, 21, 0, 55, 902000)},\n",
       "  'TimeStamp': datetime.datetime(2021, 8, 21, 18, 42, 3, 543000)},\n",
       " {'_id': ObjectId('6120d87b559f576b78afdb22'),\n",
       "  'user': 'eason.tw.chen@gmail.com',\n",
       "  'label_name': 'I-gpe',\n",
       "  'inherit': [],\n",
       "  'alias_as': [],\n",
       "  'comment': 'This is the default label in CONLL dataset.',\n",
       "  'tags': ['default'],\n",
       "  'adapter': {'current_adapter_filename': 'I-gpe_epoch_3_2021-08-22T19:50:48',\n",
       "   'training_status': 'done',\n",
       "   'history': [{'adapter_filename': 'I-gpe_epoch_1_2021-08-21T18:45:50',\n",
       "     'time': datetime.datetime(2021, 8, 21, 19, 40, 37, 291000)},\n",
       "    {'adapter_filename': 'I-gpe_epoch_3_2021-08-22T06:36:18',\n",
       "     'time': datetime.datetime(2021, 8, 22, 10, 44, 44, 716000)},\n",
       "    {'adapter_filename': 'I-gpe_epoch_3_2021-08-22T19:50:48',\n",
       "     'time': datetime.datetime(2021, 8, 22, 21, 17, 0, 479000)}],\n",
       "   'update_time': datetime.datetime(2021, 8, 22, 21, 17, 0, 479000)},\n",
       "  'TimeStamp': datetime.datetime(2021, 8, 21, 18, 42, 3, 582000)},\n",
       " {'_id': ObjectId('6120d87b559f576b78afdb23'),\n",
       "  'user': 'eason.tw.chen@gmail.com',\n",
       "  'label_name': 'I-tim',\n",
       "  'inherit': [],\n",
       "  'alias_as': [],\n",
       "  'comment': 'This is the default label in CONLL dataset.',\n",
       "  'tags': ['default'],\n",
       "  'adapter': {'current_adapter_filename': 'I-tim_epoch_3_2021-08-22T19:50:48',\n",
       "   'training_status': 'done',\n",
       "   'history': [{'adapter_filename': 'I-tim_epoch_1_2021-08-21T18:45:50',\n",
       "     'time': datetime.datetime(2021, 8, 21, 19, 45, 37, 174000)},\n",
       "    {'adapter_filename': 'I-tim_epoch_3_2021-08-22T06:36:18',\n",
       "     'time': datetime.datetime(2021, 8, 22, 11, 0, 23, 954000)},\n",
       "    {'adapter_filename': 'I-tim_epoch_3_2021-08-22T19:50:48',\n",
       "     'time': datetime.datetime(2021, 8, 22, 21, 33, 7, 752000)}],\n",
       "   'update_time': datetime.datetime(2021, 8, 22, 21, 33, 7, 752000)},\n",
       "  'TimeStamp': datetime.datetime(2021, 8, 21, 18, 42, 3, 633000)},\n",
       " {'_id': ObjectId('6120d87b559f576b78afdb24'),\n",
       "  'user': 'eason.tw.chen@gmail.com',\n",
       "  'label_name': 'I-per',\n",
       "  'inherit': [],\n",
       "  'alias_as': [],\n",
       "  'comment': 'This is the default label in CONLL dataset.',\n",
       "  'tags': ['default'],\n",
       "  'adapter': {'current_adapter_filename': 'I-per_epoch_3_2021-08-22T19:50:48',\n",
       "   'training_status': 'done',\n",
       "   'history': [{'adapter_filename': 'I-per_epoch_1_2021-08-21T18:45:50',\n",
       "     'time': datetime.datetime(2021, 8, 21, 19, 50, 36, 705000)},\n",
       "    {'adapter_filename': 'I-per_epoch_3_2021-08-22T06:36:18',\n",
       "     'time': datetime.datetime(2021, 8, 22, 11, 16, 3, 938000)},\n",
       "    {'adapter_filename': 'I-per_epoch_3_2021-08-22T19:50:48',\n",
       "     'time': datetime.datetime(2021, 8, 22, 21, 49, 17, 193000)}],\n",
       "   'update_time': datetime.datetime(2021, 8, 22, 21, 49, 17, 193000)},\n",
       "  'TimeStamp': datetime.datetime(2021, 8, 21, 18, 42, 3, 683000)},\n",
       " {'_id': ObjectId('6120d87b559f576b78afdb25'),\n",
       "  'user': 'eason.tw.chen@gmail.com',\n",
       "  'label_name': 'B-org',\n",
       "  'inherit': [],\n",
       "  'alias_as': [],\n",
       "  'comment': 'This is the default label in CONLL dataset.',\n",
       "  'tags': ['default'],\n",
       "  'adapter': {'current_adapter_filename': 'B-org_epoch_3_2021-08-22T19:50:48',\n",
       "   'training_status': 'done',\n",
       "   'history': [{'adapter_filename': 'B-org_epoch_1_2021-08-21T18:45:50',\n",
       "     'time': datetime.datetime(2021, 8, 21, 19, 55, 36, 973000)},\n",
       "    {'adapter_filename': 'B-org_epoch_3_2021-08-22T06:36:18',\n",
       "     'time': datetime.datetime(2021, 8, 22, 11, 31, 42, 155000)},\n",
       "    {'adapter_filename': 'B-org_epoch_3_2021-08-22T19:50:48',\n",
       "     'time': datetime.datetime(2021, 8, 22, 22, 5, 24, 848000)}],\n",
       "   'update_time': datetime.datetime(2021, 8, 22, 22, 5, 24, 848000)},\n",
       "  'TimeStamp': datetime.datetime(2021, 8, 21, 18, 42, 3, 748000)},\n",
       " {'_id': ObjectId('6120d87b559f576b78afdb26'),\n",
       "  'user': 'eason.tw.chen@gmail.com',\n",
       "  'label_name': 'B-gpe',\n",
       "  'inherit': [],\n",
       "  'alias_as': [],\n",
       "  'comment': 'This is the default label in CONLL dataset.',\n",
       "  'tags': ['default'],\n",
       "  'adapter': {'current_adapter_filename': 'B-gpe_epoch_3_2021-08-22T19:50:48',\n",
       "   'training_status': 'done',\n",
       "   'history': [{'adapter_filename': 'B-gpe_epoch_1_2021-08-21T18:45:50',\n",
       "     'time': datetime.datetime(2021, 8, 21, 20, 0, 44, 662000)},\n",
       "    {'adapter_filename': 'B-gpe_epoch_3_2021-08-22T06:36:18',\n",
       "     'time': datetime.datetime(2021, 8, 22, 11, 47, 21, 476000)},\n",
       "    {'adapter_filename': 'B-gpe_epoch_3_2021-08-22T19:50:48',\n",
       "     'time': datetime.datetime(2021, 8, 22, 22, 21, 29, 337000)}],\n",
       "   'update_time': datetime.datetime(2021, 8, 22, 22, 21, 29, 337000)},\n",
       "  'TimeStamp': datetime.datetime(2021, 8, 21, 18, 42, 3, 798000)},\n",
       " {'_id': ObjectId('6120d87b559f576b78afdb27'),\n",
       "  'user': 'eason.tw.chen@gmail.com',\n",
       "  'label_name': 'B-eve',\n",
       "  'inherit': [],\n",
       "  'alias_as': [],\n",
       "  'comment': 'This is the default label in CONLL dataset.',\n",
       "  'tags': ['default'],\n",
       "  'adapter': {'current_adapter_filename': 'B-eve_epoch_3_2021-08-22T19:50:48',\n",
       "   'training_status': 'done',\n",
       "   'history': [{'adapter_filename': 'B-eve_epoch_1_2021-08-22T06:36:18',\n",
       "     'time': datetime.datetime(2021, 8, 22, 7, 6, 49, 748000)},\n",
       "    {'adapter_filename': 'B-eve_epoch_3_2021-08-22T06:36:18',\n",
       "     'time': datetime.datetime(2021, 8, 22, 12, 3, 0, 439000)},\n",
       "    {'adapter_filename': 'B-eve_epoch_3_2021-08-22T19:50:48',\n",
       "     'time': datetime.datetime(2021, 8, 22, 22, 37, 34, 436000)}],\n",
       "   'update_time': datetime.datetime(2021, 8, 22, 22, 37, 34, 436000)},\n",
       "  'TimeStamp': datetime.datetime(2021, 8, 21, 18, 42, 3, 833000)},\n",
       " {'_id': ObjectId('6120d87b559f576b78afdb28'),\n",
       "  'user': 'eason.tw.chen@gmail.com',\n",
       "  'label_name': 'I-geo',\n",
       "  'inherit': [],\n",
       "  'alias_as': [],\n",
       "  'comment': 'This is the default label in CONLL dataset.',\n",
       "  'tags': ['default'],\n",
       "  'adapter': {'current_adapter_filename': 'I-geo_epoch_3_2021-08-22T19:50:48',\n",
       "   'training_status': 'done',\n",
       "   'history': [{'adapter_filename': 'I-geo_epoch_1_2021-08-22T06:36:18',\n",
       "     'time': datetime.datetime(2021, 8, 22, 7, 12, 10, 356000)},\n",
       "    {'adapter_filename': 'I-geo_epoch_3_2021-08-22T06:36:18',\n",
       "     'time': datetime.datetime(2021, 8, 22, 12, 18, 41, 170000)},\n",
       "    {'adapter_filename': 'I-geo_epoch_3_2021-08-22T19:50:48',\n",
       "     'time': datetime.datetime(2021, 8, 22, 22, 53, 38, 65000)}],\n",
       "   'update_time': datetime.datetime(2021, 8, 22, 22, 53, 38, 65000)},\n",
       "  'TimeStamp': datetime.datetime(2021, 8, 21, 18, 42, 3, 881000)},\n",
       " {'_id': ObjectId('6120d87b559f576b78afdb29'),\n",
       "  'user': 'eason.tw.chen@gmail.com',\n",
       "  'label_name': 'I-art',\n",
       "  'inherit': [],\n",
       "  'alias_as': [],\n",
       "  'comment': 'This is the default label in CONLL dataset.',\n",
       "  'tags': ['default'],\n",
       "  'adapter': {'current_adapter_filename': 'I-art_epoch_3_2021-08-22T19:50:48',\n",
       "   'training_status': 'done',\n",
       "   'history': [{'adapter_filename': 'I-art_epoch_1_2021-08-22T06:36:18',\n",
       "     'time': datetime.datetime(2021, 8, 22, 7, 17, 36, 822000)},\n",
       "    {'adapter_filename': 'I-art_epoch_3_2021-08-22T06:36:18',\n",
       "     'time': datetime.datetime(2021, 8, 22, 12, 34, 19, 467000)},\n",
       "    {'adapter_filename': 'I-art_epoch_3_2021-08-22T19:50:48',\n",
       "     'time': datetime.datetime(2021, 8, 22, 23, 9, 42, 690000)}],\n",
       "   'update_time': datetime.datetime(2021, 8, 22, 23, 9, 42, 690000)},\n",
       "  'TimeStamp': datetime.datetime(2021, 8, 21, 18, 42, 3, 996000)},\n",
       " {'_id': ObjectId('6120d87c559f576b78afdb2a'),\n",
       "  'user': 'eason.tw.chen@gmail.com',\n",
       "  'label_name': 'I-nat',\n",
       "  'inherit': [],\n",
       "  'alias_as': [],\n",
       "  'comment': 'This is the default label in CONLL dataset.',\n",
       "  'tags': ['default'],\n",
       "  'adapter': {'current_adapter_filename': 'I-nat_epoch_3_2021-08-22T19:50:48',\n",
       "   'training_status': 'done',\n",
       "   'history': [{'adapter_filename': 'I-nat_epoch_1_2021-08-22T06:36:18',\n",
       "     'time': datetime.datetime(2021, 8, 22, 7, 22, 57, 891000)},\n",
       "    {'adapter_filename': 'I-nat_epoch_3_2021-08-22T06:36:18',\n",
       "     'time': datetime.datetime(2021, 8, 22, 12, 49, 57, 830000)},\n",
       "    {'adapter_filename': 'I-nat_epoch_3_2021-08-22T19:50:48',\n",
       "     'time': datetime.datetime(2021, 8, 22, 23, 25, 45, 678000)}],\n",
       "   'update_time': datetime.datetime(2021, 8, 22, 23, 25, 45, 678000)},\n",
       "  'TimeStamp': datetime.datetime(2021, 8, 21, 18, 42, 4, 69000)},\n",
       " {'_id': ObjectId('6120d87c559f576b78afdb2b'),\n",
       "  'user': 'eason.tw.chen@gmail.com',\n",
       "  'label_name': 'B-tim',\n",
       "  'inherit': [],\n",
       "  'alias_as': [],\n",
       "  'comment': 'This is the default label in CONLL dataset.',\n",
       "  'tags': ['default'],\n",
       "  'adapter': {'current_adapter_filename': 'B-tim_epoch_3_2021-08-22T19:50:48',\n",
       "   'training_status': 'done',\n",
       "   'history': [{'adapter_filename': 'B-tim_epoch_1_2021-08-22T06:36:18',\n",
       "     'time': datetime.datetime(2021, 8, 22, 7, 28, 18, 362000)},\n",
       "    {'adapter_filename': 'B-tim_epoch_3_2021-08-22T06:36:18',\n",
       "     'time': datetime.datetime(2021, 8, 22, 13, 5, 35, 927000)},\n",
       "    {'adapter_filename': 'B-tim_epoch_3_2021-08-22T19:50:48',\n",
       "     'time': datetime.datetime(2021, 8, 22, 23, 41, 53, 996000)}],\n",
       "   'update_time': datetime.datetime(2021, 8, 22, 23, 41, 53, 996000)},\n",
       "  'TimeStamp': datetime.datetime(2021, 8, 21, 18, 42, 4, 126000)},\n",
       " {'_id': ObjectId('6120d87c559f576b78afdb2c'),\n",
       "  'user': 'eason.tw.chen@gmail.com',\n",
       "  'label_name': 'I-eve',\n",
       "  'inherit': [],\n",
       "  'alias_as': [],\n",
       "  'comment': 'This is the default label in CONLL dataset.',\n",
       "  'tags': ['default'],\n",
       "  'adapter': {'current_adapter_filename': 'I-eve_epoch_3_2021-08-22T19:50:48',\n",
       "   'training_status': 'done',\n",
       "   'history': [{'adapter_filename': 'I-eve_epoch_1_2021-08-22T06:36:18',\n",
       "     'time': datetime.datetime(2021, 8, 22, 7, 33, 38, 585000)},\n",
       "    {'adapter_filename': 'I-eve_epoch_3_2021-08-22T06:36:18',\n",
       "     'time': datetime.datetime(2021, 8, 22, 13, 21, 12, 939000)},\n",
       "    {'adapter_filename': 'I-eve_epoch_3_2021-08-22T19:50:48',\n",
       "     'time': datetime.datetime(2021, 8, 22, 23, 57, 59, 129000)}],\n",
       "   'update_time': datetime.datetime(2021, 8, 22, 23, 57, 59, 129000)},\n",
       "  'TimeStamp': datetime.datetime(2021, 8, 21, 18, 42, 4, 181000)},\n",
       " {'_id': ObjectId('6120d87c559f576b78afdb2d'),\n",
       "  'user': 'eason.tw.chen@gmail.com',\n",
       "  'label_name': 'B-per',\n",
       "  'inherit': [],\n",
       "  'alias_as': [],\n",
       "  'comment': 'This is the default label in CONLL dataset.',\n",
       "  'tags': ['default'],\n",
       "  'adapter': {'current_adapter_filename': 'B-per_epoch_3_2021-08-22T19:50:48',\n",
       "   'training_status': 'done',\n",
       "   'history': [{'adapter_filename': 'B-per_epoch_1_2021-08-22T06:36:18',\n",
       "     'time': datetime.datetime(2021, 8, 22, 7, 38, 59, 678000)},\n",
       "    {'adapter_filename': 'B-per_epoch_3_2021-08-22T06:36:18',\n",
       "     'time': datetime.datetime(2021, 8, 22, 13, 36, 52, 975000)},\n",
       "    {'adapter_filename': 'B-per_epoch_3_2021-08-22T19:50:48',\n",
       "     'time': datetime.datetime(2021, 8, 23, 0, 14, 5, 653000)}],\n",
       "   'update_time': datetime.datetime(2021, 8, 23, 0, 14, 5, 653000)},\n",
       "  'TimeStamp': datetime.datetime(2021, 8, 21, 18, 42, 4, 226000)},\n",
       " {'_id': ObjectId('6120d87c559f576b78afdb2e'),\n",
       "  'user': 'eason.tw.chen@gmail.com',\n",
       "  'label_name': 'B-nat',\n",
       "  'inherit': [],\n",
       "  'alias_as': [],\n",
       "  'comment': 'This is the default label in CONLL dataset.',\n",
       "  'tags': ['default'],\n",
       "  'adapter': {'current_adapter_filename': 'B-nat_epoch_3_2021-08-22T19:50:48',\n",
       "   'training_status': 'done',\n",
       "   'history': [{'adapter_filename': 'B-nat_epoch_1_2021-08-22T06:36:18',\n",
       "     'time': datetime.datetime(2021, 8, 22, 7, 44, 21, 89000)},\n",
       "    {'adapter_filename': 'B-nat_epoch_3_2021-08-22T06:36:18',\n",
       "     'time': datetime.datetime(2021, 8, 22, 13, 52, 30, 789000)},\n",
       "    {'adapter_filename': 'B-nat_epoch_3_2021-08-22T19:50:48',\n",
       "     'time': datetime.datetime(2021, 8, 23, 0, 30, 9, 113000)}],\n",
       "   'update_time': datetime.datetime(2021, 8, 23, 0, 30, 9, 113000)},\n",
       "  'TimeStamp': datetime.datetime(2021, 8, 21, 18, 42, 4, 272000)},\n",
       " {'_id': ObjectId('6120d889559f576b78afdb2f'),\n",
       "  'user': 'eason.tw.chen@gmail.com',\n",
       "  'label_name': 'Object',\n",
       "  'inherit': ['B-art', 'I-art'],\n",
       "  'alias_as': [],\n",
       "  'comment': 'This is the extend label by tags in CONLL dataset.',\n",
       "  'tags': ['default', 'default-extend'],\n",
       "  'adapter': {'current_adapter_filename': 'Object_epoch_3_2021-08-22T19:50:48',\n",
       "   'training_status': 'done',\n",
       "   'history': [{'adapter_filename': 'Object_epoch_1_2021-08-22T06:36:18',\n",
       "     'time': datetime.datetime(2021, 8, 22, 7, 49, 41, 747000)},\n",
       "    {'adapter_filename': 'Object_epoch_3_2021-08-22T06:36:18',\n",
       "     'time': datetime.datetime(2021, 8, 22, 14, 8, 8, 440000)},\n",
       "    {'adapter_filename': 'Object_epoch_3_2021-08-22T19:50:48',\n",
       "     'time': datetime.datetime(2021, 8, 23, 0, 46, 18, 14000)}],\n",
       "   'update_time': datetime.datetime(2021, 8, 23, 0, 46, 18, 14000)},\n",
       "  'TimeStamp': datetime.datetime(2021, 8, 21, 18, 42, 17, 24000)},\n",
       " {'_id': ObjectId('6120d889559f576b78afdb30'),\n",
       "  'user': 'eason.tw.chen@gmail.com',\n",
       "  'label_name': 'Event',\n",
       "  'inherit': ['B-eve', 'I-eve'],\n",
       "  'alias_as': [],\n",
       "  'comment': 'This is the extend label by tags in CONLL dataset.',\n",
       "  'tags': ['default', 'default-extend'],\n",
       "  'adapter': {'current_adapter_filename': 'Event_epoch_3_2021-08-22T19:50:48',\n",
       "   'training_status': 'done',\n",
       "   'history': [{'adapter_filename': 'Event_epoch_1_2021-08-22T06:36:18',\n",
       "     'time': datetime.datetime(2021, 8, 22, 7, 55, 2, 370000)},\n",
       "    {'adapter_filename': 'Event_epoch_3_2021-08-22T06:36:18',\n",
       "     'time': datetime.datetime(2021, 8, 22, 14, 23, 45, 72000)},\n",
       "    {'adapter_filename': 'Event_epoch_3_2021-08-22T19:50:48',\n",
       "     'time': datetime.datetime(2021, 8, 23, 1, 2, 26, 537000)}],\n",
       "   'update_time': datetime.datetime(2021, 8, 23, 1, 2, 26, 537000)},\n",
       "  'TimeStamp': datetime.datetime(2021, 8, 21, 18, 42, 17, 866000)},\n",
       " {'_id': ObjectId('6120d88a559f576b78afdb31'),\n",
       "  'user': 'eason.tw.chen@gmail.com',\n",
       "  'label_name': 'Location',\n",
       "  'inherit': ['B-geo', 'I-geo'],\n",
       "  'alias_as': [],\n",
       "  'comment': 'This is the extend label by tags in CONLL dataset.',\n",
       "  'tags': ['default', 'default-extend'],\n",
       "  'adapter': {'current_adapter_filename': 'Location_epoch_3_2021-08-22T19:50:48',\n",
       "   'training_status': 'done',\n",
       "   'history': [{'adapter_filename': 'Location_epoch_1_2021-08-22T06:36:18',\n",
       "     'time': datetime.datetime(2021, 8, 22, 8, 0, 24, 45000)},\n",
       "    {'adapter_filename': 'Location_epoch_3_2021-08-22T06:36:18',\n",
       "     'time': datetime.datetime(2021, 8, 22, 14, 39, 22, 973000)},\n",
       "    {'adapter_filename': 'Location_epoch_3_2021-08-22T19:50:48',\n",
       "     'time': datetime.datetime(2021, 8, 23, 1, 18, 34, 498000)}],\n",
       "   'update_time': datetime.datetime(2021, 8, 23, 1, 18, 34, 498000)},\n",
       "  'TimeStamp': datetime.datetime(2021, 8, 21, 18, 42, 18, 472000)},\n",
       " {'_id': ObjectId('6120d88a559f576b78afdb32'),\n",
       "  'user': 'eason.tw.chen@gmail.com',\n",
       "  'label_name': 'Party',\n",
       "  'inherit': ['B-geo',\n",
       "   'B-gpe',\n",
       "   'B-org',\n",
       "   'B-per',\n",
       "   'I-geo',\n",
       "   'I-gpe',\n",
       "   'I-org',\n",
       "   'I-per'],\n",
       "  'alias_as': [],\n",
       "  'comment': 'This is the extend label by tags in CONLL dataset.',\n",
       "  'tags': ['default', 'default-extend'],\n",
       "  'adapter': {'current_adapter_filename': 'Party_epoch_1_2021-08-24T08:57:51',\n",
       "   'training_status': 'training a new one',\n",
       "   'history': [{'adapter_filename': 'Party_epoch_1_2021-08-22T06:36:18',\n",
       "     'time': datetime.datetime(2021, 8, 22, 8, 5, 44, 538000)},\n",
       "    {'adapter_filename': 'Party_epoch_3_2021-08-22T06:36:18',\n",
       "     'time': datetime.datetime(2021, 8, 22, 14, 55, 3, 358000)},\n",
       "    {'adapter_filename': 'Party_epoch_3_2021-08-22T19:50:48',\n",
       "     'time': datetime.datetime(2021, 8, 23, 1, 34, 42, 625000)}],\n",
       "   'update_time': datetime.datetime(2021, 8, 23, 1, 34, 42, 625000),\n",
       "   'current_filename': 'Party_epoch_1_2021-08-24T09:10:57'},\n",
       "  'TimeStamp': datetime.datetime(2021, 8, 21, 18, 42, 18, 556000)},\n",
       " {'_id': ObjectId('6120d88a559f576b78afdb33'),\n",
       "  'user': 'eason.tw.chen@gmail.com',\n",
       "  'label_name': 'Race',\n",
       "  'inherit': ['B-gpe', 'I-gpe'],\n",
       "  'alias_as': [],\n",
       "  'comment': 'This is the extend label by tags in CONLL dataset.',\n",
       "  'tags': ['default', 'default-extend'],\n",
       "  'adapter': {'current_adapter_filename': 'Race_epoch_3_2021-08-22T19:50:48',\n",
       "   'training_status': 'done',\n",
       "   'history': [{'adapter_filename': 'Race_epoch_1_2021-08-22T06:36:18',\n",
       "     'time': datetime.datetime(2021, 8, 22, 8, 11, 5, 538000)},\n",
       "    {'adapter_filename': 'Race_epoch_3_2021-08-22T06:36:18',\n",
       "     'time': datetime.datetime(2021, 8, 22, 15, 10, 43, 88000)},\n",
       "    {'adapter_filename': 'Race_epoch_3_2021-08-22T19:50:48',\n",
       "     'time': datetime.datetime(2021, 8, 23, 1, 50, 51, 530000)}],\n",
       "   'update_time': datetime.datetime(2021, 8, 23, 1, 50, 51, 530000)},\n",
       "  'TimeStamp': datetime.datetime(2021, 8, 21, 18, 42, 18, 639000)},\n",
       " {'_id': ObjectId('6120d88a559f576b78afdb34'),\n",
       "  'user': 'eason.tw.chen@gmail.com',\n",
       "  'label_name': 'SpecialTerm',\n",
       "  'inherit': ['B-nat', 'I-nat'],\n",
       "  'alias_as': [],\n",
       "  'comment': 'This is the extend label by tags in CONLL dataset.',\n",
       "  'tags': ['default', 'default-extend'],\n",
       "  'adapter': {'current_adapter_filename': 'SpecialTerm_epoch_3_2021-08-22T19:50:48',\n",
       "   'training_status': 'done',\n",
       "   'history': [{'adapter_filename': 'SpecialTerm_epoch_1_2021-08-22T06:36:18',\n",
       "     'time': datetime.datetime(2021, 8, 22, 8, 16, 26, 26000)},\n",
       "    {'adapter_filename': 'SpecialTerm_epoch_3_2021-08-22T06:36:18',\n",
       "     'time': datetime.datetime(2021, 8, 22, 15, 26, 22, 948000)},\n",
       "    {'adapter_filename': 'SpecialTerm_epoch_3_2021-08-22T19:50:48',\n",
       "     'time': datetime.datetime(2021, 8, 23, 2, 6, 57, 968000)}],\n",
       "   'update_time': datetime.datetime(2021, 8, 23, 2, 6, 57, 968000)},\n",
       "  'TimeStamp': datetime.datetime(2021, 8, 21, 18, 42, 18, 734000)},\n",
       " {'_id': ObjectId('6120d88a559f576b78afdb35'),\n",
       "  'user': 'eason.tw.chen@gmail.com',\n",
       "  'label_name': 'Organization',\n",
       "  'inherit': ['B-org', 'I-org'],\n",
       "  'alias_as': [],\n",
       "  'comment': 'This is the extend label by tags in CONLL dataset.',\n",
       "  'tags': ['default', 'default-extend'],\n",
       "  'adapter': {'current_adapter_filename': 'Organization_epoch_3_2021-08-22T19:50:48',\n",
       "   'training_status': 'done',\n",
       "   'history': [{'adapter_filename': 'Organization_epoch_1_2021-08-22T06:36:18',\n",
       "     'time': datetime.datetime(2021, 8, 22, 8, 21, 47, 481000)},\n",
       "    {'adapter_filename': 'Organization_epoch_3_2021-08-22T06:36:18',\n",
       "     'time': datetime.datetime(2021, 8, 22, 15, 42, 2, 217000)},\n",
       "    {'adapter_filename': 'Organization_epoch_3_2021-08-22T19:50:48',\n",
       "     'time': datetime.datetime(2021, 8, 23, 2, 23, 7, 355000)}],\n",
       "   'update_time': datetime.datetime(2021, 8, 23, 2, 23, 7, 355000)},\n",
       "  'TimeStamp': datetime.datetime(2021, 8, 21, 18, 42, 18, 860000)},\n",
       " {'_id': ObjectId('6120d88b559f576b78afdb36'),\n",
       "  'user': 'eason.tw.chen@gmail.com',\n",
       "  'label_name': 'Person',\n",
       "  'inherit': ['B-per', 'I-per'],\n",
       "  'alias_as': [],\n",
       "  'comment': 'This is the extend label by tags in CONLL dataset.',\n",
       "  'tags': ['default', 'default-extend'],\n",
       "  'adapter': {'current_adapter_filename': 'Person_epoch_3_2021-08-22T19:50:48',\n",
       "   'training_status': 'done',\n",
       "   'history': [{'adapter_filename': 'Person_epoch_1_2021-08-22T06:36:18',\n",
       "     'time': datetime.datetime(2021, 8, 22, 8, 27, 8, 259000)},\n",
       "    {'adapter_filename': 'Person_epoch_3_2021-08-22T06:36:18',\n",
       "     'time': datetime.datetime(2021, 8, 22, 15, 57, 41, 27000)},\n",
       "    {'adapter_filename': 'Person_epoch_3_2021-08-22T19:50:48',\n",
       "     'time': datetime.datetime(2021, 8, 23, 2, 39, 15, 25000)}],\n",
       "   'update_time': datetime.datetime(2021, 8, 23, 2, 39, 15, 25000)},\n",
       "  'TimeStamp': datetime.datetime(2021, 8, 21, 18, 42, 19, 9000)},\n",
       " {'_id': ObjectId('6120d88b559f576b78afdb37'),\n",
       "  'user': 'eason.tw.chen@gmail.com',\n",
       "  'label_name': 'TemporalUnit',\n",
       "  'inherit': ['B-tim', 'I-tim'],\n",
       "  'alias_as': [],\n",
       "  'comment': 'This is the extend label by tags in CONLL dataset.',\n",
       "  'tags': ['default', 'default-extend'],\n",
       "  'adapter': {'current_adapter_filename': 'TemporalUnit_epoch_3_2021-08-22T19:50:48',\n",
       "   'training_status': 'done',\n",
       "   'history': [{'adapter_filename': 'TemporalUnit_epoch_1_2021-08-22T06:36:18',\n",
       "     'time': datetime.datetime(2021, 8, 22, 8, 32, 29, 756000)},\n",
       "    {'adapter_filename': 'TemporalUnit_epoch_3_2021-08-22T06:36:18',\n",
       "     'time': datetime.datetime(2021, 8, 22, 16, 13, 18, 349000)},\n",
       "    {'adapter_filename': 'TemporalUnit_epoch_3_2021-08-22T19:50:48',\n",
       "     'time': datetime.datetime(2021, 8, 23, 2, 55, 22, 846000)}],\n",
       "   'update_time': datetime.datetime(2021, 8, 23, 2, 55, 22, 846000)},\n",
       "  'TimeStamp': datetime.datetime(2021, 8, 21, 18, 42, 19, 619000)},\n",
       " {'_id': ObjectId('6120d88c559f576b78afdb38'),\n",
       "  'user': 'eason.tw.chen@gmail.com',\n",
       "  'label_name': 'Time',\n",
       "  'inherit': ['B-tim', 'I-tim'],\n",
       "  'alias_as': [],\n",
       "  'comment': 'This is the extend label by tags in CONLL dataset.',\n",
       "  'tags': ['default', 'default-extend'],\n",
       "  'adapter': {'current_adapter_filename': 'Time_epoch_3_2021-08-22T19:50:48',\n",
       "   'training_status': 'done',\n",
       "   'history': [{'adapter_filename': 'Time_epoch_1_2021-08-22T06:36:18',\n",
       "     'time': datetime.datetime(2021, 8, 22, 8, 37, 50, 791000)},\n",
       "    {'adapter_filename': 'Time_epoch_3_2021-08-22T06:36:18',\n",
       "     'time': datetime.datetime(2021, 8, 22, 16, 28, 59, 932000)},\n",
       "    {'adapter_filename': 'Time_epoch_3_2021-08-22T19:50:48',\n",
       "     'time': datetime.datetime(2021, 8, 23, 3, 11, 29, 675000)}],\n",
       "   'update_time': datetime.datetime(2021, 8, 23, 3, 11, 29, 675000)},\n",
       "  'TimeStamp': datetime.datetime(2021, 8, 21, 18, 42, 20, 227000)},\n",
       " {'_id': ObjectId('6120d88d559f576b78afdb39'),\n",
       "  'user': 'eason.tw.chen@gmail.com',\n",
       "  'label_name': 'Float',\n",
       "  'inherit': [],\n",
       "  'alias_as': [],\n",
       "  'comment': 'This is the label create by label function',\n",
       "  'tags': ['default', 'basic_tags', 'have_label_function'],\n",
       "  'adapter': {'current_adapter_filename': 'Float_epoch_3_2021-08-22T19:50:48',\n",
       "   'training_status': 'done',\n",
       "   'history': [{'adapter_filename': 'Float_epoch_1_2021-08-22T06:36:18',\n",
       "     'time': datetime.datetime(2021, 8, 22, 8, 43, 12, 754000)},\n",
       "    {'adapter_filename': 'Float_epoch_3_2021-08-22T06:36:18',\n",
       "     'time': datetime.datetime(2021, 8, 22, 16, 29, 4, 864000)},\n",
       "    {'adapter_filename': 'Float_epoch_3_2021-08-22T19:50:48',\n",
       "     'time': datetime.datetime(2021, 8, 23, 3, 27, 36, 12000)}],\n",
       "   'update_time': datetime.datetime(2021, 8, 23, 3, 27, 36, 12000)},\n",
       "  'TimeStamp': datetime.datetime(2021, 8, 21, 18, 42, 21, 46000)},\n",
       " {'_id': ObjectId('6120d88d559f576b78afdb3a'),\n",
       "  'user': 'eason.tw.chen@gmail.com',\n",
       "  'label_name': 'Integer',\n",
       "  'inherit': [],\n",
       "  'alias_as': [],\n",
       "  'comment': 'This is the label create by label function',\n",
       "  'tags': ['default', 'basic_tags', 'have_label_function'],\n",
       "  'adapter': {'current_adapter_filename': 'Integer_epoch_3_2021-08-22T19:50:48',\n",
       "   'training_status': 'done',\n",
       "   'history': [{'adapter_filename': 'Integer_epoch_1_2021-08-22T06:36:18',\n",
       "     'time': datetime.datetime(2021, 8, 22, 8, 48, 33, 315000)},\n",
       "    {'adapter_filename': 'Integer_epoch_3_2021-08-22T06:36:18',\n",
       "     'time': datetime.datetime(2021, 8, 22, 16, 29, 9, 488000)},\n",
       "    {'adapter_filename': 'Integer_epoch_3_2021-08-22T19:50:48',\n",
       "     'time': datetime.datetime(2021, 8, 23, 3, 43, 44, 660000)}],\n",
       "   'update_time': datetime.datetime(2021, 8, 23, 3, 43, 44, 660000)},\n",
       "  'TimeStamp': datetime.datetime(2021, 8, 21, 18, 42, 21, 94000)},\n",
       " {'_id': ObjectId('6120d88d559f576b78afdb3b'),\n",
       "  'user': 'eason.tw.chen@gmail.com',\n",
       "  'label_name': 'CountryCode',\n",
       "  'inherit': [],\n",
       "  'alias_as': [],\n",
       "  'comment': 'This is the label create by label function',\n",
       "  'tags': ['default', 'basic_tags', 'have_label_function'],\n",
       "  'adapter': {'current_adapter_filename': 'CountryCode_epoch_3_2021-08-22T19:50:48',\n",
       "   'training_status': 'done',\n",
       "   'history': [{'adapter_filename': 'CountryCode_epoch_1_2021-08-22T06:36:18',\n",
       "     'time': datetime.datetime(2021, 8, 22, 8, 53, 53, 919000)},\n",
       "    {'adapter_filename': 'CountryCode_epoch_3_2021-08-22T06:36:18',\n",
       "     'time': datetime.datetime(2021, 8, 22, 16, 29, 14, 307000)},\n",
       "    {'adapter_filename': 'CountryCode_epoch_3_2021-08-22T19:50:48',\n",
       "     'time': datetime.datetime(2021, 8, 23, 3, 59, 50, 999000)}],\n",
       "   'update_time': datetime.datetime(2021, 8, 23, 3, 59, 50, 999000)},\n",
       "  'TimeStamp': datetime.datetime(2021, 8, 21, 18, 42, 21, 134000)},\n",
       " {'_id': ObjectId('6120d88d559f576b78afdb3c'),\n",
       "  'user': 'eason.tw.chen@gmail.com',\n",
       "  'label_name': 'CryptoCurrencyCode',\n",
       "  'inherit': [],\n",
       "  'alias_as': [],\n",
       "  'comment': 'This is the label create by label function',\n",
       "  'tags': ['default', 'basic_tags', 'have_label_function'],\n",
       "  'adapter': {'current_adapter_filename': 'CryptoCurrencyCode_epoch_3_2021-08-22T19:50:48',\n",
       "   'training_status': 'done',\n",
       "   'history': [{'adapter_filename': 'CryptoCurrencyCode_epoch_1_2021-08-22T06:36:18',\n",
       "     'time': datetime.datetime(2021, 8, 22, 8, 59, 16, 219000)},\n",
       "    {'adapter_filename': 'CryptoCurrencyCode_epoch_3_2021-08-22T06:36:18',\n",
       "     'time': datetime.datetime(2021, 8, 22, 16, 29, 18, 919000)},\n",
       "    {'adapter_filename': 'CryptoCurrencyCode_epoch_3_2021-08-22T19:50:48',\n",
       "     'time': datetime.datetime(2021, 8, 23, 4, 15, 57, 420000)}],\n",
       "   'update_time': datetime.datetime(2021, 8, 23, 4, 15, 57, 420000)},\n",
       "  'TimeStamp': datetime.datetime(2021, 8, 21, 18, 42, 21, 210000)},\n",
       " {'_id': ObjectId('6120d88d559f576b78afdb3d'),\n",
       "  'user': 'eason.tw.chen@gmail.com',\n",
       "  'label_name': 'CurrencyCode',\n",
       "  'inherit': [],\n",
       "  'alias_as': [],\n",
       "  'comment': 'This is the label create by label function',\n",
       "  'tags': ['default', 'basic_tags', 'have_label_function'],\n",
       "  'adapter': {'current_adapter_filename': 'CurrencyCode_epoch_3_2021-08-22T19:50:48',\n",
       "   'training_status': 'done',\n",
       "   'history': [{'adapter_filename': 'CurrencyCode_epoch_1_2021-08-22T06:36:18',\n",
       "     'time': datetime.datetime(2021, 8, 22, 9, 4, 38, 262000)},\n",
       "    {'adapter_filename': 'CurrencyCode_epoch_3_2021-08-22T06:36:18',\n",
       "     'time': datetime.datetime(2021, 8, 22, 16, 29, 23, 774000)},\n",
       "    {'adapter_filename': 'CurrencyCode_epoch_3_2021-08-22T19:50:48',\n",
       "     'time': datetime.datetime(2021, 8, 23, 4, 32, 6, 76000)}],\n",
       "   'update_time': datetime.datetime(2021, 8, 23, 4, 32, 6, 76000)},\n",
       "  'TimeStamp': datetime.datetime(2021, 8, 21, 18, 42, 21, 301000)},\n",
       " {'_id': ObjectId('6120d88d559f576b78afdb3e'),\n",
       "  'user': 'eason.tw.chen@gmail.com',\n",
       "  'label_name': 'Timezone',\n",
       "  'inherit': [],\n",
       "  'alias_as': [],\n",
       "  'comment': 'This is the label create by label function',\n",
       "  'tags': ['default', 'basic_tags', 'have_label_function'],\n",
       "  'adapter': {'current_adapter_filename': 'Timezone_epoch_3_2021-08-22T19:50:48',\n",
       "   'training_status': 'done',\n",
       "   'history': [{'adapter_filename': 'Timezone_epoch_1_2021-08-22T06:36:18',\n",
       "     'time': datetime.datetime(2021, 8, 22, 9, 9, 59, 920000)},\n",
       "    {'adapter_filename': 'Timezone_epoch_3_2021-08-22T06:36:18',\n",
       "     'time': datetime.datetime(2021, 8, 22, 16, 29, 28, 484000)},\n",
       "    {'adapter_filename': 'Timezone_epoch_3_2021-08-22T19:50:48',\n",
       "     'time': datetime.datetime(2021, 8, 23, 4, 48, 14, 471000)}],\n",
       "   'update_time': datetime.datetime(2021, 8, 23, 4, 48, 14, 471000)},\n",
       "  'TimeStamp': datetime.datetime(2021, 8, 21, 18, 42, 21, 407000)},\n",
       " {'_id': ObjectId('6120d88d559f576b78afdb3f'),\n",
       "  'user': 'eason.tw.chen@gmail.com',\n",
       "  'label_name': 'US_States',\n",
       "  'inherit': [],\n",
       "  'alias_as': [],\n",
       "  'comment': 'This is the label create by label function',\n",
       "  'tags': ['default', 'basic_tags', 'have_label_function'],\n",
       "  'adapter': {'current_adapter_filename': 'US_States_epoch_3_2021-08-22T19:50:48',\n",
       "   'training_status': 'done',\n",
       "   'history': [{'adapter_filename': 'US_States_epoch_1_2021-08-22T06:36:18',\n",
       "     'time': datetime.datetime(2021, 8, 22, 9, 15, 20, 884000)},\n",
       "    {'adapter_filename': 'US_States_epoch_3_2021-08-22T06:36:18',\n",
       "     'time': datetime.datetime(2021, 8, 22, 16, 29, 33, 87000)},\n",
       "    {'adapter_filename': 'US_States_epoch_3_2021-08-22T19:50:48',\n",
       "     'time': datetime.datetime(2021, 8, 23, 5, 4, 22, 558000)}],\n",
       "   'update_time': datetime.datetime(2021, 8, 23, 5, 4, 22, 558000)},\n",
       "  'TimeStamp': datetime.datetime(2021, 8, 21, 18, 42, 21, 435000)},\n",
       " {'_id': ObjectId('6120d88d559f576b78afdb40'),\n",
       "  'user': 'eason.tw.chen@gmail.com',\n",
       "  'label_name': 'Month',\n",
       "  'inherit': [],\n",
       "  'alias_as': [],\n",
       "  'comment': 'This is the label create by label function',\n",
       "  'tags': ['default', 'basic_tags', 'have_label_function'],\n",
       "  'adapter': {'current_adapter_filename': 'Month_epoch_3_2021-08-22T19:50:48',\n",
       "   'training_status': 'done',\n",
       "   'history': [{'adapter_filename': 'Month_epoch_1_2021-08-22T06:36:18',\n",
       "     'time': datetime.datetime(2021, 8, 22, 9, 20, 42, 145000)},\n",
       "    {'adapter_filename': 'Month_epoch_3_2021-08-22T06:36:18',\n",
       "     'time': datetime.datetime(2021, 8, 22, 16, 29, 37, 877000)},\n",
       "    {'adapter_filename': 'Month_epoch_3_2021-08-22T19:50:48',\n",
       "     'time': datetime.datetime(2021, 8, 23, 5, 20, 28, 759000)}],\n",
       "   'update_time': datetime.datetime(2021, 8, 23, 5, 20, 28, 759000)},\n",
       "  'TimeStamp': datetime.datetime(2021, 8, 21, 18, 42, 21, 508000)},\n",
       " {'_id': ObjectId('6120d88d559f576b78afdb41'),\n",
       "  'user': 'eason.tw.chen@gmail.com',\n",
       "  'label_name': 'String',\n",
       "  'inherit': ['Object',\n",
       "   'Event',\n",
       "   'Location',\n",
       "   'Party',\n",
       "   'Race',\n",
       "   'Party',\n",
       "   'SpecialTerm',\n",
       "   'Party',\n",
       "   'Organization',\n",
       "   'Party',\n",
       "   'Person',\n",
       "   'TemporalUnit',\n",
       "   'Time',\n",
       "   'Object',\n",
       "   'Event',\n",
       "   'Location',\n",
       "   'Party',\n",
       "   'Race',\n",
       "   'Party',\n",
       "   'SpecialTerm',\n",
       "   'Party',\n",
       "   'Organization',\n",
       "   'Party',\n",
       "   'Person',\n",
       "   'TemporalUnit',\n",
       "   'Time',\n",
       "   'O',\n",
       "   'B-art',\n",
       "   'I-org',\n",
       "   'B-geo',\n",
       "   'I-gpe',\n",
       "   'I-tim',\n",
       "   'I-per',\n",
       "   'B-org',\n",
       "   'B-gpe',\n",
       "   'B-eve',\n",
       "   'I-geo',\n",
       "   'I-art',\n",
       "   'I-nat',\n",
       "   'B-tim',\n",
       "   'I-eve',\n",
       "   'B-per',\n",
       "   'B-nat'],\n",
       "  'alias_as': [],\n",
       "  'comment': 'This is the default label in Shows all different in CONLL dataset.',\n",
       "  'tags': ['default', 'String'],\n",
       "  'adapter': {'current_adapter_filename': 'String_epoch_3_2021-08-23T06:37:40',\n",
       "   'training_status': 'done',\n",
       "   'history': [{'adapter_filename': 'String_epoch_1_2021-08-22T06:36:18',\n",
       "     'time': datetime.datetime(2021, 8, 22, 9, 26, 5, 379000)},\n",
       "    {'adapter_filename': 'String_epoch_3_2021-08-22T06:36:18',\n",
       "     'time': datetime.datetime(2021, 8, 22, 16, 29, 42, 547000)},\n",
       "    {'adapter_filename': 'String_epoch_3_2021-08-22T19:50:48',\n",
       "     'time': datetime.datetime(2021, 8, 23, 5, 36, 39, 315000)},\n",
       "    {'adapter_filename': 'String_epoch_1_2021-08-23T06:20:20',\n",
       "     'time': datetime.datetime(2021, 8, 23, 6, 25, 54, 906000)},\n",
       "    {'adapter_filename': 'String_epoch_1_2021-08-23T06:31:19',\n",
       "     'time': datetime.datetime(2021, 8, 23, 6, 31, 33, 153000)},\n",
       "    {'adapter_filename': 'String_epoch_1_2021-08-23T06:33:18',\n",
       "     'time': datetime.datetime(2021, 8, 23, 6, 33, 32, 762000)},\n",
       "    {'adapter_filename': 'String_epoch_1_2021-08-23T06:34:24',\n",
       "     'time': datetime.datetime(2021, 8, 23, 6, 34, 37, 934000)},\n",
       "    {'adapter_filename': 'String_epoch_1_2021-08-23T06:36:22',\n",
       "     'time': datetime.datetime(2021, 8, 23, 6, 36, 35, 563000)},\n",
       "    {'adapter_filename': 'String_epoch_3_2021-08-23T06:37:40',\n",
       "     'time': datetime.datetime(2021, 8, 23, 6, 53, 35, 799000)}],\n",
       "   'update_time': datetime.datetime(2021, 8, 23, 6, 53, 35, 799000)},\n",
       "  'TimeStamp': datetime.datetime(2021, 8, 21, 18, 42, 21, 559000)},\n",
       " {'_id': ObjectId('61233acf934b493886f973cd'),\n",
       "  'user': 'test@gmail.com',\n",
       "  'label_name': 'Party87',\n",
       "  'inherit': ['B-per', 'I-per', 'B-org', 'I-org'],\n",
       "  'alias_as': ['String'],\n",
       "  'comment': 'This is the example cased.',\n",
       "  'tags': [],\n",
       "  'adapter': {'current_adapter_filename': '',\n",
       "   'training_status': '',\n",
       "   'history': [],\n",
       "   'update_time': datetime.datetime(2021, 8, 23, 14, 6, 7, 976000)},\n",
       "  'TimeStamp': datetime.datetime(2021, 8, 23, 14, 6, 7, 976000)}]"
      ]
     },
     "execution_count": 78,
     "metadata": {},
     "output_type": "execute_result"
    }
   ],
   "source": [
    "results"
   ]
  },
  {
   "cell_type": "code",
   "execution_count": 79,
   "metadata": {
    "ExecuteTime": {
     "end_time": "2021-08-24T02:57:44.281286Z",
     "start_time": "2021-08-24T02:57:44.277672Z"
    }
   },
   "outputs": [
    {
     "data": {
      "text/plain": [
       "{'_id': ObjectId('61233acf934b493886f973cd'),\n",
       " 'user': 'test@gmail.com',\n",
       " 'label_name': 'Party87',\n",
       " 'inherit': ['B-per', 'I-per', 'B-org', 'I-org'],\n",
       " 'alias_as': ['String'],\n",
       " 'comment': 'This is the example cased.',\n",
       " 'tags': [],\n",
       " 'adapter': {'current_adapter_filename': '',\n",
       "  'training_status': '',\n",
       "  'history': [],\n",
       "  'update_time': datetime.datetime(2021, 8, 23, 14, 6, 7, 976000)},\n",
       " 'TimeStamp': datetime.datetime(2021, 8, 23, 14, 6, 7, 976000)}"
      ]
     },
     "execution_count": 79,
     "metadata": {},
     "output_type": "execute_result"
    }
   ],
   "source": [
    "result"
   ]
  },
  {
   "cell_type": "code",
   "execution_count": 80,
   "metadata": {
    "ExecuteTime": {
     "end_time": "2021-08-24T02:58:17.816859Z",
     "start_time": "2021-08-24T02:58:17.786163Z"
    }
   },
   "outputs": [],
   "source": [
    "for result in results:\n",
    "    out_histories = []\n",
    "    for history in result[\"adapter\"][\"history\"]:\n",
    "        out_histories.append({\n",
    "            \"filename\": history['adapter_filename'],\n",
    "            \"time\": history[\"time\"]\n",
    "        })\n",
    "\n",
    "    newAdapterObj = {\n",
    "        \"lastest_filename\": result[\"adapter\"][\"current_adapter_filename\"],\n",
    "        \"training_status\": result[\"adapter\"][\"training_status\"],\n",
    "        \"history\": out_histories\n",
    "    }\n",
    "\n",
    "    col.replace_one({'_id': result[\"_id\"]},{'_id': result[\"_id\"],\n",
    "     'user': result[\"user\"],\n",
    "     'label_name': result[\"label_name\"],\n",
    "     'inherit': result[\"inherit\"],\n",
    "     'alias_as': result[\"alias_as\"],\n",
    "     'comment': result[\"comment\"],\n",
    "     'tags': result[\"tags\"],\n",
    "     'adapter': newAdapterObj,\n",
    "     'create_time': result[\"TimeStamp\"]\n",
    "    })"
   ]
  },
  {
   "cell_type": "code",
   "execution_count": null,
   "metadata": {},
   "outputs": [],
   "source": []
  },
  {
   "cell_type": "code",
   "execution_count": 77,
   "metadata": {
    "ExecuteTime": {
     "end_time": "2021-08-24T01:22:48.393776Z",
     "start_time": "2021-08-24T01:22:48.365281Z"
    }
   },
   "outputs": [],
   "source": [
    "for result in results:\n",
    "    out_histories = []\n",
    "    for history in result[\"adapter\"][\"history\"]:\n",
    "        out_histories.append({\n",
    "            \"filename\": history['adapter_filename'],\n",
    "            \"time\": history[\"time\"]\n",
    "        })\n",
    "\n",
    "    newAdapterObj = {\n",
    "        \"adapter_filename\": result[\"adapter\"][\"current_adapter_filename\"],\n",
    "        \"training_status\": result[\"adapter\"][\"training_status\"],\n",
    "        \"history\": out_histories\n",
    "    }\n",
    "\n",
    "    col.replace_one({'_id': result[\"_id\"]},{'_id': result[\"_id\"],\n",
    "     'user': result[\"user\"],\n",
    "     'label_name': result[\"label_name\"],\n",
    "     'inherit': result[\"inherit\"],\n",
    "     'alias_as': result[\"alias_as\"],\n",
    "     'comment': result[\"comment\"],\n",
    "     'tags': result[\"tags\"],\n",
    "     'adapter': newAdapterObj,\n",
    "     'create_time': result[\"TimeStamp\"]\n",
    "    })"
   ]
  },
  {
   "cell_type": "code",
   "execution_count": 73,
   "metadata": {
    "ExecuteTime": {
     "end_time": "2021-08-24T01:21:37.033248Z",
     "start_time": "2021-08-24T01:21:37.029195Z"
    },
    "scrolled": true
   },
   "outputs": [
    {
     "data": {
      "text/plain": [
       "{'tags': ['default'],\n",
       " 'adapter': {'adapter_filename': 'B-art_epoch_3_2021-08-22T19:50:48',\n",
       "  'training_status': 'done',\n",
       "  'history': [{'filename': 'B-art_epoch_3_2021-08-21T18:45:50',\n",
       "    'time': datetime.datetime(2021, 8, 21, 19, 15, 34, 221000)},\n",
       "   {'filename': 'B-art_epoch_1_2021-08-21T18:45:50',\n",
       "    'time': datetime.datetime(2021, 8, 21, 19, 25, 33, 678000)},\n",
       "   {'filename': 'B-art_epoch_3_2021-08-22T06:36:18',\n",
       "    'time': datetime.datetime(2021, 8, 22, 9, 57, 40, 894000)},\n",
       "   {'filename': 'B-art_epoch_3_2021-08-22T19:50:48',\n",
       "    'time': datetime.datetime(2021, 8, 22, 20, 28, 40, 266000)}]},\n",
       " 'create_time': datetime.datetime(2021, 8, 21, 18, 42, 3, 452000)}"
      ]
     },
     "execution_count": 73,
     "metadata": {},
     "output_type": "execute_result"
    }
   ],
   "source": [
    "{\n",
    " 'tags': result[\"tags\"],\n",
    " 'adapter': newAdapterObj,\n",
    " 'create_time': result[\"TimeStamp\"]\n",
    "}"
   ]
  },
  {
   "cell_type": "code",
   "execution_count": null,
   "metadata": {},
   "outputs": [],
   "source": []
  },
  {
   "cell_type": "code",
   "execution_count": null,
   "metadata": {},
   "outputs": [],
   "source": []
  },
  {
   "cell_type": "code",
   "execution_count": 72,
   "metadata": {
    "ExecuteTime": {
     "end_time": "2021-08-24T01:19:54.936759Z",
     "start_time": "2021-08-24T01:19:54.929333Z"
    }
   },
   "outputs": [
    {
     "data": {
      "text/plain": [
       "{'_id': ObjectId('6120d87b559f576b78afdb1f'),\n",
       " 'user': 'eason.tw.chen@gmail.com',\n",
       " 'label_name': 'B-art',\n",
       " 'inherit': [],\n",
       " 'alias_as': [],\n",
       " 'comment': 'This is the default label in CONLL dataset.',\n",
       " 'tags': ['default'],\n",
       " 'adapter': {'adapter_filename': 'B-art_epoch_3_2021-08-22T19:50:48',\n",
       "  'training_status': 'done',\n",
       "  'history': [{'filename': 'B-art_epoch_3_2021-08-21T18:45:50',\n",
       "    'time': datetime.datetime(2021, 8, 21, 19, 15, 34, 221000)},\n",
       "   {'filename': 'B-art_epoch_1_2021-08-21T18:45:50',\n",
       "    'time': datetime.datetime(2021, 8, 21, 19, 25, 33, 678000)},\n",
       "   {'filename': 'B-art_epoch_3_2021-08-22T06:36:18',\n",
       "    'time': datetime.datetime(2021, 8, 22, 9, 57, 40, 894000)},\n",
       "   {'filename': 'B-art_epoch_3_2021-08-22T19:50:48',\n",
       "    'time': datetime.datetime(2021, 8, 22, 20, 28, 40, 266000)}]},\n",
       " 'create_time': datetime.datetime(2021, 8, 21, 18, 42, 3, 452000)}"
      ]
     },
     "execution_count": 72,
     "metadata": {},
     "output_type": "execute_result"
    }
   ],
   "source": []
  },
  {
   "cell_type": "code",
   "execution_count": null,
   "metadata": {},
   "outputs": [],
   "source": []
  },
  {
   "cell_type": "code",
   "execution_count": 19,
   "metadata": {
    "ExecuteTime": {
     "end_time": "2021-08-23T02:27:25.279291Z",
     "start_time": "2021-08-23T02:27:25.238013Z"
    }
   },
   "outputs": [],
   "source": [
    "result = col.find_one({\"user\": \"example@gmail.com\"})"
   ]
  },
  {
   "cell_type": "code",
   "execution_count": 10,
   "metadata": {
    "ExecuteTime": {
     "end_time": "2021-08-23T02:18:19.768087Z",
     "start_time": "2021-08-23T02:18:19.747650Z"
    }
   },
   "outputs": [
    {
     "data": {
      "text/plain": [
       "[{'token': 'F', 'labels': ['O']},\n",
       " {'token': 'am', 'labels': ['O']},\n",
       " {'token': 'ilies', 'labels': ['O']},\n",
       " {'token': 'Ġof', 'labels': ['O']},\n",
       " {'token': 'Ġsoldiers', 'labels': ['O']},\n",
       " {'token': 'Ġkilled', 'labels': ['O']},\n",
       " {'token': 'Ġin', 'labels': ['O']},\n",
       " {'token': 'Ġthe', 'labels': ['O']},\n",
       " {'token': 'Ġconflict', 'labels': ['O']},\n",
       " {'token': 'Ġjoined', 'labels': ['O']},\n",
       " {'token': 'Ġthe', 'labels': ['O']},\n",
       " {'token': 'Ġprotesters', 'labels': ['O']},\n",
       " {'token': 'Ġwho', 'labels': ['O']},\n",
       " {'token': 'Ġcarried', 'labels': ['O']},\n",
       " {'token': 'Ġbanners', 'labels': ['O']},\n",
       " {'token': 'Ġwith', 'labels': ['O']},\n",
       " {'token': 'Ġsuch', 'labels': ['O']},\n",
       " {'token': 'Ġslogans', 'labels': ['O']},\n",
       " {'token': 'Ġas', 'labels': ['O']},\n",
       " {'token': 'Ġ\"', 'labels': ['O']},\n",
       " {'token': 'ĠBush', 'labels': ['Party', 'B-per']},\n",
       " {'token': 'ĠNumber', 'labels': ['O']},\n",
       " {'token': 'ĠOne', 'labels': ['O']},\n",
       " {'token': 'ĠTerror', 'labels': ['O']},\n",
       " {'token': 'ist', 'labels': ['O']},\n",
       " {'token': 'Ġ\"', 'labels': ['O']},\n",
       " {'token': 'Ġand', 'labels': ['O']},\n",
       " {'token': 'Ġ\"', 'labels': ['O']},\n",
       " {'token': 'ĠStop', 'labels': ['O']},\n",
       " {'token': 'Ġthe', 'labels': ['O']},\n",
       " {'token': 'ĠBomb', 'labels': ['O']},\n",
       " {'token': 'ings', 'labels': ['O']},\n",
       " {'token': 'Ġ.', 'labels': ['O']},\n",
       " {'token': '\"', 'labels': ['O']}]"
      ]
     },
     "execution_count": 10,
     "metadata": {},
     "output_type": "execute_result"
    }
   ],
   "source": [
    "result[\"token_and_labels\"]"
   ]
  },
  {
   "cell_type": "code",
   "execution_count": null,
   "metadata": {},
   "outputs": [],
   "source": []
  },
  {
   "cell_type": "code",
   "execution_count": 18,
   "metadata": {
    "ExecuteTime": {
     "end_time": "2021-08-23T02:24:29.090283Z",
     "start_time": "2021-08-23T02:24:29.083999Z"
    }
   },
   "outputs": [
    {
     "name": "stdout",
     "output_type": "stream",
     "text": [
      "1 | A | [\"O\"]\n",
      "1 | B | [\"O\"]\n",
      "1 | C | [\"O\"]\n"
     ]
    }
   ],
   "source": [
    "for i in range(3):\n",
    "    text = chr(ord(\"A\")+i)\n",
    "    print(f\"\"\"1 | {text} | [\"O\"]\"\"\")"
   ]
  },
  {
   "cell_type": "code",
   "execution_count": 22,
   "metadata": {
    "ExecuteTime": {
     "end_time": "2021-08-23T02:27:37.565890Z",
     "start_time": "2021-08-23T02:27:37.560695Z"
    }
   },
   "outputs": [
    {
     "name": "stdout",
     "output_type": "stream",
     "text": [
      "1 | E | Party|String\n",
      "1 | ason | Party|String\n",
      "1 | Ġwill | O\n",
      "1 | Ġmeet | O\n",
      "1 | ĠDan | Party|String\n",
      "1 | Ġat | O\n",
      "1 | Ġ2021 | TemporalUnit\n",
      "1 | - | TemporalUnit\n",
      "1 | 08 | TemporalUnit\n",
      "1 | - | TemporalUnit\n",
      "1 | 04 | TemporalUnit\n",
      "1 | Ġ18 | TemporalUnit\n",
      "1 | : | TemporalUnit\n",
      "1 | 00 | TemporalUnit\n",
      "1 | . | O\n"
     ]
    }
   ],
   "source": [
    "for row in result[\"token_and_labels\"]:\n",
    "    print(f\"\"\"{1} | {row[\"token\"]} | {\"|\".join(row[\"labels\"])}\"\"\")\n",
    "    #print(row)"
   ]
  },
  {
   "cell_type": "code",
   "execution_count": null,
   "metadata": {},
   "outputs": [],
   "source": []
  },
  {
   "cell_type": "code",
   "execution_count": null,
   "metadata": {},
   "outputs": [],
   "source": []
  }
 ],
 "metadata": {
  "kernelspec": {
   "display_name": "adapter",
   "language": "python",
   "name": "adapter"
  },
  "language_info": {
   "codemirror_mode": {
    "name": "ipython",
    "version": 3
   },
   "file_extension": ".py",
   "mimetype": "text/x-python",
   "name": "python",
   "nbconvert_exporter": "python",
   "pygments_lexer": "ipython3",
   "version": "3.7.10"
  }
 },
 "nbformat": 4,
 "nbformat_minor": 4
}
