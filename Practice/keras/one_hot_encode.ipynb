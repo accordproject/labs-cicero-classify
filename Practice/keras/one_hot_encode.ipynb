{
 "cells": [
  {
   "cell_type": "code",
   "execution_count": 1,
   "metadata": {},
   "outputs": [
    {
     "name": "stdout",
     "output_type": "stream",
     "text": [
      "[[1. 0. 0. 0. 0.]\n",
      " [0. 1. 0. 0. 0.]\n",
      " [0. 0. 0. 0. 1.]\n",
      " [1. 0. 0. 0. 0.]\n",
      " [0. 0. 1. 0. 0.]]\n"
     ]
    }
   ],
   "source": [
    "import numpy as np\n",
    "from tensorflow import keras\n",
    "### Categorical data to be converted to numeric data\n",
    "colors = [\"red\", \"green\", \"yellow\", \"red\", \"blue\"]\n",
    "\n",
    "### Universal list of colors\n",
    "total_colors = [\"red\", \"green\", \"blue\", \"black\", \"yellow\"]\n",
    "\n",
    "### map each color to an integer\n",
    "mapping = {}\n",
    "for x in range(len(total_colors)):\n",
    "  mapping[total_colors[x]] = x\n",
    "\n",
    "# integer representation\n",
    "for x in range(len(colors)):\n",
    "  colors[x] = mapping[colors[x]]\n",
    "\n",
    "one_hot_encode = keras.utils.to_categorical(colors)\n",
    "print(one_hot_encode)"
   ]
  },
  {
   "cell_type": "code",
   "execution_count": null,
   "metadata": {},
   "outputs": [],
   "source": []
  }
 ],
 "metadata": {
  "kernelspec": {
   "display_name": "tf25",
   "language": "python",
   "name": "tf25"
  },
  "language_info": {
   "codemirror_mode": {
    "name": "ipython",
    "version": 3
   },
   "file_extension": ".py",
   "mimetype": "text/x-python",
   "name": "python",
   "nbconvert_exporter": "python",
   "pygments_lexer": "ipython3",
   "version": "3.7.10"
  }
 },
 "nbformat": 4,
 "nbformat_minor": 4
}
