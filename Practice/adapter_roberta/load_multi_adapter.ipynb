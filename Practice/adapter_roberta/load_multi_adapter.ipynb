{
 "cells": [
  {
   "cell_type": "code",
   "execution_count": 1,
   "id": "8b9a0391",
   "metadata": {
    "ExecuteTime": {
     "end_time": "2021-08-13T20:57:29.161629Z",
     "start_time": "2021-08-13T20:57:28.276938Z"
    }
   },
   "outputs": [
    {
     "name": "stdout",
     "output_type": "stream",
     "text": [
      "Torch Version: 1.8.1\n",
      "transformers (Adapter) Version: 2.0.1\n"
     ]
    }
   ],
   "source": [
    "import pandas as pd\n",
    "import numpy as np\n",
    "import torch\n",
    "print(f\"Torch Version: {torch.__version__}\")\n",
    "\n",
    "import transformers\n",
    "print(f\"transformers (Adapter) Version: {transformers.__version__}\")"
   ]
  },
  {
   "cell_type": "code",
   "execution_count": 2,
   "id": "f380fe09",
   "metadata": {
    "ExecuteTime": {
     "end_time": "2021-08-13T20:57:39.114875Z",
     "start_time": "2021-08-13T20:57:29.163781Z"
    }
   },
   "outputs": [],
   "source": [
    "from transformers import RobertaTokenizer\n",
    "import numpy as np\n",
    "\n",
    "tokenizer = RobertaTokenizer.from_pretrained(\"roberta-base\")\n",
    "\n",
    "from transformers import RobertaTokenizer\n",
    "\n",
    "tokenizer = RobertaTokenizer.from_pretrained(\"roberta-base\")\n",
    "\n",
    "def encode_batch(batch):\n",
    "  \"\"\"Encodes a batch of input data using the model tokenizer.\"\"\"\n",
    "  return tokenizer(batch[\"text\"], max_length=80, truncation=True, padding=\"max_length\")"
   ]
  },
  {
   "cell_type": "code",
   "execution_count": 3,
   "id": "de5d9ff2",
   "metadata": {
    "ExecuteTime": {
     "end_time": "2021-08-13T20:57:40.921395Z",
     "start_time": "2021-08-13T20:57:39.988990Z"
    }
   },
   "outputs": [],
   "source": [
    "data_path = \"./NER_multilabel_data_v3.csv\"\n",
    "df = pd.read_csv(data_path)\n",
    "\n",
    "all_tags = df.newTag\n",
    "\n",
    "all_tags = set(all_tags)\n",
    "\n",
    "all_tags = \"|\".join(all_tags)\n",
    "all_tags = all_tags.split(\"|\")\n",
    "all_tags = set(all_tags)\n",
    "all_tags = list(all_tags)"
   ]
  },
  {
   "cell_type": "code",
   "execution_count": 5,
   "id": "c8805000",
   "metadata": {
    "ExecuteTime": {
     "end_time": "2021-08-13T20:58:15.783424Z",
     "start_time": "2021-08-13T20:58:05.970759Z"
    }
   },
   "outputs": [
    {
     "name": "stdout",
     "output_type": "stream",
     "text": [
      "labels: ['B-art' 'B-eve' 'B-geo' 'B-gpe' 'B-nat' 'B-org' 'B-per' 'B-tim'\n",
      " 'CountryCode' 'CryptoCurrencyCode' 'CurrencyCode' 'Event' 'Float' 'I-art'\n",
      " 'I-eve' 'I-geo' 'I-gpe' 'I-nat' 'I-org' 'I-per' 'I-tim' 'Integer'\n",
      " 'Location' 'Month' 'O' 'Object' 'Party' 'Race' 'SpecialTerm'\n",
      " 'TemporalUnit' 'Time' 'Timezone' 'US_States']\n"
     ]
    }
   ],
   "source": [
    "from ner_dataset import get_trainset_data_loader\n",
    "\n",
    "all_tags, trainset, trainloader = get_trainset_data_loader(tokenizer, BATCH_SIZE=128, data_path = data_path)"
   ]
  },
  {
   "cell_type": "code",
   "execution_count": 6,
   "id": "557e8a69",
   "metadata": {
    "ExecuteTime": {
     "end_time": "2021-08-13T20:59:33.934967Z",
     "start_time": "2021-08-13T20:59:29.303756Z"
    }
   },
   "outputs": [
    {
     "name": "stderr",
     "output_type": "stream",
     "text": [
      "Some weights of the model checkpoint at roberta-base were not used when initializing RobertaModelWithHeads: ['lm_head.bias', 'lm_head.dense.weight', 'lm_head.dense.bias', 'lm_head.layer_norm.weight', 'lm_head.layer_norm.bias', 'lm_head.decoder.weight']\n",
      "- This IS expected if you are initializing RobertaModelWithHeads from the checkpoint of a model trained on another task or with another architecture (e.g. initializing a BertForSequenceClassification model from a BertForPreTraining model).\n",
      "- This IS NOT expected if you are initializing RobertaModelWithHeads from the checkpoint of a model that you expect to be exactly identical (initializing a BertForSequenceClassification model from a BertForSequenceClassification model).\n",
      "Some weights of RobertaModelWithHeads were not initialized from the model checkpoint at roberta-base and are newly initialized: ['roberta.embeddings.position_ids']\n",
      "You should probably TRAIN this model on a down-stream task to be able to use it for predictions and inference.\n"
     ]
    }
   ],
   "source": [
    "\n",
    "from transformers import RobertaConfig, RobertaModelWithHeads\n",
    "\n",
    "config = RobertaConfig.from_pretrained(\n",
    "    \"roberta-base\",\n",
    "    num_labels=len(all_tags),\n",
    "    label2id = trainset.label_map, \n",
    "    id2label = trainset.id2label\n",
    ")\n",
    "model = RobertaModelWithHeads.from_pretrained(\n",
    "    \"roberta-base\",\n",
    "    config=config,\n",
    ")"
   ]
  },
  {
   "cell_type": "code",
   "execution_count": null,
   "id": "f8effda0",
   "metadata": {},
   "outputs": [],
   "source": []
  },
  {
   "cell_type": "code",
   "execution_count": 7,
   "id": "f4d6a050",
   "metadata": {
    "ExecuteTime": {
     "end_time": "2021-08-13T20:59:38.104023Z",
     "start_time": "2021-08-13T20:59:35.398524Z"
    }
   },
   "outputs": [
    {
     "name": "stderr",
     "output_type": "stream",
     "text": [
      "Overwriting existing head 'I-per'\n",
      "Overwriting existing head 'CryptoCurrencyCode'\n",
      "Overwriting existing head 'I-art'\n",
      "Overwriting existing head 'B-tim'\n",
      "Overwriting existing head 'I-org'\n",
      "Overwriting existing head 'B-eve'\n",
      "Overwriting existing head 'Time'\n",
      "Overwriting existing head 'I-nat'\n",
      "Overwriting existing head 'Month'\n",
      "Overwriting existing head 'B-geo'\n",
      "Overwriting existing head 'B-gpe'\n",
      "Overwriting existing head 'Event'\n",
      "Overwriting existing head 'Float'\n",
      "Overwriting existing head 'I-tim'\n",
      "Overwriting existing head 'B-org'\n",
      "Overwriting existing head 'Party'\n",
      "Overwriting existing head 'Race'\n",
      "Overwriting existing head 'Object'\n",
      "Overwriting existing head 'I-eve'\n",
      "Overwriting existing head 'Location'\n",
      "Overwriting existing head 'B-per'\n",
      "Overwriting existing head 'Timezone'\n",
      "Overwriting existing head 'O'\n",
      "Overwriting existing head 'US_States'\n",
      "Overwriting existing head 'I-gpe'\n",
      "Overwriting existing head 'TemporalUnit'\n",
      "Overwriting existing head 'CurrencyCode'\n",
      "Overwriting existing head 'B-art'\n",
      "Overwriting existing head 'Integer'\n",
      "Overwriting existing head 'SpecialTerm'\n",
      "Overwriting existing head 'CountryCode'\n",
      "Overwriting existing head 'B-nat'\n",
      "Overwriting existing head 'I-geo'\n"
     ]
    }
   ],
   "source": [
    "all_adapter_name = []\n",
    "for tag in all_tags:\n",
    "    adapter_name = f\"{tag}_0731\"\n",
    "    name = model.load_adapter(f\"./save_adapters/{adapter_name}\")\n",
    "    all_adapter_name.append(name)\n",
    "    model.load_head(f\"./save_heads/{adapter_name}\")"
   ]
  },
  {
   "cell_type": "code",
   "execution_count": 11,
   "id": "675ecefe",
   "metadata": {
    "ExecuteTime": {
     "end_time": "2021-08-13T21:00:30.917740Z",
     "start_time": "2021-08-13T21:00:30.914693Z"
    }
   },
   "outputs": [],
   "source": [
    "import re"
   ]
  },
  {
   "cell_type": "code",
   "execution_count": 14,
   "id": "e190361d",
   "metadata": {
    "ExecuteTime": {
     "end_time": "2021-08-13T21:00:58.158837Z",
     "start_time": "2021-08-13T21:00:58.154634Z"
    }
   },
   "outputs": [],
   "source": [
    "parallel_text = \"','\".join(all_adapter_name)\n",
    "result = re.findall(r'[;|(|)]',parallel_text)\n",
    "if len(result) != 0:\n",
    "    raise(ValueError(\"Adapter Name must not contain \\\"\" + '\\\", \\\"'.join(result) + '\"'))"
   ]
  },
  {
   "cell_type": "code",
   "execution_count": 15,
   "id": "e688e668",
   "metadata": {
    "ExecuteTime": {
     "end_time": "2021-08-13T21:00:58.547464Z",
     "start_time": "2021-08-13T21:00:58.542899Z"
    }
   },
   "outputs": [],
   "source": [
    "from transformers.adapters.composition import Parallel\n",
    "parallel = eval(\"Parallel('\" + \"','\".join(all_adapter_name) + \"')\")\n",
    "\n",
    "model.set_active_adapters(parallel)"
   ]
  },
  {
   "cell_type": "markdown",
   "id": "a9a0c59f",
   "metadata": {
    "ExecuteTime": {
     "end_time": "2021-07-30T02:56:50.281042Z",
     "start_time": "2021-07-30T02:56:50.208807Z"
    }
   },
   "source": [
    "adapter_name = \"All_tag_2\"\n",
    "model.load_adapter(f\"./save_adapters/{adapter_name}\")\n",
    "model.load_head(f\"./save_heads/{adapter_name}\")"
   ]
  },
  {
   "cell_type": "code",
   "execution_count": null,
   "id": "dfdf3993",
   "metadata": {},
   "outputs": [],
   "source": []
  },
  {
   "cell_type": "code",
   "execution_count": null,
   "id": "9a935fb2",
   "metadata": {},
   "outputs": [],
   "source": []
  },
  {
   "cell_type": "code",
   "execution_count": null,
   "id": "434df5ce",
   "metadata": {},
   "outputs": [],
   "source": []
  },
  {
   "cell_type": "code",
   "execution_count": null,
   "id": "54f243f7",
   "metadata": {
    "ExecuteTime": {
     "end_time": "2021-07-31T22:28:59.759050Z",
     "start_time": "2021-07-31T22:28:59.057721Z"
    }
   },
   "outputs": [],
   "source": []
  },
  {
   "cell_type": "code",
   "execution_count": 16,
   "id": "6a6899a6",
   "metadata": {
    "ExecuteTime": {
     "end_time": "2021-08-13T21:01:02.595854Z",
     "start_time": "2021-08-13T21:01:02.592942Z"
    }
   },
   "outputs": [],
   "source": [
    "device = \"cpu\""
   ]
  },
  {
   "cell_type": "code",
   "execution_count": 17,
   "id": "4eeac768",
   "metadata": {
    "ExecuteTime": {
     "end_time": "2021-08-13T21:01:02.986387Z",
     "start_time": "2021-08-13T21:01:02.982238Z"
    }
   },
   "outputs": [],
   "source": [
    "def get_adapter_mapping(model):\n",
    "    print(model.active_head)\n",
    "    label_2_id_mapping = dict()\n",
    "    id_2_label_mapping = dict()\n",
    "    for i, head in enumerate(model.active_head):\n",
    "        label_2_id_mapping[head] = i\n",
    "        id_2_label_mapping[i] = head\n",
    "    return label_2_id_mapping, id_2_label_mapping"
   ]
  },
  {
   "cell_type": "code",
   "execution_count": 18,
   "id": "cad16cb9",
   "metadata": {
    "ExecuteTime": {
     "end_time": "2021-08-13T21:01:05.334650Z",
     "start_time": "2021-08-13T21:01:05.322314Z"
    }
   },
   "outputs": [],
   "source": [
    "def model_predict(model, sentence, device = \"cpu\"):\n",
    "    tokenized_sentence = torch.tensor([tokenizer.encode(sentence)])\n",
    "    pos = torch.tensor([[0] * len(tokenized_sentence)])\n",
    "    tags = torch.tensor([[1] * len(tokenized_sentence)])\n",
    "\n",
    "    model = model.to(device)\n",
    "    with torch.no_grad():\n",
    "        outputs = model(input_ids=tokenized_sentence.to(device), \n",
    "                        token_type_ids=pos.to(device), \n",
    "                        attention_mask=tags.to(device))\n",
    "\n",
    "    logits = outputs[1][0]\n",
    "\n",
    "    return_tags_order = {}\n",
    "    all_output = None\n",
    "    for i, output in enumerate(outputs):\n",
    "\n",
    "        return_tags_order[i] = (model.active_head[i])\n",
    "\n",
    "        output = outputs[i][0]\n",
    "\n",
    "        if all_output != None:\n",
    "            all_output = torch.cat((all_output, output), dim=2)\n",
    "        else:\n",
    "            all_output = output\n",
    "    all_output = torch.sigmoid(all_output)\n",
    "\n",
    "    output_array = np.array(all_output)\n",
    "    output_array = output_array.reshape(output_array.shape[-2], output_array.shape[-1])\n",
    "\n",
    "    label_confidences = []\n",
    "    for label_confidence in list(output_array):\n",
    "        label_confidences.append(list(label_confidence))\n",
    "\n",
    "    #Drop Head and End since it is start/stop Token\n",
    "    label_confidences = label_confidences[1:-1]\n",
    "\n",
    "    max_value = np.array(label_confidences).argmax(axis=1)\n",
    "    trans_func = np.vectorize(lambda x: model.active_head[x])\n",
    "    out_labels = trans_func(max_value)\n",
    "\n",
    "    out_sentence = tokenizer.tokenize(sentence)\n",
    "\n",
    "    return out_sentence, out_labels, label_confidences, return_tags_order"
   ]
  },
  {
   "cell_type": "code",
   "execution_count": 38,
   "id": "7e488772",
   "metadata": {
    "ExecuteTime": {
     "end_time": "2021-08-13T21:03:08.165145Z",
     "start_time": "2021-08-13T21:03:07.378635Z"
    }
   },
   "outputs": [],
   "source": [
    "df = pd.read_csv(data_path)"
   ]
  },
  {
   "cell_type": "code",
   "execution_count": 41,
   "id": "08ccc319",
   "metadata": {
    "ExecuteTime": {
     "end_time": "2021-08-13T21:03:40.374088Z",
     "start_time": "2021-08-13T21:03:40.141006Z"
    }
   },
   "outputs": [
    {
     "data": {
      "text/html": [
       "<div>\n",
       "<style scoped>\n",
       "    .dataframe tbody tr th:only-of-type {\n",
       "        vertical-align: middle;\n",
       "    }\n",
       "\n",
       "    .dataframe tbody tr th {\n",
       "        vertical-align: top;\n",
       "    }\n",
       "\n",
       "    .dataframe thead th {\n",
       "        text-align: right;\n",
       "    }\n",
       "</style>\n",
       "<table border=\"1\" class=\"dataframe\">\n",
       "  <thead>\n",
       "    <tr style=\"text-align: right;\">\n",
       "      <th></th>\n",
       "      <th>Unnamed: 0</th>\n",
       "      <th>Unnamed: 0.1</th>\n",
       "      <th>Sentence #</th>\n",
       "      <th>Word</th>\n",
       "      <th>POS</th>\n",
       "      <th>Tag</th>\n",
       "      <th>newTag</th>\n",
       "    </tr>\n",
       "  </thead>\n",
       "  <tbody>\n",
       "    <tr>\n",
       "      <th>582</th>\n",
       "      <td>582</td>\n",
       "      <td>419</td>\n",
       "      <td>NaN</td>\n",
       "      <td>Ġ2</td>\n",
       "      <td>CD</td>\n",
       "      <td>O</td>\n",
       "      <td>Float</td>\n",
       "    </tr>\n",
       "    <tr>\n",
       "      <th>583</th>\n",
       "      <td>583</td>\n",
       "      <td>419</td>\n",
       "      <td>NaN</td>\n",
       "      <td>.</td>\n",
       "      <td>CD</td>\n",
       "      <td>O</td>\n",
       "      <td>Float</td>\n",
       "    </tr>\n",
       "    <tr>\n",
       "      <th>584</th>\n",
       "      <td>584</td>\n",
       "      <td>419</td>\n",
       "      <td>NaN</td>\n",
       "      <td>3</td>\n",
       "      <td>CD</td>\n",
       "      <td>O</td>\n",
       "      <td>Float</td>\n",
       "    </tr>\n",
       "    <tr>\n",
       "      <th>8405</th>\n",
       "      <td>8405</td>\n",
       "      <td>6081</td>\n",
       "      <td>NaN</td>\n",
       "      <td>Ġ4</td>\n",
       "      <td>CD</td>\n",
       "      <td>O</td>\n",
       "      <td>Float</td>\n",
       "    </tr>\n",
       "    <tr>\n",
       "      <th>8406</th>\n",
       "      <td>8406</td>\n",
       "      <td>6081</td>\n",
       "      <td>NaN</td>\n",
       "      <td>.</td>\n",
       "      <td>CD</td>\n",
       "      <td>O</td>\n",
       "      <td>Float</td>\n",
       "    </tr>\n",
       "    <tr>\n",
       "      <th>8407</th>\n",
       "      <td>8407</td>\n",
       "      <td>6081</td>\n",
       "      <td>NaN</td>\n",
       "      <td>6</td>\n",
       "      <td>CD</td>\n",
       "      <td>O</td>\n",
       "      <td>Float</td>\n",
       "    </tr>\n",
       "    <tr>\n",
       "      <th>8422</th>\n",
       "      <td>8422</td>\n",
       "      <td>6096</td>\n",
       "      <td>NaN</td>\n",
       "      <td>Ġ17</td>\n",
       "      <td>CD</td>\n",
       "      <td>O</td>\n",
       "      <td>Float</td>\n",
       "    </tr>\n",
       "    <tr>\n",
       "      <th>8423</th>\n",
       "      <td>8423</td>\n",
       "      <td>6096</td>\n",
       "      <td>NaN</td>\n",
       "      <td>.</td>\n",
       "      <td>CD</td>\n",
       "      <td>O</td>\n",
       "      <td>Float</td>\n",
       "    </tr>\n",
       "    <tr>\n",
       "      <th>8424</th>\n",
       "      <td>8424</td>\n",
       "      <td>6096</td>\n",
       "      <td>NaN</td>\n",
       "      <td>09</td>\n",
       "      <td>CD</td>\n",
       "      <td>O</td>\n",
       "      <td>Float</td>\n",
       "    </tr>\n",
       "    <tr>\n",
       "      <th>16475</th>\n",
       "      <td>16475</td>\n",
       "      <td>11903</td>\n",
       "      <td>NaN</td>\n",
       "      <td>Ġ4</td>\n",
       "      <td>CD</td>\n",
       "      <td>O</td>\n",
       "      <td>Float</td>\n",
       "    </tr>\n",
       "    <tr>\n",
       "      <th>16476</th>\n",
       "      <td>16476</td>\n",
       "      <td>11903</td>\n",
       "      <td>NaN</td>\n",
       "      <td>.</td>\n",
       "      <td>CD</td>\n",
       "      <td>O</td>\n",
       "      <td>Float</td>\n",
       "    </tr>\n",
       "    <tr>\n",
       "      <th>16477</th>\n",
       "      <td>16477</td>\n",
       "      <td>11903</td>\n",
       "      <td>NaN</td>\n",
       "      <td>8</td>\n",
       "      <td>CD</td>\n",
       "      <td>O</td>\n",
       "      <td>Float</td>\n",
       "    </tr>\n",
       "    <tr>\n",
       "      <th>16527</th>\n",
       "      <td>16527</td>\n",
       "      <td>11938</td>\n",
       "      <td>NaN</td>\n",
       "      <td>Ġ7</td>\n",
       "      <td>CD</td>\n",
       "      <td>O</td>\n",
       "      <td>Float</td>\n",
       "    </tr>\n",
       "    <tr>\n",
       "      <th>16528</th>\n",
       "      <td>16528</td>\n",
       "      <td>11938</td>\n",
       "      <td>NaN</td>\n",
       "      <td>.</td>\n",
       "      <td>CD</td>\n",
       "      <td>O</td>\n",
       "      <td>Float</td>\n",
       "    </tr>\n",
       "    <tr>\n",
       "      <th>16529</th>\n",
       "      <td>16529</td>\n",
       "      <td>11938</td>\n",
       "      <td>NaN</td>\n",
       "      <td>5</td>\n",
       "      <td>CD</td>\n",
       "      <td>O</td>\n",
       "      <td>Float</td>\n",
       "    </tr>\n",
       "    <tr>\n",
       "      <th>19191</th>\n",
       "      <td>19191</td>\n",
       "      <td>13912</td>\n",
       "      <td>NaN</td>\n",
       "      <td>Ġ1</td>\n",
       "      <td>CD</td>\n",
       "      <td>O</td>\n",
       "      <td>Float</td>\n",
       "    </tr>\n",
       "    <tr>\n",
       "      <th>19192</th>\n",
       "      <td>19192</td>\n",
       "      <td>13912</td>\n",
       "      <td>NaN</td>\n",
       "      <td>.</td>\n",
       "      <td>CD</td>\n",
       "      <td>O</td>\n",
       "      <td>Float</td>\n",
       "    </tr>\n",
       "    <tr>\n",
       "      <th>19193</th>\n",
       "      <td>19193</td>\n",
       "      <td>13912</td>\n",
       "      <td>NaN</td>\n",
       "      <td>3</td>\n",
       "      <td>CD</td>\n",
       "      <td>O</td>\n",
       "      <td>Float</td>\n",
       "    </tr>\n",
       "    <tr>\n",
       "      <th>19416</th>\n",
       "      <td>19416</td>\n",
       "      <td>14074</td>\n",
       "      <td>NaN</td>\n",
       "      <td>Ġ4</td>\n",
       "      <td>CD</td>\n",
       "      <td>O</td>\n",
       "      <td>Float</td>\n",
       "    </tr>\n",
       "    <tr>\n",
       "      <th>19417</th>\n",
       "      <td>19417</td>\n",
       "      <td>14074</td>\n",
       "      <td>NaN</td>\n",
       "      <td>.</td>\n",
       "      <td>CD</td>\n",
       "      <td>O</td>\n",
       "      <td>Float</td>\n",
       "    </tr>\n",
       "    <tr>\n",
       "      <th>19418</th>\n",
       "      <td>19418</td>\n",
       "      <td>14074</td>\n",
       "      <td>NaN</td>\n",
       "      <td>5</td>\n",
       "      <td>CD</td>\n",
       "      <td>O</td>\n",
       "      <td>Float</td>\n",
       "    </tr>\n",
       "    <tr>\n",
       "      <th>21871</th>\n",
       "      <td>21871</td>\n",
       "      <td>15858</td>\n",
       "      <td>NaN</td>\n",
       "      <td>Ġ1</td>\n",
       "      <td>CD</td>\n",
       "      <td>O</td>\n",
       "      <td>Float</td>\n",
       "    </tr>\n",
       "    <tr>\n",
       "      <th>21872</th>\n",
       "      <td>21872</td>\n",
       "      <td>15858</td>\n",
       "      <td>NaN</td>\n",
       "      <td>.</td>\n",
       "      <td>CD</td>\n",
       "      <td>O</td>\n",
       "      <td>Float</td>\n",
       "    </tr>\n",
       "    <tr>\n",
       "      <th>21873</th>\n",
       "      <td>21873</td>\n",
       "      <td>15858</td>\n",
       "      <td>NaN</td>\n",
       "      <td>8</td>\n",
       "      <td>CD</td>\n",
       "      <td>O</td>\n",
       "      <td>Float</td>\n",
       "    </tr>\n",
       "    <tr>\n",
       "      <th>22386</th>\n",
       "      <td>22386</td>\n",
       "      <td>16247</td>\n",
       "      <td>NaN</td>\n",
       "      <td>Ġ1</td>\n",
       "      <td>CD</td>\n",
       "      <td>O</td>\n",
       "      <td>Float</td>\n",
       "    </tr>\n",
       "    <tr>\n",
       "      <th>22387</th>\n",
       "      <td>22387</td>\n",
       "      <td>16247</td>\n",
       "      <td>NaN</td>\n",
       "      <td>.</td>\n",
       "      <td>CD</td>\n",
       "      <td>O</td>\n",
       "      <td>Float</td>\n",
       "    </tr>\n",
       "    <tr>\n",
       "      <th>22388</th>\n",
       "      <td>22388</td>\n",
       "      <td>16247</td>\n",
       "      <td>NaN</td>\n",
       "      <td>5</td>\n",
       "      <td>CD</td>\n",
       "      <td>O</td>\n",
       "      <td>Float</td>\n",
       "    </tr>\n",
       "    <tr>\n",
       "      <th>22529</th>\n",
       "      <td>22529</td>\n",
       "      <td>16351</td>\n",
       "      <td>NaN</td>\n",
       "      <td>Ġ1</td>\n",
       "      <td>CD</td>\n",
       "      <td>O</td>\n",
       "      <td>Float</td>\n",
       "    </tr>\n",
       "    <tr>\n",
       "      <th>22530</th>\n",
       "      <td>22530</td>\n",
       "      <td>16351</td>\n",
       "      <td>NaN</td>\n",
       "      <td>.</td>\n",
       "      <td>CD</td>\n",
       "      <td>O</td>\n",
       "      <td>Float</td>\n",
       "    </tr>\n",
       "    <tr>\n",
       "      <th>22531</th>\n",
       "      <td>22531</td>\n",
       "      <td>16351</td>\n",
       "      <td>NaN</td>\n",
       "      <td>6</td>\n",
       "      <td>CD</td>\n",
       "      <td>O</td>\n",
       "      <td>Float</td>\n",
       "    </tr>\n",
       "    <tr>\n",
       "      <th>23004</th>\n",
       "      <td>23004</td>\n",
       "      <td>16713</td>\n",
       "      <td>NaN</td>\n",
       "      <td>Ġ3</td>\n",
       "      <td>CD</td>\n",
       "      <td>O</td>\n",
       "      <td>Float</td>\n",
       "    </tr>\n",
       "    <tr>\n",
       "      <th>23005</th>\n",
       "      <td>23005</td>\n",
       "      <td>16713</td>\n",
       "      <td>NaN</td>\n",
       "      <td>.</td>\n",
       "      <td>CD</td>\n",
       "      <td>O</td>\n",
       "      <td>Float</td>\n",
       "    </tr>\n",
       "    <tr>\n",
       "      <th>23006</th>\n",
       "      <td>23006</td>\n",
       "      <td>16713</td>\n",
       "      <td>NaN</td>\n",
       "      <td>9</td>\n",
       "      <td>CD</td>\n",
       "      <td>O</td>\n",
       "      <td>Float</td>\n",
       "    </tr>\n",
       "    <tr>\n",
       "      <th>24566</th>\n",
       "      <td>24566</td>\n",
       "      <td>17835</td>\n",
       "      <td>NaN</td>\n",
       "      <td>Ġ5</td>\n",
       "      <td>CD</td>\n",
       "      <td>O</td>\n",
       "      <td>Float</td>\n",
       "    </tr>\n",
       "    <tr>\n",
       "      <th>24567</th>\n",
       "      <td>24567</td>\n",
       "      <td>17835</td>\n",
       "      <td>NaN</td>\n",
       "      <td>.</td>\n",
       "      <td>CD</td>\n",
       "      <td>O</td>\n",
       "      <td>Float</td>\n",
       "    </tr>\n",
       "    <tr>\n",
       "      <th>24568</th>\n",
       "      <td>24568</td>\n",
       "      <td>17835</td>\n",
       "      <td>NaN</td>\n",
       "      <td>8</td>\n",
       "      <td>CD</td>\n",
       "      <td>O</td>\n",
       "      <td>Float</td>\n",
       "    </tr>\n",
       "    <tr>\n",
       "      <th>28357</th>\n",
       "      <td>28357</td>\n",
       "      <td>20604</td>\n",
       "      <td>NaN</td>\n",
       "      <td>Ġ1</td>\n",
       "      <td>CD</td>\n",
       "      <td>O</td>\n",
       "      <td>Float</td>\n",
       "    </tr>\n",
       "    <tr>\n",
       "      <th>28358</th>\n",
       "      <td>28358</td>\n",
       "      <td>20604</td>\n",
       "      <td>NaN</td>\n",
       "      <td>.</td>\n",
       "      <td>CD</td>\n",
       "      <td>O</td>\n",
       "      <td>Float</td>\n",
       "    </tr>\n",
       "    <tr>\n",
       "      <th>28359</th>\n",
       "      <td>28359</td>\n",
       "      <td>20604</td>\n",
       "      <td>NaN</td>\n",
       "      <td>6</td>\n",
       "      <td>CD</td>\n",
       "      <td>O</td>\n",
       "      <td>Float</td>\n",
       "    </tr>\n",
       "    <tr>\n",
       "      <th>29956</th>\n",
       "      <td>29956</td>\n",
       "      <td>21707</td>\n",
       "      <td>NaN</td>\n",
       "      <td>Ġ6</td>\n",
       "      <td>CD</td>\n",
       "      <td>O</td>\n",
       "      <td>Float</td>\n",
       "    </tr>\n",
       "    <tr>\n",
       "      <th>29957</th>\n",
       "      <td>29957</td>\n",
       "      <td>21707</td>\n",
       "      <td>NaN</td>\n",
       "      <td>.</td>\n",
       "      <td>CD</td>\n",
       "      <td>O</td>\n",
       "      <td>Float</td>\n",
       "    </tr>\n",
       "    <tr>\n",
       "      <th>29958</th>\n",
       "      <td>29958</td>\n",
       "      <td>21707</td>\n",
       "      <td>NaN</td>\n",
       "      <td>4</td>\n",
       "      <td>CD</td>\n",
       "      <td>O</td>\n",
       "      <td>Float</td>\n",
       "    </tr>\n",
       "    <tr>\n",
       "      <th>30660</th>\n",
       "      <td>30660</td>\n",
       "      <td>22235</td>\n",
       "      <td>NaN</td>\n",
       "      <td>Ġ7</td>\n",
       "      <td>CD</td>\n",
       "      <td>O</td>\n",
       "      <td>Float</td>\n",
       "    </tr>\n",
       "    <tr>\n",
       "      <th>30661</th>\n",
       "      <td>30661</td>\n",
       "      <td>22235</td>\n",
       "      <td>NaN</td>\n",
       "      <td>.</td>\n",
       "      <td>CD</td>\n",
       "      <td>O</td>\n",
       "      <td>Float</td>\n",
       "    </tr>\n",
       "    <tr>\n",
       "      <th>30662</th>\n",
       "      <td>30662</td>\n",
       "      <td>22235</td>\n",
       "      <td>NaN</td>\n",
       "      <td>6</td>\n",
       "      <td>CD</td>\n",
       "      <td>O</td>\n",
       "      <td>Float</td>\n",
       "    </tr>\n",
       "    <tr>\n",
       "      <th>37260</th>\n",
       "      <td>37260</td>\n",
       "      <td>26969</td>\n",
       "      <td>NaN</td>\n",
       "      <td>Ġ4</td>\n",
       "      <td>CD</td>\n",
       "      <td>O</td>\n",
       "      <td>Float</td>\n",
       "    </tr>\n",
       "    <tr>\n",
       "      <th>37261</th>\n",
       "      <td>37261</td>\n",
       "      <td>26969</td>\n",
       "      <td>NaN</td>\n",
       "      <td>.</td>\n",
       "      <td>CD</td>\n",
       "      <td>O</td>\n",
       "      <td>Float</td>\n",
       "    </tr>\n",
       "    <tr>\n",
       "      <th>37262</th>\n",
       "      <td>37262</td>\n",
       "      <td>26969</td>\n",
       "      <td>NaN</td>\n",
       "      <td>9</td>\n",
       "      <td>CD</td>\n",
       "      <td>O</td>\n",
       "      <td>Float</td>\n",
       "    </tr>\n",
       "    <tr>\n",
       "      <th>40784</th>\n",
       "      <td>40784</td>\n",
       "      <td>29544</td>\n",
       "      <td>NaN</td>\n",
       "      <td>Ġ2</td>\n",
       "      <td>CD</td>\n",
       "      <td>O</td>\n",
       "      <td>Float</td>\n",
       "    </tr>\n",
       "    <tr>\n",
       "      <th>40785</th>\n",
       "      <td>40785</td>\n",
       "      <td>29544</td>\n",
       "      <td>NaN</td>\n",
       "      <td>.</td>\n",
       "      <td>CD</td>\n",
       "      <td>O</td>\n",
       "      <td>Float</td>\n",
       "    </tr>\n",
       "  </tbody>\n",
       "</table>\n",
       "</div>"
      ],
      "text/plain": [
       "       Unnamed: 0  Unnamed: 0.1 Sentence # Word POS Tag newTag\n",
       "582           582           419        NaN   Ġ2  CD   O  Float\n",
       "583           583           419        NaN    .  CD   O  Float\n",
       "584           584           419        NaN    3  CD   O  Float\n",
       "8405         8405          6081        NaN   Ġ4  CD   O  Float\n",
       "8406         8406          6081        NaN    .  CD   O  Float\n",
       "8407         8407          6081        NaN    6  CD   O  Float\n",
       "8422         8422          6096        NaN  Ġ17  CD   O  Float\n",
       "8423         8423          6096        NaN    .  CD   O  Float\n",
       "8424         8424          6096        NaN   09  CD   O  Float\n",
       "16475       16475         11903        NaN   Ġ4  CD   O  Float\n",
       "16476       16476         11903        NaN    .  CD   O  Float\n",
       "16477       16477         11903        NaN    8  CD   O  Float\n",
       "16527       16527         11938        NaN   Ġ7  CD   O  Float\n",
       "16528       16528         11938        NaN    .  CD   O  Float\n",
       "16529       16529         11938        NaN    5  CD   O  Float\n",
       "19191       19191         13912        NaN   Ġ1  CD   O  Float\n",
       "19192       19192         13912        NaN    .  CD   O  Float\n",
       "19193       19193         13912        NaN    3  CD   O  Float\n",
       "19416       19416         14074        NaN   Ġ4  CD   O  Float\n",
       "19417       19417         14074        NaN    .  CD   O  Float\n",
       "19418       19418         14074        NaN    5  CD   O  Float\n",
       "21871       21871         15858        NaN   Ġ1  CD   O  Float\n",
       "21872       21872         15858        NaN    .  CD   O  Float\n",
       "21873       21873         15858        NaN    8  CD   O  Float\n",
       "22386       22386         16247        NaN   Ġ1  CD   O  Float\n",
       "22387       22387         16247        NaN    .  CD   O  Float\n",
       "22388       22388         16247        NaN    5  CD   O  Float\n",
       "22529       22529         16351        NaN   Ġ1  CD   O  Float\n",
       "22530       22530         16351        NaN    .  CD   O  Float\n",
       "22531       22531         16351        NaN    6  CD   O  Float\n",
       "23004       23004         16713        NaN   Ġ3  CD   O  Float\n",
       "23005       23005         16713        NaN    .  CD   O  Float\n",
       "23006       23006         16713        NaN    9  CD   O  Float\n",
       "24566       24566         17835        NaN   Ġ5  CD   O  Float\n",
       "24567       24567         17835        NaN    .  CD   O  Float\n",
       "24568       24568         17835        NaN    8  CD   O  Float\n",
       "28357       28357         20604        NaN   Ġ1  CD   O  Float\n",
       "28358       28358         20604        NaN    .  CD   O  Float\n",
       "28359       28359         20604        NaN    6  CD   O  Float\n",
       "29956       29956         21707        NaN   Ġ6  CD   O  Float\n",
       "29957       29957         21707        NaN    .  CD   O  Float\n",
       "29958       29958         21707        NaN    4  CD   O  Float\n",
       "30660       30660         22235        NaN   Ġ7  CD   O  Float\n",
       "30661       30661         22235        NaN    .  CD   O  Float\n",
       "30662       30662         22235        NaN    6  CD   O  Float\n",
       "37260       37260         26969        NaN   Ġ4  CD   O  Float\n",
       "37261       37261         26969        NaN    .  CD   O  Float\n",
       "37262       37262         26969        NaN    9  CD   O  Float\n",
       "40784       40784         29544        NaN   Ġ2  CD   O  Float\n",
       "40785       40785         29544        NaN    .  CD   O  Float"
      ]
     },
     "execution_count": 41,
     "metadata": {},
     "output_type": "execute_result"
    }
   ],
   "source": [
    "df[df[\"newTag\"].apply(lambda x: \"Float\" in x)][0:50]"
   ]
  },
  {
   "cell_type": "code",
   "execution_count": null,
   "id": "424b9c42",
   "metadata": {},
   "outputs": [],
   "source": []
  },
  {
   "cell_type": "code",
   "execution_count": null,
   "id": "40283d61",
   "metadata": {},
   "outputs": [],
   "source": []
  },
  {
   "cell_type": "code",
   "execution_count": 56,
   "id": "1730f843",
   "metadata": {
    "ExecuteTime": {
     "end_time": "2021-08-13T21:23:05.277219Z",
     "start_time": "2021-08-13T21:23:05.273019Z"
    }
   },
   "outputs": [],
   "source": [
    "sentence = \"Dan will be deemed to have completed its delivery for 18.22 obligations before 2021-7-5 if in Niall's opinion, the Jeep Car satisfies the Acceptance Criteria, and Niall notifies Dan in writing that it is accepting the Jeep Car.\"\n",
    "sentence = \"I like to Ġ4\""
   ]
  },
  {
   "cell_type": "code",
   "execution_count": 57,
   "id": "2c2e0cf9",
   "metadata": {
    "ExecuteTime": {
     "end_time": "2021-08-13T21:23:05.776317Z",
     "start_time": "2021-08-13T21:23:05.569393Z"
    }
   },
   "outputs": [],
   "source": [
    "sen, pred, logits, tags_order = model_predict(model, sentence)"
   ]
  },
  {
   "cell_type": "code",
   "execution_count": 58,
   "id": "5fb6a1e9",
   "metadata": {
    "ExecuteTime": {
     "end_time": "2021-08-13T21:23:05.782346Z",
     "start_time": "2021-08-13T21:23:05.778808Z"
    }
   },
   "outputs": [
    {
     "name": "stdout",
     "output_type": "stream",
     "text": [
      "['I-per', 'CryptoCurrencyCode', 'I-art', 'B-tim', 'I-org', 'B-eve', 'Time', 'I-nat', 'Month', 'B-geo', 'B-gpe', 'Event', 'Float', 'I-tim', 'B-org', 'Party', 'Race', 'Object', 'I-eve', 'Location', 'B-per', 'Timezone', 'O', 'US_States', 'I-gpe', 'TemporalUnit', 'CurrencyCode', 'B-art', 'Integer', 'SpecialTerm', 'CountryCode', 'B-nat', 'I-geo']\n"
     ]
    }
   ],
   "source": [
    "label_2_id_mapping, id_2_label_mapping = get_adapter_mapping(model)"
   ]
  },
  {
   "cell_type": "code",
   "execution_count": 59,
   "id": "0fef2767",
   "metadata": {
    "ExecuteTime": {
     "end_time": "2021-08-13T21:23:05.917038Z",
     "start_time": "2021-08-13T21:23:05.912766Z"
    },
    "scrolled": true
   },
   "outputs": [
    {
     "data": {
      "text/plain": [
       "array(['I', 'Ġlike', 'Ġto', 'ĠÄ', 'ł', '4'], dtype='<U5')"
      ]
     },
     "execution_count": 59,
     "metadata": {},
     "output_type": "execute_result"
    }
   ],
   "source": [
    "np.array(sen)"
   ]
  },
  {
   "cell_type": "code",
   "execution_count": 60,
   "id": "ce3c8084",
   "metadata": {
    "ExecuteTime": {
     "end_time": "2021-08-13T21:23:07.302528Z",
     "start_time": "2021-08-13T21:23:07.294159Z"
    }
   },
   "outputs": [
    {
     "data": {
      "text/plain": [
       "array(['O', 'O', 'O', 'O', 'O', 'Integer'], dtype='<U7')"
      ]
     },
     "execution_count": 60,
     "metadata": {},
     "output_type": "execute_result"
    }
   ],
   "source": [
    "np.array(pred)"
   ]
  },
  {
   "cell_type": "code",
   "execution_count": null,
   "id": "d5458815",
   "metadata": {},
   "outputs": [],
   "source": []
  },
  {
   "cell_type": "code",
   "execution_count": 61,
   "id": "67dd7d01",
   "metadata": {
    "ExecuteTime": {
     "end_time": "2021-08-13T21:23:18.929254Z",
     "start_time": "2021-08-13T21:23:18.919623Z"
    }
   },
   "outputs": [],
   "source": [
    "from __future__ import print_function\n",
    "from ipywidgets import interact, interactive, fixed, interact_manual\n",
    "import ipywidgets as widgets\n",
    "def interact_word(i):\n",
    "    print(i)\n",
    "    print(f\"{sen[i].replace('Ġ', '')}: {pred[i]}\")\n",
    "    target = logits[i]\n",
    "\n",
    "    outprint = {}\n",
    "    for i in range(len(target)):\n",
    "        outprint[target[i]] = (f\"{tags_order[i].ljust(6)} \\t: {target[i]:.5f}\")\n",
    "        \n",
    "    outprint_keys = list(outprint.keys())\n",
    "    outprint_keys.sort(reverse=True)\n",
    "    for i, key in enumerate(outprint_keys):\n",
    "        print(f\"{str(i).ljust(2)} {outprint[key]}\")"
   ]
  },
  {
   "cell_type": "code",
   "execution_count": 55,
   "id": "ccb4ed4e",
   "metadata": {
    "ExecuteTime": {
     "end_time": "2021-08-13T21:06:25.332993Z",
     "start_time": "2021-08-13T21:06:25.302886Z"
    }
   },
   "outputs": [
    {
     "data": {
      "application/vnd.jupyter.widget-view+json": {
       "model_id": "20a3c3a03939438c80fd4e80765c5e28",
       "version_major": 2,
       "version_minor": 0
      },
      "text/plain": [
       "interactive(children=(IntSlider(value=0, description='x', max=3), Output()), _dom_classes=('widget-interact',)…"
      ]
     },
     "metadata": {},
     "output_type": "display_data"
    },
    {
     "data": {
      "text/plain": [
       "<function __main__.<lambda>(x)>"
      ]
     },
     "execution_count": 55,
     "metadata": {},
     "output_type": "execute_result"
    }
   ],
   "source": [
    "\n",
    "interact(lambda x: interact_word(x), x=widgets.IntSlider(min=0, max=len(sen)-1, step=1, value=0))"
   ]
  },
  {
   "cell_type": "code",
   "execution_count": null,
   "id": "10fe8d11",
   "metadata": {},
   "outputs": [],
   "source": []
  }
 ],
 "metadata": {
  "kernelspec": {
   "display_name": "adapter",
   "language": "python",
   "name": "adapter"
  },
  "language_info": {
   "codemirror_mode": {
    "name": "ipython",
    "version": 3
   },
   "file_extension": ".py",
   "mimetype": "text/x-python",
   "name": "python",
   "nbconvert_exporter": "python",
   "pygments_lexer": "ipython3",
   "version": "3.7.10"
  }
 },
 "nbformat": 4,
 "nbformat_minor": 5
}
