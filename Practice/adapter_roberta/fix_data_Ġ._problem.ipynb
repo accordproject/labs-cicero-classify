{
 "cells": [
  {
   "cell_type": "code",
   "execution_count": 1,
   "id": "72da598d",
   "metadata": {
    "ExecuteTime": {
     "end_time": "2021-08-13T21:23:52.338505Z",
     "start_time": "2021-08-13T21:23:51.563970Z"
    }
   },
   "outputs": [],
   "source": [
    "import pandas as pd\n",
    "import numpy as np\n",
    "import torch\n"
   ]
  },
  {
   "cell_type": "code",
   "execution_count": 2,
   "id": "70c95582",
   "metadata": {
    "ExecuteTime": {
     "end_time": "2021-08-13T21:24:02.681273Z",
     "start_time": "2021-08-13T21:24:02.675301Z"
    }
   },
   "outputs": [],
   "source": [
    "data_path = \"./NER_multilabel_data_v3.csv\""
   ]
  },
  {
   "cell_type": "code",
   "execution_count": 3,
   "id": "cce39832",
   "metadata": {
    "ExecuteTime": {
     "end_time": "2021-08-13T21:24:05.487634Z",
     "start_time": "2021-08-13T21:24:04.520413Z"
    }
   },
   "outputs": [],
   "source": [
    "df = pd.read_csv(data_path)\n",
    "\n",
    "all_tags = df.newTag\n",
    "\n",
    "all_tags = set(all_tags)\n",
    "\n",
    "all_tags = \"|\".join(all_tags)\n",
    "all_tags = all_tags.split(\"|\")\n",
    "all_tags = set(all_tags)\n",
    "all_tags = list(all_tags)\n",
    "\n",
    "\n",
    "def process_csv(data_path):\n",
    "    df = pd.read_csv(data_path, encoding=\"latin-1\")\n",
    "    df.loc[:, \"Sentence #\"] = df[\"Sentence #\"].fillna(method=\"ffill\")\n",
    "    sentences = df.groupby(\"Sentence #\")[\"Word\"].apply(list).values\n",
    "    tags = df.groupby(\"Sentence #\")[\"newTag\"].apply(list).values\n",
    "    return sentences, tags"
   ]
  },
  {
   "cell_type": "code",
   "execution_count": 6,
   "id": "232149e9",
   "metadata": {
    "ExecuteTime": {
     "end_time": "2021-08-13T21:24:29.772858Z",
     "start_time": "2021-08-13T21:24:26.809937Z"
    }
   },
   "outputs": [],
   "source": [
    "sentences, tags = process_csv(data_path)"
   ]
  },
  {
   "cell_type": "code",
   "execution_count": 49,
   "id": "4c97e4a7",
   "metadata": {
    "ExecuteTime": {
     "end_time": "2021-08-13T21:42:01.295654Z",
     "start_time": "2021-08-13T21:42:00.612256Z"
    }
   },
   "outputs": [],
   "source": [
    "data_path = \"./NER_multilabel_data_v4.csv\"\n",
    "df = pd.read_csv(data_path)"
   ]
  },
  {
   "cell_type": "code",
   "execution_count": 50,
   "id": "d565830c",
   "metadata": {
    "ExecuteTime": {
     "end_time": "2021-08-13T21:42:01.310300Z",
     "start_time": "2021-08-13T21:42:01.298099Z"
    }
   },
   "outputs": [
    {
     "data": {
      "text/html": [
       "<div>\n",
       "<style scoped>\n",
       "    .dataframe tbody tr th:only-of-type {\n",
       "        vertical-align: middle;\n",
       "    }\n",
       "\n",
       "    .dataframe tbody tr th {\n",
       "        vertical-align: top;\n",
       "    }\n",
       "\n",
       "    .dataframe thead th {\n",
       "        text-align: right;\n",
       "    }\n",
       "</style>\n",
       "<table border=\"1\" class=\"dataframe\">\n",
       "  <thead>\n",
       "    <tr style=\"text-align: right;\">\n",
       "      <th></th>\n",
       "      <th>Unnamed: 0</th>\n",
       "      <th>Sentence #</th>\n",
       "      <th>Word</th>\n",
       "      <th>POS</th>\n",
       "      <th>Tag</th>\n",
       "      <th>newTag</th>\n",
       "    </tr>\n",
       "  </thead>\n",
       "  <tbody>\n",
       "    <tr>\n",
       "      <th>28</th>\n",
       "      <td>28</td>\n",
       "      <td>NaN</td>\n",
       "      <td>Ġthat</td>\n",
       "      <td>DT</td>\n",
       "      <td>O</td>\n",
       "      <td>O</td>\n",
       "    </tr>\n",
       "    <tr>\n",
       "      <th>29</th>\n",
       "      <td>29</td>\n",
       "      <td>NaN</td>\n",
       "      <td>Ġcountry</td>\n",
       "      <td>NN</td>\n",
       "      <td>O</td>\n",
       "      <td>O</td>\n",
       "    </tr>\n",
       "    <tr>\n",
       "      <th>30</th>\n",
       "      <td>30</td>\n",
       "      <td>NaN</td>\n",
       "      <td>Ġ.</td>\n",
       "      <td>.</td>\n",
       "      <td>O</td>\n",
       "      <td>O</td>\n",
       "    </tr>\n",
       "    <tr>\n",
       "      <th>31</th>\n",
       "      <td>31</td>\n",
       "      <td>Sentence: 2</td>\n",
       "      <td>F</td>\n",
       "      <td>NNS</td>\n",
       "      <td>O</td>\n",
       "      <td>O</td>\n",
       "    </tr>\n",
       "  </tbody>\n",
       "</table>\n",
       "</div>"
      ],
      "text/plain": [
       "    Unnamed: 0   Sentence #      Word  POS Tag newTag\n",
       "28          28          NaN     Ġthat   DT   O      O\n",
       "29          29          NaN  Ġcountry   NN   O      O\n",
       "30          30          NaN        Ġ.    .   O      O\n",
       "31          31  Sentence: 2         F  NNS   O      O"
      ]
     },
     "execution_count": 50,
     "metadata": {},
     "output_type": "execute_result"
    }
   ],
   "source": [
    "df[28:32]"
   ]
  },
  {
   "cell_type": "code",
   "execution_count": 51,
   "id": "48d6806c",
   "metadata": {
    "ExecuteTime": {
     "end_time": "2021-08-13T21:42:01.568190Z",
     "start_time": "2021-08-13T21:42:01.311750Z"
    }
   },
   "outputs": [],
   "source": [
    "#fix fullStop's problem\n",
    "df.Word = df.Word.apply(lambda x: \".\" if x == \"Ġ.\" else x)"
   ]
  },
  {
   "cell_type": "code",
   "execution_count": 52,
   "id": "627a0637",
   "metadata": {
    "ExecuteTime": {
     "end_time": "2021-08-13T21:42:01.577261Z",
     "start_time": "2021-08-13T21:42:01.569763Z"
    }
   },
   "outputs": [
    {
     "data": {
      "text/html": [
       "<div>\n",
       "<style scoped>\n",
       "    .dataframe tbody tr th:only-of-type {\n",
       "        vertical-align: middle;\n",
       "    }\n",
       "\n",
       "    .dataframe tbody tr th {\n",
       "        vertical-align: top;\n",
       "    }\n",
       "\n",
       "    .dataframe thead th {\n",
       "        text-align: right;\n",
       "    }\n",
       "</style>\n",
       "<table border=\"1\" class=\"dataframe\">\n",
       "  <thead>\n",
       "    <tr style=\"text-align: right;\">\n",
       "      <th></th>\n",
       "      <th>Unnamed: 0</th>\n",
       "      <th>Sentence #</th>\n",
       "      <th>Word</th>\n",
       "      <th>POS</th>\n",
       "      <th>Tag</th>\n",
       "      <th>newTag</th>\n",
       "    </tr>\n",
       "  </thead>\n",
       "  <tbody>\n",
       "    <tr>\n",
       "      <th>28</th>\n",
       "      <td>28</td>\n",
       "      <td>NaN</td>\n",
       "      <td>Ġthat</td>\n",
       "      <td>DT</td>\n",
       "      <td>O</td>\n",
       "      <td>O</td>\n",
       "    </tr>\n",
       "    <tr>\n",
       "      <th>29</th>\n",
       "      <td>29</td>\n",
       "      <td>NaN</td>\n",
       "      <td>Ġcountry</td>\n",
       "      <td>NN</td>\n",
       "      <td>O</td>\n",
       "      <td>O</td>\n",
       "    </tr>\n",
       "    <tr>\n",
       "      <th>30</th>\n",
       "      <td>30</td>\n",
       "      <td>NaN</td>\n",
       "      <td>.</td>\n",
       "      <td>.</td>\n",
       "      <td>O</td>\n",
       "      <td>O</td>\n",
       "    </tr>\n",
       "    <tr>\n",
       "      <th>31</th>\n",
       "      <td>31</td>\n",
       "      <td>Sentence: 2</td>\n",
       "      <td>F</td>\n",
       "      <td>NNS</td>\n",
       "      <td>O</td>\n",
       "      <td>O</td>\n",
       "    </tr>\n",
       "  </tbody>\n",
       "</table>\n",
       "</div>"
      ],
      "text/plain": [
       "    Unnamed: 0   Sentence #      Word  POS Tag newTag\n",
       "28          28          NaN     Ġthat   DT   O      O\n",
       "29          29          NaN  Ġcountry   NN   O      O\n",
       "30          30          NaN         .    .   O      O\n",
       "31          31  Sentence: 2         F  NNS   O      O"
      ]
     },
     "execution_count": 52,
     "metadata": {},
     "output_type": "execute_result"
    }
   ],
   "source": [
    "df[28:32]"
   ]
  },
  {
   "cell_type": "code",
   "execution_count": 53,
   "id": "f46769e5",
   "metadata": {
    "ExecuteTime": {
     "end_time": "2021-08-13T21:42:04.589403Z",
     "start_time": "2021-08-13T21:42:01.869167Z"
    }
   },
   "outputs": [],
   "source": [
    "df.to_csv(data_path)"
   ]
  },
  {
   "cell_type": "code",
   "execution_count": null,
   "id": "43f9d413",
   "metadata": {},
   "outputs": [],
   "source": []
  },
  {
   "cell_type": "code",
   "execution_count": null,
   "id": "1437ff1d",
   "metadata": {},
   "outputs": [],
   "source": []
  },
  {
   "cell_type": "code",
   "execution_count": 30,
   "id": "0986f4d6",
   "metadata": {
    "ExecuteTime": {
     "end_time": "2021-08-13T21:27:01.276875Z",
     "start_time": "2021-08-13T21:27:00.351992Z"
    },
    "scrolled": true
   },
   "outputs": [
    {
     "data": {
      "text/plain": [
       "Sentence #\n",
       "Sentence: 1        [Thousands, Ġof, Ġdemon, str, ators, Ġhave, Ġm...\n",
       "Sentence: 10       [Iran, ian, Ġoffic, ials, Ġsay, Ġthey, Ġex, pe...\n",
       "Sentence: 100      [Hel, ic, opter, Ġgun, ships, ĠSaturday, Ġp, o...\n",
       "Sentence: 1000     [They, Ġleft, Ġafter, Ġa, Ġt, ense, Ġhour, -, ...\n",
       "Sentence: 10000    [U, ., N, ., Ġrel, ief, Ġcoord, inator, ĠJan, ...\n",
       "                                         ...                        \n",
       "Sentence: 9995     [Opp, osition, Ġleader, ĠMir, ĠH, os, sein, ĠM...\n",
       "Sentence: 9996     [On, ĠThursday, Ġ,, ĠIran, ian, Ġstate, Ġmedia...\n",
       "Sentence: 9997     [Following, ĠIran, Ġ's, Ġdis, puted, ĠJune, Ġ1...\n",
       "Sentence: 9998     [Since, Ġthen, Ġ,, Ġauthor, ities, Ġhave, Ġhel...\n",
       "Sentence: 9999     [The, ĠUnited, ĠN, ations, Ġis, Ġp, raising, Ġ...\n",
       "Name: Word, Length: 47959, dtype: object"
      ]
     },
     "execution_count": 30,
     "metadata": {},
     "output_type": "execute_result"
    }
   ],
   "source": [
    "df.groupby(\"Sentence #\")[\"Word\"].apply(np.array)"
   ]
  },
  {
   "cell_type": "code",
   "execution_count": 31,
   "id": "0ac78944",
   "metadata": {
    "ExecuteTime": {
     "end_time": "2021-08-13T21:27:06.045781Z",
     "start_time": "2021-08-13T21:27:05.092096Z"
    }
   },
   "outputs": [],
   "source": [
    "sentences = df.groupby(\"Sentence #\")[\"Word\"].apply(list).values"
   ]
  },
  {
   "cell_type": "code",
   "execution_count": 32,
   "id": "bc8dca0a",
   "metadata": {
    "ExecuteTime": {
     "end_time": "2021-08-13T21:27:09.268885Z",
     "start_time": "2021-08-13T21:27:09.261096Z"
    }
   },
   "outputs": [
    {
     "data": {
      "text/plain": [
       "array([list(['Thousands', 'Ġof', 'Ġdemon', 'str', 'ators', 'Ġhave', 'Ġmar', 'ched', 'Ġthrough', 'ĠLondon', 'Ġto', 'Ġpro', 'test', 'Ġthe', 'Ġwar', 'Ġin', 'ĠIraq', 'Ġand', 'Ġdemand', 'Ġthe', 'Ġwith', 'draw', 'al', 'Ġof', 'ĠBritish', 'Ġtro', 'ops', 'Ġfrom', 'Ġthat', 'Ġcountry', 'Ġ.']),\n",
       "       list(['Iran', 'ian', 'Ġoffic', 'ials', 'Ġsay', 'Ġthey', 'Ġex', 'pect', 'Ġto', 'Ġget', 'Ġaccess', 'Ġto', 'Ġse', 'aled', 'Ġsensitive', 'Ġparts', 'Ġof', 'Ġthe', 'Ġplant', 'ĠWednesday', 'Ġ,', 'Ġafter', 'Ġan', 'ĠIA', 'EA', 'Ġsur', 've', 'illance', 'Ġsystem', 'Ġbe', 'gins', 'Ġfunction', 'ing', 'Ġ.']),\n",
       "       list(['Hel', 'ic', 'opter', 'Ġgun', 'ships', 'ĠSaturday', 'Ġp', 'ounded', 'Ġm', 'ilit', 'ant', 'Ġhide', 'outs', 'Ġin', 'Ġthe', 'ĠO', 'rak', 'zai', 'Ġt', 'rib', 'al', 'Ġregion', 'Ġ,', 'Ġwhere', 'Ġmany', 'ĠTal', 'iban', 'Ġm', 'ilit', 'ants', 'Ġare', 'Ġbel', 'ieved', 'Ġto', 'Ġhave', 'Ġf', 'led', 'Ġto', 'Ġavoid', 'Ġan', 'Ġear', 'lier', 'Ġmilitary', 'Ġoffensive', 'Ġin', 'Ġnear', 'by', 'ĠSouth', 'ĠW', 'az', 'ir', 'istan', 'Ġ.']),\n",
       "       ...,\n",
       "       list(['Following', 'ĠIran', \"Ġ's\", 'Ġdis', 'puted', 'ĠJune', 'Ġ12', 'Ġelect', 'ions', 'Ġ,', 'Ġrights', 'Ġgroups', 'Ġsaid', 'Ġh', 'undreds', 'Ġof', 'Ġpeople', 'Ġwere', 'Ġdet', 'ained', 'Ġin', 'Ġcl', 'ashes', 'Ġwith', 'Ġsecurity', 'Ġforces', 'Ġduring', 'Ġpost', '-', 'election', 'Ġ,', 'Ġanti', '-', 'government', 'Ġdemon', 'str', 'ations', 'Ġ.']),\n",
       "       list(['Since', 'Ġthen', 'Ġ,', 'Ġauthor', 'ities', 'Ġhave', 'Ġheld', 'Ġpublic', 'Ġtri', 'als', 'Ġof', 'Ġthe', 'Ġacc', 'used', 'Ġand', 'Ġt', 'ried', 'Ġto', 'Ġmarg', 'inal', 'ize', 'Ġmoderate', 'Ġoffic', 'ials', 'Ġwithin', 'Ġthe', 'Ġgovernment', 'Ġ.']),\n",
       "       list(['The', 'ĠUnited', 'ĠN', 'ations', 'Ġis', 'Ġp', 'raising', 'Ġthe', 'Ġuse', 'Ġof', 'Ġmilitary', 'Ġhe', 'lic', 'op', 'ters', 'Ġto', 'Ġdrop', 'Ġfood', 'Ġand', 'Ġres', 'cue', 'Ġsurv', 'iv', 'ors', 'Ġin', 'Ġts', 'un', 'ami', '-', 'rav', 'aged', 'ĠInd', 'ones', 'ia', 'Ġ,', 'Ġs', 'aying', 'Ġthe', 'Ġair', 'craft', 'Ġare', 'Ġ\"', 'Ġworth', 'Ġtheir', 'Ġweight', 'Ġin', 'Ġgold', 'Ġ.', 'Ġ\"'])],\n",
       "      dtype=object)"
      ]
     },
     "execution_count": 32,
     "metadata": {},
     "output_type": "execute_result"
    }
   ],
   "source": [
    "sentences"
   ]
  },
  {
   "cell_type": "code",
   "execution_count": null,
   "id": "86ff37a0",
   "metadata": {},
   "outputs": [],
   "source": []
  },
  {
   "cell_type": "code",
   "execution_count": null,
   "id": "67da3cad",
   "metadata": {},
   "outputs": [],
   "source": []
  },
  {
   "cell_type": "code",
   "execution_count": null,
   "id": "14aa0943",
   "metadata": {},
   "outputs": [],
   "source": [
    "import pandas as pd\n",
    "import numpy as np\n",
    "import torch\n",
    "\n",
    "#data_path = \"./NER_multilabel_data_v2.csv\"\n",
    "BATCH_SIZE = 16\n",
    "def get_trainset_data_loader(tokenizer, data_path = \"\",\n",
    "                             BATCH_SIZE = BATCH_SIZE):\n",
    "    df = pd.read_csv(data_path)\n",
    "\n",
    "    all_tags = df.newTag\n",
    "\n",
    "    all_tags = set(all_tags)\n",
    "\n",
    "    all_tags = \"|\".join(all_tags)\n",
    "    all_tags = all_tags.split(\"|\")\n",
    "    all_tags = set(all_tags)\n",
    "    all_tags = list(all_tags)\n",
    "\n",
    "\n",
    "    def process_csv(data_path):\n",
    "        df = pd.read_csv(data_path, encoding=\"latin-1\")\n",
    "        df.loc[:, \"Sentence #\"] = df[\"Sentence #\"].fillna(method=\"ffill\")\n",
    "        sentences = df.groupby(\"Sentence #\")[\"Word\"].apply(list).values\n",
    "        tags = df.groupby(\"Sentence #\")[\"newTag\"].apply(list).values\n",
    "        return sentences, tags\n",
    "\n",
    "    sentences, tags = process_csv(data_path)\n",
    "\n",
    "    from torch.utils.data import Dataset\n",
    "    from sklearn.preprocessing import OneHotEncoder\n",
    "\n",
    "\n",
    "\n",
    "\n",
    "    class NER_Dataset(Dataset):\n",
    "        # 讀取前處理後的 tsv 檔並初始化一些參數\n",
    "        def __init__(self, mode, tokenizer, data_path, labels):\n",
    "            assert mode in [\"train\", \"test\"]  # 一般訓練你會需要 dev set\n",
    "            self.mode = mode\n",
    "            # 大數據你會需要用 iterator=True\n",
    "            self.sentences, self.tags = process_csv(data_path)\n",
    "            self.len = len(self.sentences)\n",
    "\n",
    "\n",
    "            if mode != \"test\":\n",
    "                self.label_map = {}\n",
    "                for i in range(len(labels)):\n",
    "                    self.label_map[labels[i]] = i\n",
    "\n",
    "                possible_labels = np.array(range(len(labels))).reshape(-1, 1)\n",
    "                self.oneHotEncoder = OneHotEncoder()\n",
    "                self.oneHotEncoder.fit(possible_labels)\n",
    "            else:\n",
    "                self.label_map = None\n",
    "\n",
    "            self.tokenizer = tokenizer  # 我們將使用 BERT tokenizer\n",
    "            self.O_label = self.label_map[\"O\"]\n",
    "\n",
    "\n",
    "        # 定義回傳一筆訓練 / 測試數據的函式\n",
    "        def __getitem__(self, idx):\n",
    "            if self.mode == \"test\":\n",
    "                label_tensor = None\n",
    "            else:\n",
    "                label = [\"O\"] + self.tags[idx] + [\"O\"]\n",
    "\n",
    "                label = np.array(label)\n",
    "                label = label.reshape(-1,1)\n",
    "\n",
    "                label = np.apply_along_axis(self.split_one_hot_multiTags, 1, label)\n",
    "                label_tensor = torch.tensor(label, dtype = torch.float32)\n",
    "\n",
    "            # 建立第一個句子的 BERT tokens 並加入分隔符號 [SEP]\n",
    "            word_pieces = ['[CLS]']\n",
    "            word_pieces += self.sentences[idx]\n",
    "            word_pieces += ['[SEP]']\n",
    "\n",
    "            ids = self.tokenizer.convert_tokens_to_ids(word_pieces)\n",
    "            tokens_tensor = torch.tensor(ids)\n",
    "\n",
    "            # 將第一句包含 [SEP] 的 token 位置設為 0\n",
    "            segments_tensor = torch.zeros_like(tokens_tensor)\n",
    "\n",
    "            return (tokens_tensor, segments_tensor, label_tensor)\n",
    "\n",
    "        def __len__(self):\n",
    "            return self.len\n",
    "\n",
    "        def split_one_hot_multiTags(self, tags):\n",
    "            # tags = ['B-org|Party|String']\n",
    "            tags = tags[0]\n",
    "            tags = tags.split(\"|\")\n",
    "\n",
    "\n",
    "            tags_num = list(map(lambda x: self.label_map[x], tags))\n",
    "            #[5, 20, 23]\n",
    "\n",
    "            tags_num = np.array(tags_num).reshape(-1,1)\n",
    "\n",
    "            tags_one_hot = self.oneHotEncoder.transform(tags_num).toarray()\n",
    "\n",
    "            tags_one_hot = tags_one_hot.sum(axis = 0)\n",
    "\n",
    "            #return torch.tensor(tags_one_hot, dtype = torch.float32)\n",
    "\n",
    "            return tags_one_hot\n",
    "\n",
    "\n",
    "    # 初始化一個專門讀取訓練樣本的 Dataset，使用中文 BERT 斷詞\n",
    "\n",
    "    df = pd.read_csv(data_path, encoding=\"latin-1\")\n",
    "\n",
    "    labels = np.unique(\"|\".join(list(df.newTag)).split(\"|\"))\n",
    "    print(f\"labels: {labels}\")\n",
    "\n",
    "    trainset = NER_Dataset(\"train\", tokenizer=tokenizer, data_path=data_path, labels= labels)\n",
    "\n",
    "    from torch.utils.data import DataLoader, IterableDataset\n",
    "    from torch.nn.utils.rnn import pad_sequence\n",
    "    def create_mini_batch(samples):\n",
    "        tokens_tensors = [s[0] for s in samples]\n",
    "        segments_tensors = [s[1] for s in samples]\n",
    "\n",
    "        # 測試集有 labels\n",
    "        if samples[0][2] is not None:\n",
    "            label_ids = [s[2] for s in samples]\n",
    "            label_ids = pad_sequence(label_ids, \n",
    "                                      batch_first=True)\n",
    "        else:\n",
    "            label_ids = None\n",
    "\n",
    "        # zero pad 到同一序列長度\n",
    "        tokens_tensors = pad_sequence(tokens_tensors, \n",
    "                                      batch_first=True)\n",
    "        segments_tensors = pad_sequence(segments_tensors, \n",
    "                                        batch_first=True)\n",
    "\n",
    "        # attention masks，將 tokens_tensors 裡頭不為 zero padding\n",
    "        # 的位置設為 1 讓 BERT 只關注這些位置的 tokens\n",
    "        masks_tensors = torch.zeros(tokens_tensors.shape, \n",
    "                                    dtype=torch.long)\n",
    "        masks_tensors = masks_tensors.masked_fill(\n",
    "            tokens_tensors != 0, 1)\n",
    "\n",
    "        return tokens_tensors, segments_tensors, masks_tensors, label_ids\n",
    "\n",
    "\n",
    "\n",
    "\n",
    "\n",
    "    trainset.id2label = {}\n",
    "    for key in trainset.label_map.keys():\n",
    "        trainset.id2label[trainset.label_map[key]] = key\n",
    "\n",
    "\n",
    "    trainloader = DataLoader(trainset, batch_size=BATCH_SIZE, \n",
    "                             collate_fn=create_mini_batch)\n",
    "\n",
    "    data = next(iter(trainloader))\n",
    "\n",
    "    tokens_tensors, segments_tensors, \\\n",
    "        masks_tensors, label_ids = data\n",
    "\n",
    "    '''print(f\"\"\"\n",
    "    tokens_tensors.shape   = {tokens_tensors.shape} \n",
    "    {tokens_tensors}\n",
    "    ------------------------\n",
    "    segments_tensors.shape = {segments_tensors.shape}\n",
    "    {segments_tensors}\n",
    "    ------------------------\n",
    "    masks_tensors.shape    = {masks_tensors.shape}\n",
    "    {masks_tensors}\n",
    "    ------------------------\n",
    "    label_ids.shape        = {label_ids.shape}\n",
    "    {label_ids}\n",
    "    \"\"\")'''\n",
    "    \n",
    "    trainset.id2label = {}\n",
    "    for key in trainset.label_map.keys():\n",
    "        trainset.id2label[trainset.label_map[key]] = key\n",
    "\n",
    "    \n",
    "    return all_tags, trainset, trainloader"
   ]
  }
 ],
 "metadata": {
  "kernelspec": {
   "display_name": "adapter",
   "language": "python",
   "name": "adapter"
  },
  "language_info": {
   "codemirror_mode": {
    "name": "ipython",
    "version": 3
   },
   "file_extension": ".py",
   "mimetype": "text/x-python",
   "name": "python",
   "nbconvert_exporter": "python",
   "pygments_lexer": "ipython3",
   "version": "3.7.10"
  }
 },
 "nbformat": 4,
 "nbformat_minor": 5
}
