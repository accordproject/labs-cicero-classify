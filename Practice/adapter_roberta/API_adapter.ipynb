{
 "cells": [
  {
   "cell_type": "code",
   "execution_count": 1,
   "metadata": {
    "ExecuteTime": {
     "end_time": "2021-08-03T07:18:10.790118Z",
     "start_time": "2021-08-03T07:18:10.704005Z"
    }
   },
   "outputs": [],
   "source": [
    "from fastapi import FastAPI, Depends\n",
    "from starlette.exceptions import HTTPException\n",
    "from fastapi.middleware.cors import CORSMiddleware\n",
    "from starlette.status import HTTP_422_UNPROCESSABLE_ENTITY\n",
    "\n",
    "import asyncio"
   ]
  },
  {
   "cell_type": "code",
   "execution_count": 2,
   "metadata": {
    "ExecuteTime": {
     "end_time": "2021-08-03T07:18:10.873804Z",
     "start_time": "2021-08-03T07:18:10.863928Z"
    }
   },
   "outputs": [],
   "source": [
    "from typing import Optional\n",
    "\n",
    "from pydantic import BaseModel\n",
    "\n",
    "from typing import Any, Dict, AnyStr, List, Union\n",
    "\n",
    "JSONObject = Dict[AnyStr, Any]\n",
    "JSONArray = List[Any]\n",
    "JSONStructure = Union[JSONArray, JSONObject]"
   ]
  },
  {
   "cell_type": "code",
   "execution_count": 3,
   "metadata": {
    "ExecuteTime": {
     "end_time": "2021-08-03T07:18:11.041109Z",
     "start_time": "2021-08-03T07:18:11.031968Z"
    }
   },
   "outputs": [],
   "source": [
    "from fastapi.security import APIKeyHeader\n",
    "#access_token = APIKeyHeader(name=\"X-API-KEY\")\n",
    "\n",
    "app = FastAPI(title=\"Eason_Model_API_Mockup\")\n",
    "\n",
    "\n",
    "app.add_middleware(\n",
    "    CORSMiddleware,\n",
    "    allow_origins=[\"*\"],\n",
    "    allow_credentials=True,\n",
    "    allow_methods=[\"*\"],\n",
    "    allow_headers=[\"*\"],\n",
    ")"
   ]
  },
  {
   "cell_type": "code",
   "execution_count": 4,
   "metadata": {
    "ExecuteTime": {
     "end_time": "2021-08-03T07:18:36.461605Z",
     "start_time": "2021-08-03T07:18:11.212014Z"
    }
   },
   "outputs": [],
   "source": [
    "import adapter_model\n",
    "from IPython.display import clear_output\n",
    "clear_output()"
   ]
  },
  {
   "cell_type": "code",
   "execution_count": 5,
   "metadata": {
    "ExecuteTime": {
     "end_time": "2021-08-03T07:21:20.913517Z",
     "start_time": "2021-08-03T07:21:20.905723Z"
    }
   },
   "outputs": [],
   "source": [
    "sentence = \"Dan will be deemed to have completed its delivery for 8.2 obligations before 2021-7-5 if in Niall's opinion, the Jeep Car satisfies the Acceptance Criteria, and Niall notifies Dan in writing that it is accepting the Jeep Car.\""
   ]
  },
  {
   "cell_type": "code",
   "execution_count": 7,
   "metadata": {
    "ExecuteTime": {
     "end_time": "2021-08-03T07:21:42.707553Z",
     "start_time": "2021-08-03T07:21:42.204374Z"
    }
   },
   "outputs": [],
   "source": [
    "sen, pred, logits, tags_order = adapter_model.model_predict(adapter_model.model, sentence)"
   ]
  },
  {
   "cell_type": "code",
   "execution_count": null,
   "metadata": {
    "ExecuteTime": {
     "end_time": "2021-08-03T07:08:25.491103Z",
     "start_time": "2021-08-03T07:08:25.491093Z"
    }
   },
   "outputs": [],
   "source": [
    "class text_label_body(BaseModel):\n",
    "    text: str = \"Dan Will be deemed to have completed its delivery obligations before 2021-7-5 if in Niall's opinion, the Jeep Car satisfies the Acceptance Criteria, and Niall notifies Dan in writing that it is accepting the Jeep Car.\""
   ]
  },
  {
   "cell_type": "code",
   "execution_count": null,
   "metadata": {
    "ExecuteTime": {
     "end_time": "2021-08-03T07:08:25.492237Z",
     "start_time": "2021-08-03T07:08:25.492227Z"
    }
   },
   "outputs": [],
   "source": [
    "@app.post(\"/text/label\", tags = [\"Predict\"])\n",
    "def text_label(data: text_label_body):\n",
    "    return \"OK\""
   ]
  },
  {
   "cell_type": "code",
   "execution_count": null,
   "metadata": {
    "ExecuteTime": {
     "end_time": "2021-08-03T07:08:25.493233Z",
     "start_time": "2021-08-03T07:08:25.493222Z"
    }
   },
   "outputs": [],
   "source": [
    "@app.put(\"/data\", tags = [\"Optimize\"])\n",
    "def update_data(data: text_label_body):\n",
    "    return \"OK\""
   ]
  },
  {
   "cell_type": "code",
   "execution_count": null,
   "metadata": {
    "ExecuteTime": {
     "end_time": "2021-08-03T07:08:25.493874Z",
     "start_time": "2021-08-03T07:08:25.493864Z"
    }
   },
   "outputs": [],
   "source": [
    "@app.put(\"/model/retrain\", tags = [\"Optimize\"])\n",
    "def update_data(data: text_label_body):\n",
    "    return \"OK\""
   ]
  },
  {
   "cell_type": "code",
   "execution_count": null,
   "metadata": {
    "ExecuteTime": {
     "end_time": "2021-08-03T07:08:25.494657Z",
     "start_time": "2021-08-03T07:08:25.494646Z"
    }
   },
   "outputs": [],
   "source": [
    "@app.get(\"/model/status\", tags = [\"Predict\"])\n",
    "def update_data(data: text_label_body):\n",
    "    return \"OK\""
   ]
  },
  {
   "cell_type": "code",
   "execution_count": null,
   "metadata": {},
   "outputs": [],
   "source": []
  },
  {
   "cell_type": "code",
   "execution_count": null,
   "metadata": {
    "ExecuteTime": {
     "end_time": "2021-08-03T07:08:25.495748Z",
     "start_time": "2021-08-03T07:08:25.495737Z"
    },
    "scrolled": true
   },
   "outputs": [],
   "source": [
    "if __name__ == \"__main__\":\n",
    "    import nest_asyncio\n",
    "    nest_asyncio.apply()\n",
    "    import uvicorn\n",
    "    uvicorn.run(app, host=\"0.0.0.0\", port=13537)\n",
    "    \n",
    "    "
   ]
  },
  {
   "cell_type": "code",
   "execution_count": null,
   "metadata": {},
   "outputs": [],
   "source": []
  }
 ],
 "metadata": {
  "hide_input": false,
  "kernelspec": {
   "display_name": "adapter",
   "language": "python",
   "name": "adapter"
  },
  "language_info": {
   "codemirror_mode": {
    "name": "ipython",
    "version": 3
   },
   "file_extension": ".py",
   "mimetype": "text/x-python",
   "name": "python",
   "nbconvert_exporter": "python",
   "pygments_lexer": "ipython3",
   "version": "3.7.10"
  },
  "varInspector": {
   "cols": {
    "lenName": 16,
    "lenType": 16,
    "lenVar": 40
   },
   "kernels_config": {
    "python": {
     "delete_cmd_postfix": "",
     "delete_cmd_prefix": "del ",
     "library": "var_list.py",
     "varRefreshCmd": "print(var_dic_list())"
    },
    "r": {
     "delete_cmd_postfix": ") ",
     "delete_cmd_prefix": "rm(",
     "library": "var_list.r",
     "varRefreshCmd": "cat(var_dic_list()) "
    }
   },
   "types_to_exclude": [
    "module",
    "function",
    "builtin_function_or_method",
    "instance",
    "_Feature"
   ],
   "window_display": false
  }
 },
 "nbformat": 4,
 "nbformat_minor": 4
}
