{
 "cells": [
  {
   "cell_type": "code",
   "execution_count": 1,
   "id": "c64f2ee6",
   "metadata": {
    "ExecuteTime": {
     "end_time": "2021-08-13T12:27:36.257388Z",
     "start_time": "2021-08-13T12:27:35.898191Z"
    }
   },
   "outputs": [],
   "source": [
    "import pandas as pd\n",
    "import numpy as np"
   ]
  },
  {
   "cell_type": "code",
   "execution_count": 2,
   "id": "4ced4b6a",
   "metadata": {
    "ExecuteTime": {
     "end_time": "2021-08-13T12:27:36.303352Z",
     "start_time": "2021-08-13T12:27:36.259457Z"
    }
   },
   "outputs": [],
   "source": [
    "from telegram_notifier import send_message as telegram_bot_sendtext"
   ]
  },
  {
   "cell_type": "code",
   "execution_count": 3,
   "id": "beafcfe7",
   "metadata": {
    "ExecuteTime": {
     "end_time": "2021-08-13T12:27:36.738054Z",
     "start_time": "2021-08-13T12:27:36.305039Z"
    }
   },
   "outputs": [
    {
     "name": "stdout",
     "output_type": "stream",
     "text": [
      "Torch Version: 1.8.1\n",
      "transformers (Adapter) Version: 2.0.1\n"
     ]
    }
   ],
   "source": [
    "import torch\n",
    "print(f\"Torch Version: {torch.__version__}\")\n",
    "\n",
    "import transformers\n",
    "print(f\"transformers (Adapter) Version: {transformers.__version__}\")"
   ]
  },
  {
   "cell_type": "code",
   "execution_count": 4,
   "id": "83aff5b4",
   "metadata": {
    "ExecuteTime": {
     "end_time": "2021-08-13T12:27:36.744275Z",
     "start_time": "2021-08-13T12:27:36.740576Z"
    }
   },
   "outputs": [],
   "source": [
    "dateStamp = '0813_v4'"
   ]
  },
  {
   "cell_type": "code",
   "execution_count": 5,
   "id": "add515cd",
   "metadata": {
    "ExecuteTime": {
     "end_time": "2021-08-13T12:27:48.434780Z",
     "start_time": "2021-08-13T12:27:36.746353Z"
    }
   },
   "outputs": [],
   "source": [
    "from transformers import RobertaTokenizer\n",
    "import numpy as np\n",
    "\n",
    "tokenizer = RobertaTokenizer.from_pretrained(\"roberta-base\")\n",
    "\n",
    "from transformers import RobertaTokenizer\n",
    "\n",
    "tokenizer = RobertaTokenizer.from_pretrained(\"roberta-base\")\n",
    "\n",
    "def encode_batch(batch):\n",
    "  \"\"\"Encodes a batch of input data using the model tokenizer.\"\"\"\n",
    "  return tokenizer(batch[\"text\"], max_length=80, truncation=True, padding=\"max_length\")"
   ]
  },
  {
   "cell_type": "code",
   "execution_count": 6,
   "id": "215447e9",
   "metadata": {
    "ExecuteTime": {
     "end_time": "2021-08-13T12:27:57.341344Z",
     "start_time": "2021-08-13T12:27:48.438622Z"
    }
   },
   "outputs": [
    {
     "name": "stdout",
     "output_type": "stream",
     "text": [
      "labels: ['B-CountryCode' 'B-CryptoCurrencyCode' 'B-CurrencyCode' 'B-Event'\n",
      " 'B-Float' 'B-Integer' 'B-Location' 'B-Month' 'B-Object' 'B-Party'\n",
      " 'B-Race' 'B-SpecialTerm' 'B-TemporalUnit' 'B-Time' 'B-Timezone'\n",
      " 'B-US_States' 'B-art' 'B-eve' 'B-geo' 'B-gpe' 'B-nat' 'B-org' 'B-per'\n",
      " 'B-tim' 'I-CountryCode' 'I-CryptoCurrencyCode' 'I-CurrencyCode' 'I-Event'\n",
      " 'I-Float' 'I-Integer' 'I-Location' 'I-Month' 'I-Object' 'I-Party'\n",
      " 'I-Race' 'I-SpecialTerm' 'I-TemporalUnit' 'I-Time' 'I-Timezone'\n",
      " 'I-US_States' 'I-art' 'I-eve' 'I-geo' 'I-gpe' 'I-nat' 'I-org' 'I-per'\n",
      " 'I-tim' 'O']\n"
     ]
    }
   ],
   "source": [
    "from ner_dataset import get_trainset_data_loader\n",
    "data_path = \"./NER_multilabel_data_v4.csv\"\n",
    "#還需要改資料裡面的\n",
    "all_tags, trainset, trainloader = get_trainset_data_loader(tokenizer, BATCH_SIZE=128, data_path = data_path)"
   ]
  },
  {
   "cell_type": "code",
   "execution_count": 7,
   "id": "dc1eb25f",
   "metadata": {
    "ExecuteTime": {
     "end_time": "2021-08-13T12:27:58.044121Z",
     "start_time": "2021-08-13T12:27:57.344256Z"
    }
   },
   "outputs": [
    {
     "data": {
      "text/html": [
       "<div>\n",
       "<style scoped>\n",
       "    .dataframe tbody tr th:only-of-type {\n",
       "        vertical-align: middle;\n",
       "    }\n",
       "\n",
       "    .dataframe tbody tr th {\n",
       "        vertical-align: top;\n",
       "    }\n",
       "\n",
       "    .dataframe thead th {\n",
       "        text-align: right;\n",
       "    }\n",
       "</style>\n",
       "<table border=\"1\" class=\"dataframe\">\n",
       "  <thead>\n",
       "    <tr style=\"text-align: right;\">\n",
       "      <th></th>\n",
       "      <th>Unnamed: 0</th>\n",
       "      <th>Sentence #</th>\n",
       "      <th>Word</th>\n",
       "      <th>POS</th>\n",
       "      <th>Tag</th>\n",
       "      <th>newTag</th>\n",
       "    </tr>\n",
       "  </thead>\n",
       "  <tbody>\n",
       "    <tr>\n",
       "      <th>85</th>\n",
       "      <td>85</td>\n",
       "      <td>NaN</td>\n",
       "      <td>ally</td>\n",
       "      <td>NN</td>\n",
       "      <td>O</td>\n",
       "      <td>O</td>\n",
       "    </tr>\n",
       "    <tr>\n",
       "      <th>86</th>\n",
       "      <td>86</td>\n",
       "      <td>NaN</td>\n",
       "      <td>Ġin</td>\n",
       "      <td>IN</td>\n",
       "      <td>O</td>\n",
       "      <td>O</td>\n",
       "    </tr>\n",
       "    <tr>\n",
       "      <th>87</th>\n",
       "      <td>87</td>\n",
       "      <td>NaN</td>\n",
       "      <td>ĠHy</td>\n",
       "      <td>NNP</td>\n",
       "      <td>B-geo</td>\n",
       "      <td>B-Location|B-Party|B-geo</td>\n",
       "    </tr>\n",
       "    <tr>\n",
       "      <th>88</th>\n",
       "      <td>88</td>\n",
       "      <td>NaN</td>\n",
       "      <td>de</td>\n",
       "      <td>NNP</td>\n",
       "      <td>B-geo</td>\n",
       "      <td>I-Location|I-Party|B-geo</td>\n",
       "    </tr>\n",
       "    <tr>\n",
       "      <th>89</th>\n",
       "      <td>89</td>\n",
       "      <td>NaN</td>\n",
       "      <td>ĠPark</td>\n",
       "      <td>NNP</td>\n",
       "      <td>I-geo</td>\n",
       "      <td>I-Location|I-Party|I-geo</td>\n",
       "    </tr>\n",
       "    <tr>\n",
       "      <th>90</th>\n",
       "      <td>90</td>\n",
       "      <td>NaN</td>\n",
       "      <td>Ġ.</td>\n",
       "      <td>.</td>\n",
       "      <td>O</td>\n",
       "      <td>O</td>\n",
       "    </tr>\n",
       "    <tr>\n",
       "      <th>91</th>\n",
       "      <td>91</td>\n",
       "      <td>Sentence: 4</td>\n",
       "      <td>Police</td>\n",
       "      <td>NNS</td>\n",
       "      <td>O</td>\n",
       "      <td>O</td>\n",
       "    </tr>\n",
       "    <tr>\n",
       "      <th>92</th>\n",
       "      <td>92</td>\n",
       "      <td>NaN</td>\n",
       "      <td>Ġput</td>\n",
       "      <td>VBD</td>\n",
       "      <td>O</td>\n",
       "      <td>O</td>\n",
       "    </tr>\n",
       "    <tr>\n",
       "      <th>93</th>\n",
       "      <td>93</td>\n",
       "      <td>NaN</td>\n",
       "      <td>Ġthe</td>\n",
       "      <td>DT</td>\n",
       "      <td>O</td>\n",
       "      <td>O</td>\n",
       "    </tr>\n",
       "    <tr>\n",
       "      <th>94</th>\n",
       "      <td>94</td>\n",
       "      <td>NaN</td>\n",
       "      <td>Ġnumber</td>\n",
       "      <td>NN</td>\n",
       "      <td>O</td>\n",
       "      <td>O</td>\n",
       "    </tr>\n",
       "    <tr>\n",
       "      <th>95</th>\n",
       "      <td>95</td>\n",
       "      <td>NaN</td>\n",
       "      <td>Ġof</td>\n",
       "      <td>IN</td>\n",
       "      <td>O</td>\n",
       "      <td>O</td>\n",
       "    </tr>\n",
       "  </tbody>\n",
       "</table>\n",
       "</div>"
      ],
      "text/plain": [
       "    Unnamed: 0   Sentence #     Word  POS    Tag                    newTag\n",
       "85          85          NaN     ally   NN      O                         O\n",
       "86          86          NaN      Ġin   IN      O                         O\n",
       "87          87          NaN      ĠHy  NNP  B-geo  B-Location|B-Party|B-geo\n",
       "88          88          NaN       de  NNP  B-geo  I-Location|I-Party|B-geo\n",
       "89          89          NaN    ĠPark  NNP  I-geo  I-Location|I-Party|I-geo\n",
       "90          90          NaN       Ġ.    .      O                         O\n",
       "91          91  Sentence: 4   Police  NNS      O                         O\n",
       "92          92          NaN     Ġput  VBD      O                         O\n",
       "93          93          NaN     Ġthe   DT      O                         O\n",
       "94          94          NaN  Ġnumber   NN      O                         O\n",
       "95          95          NaN      Ġof   IN      O                         O"
      ]
     },
     "execution_count": 7,
     "metadata": {},
     "output_type": "execute_result"
    }
   ],
   "source": [
    "df = pd.read_csv(data_path)\n",
    "df[85:96]"
   ]
  },
  {
   "cell_type": "code",
   "execution_count": 8,
   "id": "16c29d06",
   "metadata": {
    "ExecuteTime": {
     "end_time": "2021-08-13T12:27:58.806543Z",
     "start_time": "2021-08-13T12:27:58.045970Z"
    }
   },
   "outputs": [],
   "source": [
    "from transformers import RobertaConfig, RobertaModelWithHeads\n",
    "\n",
    "config = RobertaConfig.from_pretrained(\n",
    "    \"roberta-base\",\n",
    "    num_labels=len(all_tags),\n",
    "    label2id = trainset.label_map, \n",
    "    id2label = trainset.id2label\n",
    ")"
   ]
  },
  {
   "cell_type": "markdown",
   "id": "af991b5d",
   "metadata": {},
   "source": [
    "name = model.load_adapter(\"./save_adapters/ALL_tag_0730\")\n",
    "model.add_tagging_head(\n",
    "        name,\n",
    "        num_labels=len(trainset.label_map.keys()), overwrite_ok=True\n",
    "      )\n",
    "model.train_adapter(name)"
   ]
  },
  {
   "cell_type": "code",
   "execution_count": 9,
   "id": "f70976f5",
   "metadata": {
    "ExecuteTime": {
     "end_time": "2021-08-13T12:27:58.815506Z",
     "start_time": "2021-08-13T12:27:58.809477Z"
    }
   },
   "outputs": [
    {
     "data": {
      "text/plain": [
       "{'B-CountryCode': 0,\n",
       " 'B-CryptoCurrencyCode': 1,\n",
       " 'B-CurrencyCode': 2,\n",
       " 'B-Event': 3,\n",
       " 'B-Float': 4,\n",
       " 'B-Integer': 5,\n",
       " 'B-Location': 6,\n",
       " 'B-Month': 7,\n",
       " 'B-Object': 8,\n",
       " 'B-Party': 9,\n",
       " 'B-Race': 10,\n",
       " 'B-SpecialTerm': 11,\n",
       " 'B-TemporalUnit': 12,\n",
       " 'B-Time': 13,\n",
       " 'B-Timezone': 14,\n",
       " 'B-US_States': 15,\n",
       " 'B-art': 16,\n",
       " 'B-eve': 17,\n",
       " 'B-geo': 18,\n",
       " 'B-gpe': 19,\n",
       " 'B-nat': 20,\n",
       " 'B-org': 21,\n",
       " 'B-per': 22,\n",
       " 'B-tim': 23,\n",
       " 'I-CountryCode': 24,\n",
       " 'I-CryptoCurrencyCode': 25,\n",
       " 'I-CurrencyCode': 26,\n",
       " 'I-Event': 27,\n",
       " 'I-Float': 28,\n",
       " 'I-Integer': 29,\n",
       " 'I-Location': 30,\n",
       " 'I-Month': 31,\n",
       " 'I-Object': 32,\n",
       " 'I-Party': 33,\n",
       " 'I-Race': 34,\n",
       " 'I-SpecialTerm': 35,\n",
       " 'I-TemporalUnit': 36,\n",
       " 'I-Time': 37,\n",
       " 'I-Timezone': 38,\n",
       " 'I-US_States': 39,\n",
       " 'I-art': 40,\n",
       " 'I-eve': 41,\n",
       " 'I-geo': 42,\n",
       " 'I-gpe': 43,\n",
       " 'I-nat': 44,\n",
       " 'I-org': 45,\n",
       " 'I-per': 46,\n",
       " 'I-tim': 47,\n",
       " 'O': 48}"
      ]
     },
     "execution_count": 9,
     "metadata": {},
     "output_type": "execute_result"
    }
   ],
   "source": [
    "trainset.label_map"
   ]
  },
  {
   "cell_type": "code",
   "execution_count": 10,
   "id": "ca4ef36d",
   "metadata": {
    "ExecuteTime": {
     "end_time": "2021-08-13T12:27:58.821351Z",
     "start_time": "2021-08-13T12:27:58.817974Z"
    }
   },
   "outputs": [],
   "source": [
    "I = []\n",
    "B = []\n",
    "O = []\n",
    "for tag in all_tags:\n",
    "    if tag[0:2] == \"I-\":\n",
    "        I.append(tag)\n",
    "    elif tag[0:2] == \"B-\":\n",
    "        B.append(tag)\n",
    "    else:\n",
    "        O.append(tag)"
   ]
  },
  {
   "cell_type": "code",
   "execution_count": 11,
   "id": "ed838e71",
   "metadata": {
    "ExecuteTime": {
     "end_time": "2021-08-13T12:27:58.825275Z",
     "start_time": "2021-08-13T12:27:58.823011Z"
    }
   },
   "outputs": [],
   "source": [
    "#資料有平均喔"
   ]
  },
  {
   "cell_type": "code",
   "execution_count": 12,
   "id": "ecc0268b",
   "metadata": {
    "ExecuteTime": {
     "end_time": "2021-08-13T12:27:58.830652Z",
     "start_time": "2021-08-13T12:27:58.826710Z"
    }
   },
   "outputs": [
    {
     "data": {
      "text/plain": [
       "24"
      ]
     },
     "execution_count": 12,
     "metadata": {},
     "output_type": "execute_result"
    }
   ],
   "source": [
    "len(I)"
   ]
  },
  {
   "cell_type": "code",
   "execution_count": 13,
   "id": "edac2ec4",
   "metadata": {
    "ExecuteTime": {
     "end_time": "2021-08-13T12:27:58.836348Z",
     "start_time": "2021-08-13T12:27:58.832054Z"
    }
   },
   "outputs": [
    {
     "data": {
      "text/plain": [
       "24"
      ]
     },
     "execution_count": 13,
     "metadata": {},
     "output_type": "execute_result"
    }
   ],
   "source": [
    "len(B)"
   ]
  },
  {
   "cell_type": "code",
   "execution_count": 14,
   "id": "fc4ac68e",
   "metadata": {
    "ExecuteTime": {
     "end_time": "2021-08-13T12:27:58.842511Z",
     "start_time": "2021-08-13T12:27:58.838304Z"
    }
   },
   "outputs": [
    {
     "data": {
      "text/plain": [
       "1"
      ]
     },
     "execution_count": 14,
     "metadata": {},
     "output_type": "execute_result"
    }
   ],
   "source": [
    "len(O)"
   ]
  },
  {
   "cell_type": "code",
   "execution_count": 15,
   "id": "70b4417c",
   "metadata": {
    "ExecuteTime": {
     "end_time": "2021-08-13T12:27:58.857122Z",
     "start_time": "2021-08-13T12:27:58.844052Z"
    }
   },
   "outputs": [],
   "source": [
    "device_id = 1\n",
    "device = torch.device(f\"cuda:{device_id}\" if torch.cuda.is_available() else \"cpu\")"
   ]
  },
  {
   "cell_type": "code",
   "execution_count": null,
   "id": "c9d44620",
   "metadata": {},
   "outputs": [],
   "source": []
  },
  {
   "cell_type": "code",
   "execution_count": 16,
   "id": "86bc8325",
   "metadata": {
    "ExecuteTime": {
     "end_time": "2021-08-13T12:27:58.863077Z",
     "start_time": "2021-08-13T12:27:58.858837Z"
    }
   },
   "outputs": [],
   "source": [
    "all_tags = ['I-Float','B-CountryCode','B-tim','B-CurrencyCode','I-Event','I-TemporalUnit','B-US_States','I-Month','I-Location','I-CryptoCurrencyCode','I-CurrencyCode','B-nat','B-Month','I-tim','I-art','I-Time','I-Integer','I-eve','I-Timezone','I-nat','I-per','I-US_States','I-CountryCode','B-org','B-geo','I-gpe','B-gpe','B-Party','I-org','B-SpecialTerm','B-eve','B-CryptoCurrencyCode','B-Float','B-Location','B-art','I-geo','B-TemporalUnit','I-Party','B-Event','B-Integer','B-Time','B-Race','I-SpecialTerm','I-Object','B-Object','I-Race','B-Timezone','B-per','O']"
   ]
  },
  {
   "cell_type": "code",
   "execution_count": null,
   "id": "928bc072",
   "metadata": {
    "ExecuteTime": {
     "start_time": "2021-08-13T12:27:31.633Z"
    },
    "scrolled": true
   },
   "outputs": [
    {
     "name": "stderr",
     "output_type": "stream",
     "text": [
      "Some weights of the model checkpoint at roberta-base were not used when initializing RobertaModelWithHeads: ['lm_head.bias', 'lm_head.dense.weight', 'lm_head.dense.bias', 'lm_head.layer_norm.weight', 'lm_head.layer_norm.bias', 'lm_head.decoder.weight']\n",
      "- This IS expected if you are initializing RobertaModelWithHeads from the checkpoint of a model trained on another task or with another architecture (e.g. initializing a BertForSequenceClassification model from a BertForPreTraining model).\n",
      "- This IS NOT expected if you are initializing RobertaModelWithHeads from the checkpoint of a model that you expect to be exactly identical (initializing a BertForSequenceClassification model from a BertForSequenceClassification model).\n",
      "Some weights of RobertaModelWithHeads were not initialized from the model checkpoint at roberta-base and are newly initialized: ['roberta.embeddings.position_ids']\n",
      "You should probably TRAIN this model on a down-stream task to be able to use it for predictions and inference.\n"
     ]
    },
    {
     "name": "stdout",
     "output_type": "stream",
     "text": [
      "\n",
      "I-Float: epoch 0\n",
      "\tLoss: 0.7634252309799194\n",
      "\tLoss: 0.0044118924997746944\n"
     ]
    }
   ],
   "source": [
    "for index, tag in enumerate(all_tags):\n",
    "    if index % 2 == device_id:\n",
    "        print(f\"\\nSkip {tag}.\\n\")\n",
    "        continue\n",
    "    model = RobertaModelWithHeads.from_pretrained(\n",
    "        \"roberta-base\",\n",
    "        config=config,\n",
    "        )\n",
    "\n",
    "\n",
    "    try:\n",
    "        model.add_adapter(tag)\n",
    "        model.add_tagging_head(\n",
    "            tag,\n",
    "            num_labels=1\n",
    "          )\n",
    "    except: pass\n",
    "    model.train_adapter(tag)\n",
    "    model = model.to(device)\n",
    "    \n",
    "    no_decay = [\"bias\", \"LayerNorm.weight\"]\n",
    "    optimizer_grouped_parameters = [\n",
    "                    {\n",
    "                        \"params\": [p for n, p in model.named_parameters() if not any(nd in n for nd in no_decay)],\n",
    "                        \"weight_decay\": 1e-5,\n",
    "                    },\n",
    "                    {\n",
    "                        \"params\": [p for n, p in model.named_parameters() if any(nd in n for nd in no_decay)],\n",
    "                        \"weight_decay\": 0.0,\n",
    "                    },\n",
    "                ]\n",
    "    optimizer = torch.optim.AdamW(params=optimizer_grouped_parameters, lr=1e-4)\n",
    "    \n",
    "    for epoch in range(4):\n",
    "        print(f\"\\n{tag}: epoch {epoch}\")\n",
    "        for i, data in enumerate(trainloader):\n",
    "\n",
    "            tokens_tensors, segments_tensors, \\\n",
    "            masks_tensors, labels = [t.to(device) for t in data]\n",
    "\n",
    "            outputs = model(input_ids = tokens_tensors,\n",
    "                attention_mask=masks_tensors,\n",
    "                token_type_ids=segments_tensors)\n",
    "\n",
    "\n",
    "            logits = outputs[0]\n",
    "\n",
    "            current_label = labels.view(-1, labels.shape[-1])[:, trainset.label_map[tag]]\n",
    "            current_label = current_label.view(-1)\n",
    "\n",
    "            active_logits = logits.view(-1, logits.shape[-1])[masks_tensors.view(-1) == 1]\n",
    "            active_labels = current_label[masks_tensors.view(-1)== 1]\n",
    "\n",
    "            actual = current_label[masks_tensors.view(-1)== 1].float().view(-1,1)\n",
    "            \"\"\"\n",
    "\n",
    "            actual = torch.ones(active_logits.shape, device = device)\n",
    "\n",
    "            actual[:, 0] = (active_labels == 0).long()\n",
    "            actual[:, 1] = (active_labels == 1).long()\"\"\"\n",
    "\n",
    "\n",
    "            loss_fct = torch.nn.BCEWithLogitsLoss()\n",
    "\n",
    "            loss = loss_fct(active_logits, actual)\n",
    "\n",
    "            loss.backward()\n",
    "            optimizer.step()\n",
    "            optimizer.zero_grad()\n",
    "            \n",
    "            if i % 100 == 0:\n",
    "                print(f\"\\tLoss: {loss}\")\n",
    "        telegram_bot_sendtext(f\"\\n{tag}: epoch {epoch}, loss = {loss}\")\n",
    "        filename = f\"{tag}_epoch_{epoch}_{dateStamp}\"\n",
    "        model.save_adapter(f\"./save_adapters/{filename}\", model.active_adapters[0])\n",
    "        model.save_head(f\"./save_heads/{filename}\", model.active_head)\n",
    "    filename = f\"{tag}_{dateStamp}\"\n",
    "    model.save_adapter(f\"./save_adapters/{filename}\", model.active_adapters[0])\n",
    "    model.save_head(f\"./save_heads/{filename}\", model.active_head)"
   ]
  },
  {
   "cell_type": "code",
   "execution_count": null,
   "id": "31de25ca",
   "metadata": {},
   "outputs": [],
   "source": []
  },
  {
   "cell_type": "code",
   "execution_count": null,
   "id": "30771ed3",
   "metadata": {},
   "outputs": [],
   "source": []
  },
  {
   "cell_type": "code",
   "execution_count": null,
   "id": "60e908c2",
   "metadata": {},
   "outputs": [],
   "source": []
  },
  {
   "cell_type": "code",
   "execution_count": null,
   "id": "6ce26589",
   "metadata": {
    "ExecuteTime": {
     "start_time": "2021-08-13T12:27:31.638Z"
    }
   },
   "outputs": [],
   "source": [
    "label_id_mapping = trainset.label_map\n",
    "\n",
    "id_label_mapping = dict()\n",
    "for key in label_id_mapping.keys():\n",
    "    id_label_mapping[label_id_mapping[key]] = key\n",
    "\n",
    "def test_model(model, sentence, device = \"cpu\"):\n",
    "    tokenized_sentence = torch.tensor([tokenizer.encode(sentence)])\n",
    "    pos = torch.tensor([[0] * len(tokenized_sentence)])\n",
    "    tags = torch.tensor([[1] * len(tokenized_sentence)])\n",
    "\n",
    "    model = model.to(device)\n",
    "    outputs = model(input_ids=tokenized_sentence.to(device), \n",
    "                    token_type_ids=pos.to(device), \n",
    "                    attention_mask=tags.to(device))\n",
    "\n",
    "    logits = outputs[0]\n",
    "\n",
    "    _, pred_labels = torch.max(logits, 2)\n",
    "\n",
    "    out_labels = []\n",
    "    for row in pred_labels:\n",
    "        result = list(map(lambda x: id_label_mapping[int(x)], row))\n",
    "        out_labels.append(result)\n",
    "    #return tokenizer.tokenize(sentence), out_labels[0], logits\n",
    "    return tokenizer.tokenize(sentence), out_labels[0][1:-1], logits[:, 1:-1]"
   ]
  },
  {
   "cell_type": "code",
   "execution_count": null,
   "id": "ca46deba",
   "metadata": {
    "ExecuteTime": {
     "start_time": "2021-08-13T12:27:31.639Z"
    }
   },
   "outputs": [],
   "source": [
    "sentence = \"Dan will be deemed to have completed its delivery obligations before 2021-7-5 if in Niall's opinion, the Jeep Car satisfies the Acceptance Criteria, and Niall notifies Dan in writing that it is accepting the Jeep Car.\""
   ]
  },
  {
   "cell_type": "code",
   "execution_count": null,
   "id": "e4a87d35",
   "metadata": {
    "ExecuteTime": {
     "start_time": "2021-08-13T12:27:31.641Z"
    }
   },
   "outputs": [],
   "source": [
    "tokenized_sentence = torch.tensor([tokenizer.encode(sentence)])\n",
    "pos = torch.tensor([[0] * len(tokenized_sentence)])\n",
    "tags = torch.tensor([[1] * len(tokenized_sentence)])\n",
    "\n",
    "model = model.to(device)\n",
    "outputs = model(input_ids=tokenized_sentence.to(device), \n",
    "                token_type_ids=pos.to(device), \n",
    "                attention_mask=tags.to(device))"
   ]
  },
  {
   "cell_type": "code",
   "execution_count": null,
   "id": "3d90e517",
   "metadata": {
    "ExecuteTime": {
     "start_time": "2021-08-13T12:27:31.642Z"
    }
   },
   "outputs": [],
   "source": [
    "for i, text in enumerate(tokenizer.tokenize(sentence)):\n",
    "    print(f\"{text}: {outputs[0].view(-1)[i]}\")"
   ]
  },
  {
   "cell_type": "code",
   "execution_count": null,
   "id": "7e1088c4",
   "metadata": {},
   "outputs": [],
   "source": []
  },
  {
   "cell_type": "code",
   "execution_count": null,
   "id": "656abe32",
   "metadata": {
    "ExecuteTime": {
     "start_time": "2021-08-13T12:27:31.644Z"
    }
   },
   "outputs": [],
   "source": [
    "sentence = \"Dan Will be deemed to have completed its delivery obligations before 2021-7-5 if in Niall's opinion, the Jeep Car satisfies the Acceptance Criteria, and Niall notifies Dan in writing that it is accepting the Jeep Car.\"\n",
    "sen, pred, logits = test_model(model, sentence, device = 'cpu')"
   ]
  },
  {
   "cell_type": "code",
   "execution_count": null,
   "id": "b16220ab",
   "metadata": {
    "ExecuteTime": {
     "start_time": "2021-08-13T12:27:31.646Z"
    }
   },
   "outputs": [],
   "source": [
    "a = tokenizer.tokenize(sentence)[1]"
   ]
  },
  {
   "cell_type": "code",
   "execution_count": null,
   "id": "7eb1f6fc",
   "metadata": {
    "scrolled": true
   },
   "outputs": [],
   "source": []
  },
  {
   "cell_type": "code",
   "execution_count": null,
   "id": "4d937d0b",
   "metadata": {
    "ExecuteTime": {
     "start_time": "2021-08-13T12:27:31.648Z"
    }
   },
   "outputs": [],
   "source": [
    "np.array(sen)"
   ]
  },
  {
   "cell_type": "code",
   "execution_count": null,
   "id": "1fae43e1",
   "metadata": {
    "ExecuteTime": {
     "start_time": "2021-08-13T12:27:31.649Z"
    }
   },
   "outputs": [],
   "source": [
    "np.array(pred)"
   ]
  },
  {
   "cell_type": "code",
   "execution_count": null,
   "id": "5246a1d8",
   "metadata": {
    "ExecuteTime": {
     "start_time": "2021-08-13T12:27:31.650Z"
    }
   },
   "outputs": [],
   "source": [
    "from __future__ import print_function\n",
    "from ipywidgets import interact, interactive, fixed, interact_manual\n",
    "import ipywidgets as widgets\n",
    "def interact_word(i):\n",
    "    print(i)\n",
    "    print(sen[i])\n",
    "    target = out[i]\n",
    "\n",
    "    for i in range(len(target)):\n",
    "        print(f\"{i} {id_label_mapping[i].ljust(6)} \\t: {target[i]:.5f}\")"
   ]
  },
  {
   "cell_type": "code",
   "execution_count": null,
   "id": "43105772",
   "metadata": {
    "ExecuteTime": {
     "start_time": "2021-08-13T12:27:31.651Z"
    }
   },
   "outputs": [],
   "source": [
    "out = logits[0]\n",
    "interact(lambda x: interact_word(x), x=widgets.IntSlider(min=0, max=len(sen)-1, step=1, value=0))"
   ]
  },
  {
   "cell_type": "code",
   "execution_count": null,
   "id": "cf934d03",
   "metadata": {},
   "outputs": [],
   "source": []
  },
  {
   "cell_type": "code",
   "execution_count": null,
   "id": "8f6b2200",
   "metadata": {},
   "outputs": [],
   "source": []
  },
  {
   "cell_type": "code",
   "execution_count": null,
   "id": "1ea35621",
   "metadata": {
    "ExecuteTime": {
     "start_time": "2021-07-30T07:58:41.852Z"
    }
   },
   "outputs": [],
   "source": []
  },
  {
   "cell_type": "code",
   "execution_count": null,
   "id": "40bdd8fd",
   "metadata": {},
   "outputs": [],
   "source": []
  },
  {
   "cell_type": "code",
   "execution_count": null,
   "id": "15d0aa6d",
   "metadata": {},
   "outputs": [],
   "source": []
  },
  {
   "cell_type": "code",
   "execution_count": null,
   "id": "21e508bb",
   "metadata": {},
   "outputs": [],
   "source": []
  },
  {
   "cell_type": "code",
   "execution_count": null,
   "id": "fbcfc38e",
   "metadata": {},
   "outputs": [],
   "source": []
  },
  {
   "cell_type": "code",
   "execution_count": null,
   "id": "439ea919",
   "metadata": {
    "ExecuteTime": {
     "start_time": "2021-08-13T12:27:31.660Z"
    }
   },
   "outputs": [],
   "source": [
    "print(\"OK\")"
   ]
  },
  {
   "cell_type": "code",
   "execution_count": null,
   "id": "c4e97b21",
   "metadata": {},
   "outputs": [],
   "source": []
  }
 ],
 "metadata": {
  "kernelspec": {
   "display_name": "adapter",
   "language": "python",
   "name": "adapter"
  },
  "language_info": {
   "codemirror_mode": {
    "name": "ipython",
    "version": 3
   },
   "file_extension": ".py",
   "mimetype": "text/x-python",
   "name": "python",
   "nbconvert_exporter": "python",
   "pygments_lexer": "ipython3",
   "version": "3.7.10"
  }
 },
 "nbformat": 4,
 "nbformat_minor": 5
}
