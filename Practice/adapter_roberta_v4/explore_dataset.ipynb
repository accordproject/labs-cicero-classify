{
 "cells": [
  {
   "cell_type": "code",
   "execution_count": 1,
   "id": "c64f2ee6",
   "metadata": {
    "ExecuteTime": {
     "end_time": "2021-08-13T21:30:47.569927Z",
     "start_time": "2021-08-13T21:30:47.212719Z"
    }
   },
   "outputs": [],
   "source": [
    "import pandas as pd\n",
    "import numpy as np"
   ]
  },
  {
   "cell_type": "code",
   "execution_count": 2,
   "id": "4ced4b6a",
   "metadata": {
    "ExecuteTime": {
     "end_time": "2021-08-13T21:30:47.612823Z",
     "start_time": "2021-08-13T21:30:47.571649Z"
    }
   },
   "outputs": [],
   "source": [
    "from telegram_notifier import send_message as telegram_bot_sendtext"
   ]
  },
  {
   "cell_type": "code",
   "execution_count": 3,
   "id": "beafcfe7",
   "metadata": {
    "ExecuteTime": {
     "end_time": "2021-08-13T21:30:48.067563Z",
     "start_time": "2021-08-13T21:30:47.614306Z"
    }
   },
   "outputs": [
    {
     "name": "stdout",
     "output_type": "stream",
     "text": [
      "Torch Version: 1.8.1\n",
      "transformers (Adapter) Version: 2.0.1\n"
     ]
    }
   ],
   "source": [
    "import torch\n",
    "print(f\"Torch Version: {torch.__version__}\")\n",
    "\n",
    "import transformers\n",
    "print(f\"transformers (Adapter) Version: {transformers.__version__}\")"
   ]
  },
  {
   "cell_type": "code",
   "execution_count": 4,
   "id": "83aff5b4",
   "metadata": {
    "ExecuteTime": {
     "end_time": "2021-08-13T21:30:48.073528Z",
     "start_time": "2021-08-13T21:30:48.070364Z"
    }
   },
   "outputs": [],
   "source": [
    "dateStamp = '0813_v4'"
   ]
  },
  {
   "cell_type": "code",
   "execution_count": 5,
   "id": "add515cd",
   "metadata": {
    "ExecuteTime": {
     "end_time": "2021-08-13T21:30:57.792092Z",
     "start_time": "2021-08-13T21:30:48.415923Z"
    }
   },
   "outputs": [],
   "source": [
    "from transformers import RobertaTokenizer\n",
    "import numpy as np\n",
    "\n",
    "tokenizer = RobertaTokenizer.from_pretrained(\"roberta-base\")\n",
    "\n",
    "from transformers import RobertaTokenizer\n",
    "\n",
    "tokenizer = RobertaTokenizer.from_pretrained(\"roberta-base\")\n",
    "\n",
    "def encode_batch(batch):\n",
    "  \"\"\"Encodes a batch of input data using the model tokenizer.\"\"\"\n",
    "  return tokenizer(batch[\"text\"], max_length=80, truncation=True, padding=\"max_length\")"
   ]
  },
  {
   "cell_type": "code",
   "execution_count": 6,
   "id": "215447e9",
   "metadata": {
    "ExecuteTime": {
     "end_time": "2021-08-13T21:31:07.468640Z",
     "start_time": "2021-08-13T21:30:57.793527Z"
    }
   },
   "outputs": [
    {
     "name": "stdout",
     "output_type": "stream",
     "text": [
      "labels: ['B-CountryCode' 'B-CryptoCurrencyCode' 'B-CurrencyCode' 'B-Event'\n",
      " 'B-Float' 'B-Integer' 'B-Location' 'B-Month' 'B-Object' 'B-Party'\n",
      " 'B-Race' 'B-SpecialTerm' 'B-TemporalUnit' 'B-Time' 'B-Timezone'\n",
      " 'B-US_States' 'B-art' 'B-eve' 'B-geo' 'B-gpe' 'B-nat' 'B-org' 'B-per'\n",
      " 'B-tim' 'I-CountryCode' 'I-CryptoCurrencyCode' 'I-CurrencyCode' 'I-Event'\n",
      " 'I-Float' 'I-Integer' 'I-Location' 'I-Month' 'I-Object' 'I-Party'\n",
      " 'I-Race' 'I-SpecialTerm' 'I-TemporalUnit' 'I-Time' 'I-Timezone'\n",
      " 'I-US_States' 'I-art' 'I-eve' 'I-geo' 'I-gpe' 'I-nat' 'I-org' 'I-per'\n",
      " 'I-tim' 'O']\n"
     ]
    }
   ],
   "source": [
    "from ner_dataset import get_trainset_data_loader\n",
    "data_path = \"./NER_multilabel_data_v4.csv\"\n",
    "#還需要改資料裡面的\n",
    "all_tags, trainset, trainloader = get_trainset_data_loader(tokenizer, BATCH_SIZE=128, data_path = data_path)"
   ]
  },
  {
   "cell_type": "code",
   "execution_count": 7,
   "id": "33eecb56",
   "metadata": {
    "ExecuteTime": {
     "end_time": "2021-08-13T21:31:07.482650Z",
     "start_time": "2021-08-13T21:31:07.470844Z"
    }
   },
   "outputs": [
    {
     "data": {
      "text/plain": [
       "array([list(['Thousands', 'Ä\\xa0of', 'Ä\\xa0demon', 'str', 'ators', 'Ä\\xa0have', 'Ä\\xa0mar', 'ched', 'Ä\\xa0through', 'Ä\\xa0London', 'Ä\\xa0to', 'Ä\\xa0pro', 'test', 'Ä\\xa0the', 'Ä\\xa0war', 'Ä\\xa0in', 'Ä\\xa0Iraq', 'Ä\\xa0and', 'Ä\\xa0demand', 'Ä\\xa0the', 'Ä\\xa0with', 'draw', 'al', 'Ä\\xa0of', 'Ä\\xa0British', 'Ä\\xa0tro', 'ops', 'Ä\\xa0from', 'Ä\\xa0that', 'Ä\\xa0country', 'Ä\\xa0.']),\n",
       "       list(['Iran', 'ian', 'Ä\\xa0offic', 'ials', 'Ä\\xa0say', 'Ä\\xa0they', 'Ä\\xa0ex', 'pect', 'Ä\\xa0to', 'Ä\\xa0get', 'Ä\\xa0access', 'Ä\\xa0to', 'Ä\\xa0se', 'aled', 'Ä\\xa0sensitive', 'Ä\\xa0parts', 'Ä\\xa0of', 'Ä\\xa0the', 'Ä\\xa0plant', 'Ä\\xa0Wednesday', 'Ä\\xa0,', 'Ä\\xa0after', 'Ä\\xa0an', 'Ä\\xa0IA', 'EA', 'Ä\\xa0sur', 've', 'illance', 'Ä\\xa0system', 'Ä\\xa0be', 'gins', 'Ä\\xa0function', 'ing', 'Ä\\xa0.']),\n",
       "       list(['Hel', 'ic', 'opter', 'Ä\\xa0gun', 'ships', 'Ä\\xa0Saturday', 'Ä\\xa0p', 'ounded', 'Ä\\xa0m', 'ilit', 'ant', 'Ä\\xa0hide', 'outs', 'Ä\\xa0in', 'Ä\\xa0the', 'Ä\\xa0O', 'rak', 'zai', 'Ä\\xa0t', 'rib', 'al', 'Ä\\xa0region', 'Ä\\xa0,', 'Ä\\xa0where', 'Ä\\xa0many', 'Ä\\xa0Tal', 'iban', 'Ä\\xa0m', 'ilit', 'ants', 'Ä\\xa0are', 'Ä\\xa0bel', 'ieved', 'Ä\\xa0to', 'Ä\\xa0have', 'Ä\\xa0f', 'led', 'Ä\\xa0to', 'Ä\\xa0avoid', 'Ä\\xa0an', 'Ä\\xa0ear', 'lier', 'Ä\\xa0military', 'Ä\\xa0offensive', 'Ä\\xa0in', 'Ä\\xa0near', 'by', 'Ä\\xa0South', 'Ä\\xa0W', 'az', 'ir', 'istan', 'Ä\\xa0.']),\n",
       "       ...,\n",
       "       list(['Following', 'Ä\\xa0Iran', \"Ä\\xa0's\", 'Ä\\xa0dis', 'puted', 'Ä\\xa0June', 'Ä\\xa012', 'Ä\\xa0elect', 'ions', 'Ä\\xa0,', 'Ä\\xa0rights', 'Ä\\xa0groups', 'Ä\\xa0said', 'Ä\\xa0h', 'undreds', 'Ä\\xa0of', 'Ä\\xa0people', 'Ä\\xa0were', 'Ä\\xa0det', 'ained', 'Ä\\xa0in', 'Ä\\xa0cl', 'ashes', 'Ä\\xa0with', 'Ä\\xa0security', 'Ä\\xa0forces', 'Ä\\xa0during', 'Ä\\xa0post', '-', 'election', 'Ä\\xa0,', 'Ä\\xa0anti', '-', 'government', 'Ä\\xa0demon', 'str', 'ations', 'Ä\\xa0.']),\n",
       "       list(['Since', 'Ä\\xa0then', 'Ä\\xa0,', 'Ä\\xa0author', 'ities', 'Ä\\xa0have', 'Ä\\xa0held', 'Ä\\xa0public', 'Ä\\xa0tri', 'als', 'Ä\\xa0of', 'Ä\\xa0the', 'Ä\\xa0acc', 'used', 'Ä\\xa0and', 'Ä\\xa0t', 'ried', 'Ä\\xa0to', 'Ä\\xa0marg', 'inal', 'ize', 'Ä\\xa0moderate', 'Ä\\xa0offic', 'ials', 'Ä\\xa0within', 'Ä\\xa0the', 'Ä\\xa0government', 'Ä\\xa0.']),\n",
       "       list(['The', 'Ä\\xa0United', 'Ä\\xa0N', 'ations', 'Ä\\xa0is', 'Ä\\xa0p', 'raising', 'Ä\\xa0the', 'Ä\\xa0use', 'Ä\\xa0of', 'Ä\\xa0military', 'Ä\\xa0he', 'lic', 'op', 'ters', 'Ä\\xa0to', 'Ä\\xa0drop', 'Ä\\xa0food', 'Ä\\xa0and', 'Ä\\xa0res', 'cue', 'Ä\\xa0surv', 'iv', 'ors', 'Ä\\xa0in', 'Ä\\xa0ts', 'un', 'ami', '-', 'rav', 'aged', 'Ä\\xa0Ind', 'ones', 'ia', 'Ä\\xa0,', 'Ä\\xa0s', 'aying', 'Ä\\xa0the', 'Ä\\xa0air', 'craft', 'Ä\\xa0are', 'Ä\\xa0\"', 'Ä\\xa0worth', 'Ä\\xa0their', 'Ä\\xa0weight', 'Ä\\xa0in', 'Ä\\xa0gold', 'Ä\\xa0.', 'Ä\\xa0\"'])],\n",
       "      dtype=object)"
      ]
     },
     "execution_count": 7,
     "metadata": {},
     "output_type": "execute_result"
    }
   ],
   "source": [
    "trainset.sentences"
   ]
  },
  {
   "cell_type": "code",
   "execution_count": null,
   "id": "cc0fb60e",
   "metadata": {},
   "outputs": [],
   "source": []
  },
  {
   "cell_type": "code",
   "execution_count": null,
   "id": "723b00c7",
   "metadata": {},
   "outputs": [],
   "source": []
  },
  {
   "cell_type": "code",
   "execution_count": 7,
   "id": "16c29d06",
   "metadata": {
    "ExecuteTime": {
     "end_time": "2021-08-13T12:28:02.138712Z",
     "start_time": "2021-08-13T12:28:01.094291Z"
    }
   },
   "outputs": [],
   "source": [
    "from transformers import RobertaConfig, RobertaModelWithHeads\n",
    "\n",
    "config = RobertaConfig.from_pretrained(\n",
    "    \"roberta-base\",\n",
    "    num_labels=len(all_tags),\n",
    "    label2id = trainset.label_map, \n",
    "    id2label = trainset.id2label\n",
    ")"
   ]
  },
  {
   "cell_type": "markdown",
   "id": "af991b5d",
   "metadata": {},
   "source": [
    "name = model.load_adapter(\"./save_adapters/ALL_tag_0730\")\n",
    "model.add_tagging_head(\n",
    "        name,\n",
    "        num_labels=len(trainset.label_map.keys()), overwrite_ok=True\n",
    "      )\n",
    "model.train_adapter(name)"
   ]
  },
  {
   "cell_type": "code",
   "execution_count": null,
   "id": "ca4ef36d",
   "metadata": {},
   "outputs": [],
   "source": []
  },
  {
   "cell_type": "code",
   "execution_count": null,
   "id": "edac2ec4",
   "metadata": {},
   "outputs": [],
   "source": []
  },
  {
   "cell_type": "code",
   "execution_count": null,
   "id": "45587fb4",
   "metadata": {
    "ExecuteTime": {
     "end_time": "2021-07-30T07:49:00.550764Z",
     "start_time": "2021-07-30T07:49:00.533260Z"
    }
   },
   "outputs": [],
   "source": []
  },
  {
   "cell_type": "code",
   "execution_count": 8,
   "id": "70b4417c",
   "metadata": {
    "ExecuteTime": {
     "end_time": "2021-08-13T12:28:02.155228Z",
     "start_time": "2021-08-13T12:28:02.141942Z"
    }
   },
   "outputs": [],
   "source": [
    "device_id = 0\n",
    "device = torch.device(f\"cuda:{device_id}\" if torch.cuda.is_available() else \"cpu\")"
   ]
  },
  {
   "cell_type": "code",
   "execution_count": null,
   "id": "c9d44620",
   "metadata": {},
   "outputs": [],
   "source": []
  },
  {
   "cell_type": "code",
   "execution_count": null,
   "id": "5b6bd2e0",
   "metadata": {},
   "outputs": [],
   "source": []
  },
  {
   "cell_type": "code",
   "execution_count": 9,
   "id": "c6c42b1c",
   "metadata": {
    "ExecuteTime": {
     "end_time": "2021-08-13T12:28:02.161408Z",
     "start_time": "2021-08-13T12:28:02.157072Z"
    }
   },
   "outputs": [],
   "source": [
    "all_tags = ['I-Float','B-CountryCode','B-tim','B-CurrencyCode','I-Event','I-TemporalUnit','B-US_States','I-Month','I-Location','I-CryptoCurrencyCode','I-CurrencyCode','B-nat','B-Month','I-tim','I-art','I-Time','I-Integer','I-eve','I-Timezone','I-nat','I-per','I-US_States','I-CountryCode','B-org','B-geo','I-gpe','B-gpe','B-Party','I-org','B-SpecialTerm','B-eve','B-CryptoCurrencyCode','B-Float','B-Location','B-art','I-geo','B-TemporalUnit','I-Party','B-Event','B-Integer','B-Time','B-Race','I-SpecialTerm','I-Object','B-Object','I-Race','B-Timezone','B-per','O']"
   ]
  },
  {
   "cell_type": "code",
   "execution_count": null,
   "id": "928bc072",
   "metadata": {
    "ExecuteTime": {
     "start_time": "2021-08-13T12:27:34.015Z"
    },
    "scrolled": true
   },
   "outputs": [
    {
     "name": "stdout",
     "output_type": "stream",
     "text": [
      "\n",
      "Skip I-Float.\n",
      "\n"
     ]
    },
    {
     "name": "stderr",
     "output_type": "stream",
     "text": [
      "Some weights of the model checkpoint at roberta-base were not used when initializing RobertaModelWithHeads: ['lm_head.bias', 'lm_head.dense.weight', 'lm_head.dense.bias', 'lm_head.layer_norm.weight', 'lm_head.layer_norm.bias', 'lm_head.decoder.weight']\n",
      "- This IS expected if you are initializing RobertaModelWithHeads from the checkpoint of a model trained on another task or with another architecture (e.g. initializing a BertForSequenceClassification model from a BertForPreTraining model).\n",
      "- This IS NOT expected if you are initializing RobertaModelWithHeads from the checkpoint of a model that you expect to be exactly identical (initializing a BertForSequenceClassification model from a BertForSequenceClassification model).\n",
      "Some weights of RobertaModelWithHeads were not initialized from the model checkpoint at roberta-base and are newly initialized: ['roberta.embeddings.position_ids']\n",
      "You should probably TRAIN this model on a down-stream task to be able to use it for predictions and inference.\n"
     ]
    },
    {
     "name": "stdout",
     "output_type": "stream",
     "text": [
      "\n",
      "B-CountryCode: epoch 0\n",
      "\tLoss: 0.8220815062522888\n",
      "\tLoss: 0.006541782990098\n"
     ]
    }
   ],
   "source": [
    "for index, tag in enumerate(all_tags):\n",
    "    if index % 2 == device_id:\n",
    "        print(f\"\\nSkip {tag}.\\n\")\n",
    "        continue\n",
    "    model = RobertaModelWithHeads.from_pretrained(\n",
    "        \"roberta-base\",\n",
    "        config=config,\n",
    "        )\n",
    "\n",
    "\n",
    "    try:\n",
    "        model.add_adapter(tag)\n",
    "        model.add_tagging_head(\n",
    "            tag,\n",
    "            num_labels=1\n",
    "          )\n",
    "    except: pass\n",
    "    model.train_adapter(tag)\n",
    "    model = model.to(device)\n",
    "    \n",
    "    no_decay = [\"bias\", \"LayerNorm.weight\"]\n",
    "    optimizer_grouped_parameters = [\n",
    "                    {\n",
    "                        \"params\": [p for n, p in model.named_parameters() if not any(nd in n for nd in no_decay)],\n",
    "                        \"weight_decay\": 1e-5,\n",
    "                    },\n",
    "                    {\n",
    "                        \"params\": [p for n, p in model.named_parameters() if any(nd in n for nd in no_decay)],\n",
    "                        \"weight_decay\": 0.0,\n",
    "                    },\n",
    "                ]\n",
    "    optimizer = torch.optim.AdamW(params=optimizer_grouped_parameters, lr=1e-4)\n",
    "    \n",
    "    for epoch in range(4):\n",
    "        print(f\"\\n{tag}: epoch {epoch}\")\n",
    "        for i, data in enumerate(trainloader):\n",
    "\n",
    "            tokens_tensors, segments_tensors, \\\n",
    "            masks_tensors, labels = [t.to(device) for t in data]\n",
    "\n",
    "            outputs = model(input_ids = tokens_tensors,\n",
    "                attention_mask=masks_tensors,\n",
    "                token_type_ids=segments_tensors)\n",
    "\n",
    "\n",
    "            logits = outputs[0]\n",
    "\n",
    "            current_label = labels.view(-1, labels.shape[-1])[:, trainset.label_map[tag]]\n",
    "            current_label = current_label.view(-1)\n",
    "\n",
    "            active_logits = logits.view(-1, logits.shape[-1])[masks_tensors.view(-1) == 1]\n",
    "            active_labels = current_label[masks_tensors.view(-1)== 1]\n",
    "\n",
    "            actual = current_label[masks_tensors.view(-1)== 1].float().view(-1,1)\n",
    "            \"\"\"\n",
    "\n",
    "            actual = torch.ones(active_logits.shape, device = device)\n",
    "\n",
    "            actual[:, 0] = (active_labels == 0).long()\n",
    "            actual[:, 1] = (active_labels == 1).long()\"\"\"\n",
    "\n",
    "\n",
    "            loss_fct = torch.nn.BCEWithLogitsLoss()\n",
    "\n",
    "            loss = loss_fct(active_logits, actual)\n",
    "\n",
    "            loss.backward()\n",
    "            optimizer.step()\n",
    "            optimizer.zero_grad()\n",
    "            \n",
    "            if i % 100 == 0:\n",
    "                print(f\"\\tLoss: {loss}\")\n",
    "        telegram_bot_sendtext(f\"\\n{tag}: epoch {epoch}, loss = {loss}\")\n",
    "        filename = f\"{tag}_epoch_{epoch}_{dateStamp}\"\n",
    "        model.save_adapter(f\"./save_adapters/{filename}\", model.active_adapters[0])\n",
    "        model.save_head(f\"./save_heads/{filename}\", model.active_head)\n",
    "    filename = f\"{tag}_{dateStamp}\"\n",
    "    model.save_adapter(f\"./save_adapters/{filename}\", model.active_adapters[0])\n",
    "    model.save_head(f\"./save_heads/{filename}\", model.active_head)"
   ]
  },
  {
   "cell_type": "code",
   "execution_count": null,
   "id": "31de25ca",
   "metadata": {},
   "outputs": [],
   "source": []
  },
  {
   "cell_type": "code",
   "execution_count": null,
   "id": "30771ed3",
   "metadata": {},
   "outputs": [],
   "source": []
  },
  {
   "cell_type": "code",
   "execution_count": null,
   "id": "60e908c2",
   "metadata": {},
   "outputs": [],
   "source": []
  },
  {
   "cell_type": "code",
   "execution_count": null,
   "id": "6ce26589",
   "metadata": {
    "ExecuteTime": {
     "start_time": "2021-08-13T12:27:34.019Z"
    }
   },
   "outputs": [],
   "source": [
    "label_id_mapping = trainset.label_map\n",
    "\n",
    "id_label_mapping = dict()\n",
    "for key in label_id_mapping.keys():\n",
    "    id_label_mapping[label_id_mapping[key]] = key\n",
    "\n",
    "def test_model(model, sentence, device = \"cpu\"):\n",
    "    tokenized_sentence = torch.tensor([tokenizer.encode(sentence)])\n",
    "    pos = torch.tensor([[0] * len(tokenized_sentence)])\n",
    "    tags = torch.tensor([[1] * len(tokenized_sentence)])\n",
    "\n",
    "    model = model.to(device)\n",
    "    outputs = model(input_ids=tokenized_sentence.to(device), \n",
    "                    token_type_ids=pos.to(device), \n",
    "                    attention_mask=tags.to(device))\n",
    "\n",
    "    logits = outputs[0]\n",
    "\n",
    "    _, pred_labels = torch.max(logits, 2)\n",
    "\n",
    "    out_labels = []\n",
    "    for row in pred_labels:\n",
    "        result = list(map(lambda x: id_label_mapping[int(x)], row))\n",
    "        out_labels.append(result)\n",
    "    #return tokenizer.tokenize(sentence), out_labels[0], logits\n",
    "    return tokenizer.tokenize(sentence), out_labels[0][1:-1], logits[:, 1:-1]"
   ]
  },
  {
   "cell_type": "code",
   "execution_count": null,
   "id": "ca46deba",
   "metadata": {
    "ExecuteTime": {
     "start_time": "2021-08-13T12:27:34.020Z"
    }
   },
   "outputs": [],
   "source": [
    "sentence = \"Dan will be deemed to have completed its delivery obligations before 2021-7-5 if in Niall's opinion, the Jeep Car satisfies the Acceptance Criteria, and Niall notifies Dan in writing that it is accepting the Jeep Car.\""
   ]
  },
  {
   "cell_type": "code",
   "execution_count": null,
   "id": "e4a87d35",
   "metadata": {
    "ExecuteTime": {
     "start_time": "2021-08-13T12:27:34.022Z"
    }
   },
   "outputs": [],
   "source": [
    "tokenized_sentence = torch.tensor([tokenizer.encode(sentence)])\n",
    "pos = torch.tensor([[0] * len(tokenized_sentence)])\n",
    "tags = torch.tensor([[1] * len(tokenized_sentence)])\n",
    "\n",
    "model = model.to(device)\n",
    "outputs = model(input_ids=tokenized_sentence.to(device), \n",
    "                token_type_ids=pos.to(device), \n",
    "                attention_mask=tags.to(device))"
   ]
  },
  {
   "cell_type": "code",
   "execution_count": null,
   "id": "3d90e517",
   "metadata": {
    "ExecuteTime": {
     "start_time": "2021-08-13T12:27:34.023Z"
    }
   },
   "outputs": [],
   "source": [
    "for i, text in enumerate(tokenizer.tokenize(sentence)):\n",
    "    print(f\"{text}: {outputs[0].view(-1)[i]}\")"
   ]
  },
  {
   "cell_type": "code",
   "execution_count": null,
   "id": "7e1088c4",
   "metadata": {},
   "outputs": [],
   "source": []
  },
  {
   "cell_type": "code",
   "execution_count": null,
   "id": "656abe32",
   "metadata": {
    "ExecuteTime": {
     "start_time": "2021-08-13T12:27:34.025Z"
    }
   },
   "outputs": [],
   "source": [
    "sentence = \"Dan Will be deemed to have completed its delivery obligations before 2021-7-5 if in Niall's opinion, the Jeep Car satisfies the Acceptance Criteria, and Niall notifies Dan in writing that it is accepting the Jeep Car.\"\n",
    "sen, pred, logits = test_model(model, sentence, device = 'cpu')"
   ]
  },
  {
   "cell_type": "code",
   "execution_count": null,
   "id": "b16220ab",
   "metadata": {
    "ExecuteTime": {
     "start_time": "2021-08-13T12:27:34.027Z"
    }
   },
   "outputs": [],
   "source": [
    "a = tokenizer.tokenize(sentence)[1]"
   ]
  },
  {
   "cell_type": "code",
   "execution_count": null,
   "id": "7eb1f6fc",
   "metadata": {
    "scrolled": true
   },
   "outputs": [],
   "source": []
  },
  {
   "cell_type": "code",
   "execution_count": null,
   "id": "4d937d0b",
   "metadata": {
    "ExecuteTime": {
     "start_time": "2021-08-13T12:27:34.029Z"
    }
   },
   "outputs": [],
   "source": [
    "np.array(sen)"
   ]
  },
  {
   "cell_type": "code",
   "execution_count": null,
   "id": "1fae43e1",
   "metadata": {
    "ExecuteTime": {
     "start_time": "2021-08-13T12:27:34.031Z"
    }
   },
   "outputs": [],
   "source": [
    "np.array(pred)"
   ]
  },
  {
   "cell_type": "code",
   "execution_count": null,
   "id": "5246a1d8",
   "metadata": {
    "ExecuteTime": {
     "start_time": "2021-08-13T12:27:34.032Z"
    }
   },
   "outputs": [],
   "source": [
    "from __future__ import print_function\n",
    "from ipywidgets import interact, interactive, fixed, interact_manual\n",
    "import ipywidgets as widgets\n",
    "def interact_word(i):\n",
    "    print(i)\n",
    "    print(sen[i])\n",
    "    target = out[i]\n",
    "\n",
    "    for i in range(len(target)):\n",
    "        print(f\"{i} {id_label_mapping[i].ljust(6)} \\t: {target[i]:.5f}\")"
   ]
  },
  {
   "cell_type": "code",
   "execution_count": null,
   "id": "43105772",
   "metadata": {
    "ExecuteTime": {
     "start_time": "2021-08-13T12:27:34.035Z"
    }
   },
   "outputs": [],
   "source": [
    "out = logits[0]\n",
    "interact(lambda x: interact_word(x), x=widgets.IntSlider(min=0, max=len(sen)-1, step=1, value=0))"
   ]
  },
  {
   "cell_type": "code",
   "execution_count": null,
   "id": "cf934d03",
   "metadata": {},
   "outputs": [],
   "source": []
  },
  {
   "cell_type": "code",
   "execution_count": null,
   "id": "8f6b2200",
   "metadata": {},
   "outputs": [],
   "source": []
  },
  {
   "cell_type": "code",
   "execution_count": null,
   "id": "1ea35621",
   "metadata": {
    "ExecuteTime": {
     "start_time": "2021-07-30T07:58:41.852Z"
    }
   },
   "outputs": [],
   "source": []
  },
  {
   "cell_type": "code",
   "execution_count": null,
   "id": "40bdd8fd",
   "metadata": {},
   "outputs": [],
   "source": []
  },
  {
   "cell_type": "code",
   "execution_count": null,
   "id": "15d0aa6d",
   "metadata": {},
   "outputs": [],
   "source": []
  },
  {
   "cell_type": "code",
   "execution_count": null,
   "id": "21e508bb",
   "metadata": {},
   "outputs": [],
   "source": []
  },
  {
   "cell_type": "code",
   "execution_count": null,
   "id": "fbcfc38e",
   "metadata": {},
   "outputs": [],
   "source": []
  },
  {
   "cell_type": "code",
   "execution_count": null,
   "id": "439ea919",
   "metadata": {
    "ExecuteTime": {
     "start_time": "2021-08-13T12:27:34.045Z"
    }
   },
   "outputs": [],
   "source": [
    "print(\"OK\")"
   ]
  },
  {
   "cell_type": "code",
   "execution_count": null,
   "id": "c4e97b21",
   "metadata": {},
   "outputs": [],
   "source": []
  }
 ],
 "metadata": {
  "kernelspec": {
   "display_name": "adapter",
   "language": "python",
   "name": "adapter"
  },
  "language_info": {
   "codemirror_mode": {
    "name": "ipython",
    "version": 3
   },
   "file_extension": ".py",
   "mimetype": "text/x-python",
   "name": "python",
   "nbconvert_exporter": "python",
   "pygments_lexer": "ipython3",
   "version": "3.7.10"
  }
 },
 "nbformat": 4,
 "nbformat_minor": 5
}
