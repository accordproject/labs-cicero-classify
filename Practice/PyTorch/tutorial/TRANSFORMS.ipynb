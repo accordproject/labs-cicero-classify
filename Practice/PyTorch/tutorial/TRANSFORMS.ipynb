{
 "cells": [
  {
   "cell_type": "code",
   "execution_count": 2,
   "metadata": {},
   "outputs": [
    {
     "name": "stdout",
     "output_type": "stream",
     "text": [
      "--2021-06-21 05:04:13--  https://pytorch.org/tutorials/_downloads/7879ad79468290a00bcfb33ee3378463/transforms_tutorial.ipynb\n",
      "Resolving pytorch.org (pytorch.org)... 185.199.108.153\n",
      "Connecting to pytorch.org (pytorch.org)|185.199.108.153|:443... connected.\n",
      "HTTP request sent, awaiting response... 200 OK\n",
      "Length: 4129 (4.0K) [application/octet-stream]\n",
      "Saving to: ‘transforms_tutorial.ipynb’\n",
      "\n",
      "transforms_tutorial 100%[===================>]   4.03K  --.-KB/s    in 0s      \n",
      "\n",
      "2021-06-21 05:04:13 (21.3 MB/s) - ‘transforms_tutorial.ipynb’ saved [4129/4129]\n",
      "\n"
     ]
    }
   ],
   "source": [
    "!wget https://pytorch.org/tutorials/_downloads/7879ad79468290a00bcfb33ee3378463/transforms_tutorial.ipynb"
   ]
  }
 ],
 "metadata": {
  "kernelspec": {
   "display_name": "Python 3",
   "language": "python",
   "name": "python3"
  },
  "language_info": {
   "codemirror_mode": {
    "name": "ipython",
    "version": 3
   },
   "file_extension": ".py",
   "mimetype": "text/x-python",
   "name": "python",
   "nbconvert_exporter": "python",
   "pygments_lexer": "ipython3",
   "version": "3.7.4"
  }
 },
 "nbformat": 4,
 "nbformat_minor": 2
}
