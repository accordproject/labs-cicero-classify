{
 "cells": [
  {
   "cell_type": "markdown",
   "metadata": {},
   "source": [
    "v6: fork from v3, Float specialize"
   ]
  },
  {
   "cell_type": "code",
   "execution_count": 2,
   "metadata": {
    "ExecuteTime": {
     "end_time": "2021-08-13T21:12:19.236826Z",
     "start_time": "2021-08-13T21:12:19.232445Z"
    }
   },
   "outputs": [],
   "source": [
    "import pandas as pd\n",
    "from tqdm import tqdm"
   ]
  },
  {
   "cell_type": "code",
   "execution_count": 3,
   "metadata": {
    "ExecuteTime": {
     "end_time": "2021-08-13T21:12:35.599972Z",
     "start_time": "2021-08-13T21:12:19.637284Z"
    }
   },
   "outputs": [
    {
     "name": "stderr",
     "output_type": "stream",
     "text": [
      "2021-08-14 05:12:21.255010: I tensorflow/stream_executor/platform/default/dso_loader.cc:53] Successfully opened dynamic library libcudart.so.11.0\n"
     ]
    }
   ],
   "source": [
    "from transformers import RobertaTokenizer\n",
    "\n",
    "tokenizer = RobertaTokenizer.from_pretrained(\"roberta-base\")"
   ]
  },
  {
   "cell_type": "code",
   "execution_count": 4,
   "metadata": {
    "ExecuteTime": {
     "end_time": "2021-08-13T21:12:35.998253Z",
     "start_time": "2021-08-13T21:12:35.602904Z"
    }
   },
   "outputs": [],
   "source": [
    "df2 = pd.read_csv(\"./NER_multilabel_data_v2.csv\")"
   ]
  },
  {
   "cell_type": "code",
   "execution_count": null,
   "metadata": {},
   "outputs": [],
   "source": []
  },
  {
   "cell_type": "code",
   "execution_count": null,
   "metadata": {},
   "outputs": [],
   "source": []
  },
  {
   "cell_type": "code",
   "execution_count": 6,
   "metadata": {
    "ExecuteTime": {
     "end_time": "2021-08-13T21:13:10.601074Z",
     "start_time": "2021-08-13T21:13:09.304003Z"
    }
   },
   "outputs": [
    {
     "name": "stderr",
     "output_type": "stream",
     "text": [
      "  0%|                                    | 419/1048575 [00:01<53:43, 325.12it/s]\n"
     ]
    }
   ],
   "source": [
    "k = 0\n",
    "df3 = pd.DataFrame(columns=['Unnamed: 0', 'Sentence #', 'Word', 'POS', 'Tag', 'newTag'])\n",
    "for _, row in tqdm(df2.iterrows(), total=df2.shape[0]):\n",
    "    if \"Float\" in row.newTag: break\n",
    "    words = tokenizer.tokenize(row.Word)\n",
    "    for i, word in enumerate(words):\n",
    "        if i == 0 and pd.isna(row[\"Sentence #\"]):\n",
    "            word = \"Ġ\"+word\n",
    "        if i != 0:\n",
    "            row[\"Sentence #\"] = float(\"nan\")\n",
    "        row.Word = word\n",
    "        #df3 = df3.append(row)\n",
    "        df3.loc[k] = row\n",
    "        k += 1"
   ]
  },
  {
   "cell_type": "code",
   "execution_count": 7,
   "metadata": {
    "ExecuteTime": {
     "end_time": "2021-08-13T21:13:12.750632Z",
     "start_time": "2021-08-13T21:13:12.739846Z"
    }
   },
   "outputs": [
    {
     "data": {
      "text/plain": [
       "Unnamed: 0      419\n",
       "Sentence #      NaN\n",
       "Word            2.3\n",
       "POS              CD\n",
       "Tag               O\n",
       "newTag        Float\n",
       "Name: 419, dtype: object"
      ]
     },
     "execution_count": 7,
     "metadata": {},
     "output_type": "execute_result"
    }
   ],
   "source": [
    "row"
   ]
  },
  {
   "cell_type": "code",
   "execution_count": 13,
   "metadata": {
    "ExecuteTime": {
     "end_time": "2021-08-13T21:14:37.728601Z",
     "start_time": "2021-08-13T21:14:37.715942Z"
    }
   },
   "outputs": [],
   "source": [
    "df3 = pd.DataFrame(columns=['Unnamed: 0', 'Sentence #', 'Word', 'POS', 'Tag', 'newTag'])"
   ]
  },
  {
   "cell_type": "code",
   "execution_count": null,
   "metadata": {},
   "outputs": [],
   "source": []
  },
  {
   "cell_type": "code",
   "execution_count": 8,
   "metadata": {
    "ExecuteTime": {
     "end_time": "2021-08-13T21:13:25.059033Z",
     "start_time": "2021-08-13T21:13:25.053911Z"
    }
   },
   "outputs": [],
   "source": [
    "words = tokenizer.tokenize(row.Word)"
   ]
  },
  {
   "cell_type": "code",
   "execution_count": 18,
   "metadata": {
    "ExecuteTime": {
     "end_time": "2021-08-13T21:16:10.476619Z",
     "start_time": "2021-08-13T21:16:10.462684Z"
    }
   },
   "outputs": [],
   "source": [
    "df3 = pd.DataFrame(columns=['Unnamed: 0', 'Sentence #', 'Word', 'POS', 'Tag', 'newTag'])\n",
    "k = 0\n",
    "for i, word in enumerate(words):\n",
    "    if i == 0 and pd.isna(row[\"Sentence #\"]):\n",
    "        word = \"Ġ\"+word\n",
    "    if i != 0:\n",
    "        row[\"Sentence #\"] = float(\"nan\")\n",
    "    row.Word = word\n",
    "    \n",
    "    \n",
    "    if row.Word == \".\":\n",
    "        row.newTag = \"fullStop\"\n",
    "    df3.loc[k] = row\n",
    "    k += 1"
   ]
  },
  {
   "cell_type": "code",
   "execution_count": 19,
   "metadata": {
    "ExecuteTime": {
     "end_time": "2021-08-13T21:16:12.647927Z",
     "start_time": "2021-08-13T21:16:12.638290Z"
    }
   },
   "outputs": [
    {
     "data": {
      "text/html": [
       "<div>\n",
       "<style scoped>\n",
       "    .dataframe tbody tr th:only-of-type {\n",
       "        vertical-align: middle;\n",
       "    }\n",
       "\n",
       "    .dataframe tbody tr th {\n",
       "        vertical-align: top;\n",
       "    }\n",
       "\n",
       "    .dataframe thead th {\n",
       "        text-align: right;\n",
       "    }\n",
       "</style>\n",
       "<table border=\"1\" class=\"dataframe\">\n",
       "  <thead>\n",
       "    <tr style=\"text-align: right;\">\n",
       "      <th></th>\n",
       "      <th>Unnamed: 0</th>\n",
       "      <th>Sentence #</th>\n",
       "      <th>Word</th>\n",
       "      <th>POS</th>\n",
       "      <th>Tag</th>\n",
       "      <th>newTag</th>\n",
       "    </tr>\n",
       "  </thead>\n",
       "  <tbody>\n",
       "    <tr>\n",
       "      <th>0</th>\n",
       "      <td>419</td>\n",
       "      <td>NaN</td>\n",
       "      <td>Ġ2</td>\n",
       "      <td>CD</td>\n",
       "      <td>O</td>\n",
       "      <td>Float</td>\n",
       "    </tr>\n",
       "    <tr>\n",
       "      <th>1</th>\n",
       "      <td>419</td>\n",
       "      <td>NaN</td>\n",
       "      <td>.</td>\n",
       "      <td>CD</td>\n",
       "      <td>O</td>\n",
       "      <td>Float</td>\n",
       "    </tr>\n",
       "    <tr>\n",
       "      <th>2</th>\n",
       "      <td>419</td>\n",
       "      <td>NaN</td>\n",
       "      <td>3</td>\n",
       "      <td>CD</td>\n",
       "      <td>O</td>\n",
       "      <td>Float</td>\n",
       "    </tr>\n",
       "  </tbody>\n",
       "</table>\n",
       "</div>"
      ],
      "text/plain": [
       "  Unnamed: 0 Sentence # Word POS Tag newTag\n",
       "0        419        NaN   Ġ2  CD   O  Float\n",
       "1        419        NaN    .  CD   O  Float\n",
       "2        419        NaN    3  CD   O  Float"
      ]
     },
     "execution_count": 19,
     "metadata": {},
     "output_type": "execute_result"
    }
   ],
   "source": [
    "df3"
   ]
  },
  {
   "cell_type": "code",
   "execution_count": 15,
   "metadata": {
    "ExecuteTime": {
     "end_time": "2021-08-13T21:14:58.933348Z",
     "start_time": "2021-08-13T21:14:58.925050Z"
    }
   },
   "outputs": [
    {
     "data": {
      "text/plain": [
       "'3'"
      ]
     },
     "execution_count": 15,
     "metadata": {},
     "output_type": "execute_result"
    }
   ],
   "source": [
    "word"
   ]
  },
  {
   "cell_type": "code",
   "execution_count": null,
   "metadata": {},
   "outputs": [],
   "source": []
  },
  {
   "cell_type": "code",
   "execution_count": null,
   "metadata": {},
   "outputs": [],
   "source": []
  },
  {
   "cell_type": "code",
   "execution_count": 12,
   "metadata": {
    "ExecuteTime": {
     "end_time": "2021-08-13T21:14:05.712598Z",
     "start_time": "2021-08-13T21:14:05.706312Z"
    }
   },
   "outputs": [
    {
     "data": {
      "text/plain": [
       "1"
      ]
     },
     "execution_count": 12,
     "metadata": {},
     "output_type": "execute_result"
    }
   ],
   "source": [
    "words.index(\".\")"
   ]
  },
  {
   "cell_type": "code",
   "execution_count": null,
   "metadata": {},
   "outputs": [],
   "source": []
  },
  {
   "cell_type": "code",
   "execution_count": null,
   "metadata": {
    "ExecuteTime": {
     "start_time": "2021-08-10T21:43:15.702Z"
    }
   },
   "outputs": [],
   "source": [
    "df3[80:120]"
   ]
  },
  {
   "cell_type": "code",
   "execution_count": null,
   "metadata": {},
   "outputs": [],
   "source": []
  },
  {
   "cell_type": "code",
   "execution_count": null,
   "metadata": {
    "ExecuteTime": {
     "start_time": "2021-08-10T21:43:15.704Z"
    }
   },
   "outputs": [],
   "source": [
    "df3.to_csv(\"./NER_multilabel_data_v3.csv\")"
   ]
  },
  {
   "cell_type": "markdown",
   "metadata": {
    "ExecuteTime": {
     "end_time": "2021-08-10T21:01:12.057142Z",
     "start_time": "2021-08-10T21:01:11.862762Z"
    }
   },
   "source": [
    "df3[\"Sentence #\"] = (df3[\"Sentence #\"].apply(lambda x: x if x else float(\"nan\")))"
   ]
  },
  {
   "cell_type": "code",
   "execution_count": null,
   "metadata": {
    "ExecuteTime": {
     "start_time": "2021-08-10T21:47:36.494Z"
    }
   },
   "outputs": [],
   "source": [
    "from telegram_notifier import send_message as telegram_bot_sendtext\n",
    "telegram_bot_sendtext(\"v3已儲存\")"
   ]
  },
  {
   "cell_type": "code",
   "execution_count": null,
   "metadata": {},
   "outputs": [],
   "source": []
  }
 ],
 "metadata": {
  "kernelspec": {
   "display_name": "py37",
   "language": "python",
   "name": "py37"
  },
  "language_info": {
   "codemirror_mode": {
    "name": "ipython",
    "version": 3
   },
   "file_extension": ".py",
   "mimetype": "text/x-python",
   "name": "python",
   "nbconvert_exporter": "python",
   "pygments_lexer": "ipython3",
   "version": "3.7.10"
  }
 },
 "nbformat": 4,
 "nbformat_minor": 4
}
