{
 "cells": [
  {
   "cell_type": "code",
   "execution_count": 1,
   "metadata": {
    "ExecuteTime": {
     "end_time": "2021-07-03T00:10:38.716055Z",
     "start_time": "2021-07-03T00:10:38.114705Z"
    }
   },
   "outputs": [],
   "source": [
    "import numpy as np\n",
    "import pandas as pd"
   ]
  },
  {
   "cell_type": "code",
   "execution_count": 4,
   "metadata": {
    "ExecuteTime": {
     "end_time": "2021-07-03T00:11:24.524331Z",
     "start_time": "2021-07-03T00:11:23.968045Z"
    }
   },
   "outputs": [],
   "source": [
    "df = pd.read_csv(\"../../keras/ner_dataset.csv\")"
   ]
  },
  {
   "cell_type": "code",
   "execution_count": 16,
   "metadata": {
    "ExecuteTime": {
     "end_time": "2021-07-03T00:19:46.031717Z",
     "start_time": "2021-07-03T00:19:44.947808Z"
    },
    "scrolled": true
   },
   "outputs": [],
   "source": [
    "tags = np.unique(df.Tag)"
   ]
  },
  {
   "cell_type": "code",
   "execution_count": 78,
   "metadata": {
    "ExecuteTime": {
     "end_time": "2021-07-03T00:45:05.519271Z",
     "start_time": "2021-07-03T00:45:05.513957Z"
    }
   },
   "outputs": [],
   "source": [
    "import ipywidgets as widgets\n",
    "from IPython.display import clear_output\n",
    "from IPython.display import display"
   ]
  },
  {
   "cell_type": "code",
   "execution_count": 101,
   "metadata": {
    "ExecuteTime": {
     "end_time": "2021-07-03T00:55:19.884979Z",
     "start_time": "2021-07-03T00:55:19.857656Z"
    }
   },
   "outputs": [
    {
     "data": {
      "application/vnd.jupyter.widget-view+json": {
       "model_id": "478029f0a4a0469db90ef6a0bd5fce15",
       "version_major": 2,
       "version_minor": 0
      },
      "text/plain": [
       "Dropdown(description='Task:', index=11, options=('B-art', 'B-eve', 'B-geo', 'B-gpe', 'B-nat', 'B-org', 'B-per'…"
      ]
     },
     "metadata": {},
     "output_type": "display_data"
    },
    {
     "data": {
      "application/vnd.jupyter.widget-view+json": {
       "model_id": "cf4df4fdc25e4237b5f2687931ab3667",
       "version_major": 2,
       "version_minor": 0
      },
      "text/plain": [
       "Button(description='Next', style=ButtonStyle())"
      ]
     },
     "metadata": {},
     "output_type": "display_data"
    },
    {
     "name": "stdout",
     "output_type": "stream",
     "text": [
      "changed to I-gpe\n",
      "Ethiopian forces , which Addis Ababa plans to withdraw . Top\n",
      "         Sentence #       Word  POS    Tag\n",
      "2927            NaN  Ethiopian   JJ  B-gpe\n",
      "2928            NaN     forces  NNS      O\n",
      "2929            NaN          ,    ,      O\n",
      "2930            NaN      which  WDT      O\n",
      "2931            NaN      Addis  NNP  B-gpe\n",
      "2932            NaN      Ababa  NNP  I-gpe\n",
      "2933            NaN      plans  VBZ      O\n",
      "2934            NaN         to   TO      O\n",
      "2935            NaN   withdraw   VB      O\n",
      "2936            NaN          .    .      O\n",
      "2937  Sentence: 132        Top   JJ      O\n"
     ]
    }
   ],
   "source": [
    "w = widgets.Dropdown(\n",
    "    options=tags,\n",
    "    value='O',\n",
    "    description='Task:',\n",
    ")\n",
    "\n",
    "\n",
    "target = \"\"\n",
    "def on_change(change):\n",
    "    if change['type'] == 'change' and change['name'] == 'value':\n",
    "        global target\n",
    "        target = change['new']\n",
    "        show_data()\n",
    "        \n",
    "def show_data(change = None):\n",
    "    clear_output(wait=True)\n",
    "    display(w, button)\n",
    "    target_index = np.random.choice(df[df.Tag == target].index)\n",
    "\n",
    "    print(\"changed to %s\" % target)\n",
    "    target_df = df.loc[target_index - 5 : target_index + 5]\n",
    "    print(\" \".join(list(target_df.Word)))\n",
    "    print(target_df)\n",
    "    \n",
    "w.observe(on_change)\n",
    "\n",
    "button = widgets.Button(description=\"Next\")\n",
    "button.on_click(show_data)\n",
    "\n",
    "output = widgets.Output()\n",
    "\n",
    "display(w, button)"
   ]
  },
  {
   "cell_type": "code",
   "execution_count": null,
   "metadata": {},
   "outputs": [],
   "source": []
  },
  {
   "cell_type": "code",
   "execution_count": null,
   "metadata": {},
   "outputs": [],
   "source": []
  }
 ],
 "metadata": {
  "kernelspec": {
   "display_name": "py37",
   "language": "python",
   "name": "py37"
  },
  "language_info": {
   "codemirror_mode": {
    "name": "ipython",
    "version": 3
   },
   "file_extension": ".py",
   "mimetype": "text/x-python",
   "name": "python",
   "nbconvert_exporter": "python",
   "pygments_lexer": "ipython3",
   "version": "3.7.10"
  }
 },
 "nbformat": 4,
 "nbformat_minor": 4
}
