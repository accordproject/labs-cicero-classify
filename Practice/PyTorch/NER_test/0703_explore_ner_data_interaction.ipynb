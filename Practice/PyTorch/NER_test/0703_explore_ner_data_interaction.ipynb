{
 "cells": [
  {
   "cell_type": "code",
   "execution_count": 2,
   "metadata": {
    "ExecuteTime": {
     "end_time": "2021-07-17T01:01:42.506177Z",
     "start_time": "2021-07-17T01:01:42.110913Z"
    }
   },
   "outputs": [],
   "source": [
    "import numpy as np\n",
    "import pandas as pd"
   ]
  },
  {
   "cell_type": "code",
   "execution_count": 3,
   "metadata": {
    "ExecuteTime": {
     "end_time": "2021-07-17T01:01:43.021465Z",
     "start_time": "2021-07-17T01:01:42.507935Z"
    }
   },
   "outputs": [],
   "source": [
    "df = pd.read_csv(\"../../keras/ner_dataset.csv\")"
   ]
  },
  {
   "cell_type": "code",
   "execution_count": 4,
   "metadata": {
    "ExecuteTime": {
     "end_time": "2021-07-17T01:01:44.120994Z",
     "start_time": "2021-07-17T01:01:43.023118Z"
    },
    "scrolled": true
   },
   "outputs": [],
   "source": [
    "tags = np.unique(df.Tag)"
   ]
  },
  {
   "cell_type": "code",
   "execution_count": 5,
   "metadata": {
    "ExecuteTime": {
     "end_time": "2021-07-17T01:01:44.170000Z",
     "start_time": "2021-07-17T01:01:44.122470Z"
    }
   },
   "outputs": [],
   "source": [
    "import ipywidgets as widgets\n",
    "from IPython.display import clear_output\n",
    "from IPython.display import display"
   ]
  },
  {
   "cell_type": "code",
   "execution_count": 13,
   "metadata": {
    "ExecuteTime": {
     "end_time": "2021-07-17T01:11:25.600971Z",
     "start_time": "2021-07-17T01:11:25.541211Z"
    }
   },
   "outputs": [
    {
     "data": {
      "application/vnd.jupyter.widget-view+json": {
       "model_id": "2fc1f9fb56c3410794f1c6245d026ced",
       "version_major": 2,
       "version_minor": 0
      },
      "text/plain": [
       "Dropdown(description='Task:', index=7, options=('B-art', 'B-eve', 'B-geo', 'B-gpe', 'B-nat', 'B-org', 'B-per',…"
      ]
     },
     "metadata": {},
     "output_type": "display_data"
    },
    {
     "data": {
      "application/vnd.jupyter.widget-view+json": {
       "model_id": "e564f92883d14c5587ea12d8fdb96d2f",
       "version_major": 2,
       "version_minor": 0
      },
      "text/plain": [
       "Button(description='Next', style=ButtonStyle())"
      ]
     },
     "metadata": {},
     "output_type": "display_data"
    },
    {
     "name": "stdout",
     "output_type": "stream",
     "text": [
      "changed to B-tim\n",
      "In his weekly radio address later Saturday , Mr. Bush is\n",
      "             Sentence #      Word   POS    Tag\n",
      "980576  Sentence: 44834        In    IN      O\n",
      "980577              NaN       his  PRP$      O\n",
      "980578              NaN    weekly    JJ      O\n",
      "980579              NaN     radio    NN      O\n",
      "980580              NaN   address    NN      O\n",
      "980581              NaN     later    RB  B-tim\n",
      "980582              NaN  Saturday   NNP  I-tim\n",
      "980583              NaN         ,     ,      O\n",
      "980584              NaN       Mr.   NNP  B-per\n",
      "980585              NaN      Bush   NNP  I-per\n",
      "980586              NaN        is   VBZ      O\n"
     ]
    }
   ],
   "source": [
    "w = widgets.Dropdown(\n",
    "    options=tags,\n",
    "    value='O',\n",
    "    description='Task:',\n",
    ")\n",
    "\n",
    "\n",
    "target = \"\"\n",
    "def on_change(change):\n",
    "    if change['type'] == 'change' and change['name'] == 'value':\n",
    "        global target\n",
    "        target = change['new']\n",
    "        show_data()\n",
    "        \n",
    "def show_data(change = None):\n",
    "    clear_output(wait=True)\n",
    "    display(w, button)\n",
    "    target_index = np.random.choice(df[df.Tag == target].index)\n",
    "\n",
    "    print(\"changed to %s\" % target)\n",
    "    target_df = df.loc[target_index - 5 : target_index + 5]\n",
    "    print(\" \".join(list(target_df.Word)))\n",
    "    print(target_df)\n",
    "    \n",
    "w.observe(on_change)\n",
    "\n",
    "button = widgets.Button(description=\"Next\")\n",
    "button.on_click(show_data)\n",
    "\n",
    "output = widgets.Output()\n",
    "\n",
    "display(w, button)"
   ]
  },
  {
   "cell_type": "code",
   "execution_count": null,
   "metadata": {},
   "outputs": [],
   "source": []
  },
  {
   "cell_type": "code",
   "execution_count": 7,
   "metadata": {
    "ExecuteTime": {
     "end_time": "2021-07-17T01:01:44.209878Z",
     "start_time": "2021-07-17T01:01:44.198411Z"
    }
   },
   "outputs": [
    {
     "data": {
      "application/vnd.jupyter.widget-view+json": {
       "model_id": "a1d74957aefe4802b860c83def66755f",
       "version_major": 2,
       "version_minor": 0
      },
      "text/plain": [
       "Text(value='Hello World', description='String:', placeholder='Type something')"
      ]
     },
     "metadata": {},
     "output_type": "display_data"
    }
   ],
   "source": []
  },
  {
   "cell_type": "code",
   "execution_count": 16,
   "metadata": {
    "ExecuteTime": {
     "end_time": "2021-07-17T02:00:36.411404Z",
     "start_time": "2021-07-17T02:00:36.384545Z"
    }
   },
   "outputs": [
    {
     "data": {
      "application/vnd.jupyter.widget-view+json": {
       "model_id": "ad0e64b737064f38a242fac15aeb2d26",
       "version_major": 2,
       "version_minor": 0
      },
      "text/plain": [
       "Text(value='1.3', description='Text:', placeholder='Word you want to search')"
      ]
     },
     "metadata": {},
     "output_type": "display_data"
    },
    {
     "data": {
      "application/vnd.jupyter.widget-view+json": {
       "model_id": "a44b4ba0ff1f4c5dabe1490d70f54caf",
       "version_major": 2,
       "version_minor": 0
      },
      "text/plain": [
       "Button(description='Next', style=ButtonStyle())"
      ]
     },
     "metadata": {},
     "output_type": "display_data"
    },
    {
     "name": "stdout",
     "output_type": "stream",
     "text": [
      "changed to \n",
      "\n",
      "Empty DataFrame\n",
      "Columns: [Sentence #, Word, POS, Tag]\n",
      "Index: []\n"
     ]
    }
   ],
   "source": [
    "w = widgets.Text(\n",
    "    value='1.3',\n",
    "    placeholder='Word you want to search',\n",
    "    description='Text:',\n",
    "    disabled=False\n",
    ")\n",
    "\n",
    "\n",
    "target = \"\"\n",
    "def on_change(change):\n",
    "    if change['type'] == 'change' and change['name'] == 'value':\n",
    "        global target\n",
    "        target = change['new']\n",
    "        show_data()\n",
    "        \n",
    "def show_data(change = None):\n",
    "    clear_output(wait=True)\n",
    "    display(w, button)\n",
    "    \n",
    "    print(\"changed to %s\" % target)\n",
    "    target_df = df[df[\"Word\"] == target]\n",
    "    print(\" \".join(list(target_df.Word)))\n",
    "    print(target_df)\n",
    "    \n",
    "w.observe(on_change)\n",
    "\n",
    "button = widgets.Button(description=\"Next\")\n",
    "button.on_click(show_data)\n",
    "\n",
    "output = widgets.Output()\n",
    "\n",
    "display(w, button)"
   ]
  },
  {
   "cell_type": "code",
   "execution_count": null,
   "metadata": {},
   "outputs": [],
   "source": []
  }
 ],
 "metadata": {
  "kernelspec": {
   "display_name": "py37",
   "language": "python",
   "name": "py37"
  },
  "language_info": {
   "codemirror_mode": {
    "name": "ipython",
    "version": 3
   },
   "file_extension": ".py",
   "mimetype": "text/x-python",
   "name": "python",
   "nbconvert_exporter": "python",
   "pygments_lexer": "ipython3",
   "version": "3.7.10"
  }
 },
 "nbformat": 4,
 "nbformat_minor": 4
}
