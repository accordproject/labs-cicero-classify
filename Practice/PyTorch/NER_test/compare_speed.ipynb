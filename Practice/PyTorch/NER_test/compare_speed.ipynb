{
 "cells": [
  {
   "cell_type": "markdown",
   "metadata": {},
   "source": [
    "# This code compare speed between `text in [List]` or Regex"
   ]
  },
  {
   "cell_type": "code",
   "execution_count": 1,
   "metadata": {
    "ExecuteTime": {
     "end_time": "2021-07-17T21:59:38.517355Z",
     "start_time": "2021-07-17T21:59:38.510198Z"
    }
   },
   "outputs": [],
   "source": [
    "from label_functions.US_States import US_States"
   ]
  },
  {
   "cell_type": "code",
   "execution_count": 3,
   "metadata": {
    "ExecuteTime": {
     "end_time": "2021-07-17T22:00:18.004304Z",
     "start_time": "2021-07-17T22:00:17.997856Z"
    }
   },
   "outputs": [],
   "source": [
    "import re"
   ]
  },
  {
   "cell_type": "code",
   "execution_count": 56,
   "metadata": {
    "ExecuteTime": {
     "end_time": "2021-07-17T22:05:51.383697Z",
     "start_time": "2021-07-17T22:05:51.090640Z"
    }
   },
   "outputs": [
    {
     "name": "stdout",
     "output_type": "stream",
     "text": [
      "CPU times: user 289 ms, sys: 0 ns, total: 289 ms\n",
      "Wall time: 288 ms\n"
     ]
    }
   ],
   "source": [
    "%%time\n",
    "state_filter = r\"|\".join(US_States)\n",
    "for i in range(100000):\n",
    "    a = bool(re.match(state_filter, \"WA\"))\n",
    "\n",
    "    a = bool(re.match(state_filter, \"Whatever\"))\n"
   ]
  },
  {
   "cell_type": "code",
   "execution_count": 57,
   "metadata": {
    "ExecuteTime": {
     "end_time": "2021-07-17T22:05:52.022775Z",
     "start_time": "2021-07-17T22:05:51.789450Z"
    }
   },
   "outputs": [
    {
     "name": "stdout",
     "output_type": "stream",
     "text": [
      "CPU times: user 229 ms, sys: 0 ns, total: 229 ms\n",
      "Wall time: 228 ms\n"
     ]
    }
   ],
   "source": [
    "%%time\n",
    "for i in range(100000):\n",
    "    a = \"WA\" in US_States\n",
    "    a = \"Whatever\" in US_States"
   ]
  },
  {
   "cell_type": "markdown",
   "metadata": {},
   "source": [
    "# As a result, you can see `text in [List]` go a little fater than regex."
   ]
  },
  {
   "cell_type": "code",
   "execution_count": null,
   "metadata": {},
   "outputs": [],
   "source": []
  }
 ],
 "metadata": {
  "kernelspec": {
   "display_name": "Python 3",
   "language": "python",
   "name": "python3"
  },
  "language_info": {
   "codemirror_mode": {
    "name": "ipython",
    "version": 3
   },
   "file_extension": ".py",
   "mimetype": "text/x-python",
   "name": "python",
   "nbconvert_exporter": "python",
   "pygments_lexer": "ipython3",
   "version": "3.8.3"
  }
 },
 "nbformat": 4,
 "nbformat_minor": 4
}
