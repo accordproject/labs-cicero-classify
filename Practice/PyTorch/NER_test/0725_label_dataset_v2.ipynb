{
 "cells": [
  {
   "cell_type": "code",
   "execution_count": 41,
   "metadata": {
    "ExecuteTime": {
     "end_time": "2021-07-25T22:13:02.677192Z",
     "start_time": "2021-07-25T22:13:02.181500Z"
    }
   },
   "outputs": [],
   "source": [
    "import numpy as np\n",
    "import pandas as pd\n",
    "\n",
    "df = pd.read_csv(\"../../keras/ner_dataset.csv\")"
   ]
  },
  {
   "cell_type": "code",
   "execution_count": 42,
   "metadata": {
    "ExecuteTime": {
     "end_time": "2021-07-25T22:13:04.356437Z",
     "start_time": "2021-07-25T22:13:02.679236Z"
    }
   },
   "outputs": [
    {
     "data": {
      "text/html": [
       "<div>\n",
       "<style scoped>\n",
       "    .dataframe tbody tr th:only-of-type {\n",
       "        vertical-align: middle;\n",
       "    }\n",
       "\n",
       "    .dataframe tbody tr th {\n",
       "        vertical-align: top;\n",
       "    }\n",
       "\n",
       "    .dataframe thead th {\n",
       "        text-align: right;\n",
       "    }\n",
       "</style>\n",
       "<table border=\"1\" class=\"dataframe\">\n",
       "  <thead>\n",
       "    <tr style=\"text-align: right;\">\n",
       "      <th></th>\n",
       "      <th>Sentence #</th>\n",
       "      <th>Word</th>\n",
       "      <th>POS</th>\n",
       "      <th>Tag</th>\n",
       "      <th>newTag</th>\n",
       "    </tr>\n",
       "  </thead>\n",
       "  <tbody>\n",
       "    <tr>\n",
       "      <th>0</th>\n",
       "      <td>Sentence: 1</td>\n",
       "      <td>Thousands</td>\n",
       "      <td>NNS</td>\n",
       "      <td>O</td>\n",
       "      <td>O</td>\n",
       "    </tr>\n",
       "    <tr>\n",
       "      <th>1</th>\n",
       "      <td>NaN</td>\n",
       "      <td>of</td>\n",
       "      <td>IN</td>\n",
       "      <td>O</td>\n",
       "      <td>O</td>\n",
       "    </tr>\n",
       "    <tr>\n",
       "      <th>2</th>\n",
       "      <td>NaN</td>\n",
       "      <td>demonstrators</td>\n",
       "      <td>NNS</td>\n",
       "      <td>O</td>\n",
       "      <td>O</td>\n",
       "    </tr>\n",
       "    <tr>\n",
       "      <th>3</th>\n",
       "      <td>NaN</td>\n",
       "      <td>have</td>\n",
       "      <td>VBP</td>\n",
       "      <td>O</td>\n",
       "      <td>O</td>\n",
       "    </tr>\n",
       "    <tr>\n",
       "      <th>4</th>\n",
       "      <td>NaN</td>\n",
       "      <td>marched</td>\n",
       "      <td>VBN</td>\n",
       "      <td>O</td>\n",
       "      <td>O</td>\n",
       "    </tr>\n",
       "    <tr>\n",
       "      <th>5</th>\n",
       "      <td>NaN</td>\n",
       "      <td>through</td>\n",
       "      <td>IN</td>\n",
       "      <td>O</td>\n",
       "      <td>O</td>\n",
       "    </tr>\n",
       "    <tr>\n",
       "      <th>6</th>\n",
       "      <td>NaN</td>\n",
       "      <td>London</td>\n",
       "      <td>NNP</td>\n",
       "      <td>B-geo</td>\n",
       "      <td>B-geo|Location|Party</td>\n",
       "    </tr>\n",
       "    <tr>\n",
       "      <th>7</th>\n",
       "      <td>NaN</td>\n",
       "      <td>to</td>\n",
       "      <td>TO</td>\n",
       "      <td>O</td>\n",
       "      <td>O</td>\n",
       "    </tr>\n",
       "    <tr>\n",
       "      <th>8</th>\n",
       "      <td>NaN</td>\n",
       "      <td>protest</td>\n",
       "      <td>VB</td>\n",
       "      <td>O</td>\n",
       "      <td>O</td>\n",
       "    </tr>\n",
       "    <tr>\n",
       "      <th>9</th>\n",
       "      <td>NaN</td>\n",
       "      <td>the</td>\n",
       "      <td>DT</td>\n",
       "      <td>O</td>\n",
       "      <td>O</td>\n",
       "    </tr>\n",
       "    <tr>\n",
       "      <th>10</th>\n",
       "      <td>NaN</td>\n",
       "      <td>war</td>\n",
       "      <td>NN</td>\n",
       "      <td>O</td>\n",
       "      <td>O</td>\n",
       "    </tr>\n",
       "    <tr>\n",
       "      <th>11</th>\n",
       "      <td>NaN</td>\n",
       "      <td>in</td>\n",
       "      <td>IN</td>\n",
       "      <td>O</td>\n",
       "      <td>O</td>\n",
       "    </tr>\n",
       "    <tr>\n",
       "      <th>12</th>\n",
       "      <td>NaN</td>\n",
       "      <td>Iraq</td>\n",
       "      <td>NNP</td>\n",
       "      <td>B-geo</td>\n",
       "      <td>B-geo|Location|Party</td>\n",
       "    </tr>\n",
       "    <tr>\n",
       "      <th>13</th>\n",
       "      <td>NaN</td>\n",
       "      <td>and</td>\n",
       "      <td>CC</td>\n",
       "      <td>O</td>\n",
       "      <td>O</td>\n",
       "    </tr>\n",
       "    <tr>\n",
       "      <th>14</th>\n",
       "      <td>NaN</td>\n",
       "      <td>demand</td>\n",
       "      <td>VB</td>\n",
       "      <td>O</td>\n",
       "      <td>O</td>\n",
       "    </tr>\n",
       "    <tr>\n",
       "      <th>15</th>\n",
       "      <td>NaN</td>\n",
       "      <td>the</td>\n",
       "      <td>DT</td>\n",
       "      <td>O</td>\n",
       "      <td>O</td>\n",
       "    </tr>\n",
       "    <tr>\n",
       "      <th>16</th>\n",
       "      <td>NaN</td>\n",
       "      <td>withdrawal</td>\n",
       "      <td>NN</td>\n",
       "      <td>O</td>\n",
       "      <td>O</td>\n",
       "    </tr>\n",
       "    <tr>\n",
       "      <th>17</th>\n",
       "      <td>NaN</td>\n",
       "      <td>of</td>\n",
       "      <td>IN</td>\n",
       "      <td>O</td>\n",
       "      <td>O</td>\n",
       "    </tr>\n",
       "    <tr>\n",
       "      <th>18</th>\n",
       "      <td>NaN</td>\n",
       "      <td>British</td>\n",
       "      <td>JJ</td>\n",
       "      <td>B-gpe</td>\n",
       "      <td>B-gpe|Race</td>\n",
       "    </tr>\n",
       "    <tr>\n",
       "      <th>19</th>\n",
       "      <td>NaN</td>\n",
       "      <td>troops</td>\n",
       "      <td>NNS</td>\n",
       "      <td>O</td>\n",
       "      <td>O</td>\n",
       "    </tr>\n",
       "    <tr>\n",
       "      <th>20</th>\n",
       "      <td>NaN</td>\n",
       "      <td>from</td>\n",
       "      <td>IN</td>\n",
       "      <td>O</td>\n",
       "      <td>O</td>\n",
       "    </tr>\n",
       "    <tr>\n",
       "      <th>21</th>\n",
       "      <td>NaN</td>\n",
       "      <td>that</td>\n",
       "      <td>DT</td>\n",
       "      <td>O</td>\n",
       "      <td>O</td>\n",
       "    </tr>\n",
       "    <tr>\n",
       "      <th>22</th>\n",
       "      <td>NaN</td>\n",
       "      <td>country</td>\n",
       "      <td>NN</td>\n",
       "      <td>O</td>\n",
       "      <td>O</td>\n",
       "    </tr>\n",
       "    <tr>\n",
       "      <th>23</th>\n",
       "      <td>NaN</td>\n",
       "      <td>.</td>\n",
       "      <td>.</td>\n",
       "      <td>O</td>\n",
       "      <td>O</td>\n",
       "    </tr>\n",
       "    <tr>\n",
       "      <th>24</th>\n",
       "      <td>Sentence: 2</td>\n",
       "      <td>Families</td>\n",
       "      <td>NNS</td>\n",
       "      <td>O</td>\n",
       "      <td>O</td>\n",
       "    </tr>\n",
       "    <tr>\n",
       "      <th>25</th>\n",
       "      <td>NaN</td>\n",
       "      <td>of</td>\n",
       "      <td>IN</td>\n",
       "      <td>O</td>\n",
       "      <td>O</td>\n",
       "    </tr>\n",
       "    <tr>\n",
       "      <th>26</th>\n",
       "      <td>NaN</td>\n",
       "      <td>soldiers</td>\n",
       "      <td>NNS</td>\n",
       "      <td>O</td>\n",
       "      <td>O</td>\n",
       "    </tr>\n",
       "    <tr>\n",
       "      <th>27</th>\n",
       "      <td>NaN</td>\n",
       "      <td>killed</td>\n",
       "      <td>VBN</td>\n",
       "      <td>O</td>\n",
       "      <td>O</td>\n",
       "    </tr>\n",
       "    <tr>\n",
       "      <th>28</th>\n",
       "      <td>NaN</td>\n",
       "      <td>in</td>\n",
       "      <td>IN</td>\n",
       "      <td>O</td>\n",
       "      <td>O</td>\n",
       "    </tr>\n",
       "    <tr>\n",
       "      <th>29</th>\n",
       "      <td>NaN</td>\n",
       "      <td>the</td>\n",
       "      <td>DT</td>\n",
       "      <td>O</td>\n",
       "      <td>O</td>\n",
       "    </tr>\n",
       "  </tbody>\n",
       "</table>\n",
       "</div>"
      ],
      "text/plain": [
       "     Sentence #           Word  POS    Tag                newTag\n",
       "0   Sentence: 1      Thousands  NNS      O                     O\n",
       "1           NaN             of   IN      O                     O\n",
       "2           NaN  demonstrators  NNS      O                     O\n",
       "3           NaN           have  VBP      O                     O\n",
       "4           NaN        marched  VBN      O                     O\n",
       "5           NaN        through   IN      O                     O\n",
       "6           NaN         London  NNP  B-geo  B-geo|Location|Party\n",
       "7           NaN             to   TO      O                     O\n",
       "8           NaN        protest   VB      O                     O\n",
       "9           NaN            the   DT      O                     O\n",
       "10          NaN            war   NN      O                     O\n",
       "11          NaN             in   IN      O                     O\n",
       "12          NaN           Iraq  NNP  B-geo  B-geo|Location|Party\n",
       "13          NaN            and   CC      O                     O\n",
       "14          NaN         demand   VB      O                     O\n",
       "15          NaN            the   DT      O                     O\n",
       "16          NaN     withdrawal   NN      O                     O\n",
       "17          NaN             of   IN      O                     O\n",
       "18          NaN        British   JJ  B-gpe            B-gpe|Race\n",
       "19          NaN         troops  NNS      O                     O\n",
       "20          NaN           from   IN      O                     O\n",
       "21          NaN           that   DT      O                     O\n",
       "22          NaN        country   NN      O                     O\n",
       "23          NaN              .    .      O                     O\n",
       "24  Sentence: 2       Families  NNS      O                     O\n",
       "25          NaN             of   IN      O                     O\n",
       "26          NaN       soldiers  NNS      O                     O\n",
       "27          NaN         killed  VBN      O                     O\n",
       "28          NaN             in   IN      O                     O\n",
       "29          NaN            the   DT      O                     O"
      ]
     },
     "execution_count": 42,
     "metadata": {},
     "output_type": "execute_result"
    }
   ],
   "source": [
    "\n",
    "\n",
    "tags = np.unique(df.Tag)\n",
    "\n",
    "tags\n",
    "\n",
    "transform_tag_mapping = {\n",
    "    'B-art': ['Object'],\n",
    "    'B-eve': ['Event'],\n",
    "    'B-geo': ['Location', 'Party'],\n",
    "    'B-gpe': ['Race'],\n",
    "    'B-nat': ['SpecialTerm'],\n",
    "    'B-org': ['Party'],\n",
    "    'B-per': ['Party'],\n",
    "    'B-tim': ['Time'],\n",
    "    'I-art': ['Object'],\n",
    "    'I-eve': ['Event'],\n",
    "    'I-geo': ['Location', 'Party'],\n",
    "    'I-gpe': ['Race', \"Party\"],\n",
    "    'I-nat': ['SpecialTerm'],\n",
    "    'I-org': ['Party'],\n",
    "    'I-per': ['Party'],\n",
    "    'I-tim': ['TemporalUnit'],\n",
    "    'O': [],\n",
    "}\n",
    "\n",
    "def transform_tag(tag):\n",
    "    out = transform_tag_mapping[tag]\n",
    "    out = [tag] + out\n",
    "    out = \"|\".join(out)\n",
    "    return out\n",
    "\n",
    "df[\"newTag\"] = df.Tag.apply(transform_tag)\n",
    "\n",
    "df.head(30)"
   ]
  },
  {
   "cell_type": "code",
   "execution_count": 43,
   "metadata": {
    "ExecuteTime": {
     "end_time": "2021-07-25T22:13:04.361598Z",
     "start_time": "2021-07-25T22:13:04.358303Z"
    }
   },
   "outputs": [],
   "source": [
    "from label_functions.basicTypes import is_Float, is_Integer\n",
    "from label_functions.CountryCode import is_CountryCode\n",
    "from label_functions.CryptoCurrencyCode import is_CryptoCurrencyCode\n",
    "from label_functions.CurrencyCode import is_CurrencyCode\n",
    "from label_functions.TemporalUnit import is_TemporalUnit\n",
    "from label_functions.Timezone import is_TimeZone\n",
    "from label_functions.US_States import is_US_States"
   ]
  },
  {
   "cell_type": "code",
   "execution_count": 44,
   "metadata": {
    "ExecuteTime": {
     "end_time": "2021-07-25T22:13:04.366693Z",
     "start_time": "2021-07-25T22:13:04.363094Z"
    }
   },
   "outputs": [],
   "source": [
    "text = \"usd\""
   ]
  },
  {
   "cell_type": "code",
   "execution_count": 45,
   "metadata": {
    "ExecuteTime": {
     "end_time": "2021-07-25T22:13:04.372800Z",
     "start_time": "2021-07-25T22:13:04.368133Z"
    }
   },
   "outputs": [
    {
     "data": {
      "text/plain": [
       "True"
      ]
     },
     "execution_count": 45,
     "metadata": {},
     "output_type": "execute_result"
    }
   ],
   "source": [
    "is_CurrencyCode(text)"
   ]
  },
  {
   "cell_type": "code",
   "execution_count": 46,
   "metadata": {
    "ExecuteTime": {
     "end_time": "2021-07-25T22:13:04.378512Z",
     "start_time": "2021-07-25T22:13:04.374418Z"
    }
   },
   "outputs": [],
   "source": [
    "class label_function:\n",
    "    def __init__(self, function, tags = [], seperator = \"|\"):\n",
    "        self.label_function = function\n",
    "        self.tags = seperator.join(tags)\n",
    "        self.seperator = seperator\n",
    "    def label(self, text, origin_label):\n",
    "        if self.label_function(text):\n",
    "            return f\"{origin_label}{self.seperator}{self.tags}\"\n",
    "        else:\n",
    "            return origin_label"
   ]
  },
  {
   "cell_type": "code",
   "execution_count": 47,
   "metadata": {
    "ExecuteTime": {
     "end_time": "2021-07-25T22:13:04.383871Z",
     "start_time": "2021-07-25T22:13:04.380378Z"
    }
   },
   "outputs": [],
   "source": [
    "labels = [\n",
    "    [is_Float, [\"Float\"]],\n",
    "    [is_Integer, [\"Integer\"]],\n",
    "    [is_CountryCode, [\"CountryCode\"]],\n",
    "    [is_CryptoCurrencyCode, [\"CryptoCurrencyCode\"]],\n",
    "    [is_CurrencyCode, [\"CurrencyCode\"]],\n",
    "    [is_TemporalUnit, [\"TemporalUnit\"]],\n",
    "    [is_TimeZone, [\"Timezone\"]],\n",
    "    [is_US_States, [\"US_States\"]],\n",
    "]"
   ]
  },
  {
   "cell_type": "code",
   "execution_count": 48,
   "metadata": {
    "ExecuteTime": {
     "end_time": "2021-07-25T22:13:04.388093Z",
     "start_time": "2021-07-25T22:13:04.385318Z"
    }
   },
   "outputs": [],
   "source": [
    "label_functions = []\n",
    "for label in labels:\n",
    "    label_functions.append(label_function(label[0], label[1]))"
   ]
  },
  {
   "cell_type": "code",
   "execution_count": 49,
   "metadata": {
    "ExecuteTime": {
     "end_time": "2021-07-25T22:13:04.548747Z",
     "start_time": "2021-07-25T22:13:04.538977Z"
    }
   },
   "outputs": [],
   "source": [
    "def label_with_functions(row):\n",
    "    for function in label_functions:\n",
    "        row[\"newTag\"] = function.label(row.Word, row.newTag)\n",
    "    return row"
   ]
  },
  {
   "cell_type": "code",
   "execution_count": 50,
   "metadata": {
    "ExecuteTime": {
     "end_time": "2021-07-25T22:13:07.144250Z",
     "start_time": "2021-07-25T22:13:07.141067Z"
    }
   },
   "outputs": [],
   "source": [
    "import swifter"
   ]
  },
  {
   "cell_type": "code",
   "execution_count": 51,
   "metadata": {
    "ExecuteTime": {
     "end_time": "2021-07-25T22:15:31.547772Z",
     "start_time": "2021-07-25T22:13:07.330793Z"
    }
   },
   "outputs": [
    {
     "data": {
      "application/vnd.jupyter.widget-view+json": {
       "model_id": "d4ff288eb6194c7fb3963b07d5d6bc1e",
       "version_major": 2,
       "version_minor": 0
      },
      "text/plain": [
       "Dask Apply:   0%|          | 0/16 [00:00<?, ?it/s]"
      ]
     },
     "metadata": {},
     "output_type": "display_data"
    },
    {
     "name": "stdout",
     "output_type": "stream",
     "text": [
      "CPU times: user 13.1 s, sys: 264 ms, total: 13.4 s\n",
      "Wall time: 2min 24s\n"
     ]
    }
   ],
   "source": [
    "%%time\n",
    "df2 = df.swifter.apply(label_with_functions, axis = 1)"
   ]
  },
  {
   "cell_type": "code",
   "execution_count": 81,
   "metadata": {
    "ExecuteTime": {
     "end_time": "2021-07-25T22:24:31.089919Z",
     "start_time": "2021-07-25T22:24:30.738579Z"
    }
   },
   "outputs": [],
   "source": [
    "#remove O if it have other value\n",
    "df2.newTag = df2.newTag.apply(lambda x: x[2:] if \"O|\" == x[0:2] else x)"
   ]
  },
  {
   "cell_type": "code",
   "execution_count": 83,
   "metadata": {
    "ExecuteTime": {
     "end_time": "2021-07-25T22:24:44.817908Z",
     "start_time": "2021-07-25T22:24:43.620986Z"
    }
   },
   "outputs": [
    {
     "data": {
      "text/plain": [
       "array(['B-art|Object', 'B-art|Object|CountryCode', 'B-art|Object|Integer',\n",
       "       'B-eve|Event', 'B-eve|Event|CurrencyCode', 'B-eve|Event|Integer',\n",
       "       'B-geo|Location|Party', 'B-geo|Location|Party|CountryCode',\n",
       "       'B-geo|Location|Party|CountryCode|Timezone',\n",
       "       'B-geo|Location|Party|CurrencyCode', 'B-geo|Location|Party|Float',\n",
       "       'B-geo|Location|Party|Timezone', 'B-geo|Location|Party|US_States',\n",
       "       'B-gpe|Race', 'B-gpe|Race|CountryCode', 'B-gpe|Race|Timezone',\n",
       "       'B-nat|SpecialTerm', 'B-nat|SpecialTerm|CurrencyCode',\n",
       "       'B-nat|SpecialTerm|Integer', 'B-org|Party',\n",
       "       'B-org|Party|CountryCode', 'B-org|Party|CountryCode|US_States',\n",
       "       'B-org|Party|CryptoCurrencyCode', 'B-org|Party|CurrencyCode',\n",
       "       'B-org|Party|Float', 'B-org|Party|Integer', 'B-org|Party|Timezone',\n",
       "       'B-org|Party|US_States', 'B-per|Party',\n",
       "       'B-per|Party|CountryCode|US_States', 'B-per|Party|CurrencyCode',\n",
       "       'B-per|Party|Integer', 'B-per|Party|TemporalUnit',\n",
       "       'B-per|Party|Timezone', 'B-tim|Time', 'B-tim|Time|CurrencyCode',\n",
       "       'B-tim|Time|Float', 'B-tim|Time|Integer',\n",
       "       'B-tim|Time|TemporalUnit', 'B-tim|Time|Timezone', 'CountryCode',\n",
       "       'CountryCode|US_States', 'CryptoCurrencyCode', 'CurrencyCode',\n",
       "       'Float', 'I-art|Object', 'I-art|Object|Float',\n",
       "       'I-art|Object|Integer', 'I-eve|Event', 'I-eve|Event|CurrencyCode',\n",
       "       'I-geo|Location|Party', 'I-geo|Location|Party|CountryCode',\n",
       "       'I-geo|Location|Party|CurrencyCode',\n",
       "       'I-geo|Location|Party|Integer', 'I-geo|Location|Party|Timezone',\n",
       "       'I-gpe|Race|Party', 'I-nat|SpecialTerm', 'I-org|Party',\n",
       "       'I-org|Party|CountryCode', 'I-org|Party|CurrencyCode',\n",
       "       'I-org|Party|Integer', 'I-org|Party|Timezone', 'I-per|Party',\n",
       "       'I-per|Party|CountryCode', 'I-per|Party|CountryCode|US_States',\n",
       "       'I-per|Party|CurrencyCode', 'I-per|Party|Timezone',\n",
       "       'I-tim|TemporalUnit', 'I-tim|TemporalUnit|CurrencyCode',\n",
       "       'I-tim|TemporalUnit|Float', 'I-tim|TemporalUnit|Integer',\n",
       "       'I-tim|TemporalUnit|TemporalUnit', 'I-tim|TemporalUnit|Timezone',\n",
       "       'Integer', 'O', 'TemporalUnit', 'Timezone', 'US_States'],\n",
       "      dtype=object)"
      ]
     },
     "execution_count": 83,
     "metadata": {},
     "output_type": "execute_result"
    }
   ],
   "source": [
    "np.unique(df2.newTag)"
   ]
  },
  {
   "cell_type": "code",
   "execution_count": 84,
   "metadata": {
    "ExecuteTime": {
     "end_time": "2021-07-25T22:24:57.610655Z",
     "start_time": "2021-07-25T22:24:54.676733Z"
    }
   },
   "outputs": [],
   "source": [
    "df2.to_csv(\"./NER_multilabel_data_v2\")"
   ]
  },
  {
   "cell_type": "code",
   "execution_count": null,
   "metadata": {},
   "outputs": [],
   "source": []
  }
 ],
 "metadata": {
  "kernelspec": {
   "display_name": "py37",
   "language": "python",
   "name": "py37"
  },
  "language_info": {
   "codemirror_mode": {
    "name": "ipython",
    "version": 3
   },
   "file_extension": ".py",
   "mimetype": "text/x-python",
   "name": "python",
   "nbconvert_exporter": "python",
   "pygments_lexer": "ipython3",
   "version": "3.7.10"
  }
 },
 "nbformat": 4,
 "nbformat_minor": 4
}
