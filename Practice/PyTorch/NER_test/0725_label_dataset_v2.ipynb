{
 "cells": [
  {
   "cell_type": "code",
   "execution_count": 5,
   "metadata": {
    "ExecuteTime": {
     "end_time": "2021-07-29T00:31:44.008358Z",
     "start_time": "2021-07-29T00:31:43.727133Z"
    }
   },
   "outputs": [],
   "source": [
    "import numpy as np\n",
    "import pandas as pd\n",
    "\n",
    "df = pd.read_csv(\"../../keras/CONLL_dataset.csv\")"
   ]
  },
  {
   "cell_type": "code",
   "execution_count": 7,
   "metadata": {
    "ExecuteTime": {
     "end_time": "2021-07-29T00:31:50.680350Z",
     "start_time": "2021-07-29T00:31:49.769125Z"
    }
   },
   "outputs": [
    {
     "data": {
      "text/html": [
       "<div>\n",
       "<style scoped>\n",
       "    .dataframe tbody tr th:only-of-type {\n",
       "        vertical-align: middle;\n",
       "    }\n",
       "\n",
       "    .dataframe tbody tr th {\n",
       "        vertical-align: top;\n",
       "    }\n",
       "\n",
       "    .dataframe thead th {\n",
       "        text-align: right;\n",
       "    }\n",
       "</style>\n",
       "<table border=\"1\" class=\"dataframe\">\n",
       "  <thead>\n",
       "    <tr style=\"text-align: right;\">\n",
       "      <th></th>\n",
       "      <th>Sentence #</th>\n",
       "      <th>Word</th>\n",
       "      <th>POS</th>\n",
       "      <th>Tag</th>\n",
       "      <th>newTag</th>\n",
       "    </tr>\n",
       "  </thead>\n",
       "  <tbody>\n",
       "    <tr>\n",
       "      <th>0</th>\n",
       "      <td>Sentence: 1</td>\n",
       "      <td>Thousands</td>\n",
       "      <td>NNS</td>\n",
       "      <td>O</td>\n",
       "      <td>O</td>\n",
       "    </tr>\n",
       "    <tr>\n",
       "      <th>1</th>\n",
       "      <td>NaN</td>\n",
       "      <td>of</td>\n",
       "      <td>IN</td>\n",
       "      <td>O</td>\n",
       "      <td>O</td>\n",
       "    </tr>\n",
       "    <tr>\n",
       "      <th>2</th>\n",
       "      <td>NaN</td>\n",
       "      <td>demonstrators</td>\n",
       "      <td>NNS</td>\n",
       "      <td>O</td>\n",
       "      <td>O</td>\n",
       "    </tr>\n",
       "    <tr>\n",
       "      <th>3</th>\n",
       "      <td>NaN</td>\n",
       "      <td>have</td>\n",
       "      <td>VBP</td>\n",
       "      <td>O</td>\n",
       "      <td>O</td>\n",
       "    </tr>\n",
       "    <tr>\n",
       "      <th>4</th>\n",
       "      <td>NaN</td>\n",
       "      <td>marched</td>\n",
       "      <td>VBN</td>\n",
       "      <td>O</td>\n",
       "      <td>O</td>\n",
       "    </tr>\n",
       "    <tr>\n",
       "      <th>5</th>\n",
       "      <td>NaN</td>\n",
       "      <td>through</td>\n",
       "      <td>IN</td>\n",
       "      <td>O</td>\n",
       "      <td>O</td>\n",
       "    </tr>\n",
       "    <tr>\n",
       "      <th>6</th>\n",
       "      <td>NaN</td>\n",
       "      <td>London</td>\n",
       "      <td>NNP</td>\n",
       "      <td>B-geo</td>\n",
       "      <td>B-geo|Location|Party</td>\n",
       "    </tr>\n",
       "    <tr>\n",
       "      <th>7</th>\n",
       "      <td>NaN</td>\n",
       "      <td>to</td>\n",
       "      <td>TO</td>\n",
       "      <td>O</td>\n",
       "      <td>O</td>\n",
       "    </tr>\n",
       "    <tr>\n",
       "      <th>8</th>\n",
       "      <td>NaN</td>\n",
       "      <td>protest</td>\n",
       "      <td>VB</td>\n",
       "      <td>O</td>\n",
       "      <td>O</td>\n",
       "    </tr>\n",
       "    <tr>\n",
       "      <th>9</th>\n",
       "      <td>NaN</td>\n",
       "      <td>the</td>\n",
       "      <td>DT</td>\n",
       "      <td>O</td>\n",
       "      <td>O</td>\n",
       "    </tr>\n",
       "    <tr>\n",
       "      <th>10</th>\n",
       "      <td>NaN</td>\n",
       "      <td>war</td>\n",
       "      <td>NN</td>\n",
       "      <td>O</td>\n",
       "      <td>O</td>\n",
       "    </tr>\n",
       "    <tr>\n",
       "      <th>11</th>\n",
       "      <td>NaN</td>\n",
       "      <td>in</td>\n",
       "      <td>IN</td>\n",
       "      <td>O</td>\n",
       "      <td>O</td>\n",
       "    </tr>\n",
       "    <tr>\n",
       "      <th>12</th>\n",
       "      <td>NaN</td>\n",
       "      <td>Iraq</td>\n",
       "      <td>NNP</td>\n",
       "      <td>B-geo</td>\n",
       "      <td>B-geo|Location|Party</td>\n",
       "    </tr>\n",
       "    <tr>\n",
       "      <th>13</th>\n",
       "      <td>NaN</td>\n",
       "      <td>and</td>\n",
       "      <td>CC</td>\n",
       "      <td>O</td>\n",
       "      <td>O</td>\n",
       "    </tr>\n",
       "    <tr>\n",
       "      <th>14</th>\n",
       "      <td>NaN</td>\n",
       "      <td>demand</td>\n",
       "      <td>VB</td>\n",
       "      <td>O</td>\n",
       "      <td>O</td>\n",
       "    </tr>\n",
       "    <tr>\n",
       "      <th>15</th>\n",
       "      <td>NaN</td>\n",
       "      <td>the</td>\n",
       "      <td>DT</td>\n",
       "      <td>O</td>\n",
       "      <td>O</td>\n",
       "    </tr>\n",
       "    <tr>\n",
       "      <th>16</th>\n",
       "      <td>NaN</td>\n",
       "      <td>withdrawal</td>\n",
       "      <td>NN</td>\n",
       "      <td>O</td>\n",
       "      <td>O</td>\n",
       "    </tr>\n",
       "    <tr>\n",
       "      <th>17</th>\n",
       "      <td>NaN</td>\n",
       "      <td>of</td>\n",
       "      <td>IN</td>\n",
       "      <td>O</td>\n",
       "      <td>O</td>\n",
       "    </tr>\n",
       "    <tr>\n",
       "      <th>18</th>\n",
       "      <td>NaN</td>\n",
       "      <td>British</td>\n",
       "      <td>JJ</td>\n",
       "      <td>B-gpe</td>\n",
       "      <td>B-gpe|Race</td>\n",
       "    </tr>\n",
       "    <tr>\n",
       "      <th>19</th>\n",
       "      <td>NaN</td>\n",
       "      <td>troops</td>\n",
       "      <td>NNS</td>\n",
       "      <td>O</td>\n",
       "      <td>O</td>\n",
       "    </tr>\n",
       "    <tr>\n",
       "      <th>20</th>\n",
       "      <td>NaN</td>\n",
       "      <td>from</td>\n",
       "      <td>IN</td>\n",
       "      <td>O</td>\n",
       "      <td>O</td>\n",
       "    </tr>\n",
       "    <tr>\n",
       "      <th>21</th>\n",
       "      <td>NaN</td>\n",
       "      <td>that</td>\n",
       "      <td>DT</td>\n",
       "      <td>O</td>\n",
       "      <td>O</td>\n",
       "    </tr>\n",
       "    <tr>\n",
       "      <th>22</th>\n",
       "      <td>NaN</td>\n",
       "      <td>country</td>\n",
       "      <td>NN</td>\n",
       "      <td>O</td>\n",
       "      <td>O</td>\n",
       "    </tr>\n",
       "    <tr>\n",
       "      <th>23</th>\n",
       "      <td>NaN</td>\n",
       "      <td>.</td>\n",
       "      <td>.</td>\n",
       "      <td>O</td>\n",
       "      <td>O</td>\n",
       "    </tr>\n",
       "    <tr>\n",
       "      <th>24</th>\n",
       "      <td>Sentence: 2</td>\n",
       "      <td>Families</td>\n",
       "      <td>NNS</td>\n",
       "      <td>O</td>\n",
       "      <td>O</td>\n",
       "    </tr>\n",
       "    <tr>\n",
       "      <th>25</th>\n",
       "      <td>NaN</td>\n",
       "      <td>of</td>\n",
       "      <td>IN</td>\n",
       "      <td>O</td>\n",
       "      <td>O</td>\n",
       "    </tr>\n",
       "    <tr>\n",
       "      <th>26</th>\n",
       "      <td>NaN</td>\n",
       "      <td>soldiers</td>\n",
       "      <td>NNS</td>\n",
       "      <td>O</td>\n",
       "      <td>O</td>\n",
       "    </tr>\n",
       "    <tr>\n",
       "      <th>27</th>\n",
       "      <td>NaN</td>\n",
       "      <td>killed</td>\n",
       "      <td>VBN</td>\n",
       "      <td>O</td>\n",
       "      <td>O</td>\n",
       "    </tr>\n",
       "    <tr>\n",
       "      <th>28</th>\n",
       "      <td>NaN</td>\n",
       "      <td>in</td>\n",
       "      <td>IN</td>\n",
       "      <td>O</td>\n",
       "      <td>O</td>\n",
       "    </tr>\n",
       "    <tr>\n",
       "      <th>29</th>\n",
       "      <td>NaN</td>\n",
       "      <td>the</td>\n",
       "      <td>DT</td>\n",
       "      <td>O</td>\n",
       "      <td>O</td>\n",
       "    </tr>\n",
       "  </tbody>\n",
       "</table>\n",
       "</div>"
      ],
      "text/plain": [
       "     Sentence #           Word  POS    Tag                newTag\n",
       "0   Sentence: 1      Thousands  NNS      O                     O\n",
       "1           NaN             of   IN      O                     O\n",
       "2           NaN  demonstrators  NNS      O                     O\n",
       "3           NaN           have  VBP      O                     O\n",
       "4           NaN        marched  VBN      O                     O\n",
       "5           NaN        through   IN      O                     O\n",
       "6           NaN         London  NNP  B-geo  B-geo|Location|Party\n",
       "7           NaN             to   TO      O                     O\n",
       "8           NaN        protest   VB      O                     O\n",
       "9           NaN            the   DT      O                     O\n",
       "10          NaN            war   NN      O                     O\n",
       "11          NaN             in   IN      O                     O\n",
       "12          NaN           Iraq  NNP  B-geo  B-geo|Location|Party\n",
       "13          NaN            and   CC      O                     O\n",
       "14          NaN         demand   VB      O                     O\n",
       "15          NaN            the   DT      O                     O\n",
       "16          NaN     withdrawal   NN      O                     O\n",
       "17          NaN             of   IN      O                     O\n",
       "18          NaN        British   JJ  B-gpe            B-gpe|Race\n",
       "19          NaN         troops  NNS      O                     O\n",
       "20          NaN           from   IN      O                     O\n",
       "21          NaN           that   DT      O                     O\n",
       "22          NaN        country   NN      O                     O\n",
       "23          NaN              .    .      O                     O\n",
       "24  Sentence: 2       Families  NNS      O                     O\n",
       "25          NaN             of   IN      O                     O\n",
       "26          NaN       soldiers  NNS      O                     O\n",
       "27          NaN         killed  VBN      O                     O\n",
       "28          NaN             in   IN      O                     O\n",
       "29          NaN            the   DT      O                     O"
      ]
     },
     "execution_count": 7,
     "metadata": {},
     "output_type": "execute_result"
    }
   ],
   "source": [
    "\n",
    "\n",
    "tags = np.unique(df.Tag)\n",
    "\n",
    "tags\n",
    "\n",
    "transform_tag_mapping = {\n",
    "    'B-art': ['Object'],\n",
    "    'B-eve': ['Event'],\n",
    "    'B-geo': ['Location', 'Party'],\n",
    "    'B-gpe': ['Race'],\n",
    "    'B-nat': ['SpecialTerm'],\n",
    "    'B-org': ['Party'],\n",
    "    'B-per': ['Party'],\n",
    "    'B-tim': ['Time'],\n",
    "    'I-art': ['Object'],\n",
    "    'I-eve': ['Event'],\n",
    "    'I-geo': ['Location', 'Party'],\n",
    "    'I-gpe': ['Race', \"Party\"],\n",
    "    'I-nat': ['SpecialTerm'],\n",
    "    'I-org': ['Party'],\n",
    "    'I-per': ['Party'],\n",
    "    'I-tim': ['TemporalUnit'],\n",
    "    'O': [],\n",
    "}\n",
    "\n",
    "def transform_tag(tag):\n",
    "    out = transform_tag_mapping[tag]\n",
    "    out = [tag] + out\n",
    "    out = \"|\".join(out)\n",
    "    return out\n",
    "\n",
    "df[\"newTag\"] = df.Tag.apply(transform_tag)\n",
    "\n",
    "df.head(30)"
   ]
  },
  {
   "cell_type": "code",
   "execution_count": 8,
   "metadata": {
    "ExecuteTime": {
     "end_time": "2021-07-29T00:31:54.596574Z",
     "start_time": "2021-07-29T00:31:54.583919Z"
    }
   },
   "outputs": [],
   "source": [
    "from label_functions.basicTypes import is_Float, is_Integer\n",
    "from label_functions.CountryCode import is_CountryCode\n",
    "from label_functions.CryptoCurrencyCode import is_CryptoCurrencyCode\n",
    "from label_functions.CurrencyCode import is_CurrencyCode\n",
    "from label_functions.TemporalUnit import is_TemporalUnit\n",
    "from label_functions.Timezone import is_TimeZone\n",
    "from label_functions.US_States import is_US_States\n",
    "from label_functions.isMonth import isMonth"
   ]
  },
  {
   "cell_type": "code",
   "execution_count": 9,
   "metadata": {
    "ExecuteTime": {
     "end_time": "2021-07-29T00:31:55.039659Z",
     "start_time": "2021-07-29T00:31:55.033302Z"
    }
   },
   "outputs": [],
   "source": [
    "text = \"usd\""
   ]
  },
  {
   "cell_type": "code",
   "execution_count": 10,
   "metadata": {
    "ExecuteTime": {
     "end_time": "2021-07-29T00:31:55.264010Z",
     "start_time": "2021-07-29T00:31:55.257743Z"
    }
   },
   "outputs": [
    {
     "data": {
      "text/plain": [
       "True"
      ]
     },
     "execution_count": 10,
     "metadata": {},
     "output_type": "execute_result"
    }
   ],
   "source": [
    "is_CurrencyCode(text)"
   ]
  },
  {
   "cell_type": "code",
   "execution_count": 11,
   "metadata": {
    "ExecuteTime": {
     "end_time": "2021-07-29T00:32:00.406098Z",
     "start_time": "2021-07-29T00:32:00.402654Z"
    }
   },
   "outputs": [],
   "source": [
    "class label_function:\n",
    "    def __init__(self, function, tags = [], seperator = \"|\"):\n",
    "        self.label_function = function\n",
    "        self.tags = seperator.join(tags)\n",
    "        self.seperator = seperator\n",
    "    def label(self, text, origin_label):\n",
    "        if self.label_function(text):\n",
    "            return f\"{origin_label}{self.seperator}{self.tags}\"\n",
    "        else:\n",
    "            return origin_label"
   ]
  },
  {
   "cell_type": "code",
   "execution_count": 12,
   "metadata": {
    "ExecuteTime": {
     "end_time": "2021-07-29T00:32:08.253940Z",
     "start_time": "2021-07-29T00:32:08.247789Z"
    }
   },
   "outputs": [],
   "source": [
    "labels = [\n",
    "    [is_Float, [\"Float\"]],\n",
    "    [is_Integer, [\"Integer\"]],\n",
    "    [is_CountryCode, [\"CountryCode\"]],\n",
    "    [is_CryptoCurrencyCode, [\"CryptoCurrencyCode\"]],\n",
    "    [is_CurrencyCode, [\"CurrencyCode\"]],\n",
    "    [is_TemporalUnit, [\"TemporalUnit\"]],\n",
    "    [is_TimeZone, [\"Timezone\"]],\n",
    "    [is_US_States, [\"US_States\"]],\n",
    "    [isMonth, ['TemporalUnit', 'Month']]\n",
    "]"
   ]
  },
  {
   "cell_type": "code",
   "execution_count": 13,
   "metadata": {
    "ExecuteTime": {
     "end_time": "2021-07-29T00:32:08.645436Z",
     "start_time": "2021-07-29T00:32:08.640118Z"
    }
   },
   "outputs": [],
   "source": [
    "label_functions = []\n",
    "for label in labels:\n",
    "    label_functions.append(label_function(label[0], label[1]))"
   ]
  },
  {
   "cell_type": "code",
   "execution_count": 14,
   "metadata": {
    "ExecuteTime": {
     "end_time": "2021-07-29T00:32:10.492544Z",
     "start_time": "2021-07-29T00:32:10.486823Z"
    }
   },
   "outputs": [],
   "source": [
    "def label_with_functions(row):\n",
    "    for function in label_functions:\n",
    "        row[\"newTag\"] = function.label(row.Word, row.newTag)\n",
    "    return row"
   ]
  },
  {
   "cell_type": "code",
   "execution_count": 16,
   "metadata": {
    "ExecuteTime": {
     "end_time": "2021-07-29T00:32:36.773261Z",
     "start_time": "2021-07-29T00:32:36.359977Z"
    }
   },
   "outputs": [],
   "source": [
    "import swifter"
   ]
  },
  {
   "cell_type": "code",
   "execution_count": 17,
   "metadata": {
    "ExecuteTime": {
     "end_time": "2021-07-29T00:34:17.014745Z",
     "start_time": "2021-07-29T00:32:37.282401Z"
    }
   },
   "outputs": [
    {
     "data": {
      "application/vnd.jupyter.widget-view+json": {
       "model_id": "e438dba26c364e84ab31a792a390080d",
       "version_major": 2,
       "version_minor": 0
      },
      "text/plain": [
       "Dask Apply:   0%|          | 0/16 [00:00<?, ?it/s]"
      ]
     },
     "metadata": {},
     "output_type": "display_data"
    },
    {
     "name": "stdout",
     "output_type": "stream",
     "text": [
      "CPU times: user 7.15 s, sys: 159 ms, total: 7.31 s\n",
      "Wall time: 1min 39s\n"
     ]
    }
   ],
   "source": [
    "%%time\n",
    "df2 = df.swifter.apply(label_with_functions, axis = 1)"
   ]
  },
  {
   "cell_type": "code",
   "execution_count": 18,
   "metadata": {
    "ExecuteTime": {
     "end_time": "2021-07-29T00:34:17.173031Z",
     "start_time": "2021-07-29T00:34:17.016346Z"
    }
   },
   "outputs": [],
   "source": [
    "#remove O if it have other value\n",
    "df2.newTag = df2.newTag.apply(lambda x: x[2:] if \"O|\" == x[0:2] else x)"
   ]
  },
  {
   "cell_type": "code",
   "execution_count": 23,
   "metadata": {
    "ExecuteTime": {
     "end_time": "2021-07-29T03:43:57.491166Z",
     "start_time": "2021-07-29T03:43:57.483739Z"
    }
   },
   "outputs": [],
   "source": [
    "def remove_repeat_tag(text):\n",
    "    return \"|\".join(list(set(text.split(\"|\"))))"
   ]
  },
  {
   "cell_type": "code",
   "execution_count": 24,
   "metadata": {
    "ExecuteTime": {
     "end_time": "2021-07-29T03:44:28.060228Z",
     "start_time": "2021-07-29T03:44:26.625683Z"
    }
   },
   "outputs": [
    {
     "data": {
      "application/vnd.jupyter.widget-view+json": {
       "model_id": "9e596821e66243af85c3a38c5d4f4540",
       "version_major": 2,
       "version_minor": 0
      },
      "text/plain": [
       "Pandas Apply:   0%|          | 0/1048575 [00:00<?, ?it/s]"
      ]
     },
     "metadata": {},
     "output_type": "display_data"
    }
   ],
   "source": [
    "df2.newTag = df2.newTag.swifter.apply(remove_repeat_tag)"
   ]
  },
  {
   "cell_type": "code",
   "execution_count": 25,
   "metadata": {
    "ExecuteTime": {
     "end_time": "2021-07-29T03:44:36.443005Z",
     "start_time": "2021-07-29T03:44:35.832669Z"
    }
   },
   "outputs": [
    {
     "data": {
      "text/plain": [
       "array(['B-art|CountryCode|Object', 'B-art|Integer|Object', 'B-art|Object',\n",
       "       'B-eve|CurrencyCode|Event', 'B-eve|Event', 'B-eve|Integer|Event',\n",
       "       'B-eve|TemporalUnit|Month|Event',\n",
       "       'B-geo|Location|CountryCode|Party', 'B-geo|Location|Party',\n",
       "       'B-geo|Location|Party|CurrencyCode', 'B-geo|Location|Party|Float',\n",
       "       'B-geo|Location|Party|US_States', 'B-geo|Location|Timezone|Party',\n",
       "       'B-org|CountryCode|Party', 'B-org|CountryCode|Party|US_States',\n",
       "       'B-org|CryptoCurrencyCode|Party', 'B-org|Party',\n",
       "       'B-org|Party|CurrencyCode', 'B-org|Party|Float',\n",
       "       'B-org|Party|Integer', 'B-org|Party|US_States',\n",
       "       'B-org|Timezone|Party', 'B-tim|CurrencyCode|Time',\n",
       "       'B-tim|Float|Time', 'B-tim|Integer|Time',\n",
       "       'B-tim|TemporalUnit|Month|Time', 'B-tim|TemporalUnit|Time',\n",
       "       'B-tim|Time', 'B-tim|Timezone|Time', 'CountryCode',\n",
       "       'CountryCode|I-org|Party', 'CountryCode|I-per|Party',\n",
       "       'CountryCode|US_States', 'CryptoCurrencyCode', 'CurrencyCode',\n",
       "       'CurrencyCode|I-eve|Event', 'CurrencyCode|I-org|Party',\n",
       "       'CurrencyCode|I-per|Party', 'CurrencyCode|Location|I-geo|Party',\n",
       "       'CurrencyCode|Party|B-per', 'Float', 'I-art|Float|Object',\n",
       "       'I-art|Integer|Object', 'I-art|Object', 'I-eve|Event',\n",
       "       'I-gpe|Race|Party', 'I-org|Integer|Party', 'I-org|Party',\n",
       "       'I-per|Party', 'Integer', 'Location|CountryCode|I-geo|Party',\n",
       "       'Location|CountryCode|Timezone|B-geo|Party',\n",
       "       'Location|I-geo|Integer|Party', 'Location|I-geo|Party',\n",
       "       'Location|Month|I-geo|TemporalUnit|Party',\n",
       "       'Location|Timezone|I-geo|Party', 'Month|TemporalUnit|Party|B-per',\n",
       "       'O', 'Party|B-per', 'Party|Integer|B-per', 'Race|B-gpe',\n",
       "       'Race|CountryCode|B-gpe', 'Race|Timezone|B-gpe',\n",
       "       'SpecialTerm|B-nat', 'SpecialTerm|CurrencyCode|B-nat',\n",
       "       'SpecialTerm|I-nat', 'SpecialTerm|Integer|B-nat', 'TemporalUnit',\n",
       "       'TemporalUnit|CurrencyCode|I-tim', 'TemporalUnit|I-tim',\n",
       "       'TemporalUnit|I-tim|Float', 'TemporalUnit|I-tim|Integer',\n",
       "       'TemporalUnit|Month', 'TemporalUnit|Month|I-tim',\n",
       "       'TemporalUnit|Party|B-per', 'Timezone', 'Timezone|I-org|Party',\n",
       "       'Timezone|I-per|Party', 'Timezone|Party|B-per',\n",
       "       'Timezone|TemporalUnit|I-tim', 'US_States',\n",
       "       'US_States|CountryCode|I-per|Party',\n",
       "       'US_States|CountryCode|Party|B-per'], dtype=object)"
      ]
     },
     "execution_count": 25,
     "metadata": {},
     "output_type": "execute_result"
    }
   ],
   "source": [
    "np.unique(df2.newTag)"
   ]
  },
  {
   "cell_type": "code",
   "execution_count": null,
   "metadata": {},
   "outputs": [],
   "source": []
  },
  {
   "cell_type": "code",
   "execution_count": 26,
   "metadata": {
    "ExecuteTime": {
     "end_time": "2021-07-29T03:44:51.605134Z",
     "start_time": "2021-07-29T03:44:50.021316Z"
    }
   },
   "outputs": [],
   "source": [
    "df2.to_csv(\"./NER_multilabel_data_v2.csv\")"
   ]
  },
  {
   "cell_type": "code",
   "execution_count": null,
   "metadata": {},
   "outputs": [],
   "source": []
  }
 ],
 "metadata": {
  "kernelspec": {
   "display_name": "py37",
   "language": "python",
   "name": "py37"
  },
  "language_info": {
   "codemirror_mode": {
    "name": "ipython",
    "version": 3
   },
   "file_extension": ".py",
   "mimetype": "text/x-python",
   "name": "python",
   "nbconvert_exporter": "python",
   "pygments_lexer": "ipython3",
   "version": "3.7.10"
  }
 },
 "nbformat": 4,
 "nbformat_minor": 4
}
