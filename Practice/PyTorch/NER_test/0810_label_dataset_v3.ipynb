{
 "cells": [
  {
   "cell_type": "code",
   "execution_count": 1,
   "metadata": {
    "ExecuteTime": {
     "end_time": "2021-08-10T21:44:26.316985Z",
     "start_time": "2021-08-10T21:44:26.064293Z"
    }
   },
   "outputs": [],
   "source": [
    "import pandas as pd\n",
    "from tqdm import tqdm"
   ]
  },
  {
   "cell_type": "code",
   "execution_count": 2,
   "metadata": {
    "ExecuteTime": {
     "end_time": "2021-08-10T21:44:39.714565Z",
     "start_time": "2021-08-10T21:44:26.318558Z"
    }
   },
   "outputs": [
    {
     "name": "stderr",
     "output_type": "stream",
     "text": [
      "2021-08-11 05:44:27.037807: I tensorflow/stream_executor/platform/default/dso_loader.cc:53] Successfully opened dynamic library libcudart.so.11.0\n"
     ]
    }
   ],
   "source": [
    "from transformers import RobertaTokenizer\n",
    "\n",
    "tokenizer = RobertaTokenizer.from_pretrained(\"roberta-base\")"
   ]
  },
  {
   "cell_type": "code",
   "execution_count": 3,
   "metadata": {
    "ExecuteTime": {
     "end_time": "2021-08-10T21:44:40.093433Z",
     "start_time": "2021-08-10T21:44:39.716137Z"
    }
   },
   "outputs": [],
   "source": [
    "df2 = pd.read_csv(\"./NER_multilabel_data_v2.csv\")"
   ]
  },
  {
   "cell_type": "code",
   "execution_count": null,
   "metadata": {
    "ExecuteTime": {
     "start_time": "2021-08-10T21:43:15.700Z"
    }
   },
   "outputs": [
    {
     "name": "stderr",
     "output_type": "stream",
     "text": [
      "  4%|█▏                              | 40616/1048575 [04:07<2:46:36, 100.83it/s]"
     ]
    }
   ],
   "source": [
    "k = 0\n",
    "df3 = pd.DataFrame(columns=['Unnamed: 0', 'Sentence #', 'Word', 'POS', 'Tag', 'newTag'])\n",
    "for _, row in tqdm(df2.iterrows(), total=df2.shape[0]):\n",
    "    words = tokenizer.tokenize(row.Word)\n",
    "    for i, word in enumerate(words):\n",
    "        if i == 0 and pd.isna(row[\"Sentence #\"]):\n",
    "            word = \"Ġ\"+word\n",
    "        if i != 0:\n",
    "            row[\"Sentence #\"] = float(\"nan\")\n",
    "        row.Word = word\n",
    "        #df3 = df3.append(row)\n",
    "        df3.loc[k] = row\n",
    "        k += 1"
   ]
  },
  {
   "cell_type": "code",
   "execution_count": null,
   "metadata": {
    "ExecuteTime": {
     "start_time": "2021-08-10T21:43:15.702Z"
    }
   },
   "outputs": [],
   "source": [
    "df3[80:120]"
   ]
  },
  {
   "cell_type": "code",
   "execution_count": null,
   "metadata": {},
   "outputs": [],
   "source": []
  },
  {
   "cell_type": "code",
   "execution_count": null,
   "metadata": {
    "ExecuteTime": {
     "start_time": "2021-08-10T21:43:15.704Z"
    }
   },
   "outputs": [],
   "source": [
    "df3.to_csv(\"./NER_multilabel_data_v3.csv\")"
   ]
  },
  {
   "cell_type": "markdown",
   "metadata": {
    "ExecuteTime": {
     "end_time": "2021-08-10T21:01:12.057142Z",
     "start_time": "2021-08-10T21:01:11.862762Z"
    }
   },
   "source": [
    "df3[\"Sentence #\"] = (df3[\"Sentence #\"].apply(lambda x: x if x else float(\"nan\")))"
   ]
  },
  {
   "cell_type": "code",
   "execution_count": null,
   "metadata": {
    "ExecuteTime": {
     "start_time": "2021-08-10T21:47:36.494Z"
    }
   },
   "outputs": [],
   "source": [
    "from telegram_notifier import send_message as telegram_bot_sendtext\n",
    "telegram_bot_sendtext(\"v3已儲存\")"
   ]
  },
  {
   "cell_type": "code",
   "execution_count": null,
   "metadata": {},
   "outputs": [],
   "source": []
  }
 ],
 "metadata": {
  "kernelspec": {
   "display_name": "py37",
   "language": "python",
   "name": "py37"
  },
  "language_info": {
   "codemirror_mode": {
    "name": "ipython",
    "version": 3
   },
   "file_extension": ".py",
   "mimetype": "text/x-python",
   "name": "python",
   "nbconvert_exporter": "python",
   "pygments_lexer": "ipython3",
   "version": "3.7.10"
  }
 },
 "nbformat": 4,
 "nbformat_minor": 4
}
