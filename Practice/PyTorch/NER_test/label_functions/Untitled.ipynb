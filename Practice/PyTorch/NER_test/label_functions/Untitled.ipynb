{
 "cells": [
  {
   "cell_type": "code",
   "execution_count": 5,
   "metadata": {
    "ExecuteTime": {
     "end_time": "2021-07-17T02:17:57.973965Z",
     "start_time": "2021-07-17T02:17:57.969361Z"
    }
   },
   "outputs": [],
   "source": [
    "text = \"\"\"  o ADA\n",
    "  o BCH\n",
    "  o BTC\n",
    "  o DASH\n",
    "  o EOS\n",
    "  o ETC\n",
    "  o ETH\n",
    "  o LTC\n",
    "  o NEO\n",
    "  o XLM\n",
    "  o XMR\n",
    "  o XRP\n",
    "  o ZEC\"\"\""
   ]
  },
  {
   "cell_type": "code",
   "execution_count": 7,
   "metadata": {
    "ExecuteTime": {
     "end_time": "2021-07-17T02:18:04.154920Z",
     "start_time": "2021-07-17T02:18:04.150120Z"
    }
   },
   "outputs": [
    {
     "data": {
      "text/plain": [
       "['ADA',\n",
       " 'BCH',\n",
       " 'BTC',\n",
       " 'DASH',\n",
       " 'EOS',\n",
       " 'ETC',\n",
       " 'ETH',\n",
       " 'LTC',\n",
       " 'NEO',\n",
       " 'XLM',\n",
       " 'XMR',\n",
       " 'XRP',\n",
       " 'ZEC']"
      ]
     },
     "execution_count": 7,
     "metadata": {},
     "output_type": "execute_result"
    }
   ],
   "source": [
    "text.replace(\"  o \", \"\").split(\"\\n\")"
   ]
  },
  {
   "cell_type": "code",
   "execution_count": null,
   "metadata": {},
   "outputs": [],
   "source": []
  },
  {
   "cell_type": "code",
   "execution_count": null,
   "metadata": {},
   "outputs": [],
   "source": []
  }
 ],
 "metadata": {
  "kernelspec": {
   "display_name": "Python 3",
   "language": "python",
   "name": "python3"
  },
  "language_info": {
   "codemirror_mode": {
    "name": "ipython",
    "version": 3
   },
   "file_extension": ".py",
   "mimetype": "text/x-python",
   "name": "python",
   "nbconvert_exporter": "python",
   "pygments_lexer": "ipython3",
   "version": "3.8.3"
  }
 },
 "nbformat": 4,
 "nbformat_minor": 4
}
