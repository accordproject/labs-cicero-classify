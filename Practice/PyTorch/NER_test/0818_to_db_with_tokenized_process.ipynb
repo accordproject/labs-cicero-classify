{
 "cells": [
  {
   "cell_type": "markdown",
   "metadata": {},
   "source": [
    "## This ipynb show how to transfer the CONLL NER dataset to the backend's DB."
   ]
  },
  {
   "cell_type": "code",
   "execution_count": 2,
   "metadata": {
    "ExecuteTime": {
     "end_time": "2021-08-17T22:40:03.543857Z",
     "start_time": "2021-08-17T22:40:03.255691Z"
    }
   },
   "outputs": [],
   "source": [
    "import pandas as pd"
   ]
  },
  {
   "cell_type": "code",
   "execution_count": 55,
   "metadata": {
    "ExecuteTime": {
     "end_time": "2021-08-17T22:46:53.649909Z",
     "start_time": "2021-08-17T22:46:53.273696Z"
    }
   },
   "outputs": [],
   "source": [
    "df = pd.read_csv(\"./NER_multilabel_data_v2.csv\")"
   ]
  },
  {
   "cell_type": "code",
   "execution_count": 118,
   "metadata": {
    "ExecuteTime": {
     "end_time": "2021-08-18T00:28:23.396071Z",
     "start_time": "2021-08-18T00:28:23.388343Z"
    }
   },
   "outputs": [
    {
     "data": {
      "text/html": [
       "<div>\n",
       "<style scoped>\n",
       "    .dataframe tbody tr th:only-of-type {\n",
       "        vertical-align: middle;\n",
       "    }\n",
       "\n",
       "    .dataframe tbody tr th {\n",
       "        vertical-align: top;\n",
       "    }\n",
       "\n",
       "    .dataframe thead th {\n",
       "        text-align: right;\n",
       "    }\n",
       "</style>\n",
       "<table border=\"1\" class=\"dataframe\">\n",
       "  <thead>\n",
       "    <tr style=\"text-align: right;\">\n",
       "      <th></th>\n",
       "      <th>Unnamed: 0</th>\n",
       "      <th>Sentence #</th>\n",
       "      <th>Word</th>\n",
       "      <th>POS</th>\n",
       "      <th>Tag</th>\n",
       "      <th>newTag</th>\n",
       "    </tr>\n",
       "  </thead>\n",
       "  <tbody>\n",
       "    <tr>\n",
       "      <th>90</th>\n",
       "      <td>90</td>\n",
       "      <td>Sentence: 5</td>\n",
       "      <td>the</td>\n",
       "      <td>DT</td>\n",
       "      <td>O</td>\n",
       "      <td>O</td>\n",
       "    </tr>\n",
       "    <tr>\n",
       "      <th>91</th>\n",
       "      <td>91</td>\n",
       "      <td>Sentence: 5</td>\n",
       "      <td>annual</td>\n",
       "      <td>JJ</td>\n",
       "      <td>O</td>\n",
       "      <td>O</td>\n",
       "    </tr>\n",
       "    <tr>\n",
       "      <th>92</th>\n",
       "      <td>92</td>\n",
       "      <td>Sentence: 5</td>\n",
       "      <td>conference</td>\n",
       "      <td>NN</td>\n",
       "      <td>O</td>\n",
       "      <td>O</td>\n",
       "    </tr>\n",
       "    <tr>\n",
       "      <th>93</th>\n",
       "      <td>93</td>\n",
       "      <td>Sentence: 5</td>\n",
       "      <td>of</td>\n",
       "      <td>IN</td>\n",
       "      <td>O</td>\n",
       "      <td>O</td>\n",
       "    </tr>\n",
       "    <tr>\n",
       "      <th>94</th>\n",
       "      <td>94</td>\n",
       "      <td>Sentence: 5</td>\n",
       "      <td>Britain</td>\n",
       "      <td>NNP</td>\n",
       "      <td>B-geo</td>\n",
       "      <td>Location|Party|B-geo</td>\n",
       "    </tr>\n",
       "    <tr>\n",
       "      <th>95</th>\n",
       "      <td>95</td>\n",
       "      <td>Sentence: 5</td>\n",
       "      <td>'s</td>\n",
       "      <td>POS</td>\n",
       "      <td>O</td>\n",
       "      <td>O</td>\n",
       "    </tr>\n",
       "    <tr>\n",
       "      <th>96</th>\n",
       "      <td>96</td>\n",
       "      <td>Sentence: 5</td>\n",
       "      <td>ruling</td>\n",
       "      <td>VBG</td>\n",
       "      <td>O</td>\n",
       "      <td>O</td>\n",
       "    </tr>\n",
       "    <tr>\n",
       "      <th>97</th>\n",
       "      <td>97</td>\n",
       "      <td>Sentence: 5</td>\n",
       "      <td>Labor</td>\n",
       "      <td>NNP</td>\n",
       "      <td>B-org</td>\n",
       "      <td>Party|B-org</td>\n",
       "    </tr>\n",
       "    <tr>\n",
       "      <th>98</th>\n",
       "      <td>98</td>\n",
       "      <td>Sentence: 5</td>\n",
       "      <td>Party</td>\n",
       "      <td>NNP</td>\n",
       "      <td>I-org</td>\n",
       "      <td>Party|I-org</td>\n",
       "    </tr>\n",
       "    <tr>\n",
       "      <th>99</th>\n",
       "      <td>99</td>\n",
       "      <td>Sentence: 5</td>\n",
       "      <td>in</td>\n",
       "      <td>IN</td>\n",
       "      <td>O</td>\n",
       "      <td>O</td>\n",
       "    </tr>\n",
       "  </tbody>\n",
       "</table>\n",
       "</div>"
      ],
      "text/plain": [
       "    Unnamed: 0   Sentence #        Word  POS    Tag                newTag\n",
       "90          90  Sentence: 5         the   DT      O                     O\n",
       "91          91  Sentence: 5      annual   JJ      O                     O\n",
       "92          92  Sentence: 5  conference   NN      O                     O\n",
       "93          93  Sentence: 5          of   IN      O                     O\n",
       "94          94  Sentence: 5     Britain  NNP  B-geo  Location|Party|B-geo\n",
       "95          95  Sentence: 5          's  POS      O                     O\n",
       "96          96  Sentence: 5      ruling  VBG      O                     O\n",
       "97          97  Sentence: 5       Labor  NNP  B-org           Party|B-org\n",
       "98          98  Sentence: 5       Party  NNP  I-org           Party|I-org\n",
       "99          99  Sentence: 5          in   IN      O                     O"
      ]
     },
     "execution_count": 118,
     "metadata": {},
     "output_type": "execute_result"
    }
   ],
   "source": [
    "df[90:100]"
   ]
  },
  {
   "cell_type": "code",
   "execution_count": 57,
   "metadata": {
    "ExecuteTime": {
     "end_time": "2021-08-17T22:46:57.780640Z",
     "start_time": "2021-08-17T22:46:57.727673Z"
    }
   },
   "outputs": [],
   "source": [
    "df.loc[:, \"Sentence #\"] = df[\"Sentence #\"].fillna(method=\"ffill\")"
   ]
  },
  {
   "cell_type": "code",
   "execution_count": 5,
   "metadata": {
    "ExecuteTime": {
     "end_time": "2021-08-17T22:40:04.688291Z",
     "start_time": "2021-08-17T22:40:04.681586Z"
    }
   },
   "outputs": [],
   "source": [
    "import numpy as np"
   ]
  },
  {
   "cell_type": "code",
   "execution_count": 10,
   "metadata": {
    "ExecuteTime": {
     "end_time": "2021-08-17T22:40:24.491602Z",
     "start_time": "2021-08-17T22:40:24.422493Z"
    }
   },
   "outputs": [],
   "source": [
    "sentences = list(set(df[\"Sentence #\"]))"
   ]
  },
  {
   "cell_type": "code",
   "execution_count": 11,
   "metadata": {
    "ExecuteTime": {
     "end_time": "2021-08-17T22:40:24.700329Z",
     "start_time": "2021-08-17T22:40:24.693509Z"
    }
   },
   "outputs": [],
   "source": [
    "import requests"
   ]
  },
  {
   "cell_type": "code",
   "execution_count": 13,
   "metadata": {
    "ExecuteTime": {
     "end_time": "2021-08-17T22:40:25.827813Z",
     "start_time": "2021-08-17T22:40:25.740184Z"
    }
   },
   "outputs": [],
   "source": [
    "words = df[df[\"Sentence #\"] == sentence]"
   ]
  },
  {
   "cell_type": "code",
   "execution_count": 14,
   "metadata": {
    "ExecuteTime": {
     "end_time": "2021-08-17T22:40:27.339548Z",
     "start_time": "2021-08-17T22:40:27.331243Z"
    }
   },
   "outputs": [],
   "source": [
    "def process_data(row):\n",
    "    return {\n",
    "        \"text\": row.Word,\n",
    "        \"labels\": row.newTag.split(\"|\")\n",
    "    }"
   ]
  },
  {
   "cell_type": "code",
   "execution_count": 113,
   "metadata": {
    "ExecuteTime": {
     "end_time": "2021-08-17T23:08:31.611660Z",
     "start_time": "2021-08-17T23:08:31.600848Z"
    }
   },
   "outputs": [],
   "source": [
    "def post_data(sentence):\n",
    "    data = {\n",
    "        \"user\": \"CONLL_0818@admin\",\n",
    "        \"texts\": list(df[df[\"Sentence #\"] == sentence].apply(process_data, axis = 1))\n",
    "    }\n",
    "    headers = {\n",
    "        'accept': 'application/json',\n",
    "        'Content-Type': 'application/json'\n",
    "    }\n",
    "    return requests.post(\"http://localhost:13537/data/label\", data=json.dumps(data), headers = headers)"
   ]
  },
  {
   "cell_type": "code",
   "execution_count": 115,
   "metadata": {
    "ExecuteTime": {
     "end_time": "2021-08-17T23:48:20.029347Z",
     "start_time": "2021-08-17T23:08:47.906557Z"
    }
   },
   "outputs": [
    {
     "name": "stderr",
     "output_type": "stream",
     "text": [
      "100%|███████████████████████████████| 47959/47959 [39:32<00:00, 20.22it/s]\n",
      "100%|███████████████████████████| 47959/47959 [00:00<00:00, 529359.85it/s]\n"
     ]
    }
   ],
   "source": [
    "import json\n",
    "from tqdm import tqdm\n",
    "import threading\n",
    "tasks = []\n",
    "for sentence in tqdm(sentences):\n",
    "    t = threading.Thread(target=post_data, args={sentence})\n",
    "    t.start()\n",
    "    tasks.append(t)\n",
    "for task in tqdm(tasks):\n",
    "    task.join()"
   ]
  },
  {
   "cell_type": "code",
   "execution_count": null,
   "metadata": {},
   "outputs": [],
   "source": []
  },
  {
   "cell_type": "code",
   "execution_count": null,
   "metadata": {},
   "outputs": [],
   "source": []
  },
  {
   "cell_type": "code",
   "execution_count": null,
   "metadata": {},
   "outputs": [],
   "source": []
  },
  {
   "cell_type": "code",
   "execution_count": null,
   "metadata": {},
   "outputs": [],
   "source": []
  }
 ],
 "metadata": {
  "kernelspec": {
   "display_name": "adapter",
   "language": "python",
   "name": "adapter"
  },
  "language_info": {
   "codemirror_mode": {
    "name": "ipython",
    "version": 3
   },
   "file_extension": ".py",
   "mimetype": "text/x-python",
   "name": "python",
   "nbconvert_exporter": "python",
   "pygments_lexer": "ipython3",
   "version": "3.7.10"
  }
 },
 "nbformat": 4,
 "nbformat_minor": 4
}
