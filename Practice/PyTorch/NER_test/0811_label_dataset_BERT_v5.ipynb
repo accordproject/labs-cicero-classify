{
 "cells": [
  {
   "cell_type": "code",
   "execution_count": 1,
   "metadata": {
    "ExecuteTime": {
     "end_time": "2021-08-10T21:47:55.033694Z",
     "start_time": "2021-08-10T21:47:54.754645Z"
    }
   },
   "outputs": [],
   "source": [
    "import pandas as pd\n",
    "from tqdm import tqdm"
   ]
  },
  {
   "cell_type": "code",
   "execution_count": 2,
   "metadata": {
    "ExecuteTime": {
     "end_time": "2021-08-10T21:48:08.432229Z",
     "start_time": "2021-08-10T21:47:55.035553Z"
    }
   },
   "outputs": [
    {
     "name": "stderr",
     "output_type": "stream",
     "text": [
      "2021-08-11 05:47:55.959815: I tensorflow/stream_executor/platform/default/dso_loader.cc:53] Successfully opened dynamic library libcudart.so.11.0\n"
     ]
    }
   ],
   "source": [
    "from transformers import BertTokenizer\n",
    "\n",
    "tokenizer = BertTokenizer.from_pretrained(\"bert-base-cased\")"
   ]
  },
  {
   "cell_type": "code",
   "execution_count": 3,
   "metadata": {
    "ExecuteTime": {
     "end_time": "2021-08-10T21:48:08.442820Z",
     "start_time": "2021-08-10T21:48:08.433729Z"
    }
   },
   "outputs": [
    {
     "data": {
      "text/plain": [
       "['E', '##as', '##on', 'Good']"
      ]
     },
     "execution_count": 3,
     "metadata": {},
     "output_type": "execute_result"
    }
   ],
   "source": [
    "tokenizer.convert_ids_to_tokens(tokenizer.convert_tokens_to_ids(tokenizer.tokenize(\"Eason Good\")))"
   ]
  },
  {
   "cell_type": "code",
   "execution_count": 4,
   "metadata": {
    "ExecuteTime": {
     "end_time": "2021-08-10T21:48:08.872767Z",
     "start_time": "2021-08-10T21:48:08.444653Z"
    }
   },
   "outputs": [],
   "source": [
    "df2 = pd.read_csv(\"./NER_multilabel_data_v2.csv\")"
   ]
  },
  {
   "cell_type": "code",
   "execution_count": null,
   "metadata": {
    "ExecuteTime": {
     "start_time": "2021-08-10T21:46:44.396Z"
    }
   },
   "outputs": [
    {
     "name": "stderr",
     "output_type": "stream",
     "text": [
      "  0%|▏                                | 5201/1048575 [00:19<1:08:37, 253.41it/s]"
     ]
    }
   ],
   "source": [
    "k = 0\n",
    "df5 = pd.DataFrame(columns=['Unnamed: 0', 'Sentence #', 'Word', 'POS', 'Tag', 'newTag', 'tags_v5'])\n",
    "for _, row in tqdm(df2.iterrows(), total=df2.shape[0]):\n",
    "    words = tokenizer.tokenize(row.Word)\n",
    "    for i, word in enumerate(words):\n",
    "        if row.newTag != \"O\":\n",
    "            if i == 0 and \"I-\" not in row.newTag:\n",
    "                tags = row.newTag.split(\"|\")\n",
    "\n",
    "                tags = list(map(lambda x: f\"B-{x}\" if x[1] != \"-\" else x, tags))\n",
    "\n",
    "                row[\"tags_v5\"] = \"|\".join(tags)\n",
    "            else:\n",
    "                tags = row.newTag.split(\"|\")\n",
    "\n",
    "                tags = list(map(lambda x: f\"I-{x}\" if x[1] != \"-\" else x, tags))\n",
    "\n",
    "                row[\"tags_v5\"] = \"|\".join(tags)\n",
    "        else:\n",
    "            row[\"tags_v5\"] = row.newTag\n",
    "        if i == 0 and pd.isna(row[\"Sentence #\"]):\n",
    "            #word = \"Ġ\"+word\n",
    "            pass\n",
    "        if i != 0:\n",
    "            row[\"Sentence #\"] = float(\"nan\")\n",
    "        row.Word = word\n",
    "        #df5 = df5.append(row)\n",
    "        df5.loc[k] = row\n",
    "        k += 1"
   ]
  },
  {
   "cell_type": "code",
   "execution_count": null,
   "metadata": {
    "ExecuteTime": {
     "start_time": "2021-08-10T21:46:44.397Z"
    }
   },
   "outputs": [],
   "source": [
    "df5.to_csv(\"./NER_multilabel_data_v5.csv\")"
   ]
  },
  {
   "cell_type": "markdown",
   "metadata": {
    "ExecuteTime": {
     "end_time": "2021-08-10T21:01:12.057142Z",
     "start_time": "2021-08-10T21:01:11.862762Z"
    }
   },
   "source": [
    "df3[\"Sentence #\"] = (df3[\"Sentence #\"].apply(lambda x: x if x else float(\"nan\")))"
   ]
  },
  {
   "cell_type": "code",
   "execution_count": null,
   "metadata": {
    "ExecuteTime": {
     "start_time": "2021-08-10T21:46:44.399Z"
    }
   },
   "outputs": [],
   "source": [
    "from telegram_notifier import send_message as telegram_bot_sendtext\n",
    "telegram_bot_sendtext(\"v5已儲存\")"
   ]
  },
  {
   "cell_type": "code",
   "execution_count": null,
   "metadata": {},
   "outputs": [],
   "source": []
  }
 ],
 "metadata": {
  "kernelspec": {
   "display_name": "py37",
   "language": "python",
   "name": "py37"
  },
  "language_info": {
   "codemirror_mode": {
    "name": "ipython",
    "version": 3
   },
   "file_extension": ".py",
   "mimetype": "text/x-python",
   "name": "python",
   "nbconvert_exporter": "python",
   "pygments_lexer": "ipython3",
   "version": "3.7.10"
  }
 },
 "nbformat": 4,
 "nbformat_minor": 4
}
