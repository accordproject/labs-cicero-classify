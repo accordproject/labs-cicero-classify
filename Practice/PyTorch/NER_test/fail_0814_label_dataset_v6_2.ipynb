{
 "cells": [
  {
   "cell_type": "code",
   "execution_count": 1,
   "metadata": {
    "ExecuteTime": {
     "end_time": "2021-08-13T21:18:50.246580Z",
     "start_time": "2021-08-13T21:18:49.726472Z"
    }
   },
   "outputs": [],
   "source": [
    "import numpy as np\n",
    "import pandas as pd\n",
    "\n",
    "df = pd.read_csv(\"../../keras/CONLL_dataset.csv\")"
   ]
  },
  {
   "cell_type": "code",
   "execution_count": 2,
   "metadata": {
    "ExecuteTime": {
     "end_time": "2021-08-13T21:18:51.080173Z",
     "start_time": "2021-08-13T21:18:50.247944Z"
    },
    "scrolled": true
   },
   "outputs": [
    {
     "data": {
      "text/html": [
       "<div>\n",
       "<style scoped>\n",
       "    .dataframe tbody tr th:only-of-type {\n",
       "        vertical-align: middle;\n",
       "    }\n",
       "\n",
       "    .dataframe tbody tr th {\n",
       "        vertical-align: top;\n",
       "    }\n",
       "\n",
       "    .dataframe thead th {\n",
       "        text-align: right;\n",
       "    }\n",
       "</style>\n",
       "<table border=\"1\" class=\"dataframe\">\n",
       "  <thead>\n",
       "    <tr style=\"text-align: right;\">\n",
       "      <th></th>\n",
       "      <th>Sentence #</th>\n",
       "      <th>Word</th>\n",
       "      <th>POS</th>\n",
       "      <th>Tag</th>\n",
       "      <th>newTag</th>\n",
       "    </tr>\n",
       "  </thead>\n",
       "  <tbody>\n",
       "    <tr>\n",
       "      <th>0</th>\n",
       "      <td>Sentence: 1</td>\n",
       "      <td>Thousands</td>\n",
       "      <td>NNS</td>\n",
       "      <td>O</td>\n",
       "      <td>O</td>\n",
       "    </tr>\n",
       "    <tr>\n",
       "      <th>1</th>\n",
       "      <td>NaN</td>\n",
       "      <td>of</td>\n",
       "      <td>IN</td>\n",
       "      <td>O</td>\n",
       "      <td>O</td>\n",
       "    </tr>\n",
       "    <tr>\n",
       "      <th>2</th>\n",
       "      <td>NaN</td>\n",
       "      <td>demonstrators</td>\n",
       "      <td>NNS</td>\n",
       "      <td>O</td>\n",
       "      <td>O</td>\n",
       "    </tr>\n",
       "    <tr>\n",
       "      <th>3</th>\n",
       "      <td>NaN</td>\n",
       "      <td>have</td>\n",
       "      <td>VBP</td>\n",
       "      <td>O</td>\n",
       "      <td>O</td>\n",
       "    </tr>\n",
       "    <tr>\n",
       "      <th>4</th>\n",
       "      <td>NaN</td>\n",
       "      <td>marched</td>\n",
       "      <td>VBN</td>\n",
       "      <td>O</td>\n",
       "      <td>O</td>\n",
       "    </tr>\n",
       "    <tr>\n",
       "      <th>5</th>\n",
       "      <td>NaN</td>\n",
       "      <td>through</td>\n",
       "      <td>IN</td>\n",
       "      <td>O</td>\n",
       "      <td>O</td>\n",
       "    </tr>\n",
       "    <tr>\n",
       "      <th>6</th>\n",
       "      <td>NaN</td>\n",
       "      <td>London</td>\n",
       "      <td>NNP</td>\n",
       "      <td>B-geo</td>\n",
       "      <td>B-geo|Location|Party</td>\n",
       "    </tr>\n",
       "    <tr>\n",
       "      <th>7</th>\n",
       "      <td>NaN</td>\n",
       "      <td>to</td>\n",
       "      <td>TO</td>\n",
       "      <td>O</td>\n",
       "      <td>O</td>\n",
       "    </tr>\n",
       "    <tr>\n",
       "      <th>8</th>\n",
       "      <td>NaN</td>\n",
       "      <td>protest</td>\n",
       "      <td>VB</td>\n",
       "      <td>O</td>\n",
       "      <td>O</td>\n",
       "    </tr>\n",
       "    <tr>\n",
       "      <th>9</th>\n",
       "      <td>NaN</td>\n",
       "      <td>the</td>\n",
       "      <td>DT</td>\n",
       "      <td>O</td>\n",
       "      <td>O</td>\n",
       "    </tr>\n",
       "    <tr>\n",
       "      <th>10</th>\n",
       "      <td>NaN</td>\n",
       "      <td>war</td>\n",
       "      <td>NN</td>\n",
       "      <td>O</td>\n",
       "      <td>O</td>\n",
       "    </tr>\n",
       "    <tr>\n",
       "      <th>11</th>\n",
       "      <td>NaN</td>\n",
       "      <td>in</td>\n",
       "      <td>IN</td>\n",
       "      <td>O</td>\n",
       "      <td>O</td>\n",
       "    </tr>\n",
       "    <tr>\n",
       "      <th>12</th>\n",
       "      <td>NaN</td>\n",
       "      <td>Iraq</td>\n",
       "      <td>NNP</td>\n",
       "      <td>B-geo</td>\n",
       "      <td>B-geo|Location|Party</td>\n",
       "    </tr>\n",
       "    <tr>\n",
       "      <th>13</th>\n",
       "      <td>NaN</td>\n",
       "      <td>and</td>\n",
       "      <td>CC</td>\n",
       "      <td>O</td>\n",
       "      <td>O</td>\n",
       "    </tr>\n",
       "    <tr>\n",
       "      <th>14</th>\n",
       "      <td>NaN</td>\n",
       "      <td>demand</td>\n",
       "      <td>VB</td>\n",
       "      <td>O</td>\n",
       "      <td>O</td>\n",
       "    </tr>\n",
       "    <tr>\n",
       "      <th>15</th>\n",
       "      <td>NaN</td>\n",
       "      <td>the</td>\n",
       "      <td>DT</td>\n",
       "      <td>O</td>\n",
       "      <td>O</td>\n",
       "    </tr>\n",
       "    <tr>\n",
       "      <th>16</th>\n",
       "      <td>NaN</td>\n",
       "      <td>withdrawal</td>\n",
       "      <td>NN</td>\n",
       "      <td>O</td>\n",
       "      <td>O</td>\n",
       "    </tr>\n",
       "    <tr>\n",
       "      <th>17</th>\n",
       "      <td>NaN</td>\n",
       "      <td>of</td>\n",
       "      <td>IN</td>\n",
       "      <td>O</td>\n",
       "      <td>O</td>\n",
       "    </tr>\n",
       "    <tr>\n",
       "      <th>18</th>\n",
       "      <td>NaN</td>\n",
       "      <td>British</td>\n",
       "      <td>JJ</td>\n",
       "      <td>B-gpe</td>\n",
       "      <td>B-gpe|Race</td>\n",
       "    </tr>\n",
       "    <tr>\n",
       "      <th>19</th>\n",
       "      <td>NaN</td>\n",
       "      <td>troops</td>\n",
       "      <td>NNS</td>\n",
       "      <td>O</td>\n",
       "      <td>O</td>\n",
       "    </tr>\n",
       "    <tr>\n",
       "      <th>20</th>\n",
       "      <td>NaN</td>\n",
       "      <td>from</td>\n",
       "      <td>IN</td>\n",
       "      <td>O</td>\n",
       "      <td>O</td>\n",
       "    </tr>\n",
       "    <tr>\n",
       "      <th>21</th>\n",
       "      <td>NaN</td>\n",
       "      <td>that</td>\n",
       "      <td>DT</td>\n",
       "      <td>O</td>\n",
       "      <td>O</td>\n",
       "    </tr>\n",
       "    <tr>\n",
       "      <th>22</th>\n",
       "      <td>NaN</td>\n",
       "      <td>country</td>\n",
       "      <td>NN</td>\n",
       "      <td>O</td>\n",
       "      <td>O</td>\n",
       "    </tr>\n",
       "    <tr>\n",
       "      <th>23</th>\n",
       "      <td>NaN</td>\n",
       "      <td>.</td>\n",
       "      <td>.</td>\n",
       "      <td>O</td>\n",
       "      <td>O</td>\n",
       "    </tr>\n",
       "    <tr>\n",
       "      <th>24</th>\n",
       "      <td>Sentence: 2</td>\n",
       "      <td>Families</td>\n",
       "      <td>NNS</td>\n",
       "      <td>O</td>\n",
       "      <td>O</td>\n",
       "    </tr>\n",
       "    <tr>\n",
       "      <th>25</th>\n",
       "      <td>NaN</td>\n",
       "      <td>of</td>\n",
       "      <td>IN</td>\n",
       "      <td>O</td>\n",
       "      <td>O</td>\n",
       "    </tr>\n",
       "    <tr>\n",
       "      <th>26</th>\n",
       "      <td>NaN</td>\n",
       "      <td>soldiers</td>\n",
       "      <td>NNS</td>\n",
       "      <td>O</td>\n",
       "      <td>O</td>\n",
       "    </tr>\n",
       "    <tr>\n",
       "      <th>27</th>\n",
       "      <td>NaN</td>\n",
       "      <td>killed</td>\n",
       "      <td>VBN</td>\n",
       "      <td>O</td>\n",
       "      <td>O</td>\n",
       "    </tr>\n",
       "    <tr>\n",
       "      <th>28</th>\n",
       "      <td>NaN</td>\n",
       "      <td>in</td>\n",
       "      <td>IN</td>\n",
       "      <td>O</td>\n",
       "      <td>O</td>\n",
       "    </tr>\n",
       "    <tr>\n",
       "      <th>29</th>\n",
       "      <td>NaN</td>\n",
       "      <td>the</td>\n",
       "      <td>DT</td>\n",
       "      <td>O</td>\n",
       "      <td>O</td>\n",
       "    </tr>\n",
       "  </tbody>\n",
       "</table>\n",
       "</div>"
      ],
      "text/plain": [
       "     Sentence #           Word  POS    Tag                newTag\n",
       "0   Sentence: 1      Thousands  NNS      O                     O\n",
       "1           NaN             of   IN      O                     O\n",
       "2           NaN  demonstrators  NNS      O                     O\n",
       "3           NaN           have  VBP      O                     O\n",
       "4           NaN        marched  VBN      O                     O\n",
       "5           NaN        through   IN      O                     O\n",
       "6           NaN         London  NNP  B-geo  B-geo|Location|Party\n",
       "7           NaN             to   TO      O                     O\n",
       "8           NaN        protest   VB      O                     O\n",
       "9           NaN            the   DT      O                     O\n",
       "10          NaN            war   NN      O                     O\n",
       "11          NaN             in   IN      O                     O\n",
       "12          NaN           Iraq  NNP  B-geo  B-geo|Location|Party\n",
       "13          NaN            and   CC      O                     O\n",
       "14          NaN         demand   VB      O                     O\n",
       "15          NaN            the   DT      O                     O\n",
       "16          NaN     withdrawal   NN      O                     O\n",
       "17          NaN             of   IN      O                     O\n",
       "18          NaN        British   JJ  B-gpe            B-gpe|Race\n",
       "19          NaN         troops  NNS      O                     O\n",
       "20          NaN           from   IN      O                     O\n",
       "21          NaN           that   DT      O                     O\n",
       "22          NaN        country   NN      O                     O\n",
       "23          NaN              .    .      O                     O\n",
       "24  Sentence: 2       Families  NNS      O                     O\n",
       "25          NaN             of   IN      O                     O\n",
       "26          NaN       soldiers  NNS      O                     O\n",
       "27          NaN         killed  VBN      O                     O\n",
       "28          NaN             in   IN      O                     O\n",
       "29          NaN            the   DT      O                     O"
      ]
     },
     "execution_count": 2,
     "metadata": {},
     "output_type": "execute_result"
    }
   ],
   "source": [
    "\n",
    "\n",
    "tags = np.unique(df.Tag)\n",
    "\n",
    "tags\n",
    "\n",
    "transform_tag_mapping = {\n",
    "    'B-art': ['Object'],\n",
    "    'B-eve': ['Event'],\n",
    "    'B-geo': ['Location', 'Party'],\n",
    "    'B-gpe': ['Race'],\n",
    "    'B-nat': ['SpecialTerm'],\n",
    "    'B-org': ['Party'],\n",
    "    'B-per': ['Party'],\n",
    "    'B-tim': ['Time'],\n",
    "    'I-art': ['Object'],\n",
    "    'I-eve': ['Event'],\n",
    "    'I-geo': ['Location', 'Party'],\n",
    "    'I-gpe': ['Race', \"Party\"],\n",
    "    'I-nat': ['SpecialTerm'],\n",
    "    'I-org': ['Party'],\n",
    "    'I-per': ['Party'],\n",
    "    'I-tim': ['TemporalUnit'],\n",
    "    'O': [],\n",
    "}\n",
    "\n",
    "def transform_tag(tag):\n",
    "    out = transform_tag_mapping[tag]\n",
    "    out = [tag] + out\n",
    "    out = \"|\".join(out)\n",
    "    return out\n",
    "\n",
    "df[\"newTag\"] = df.Tag.apply(transform_tag)\n",
    "\n",
    "df.head(30)"
   ]
  },
  {
   "cell_type": "code",
   "execution_count": 3,
   "metadata": {
    "ExecuteTime": {
     "end_time": "2021-08-13T21:18:57.267643Z",
     "start_time": "2021-08-13T21:18:57.249677Z"
    }
   },
   "outputs": [],
   "source": [
    "from label_functions.basicTypes import is_Float, is_Integer\n",
    "from label_functions.CountryCode import is_CountryCode\n",
    "from label_functions.CryptoCurrencyCode import is_CryptoCurrencyCode\n",
    "from label_functions.CurrencyCode import is_CurrencyCode\n",
    "from label_functions.TemporalUnit import is_TemporalUnit\n",
    "from label_functions.Timezone import is_TimeZone\n",
    "from label_functions.US_States import is_US_States\n",
    "from label_functions.isMonth import isMonth"
   ]
  },
  {
   "cell_type": "code",
   "execution_count": 12,
   "metadata": {
    "ExecuteTime": {
     "end_time": "2021-08-10T21:40:03.382960Z",
     "start_time": "2021-08-10T21:40:03.376773Z"
    }
   },
   "outputs": [],
   "source": [
    "text = \"usd\""
   ]
  },
  {
   "cell_type": "code",
   "execution_count": 13,
   "metadata": {
    "ExecuteTime": {
     "end_time": "2021-08-10T21:40:04.223475Z",
     "start_time": "2021-08-10T21:40:04.212670Z"
    }
   },
   "outputs": [
    {
     "data": {
      "text/plain": [
       "True"
      ]
     },
     "execution_count": 13,
     "metadata": {},
     "output_type": "execute_result"
    }
   ],
   "source": [
    "is_CurrencyCode(text)"
   ]
  },
  {
   "cell_type": "code",
   "execution_count": 14,
   "metadata": {
    "ExecuteTime": {
     "end_time": "2021-08-10T21:40:15.739480Z",
     "start_time": "2021-08-10T21:40:15.727027Z"
    }
   },
   "outputs": [
    {
     "data": {
      "text/plain": [
       "True"
      ]
     },
     "execution_count": 14,
     "metadata": {},
     "output_type": "execute_result"
    }
   ],
   "source": [
    "is_Integer(\"1,234\")"
   ]
  },
  {
   "cell_type": "code",
   "execution_count": 15,
   "metadata": {
    "ExecuteTime": {
     "end_time": "2021-08-10T21:40:18.283321Z",
     "start_time": "2021-08-10T21:40:18.277366Z"
    }
   },
   "outputs": [],
   "source": [
    "class label_function:\n",
    "    def __init__(self, function, tags = [], seperator = \"|\"):\n",
    "        self.label_function = function\n",
    "        self.tags = seperator.join(tags)\n",
    "        self.seperator = seperator\n",
    "    def label(self, text, origin_label):\n",
    "        if self.label_function(text):\n",
    "            return f\"{origin_label}{self.seperator}{self.tags}\"\n",
    "        else:\n",
    "            return origin_label"
   ]
  },
  {
   "cell_type": "code",
   "execution_count": 4,
   "metadata": {
    "ExecuteTime": {
     "end_time": "2021-08-13T21:21:03.796648Z",
     "start_time": "2021-08-13T21:21:03.792085Z"
    }
   },
   "outputs": [],
   "source": [
    "labels = [\n",
    "    [is_Float, [\"Float\"]],\n",
    "    [is_Integer, [\"Integer\"]],\n",
    "    [is_CountryCode, [\"CountryCode\"]],\n",
    "    [is_CryptoCurrencyCode, [\"CryptoCurrencyCode\"]],\n",
    "    [is_CurrencyCode, [\"CurrencyCode\"]],\n",
    "    [is_TemporalUnit, [\"TemporalUnit\"]],\n",
    "    [is_TimeZone, [\"Timezone\"]],\n",
    "    [is_US_States, [\"US_States\"]],\n",
    "    [isMonth, ['TemporalUnit', 'Month']]\n",
    "]"
   ]
  },
  {
   "cell_type": "code",
   "execution_count": 5,
   "metadata": {
    "ExecuteTime": {
     "end_time": "2021-08-13T21:21:04.872082Z",
     "start_time": "2021-08-13T21:21:04.811719Z"
    }
   },
   "outputs": [
    {
     "ename": "NameError",
     "evalue": "name 'label_function' is not defined",
     "output_type": "error",
     "traceback": [
      "\u001b[0;31m---------------------------------------------------------------------------\u001b[0m",
      "\u001b[0;31mNameError\u001b[0m                                 Traceback (most recent call last)",
      "\u001b[0;32m/tmp/ipykernel_27794/2850946667.py\u001b[0m in \u001b[0;36m<module>\u001b[0;34m\u001b[0m\n\u001b[1;32m      1\u001b[0m \u001b[0mlabel_functions\u001b[0m \u001b[0;34m=\u001b[0m \u001b[0;34m[\u001b[0m\u001b[0;34m]\u001b[0m\u001b[0;34m\u001b[0m\u001b[0;34m\u001b[0m\u001b[0m\n\u001b[1;32m      2\u001b[0m \u001b[0;32mfor\u001b[0m \u001b[0mlabel\u001b[0m \u001b[0;32min\u001b[0m \u001b[0mlabels\u001b[0m\u001b[0;34m:\u001b[0m\u001b[0;34m\u001b[0m\u001b[0;34m\u001b[0m\u001b[0m\n\u001b[0;32m----> 3\u001b[0;31m     \u001b[0mlabel_functions\u001b[0m\u001b[0;34m.\u001b[0m\u001b[0mappend\u001b[0m\u001b[0;34m(\u001b[0m\u001b[0mlabel_function\u001b[0m\u001b[0;34m(\u001b[0m\u001b[0mlabel\u001b[0m\u001b[0;34m[\u001b[0m\u001b[0;36m0\u001b[0m\u001b[0;34m]\u001b[0m\u001b[0;34m,\u001b[0m \u001b[0mlabel\u001b[0m\u001b[0;34m[\u001b[0m\u001b[0;36m1\u001b[0m\u001b[0;34m]\u001b[0m\u001b[0;34m)\u001b[0m\u001b[0;34m)\u001b[0m\u001b[0;34m\u001b[0m\u001b[0;34m\u001b[0m\u001b[0m\n\u001b[0m",
      "\u001b[0;31mNameError\u001b[0m: name 'label_function' is not defined"
     ]
    }
   ],
   "source": [
    "label_functions = []\n",
    "for label in labels:\n",
    "    label_functions.append(label_function(label[0], label[1]))"
   ]
  },
  {
   "cell_type": "code",
   "execution_count": 18,
   "metadata": {
    "ExecuteTime": {
     "end_time": "2021-08-10T21:40:21.621722Z",
     "start_time": "2021-08-10T21:40:21.616002Z"
    }
   },
   "outputs": [],
   "source": [
    "def label_with_functions(row):\n",
    "    for function in label_functions:\n",
    "        row[\"newTag\"] = function.label(row.Word, row.newTag)\n",
    "    return row"
   ]
  },
  {
   "cell_type": "code",
   "execution_count": 19,
   "metadata": {
    "ExecuteTime": {
     "end_time": "2021-08-10T21:40:22.931500Z",
     "start_time": "2021-08-10T21:40:22.680140Z"
    }
   },
   "outputs": [],
   "source": [
    "import swifter"
   ]
  },
  {
   "cell_type": "code",
   "execution_count": 20,
   "metadata": {
    "ExecuteTime": {
     "end_time": "2021-08-10T21:42:00.258480Z",
     "start_time": "2021-08-10T21:40:29.686679Z"
    }
   },
   "outputs": [
    {
     "data": {
      "application/vnd.jupyter.widget-view+json": {
       "model_id": "3082e16989d049f090740cac3fb9e457",
       "version_major": 2,
       "version_minor": 0
      },
      "text/plain": [
       "Dask Apply:   0%|          | 0/16 [00:00<?, ?it/s]"
      ]
     },
     "metadata": {},
     "output_type": "display_data"
    },
    {
     "name": "stdout",
     "output_type": "stream",
     "text": [
      "CPU times: user 7.11 s, sys: 0 ns, total: 7.11 s\n",
      "Wall time: 1min 30s\n"
     ]
    }
   ],
   "source": [
    "%%time\n",
    "df2 = df.swifter.apply(label_with_functions, axis = 1)"
   ]
  },
  {
   "cell_type": "code",
   "execution_count": 21,
   "metadata": {
    "ExecuteTime": {
     "end_time": "2021-08-10T21:42:00.410941Z",
     "start_time": "2021-08-10T21:42:00.260413Z"
    }
   },
   "outputs": [],
   "source": [
    "#remove O if it have other value\n",
    "df2.newTag = df2.newTag.apply(lambda x: x[2:] if \"O|\" == x[0:2] else x)"
   ]
  },
  {
   "cell_type": "code",
   "execution_count": 22,
   "metadata": {
    "ExecuteTime": {
     "end_time": "2021-08-10T21:42:00.415378Z",
     "start_time": "2021-08-10T21:42:00.412407Z"
    }
   },
   "outputs": [],
   "source": [
    "def remove_repeat_tag(text):\n",
    "    return \"|\".join(list(set(text.split(\"|\"))))"
   ]
  },
  {
   "cell_type": "code",
   "execution_count": 23,
   "metadata": {
    "ExecuteTime": {
     "end_time": "2021-08-10T21:42:01.841474Z",
     "start_time": "2021-08-10T21:42:00.417039Z"
    }
   },
   "outputs": [
    {
     "data": {
      "application/vnd.jupyter.widget-view+json": {
       "model_id": "963ec9df685c4aedaf364481847270d1",
       "version_major": 2,
       "version_minor": 0
      },
      "text/plain": [
       "Pandas Apply:   0%|          | 0/1048575 [00:00<?, ?it/s]"
      ]
     },
     "metadata": {},
     "output_type": "display_data"
    }
   ],
   "source": [
    "df2.newTag = df2.newTag.swifter.apply(remove_repeat_tag)"
   ]
  },
  {
   "cell_type": "code",
   "execution_count": 24,
   "metadata": {
    "ExecuteTime": {
     "end_time": "2021-08-10T21:42:02.473545Z",
     "start_time": "2021-08-10T21:42:01.842884Z"
    }
   },
   "outputs": [
    {
     "data": {
      "text/plain": [
       "array(['B-art|CountryCode|Object', 'B-art|Integer|Object', 'B-art|Object',\n",
       "       'B-tim|Time', 'B-tim|Time|CurrencyCode', 'B-tim|Time|Float',\n",
       "       'B-tim|Time|Integer', 'B-tim|Time|Month|TemporalUnit',\n",
       "       'B-tim|Time|TemporalUnit', 'B-tim|Time|Timezone', 'CountryCode',\n",
       "       'CryptoCurrencyCode', 'CurrencyCode', 'Event|B-eve',\n",
       "       'Event|CurrencyCode|B-eve', 'Event|Integer|B-eve', 'Float',\n",
       "       'I-art|Float|Object', 'I-art|Integer|Object', 'I-art|Object',\n",
       "       'I-eve|CurrencyCode|Event', 'I-eve|Event', 'I-gpe|Race|Party',\n",
       "       'Integer', 'Location|Party|B-geo',\n",
       "       'Location|Party|B-geo|CountryCode', 'Location|Party|B-geo|Float',\n",
       "       'Location|Party|B-geo|Timezone',\n",
       "       'Location|Party|CurrencyCode|B-geo',\n",
       "       'Location|Party|CurrencyCode|I-geo', 'Location|Party|I-geo',\n",
       "       'Location|Party|I-geo|CountryCode',\n",
       "       'Location|Party|I-geo|Timezone', 'Location|Party|Integer|I-geo',\n",
       "       'Location|Party|Month|I-geo|TemporalUnit',\n",
       "       'Location|Party|US_States|B-geo', 'O', 'Party|B-org',\n",
       "       'Party|B-per', 'Party|B-per|CurrencyCode', 'Party|B-per|Integer',\n",
       "       'Party|B-per|Month|TemporalUnit', 'Party|B-per|TemporalUnit',\n",
       "       'Party|B-per|Timezone', 'Party|B-per|US_States|CountryCode',\n",
       "       'Party|CountryCode|B-org', 'Party|CryptoCurrencyCode|B-org',\n",
       "       'Party|CurrencyCode|B-org', 'Party|CurrencyCode|I-org',\n",
       "       'Party|CurrencyCode|I-per', 'Party|Float|B-org', 'Party|I-org',\n",
       "       'Party|I-org|CountryCode', 'Party|I-org|Integer',\n",
       "       'Party|I-org|Timezone', 'Party|I-per', 'Party|I-per|CountryCode',\n",
       "       'Party|I-per|Timezone', 'Party|Integer|B-org',\n",
       "       'Party|Timezone|B-org', 'Party|US_States|B-org',\n",
       "       'Party|US_States|CountryCode|B-org',\n",
       "       'Party|US_States|I-per|CountryCode', 'Race|B-gpe',\n",
       "       'Race|B-gpe|CountryCode', 'SpecialTerm|B-nat',\n",
       "       'SpecialTerm|CurrencyCode|B-nat', 'SpecialTerm|I-nat',\n",
       "       'SpecialTerm|Integer|B-nat', 'TemporalUnit',\n",
       "       'TemporalUnit|CurrencyCode|I-tim',\n",
       "       'TemporalUnit|Event|Month|B-eve', 'TemporalUnit|I-tim',\n",
       "       'TemporalUnit|I-tim|Float', 'TemporalUnit|I-tim|Integer',\n",
       "       'TemporalUnit|I-tim|Timezone', 'TemporalUnit|Month',\n",
       "       'TemporalUnit|Month|I-tim', 'Timezone',\n",
       "       'Timezone|Location|Party|B-geo|CountryCode', 'Timezone|Race|B-gpe',\n",
       "       'US_States', 'US_States|CountryCode'], dtype=object)"
      ]
     },
     "execution_count": 24,
     "metadata": {},
     "output_type": "execute_result"
    }
   ],
   "source": [
    "np.unique(df2.newTag)"
   ]
  },
  {
   "cell_type": "code",
   "execution_count": null,
   "metadata": {},
   "outputs": [],
   "source": []
  },
  {
   "cell_type": "code",
   "execution_count": 25,
   "metadata": {
    "ExecuteTime": {
     "end_time": "2021-08-10T21:42:03.910805Z",
     "start_time": "2021-08-10T21:42:02.474919Z"
    }
   },
   "outputs": [],
   "source": [
    "df2.to_csv(\"./NER_multilabel_data_v2.csv\")"
   ]
  },
  {
   "cell_type": "code",
   "execution_count": null,
   "metadata": {},
   "outputs": [],
   "source": []
  }
 ],
 "metadata": {
  "kernelspec": {
   "display_name": "py37",
   "language": "python",
   "name": "py37"
  },
  "language_info": {
   "codemirror_mode": {
    "name": "ipython",
    "version": 3
   },
   "file_extension": ".py",
   "mimetype": "text/x-python",
   "name": "python",
   "nbconvert_exporter": "python",
   "pygments_lexer": "ipython3",
   "version": "3.7.10"
  }
 },
 "nbformat": 4,
 "nbformat_minor": 4
}
