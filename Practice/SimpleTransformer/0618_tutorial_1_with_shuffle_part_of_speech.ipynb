{
 "cells": [
  {
   "cell_type": "code",
   "execution_count": 11,
   "metadata": {},
   "outputs": [],
   "source": [
    "with open(\"./train.txt\") as f:\n",
    "    datas = f.readlines()"
   ]
  },
  {
   "cell_type": "code",
   "execution_count": 12,
   "metadata": {},
   "outputs": [],
   "source": [
    "data_1 = set()\n",
    "data_2 = set()"
   ]
  },
  {
   "cell_type": "code",
   "execution_count": 13,
   "metadata": {},
   "outputs": [],
   "source": [
    "for i in range(len(datas)):\n",
    "    data = datas[i].split(\" \")\n",
    "    try:\n",
    "        data_1.add(data[1])\n",
    "        data_2.add(data[2])\n",
    "    except:\n",
    "        pass\n",
    "\n",
    "    datas[i] = \" \".join(data)\n",
    "    "
   ]
  },
  {
   "cell_type": "code",
   "execution_count": 14,
   "metadata": {},
   "outputs": [
    {
     "data": {
      "text/plain": [
       "{'-X-',\n",
       " 'B-ADJP',\n",
       " 'B-ADVP',\n",
       " 'B-CONJP',\n",
       " 'B-INTJ',\n",
       " 'B-LST',\n",
       " 'B-NP',\n",
       " 'B-PP',\n",
       " 'B-PRT',\n",
       " 'B-SBAR',\n",
       " 'B-VP',\n",
       " 'I-ADJP',\n",
       " 'I-ADVP',\n",
       " 'I-CONJP',\n",
       " 'I-INTJ',\n",
       " 'I-LST',\n",
       " 'I-NP',\n",
       " 'I-PP',\n",
       " 'I-SBAR',\n",
       " 'I-VP',\n",
       " 'O'}"
      ]
     },
     "execution_count": 14,
     "metadata": {},
     "output_type": "execute_result"
    }
   ],
   "source": [
    "data_2"
   ]
  },
  {
   "cell_type": "code",
   "execution_count": 18,
   "metadata": {},
   "outputs": [
    {
     "data": {
      "text/plain": [
       "'WP'"
      ]
     },
     "execution_count": 18,
     "metadata": {},
     "output_type": "execute_result"
    }
   ],
   "source": [
    "import random\n",
    "random.choice(list(data_1))"
   ]
  },
  {
   "cell_type": "code",
   "execution_count": 19,
   "metadata": {},
   "outputs": [],
   "source": [
    "for i in range(len(datas)):\n",
    "    data = datas[i].split(\" \")\n",
    "    try:\n",
    "        data[1] = random.choice(list(data_1))\n",
    "        data[2] = random.choice(list(data_2))\n",
    "    except:\n",
    "        pass\n",
    "\n",
    "    datas[i] = \" \".join(data)\n",
    "    "
   ]
  },
  {
   "cell_type": "code",
   "execution_count": 20,
   "metadata": {},
   "outputs": [],
   "source": [
    "with open(\"./train_shuffle_part_of_speech.txt\", \"w\") as f:\n",
    "    f.writelines(datas)"
   ]
  },
  {
   "cell_type": "code",
   "execution_count": null,
   "metadata": {},
   "outputs": [],
   "source": []
  },
  {
   "cell_type": "code",
   "execution_count": 21,
   "metadata": {},
   "outputs": [
    {
     "data": {
      "application/vnd.jupyter.widget-view+json": {
       "model_id": "2fdf0c05cca8482680aabb282bde561d",
       "version_major": 2,
       "version_minor": 0
      },
      "text/plain": [
       "HBox(children=(FloatProgress(value=0.0, max=13.0), HTML(value='')))"
      ]
     },
     "metadata": {},
     "output_type": "display_data"
    },
    {
     "name": "stdout",
     "output_type": "stream",
     "text": [
      "\n"
     ]
    },
    {
     "data": {
      "application/vnd.jupyter.widget-view+json": {
       "model_id": "37068035049044a4bac7353de473e899",
       "version_major": 2,
       "version_minor": 0
      },
      "text/plain": [
       "HBox(children=(FloatProgress(value=0.0, description='Epoch', max=3.0, style=ProgressStyle(description_width='i…"
      ]
     },
     "metadata": {},
     "output_type": "display_data"
    },
    {
     "data": {
      "application/vnd.jupyter.widget-view+json": {
       "model_id": "584eef58de1d4324ba1a2f1394b72e9f",
       "version_major": 2,
       "version_minor": 0
      },
      "text/plain": [
       "HBox(children=(FloatProgress(value=0.0, description='Running Epoch 0 of 3', max=281.0, style=ProgressStyle(des…"
      ]
     },
     "metadata": {},
     "output_type": "display_data"
    },
    {
     "name": "stdout",
     "output_type": "stream",
     "text": [
      "\n"
     ]
    },
    {
     "data": {
      "application/vnd.jupyter.widget-view+json": {
       "model_id": "57c364b900f04f83ae0341c672078bfb",
       "version_major": 2,
       "version_minor": 0
      },
      "text/plain": [
       "HBox(children=(FloatProgress(value=0.0, description='Running Epoch 1 of 3', max=281.0, style=ProgressStyle(des…"
      ]
     },
     "metadata": {},
     "output_type": "display_data"
    },
    {
     "name": "stdout",
     "output_type": "stream",
     "text": [
      "\n"
     ]
    },
    {
     "data": {
      "application/vnd.jupyter.widget-view+json": {
       "model_id": "93f6609b559748429d16b369c7390d66",
       "version_major": 2,
       "version_minor": 0
      },
      "text/plain": [
       "HBox(children=(FloatProgress(value=0.0, description='Running Epoch 2 of 3', max=281.0, style=ProgressStyle(des…"
      ]
     },
     "metadata": {},
     "output_type": "display_data"
    },
    {
     "name": "stdout",
     "output_type": "stream",
     "text": [
      "\n",
      "\n",
      "It takes 176.04 seconds\n"
     ]
    }
   ],
   "source": [
    "import time\n",
    "time1 = time.time()\n",
    "\n",
    "from simpletransformers.ner import NERModel\n",
    "# Create a NERModel\n",
    "#model = NERModel('bert', 'bert-base-cased')\n",
    "model = NERModel('bert', 'dslim/bert-base-NER', args={\n",
    "    'learning_rate': 2e-5,\n",
    "    'overwrite_output_dir': True,\n",
    "    'reprocess_input_data': True,\n",
    "    'num_train_epochs': 3,\n",
    "    \"train_batch_size\": 50})\n",
    "model.train_model('./train_shuffle_part_of_speech.txt')\n",
    "\n",
    "print(\"It takes %2.2f seconds\"%(time.time() - time1))"
   ]
  },
  {
   "cell_type": "code",
   "execution_count": 22,
   "metadata": {},
   "outputs": [
    {
     "data": {
      "application/vnd.jupyter.widget-view+json": {
       "model_id": "b7fdb075492b442faa1c2086d418b123",
       "version_major": 2,
       "version_minor": 0
      },
      "text/plain": [
       "HBox(children=(FloatProgress(value=0.0, max=13.0), HTML(value='')))"
      ]
     },
     "metadata": {},
     "output_type": "display_data"
    },
    {
     "name": "stdout",
     "output_type": "stream",
     "text": [
      "\n"
     ]
    },
    {
     "data": {
      "application/vnd.jupyter.widget-view+json": {
       "model_id": "68bcb9c60cae481b850eb7c97bf8d574",
       "version_major": 2,
       "version_minor": 0
      },
      "text/plain": [
       "HBox(children=(FloatProgress(value=0.0, description='Running Evaluation', max=1756.0, style=ProgressStyle(desc…"
      ]
     },
     "metadata": {},
     "output_type": "display_data"
    },
    {
     "name": "stdout",
     "output_type": "stream",
     "text": [
      "\n",
      "{'eval_loss': 0.000547488025064398, 'precision': 0.9989363060034889, 'recall': 0.9991063449508489, 'f1_score': 0.999021318241777}\n"
     ]
    }
   ],
   "source": [
    "results, model_outputs, predictions = model.eval_model('train_without_part_of_speech.txt')\n",
    "print(results)"
   ]
  },
  {
   "cell_type": "code",
   "execution_count": 23,
   "metadata": {},
   "outputs": [
    {
     "data": {
      "application/vnd.jupyter.widget-view+json": {
       "model_id": "23f10b8f48514d88bdf3ae0d2f9062c2",
       "version_major": 2,
       "version_minor": 0
      },
      "text/plain": [
       "HBox(children=(FloatProgress(value=0.0, max=13.0), HTML(value='')))"
      ]
     },
     "metadata": {},
     "output_type": "display_data"
    },
    {
     "name": "stdout",
     "output_type": "stream",
     "text": [
      "\n"
     ]
    },
    {
     "data": {
      "application/vnd.jupyter.widget-view+json": {
       "model_id": "0d86e6cdc95148ceab194d0227512aaf",
       "version_major": 2,
       "version_minor": 0
      },
      "text/plain": [
       "HBox(children=(FloatProgress(value=0.0, description='Running Evaluation', max=1756.0, style=ProgressStyle(desc…"
      ]
     },
     "metadata": {},
     "output_type": "display_data"
    },
    {
     "name": "stdout",
     "output_type": "stream",
     "text": [
      "\n",
      "{'eval_loss': 0.000547488025064398, 'precision': 0.9989363060034889, 'recall': 0.9991063449508489, 'f1_score': 0.999021318241777}\n"
     ]
    }
   ],
   "source": [
    "results, model_outputs, predictions = model.eval_model('train_shuffle_part_of_speech.txt')\n",
    "print(results)"
   ]
  },
  {
   "cell_type": "code",
   "execution_count": 24,
   "metadata": {},
   "outputs": [
    {
     "data": {
      "application/vnd.jupyter.widget-view+json": {
       "model_id": "f4f448b652274affba043d6cda292a43",
       "version_major": 2,
       "version_minor": 0
      },
      "text/plain": [
       "HBox(children=(FloatProgress(value=0.0, max=13.0), HTML(value='')))"
      ]
     },
     "metadata": {},
     "output_type": "display_data"
    },
    {
     "name": "stdout",
     "output_type": "stream",
     "text": [
      "\n"
     ]
    },
    {
     "data": {
      "application/vnd.jupyter.widget-view+json": {
       "model_id": "cfe144b751bb407cadbbbcef71215154",
       "version_major": 2,
       "version_minor": 0
      },
      "text/plain": [
       "HBox(children=(FloatProgress(value=0.0, description='Running Evaluation', max=1756.0, style=ProgressStyle(desc…"
      ]
     },
     "metadata": {},
     "output_type": "display_data"
    },
    {
     "name": "stdout",
     "output_type": "stream",
     "text": [
      "\n",
      "{'eval_loss': 0.000547488025064398, 'precision': 0.9989363060034889, 'recall': 0.9991063449508489, 'f1_score': 0.999021318241777}\n"
     ]
    }
   ],
   "source": [
    "results, model_outputs, predictions = model.eval_model('train.txt')\n",
    "print(results)"
   ]
  },
  {
   "cell_type": "code",
   "execution_count": 25,
   "metadata": {},
   "outputs": [
    {
     "data": {
      "application/vnd.jupyter.widget-view+json": {
       "model_id": "1ced1d360df24eaea17f5da349978c2f",
       "version_major": 2,
       "version_minor": 0
      },
      "text/plain": [
       "HBox(children=(FloatProgress(value=0.0, max=7.0), HTML(value='')))"
      ]
     },
     "metadata": {},
     "output_type": "display_data"
    },
    {
     "name": "stdout",
     "output_type": "stream",
     "text": [
      "\n"
     ]
    },
    {
     "data": {
      "application/vnd.jupyter.widget-view+json": {
       "model_id": "896831cae22c42be8e6164bb35afe92c",
       "version_major": 2,
       "version_minor": 0
      },
      "text/plain": [
       "HBox(children=(FloatProgress(value=0.0, description='Running Evaluation', max=432.0, style=ProgressStyle(descr…"
      ]
     },
     "metadata": {},
     "output_type": "display_data"
    },
    {
     "name": "stdout",
     "output_type": "stream",
     "text": [
      "\n",
      "{'eval_loss': 0.16102305081025853, 'precision': 0.9047204319804912, 'recall': 0.9202693125442948, 'f1_score': 0.9124286341677647}\n"
     ]
    }
   ],
   "source": [
    "results, model_outputs, predictions = model.eval_model('test.txt')\n",
    "print(results)"
   ]
  },
  {
   "cell_type": "code",
   "execution_count": 8,
   "metadata": {},
   "outputs": [
    {
     "data": {
      "text/plain": [
       "{'eval_loss': 0.14483236150355996,\n",
       " 'precision': 0.903732124171608,\n",
       " 'recall': 0.9181431608788093,\n",
       " 'f1_score': 0.9108806468623659}"
      ]
     },
     "execution_count": 8,
     "metadata": {},
     "output_type": "execute_result"
    }
   ],
   "source": [
    "results"
   ]
  },
  {
   "cell_type": "code",
   "execution_count": null,
   "metadata": {},
   "outputs": [],
   "source": [
    "predictions[0]"
   ]
  },
  {
   "cell_type": "code",
   "execution_count": null,
   "metadata": {},
   "outputs": [],
   "source": [
    "results"
   ]
  },
  {
   "cell_type": "code",
   "execution_count": null,
   "metadata": {},
   "outputs": [],
   "source": [
    "results, model_outputs, predictions = model.eval_model('train.txt')"
   ]
  },
  {
   "cell_type": "code",
   "execution_count": 26,
   "metadata": {},
   "outputs": [
    {
     "data": {
      "application/vnd.jupyter.widget-view+json": {
       "model_id": "181d8fa1bc154a399a36193c62d12231",
       "version_major": 2,
       "version_minor": 0
      },
      "text/plain": [
       "HBox(children=(FloatProgress(value=0.0, max=1.0), HTML(value='')))"
      ]
     },
     "metadata": {},
     "output_type": "display_data"
    },
    {
     "name": "stdout",
     "output_type": "stream",
     "text": [
      "\n"
     ]
    },
    {
     "data": {
      "application/vnd.jupyter.widget-view+json": {
       "model_id": "076a76e752264b7da1f756d77f0c60ea",
       "version_major": 2,
       "version_minor": 0
      },
      "text/plain": [
       "HBox(children=(FloatProgress(value=0.0, description='Running Prediction', max=2.0, style=ProgressStyle(descrip…"
      ]
     },
     "metadata": {},
     "output_type": "display_data"
    },
    {
     "name": "stdout",
     "output_type": "stream",
     "text": [
      "\n"
     ]
    },
    {
     "data": {
      "text/plain": [
       "([[{'EU': 'B-ORG'}],\n",
       "  [{'rejects': 'O'}],\n",
       "  [{'German': 'B-MISC'}],\n",
       "  [{'call': 'O'}],\n",
       "  [{'to': 'O'}],\n",
       "  [{'boycott': 'O'}],\n",
       "  [{'British': 'B-MISC'}],\n",
       "  [{'lamb': 'O'}],\n",
       "  [{'.': 'O'}]],\n",
       " [[{'EU': [[-0.947,\n",
       "      0.588,\n",
       "      -1.477,\n",
       "      -2.045,\n",
       "      -2.428,\n",
       "      8.31,\n",
       "      -1.611,\n",
       "      1.797,\n",
       "      -2.334]]}],\n",
       "  [{'rejects': [[11.13,\n",
       "      -1.256,\n",
       "      -1.014,\n",
       "      -1.633,\n",
       "      -2.174,\n",
       "      -1.034,\n",
       "      -1.748,\n",
       "      -1.611,\n",
       "      -1.734]]}],\n",
       "  [{'German': [[-1.203,\n",
       "      9.93,\n",
       "      0.72,\n",
       "      -1.904,\n",
       "      -1.083,\n",
       "      -1.263,\n",
       "      -2.13,\n",
       "      -1.57,\n",
       "      -1.643]]}],\n",
       "  [{'call': [[9.17,\n",
       "      -0.8916,\n",
       "      -2.848,\n",
       "      -1.307,\n",
       "      -2.447,\n",
       "      -0.6323,\n",
       "      -1.832,\n",
       "      0.1846,\n",
       "      -2.076]]}],\n",
       "  [{'to': [[10.0,\n",
       "      -0.939,\n",
       "      -1.797,\n",
       "      -1.605,\n",
       "      -2.598,\n",
       "      -0.984,\n",
       "      -1.917,\n",
       "      -0.9556,\n",
       "      -1.836]]}],\n",
       "  [{'boycott': [[10.38,\n",
       "      -0.1498,\n",
       "      -1.708,\n",
       "      -1.282,\n",
       "      -3.053,\n",
       "      -0.541,\n",
       "      -2.2,\n",
       "      -0.8413,\n",
       "      -2.355]]}],\n",
       "  [{'British': [[-1.922,\n",
       "      9.82,\n",
       "      0.6196,\n",
       "      -1.961,\n",
       "      -1.263,\n",
       "      -0.838,\n",
       "      -2.22,\n",
       "      -1.32,\n",
       "      -1.752]]}],\n",
       "  [{'lamb': [[9.87,\n",
       "      -0.8193,\n",
       "      -1.942,\n",
       "      -1.048,\n",
       "      -3.158,\n",
       "      -1.409,\n",
       "      -1.442,\n",
       "      -1.13,\n",
       "      -1.5625],\n",
       "     [8.66, -0.5723, -1.386, -2.068, -2.152, -1.76, -1.626, -1.201, -1.15]]}],\n",
       "  [{'.': [[10.12,\n",
       "      -2.1,\n",
       "      -2.32,\n",
       "      -0.7534,\n",
       "      -2.084,\n",
       "      -1.574,\n",
       "      -1.768,\n",
       "      -0.671,\n",
       "      -1.439]]}]])"
      ]
     },
     "execution_count": 26,
     "metadata": {},
     "output_type": "execute_result"
    }
   ],
   "source": [
    "model.predict(['EU', 'rejects', 'German', 'call', 'to', 'boycott', 'British', 'lamb', '.',])"
   ]
  },
  {
   "cell_type": "code",
   "execution_count": 27,
   "metadata": {},
   "outputs": [
    {
     "data": {
      "application/vnd.jupyter.widget-view+json": {
       "model_id": "d4e6fd8dc71e489e88cc71f8e6ba06a1",
       "version_major": 2,
       "version_minor": 0
      },
      "text/plain": [
       "HBox(children=(FloatProgress(value=0.0, max=1.0), HTML(value='')))"
      ]
     },
     "metadata": {},
     "output_type": "display_data"
    },
    {
     "name": "stdout",
     "output_type": "stream",
     "text": [
      "\n"
     ]
    },
    {
     "data": {
      "application/vnd.jupyter.widget-view+json": {
       "model_id": "90ea413e0dbd4d359a67670f9b31fc76",
       "version_major": 2,
       "version_minor": 0
      },
      "text/plain": [
       "HBox(children=(FloatProgress(value=0.0, description='Running Prediction', max=2.0, style=ProgressStyle(descrip…"
      ]
     },
     "metadata": {},
     "output_type": "display_data"
    },
    {
     "name": "stdout",
     "output_type": "stream",
     "text": [
      "\n"
     ]
    },
    {
     "data": {
      "text/plain": [
       "([[{'Japan': 'B-LOC'}],\n",
       "  [{'get': 'O'}],\n",
       "  [{'lucky': 'O'}],\n",
       "  [{'win': 'O'}],\n",
       "  [{',': 'O'}],\n",
       "  [{'China': 'B-LOC'}],\n",
       "  [{'in': 'O'}],\n",
       "  [{'surprise': 'O'}],\n",
       "  [{'defeat': 'O'}],\n",
       "  [{'.': 'O'}]],\n",
       " [[{'Japan': [[-1.809,\n",
       "      -0.999,\n",
       "      -1.887,\n",
       "      -1.621,\n",
       "      -1.87,\n",
       "      -1.053,\n",
       "      -1.321,\n",
       "      10.01,\n",
       "      -1.172]]}],\n",
       "  [{'get': [[7.56,\n",
       "      -1.216,\n",
       "      -2.672,\n",
       "      -0.7104,\n",
       "      -2.744,\n",
       "      0.1635,\n",
       "      -1.798,\n",
       "      0.2208,\n",
       "      -2.457]]}],\n",
       "  [{'lucky': [[7.527,\n",
       "      0.476,\n",
       "      -2.424,\n",
       "      -0.34,\n",
       "      -2.709,\n",
       "      0.834,\n",
       "      -2.443,\n",
       "      -0.584,\n",
       "      -2.656]]}],\n",
       "  [{'win': [[10.625,\n",
       "      -0.761,\n",
       "      -1.624,\n",
       "      -1.28,\n",
       "      -2.604,\n",
       "      -0.4712,\n",
       "      -2.098,\n",
       "      -1.006,\n",
       "      -2.336]]}],\n",
       "  [{',': [[10.94,\n",
       "      -1.335,\n",
       "      -2.14,\n",
       "      -1.34,\n",
       "      -1.8125,\n",
       "      -1.393,\n",
       "      -2.057,\n",
       "      -0.953,\n",
       "      -1.838]]}],\n",
       "  [{'China': [[-1.933,\n",
       "      -0.926,\n",
       "      -1.806,\n",
       "      -1.662,\n",
       "      -1.662,\n",
       "      -1.479,\n",
       "      -1.323,\n",
       "      10.016,\n",
       "      -0.938]]}],\n",
       "  [{'in': [[10.47,\n",
       "      -0.954,\n",
       "      -1.397,\n",
       "      -1.547,\n",
       "      -2.186,\n",
       "      -1.525,\n",
       "      -1.704,\n",
       "      -1.017,\n",
       "      -1.801]]}],\n",
       "  [{'surprise': [[7.582,\n",
       "      0.2219,\n",
       "      -1.823,\n",
       "      -0.687,\n",
       "      -3.074,\n",
       "      -0.2355,\n",
       "      -2.734,\n",
       "      0.6196,\n",
       "      -2.229]]}],\n",
       "  [{'defeat': [[11.4,\n",
       "      -0.9893,\n",
       "      -1.233,\n",
       "      -1.665,\n",
       "      -2.14,\n",
       "      -1.273,\n",
       "      -1.73,\n",
       "      -1.344,\n",
       "      -1.638]]}],\n",
       "  [{'.': [[10.12,\n",
       "      -2.1,\n",
       "      -2.32,\n",
       "      -0.752,\n",
       "      -2.082,\n",
       "      -1.574,\n",
       "      -1.768,\n",
       "      -0.673,\n",
       "      -1.44]]}]])"
      ]
     },
     "execution_count": 27,
     "metadata": {},
     "output_type": "execute_result"
    }
   ],
   "source": [
    "model.predict(['Japan', 'get', 'lucky', 'win', ',', 'China', 'in', 'surprise', 'defeat', '.'])"
   ]
  },
  {
   "cell_type": "code",
   "execution_count": null,
   "metadata": {},
   "outputs": [],
   "source": []
  },
  {
   "cell_type": "code",
   "execution_count": null,
   "metadata": {},
   "outputs": [],
   "source": []
  },
  {
   "cell_type": "code",
   "execution_count": null,
   "metadata": {},
   "outputs": [],
   "source": []
  }
 ],
 "metadata": {
  "kernelspec": {
   "display_name": "simple",
   "language": "python",
   "name": "simple"
  },
  "language_info": {
   "codemirror_mode": {
    "name": "ipython",
    "version": 3
   },
   "file_extension": ".py",
   "mimetype": "text/x-python",
   "name": "python",
   "nbconvert_exporter": "python",
   "pygments_lexer": "ipython3",
   "version": "3.7.10"
  }
 },
 "nbformat": 4,
 "nbformat_minor": 2
}
