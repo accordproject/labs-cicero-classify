{
 "cells": [
  {
   "cell_type": "code",
   "execution_count": 7,
   "metadata": {},
   "outputs": [],
   "source": [
    "with open(\"./train.txt\") as f:\n",
    "    datas = f.readlines()"
   ]
  },
  {
   "cell_type": "code",
   "execution_count": 14,
   "metadata": {},
   "outputs": [],
   "source": [
    "for i in range(len(datas)):\n",
    "    data = datas[i].split(\" \")\n",
    "    try:\n",
    "        data[1] = \"_\"\n",
    "        data[2] = \"_\"\n",
    "    except:\n",
    "        pass\n",
    "\n",
    "    datas[i] = \" \".join(data)\n",
    "    "
   ]
  },
  {
   "cell_type": "code",
   "execution_count": 16,
   "metadata": {},
   "outputs": [],
   "source": [
    "with open(\"./train_without_part_of_speech.txt\", \"w\") as f:\n",
    "    f.writelines(datas)"
   ]
  },
  {
   "cell_type": "code",
   "execution_count": null,
   "metadata": {},
   "outputs": [],
   "source": []
  },
  {
   "cell_type": "code",
   "execution_count": 1,
   "metadata": {},
   "outputs": [
    {
     "data": {
      "application/vnd.jupyter.widget-view+json": {
       "model_id": "21ac7772bd53432e852bc51689c16694",
       "version_major": 2,
       "version_minor": 0
      },
      "text/plain": [
       "HBox(children=(FloatProgress(value=0.0, max=13.0), HTML(value='')))"
      ]
     },
     "metadata": {},
     "output_type": "display_data"
    },
    {
     "name": "stdout",
     "output_type": "stream",
     "text": [
      "\n"
     ]
    },
    {
     "data": {
      "application/vnd.jupyter.widget-view+json": {
       "model_id": "18b639c3358e48e8bf6f543e954f594e",
       "version_major": 2,
       "version_minor": 0
      },
      "text/plain": [
       "HBox(children=(FloatProgress(value=0.0, description='Epoch', max=3.0, style=ProgressStyle(description_width='i…"
      ]
     },
     "metadata": {},
     "output_type": "display_data"
    },
    {
     "data": {
      "application/vnd.jupyter.widget-view+json": {
       "model_id": "029cf2ee9a71449297ac7f3e73ab4dcd",
       "version_major": 2,
       "version_minor": 0
      },
      "text/plain": [
       "HBox(children=(FloatProgress(value=0.0, description='Running Epoch 0 of 3', max=281.0, style=ProgressStyle(des…"
      ]
     },
     "metadata": {},
     "output_type": "display_data"
    },
    {
     "name": "stdout",
     "output_type": "stream",
     "text": [
      "\n"
     ]
    },
    {
     "data": {
      "application/vnd.jupyter.widget-view+json": {
       "model_id": "0b5d009a26614513b6ff0083cf373a39",
       "version_major": 2,
       "version_minor": 0
      },
      "text/plain": [
       "HBox(children=(FloatProgress(value=0.0, description='Running Epoch 1 of 3', max=281.0, style=ProgressStyle(des…"
      ]
     },
     "metadata": {},
     "output_type": "display_data"
    },
    {
     "name": "stdout",
     "output_type": "stream",
     "text": [
      "\n"
     ]
    },
    {
     "data": {
      "application/vnd.jupyter.widget-view+json": {
       "model_id": "08afb9d00eea4cff9938b2a86da28af1",
       "version_major": 2,
       "version_minor": 0
      },
      "text/plain": [
       "HBox(children=(FloatProgress(value=0.0, description='Running Epoch 2 of 3', max=281.0, style=ProgressStyle(des…"
      ]
     },
     "metadata": {},
     "output_type": "display_data"
    },
    {
     "name": "stdout",
     "output_type": "stream",
     "text": [
      "\n",
      "\n",
      "It takes 273.46 seconds\n"
     ]
    }
   ],
   "source": [
    "import time\n",
    "time1 = time.time()\n",
    "\n",
    "from simpletransformers.ner import NERModel\n",
    "# Create a NERModel\n",
    "#model = NERModel('bert', 'bert-base-cased')\n",
    "model = NERModel('bert', 'dslim/bert-base-NER', args={\n",
    "    'learning_rate': 2e-5,\n",
    "    'overwrite_output_dir': True,\n",
    "    'reprocess_input_data': True,\n",
    "    'num_train_epochs': 3,\n",
    "    \"train_batch_size\": 50})\n",
    "model.train_model('./train_without_part_of_speech.txt')\n",
    "\n",
    "print(\"It takes %2.2f seconds\"%(time.time() - time1))"
   ]
  },
  {
   "cell_type": "code",
   "execution_count": 5,
   "metadata": {},
   "outputs": [
    {
     "data": {
      "application/vnd.jupyter.widget-view+json": {
       "model_id": "a406e24444d34a1aa10ca7438a6a2dee",
       "version_major": 2,
       "version_minor": 0
      },
      "text/plain": [
       "HBox(children=(FloatProgress(value=0.0, max=13.0), HTML(value='')))"
      ]
     },
     "metadata": {},
     "output_type": "display_data"
    },
    {
     "name": "stdout",
     "output_type": "stream",
     "text": [
      "\n"
     ]
    },
    {
     "data": {
      "application/vnd.jupyter.widget-view+json": {
       "model_id": "894c9da8cebc41bfb0c82d0fe669cae0",
       "version_major": 2,
       "version_minor": 0
      },
      "text/plain": [
       "HBox(children=(FloatProgress(value=0.0, description='Running Evaluation', max=1756.0, style=ProgressStyle(desc…"
      ]
     },
     "metadata": {},
     "output_type": "display_data"
    },
    {
     "name": "stdout",
     "output_type": "stream",
     "text": [
      "\n",
      "{'eval_loss': 0.0005456181911136635, 'precision': 0.9990639492830703, 'recall': 0.9992340099578706, 'f1_score': 0.9991489723841539}\n"
     ]
    }
   ],
   "source": [
    "results, model_outputs, predictions = model.eval_model('train_without_part_of_speech.txt')\n",
    "print(results)"
   ]
  },
  {
   "cell_type": "code",
   "execution_count": 6,
   "metadata": {},
   "outputs": [
    {
     "data": {
      "application/vnd.jupyter.widget-view+json": {
       "model_id": "ca4ee63cdc194af694757291a3cac9d8",
       "version_major": 2,
       "version_minor": 0
      },
      "text/plain": [
       "HBox(children=(FloatProgress(value=0.0, max=7.0), HTML(value='')))"
      ]
     },
     "metadata": {},
     "output_type": "display_data"
    },
    {
     "name": "stdout",
     "output_type": "stream",
     "text": [
      "\n"
     ]
    },
    {
     "data": {
      "application/vnd.jupyter.widget-view+json": {
       "model_id": "7e336d7dd5e347c6bb9bb5761ea2c732",
       "version_major": 2,
       "version_minor": 0
      },
      "text/plain": [
       "HBox(children=(FloatProgress(value=0.0, description='Running Evaluation', max=432.0, style=ProgressStyle(descr…"
      ]
     },
     "metadata": {},
     "output_type": "display_data"
    },
    {
     "name": "stdout",
     "output_type": "stream",
     "text": [
      "\n",
      "{'eval_loss': 0.1556957341088163, 'precision': 0.9027995131281517, 'recall': 0.9199149539333806, 'f1_score': 0.9112768758227293}\n"
     ]
    }
   ],
   "source": [
    "results, model_outputs, predictions = model.eval_model('test.txt')\n",
    "print(results)"
   ]
  },
  {
   "cell_type": "code",
   "execution_count": 8,
   "metadata": {},
   "outputs": [
    {
     "data": {
      "text/plain": [
       "{'eval_loss': 0.14483236150355996,\n",
       " 'precision': 0.903732124171608,\n",
       " 'recall': 0.9181431608788093,\n",
       " 'f1_score': 0.9108806468623659}"
      ]
     },
     "execution_count": 8,
     "metadata": {},
     "output_type": "execute_result"
    }
   ],
   "source": [
    "results"
   ]
  },
  {
   "cell_type": "code",
   "execution_count": null,
   "metadata": {},
   "outputs": [],
   "source": [
    "predictions[0]"
   ]
  },
  {
   "cell_type": "code",
   "execution_count": null,
   "metadata": {},
   "outputs": [],
   "source": [
    "results"
   ]
  },
  {
   "cell_type": "code",
   "execution_count": null,
   "metadata": {},
   "outputs": [],
   "source": [
    "results, model_outputs, predictions = model.eval_model('train.txt')"
   ]
  },
  {
   "cell_type": "code",
   "execution_count": 9,
   "metadata": {},
   "outputs": [
    {
     "data": {
      "application/vnd.jupyter.widget-view+json": {
       "model_id": "5ce35d6cbd5d405d927e9d10a12cace0",
       "version_major": 2,
       "version_minor": 0
      },
      "text/plain": [
       "HBox(children=(FloatProgress(value=0.0, max=1.0), HTML(value='')))"
      ]
     },
     "metadata": {},
     "output_type": "display_data"
    },
    {
     "name": "stdout",
     "output_type": "stream",
     "text": [
      "\n"
     ]
    },
    {
     "data": {
      "application/vnd.jupyter.widget-view+json": {
       "model_id": "c21a89755526479c84fe41acd0169dc9",
       "version_major": 2,
       "version_minor": 0
      },
      "text/plain": [
       "HBox(children=(FloatProgress(value=0.0, description='Running Prediction', max=2.0, style=ProgressStyle(descrip…"
      ]
     },
     "metadata": {},
     "output_type": "display_data"
    },
    {
     "name": "stdout",
     "output_type": "stream",
     "text": [
      "\n"
     ]
    },
    {
     "data": {
      "text/plain": [
       "([[{'EU': 'B-ORG'}],\n",
       "  [{'rejects': 'O'}],\n",
       "  [{'German': 'B-MISC'}],\n",
       "  [{'call': 'O'}],\n",
       "  [{'to': 'O'}],\n",
       "  [{'boycott': 'O'}],\n",
       "  [{'British': 'B-MISC'}],\n",
       "  [{'lamb': 'O'}],\n",
       "  [{'.': 'O'}]],\n",
       " [[{'EU': [[-0.7246,\n",
       "      0.9663,\n",
       "      -1.623,\n",
       "      -2.24,\n",
       "      -2.59,\n",
       "      8.06,\n",
       "      -1.602,\n",
       "      1.802,\n",
       "      -2.412]]}],\n",
       "  [{'rejects': [[10.57,\n",
       "      -1.145,\n",
       "      -1.309,\n",
       "      -1.451,\n",
       "      -2.31,\n",
       "      -0.503,\n",
       "      -1.676,\n",
       "      -1.527,\n",
       "      -2.146]]}],\n",
       "  [{'German': [[-0.851,\n",
       "      9.97,\n",
       "      0.0775,\n",
       "      -1.88,\n",
       "      -1.233,\n",
       "      -1.158,\n",
       "      -2.158,\n",
       "      -1.236,\n",
       "      -1.658]]}],\n",
       "  [{'call': [[8.36,\n",
       "      -0.6646,\n",
       "      -3.146,\n",
       "      -1.159,\n",
       "      -2.521,\n",
       "      0.1783,\n",
       "      -1.851,\n",
       "      0.563,\n",
       "      -2.443]]}],\n",
       "  [{'to': [[9.82,\n",
       "      -1.398,\n",
       "      -1.682,\n",
       "      -1.558,\n",
       "      -2.31,\n",
       "      -0.715,\n",
       "      -1.443,\n",
       "      -1.295,\n",
       "      -1.885]]}],\n",
       "  [{'boycott': [[9.97,\n",
       "      -0.2603,\n",
       "      -1.834,\n",
       "      -1.294,\n",
       "      -2.922,\n",
       "      -0.179,\n",
       "      -1.886,\n",
       "      -0.833,\n",
       "      -2.557]]}],\n",
       "  [{'British': [[-1.728,\n",
       "      9.87,\n",
       "      0.1504,\n",
       "      -1.996,\n",
       "      -1.415,\n",
       "      -0.6777,\n",
       "      -2.238,\n",
       "      -1.138,\n",
       "      -1.767]]}],\n",
       "  [{'lamb': [[10.11,\n",
       "      -0.86,\n",
       "      -1.822,\n",
       "      -1.089,\n",
       "      -3.107,\n",
       "      -1.112,\n",
       "      -1.332,\n",
       "      -1.417,\n",
       "      -1.683],\n",
       "     [9.24, -0.345, -1.399, -2.193, -2.3, -1.482, -1.508, -1.287, -1.533]]}],\n",
       "  [{'.': [[9.6,\n",
       "      -2.023,\n",
       "      -2.51,\n",
       "      -0.2957,\n",
       "      -2.197,\n",
       "      -1.175,\n",
       "      -1.953,\n",
       "      -0.549,\n",
       "      -1.653]]}]])"
      ]
     },
     "execution_count": 9,
     "metadata": {},
     "output_type": "execute_result"
    }
   ],
   "source": [
    "model.predict(['EU', 'rejects', 'German', 'call', 'to', 'boycott', 'British', 'lamb', '.',])"
   ]
  },
  {
   "cell_type": "code",
   "execution_count": 10,
   "metadata": {},
   "outputs": [
    {
     "data": {
      "application/vnd.jupyter.widget-view+json": {
       "model_id": "12ebdd877b1d4951b870227dd6e83c16",
       "version_major": 2,
       "version_minor": 0
      },
      "text/plain": [
       "HBox(children=(FloatProgress(value=0.0, max=1.0), HTML(value='')))"
      ]
     },
     "metadata": {},
     "output_type": "display_data"
    },
    {
     "name": "stdout",
     "output_type": "stream",
     "text": [
      "\n"
     ]
    },
    {
     "data": {
      "application/vnd.jupyter.widget-view+json": {
       "model_id": "9e531bb08b6e43d48203af60ebde73b1",
       "version_major": 2,
       "version_minor": 0
      },
      "text/plain": [
       "HBox(children=(FloatProgress(value=0.0, description='Running Prediction', max=2.0, style=ProgressStyle(descrip…"
      ]
     },
     "metadata": {},
     "output_type": "display_data"
    },
    {
     "name": "stdout",
     "output_type": "stream",
     "text": [
      "\n"
     ]
    },
    {
     "data": {
      "text/plain": [
       "([[{'Japan': 'B-LOC'}],\n",
       "  [{'get': 'O'}],\n",
       "  [{'lucky': 'O'}],\n",
       "  [{'win': 'O'}],\n",
       "  [{',': 'O'}],\n",
       "  [{'China': 'B-LOC'}],\n",
       "  [{'in': 'O'}],\n",
       "  [{'surprise': 'O'}],\n",
       "  [{'defeat': 'O'}],\n",
       "  [{'.': 'O'}]],\n",
       " [[{'Japan': [[-1.743,\n",
       "      -1.238,\n",
       "      -1.799,\n",
       "      -1.82,\n",
       "      -1.852,\n",
       "      -0.966,\n",
       "      -1.12,\n",
       "      10.06,\n",
       "      -0.941]]}],\n",
       "  [{'get': [[7.363,\n",
       "      -1.252,\n",
       "      -2.742,\n",
       "      -0.525,\n",
       "      -2.602,\n",
       "      0.761,\n",
       "      -1.56,\n",
       "      -0.002,\n",
       "      -2.79]]}],\n",
       "  [{'lucky': [[7.4,\n",
       "      0.8564,\n",
       "      -2.467,\n",
       "      -0.3347,\n",
       "      -2.717,\n",
       "      0.927,\n",
       "      -2.455,\n",
       "      -0.7046,\n",
       "      -2.805]]}],\n",
       "  [{'win': [[10.29,\n",
       "      -0.8433,\n",
       "      -1.835,\n",
       "      -1.146,\n",
       "      -2.436,\n",
       "      -0.205,\n",
       "      -1.934,\n",
       "      -0.9844,\n",
       "      -2.514]]}],\n",
       "  [{',': [[10.734,\n",
       "      -1.258,\n",
       "      -2.373,\n",
       "      -1.148,\n",
       "      -1.887,\n",
       "      -1.11,\n",
       "      -2.062,\n",
       "      -1.038,\n",
       "      -2.123]]}],\n",
       "  [{'China': [[-1.892,\n",
       "      -1.267,\n",
       "      -1.713,\n",
       "      -1.873,\n",
       "      -1.662,\n",
       "      -1.444,\n",
       "      -1.102,\n",
       "      10.06,\n",
       "      -0.5566]]}],\n",
       "  [{'in': [[10.23,\n",
       "      -0.8965,\n",
       "      -1.567,\n",
       "      -1.348,\n",
       "      -2.098,\n",
       "      -1.376,\n",
       "      -1.689,\n",
       "      -1.067,\n",
       "      -2.04]]}],\n",
       "  [{'surprise': [[7.7,\n",
       "      0.3252,\n",
       "      -2.023,\n",
       "      -0.6733,\n",
       "      -3.113,\n",
       "      0.1393,\n",
       "      -2.719,\n",
       "      0.5273,\n",
       "      -2.396]]}],\n",
       "  [{'defeat': [[11.08,\n",
       "      -1.076,\n",
       "      -1.356,\n",
       "      -1.486,\n",
       "      -2.068,\n",
       "      -1.118,\n",
       "      -1.704,\n",
       "      -1.342,\n",
       "      -1.855]]}],\n",
       "  [{'.': [[9.6,\n",
       "      -2.023,\n",
       "      -2.51,\n",
       "      -0.2961,\n",
       "      -2.197,\n",
       "      -1.175,\n",
       "      -1.952,\n",
       "      -0.5493,\n",
       "      -1.653]]}]])"
      ]
     },
     "execution_count": 10,
     "metadata": {},
     "output_type": "execute_result"
    }
   ],
   "source": [
    "model.predict(['Japan', 'get', 'lucky', 'win', ',', 'China', 'in', 'surprise', 'defeat', '.'])"
   ]
  },
  {
   "cell_type": "code",
   "execution_count": null,
   "metadata": {},
   "outputs": [],
   "source": []
  },
  {
   "cell_type": "code",
   "execution_count": null,
   "metadata": {},
   "outputs": [],
   "source": []
  },
  {
   "cell_type": "code",
   "execution_count": null,
   "metadata": {},
   "outputs": [],
   "source": []
  }
 ],
 "metadata": {
  "kernelspec": {
   "display_name": "simple",
   "language": "python",
   "name": "simple"
  },
  "language_info": {
   "codemirror_mode": {
    "name": "ipython",
    "version": 3
   },
   "file_extension": ".py",
   "mimetype": "text/x-python",
   "name": "python",
   "nbconvert_exporter": "python",
   "pygments_lexer": "ipython3",
   "version": "3.7.10"
  }
 },
 "nbformat": 4,
 "nbformat_minor": 2
}
